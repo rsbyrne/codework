{
 "cells": [
  {
   "cell_type": "code",
   "execution_count": 103,
   "metadata": {},
   "outputs": [],
   "source": [
    "import planetengine\n",
    "from matplotlib import pyplot as plt\n",
    "import numpy as np\n",
    "import scipy as sp"
   ]
  },
  {
   "cell_type": "code",
   "execution_count": 21,
   "metadata": {},
   "outputs": [],
   "source": [
    "reader = planetengine.Reader('iso', 'workspace/tests_190313')"
   ]
  },
  {
   "cell_type": "code",
   "execution_count": 23,
   "metadata": {},
   "outputs": [
    {
     "data": {
      "text/plain": [
       "{'eaqaiblii-keeflkey/freq': 6.0,\n",
       " 'eaqaiblii-keeflkey/pert': 0.2,\n",
       " 'eaqaiblii-keeflkey/phase': 0.0,\n",
       " 'raagteust-puosmkleis/aspectKey': 'aspect',\n",
       " 'raagteust-puosmkleis/diffKey': 'diffusivityFn',\n",
       " 'raagteust-puosmkleis/fluxKey': 'flux',\n",
       " 'raagteust-puosmkleis/heatingKey': 'heatingFn',\n",
       " 'raagteust-puosmkleis/observee': 'sciafrtseasc-aaklskuod',\n",
       " 'raagteust-puosmkleis/plasticViscKey': 'plasticViscFn',\n",
       " 'raagteust-puosmkleis/pressureKey': 'pressureField',\n",
       " 'raagteust-puosmkleis/tempKey': 'temperatureField',\n",
       " 'raagteust-puosmkleis/vcKey': 'vc',\n",
       " 'raagteust-puosmkleis/velKey': 'velocityField',\n",
       " 'raagteust-puosmkleis/viscKey': 'viscosityFn',\n",
       " 'sciafrtseasc-aaklskuod/H': 0.0,\n",
       " 'sciafrtseasc-aaklskuod/alpha': 1000000.0,\n",
       " 'sciafrtseasc-aaklskuod/aspect': 3.0,\n",
       " 'sciafrtseasc-aaklskuod/courant': 1.0,\n",
       " 'sciafrtseasc-aaklskuod/eta': 1.0,\n",
       " 'sciafrtseasc-aaklskuod/f': 1.0,\n",
       " 'sciafrtseasc-aaklskuod/flux': None,\n",
       " 'sciafrtseasc-aaklskuod/innerMethod': 'lu',\n",
       " 'sciafrtseasc-aaklskuod/innerTol': None,\n",
       " 'sciafrtseasc-aaklskuod/kappa': 1.0,\n",
       " 'sciafrtseasc-aaklskuod/mgLevels': None,\n",
       " 'sciafrtseasc-aaklskuod/outerTol': None,\n",
       " 'sciafrtseasc-aaklskuod/penalty': None,\n",
       " 'sciafrtseasc-aaklskuod/res': 32,\n",
       " 'sciafrtseasc-aaklskuod/temperatureDotField': None,\n",
       " 'sciafrtseasc-aaklskuod/temperatureField': 'eaqaiblii-keeflkey'}"
      ]
     },
     "execution_count": 23,
     "metadata": {},
     "output_type": "execute_result"
    }
   ],
   "source": [
    "reader['*', 'inputs']"
   ]
  },
  {
   "cell_type": "code",
   "execution_count": 24,
   "metadata": {},
   "outputs": [],
   "source": [
    "chrons = reader['raagteust-puosmkleis', 'outputs', 'chron']\n",
    "Nus = reader['raagteust-puosmkleis', 'outputs', 'Nu']"
   ]
  },
  {
   "cell_type": "code",
   "execution_count": 128,
   "metadata": {},
   "outputs": [],
   "source": [
    "sampleFactor = 10\n",
    "ichrons = np.linspace(np.min(chrons), np.max(chrons), round(len(chrons) * sampleFactor))\n",
    "iNus = sp.interpolate.interp1d(chrons, Nus, kind = 'cubic')(ichrons)"
   ]
  },
  {
   "cell_type": "code",
   "execution_count": 129,
   "metadata": {},
   "outputs": [
    {
     "data": {
      "text/plain": [
       "[<matplotlib.lines.Line2D at 0x7ff9d9426438>]"
      ]
     },
     "execution_count": 129,
     "metadata": {},
     "output_type": "execute_result"
    },
    {
     "data": {
      "image/png": "[encoded data removed]",
      "text/plain": [
       "<Figure size 432x288 with 1 Axes>"
      ]
     },
     "metadata": {
      "needs_background": "light"
     },
     "output_type": "display_data"
    }
   ],
   "source": [
    "plt.plot(ichrons, iNus)"
   ]
  },
  {
   "cell_type": "code",
   "execution_count": 130,
   "metadata": {},
   "outputs": [],
   "source": [
    "data = iNus\n",
    "length = len(data)\n",
    "av = np.average(data)\n",
    "norm = (data - av) / av\n",
    "fft = (np.fft.fft(norm) / length)[range(int(length / 2))]\n",
    "values = np.arange(int(length / 2))\n",
    "samplingFrequency = ichrons[1] - ichrons[0]\n",
    "timePeriod = length / samplingFrequency\n",
    "freqs = values / timePeriod"
   ]
  },
  {
   "cell_type": "code",
   "execution_count": 134,
   "metadata": {
    "scrolled": true
   },
   "outputs": [
    {
     "data": {
      "text/plain": [
       "[<matplotlib.lines.Line2D at 0x7ff9d9357630>]"
      ]
     },
     "execution_count": 134,
     "metadata": {},
     "output_type": "execute_result"
    },
    {
     "data": {
      "image/png": "[encoded data removed]",
      "text/plain": [
       "<Figure size 432x288 with 1 Axes>"
      ]
     },
     "metadata": {
      "needs_background": "light"
     },
     "output_type": "display_data"
    }
   ],
   "source": [
    "plt.plot(np.log10(freqs[1:]), np.log10(abs(fft)[1:]))"
   ]
  },
  {
   "cell_type": "code",
   "execution_count": 69,
   "metadata": {},
   "outputs": [
    {
     "data": {
      "text/plain": [
       "(0.018383961428380526-0.0029394925287629819j)"
      ]
     },
     "execution_count": 69,
     "metadata": {},
     "output_type": "execute_result"
    }
   ],
   "source": [
    "fft[1]"
   ]
  },
  {
   "cell_type": "code",
   "execution_count": 34,
   "metadata": {},
   "outputs": [],
   "source": [
    "# data = iNus\n",
    "# av = np.average(data)\n",
    "# norm = (data - av) / av\n",
    "# power = np.abs(np.fft.rfft(norm)).real\n",
    "# freqScale = ichrons[-1] / len(iNus)\n",
    "# freq = np.fft.rfftfreq(norm.size, 1. / (2. * power.size)) * freqScale"
   ]
  },
  {
   "cell_type": "code",
   "execution_count": null,
   "metadata": {},
   "outputs": [],
   "source": [
    "# plt.plot(freq, sp)"
   ]
  }
 ],
 "metadata": {
  "kernelspec": {
   "display_name": "Python 3",
   "language": "python",
   "name": "python3"
  },
  "language_info": {
   "codemirror_mode": {
    "name": "ipython",
    "version": 3
   },
   "file_extension": ".py",
   "mimetype": "text/x-python",
   "name": "python",
   "nbconvert_exporter": "python",
   "pygments_lexer": "ipython3",
   "version": "3.5.3"
  }
 },
 "nbformat": 4,
 "nbformat_minor": 2
}
