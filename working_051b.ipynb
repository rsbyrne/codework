{
 "cells": [
  {
   "cell_type": "code",
   "execution_count": 3,
   "metadata": {},
   "outputs": [
    {
     "ename": "NameError",
     "evalue": "name 'breakpoint' is not defined",
     "output_type": "error",
     "traceback": [
      "\u001b[0;31m---------------------------------------------------------------------------\u001b[0m",
      "\u001b[0;31mNameError\u001b[0m                                 Traceback (most recent call last)",
      "\u001b[0;32m<ipython-input-3-dc1edc8e2d97>\u001b[0m in \u001b[0;36m<module>\u001b[0;34m\u001b[0m\n\u001b[0;32m----> 1\u001b[0;31m \u001b[0mbreakpoint\u001b[0m\u001b[0;34m\u001b[0m\u001b[0m\n\u001b[0m",
      "\u001b[0;31mNameError\u001b[0m: name 'breakpoint' is not defined"
     ]
    }
   ],
   "source": [
    "breakpoint"
   ]
  },
  {
   "cell_type": "code",
   "execution_count": 2,
   "metadata": {},
   "outputs": [],
   "source": [
    "import pdb"
   ]
  },
  {
   "cell_type": "code",
   "execution_count": 4,
   "metadata": {},
   "outputs": [
    {
     "ename": "AttributeError",
     "evalue": "module 'pdb' has no attribute 'breakpoint'",
     "output_type": "error",
     "traceback": [
      "\u001b[0;31m---------------------------------------------------------------------------\u001b[0m",
      "\u001b[0;31mAttributeError\u001b[0m                            Traceback (most recent call last)",
      "\u001b[0;32m<ipython-input-4-e178c6de1f22>\u001b[0m in \u001b[0;36m<module>\u001b[0;34m\u001b[0m\n\u001b[0;32m----> 1\u001b[0;31m \u001b[0mpdb\u001b[0m\u001b[0;34m.\u001b[0m\u001b[0mbreakpoint\u001b[0m\u001b[0;34m\u001b[0m\u001b[0m\n\u001b[0m",
      "\u001b[0;31mAttributeError\u001b[0m: module 'pdb' has no attribute 'breakpoint'"
     ]
    }
   ],
   "source": [
    "pdb.breakpoint"
   ]
  },
  {
   "cell_type": "code",
   "execution_count": 1,
   "metadata": {
    "scrolled": true
   },
   "outputs": [
    {
     "name": "stdout",
     "output_type": "stream",
     "text": [
      "Making a new frame...\n",
      "Building model...\n",
      "Fitted 1 variables to the figure.\n",
      "Initialising...\n",
      "Updating...\n",
      "Updated.\n",
      "Initialisation complete!\n",
      "Making a local archive...\n",
      "Nothing to archive yet!\n",
      "Frame built!\n",
      "Iterating step 0 ...\n",
      "Iteration complete!\n",
      "Collecting...\n",
      "Collecting complete!\n",
      "No pre-existing directory for this model found. Making a new one...\n",
      "Checkpointing...\n",
      "Making checkpoint directory.\n",
      "Saving figures...\n",
      "Figures saved.\n",
      "Saving vars of state...\n",
      "Saving substrate to disk: mesh\n",
      "Saving var to disk: temperatureField\n",
      "Saved.\n",
      "Saving snapshot...\n",
      "Snapshot saved.\n",
      "Saving datasets...\n",
      "Datasets saved.\n",
      "Checkpointed!\n",
      "Clearing all data...\n",
      "All data cleared!\n",
      "Making a local archive...\n",
      "Archiving...\n",
      "Deleting model directory...\n",
      "Model directory deleted.\n",
      "Archived!\n",
      "Making a backup...\n",
      "Forking model to new directory...\n",
      "Model forked to directory: /home/jovyan/workspace/out/test/backup\n",
      "Backup saved.\n",
      "Unarchiving the local archive...\n",
      "Unarchiving...\n",
      "Unarchiving the local archive...\n",
      "Deleting archive...\n",
      "Model archive deleted.\n",
      "Unarchived!\n",
      "{'frameType': 'pemod'}\n",
      "<class 'dict'>\n",
      "pemod\n",
      "{'pemod': <class 'planetengine.model.Model'>}\n",
      "<class 'planetengine.model.Model'>\n",
      "Building model...\n",
      "Fitted 1 variables to the figure.\n",
      "Initialising...\n",
      "Updating...\n",
      "Updated.\n",
      "Initialisation complete!\n",
      "Found checkpoint: 00000001\n",
      "Making a local archive...\n",
      "Archiving...\n",
      "Deleting model directory...\n",
      "Model directory deleted.\n",
      "Archived!\n",
      "Frame built!\n",
      "Collecting...\n",
      "Collecting complete!\n",
      "Unarchiving the local archive...\n",
      "Unarchiving...\n",
      "Unarchiving the local archive...\n",
      "Deleting archive...\n",
      "Model archive deleted.\n",
      "Unarchived!\n",
      "Pre-existing directory for this model has been found. Continuing...\n",
      "Checkpointing...\n",
      "Making checkpoint directory.\n",
      "Saving figures...\n",
      "Figures saved.\n",
      "Saving vars of state...\n",
      "Saving substrate to disk: mesh\n",
      "Saving var to disk: temperatureField\n",
      "Saved.\n",
      "Saving snapshot...\n",
      "Snapshot saved.\n",
      "Saving datasets...\n",
      "Datasets saved.\n",
      "Checkpointed!\n",
      "Clearing all data...\n",
      "All data cleared!\n",
      "Making a local archive...\n",
      "Archiving...\n",
      "Deleting model directory...\n",
      "Model directory deleted.\n",
      "Archived!\n",
      "Making a backup...\n",
      "Forking model to new directory...\n",
      "Model forked to directory: /home/jovyan/workspace/out/test/backup\n",
      "Backup saved.\n",
      "Iterating step 0 ...\n",
      "Iteration complete!\n",
      "Collecting...\n",
      "Collecting complete!\n",
      "Unarchiving the local archive...\n",
      "Unarchiving...\n",
      "Unarchiving the local archive...\n",
      "Deleting archive...\n",
      "Model archive deleted.\n",
      "Unarchived!\n",
      "Checkpoint already exists! Skipping.\n",
      "Clearing all data...\n",
      "All data cleared!\n",
      "Making a local archive...\n",
      "Archiving...\n",
      "Deleting model directory...\n",
      "Model directory deleted.\n",
      "Archived!\n",
      "Making a backup...\n",
      "Forking model to new directory...\n",
      "Model forked to directory: /home/jovyan/workspace/out/test/backup\n",
      "Backup saved.\n",
      "\n",
      "Step: 1, modeltime: 0.000556\n",
      "Variable_varName=anon{}\n"
     ]
    },
    {
     "data": {
      "text/html": [
       "<img src='data:image/png;base64,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'>"
      ],
      "text/plain": [
       "<IPython.core.display.HTML object>"
      ]
     },
     "metadata": {},
     "output_type": "display_data"
    }
   ],
   "source": [
    "import sys\n",
    "workPath = '/home/jovyan/workspace'\n",
    "if not workPath in sys.path:\n",
    "    sys.path.append(workPath)\n",
    "\n",
    "import planetengine\n",
    "\n",
    "planetengine.paths.delete_testdir()\n",
    "\n",
    "system = planetengine.systems.arrhenius.build(\n",
    "    planetengine.systems.isovisc.build(),\n",
    "    Ra = 3e5,\n",
    "    res = 16,\n",
    "    f = 0.5\n",
    "    )\n",
    "initials = {\n",
    "    'temperatureField': planetengine.initials.sinusoidal.build(\n",
    "        planetengine.initials.sinusoidal.build(\n",
    "            freq = 2,\n",
    "            pert = 0.4\n",
    "            )\n",
    "        )\n",
    "    }\n",
    "\n",
    "model = planetengine.model.make_model(\n",
    "    system,\n",
    "    initials,\n",
    "    outputPath = planetengine.paths.testPath\n",
    "    )\n",
    "\n",
    "model.iterate()\n",
    "\n",
    "model.checkpoint()\n",
    "\n",
    "model.unarchive()\n",
    "\n",
    "model2 = planetengine.frame.load_frame(planetengine.paths.testPath, model.instanceID)\n",
    "\n",
    "model2.checkpoint()\n",
    "\n",
    "model2.iterate()\n",
    "\n",
    "model2.checkpoint()\n",
    "\n",
    "model2.report()"
   ]
  }
 ],
 "metadata": {
  "kernelspec": {
   "display_name": "Python 3",
   "language": "python",
   "name": "python3"
  },
  "language_info": {
   "codemirror_mode": {
    "name": "ipython",
    "version": 3
   },
   "file_extension": ".py",
   "mimetype": "text/x-python",
   "name": "python",
   "nbconvert_exporter": "python",
   "pygments_lexer": "ipython3",
   "version": "3.5.3"
  }
 },
 "nbformat": 4,
 "nbformat_minor": 2
}
