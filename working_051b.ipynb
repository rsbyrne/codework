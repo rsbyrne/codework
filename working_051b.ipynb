{
 "cells": [
  {
   "cell_type": "code",
   "execution_count": 1,
   "metadata": {
    "scrolled": true
   },
   "outputs": [
    {
     "name": "stdout",
     "output_type": "stream",
     "text": [
      "Making a new frame...\n",
      "Building model...\n",
      "Fitted 1 variables to the figure.\n",
      "Initialising...\n",
      "Initialisation complete!\n",
      "Making a local archive...\n",
      "Nothing to archive yet!\n",
      "Frame built!\n",
      "Iterating step 0 ...\n",
      "Iteration complete!\n",
      "Collecting...\n",
      "Collecting complete!\n",
      "No pre-existing directory for this model found. Making a new one...\n",
      "Checkpointing...\n",
      "Making checkpoint directory.\n",
      "Saving figures...\n",
      "Figures saved.\n",
      "Saving vars of state...\n",
      "Saving substrate to disk: mesh\n",
      "Saving var to disk: temperatureField\n",
      "Saved.\n",
      "Saving snapshot...\n",
      "Snapshot saved.\n",
      "Saving datasets...\n",
      "Datasets saved.\n",
      "Checkpointed!\n",
      "Clearing all data...\n",
      "All data cleared!\n",
      "Making a local archive...\n",
      "Archiving...\n",
      "Deleting model directory...\n",
      "Model directory deleted.\n",
      "Archived!\n",
      "Making a backup...\n",
      "Forking model to new directory...\n",
      "Model forked to directory: /home/jovyan/workspace/out/test/backup\n",
      "Backup saved.\n",
      "/home/jovyan/workspace/out/test/pemod_calcinatory-oophoron\n",
      "Tar found - unarchiving...\n",
      "Unarchived.\n",
      "Building model...\n",
      "Fitted 1 variables to the figure.\n",
      "Initialising...\n",
      "Initialisation complete!\n",
      "Found checkpoint: 00000001\n",
      "Making a local archive...\n",
      "Archiving...\n",
      "Deleting model directory...\n",
      "Model directory deleted.\n",
      "Archived!\n",
      "Frame built!\n"
     ]
    }
   ],
   "source": [
    "import sys\n",
    "workPath = '/home/jovyan/workspace'\n",
    "if not workPath in sys.path:\n",
    "    sys.path.append(workPath)\n",
    "\n",
    "import planetengine\n",
    "\n",
    "planetengine.paths.delete_testdir()\n",
    "\n",
    "system = planetengine.systems.arrhenius.build(\n",
    "    planetengine.systems.isovisc.build(),\n",
    "    Ra = 3e5,\n",
    "    res = 16,\n",
    "    f = 0.5\n",
    "    )\n",
    "initials = {\n",
    "    'temperatureField': planetengine.initials.sinusoidal.build(\n",
    "        planetengine.initials.sinusoidal.build(\n",
    "            freq = 2,\n",
    "            pert = 0.4\n",
    "            )\n",
    "        )\n",
    "    }\n",
    "\n",
    "model = planetengine.model.make_model(\n",
    "    system,\n",
    "    initials,\n",
    "    outputPath = planetengine.paths.testPath\n",
    "    )\n",
    "\n",
    "model.iterate()\n",
    "\n",
    "model.checkpoint()\n",
    "\n",
    "model2 = planetengine.frame.load_frame(planetengine.paths.testPath, model.instanceID)"
   ]
  },
  {
   "cell_type": "code",
   "execution_count": 2,
   "metadata": {},
   "outputs": [
    {
     "name": "stdout",
     "output_type": "stream",
     "text": [
      "\n",
      "Step: 0, modeltime: 0\n",
      "Variable_varName=anon{}\n"
     ]
    },
    {
     "data": {
      "text/html": [
       "<img src='data:image/png;base64,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'>"
      ],
      "text/plain": [
       "<IPython.core.display.HTML object>"
      ]
     },
     "metadata": {},
     "output_type": "display_data"
    }
   ],
   "source": [
    "model2.report()"
   ]
  },
  {
   "cell_type": "code",
   "execution_count": 5,
   "metadata": {},
   "outputs": [],
   "source": [
    "model2.system.locals.solve()"
   ]
  },
  {
   "cell_type": "code",
   "execution_count": 8,
   "metadata": {},
   "outputs": [
    {
     "data": {
      "text/plain": [
       "<planetengine.visualisation.QuickFig at 0x7fd123049668>"
      ]
     },
     "execution_count": 8,
     "metadata": {},
     "output_type": "execute_result"
    }
   ],
   "source": [
    "model2.figs[0]"
   ]
  },
  {
   "cell_type": "code",
   "execution_count": 9,
   "metadata": {},
   "outputs": [
    {
     "data": {
      "text/plain": [
       "{'all': ['4be6c39c3e83bef38ab0a5473197f829', 'calcinatory-oophoron'],\n",
       " 'system': {'all': ['e4706b7e0987e25abb3700585ed352f7', 'wayne-manikchari'],\n",
       "  'inputs': ['dcae1490e5f3f8f247166845170a3043', 'beggable-souchongs'],\n",
       "  'scripts': ['d4ecf1c92575e2e229681ad18522bbf5', 'boskier-nesselrode']},\n",
       " 'temperatureField': {'all': ['543f670569abac010fcdd1f4fbaca4a0',\n",
       "   'spinule-semivowels'],\n",
       "  'inputs': ['f21e797de1d3c7162084a971a5f6b99f', 'outwardly-funfest'],\n",
       "  'scripts': ['3a117dbb4556b55b7b5f671aa8a649e9',\n",
       "   'afzalpur-unaccessibleness']}}"
      ]
     },
     "execution_count": 9,
     "metadata": {},
     "output_type": "execute_result"
    }
   ],
   "source": [
    "{'temperatureField': {'inputs': ['f21e797de1d3c7162084a971a5f6b99f', 'outwardly-funfest'], 'all': ['543f670569abac010fcdd1f4fbaca4a0', 'spinule-semivowels'], 'scripts': ['3a117dbb4556b55b7b5f671aa8a649e9', 'afzalpur-unaccessibleness']}, 'all': ['4be6c39c3e83bef38ab0a5473197f829', 'calcinatory-oophoron'], 'system': {'inputs': ['dcae1490e5f3f8f247166845170a3043', 'beggable-souchongs'], 'all': ['e4706b7e0987e25abb3700585ed352f7', 'wayne-manikchari'], 'scripts': ['d4ecf1c92575e2e229681ad18522bbf5', 'boskier-nesselrode']}}"
   ]
  },
  {
   "cell_type": "code",
   "execution_count": null,
   "metadata": {},
   "outputs": [],
   "source": []
  }
 ],
 "metadata": {
  "kernelspec": {
   "display_name": "Python 3",
   "language": "python",
   "name": "python3"
  },
  "language_info": {
   "codemirror_mode": {
    "name": "ipython",
    "version": 3
   },
   "file_extension": ".py",
   "mimetype": "text/x-python",
   "name": "python",
   "nbconvert_exporter": "python",
   "pygments_lexer": "ipython3",
   "version": "3.5.3"
  }
 },
 "nbformat": 4,
 "nbformat_minor": 2
}
