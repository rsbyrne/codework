{
 "cells": [
  {
   "cell_type": "code",
   "execution_count": 1,
   "metadata": {},
   "outputs": [],
   "source": [
    "import sys\n",
    "workPath = '/home/jovyan/workspace'\n",
    "if not workPath in sys.path:\n",
    "    sys.path.append(workPath)"
   ]
  },
  {
   "cell_type": "code",
   "execution_count": 2,
   "metadata": {},
   "outputs": [],
   "source": [
    "import planetengine"
   ]
  },
  {
   "cell_type": "code",
   "execution_count": 3,
   "metadata": {},
   "outputs": [],
   "source": [
    "system1 = planetengine.systems.isovisc.build(\n",
    "    res = 16,\n",
    "    f = 0.5,\n",
    "    aspect = 2.,\n",
    "    _initial_temperature = planetengine.initials.sinusoidal.build(freq = 4)\n",
    "    )\n",
    "var1 = system1.obsVars['temperature'] ** 2\n",
    "system2 = planetengine.systems.isovisc.build(res = 32, f = 1., aspect = 1)\n",
    "var2 = system2.obsVars['temperature']"
   ]
  },
  {
   "cell_type": "code",
   "execution_count": null,
   "metadata": {
    "scrolled": true
   },
   "outputs": [],
   "source": [
    "planetengine.quickShow(var1)\n",
    "planetengine.quickShow(var2)"
   ]
  },
  {
   "cell_type": "code",
   "execution_count": null,
   "metadata": {},
   "outputs": [],
   "source": [
    "planetengine.fieldops.copyField(var1, var2)"
   ]
  },
  {
   "cell_type": "code",
   "execution_count": null,
   "metadata": {},
   "outputs": [],
   "source": [
    "planetengine.quickShow(var1)\n",
    "planetengine.quickShow(var2)"
   ]
  },
  {
   "cell_type": "code",
   "execution_count": null,
   "metadata": {},
   "outputs": [],
   "source": [
    "# grid = np.vstack(\n",
    "#     np.dstack(\n",
    "#         np.meshgrid(\n",
    "#             np.linspace(0., 1., 4),\n",
    "#             np.linspace(0., 1., 4)\n",
    "#             )\n",
    "#         )\n",
    "#     )"
   ]
  },
  {
   "cell_type": "code",
   "execution_count": null,
   "metadata": {},
   "outputs": [],
   "source": []
  },
  {
   "cell_type": "code",
   "execution_count": null,
   "metadata": {},
   "outputs": [],
   "source": []
  },
  {
   "cell_type": "code",
   "execution_count": null,
   "metadata": {},
   "outputs": [],
   "source": [
    "help(griddata)"
   ]
  },
  {
   "cell_type": "code",
   "execution_count": null,
   "metadata": {},
   "outputs": [],
   "source": []
  },
  {
   "cell_type": "code",
   "execution_count": null,
   "metadata": {},
   "outputs": [],
   "source": [
    "# import planetengine\n",
    "# from timeit import timeit\n",
    "# system1 = planetengine.systems.isovisc.build(res = 16, f = 0.5, aspect = 2.)\n",
    "# var1 = system1.obsVars['temperature']\n",
    "# system2 = planetengine.systems.isovisc.build(res = 32, f = 1., aspect = 1)\n",
    "# var2 = system2.obsVars['temperature']\n",
    "# def testfn():\n",
    "#     tolerance = planetengine.fieldops.copyField(var1**2, var2)\n",
    "# planetengine.message(timeit(testfn, system2.reset, number = 10) / 10.)\n",
    "# planetengine.quickShow(var2)"
   ]
  }
 ],
 "metadata": {
  "kernelspec": {
   "display_name": "Python 3",
   "language": "python",
   "name": "python3"
  },
  "language_info": {
   "codemirror_mode": {
    "name": "ipython",
    "version": 3
   },
   "file_extension": ".py",
   "mimetype": "text/x-python",
   "name": "python",
   "nbconvert_exporter": "python",
   "pygments_lexer": "ipython3",
   "version": "3.5.3"
  }
 },
 "nbformat": 4,
 "nbformat_minor": 2
}
