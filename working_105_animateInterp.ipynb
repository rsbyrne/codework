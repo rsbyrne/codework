{
 "cells": [
  {
   "cell_type": "code",
   "execution_count": null,
   "metadata": {},
   "outputs": [],
   "source": [
    "from planetengine.systems import Isovisc as System\n",
    "from planetengine.initials.sinusoidal import Sinusoidal\n",
    "system = System(res = 32, alpha = 1e6, aspect = 3., temperatureField = Sinusoidal(freq = 6.))\n",
    "system.add_observer()\n",
    "system.anchor('iso', '.', purge = True)\n",
    "system.set_saveinterval(60.)"
   ]
  },
  {
   "cell_type": "code",
   "execution_count": null,
   "metadata": {},
   "outputs": [],
   "source": [
    "system[:10000:100]()"
   ]
  },
  {
   "cell_type": "code",
   "execution_count": null,
   "metadata": {},
   "outputs": [],
   "source": [
    "from planetengine.visualisation.raster import animate, interp_rasters\n",
    "from IPython.display import Video\n",
    "from everest.reader import Reader\n",
    "reader = Reader('iso', '.')\n",
    "rasters = reader[system.observer.hashID, 'outputs', 'raster']\n",
    "chrons = reader[system.observer.hashID, 'outputs', 'chron']\n",
    "interpRasters = interp_rasters(rasters, chrons, 5)\n",
    "Video(animate(interpRasters, pts = 1. / 5.), embed = True)"
   ]
  }
 ],
 "metadata": {
  "kernelspec": {
   "display_name": "Python 3",
   "language": "python",
   "name": "python3"
  },
  "language_info": {
   "codemirror_mode": {
    "name": "ipython",
    "version": 3
   },
   "file_extension": ".py",
   "mimetype": "text/x-python",
   "name": "python",
   "nbconvert_exporter": "python",
   "pygments_lexer": "ipython3",
   "version": "3.5.3"
  }
 },
 "nbformat": 4,
 "nbformat_minor": 2
}
