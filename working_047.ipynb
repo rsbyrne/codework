{
 "cells": [
  {
   "cell_type": "code",
   "execution_count": 1,
   "metadata": {},
   "outputs": [],
   "source": [
    "import sys\n",
    "workdir = '/home/jovyan/workspace'\n",
    "if not workdir in sys.path:\n",
    "    sys.path.append(workdir)"
   ]
  },
  {
   "cell_type": "code",
   "execution_count": 2,
   "metadata": {},
   "outputs": [],
   "source": [
    "import planetengine"
   ]
  },
  {
   "cell_type": "code",
   "execution_count": 84,
   "metadata": {},
   "outputs": [],
   "source": [
    "system = planetengine.tests.testsystems.get_system()"
   ]
  },
  {
   "cell_type": "code",
   "execution_count": 4,
   "metadata": {},
   "outputs": [
    {
     "name": "stdout",
     "output_type": "stream",
     "text": [
      "Saving substrate to disk: mesh\n",
      "Saving var to disk: temperature\n",
      "Loading substrate from disk: mesh\n",
      "Loading var from disk: temperature\n",
      "Success!\n"
     ]
    }
   ],
   "source": [
    "import numpy as np\n",
    "myvar = planetengine.functions.convert(system.temperatureField)\n",
    "myvars = {'temperature': myvar}\n",
    "with planetengine.tests.TestDir() as outputPath:\n",
    "    data = myvar.var.data\n",
    "    planetengine.disk.varsOnDisk(myvars, outputPath, mode = 'save')\n",
    "    myvars['temperature'].var.data[:] = 0\n",
    "    planetengine.disk.varsOnDisk(myvars, outputPath, mode = 'load')\n",
    "    assert np.allclose(data, myvar.var.data[:])\n",
    "    print(\"Success!\")"
   ]
  },
  {
   "cell_type": "code",
   "execution_count": 42,
   "metadata": {},
   "outputs": [
    {
     "data": {
      "text/plain": [
       "8785273418830"
      ]
     },
     "execution_count": 42,
     "metadata": {},
     "output_type": "execute_result"
    }
   ],
   "source": [
    "system.viscosityFn.__hash__()"
   ]
  },
  {
   "cell_type": "code",
   "execution_count": 64,
   "metadata": {},
   "outputs": [
    {
     "name": "stdout",
     "output_type": "stream",
     "text": [
      "-2305834223940310282\n",
      "-2305834223940310394\n",
      "8785273383607\n",
      "8785273383649\n",
      "8785273383621\n",
      "-2305834223940310282\n",
      "-2305834223940310394\n",
      "8785273383607\n",
      "8785273383649\n",
      "8785273383621\n",
      "-2305834223940310282\n",
      "-2305834223940310394\n",
      "8785273383607\n",
      "8785273383649\n",
      "8785273383621\n",
      "-2305834223940310282\n",
      "-2305834223940310394\n",
      "8785273383607\n",
      "8785273383649\n",
      "8785273383621\n"
     ]
    }
   ],
   "source": [
    "from underworld import function as fn\n",
    "for i in range(20):\n",
    "    myfn = fn.misc.constant(1).__hash__()\n",
    "    hashVal = myfn.__hash__()\n",
    "    print(hashVal)"
   ]
  },
  {
   "cell_type": "code",
   "execution_count": 65,
   "metadata": {},
   "outputs": [
    {
     "name": "stdout",
     "output_type": "stream",
     "text": [
      "8785273433976\n",
      "-9223363251581398626\n",
      "8785273376204\n",
      "-9223363251581250651\n",
      "-9223363251581208148\n",
      "8785273401415\n",
      "8785273383649\n",
      "-9223363251581392275\n",
      "8785280152612\n",
      "-9223363251574629190\n",
      "-9223363251581221344\n",
      "8785273554650\n",
      "-9223363251574623228\n",
      "8785273568569\n",
      "8785273383649\n",
      "-9223363251581238177\n",
      "8785273377165\n",
      "-9223363251581374348\n",
      "8785273552809\n",
      "-9223363251581377627\n"
     ]
    }
   ],
   "source": [
    "import underworld as uw\n",
    "for i in range(20):\n",
    "    mesh = uw.mesh.FeMesh_Cartesian()\n",
    "    myvar = mesh.add_variable(1)\n",
    "    hashVal = myvar.__hash__()\n",
    "    print(hashVal)"
   ]
  },
  {
   "cell_type": "code",
   "execution_count": 73,
   "metadata": {
    "scrolled": true
   },
   "outputs": [
    {
     "name": "stdout",
     "output_type": "stream",
     "text": [
      "True\n"
     ]
    }
   ],
   "source": [
    "checks = []\n",
    "for i in range(100):\n",
    "    check = system.viscosityFn is system.viscosityFn\n",
    "    checks.append(check)\n",
    "print(all(checks))"
   ]
  },
  {
   "cell_type": "code",
   "execution_count": 74,
   "metadata": {
    "scrolled": true
   },
   "outputs": [
    {
     "data": {
      "text/plain": [
       "['__abstractmethods__',\n",
       " '__add__',\n",
       " '__and__',\n",
       " '__class__',\n",
       " '__delattr__',\n",
       " '__dict__',\n",
       " '__dir__',\n",
       " '__doc__',\n",
       " '__eq__',\n",
       " '__format__',\n",
       " '__ge__',\n",
       " '__getattribute__',\n",
       " '__getitem__',\n",
       " '__gt__',\n",
       " '__hash__',\n",
       " '__init__',\n",
       " '__le__',\n",
       " '__lt__',\n",
       " '__module__',\n",
       " '__mul__',\n",
       " '__ne__',\n",
       " '__neg__',\n",
       " '__new__',\n",
       " '__or__',\n",
       " '__pow__',\n",
       " '__radd__',\n",
       " '__reduce__',\n",
       " '__reduce_ex__',\n",
       " '__repr__',\n",
       " '__rmul__',\n",
       " '__rsub__',\n",
       " '__rtruediv__',\n",
       " '__setattr__',\n",
       " '__sizeof__',\n",
       " '__str__',\n",
       " '__sub__',\n",
       " '__subclasshook__',\n",
       " '__truediv__',\n",
       " '__weakref__',\n",
       " '__xor__',\n",
       " '_abc_cache',\n",
       " '_abc_negative_cache',\n",
       " '_abc_negative_cache_version',\n",
       " '_abc_registry',\n",
       " '_evaluate_data_convert_to_ndarray',\n",
       " '_fn1',\n",
       " '_fn2',\n",
       " '_fncself',\n",
       " '_fncselfpriv',\n",
       " '_underlyingDataItems',\n",
       " 'convert',\n",
       " 'evaluate',\n",
       " 'evaluate_global',\n",
       " 'integrate']"
      ]
     },
     "execution_count": 74,
     "metadata": {},
     "output_type": "execute_result"
    }
   ],
   "source": [
    "dir(system.viscosityFn)"
   ]
  },
  {
   "cell_type": "code",
   "execution_count": 86,
   "metadata": {},
   "outputs": [
    {
     "ename": "SyntaxError",
     "evalue": "'break' outside loop (<ipython-input-86-7d7b8c466bcd>, line 6)",
     "output_type": "error",
     "traceback": [
      "\u001b[0;36m  File \u001b[0;32m\"<ipython-input-86-7d7b8c466bcd>\"\u001b[0;36m, line \u001b[0;32m6\u001b[0m\n\u001b[0;31mSyntaxError\u001b[0m\u001b[0;31m:\u001b[0m 'break' outside loop\n"
     ]
    }
   ],
   "source": [
    "myval = True\n",
    "if myval:\n",
    "    break\n",
    "else:\n",
    "    print(\"hello!\")"
   ]
  },
  {
   "cell_type": "code",
   "execution_count": 87,
   "metadata": {},
   "outputs": [],
   "source": [
    "from underworld import function as fn\n",
    "from underworld.function._function import Function as UWFn"
   ]
  },
  {
   "cell_type": "code",
   "execution_count": 89,
   "metadata": {},
   "outputs": [
    {
     "data": {
      "text/plain": [
       "True"
      ]
     },
     "execution_count": 89,
     "metadata": {},
     "output_type": "execute_result"
    }
   ],
   "source": [
    "isinstance(system.temperatureField, UWFn)"
   ]
  },
  {
   "cell_type": "code",
   "execution_count": null,
   "metadata": {},
   "outputs": [],
   "source": []
  }
 ],
 "metadata": {
  "kernelspec": {
   "display_name": "Python 3",
   "language": "python",
   "name": "python3"
  },
  "language_info": {
   "codemirror_mode": {
    "name": "ipython",
    "version": 3
   },
   "file_extension": ".py",
   "mimetype": "text/x-python",
   "name": "python",
   "nbconvert_exporter": "python",
   "pygments_lexer": "ipython3",
   "version": "3.5.3"
  }
 },
 "nbformat": 4,
 "nbformat_minor": 2
}
