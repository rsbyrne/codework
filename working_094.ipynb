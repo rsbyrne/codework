{
 "cells": [
  {
   "cell_type": "code",
   "execution_count": 1,
   "metadata": {},
   "outputs": [],
   "source": [
    "import sys\n",
    "import os\n",
    "workPath = os.path.abspath('..')\n",
    "if not workPath in sys.path:\n",
    "    sys.path.append(workPath)"
   ]
  },
  {
   "cell_type": "code",
   "execution_count": 2,
   "metadata": {},
   "outputs": [],
   "source": [
    "name = 'test'\n",
    "outputPath = '..'\n",
    "from everest import mpi\n",
    "import os\n",
    "fullpath = os.path.join(os.path.abspath(outputPath), name) + '.frm'\n",
    "if mpi.rank == 0:\n",
    "    if os.path.exists(fullpath):\n",
    "        os.remove(fullpath)\n",
    "from everest.builts import set_global_anchor\n",
    "set_global_anchor(name, outputPath)"
   ]
  },
  {
   "cell_type": "code",
   "execution_count": 3,
   "metadata": {},
   "outputs": [],
   "source": [
    "message = mpi.message"
   ]
  },
  {
   "cell_type": "code",
   "execution_count": 4,
   "metadata": {},
   "outputs": [],
   "source": [
    "from planetengine.systems import isovisc\n",
    "from everest.builts.states import booloperator\n",
    "from everest.builts import perambulator\n",
    "from everest.builts import enactor, condition\n",
    "from planetengine import quickShow"
   ]
  },
  {
   "cell_type": "code",
   "execution_count": 5,
   "metadata": {},
   "outputs": [],
   "source": [
    "real1 = isovisc.build(res = 16, Ra = 1e5)\n",
    "traverse = perambulator.build(arg = real1, state = 10)\n",
    "real2 = isovisc.build(res = 32, Ra = 1e5)\n",
    "interop = booloperator.build(op = 'mod', val = 2, inv = True)\n",
    "intercondition = condition.build(inquirer = interop, arg = real1)\n",
    "myenactor = enactor.build(cycler = real2, condition = intercondition)\n",
    "traverse.add_promptee(myenactor)\n",
    "traverse()"
   ]
  },
  {
   "cell_type": "code",
   "execution_count": 6,
   "metadata": {},
   "outputs": [],
   "source": [
    "assert real1.count == real2.count * 2"
   ]
  },
  {
   "cell_type": "code",
   "execution_count": 7,
   "metadata": {},
   "outputs": [],
   "source": [
    "import weakref\n",
    "\n",
    "myref = weakref.ref(real1)\n",
    "\n",
    "del real1\n",
    "del traverse\n",
    "del real2\n",
    "del interop\n",
    "del intercondition\n",
    "del myenactor\n",
    "\n",
    "assert myref() is None"
   ]
  }
 ],
 "metadata": {
  "kernelspec": {
   "display_name": "Python 3",
   "language": "python",
   "name": "python3"
  },
  "language_info": {
   "codemirror_mode": {
    "name": "ipython",
    "version": 3
   },
   "file_extension": ".py",
   "mimetype": "text/x-python",
   "name": "python",
   "nbconvert_exporter": "python",
   "pygments_lexer": "ipython3",
   "version": "3.5.3"
  }
 },
 "nbformat": 4,
 "nbformat_minor": 2
}
