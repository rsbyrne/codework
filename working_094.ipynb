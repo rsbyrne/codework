{
 "cells": [
  {
   "cell_type": "code",
   "execution_count": 1,
   "metadata": {},
   "outputs": [],
   "source": [
    "import sys\n",
    "import os\n",
    "workPath = os.path.abspath('..')\n",
    "if not workPath in sys.path:\n",
    "    sys.path.append(workPath)"
   ]
  },
  {
   "cell_type": "code",
   "execution_count": 2,
   "metadata": {},
   "outputs": [],
   "source": [
    "from everest import mpi\n",
    "import os\n",
    "if mpi.rank == 0:\n",
    "    if os.path.exists('../test.frm'):\n",
    "        os.remove('../test.frm')"
   ]
  },
  {
   "cell_type": "code",
   "execution_count": 3,
   "metadata": {},
   "outputs": [],
   "source": [
    "message = mpi.message"
   ]
  },
  {
   "cell_type": "code",
   "execution_count": 4,
   "metadata": {},
   "outputs": [],
   "source": [
    "from planetengine.systems import isovisc\n",
    "from everest.builts.states import booloperator\n",
    "from everest.builts import enactor, condition\n",
    "from planetengine import quickShow"
   ]
  },
  {
   "cell_type": "code",
   "execution_count": 5,
   "metadata": {},
   "outputs": [],
   "source": [
    "from everest.builts import set_global_anchor\n",
    "set_global_anchor('test', '..')"
   ]
  },
  {
   "cell_type": "code",
   "execution_count": 6,
   "metadata": {},
   "outputs": [],
   "source": [
    "real1 = isovisc.make(res = 16, Ra = 1e5)\n",
    "threshold = booloperator.build(val = 10)\n",
    "traverse = real1[threshold]\n",
    "real2 = isovisc.make(res = 32, Ra = 1e5)\n",
    "interop = booloperator.build(op = 'mod', val = 2, inv = True)\n",
    "intercondition = condition.build(inquirer = interop, arg = real1)\n",
    "myenactor = enactor.build(cycler = real2, condition = intercondition)\n",
    "traverse.add_promptee(myenactor)\n",
    "traverse()"
   ]
  },
  {
   "cell_type": "code",
   "execution_count": 7,
   "metadata": {},
   "outputs": [
    {
     "name": "stdout",
     "output_type": "stream",
     "text": [
      "10 5\n"
     ]
    }
   ],
   "source": [
    "message(real1.count, real2.count)\n",
    "assert real1.count == real2.count * 2"
   ]
  },
  {
   "cell_type": "code",
   "execution_count": 8,
   "metadata": {},
   "outputs": [],
   "source": [
    "import weakref\n",
    "\n",
    "myref = weakref.ref(real1)\n",
    "\n",
    "del real1\n",
    "del threshold\n",
    "del traverse\n",
    "del real2\n",
    "del interop\n",
    "del intercondition\n",
    "del myenactor"
   ]
  },
  {
   "cell_type": "code",
   "execution_count": 9,
   "metadata": {},
   "outputs": [
    {
     "name": "stdout",
     "output_type": "stream",
     "text": [
      "None <class 'NoneType'>\n",
      "21949\n"
     ]
    }
   ],
   "source": [
    "ref = myref()\n",
    "message(ref, type(ref))\n",
    "\n",
    "if not type(ref) is None:\n",
    "    import gc\n",
    "    referrers = gc.get_referrers(ref)\n",
    "    message(len(referrers))"
   ]
  },
  {
   "cell_type": "code",
   "execution_count": 10,
   "metadata": {},
   "outputs": [
    {
     "data": {
      "text/plain": [
       "21949"
      ]
     },
     "execution_count": 10,
     "metadata": {},
     "output_type": "execute_result"
    }
   ],
   "source": [
    "len(referrers)"
   ]
  },
  {
   "cell_type": "code",
   "execution_count": 11,
   "metadata": {},
   "outputs": [
    {
     "data": {
      "text/plain": [
       "<function _weakrefset.WeakSet.__init__.<locals>._remove(item, selfref=<weakref at 0x7f317d4e3a98; to 'WeakSet' at 0x7f317d509198>)>"
      ]
     },
     "execution_count": 11,
     "metadata": {},
     "output_type": "execute_result"
    }
   ],
   "source": [
    "referrers[1]"
   ]
  },
  {
   "cell_type": "code",
   "execution_count": null,
   "metadata": {},
   "outputs": [],
   "source": []
  },
  {
   "cell_type": "code",
   "execution_count": null,
   "metadata": {},
   "outputs": [],
   "source": []
  },
  {
   "cell_type": "code",
   "execution_count": null,
   "metadata": {},
   "outputs": [],
   "source": []
  }
 ],
 "metadata": {
  "kernelspec": {
   "display_name": "Python 3",
   "language": "python",
   "name": "python3"
  },
  "language_info": {
   "codemirror_mode": {
    "name": "ipython",
    "version": 3
   },
   "file_extension": ".py",
   "mimetype": "text/x-python",
   "name": "python",
   "nbconvert_exporter": "python",
   "pygments_lexer": "ipython3",
   "version": "3.5.3"
  }
 },
 "nbformat": 4,
 "nbformat_minor": 2
}
