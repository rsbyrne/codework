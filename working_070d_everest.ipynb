{
 "cells": [
  {
   "cell_type": "code",
   "execution_count": 1,
   "metadata": {},
   "outputs": [],
   "source": [
    "import sys\n",
    "workPath = '/home/jovyan/workspace'\n",
    "if not workPath in sys.path:\n",
    "    sys.path.append(workPath)"
   ]
  },
  {
   "cell_type": "code",
   "execution_count": 2,
   "metadata": {},
   "outputs": [],
   "source": [
    "import everest"
   ]
  },
  {
   "cell_type": "code",
   "execution_count": 3,
   "metadata": {},
   "outputs": [],
   "source": [
    "import h5py\n",
    "import os\n",
    "import numpy as np"
   ]
  },
  {
   "cell_type": "code",
   "execution_count": 4,
   "metadata": {},
   "outputs": [],
   "source": [
    "IC = everest.examples.myobject2.build(400.)\n",
    "system = everest.examples.myobject1.build(a = 1, b = 0.5, initial_time = IC)"
   ]
  },
  {
   "cell_type": "code",
   "execution_count": 5,
   "metadata": {},
   "outputs": [],
   "source": [
    "outputPath = '..'\n",
    "name = 'test'\n",
    "extension = 'h5'\n",
    "path = os.path.join(outputPath, name + '.' + extension)\n",
    "if everest.mpi.rank == 0:\n",
    "    if os.path.exists(path):\n",
    "        os.remove(path)"
   ]
  },
  {
   "cell_type": "code",
   "execution_count": 6,
   "metadata": {},
   "outputs": [],
   "source": [
    "system.anchor(path)"
   ]
  },
  {
   "cell_type": "code",
   "execution_count": 7,
   "metadata": {
    "scrolled": false
   },
   "outputs": [],
   "source": [
    "for i in range(10):\n",
    "    system.go(10)\n",
    "    system.store()\n",
    "system.save()\n",
    "for i in range(10):\n",
    "    system.go(10)\n",
    "    system.store()\n",
    "system.save()\n",
    "system.load(20)\n",
    "for i in range(10):\n",
    "    system.go(10)\n",
    "    system.store()\n",
    "system.save()"
   ]
  },
  {
   "cell_type": "code",
   "execution_count": 8,
   "metadata": {},
   "outputs": [
    {
     "name": "stdout",
     "output_type": "stream",
     "text": [
      "<KeysViewHDF5 ['_counts', 'data']>\n",
      "[ 0.26234577  0.99975451  0.30483933 -0.82681172 -0.77390977  0.38775385\n",
      "  0.99389198  0.17610529 -0.89398316 -0.68328373  0.50633965  0.97054255\n",
      "  0.04427279 -0.94542551 -0.58063573  0.61601671  0.93011702 -0.08833866\n",
      " -0.9802337  -0.46777181]\n",
      "[ 10  20  30  40  50  60  70  80  90 100 110 120 130 140 150 160 170 180\n",
      " 190 200]\n",
      "[ 405.  410.  415.  420.  425.  430.  435.  440.  445.  450.  455.  460.\n",
      "  465.  470.  475.  480.  485.  490.  495.  500.]\n"
     ]
    }
   ],
   "source": [
    "if everest.mpi.rank == 0:\n",
    "    with h5py.File(path) as h5file:\n",
    "        print(h5file[system.hashID]['var'].keys())\n",
    "        print(h5file[system.hashID]['var']['data'][...])\n",
    "        print(h5file[system.hashID]['var'][everest.built.COUNTS_FLAG][...])\n",
    "        print(h5file[system.hashID]['time']['data'][...])"
   ]
  },
  {
   "cell_type": "code",
   "execution_count": 9,
   "metadata": {},
   "outputs": [
    {
     "data": {
      "text/plain": [
       "'b'"
      ]
     },
     "execution_count": 9,
     "metadata": {},
     "output_type": "execute_result"
    }
   ],
   "source": [
    "mylist = ['a', 'b', 'c']\n",
    "mylist.pop(1)"
   ]
  },
  {
   "cell_type": "code",
   "execution_count": 10,
   "metadata": {},
   "outputs": [
    {
     "data": {
      "text/plain": [
       "['a', 'c']"
      ]
     },
     "execution_count": 10,
     "metadata": {},
     "output_type": "execute_result"
    }
   ],
   "source": [
    "mylist"
   ]
  },
  {
   "cell_type": "code",
   "execution_count": 11,
   "metadata": {},
   "outputs": [
    {
     "data": {
      "text/plain": [
       "{'a': 1,\n",
       " 'b': 0.5,\n",
       " 'initial_time': <everest.examples.myobject2.MyObject2 at 0x7f434c505a58>}"
      ]
     },
     "execution_count": 11,
     "metadata": {},
     "output_type": "execute_result"
    }
   ],
   "source": [
    "system.inputs"
   ]
  },
  {
   "cell_type": "code",
   "execution_count": null,
   "metadata": {},
   "outputs": [],
   "source": []
  }
 ],
 "metadata": {
  "kernelspec": {
   "display_name": "Python 3",
   "language": "python",
   "name": "python3"
  },
  "language_info": {
   "codemirror_mode": {
    "name": "ipython",
    "version": 3
   },
   "file_extension": ".py",
   "mimetype": "text/x-python",
   "name": "python",
   "nbconvert_exporter": "python",
   "pygments_lexer": "ipython3",
   "version": "3.5.3"
  }
 },
 "nbformat": 4,
 "nbformat_minor": 2
}
