{
 "cells": [
  {
   "cell_type": "code",
   "execution_count": 1,
   "metadata": {},
   "outputs": [],
   "source": [
    "import h5py\n",
    "import numpy as np\n",
    "import os\n",
    "import operator\n",
    "from functools import partial"
   ]
  },
  {
   "cell_type": "code",
   "execution_count": 2,
   "metadata": {},
   "outputs": [],
   "source": [
    "filepath = 'test.h5'\n",
    "if os.path.exists(filepath):\n",
    "    os.remove(filepath)"
   ]
  },
  {
   "cell_type": "code",
   "execution_count": 3,
   "metadata": {},
   "outputs": [],
   "source": [
    "with h5py.File(filepath) as testfile:\n",
    "    mygroup = testfile.create_group('mygroup')\n",
    "    mygroup.attrs['myattr'] = 12\n",
    "    mydataset = mygroup.create_dataset(name = 'mydataset', data = np.zeros((30, 2)))"
   ]
  },
  {
   "cell_type": "code",
   "execution_count": 4,
   "metadata": {},
   "outputs": [
    {
     "name": "stdout",
     "output_type": "stream",
     "text": [
      "<KeysViewHDF5 ['myattr']>\n"
     ]
    }
   ],
   "source": [
    "with h5py.File(filepath) as h5file:\n",
    "    print(h5file['mygroup'].attrs.keys())"
   ]
  },
  {
   "cell_type": "code",
   "execution_count": 49,
   "metadata": {},
   "outputs": [],
   "source": [
    "import h5py\n",
    "import operator\n",
    "from functools import partial\n",
    "\n",
    "class Fetch:\n",
    "\n",
    "    operations = operator.__dict__\n",
    "    operations[None] = lambda *args: True\n",
    "\n",
    "    def __init__(\n",
    "            self,\n",
    "            *args,\n",
    "            operation = None\n",
    "            ):\n",
    "        self.args = args\n",
    "        self.operation = operation\n",
    "\n",
    "    def __call__(self, context = None):\n",
    "        if context is None:\n",
    "            context = lambda *inp: inp\n",
    "        try:\n",
    "            args = context(*self.args)\n",
    "            return self.operations[self.operation](*args)\n",
    "        except KeyError:\n",
    "            return False\n",
    "\n",
    "    def __lt__(self, *args):\n",
    "        return Fetch(*self.args, *args, operation = 'lt')\n",
    "    def __le__(self, *args):\n",
    "        return Fetch(*self.args, *args, operation = 'le')\n",
    "    def __eq__(self, *args):\n",
    "        return Fetch(*self.args, *args, operation = 'eq')\n",
    "    def __ne__(self, *args):\n",
    "        return Fetch(*self.args, *args, operation = 'ne')\n",
    "    def __ge__(self, *args):\n",
    "        return Fetch(*self.args, *args, operation = 'ge')\n",
    "    def __gt__(self, *args):\n",
    "        return Fetch(*self.args, *args, operation = 'gt')\n",
    "\n",
    "def _readwrap(func):\n",
    "    def wrapper(*args, **kwargs):\n",
    "        self = args[0]\n",
    "        h5filename = self.h5filename\n",
    "        with h5py.File(h5filename, 'r') as h5file:\n",
    "            self.h5file = h5file\n",
    "            outputs = func(*args, **kwargs)\n",
    "        return outputs\n",
    "    return wrapper\n",
    "\n",
    "class Reader:\n",
    "    def __init__(\n",
    "            self,\n",
    "            h5filename\n",
    "            ):\n",
    "        self.h5file = None\n",
    "        self.h5filename = h5filename\n",
    "\n",
    "    def __getitem__(self, inp):\n",
    "        if type(inp) is tuple:\n",
    "            allouts = [self.__getitem__(subInp) for subInp in inp]\n",
    "            return set.intersection(*allouts)\n",
    "        if isinstance(inp, Fetch):\n",
    "            return self._get_fetch(inp)\n",
    "        raise TypeError\n",
    "\n",
    "    def _context(self, superkey, *args):\n",
    "        args = list(args)\n",
    "        key = args.pop(0)\n",
    "        try: out = self.h5file[superkey].attrs[key]\n",
    "        except: out = self.h5file[superkey][key]\n",
    "        return (out, *args)\n",
    "\n",
    "    @_readwrap\n",
    "    def _get_fetch(self, fetch):\n",
    "        outs = set()\n",
    "        for superkey in self.h5file:\n",
    "            context = partial(\n",
    "                self._context,\n",
    "                superkey\n",
    "                )\n",
    "            if fetch(context):\n",
    "                outs.add(superkey)\n",
    "        return outs\n"
   ]
  },
  {
   "cell_type": "code",
   "execution_count": 113,
   "metadata": {},
   "outputs": [],
   "source": [
    "myreader = Reader(filepath)"
   ]
  },
  {
   "cell_type": "code",
   "execution_count": 114,
   "metadata": {},
   "outputs": [
    {
     "data": {
      "text/plain": [
       "{'mygroup'}"
      ]
     },
     "execution_count": 114,
     "metadata": {},
     "output_type": "execute_result"
    }
   ],
   "source": [
    "myreader[Fetch('mydataset')]"
   ]
  },
  {
   "cell_type": "code",
   "execution_count": 115,
   "metadata": {},
   "outputs": [
    {
     "data": {
      "text/plain": [
       "{'mygroup'}"
      ]
     },
     "execution_count": 115,
     "metadata": {},
     "output_type": "execute_result"
    }
   ],
   "source": [
    "myreader[Fetch('myattr')]"
   ]
  },
  {
   "cell_type": "code",
   "execution_count": 118,
   "metadata": {},
   "outputs": [
    {
     "data": {
      "text/plain": [
       "{'mygroup'}"
      ]
     },
     "execution_count": 118,
     "metadata": {},
     "output_type": "execute_result"
    }
   ],
   "source": [
    "myreader[Fetch('mydataset'), Fetch('myattr')]"
   ]
  },
  {
   "cell_type": "code",
   "execution_count": 119,
   "metadata": {},
   "outputs": [
    {
     "data": {
      "text/plain": [
       "{'mygroup'}"
      ]
     },
     "execution_count": 119,
     "metadata": {},
     "output_type": "execute_result"
    }
   ],
   "source": [
    "myreader[Fetch('myattr') > 10]"
   ]
  }
 ],
 "metadata": {
  "kernelspec": {
   "display_name": "Python 3",
   "language": "python",
   "name": "python3"
  },
  "language_info": {
   "codemirror_mode": {
    "name": "ipython",
    "version": 3
   },
   "file_extension": ".py",
   "mimetype": "text/x-python",
   "name": "python",
   "nbconvert_exporter": "python",
   "pygments_lexer": "ipython3",
   "version": "3.7.3"
  }
 },
 "nbformat": 4,
 "nbformat_minor": 2
}
