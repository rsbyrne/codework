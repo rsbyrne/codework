{
 "cells": [
  {
   "cell_type": "code",
   "execution_count": 2,
   "metadata": {},
   "outputs": [],
   "source": [
    "import sys\n",
    "import os\n",
    "workPath = os.path.abspath('..')\n",
    "if not workPath in sys.path:\n",
    "    sys.path.append(workPath)"
   ]
  },
  {
   "cell_type": "code",
   "execution_count": 3,
   "metadata": {},
   "outputs": [],
   "source": [
    "class RuntimeCondition(Built):\n",
    "    def __init__(\n",
    "            self,\n",
    "            boolFunc,\n",
    "            inputs,\n",
    "            script\n",
    "            ):\n",
    "        self.__bool__ = boolFunc\n",
    "        super().__init__(\n",
    "            inputs,\n",
    "            script\n",
    "            )\n",
    "\n",
    "class Threshold(RuntimeCondition):\n",
    "    script = '../test.py'\n",
    "    def __init__(self):\n",
    "        inputs = locals().copy()\n",
    "        boolFunc = lambda: True\n",
    "        super().__init__(\n",
    "            boolFunc,\n",
    "            inputs,\n",
    "            self.script\n",
    "            )"
   ]
  },
  {
   "cell_type": "code",
   "execution_count": 6,
   "metadata": {},
   "outputs": [],
   "source": [
    "from planetengine.systems import isovisc\n",
    "system = isovisc.build()\n",
    "system2 = isovisc.build(Ra = 1e5)\n",
    "system3 = isovisc.build()"
   ]
  },
  {
   "cell_type": "code",
   "execution_count": 7,
   "metadata": {},
   "outputs": [],
   "source": [
    "myset = {system, system2, system3}"
   ]
  },
  {
   "cell_type": "code",
   "execution_count": 8,
   "metadata": {},
   "outputs": [
    {
     "data": {
      "text/plain": [
       "{<planetengine.systems.isovisc.Isovisc at 0x7f41b56cae80>,\n",
       " <planetengine.systems.isovisc.Isovisc at 0x7f41b5968e48>}"
      ]
     },
     "execution_count": 8,
     "metadata": {},
     "output_type": "execute_result"
    }
   ],
   "source": [
    "myset"
   ]
  },
  {
   "cell_type": "code",
   "execution_count": null,
   "metadata": {},
   "outputs": [],
   "source": []
  },
  {
   "cell_type": "code",
   "execution_count": 5,
   "metadata": {},
   "outputs": [],
   "source": [
    "class A:\n",
    "    def __init__(self, a = True, b = False, c = False, d = False):\n",
    "        print(\"A\")\n",
    "        print(a, b, c, d)\n",
    "class B(A):\n",
    "    def __init__(self, **kwargs):\n",
    "        print(\"B\")\n",
    "        super().__init__(b = True)\n",
    "class C(A):\n",
    "    def __init__(self, **kwargs):\n",
    "        print(\"C\")\n",
    "        super().__init__(c = True)\n",
    "class D(C, B):\n",
    "    script = 'script'\n",
    "    def __init__(self):\n",
    "        print(\"D\")\n",
    "        super().__init__(d = True)"
   ]
  },
  {
   "cell_type": "code",
   "execution_count": 6,
   "metadata": {},
   "outputs": [
    {
     "name": "stdout",
     "output_type": "stream",
     "text": [
      "D\n",
      "C\n",
      "B\n",
      "A\n",
      "True True False False\n"
     ]
    }
   ],
   "source": [
    "myinst = D()"
   ]
  },
  {
   "cell_type": "code",
   "execution_count": 13,
   "metadata": {},
   "outputs": [
    {
     "data": {
      "text/plain": [
       "'abc'"
      ]
     },
     "execution_count": 13,
     "metadata": {},
     "output_type": "execute_result"
    }
   ],
   "source": [
    "('_EVERESTTYPE_' + 'abc')[len('_EVERESTTYPE_'):]"
   ]
  },
  {
   "cell_type": "code",
   "execution_count": 10,
   "metadata": {},
   "outputs": [
    {
     "data": {
      "text/plain": [
       "True"
      ]
     },
     "execution_count": 10,
     "metadata": {},
     "output_type": "execute_result"
    }
   ],
   "source": [
    "type(D) is type"
   ]
  },
  {
   "cell_type": "code",
   "execution_count": 9,
   "metadata": {},
   "outputs": [
    {
     "data": {
      "text/plain": [
       "type"
      ]
     },
     "execution_count": 9,
     "metadata": {},
     "output_type": "execute_result"
    }
   ],
   "source": [
    "D.__class__"
   ]
  },
  {
   "cell_type": "code",
   "execution_count": 8,
   "metadata": {},
   "outputs": [
    {
     "data": {
      "text/plain": [
       "['__class__',\n",
       " '__delattr__',\n",
       " '__dict__',\n",
       " '__dir__',\n",
       " '__doc__',\n",
       " '__eq__',\n",
       " '__format__',\n",
       " '__ge__',\n",
       " '__getattribute__',\n",
       " '__gt__',\n",
       " '__hash__',\n",
       " '__init__',\n",
       " '__le__',\n",
       " '__lt__',\n",
       " '__module__',\n",
       " '__ne__',\n",
       " '__new__',\n",
       " '__reduce__',\n",
       " '__reduce_ex__',\n",
       " '__repr__',\n",
       " '__setattr__',\n",
       " '__sizeof__',\n",
       " '__str__',\n",
       " '__subclasshook__',\n",
       " '__weakref__',\n",
       " 'script']"
      ]
     },
     "execution_count": 8,
     "metadata": {},
     "output_type": "execute_result"
    }
   ],
   "source": [
    "dir(D)"
   ]
  },
  {
   "cell_type": "code",
   "execution_count": null,
   "metadata": {},
   "outputs": [],
   "source": []
  },
  {
   "cell_type": "code",
   "execution_count": 4,
   "metadata": {},
   "outputs": [
    {
     "data": {
      "text/plain": [
       "['a', 'b']"
      ]
     },
     "execution_count": 4,
     "metadata": {},
     "output_type": "execute_result"
    }
   ],
   "source": [
    "sorted(set(['a', 'b', 'a']))"
   ]
  },
  {
   "cell_type": "code",
   "execution_count": null,
   "metadata": {},
   "outputs": [],
   "source": []
  },
  {
   "cell_type": "code",
   "execution_count": null,
   "metadata": {},
   "outputs": [],
   "source": [
    "class Task(Built):\n",
    "    script = '../test.py'\n",
    "    def __init__(\n",
    "            self,\n",
    "            iterator,\n",
    "            stopCondition,\n",
    "            observers\n",
    "            ):\n",
    "        self.stopCondition = stopCondition\n",
    "        super().__init__(\n",
    "            inputs,\n",
    "            script\n",
    "            )\n",
    "        def iterate(self):\n",
    "            pass\n",
    "        def run(self):\n",
    "            while not self.stopCondition:\n",
    "                self.iterate()\n",
    "        def __bool__(self):\n",
    "            # True if complete, False if incomplete\n",
    "            return stopCondition()\n",
    "\n",
    "# class MyTask(Task):\n",
    "#     script = '../test.py'\n",
    "#     def __init__(\n",
    "#             self,\n",
    "#             system,\n",
    "#             run\n",
    "#             )\n",
    "#         inputs = locals().copy()\n",
    "#         super().__init__(\n",
    "#             inputs,\n",
    "#             script\n",
    "#             )"
   ]
  },
  {
   "cell_type": "code",
   "execution_count": null,
   "metadata": {},
   "outputs": [],
   "source": [
    "class Campaign(Built):\n",
    "    def __init__(\n",
    "            self,\n",
    "            inputs,\n",
    "            script\n",
    "            ):\n",
    "        super().__init__(\n",
    "            inputs,\n",
    "            script\n",
    "            )\n",
    "\n",
    "class MyCampaign(Campaign):\n",
    "    script = '../test.py'\n",
    "    def __init__(\n",
    "            self,\n",
    "            system,\n",
    "            run\n",
    "            )\n",
    "        inputs = locals().copy()\n",
    "        super().__init__(\n",
    "            inputs,\n",
    "            script\n",
    "            )"
   ]
  }
 ],
 "metadata": {
  "kernelspec": {
   "display_name": "Python 3",
   "language": "python",
   "name": "python3"
  },
  "language_info": {
   "codemirror_mode": {
    "name": "ipython",
    "version": 3
   },
   "file_extension": ".py",
   "mimetype": "text/x-python",
   "name": "python",
   "nbconvert_exporter": "python",
   "pygments_lexer": "ipython3",
   "version": "3.5.3"
  }
 },
 "nbformat": 4,
 "nbformat_minor": 2
}
