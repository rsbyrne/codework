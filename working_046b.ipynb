{
 "cells": [
  {
   "cell_type": "code",
   "execution_count": null,
   "metadata": {},
   "outputs": [],
   "source": []
  },
  {
   "cell_type": "code",
   "execution_count": 1,
   "metadata": {},
   "outputs": [],
   "source": [
    "import sys\n",
    "sys.path.append('/home/jovyan/workspace')"
   ]
  },
  {
   "cell_type": "code",
   "execution_count": 2,
   "metadata": {},
   "outputs": [],
   "source": [
    "%%sh\n",
    "rm -rf '../data/test'\n",
    "mkdir '../data/test'\n",
    "chmod -R 777 '../data/test'"
   ]
  },
  {
   "cell_type": "code",
   "execution_count": 3,
   "metadata": {},
   "outputs": [],
   "source": [
    "import os\n",
    "outputPath = '../data/test'"
   ]
  },
  {
   "cell_type": "code",
   "execution_count": 4,
   "metadata": {},
   "outputs": [],
   "source": [
    "import planetengine\n",
    "system = planetengine.systems.arrhenius.build(res = 16)\n",
    "initials = {'temperatureField': planetengine.initials.sinusoidal.IC(freq = 1.)}\n",
    "planetengine.initials.apply(\n",
    "    initials,\n",
    "    system,\n",
    "    )\n",
    "system.solve()"
   ]
  },
  {
   "cell_type": "code",
   "execution_count": 10,
   "metadata": {},
   "outputs": [],
   "source": [
    "from planetengine.utilities import check_reqs\n",
    "import underworld as uw\n",
    "\n",
    "class Observer(_Frame):\n",
    "\n",
    "    _required_attributes = {\n",
    "        'system', # system\n",
    "        'initials', # dict\n",
    "        'outputPath', # str\n",
    "        'scripts', # list of str\n",
    "        'inputs', # list of dict\n",
    "        }\n",
    "\n",
    "    def __init__(self):\n",
    "\n",
    "        check_reqs(self)\n",
    "\n",
    "        scripts = {}\n",
    "        for index, script in enumerate(self.scripts):\n",
    "            scriptname = 'observerscript_' + str(index)\n",
    "            scripts[scriptname] = script\n",
    "        self.scripts = scripts\n",
    "\n",
    "        inputs = {}\n",
    "        for index, inputDict in enumerate(inputs):\n",
    "            inputName = 'observerinputs_' + str(index)\n",
    "            inputs[inputName] = inputDict\n",
    "        self.inputs = inputs\n",
    "\n",
    "        # Making stamps and stuff\n",
    "\n",
    "        _model_inputs, _model_stamps, _model_scripts = \\\n",
    "            _scripts_and_stamps(system, initials)\n",
    "\n",
    "        inHashID = 'pemod_' + _model_stamps['allstamp'][1]\n",
    "\n",
    "        stamps = {}\n",
    "        if uw.mpi.rank == 0:\n",
    "            stamps = {\n",
    "                'inputs': hashstamp(self.inputs),\n",
    "                'scripts': hashstamp(\n",
    "                    [open(script) for scriptname, script \\\n",
    "                        in sorted(scripts.items())]\n",
    "                    )\n",
    "                }\n",
    "            stamps['allstamp'] = hashstamp(stamps)\n",
    "            for stampKey, stampVal in stamps.items():\n",
    "                stamps[stampKey] = [stampVal, wordhashFn(stampVal)]\n",
    "        stamps = uw.mpi.comm.bcast(stamps, root = 0)\n",
    "\n",
    "        super().__init__()"
   ]
  },
  {
   "cell_type": "code",
   "execution_count": null,
   "metadata": {},
   "outputs": [],
   "source": [
    "class MyObserver(Observer):\n",
    "\n",
    "    def __init__(\n",
    "        self,\n",
    "        _system,\n",
    "        _initials,\n",
    "        _outputPath,\n",
    "        )\n",
    "    "
   ]
  },
  {
   "cell_type": "code",
   "execution_count": 8,
   "metadata": {},
   "outputs": [],
   "source": [
    "from planetengine.utilities import Grouper\n",
    "from planetengine.utilities import hashstamp\n",
    "from planetengine.wordhash import wordhash as wordhashFn\n",
    "from planetengine.checkpoint import Checkpointer\n",
    "from planetengine.frame import _scripts_and_stamps\n",
    "from planetengine.frame import _Frame\n",
    "import underworld as uw\n",
    "#\n",
    "def make_observer_stamps_inputs(system, initials, options):\n",
    "    stamps = {}\n",
    "    _model_inputs, _model_stamps, _model_scripts = \\\n",
    "        _scripts_and_stamps(system, initials)\n",
    "    if uw.mpi.rank == 0:\n",
    "        stamps.update(_model_stamps)\n",
    "        stamps = {\n",
    "            'options': hashstamp(options),\n",
    "            'scripts': hashstamp(\n",
    "                [open(script) for scriptname, script \\\n",
    "                    in sorted(scripts.items())]\n",
    "                )\n",
    "            }\n",
    "        stamps['allstamp'] = hashstamp(stamps)\n",
    "        for stampKey, stampVal in stamps.items():\n",
    "            stamps[stampKey] = [stampVal, wordhashFn(stampVal)]\n",
    "    stamps = uw.mpi.comm.bcast(stamps, root = 0)\n",
    "    return stamps\n",
    "\n",
    "class Observer(_Frame):\n",
    "\n",
    "    figs = []\n",
    "    collectors = []\n",
    "\n",
    "    def __init__(\n",
    "            self,\n",
    "            system,\n",
    "            initials,\n",
    "            obsInps = {},\n",
    "            subObservers = [],\n",
    "            outputPath = '',\n",
    "            _autoarchive = True,\n",
    "            _parentFrame = None,\n",
    "            _is_child = False,\n",
    "            _autobackup = True,\n",
    "            ):\n",
    "\n",
    "        scripts = {}\n",
    "        for index, subObserver in enumerate(subObservers):\n",
    "            scriptname = 'observerscript_' + str(index)\n",
    "            scripts[scriptname] = script\n",
    "\n",
    "        # Making stamps and stuff\n",
    "\n",
    "        _model_inputs, _model_stamps, _model_scripts = \\\n",
    "            _scripts_and_stamps(system, initials)\n",
    "\n",
    "        self.inHashID = 'pemod_' + _model_stamps['allstamp'][1]\n",
    "\n",
    "        stamps = {}\n",
    "        if uw.mpi.rank == 0:\n",
    "            stamps = {\n",
    "                'obsInps': hashstamp(obsInps),\n",
    "                'scripts': hashstamp(\n",
    "                    [open(script) for scriptname, script \\\n",
    "                        in sorted(scripts.items())]\n",
    "                    )\n",
    "                }\n",
    "            stamps['allstamp'] = hashstamp(stamps)\n",
    "            for stampKey, stampVal in stamps.items():\n",
    "                stamps[stampKey] = [stampVal, wordhashFn(stampVal)]\n",
    "        stamps = uw.mpi.comm.bcast(stamps, root = 0)\n",
    "\n",
    "        # Making the checkpointer:\n",
    "\n",
    "        checkpointer = Checkpointer(\n",
    "            stamps = stamps,\n",
    "            step = system.step,\n",
    "            modeltime = system.modeltime,\n",
    "            figs = self.figs,\n",
    "            dataCollectors = self.collectors,\n",
    "            scripts = scripts,\n",
    "            inputs = {'obsInps': obsInps}\n",
    "            )\n",
    "\n",
    "        self.checkpointer = checkpointer\n",
    "        self.inputs = inputs\n",
    "        self.scripts = scripts\n",
    "        self.stamps = stamps\n",
    "        self.system = system\n",
    "        self.initials = initials\n",
    "        self.step = system.step\n",
    "        self.modeltime = system.modeltime\n",
    "        self.instanceID = stamps['allstamp'][1]\n",
    "        self.outputPath = outputPath\n",
    "\n",
    "        super().__init__()\n",
    "\n",
    "    def prompt(self):\n",
    "        pass\n",
    "\n",
    "    def checkpoint(self, path):\n",
    "        self.checkpointer.checkpoint(path)\n",
    "\n",
    "    def load_checkpoint(self, path):\n",
    "        pass"
   ]
  },
  {
   "cell_type": "code",
   "execution_count": 9,
   "metadata": {
    "scrolled": true
   },
   "outputs": [
    {
     "name": "stdout",
     "output_type": "stream",
     "text": [
      "Making stamps...\n",
      "Stamps made.\n"
     ]
    },
    {
     "ename": "NameError",
     "evalue": "name 'inputs' is not defined",
     "output_type": "error",
     "traceback": [
      "\u001b[0;31m---------------------------------------------------------------------------\u001b[0m",
      "\u001b[0;31mNameError\u001b[0m                                 Traceback (most recent call last)",
      "\u001b[0;32m<ipython-input-9-ea206b3c0981>\u001b[0m in \u001b[0;36m<module>\u001b[0;34m\u001b[0m\n\u001b[0;32m----> 1\u001b[0;31m \u001b[0mobserver\u001b[0m \u001b[0;34m=\u001b[0m \u001b[0mObserver\u001b[0m\u001b[0;34m(\u001b[0m\u001b[0msystem\u001b[0m\u001b[0;34m,\u001b[0m \u001b[0minitials\u001b[0m\u001b[0;34m,\u001b[0m \u001b[0;34m[\u001b[0m\u001b[0;34m'./testfile.py'\u001b[0m\u001b[0;34m]\u001b[0m\u001b[0;34m)\u001b[0m\u001b[0;34m\u001b[0m\u001b[0m\n\u001b[0m",
      "\u001b[0;32m<ipython-input-8-bfc47c8b35f0>\u001b[0m in \u001b[0;36m__init__\u001b[0;34m(self, system, initials, obsInps, subObservers, outputPath, _autoarchive, _parentFrame, _is_child, _autobackup)\u001b[0m\n\u001b[1;32m     83\u001b[0m \u001b[0;34m\u001b[0m\u001b[0m\n\u001b[1;32m     84\u001b[0m         \u001b[0mself\u001b[0m\u001b[0;34m.\u001b[0m\u001b[0mcheckpointer\u001b[0m \u001b[0;34m=\u001b[0m \u001b[0mcheckpointer\u001b[0m\u001b[0;34m\u001b[0m\u001b[0m\n\u001b[0;32m---> 85\u001b[0;31m         \u001b[0mself\u001b[0m\u001b[0;34m.\u001b[0m\u001b[0minputs\u001b[0m \u001b[0;34m=\u001b[0m \u001b[0minputs\u001b[0m\u001b[0;34m\u001b[0m\u001b[0m\n\u001b[0m\u001b[1;32m     86\u001b[0m         \u001b[0mself\u001b[0m\u001b[0;34m.\u001b[0m\u001b[0mscripts\u001b[0m \u001b[0;34m=\u001b[0m \u001b[0mscripts\u001b[0m\u001b[0;34m\u001b[0m\u001b[0m\n\u001b[1;32m     87\u001b[0m         \u001b[0mself\u001b[0m\u001b[0;34m.\u001b[0m\u001b[0mstamps\u001b[0m \u001b[0;34m=\u001b[0m \u001b[0mstamps\u001b[0m\u001b[0;34m\u001b[0m\u001b[0m\n",
      "\u001b[0;31mNameError\u001b[0m: name 'inputs' is not defined"
     ]
    }
   ],
   "source": [
    "observer = Observer(system, initials, ['./testfile.py'])"
   ]
  },
  {
   "cell_type": "code",
   "execution_count": null,
   "metadata": {},
   "outputs": [],
   "source": [
    "path = os.path.join(outputPath, 'obstest')\n",
    "observer.checkpoint(path)"
   ]
  },
  {
   "cell_type": "code",
   "execution_count": null,
   "metadata": {},
   "outputs": [],
   "source": [
    "system.iterate()"
   ]
  },
  {
   "cell_type": "code",
   "execution_count": null,
   "metadata": {
    "scrolled": true
   },
   "outputs": [],
   "source": [
    "observer.checkpoint(path)"
   ]
  },
  {
   "cell_type": "code",
   "execution_count": null,
   "metadata": {},
   "outputs": [],
   "source": []
  }
 ],
 "metadata": {
  "kernelspec": {
   "display_name": "Python 3",
   "language": "python",
   "name": "python3"
  },
  "language_info": {
   "codemirror_mode": {
    "name": "ipython",
    "version": 3
   },
   "file_extension": ".py",
   "mimetype": "text/x-python",
   "name": "python",
   "nbconvert_exporter": "python",
   "pygments_lexer": "ipython3",
   "version": "3.5.3"
  }
 },
 "nbformat": 4,
 "nbformat_minor": 2
}
