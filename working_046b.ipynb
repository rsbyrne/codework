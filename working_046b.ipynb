{
 "cells": [
  {
   "cell_type": "code",
   "execution_count": 1,
   "metadata": {},
   "outputs": [],
   "source": [
    "import sys\n",
    "workdir = '/home/jovyan/workspace'\n",
    "if not workdir in sys.path:\n",
    "    sys.path.append(workdir)"
   ]
  },
  {
   "cell_type": "code",
   "execution_count": 2,
   "metadata": {},
   "outputs": [],
   "source": [
    "import planetengine\n",
    "system = planetengine.systems.arrhenius.build(res = 64)\n",
    "initials = {'temperatureField': planetengine.initials.sinusoidal.IC(freq = 1.)}\n",
    "planetengine.initials.apply(\n",
    "    initials,\n",
    "    system,\n",
    "    )\n",
    "system.solve()"
   ]
  },
  {
   "cell_type": "code",
   "execution_count": 3,
   "metadata": {},
   "outputs": [],
   "source": [
    "from planetengine.observer import Observer"
   ]
  },
  {
   "cell_type": "code",
   "execution_count": 4,
   "metadata": {},
   "outputs": [],
   "source": [
    "class MyObserver(Observer):\n",
    "\n",
    "    def __init__(\n",
    "            self,\n",
    "            _system,\n",
    "            _initials,\n",
    "            _outputPath,\n",
    "            ):\n",
    "        self.system = _system\n",
    "        self.initials = _initials\n",
    "        self.outputPath = _outputPath\n",
    "        self.scripts = ['test.py']\n",
    "        self.inputs = {'a': 1}\n",
    "        self.obsVars = system.varsOfState\n",
    "        self.collectors = []\n",
    "        self.figs = []\n",
    "        super().__init__()"
   ]
  },
  {
   "cell_type": "code",
   "execution_count": 8,
   "metadata": {},
   "outputs": [],
   "source": [
    "from planetengine import paths"
   ]
  },
  {
   "cell_type": "code",
   "execution_count": 10,
   "metadata": {},
   "outputs": [],
   "source": [
    "paths.delete_testdir()"
   ]
  },
  {
   "cell_type": "code",
   "execution_count": null,
   "metadata": {},
   "outputs": [],
   "source": [
    "testdir.make_testdir()"
   ]
  },
  {
   "cell_type": "code",
   "execution_count": null,
   "metadata": {},
   "outputs": [],
   "source": [
    "myobs = MyObserver(system, initials, planetengine.testPath)"
   ]
  },
  {
   "cell_type": "code",
   "execution_count": null,
   "metadata": {},
   "outputs": [],
   "source": [
    "myobs.checkpoint()"
   ]
  },
  {
   "cell_type": "code",
   "execution_count": null,
   "metadata": {},
   "outputs": [],
   "source": [
    "system.iterate()"
   ]
  },
  {
   "cell_type": "code",
   "execution_count": null,
   "metadata": {},
   "outputs": [],
   "source": [
    "myobs.update()"
   ]
  },
  {
   "cell_type": "code",
   "execution_count": null,
   "metadata": {},
   "outputs": [],
   "source": [
    "myobs.checkpoint()"
   ]
  },
  {
   "cell_type": "code",
   "execution_count": null,
   "metadata": {},
   "outputs": [],
   "source": [
    "myobs.archive()"
   ]
  },
  {
   "cell_type": "code",
   "execution_count": null,
   "metadata": {},
   "outputs": [],
   "source": [
    "myobs.unarchive()"
   ]
  },
  {
   "cell_type": "code",
   "execution_count": null,
   "metadata": {},
   "outputs": [],
   "source": [
    "import os\n",
    "myobs.branch(os.path.join(planetengine.testPath, 'subdir'))"
   ]
  },
  {
   "cell_type": "code",
   "execution_count": null,
   "metadata": {},
   "outputs": [],
   "source": [
    "# myvar = planetengine.functions.convert(system.temperatureField)"
   ]
  },
  {
   "cell_type": "code",
   "execution_count": null,
   "metadata": {},
   "outputs": [],
   "source": [
    "# myvars = {\n",
    "#     'temperature': system.temperatureField,\n",
    "#     'viscosity': system.viscosityFn\n",
    "#     }\n",
    "# myvars = planetengine.functions.convert(myvars)"
   ]
  },
  {
   "cell_type": "code",
   "execution_count": null,
   "metadata": {},
   "outputs": [],
   "source": [
    "# import numpy as np\n",
    "# with planetengine.tests.TestDir() as outputPath:\n",
    "#     olddata = np.array(\n",
    "#         [var.var.data[:] for varName, var in sorted(myvars.items())]\n",
    "#         )\n",
    "#     planetengine.disk.varsOnDisk(myvars, outputPath, mode = 'save')\n",
    "#     for varName, var in sorted(myvars.items()):\n",
    "#         var.var.data[:] = 0.\n",
    "#     planetengine.disk.varsOnDisk(myvars, outputPath, mode = 'load')\n",
    "#     newdata = np.array(\n",
    "#         [var.var.data[:] for varName, var in sorted(myvars.items())]\n",
    "#         )\n",
    "#     assert np.allclose(olddata, newdata)\n",
    "#     print(\"Success!\")"
   ]
  },
  {
   "cell_type": "code",
   "execution_count": null,
   "metadata": {},
   "outputs": [],
   "source": []
  },
  {
   "cell_type": "code",
   "execution_count": null,
   "metadata": {},
   "outputs": [],
   "source": [
    "# class CustomFrame(_Frame):\n",
    "#     def __init__(self):\n",
    "\n",
    "#         system = planetengine.systems.arrhenius.build(res = 16)\n",
    "#         initials = {'temperatureField': planetengine.initials.sinusoidal.IC(freq = 1.)}\n",
    "#         planetengine.initials.apply(\n",
    "#             initials,\n",
    "#             system,\n",
    "#             )\n",
    "#         system.solve()\n",
    "\n",
    "#         self.system = system\n",
    "#         self.initials = initials\n",
    "#         self.outputPath = '/home/jovyan/workspace/data/test'\n",
    "#         self.instanceID = 'testFrame'\n",
    "#         self.stamps = {'a': 1}\n",
    "#         self.step = 0\n",
    "#         self.onDisk = False\n",
    "#         self._is_child = False\n",
    "#         self.inFrames = []\n",
    "#         self._autoarchive = True\n",
    "#         checkpointer = checkpoint.Checkpointer(\n",
    "#             stamps = self.stamps,\n",
    "#             step = system.step,\n",
    "#             modeltime = system.modeltime,\n",
    "#             )\n",
    "#         mypath = os.path.join(self.outputPath, self.instanceID)\n",
    "#         def checkpoint(path = None):\n",
    "#             if path is None:\n",
    "#                 path = mypath\n",
    "#             checkpointer.checkpoint(path)\n",
    "#             self.onDisk = True\n",
    "#         self.checkpoint = checkpoint\n",
    "#         def load_checkpoint(step):\n",
    "#             pass\n",
    "#         self.load_checkpoint = load_checkpoint\n",
    "\n",
    "#         super().__init__()"
   ]
  }
 ],
 "metadata": {
  "kernelspec": {
   "display_name": "Python 3",
   "language": "python",
   "name": "python3"
  },
  "language_info": {
   "codemirror_mode": {
    "name": "ipython",
    "version": 3
   },
   "file_extension": ".py",
   "mimetype": "text/x-python",
   "name": "python",
   "nbconvert_exporter": "python",
   "pygments_lexer": "ipython3",
   "version": "3.5.3"
  }
 },
 "nbformat": 4,
 "nbformat_minor": 2
}
