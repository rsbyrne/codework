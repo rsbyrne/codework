{
 "cells": [
  {
   "cell_type": "code",
   "execution_count": 1,
   "metadata": {},
   "outputs": [],
   "source": [
    "import sys\n",
    "sys.path.append('/home/jovyan/workspace')"
   ]
  },
  {
   "cell_type": "code",
   "execution_count": null,
   "metadata": {},
   "outputs": [],
   "source": [
    "%%sh\n",
    "rm -rf '../data/test'"
   ]
  },
  {
   "cell_type": "code",
   "execution_count": 2,
   "metadata": {},
   "outputs": [],
   "source": [
    "outputPath = '../data/test'"
   ]
  },
  {
   "cell_type": "code",
   "execution_count": null,
   "metadata": {},
   "outputs": [],
   "source": [
    "# from planetengine.utilities import Grouper\n",
    "# from planetengine.utilities import hashstamp\n",
    "# from planetengine.wordhash import wordhash as wordhashFn\n",
    "# from planetengine.checkpoint import Checkpointer\n",
    "# from planetengine.frame import _scripts_and_stamps\n",
    "# import underworld as uw\n",
    "\n",
    "# class Observer:\n",
    "\n",
    "#     figs = []\n",
    "#     collectors = []\n",
    "\n",
    "#     def __init__(\n",
    "#             self,\n",
    "#             system,\n",
    "#             initials,\n",
    "#             scriptlist,\n",
    "#             **kwargs\n",
    "#             ):\n",
    "\n",
    "#         obsInp = kwargs\n",
    "\n",
    "#         scripts = {}\n",
    "#         for index, script in enumerate(scriptlist):\n",
    "#             scriptname = 'observerscript_' + str(index)\n",
    "#             scripts[scriptname] = script\n",
    "\n",
    "#         # Making stamps and stuff\n",
    "\n",
    "#         _model_inputs, _model_stamps, _model_hashID, _model_scripts = \\\n",
    "#             _scripts_and_stamps(system, initials)\n",
    "\n",
    "#         stamps = {}\n",
    "#         if uw.mpi.rank == 0:\n",
    "#             stamps = {\n",
    "#                 'inputs': hashstamp(obsInp),\n",
    "#                 'scripts': hashstamp(\n",
    "#                     [open(script) for scriptname, script \\\n",
    "#                         in sorted(scripts.items())]\n",
    "#                     )\n",
    "#                 }\n",
    "#             for stampKey, stampVal in stamps.items():\n",
    "#                 stamps[stampKey] = [stampVal, wordhashFn(stampVal)]\n",
    "#             stamps['model_stamps'] = [_model_hashID, _model_stamps]\n",
    "#         stamps = uw.mpi.comm.bcast(stamps, root = 0)\n",
    "\n",
    "#         scripts.update(_model_scripts)\n",
    "#         inputs = {\n",
    "#             'obsInp': obsInp,\n",
    "#             **_model_inputs,\n",
    "#             }\n",
    "\n",
    "#         # Making the checkpointer:\n",
    "\n",
    "#         checkpointer = Checkpointer(\n",
    "#             stamps = stamps,\n",
    "#             step = system.step,\n",
    "#             modeltime = system.modeltime,\n",
    "#             figs = self.figs,\n",
    "#             dataCollectors = self.collectors,\n",
    "#             scripts = scripts,\n",
    "#             inputs = inputs\n",
    "#             )\n",
    "\n",
    "#         self.checkpointer = checkpointer\n",
    "#         self.inputs = inputs\n",
    "#         self.scripts = scripts\n",
    "#         self.stamps = stamps\n",
    "#         self.system = system\n",
    "#         self.initials = initials\n",
    "#         self.step = system.step\n",
    "#         self.modeltime = system.modeltime\n",
    "\n",
    "#     def checkpoint(self, path):\n",
    "#         self.checkpointer.checkpoint(path)\n",
    "\n",
    "#     def prompt(self):\n",
    "#         pass"
   ]
  },
  {
   "cell_type": "code",
   "execution_count": 3,
   "metadata": {},
   "outputs": [],
   "source": [
    "import planetengine\n",
    "system = planetengine.systems.arrhenius.build(res = 16)\n",
    "initials = {'temperatureField': planetengine.initials.sinusoidal.IC(freq = 1.)}\n",
    "planetengine.initials.apply(\n",
    "    initials,\n",
    "    system,\n",
    "    )\n",
    "system.solve()"
   ]
  },
  {
   "cell_type": "code",
   "execution_count": 4,
   "metadata": {
    "scrolled": true
   },
   "outputs": [
    {
     "name": "stdout",
     "output_type": "stream",
     "text": [
      "Making stamps...\n",
      "Stamps made.\n"
     ]
    }
   ],
   "source": [
    "observer = planetengine.observer.Observer(system, initials, ['./testfile.py'])"
   ]
  },
  {
   "cell_type": "code",
   "execution_count": 6,
   "metadata": {},
   "outputs": [
    {
     "name": "stdout",
     "output_type": "stream",
     "text": [
      "Pre-existing directory for this model has been found. Continuing...\n",
      "Checkpointing...\n",
      "Making checkpoint directory.\n",
      "Saving figures...\n",
      "Figures saved.\n",
      "Saving vars of state...\n",
      "Saved.\n",
      "Saving snapshot...\n",
      "Snapshot saved.\n",
      "Saving modeltime...\n",
      "Modeltime saved.\n",
      "Saving stamps...\n",
      "Stamps saved.\n",
      "Saving datasets...\n",
      "Datasets saved.\n",
      "Checkpointed!\n"
     ]
    }
   ],
   "source": [
    "path = os.path.join(outputPath, 'obstest')\n",
    "observer.checkpoint(path)"
   ]
  },
  {
   "cell_type": "code",
   "execution_count": null,
   "metadata": {},
   "outputs": [],
   "source": [
    "system.iterate()"
   ]
  },
  {
   "cell_type": "code",
   "execution_count": null,
   "metadata": {
    "scrolled": true
   },
   "outputs": [],
   "source": [
    "observer.checkpoint(path)"
   ]
  },
  {
   "cell_type": "code",
   "execution_count": null,
   "metadata": {},
   "outputs": [],
   "source": []
  }
 ],
 "metadata": {
  "kernelspec": {
   "display_name": "Python 3",
   "language": "python",
   "name": "python3"
  },
  "language_info": {
   "codemirror_mode": {
    "name": "ipython",
    "version": 3
   },
   "file_extension": ".py",
   "mimetype": "text/x-python",
   "name": "python",
   "nbconvert_exporter": "python",
   "pygments_lexer": "ipython3",
   "version": "3.5.3"
  }
 },
 "nbformat": 4,
 "nbformat_minor": 2
}
