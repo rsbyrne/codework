{
 "cells": [
  {
   "cell_type": "code",
   "execution_count": 1,
   "metadata": {},
   "outputs": [],
   "source": [
    "import sys\n",
    "workPath = '/home/jovyan/workspace'\n",
    "if not workPath in sys.path:\n",
    "    sys.path.append(workPath)"
   ]
  },
  {
   "cell_type": "code",
   "execution_count": 2,
   "metadata": {},
   "outputs": [],
   "source": [
    "import planetengine"
   ]
  },
  {
   "cell_type": "code",
   "execution_count": 3,
   "metadata": {},
   "outputs": [],
   "source": [
    "testdir = planetengine.paths.make_testdir()"
   ]
  },
  {
   "cell_type": "code",
   "execution_count": 4,
   "metadata": {},
   "outputs": [],
   "source": [
    "mycampaign = planetengine.campaigns.arrbench.build(path = testdir, suite = 'light')"
   ]
  },
  {
   "cell_type": "code",
   "execution_count": 5,
   "metadata": {
    "scrolled": true
   },
   "outputs": [
    {
     "data": {
      "text/plain": [
       "{'pejob_bluasluufra-sodwauvu',\n",
       " 'pejob_eguebreophu-efloogreigra',\n",
       " 'pejob_epouthotwi-vaeskoushu',\n",
       " 'pejob_etheakliame-ireakidwi',\n",
       " 'pejob_igiuphufli-ablogriadwi',\n",
       " 'pejob_iphuaxoekle-ebleustoeflo',\n",
       " 'pejob_isfeidwuiga-ebreosfoebra',\n",
       " 'pejob_iweumeathe-uskianoagra',\n",
       " 'pejob_kreiraitru-eyoobizo',\n",
       " 'pejob_obruufreivo-axoovefli',\n",
       " 'pejob_odaetruagru-esmeabuuda',\n",
       " 'pejob_oglepaicu-spoufrohu',\n",
       " 'pejob_ograosniisu-rauduovi',\n",
       " 'pejob_ohuagaesfe-ushiopeegu',\n",
       " 'pejob_opruesluosta-ophiedrosme',\n",
       " 'pejob_oskaoshieta-afeuribu',\n",
       " 'pejob_osnumuoja-usneflueyu',\n",
       " 'pejob_slepraakru-xiedaoplo',\n",
       " 'pejob_udaokoitha-mioraaxo',\n",
       " 'pejob_ukriosloike-ostoomeeyo',\n",
       " 'pejob_ukwiubroiphi-awuahuifra',\n",
       " 'pejob_upeokliema-onuideuna',\n",
       " 'pejob_usheibaezu-esheuthaatwi',\n",
       " 'pejob_usmeitwairu-usmuevieski',\n",
       " 'pejob_utruesniequ-ageofease',\n",
       " 'pejob_uzabrooce-asmugiama',\n",
       " 'pejob_uzausniispu-otuistuosho'}"
      ]
     },
     "execution_count": 5,
     "metadata": {},
     "output_type": "execute_result"
    }
   ],
   "source": [
    "mycampaign.jobs_available"
   ]
  },
  {
   "cell_type": "code",
   "execution_count": 6,
   "metadata": {},
   "outputs": [],
   "source": [
    "for i in range(12):\n",
    "    mycampaign.subrun(cores = 2)"
   ]
  },
  {
   "cell_type": "code",
   "execution_count": 7,
   "metadata": {},
   "outputs": [],
   "source": [
    "# mycampaign.fm.move(\n",
    "#     'logs/pejob_akleicuuju-abloograowa.error',\n",
    "#     'logs/completed/pejob_akleicuuju-abloograowa.error'\n",
    "#     )"
   ]
  }
 ],
 "metadata": {
  "kernelspec": {
   "display_name": "Python 3",
   "language": "python",
   "name": "python3"
  },
  "language_info": {
   "codemirror_mode": {
    "name": "ipython",
    "version": 3
   },
   "file_extension": ".py",
   "mimetype": "text/x-python",
   "name": "python",
   "nbconvert_exporter": "python",
   "pygments_lexer": "ipython3",
   "version": "3.5.3"
  }
 },
 "nbformat": 4,
 "nbformat_minor": 2
}
