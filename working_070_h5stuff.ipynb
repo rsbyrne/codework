{
 "cells": [
  {
   "cell_type": "code",
   "execution_count": 1,
   "metadata": {},
   "outputs": [],
   "source": [
    "import dask\n",
    "import os\n",
    "import tarfile\n",
    "import h5py\n",
    "import pandas as pd\n",
    "import numpy as np"
   ]
  },
  {
   "cell_type": "code",
   "execution_count": 3,
   "metadata": {},
   "outputs": [],
   "source": [
    "def clean_df_colnames(df):\n",
    "    df.columns = df.columns.str.strip('#')\n",
    "    df.columns = df.columns.str.strip().str.replace(' ', '_').str.replace('(', '').str.replace(')', '')"
   ]
  },
  {
   "cell_type": "code",
   "execution_count": 4,
   "metadata": {},
   "outputs": [],
   "source": [
    "inputPath = '../remote/transfer/VAULT/data/isobench/isobenchJune/res64'\n",
    "outputPath = '../out/isobench_analysis'\n",
    "targetFilename = 'zerodData.csv'\n",
    "h5filename = os.path.join(outputPath, 'isobench.h5')\n",
    "pemods = [\n",
    "    os.path.splitext(os.path.splitext(filename)[0])[0] \\\n",
    "        for filename in os.listdir(inputPath) \\\n",
    "            if filename[:6] == 'pemod_'\n",
    "    ]\n",
    "os.makedirs(outputPath, exist_ok = True)\n",
    "with h5py.File(h5filename, 'w') as myfile:\n",
    "    for pemod in pemods:\n",
    "        filename = os.path.join(inputPath, pemod + '.tar.gz')\n",
    "        with tarfile.open(filename) as file:\n",
    "            file.extract(targetFilename, outputPath)\n",
    "            targetFilepath = os.path.join(outputPath, targetFilename)\n",
    "            df = pd.read_csv(targetFilepath)\n",
    "            clean_df_colnames(df)\n",
    "            group = myfile.create_group(pemod)\n",
    "            for key in df.keys():\n",
    "                group.create_dataset(\n",
    "                    name = key,\n",
    "                    data = df[key],\n",
    "                    chunks = True\n",
    "                    )"
   ]
  },
  {
   "cell_type": "code",
   "execution_count": 5,
   "metadata": {},
   "outputs": [],
   "source": [
    "mydata = h5py.File(h5filename, 'r')"
   ]
  },
  {
   "cell_type": "code",
   "execution_count": 6,
   "metadata": {},
   "outputs": [],
   "source": [
    "mygroup = mydata[list(mydata.keys())[0]]"
   ]
  },
  {
   "cell_type": "code",
   "execution_count": 9,
   "metadata": {},
   "outputs": [
    {
     "data": {
      "text/plain": [
       "<HDF5 dataset \"nu\": shape (12,), type \"<f8\">"
      ]
     },
     "execution_count": 9,
     "metadata": {},
     "output_type": "execute_result"
    }
   ],
   "source": [
    "mydata[list(mydata.keys())[1]]"
   ]
  },
  {
   "cell_type": "code",
   "execution_count": null,
   "metadata": {
    "scrolled": true
   },
   "outputs": [],
   "source": [
    "mydata[list(mydata.keys())[0]][...]"
   ]
  },
  {
   "cell_type": "code",
   "execution_count": null,
   "metadata": {},
   "outputs": [],
   "source": [
    "mydata.close()"
   ]
  },
  {
   "cell_type": "code",
   "execution_count": null,
   "metadata": {},
   "outputs": [],
   "source": [
    "mydataset = mydata['pemod_abyssus-leprousness']"
   ]
  },
  {
   "cell_type": "code",
   "execution_count": null,
   "metadata": {},
   "outputs": [],
   "source": [
    "myarr = mydata[list(mydata.keys())[1]][...]"
   ]
  },
  {
   "cell_type": "code",
   "execution_count": null,
   "metadata": {},
   "outputs": [],
   "source": [
    "myarr."
   ]
  },
  {
   "cell_type": "code",
   "execution_count": null,
   "metadata": {},
   "outputs": [],
   "source": [
    "help(h5py.File.create_dataset)"
   ]
  },
  {
   "cell_type": "code",
   "execution_count": null,
   "metadata": {},
   "outputs": [],
   "source": []
  }
 ],
 "metadata": {
  "kernelspec": {
   "display_name": "Python 3",
   "language": "python",
   "name": "python3"
  },
  "language_info": {
   "codemirror_mode": {
    "name": "ipython",
    "version": 3
   },
   "file_extension": ".py",
   "mimetype": "text/x-python",
   "name": "python",
   "nbconvert_exporter": "python",
   "pygments_lexer": "ipython3",
   "version": "3.7.3"
  }
 },
 "nbformat": 4,
 "nbformat_minor": 2
}
