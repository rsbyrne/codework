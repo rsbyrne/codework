{
 "cells": [
  {
   "cell_type": "code",
   "execution_count": 13,
   "metadata": {},
   "outputs": [
    {
     "ename": "ImportError",
     "evalue": "No module named 'basdgasdf'",
     "output_type": "error",
     "traceback": [
      "\u001b[0;31m---------------------------------------------------------------------------\u001b[0m",
      "\u001b[0;31mImportError\u001b[0m                               Traceback (most recent call last)",
      "\u001b[0;32m<ipython-input-13-0fd7c2434478>\u001b[0m in \u001b[0;36m<module>\u001b[0;34m\u001b[0m\n\u001b[0;32m----> 1\u001b[0;31m \u001b[0;32mimport\u001b[0m \u001b[0mbasdgasdf\u001b[0m\u001b[0;34m\u001b[0m\u001b[0m\n\u001b[0m",
      "\u001b[0;31mImportError\u001b[0m: No module named 'basdgasdf'"
     ]
    }
   ],
   "source": [
    "import basdgasdf"
   ]
  },
  {
   "cell_type": "code",
   "execution_count": 5,
   "metadata": {},
   "outputs": [
    {
     "data": {
      "text/plain": [
       "<module 'sys' (built-in)>"
      ]
     },
     "execution_count": 5,
     "metadata": {},
     "output_type": "execute_result"
    }
   ],
   "source": [
    "sys"
   ]
  },
  {
   "cell_type": "code",
   "execution_count": 6,
   "metadata": {},
   "outputs": [],
   "source": [
    "import os"
   ]
  },
  {
   "cell_type": "code",
   "execution_count": 7,
   "metadata": {},
   "outputs": [],
   "source": [
    "myname = 'abc/def.py'"
   ]
  },
  {
   "cell_type": "code",
   "execution_count": 12,
   "metadata": {},
   "outputs": [
    {
     "data": {
      "text/plain": [
       "'def'"
      ]
     },
     "execution_count": 12,
     "metadata": {},
     "output_type": "execute_result"
    }
   ],
   "source": [
    "os.path.splitext(os.path.basename(myname))[0]\n"
   ]
  },
  {
   "cell_type": "code",
   "execution_count": 15,
   "metadata": {},
   "outputs": [
    {
     "data": {
      "text/plain": [
       "'/home/jovyan/workspace/codework/test'"
      ]
     },
     "execution_count": 15,
     "metadata": {},
     "output_type": "execute_result"
    }
   ],
   "source": [
    "os.path.abspath('test')"
   ]
  },
  {
   "cell_type": "code",
   "execution_count": null,
   "metadata": {},
   "outputs": [],
   "source": []
  },
  {
   "cell_type": "code",
   "execution_count": null,
   "metadata": {},
   "outputs": [],
   "source": [
    "import sys\n",
    "workPath = '/home/jovyan/workspace'\n",
    "if not workPath in sys.path:\n",
    "    sys.path.append(workPath)"
   ]
  },
  {
   "cell_type": "code",
   "execution_count": null,
   "metadata": {},
   "outputs": [],
   "source": [
    "import lhagxwlijfjnrynm as testmodule"
   ]
  },
  {
   "cell_type": "code",
   "execution_count": null,
   "metadata": {},
   "outputs": [],
   "source": [
    "dir(testmodule)"
   ]
  },
  {
   "cell_type": "code",
   "execution_count": null,
   "metadata": {},
   "outputs": [],
   "source": [
    "'build' in dir(testmodule)"
   ]
  },
  {
   "cell_type": "code",
   "execution_count": null,
   "metadata": {},
   "outputs": [],
   "source": [
    "import os\n",
    "\n",
    "import planetengine\n",
    "import everest"
   ]
  },
  {
   "cell_type": "code",
   "execution_count": 3,
   "metadata": {},
   "outputs": [],
   "source": [
    "outputPath = planetengine.paths.make_testdir()\n",
    "filepath = os.path.join(outputPath, 'test.h5')"
   ]
  },
  {
   "cell_type": "code",
   "execution_count": 4,
   "metadata": {},
   "outputs": [],
   "source": [
    "system = planetengine.systems.isovisc.build(res = 16)\n",
    "system.anchor(path = outputPath)"
   ]
  },
  {
   "cell_type": "code",
   "execution_count": 5,
   "metadata": {},
   "outputs": [
    {
     "name": "stdout",
     "output_type": "stream",
     "text": [
      "Old object found - reusing.\n"
     ]
    }
   ],
   "source": [
    "observer = planetengine.observers.standard.build(system)\n",
    "system.co_anchor(observer)"
   ]
  },
  {
   "cell_type": "code",
   "execution_count": 6,
   "metadata": {},
   "outputs": [],
   "source": [
    "for i in range(3):\n",
    "    for i in range(3):\n",
    "        for i in range(3):\n",
    "            system.go(3)\n",
    "        system.store()\n",
    "        observer.store()\n",
    "    system.save()\n",
    "    observer.save()"
   ]
  },
  {
   "cell_type": "code",
   "execution_count": 8,
   "metadata": {},
   "outputs": [],
   "source": [
    "myfile = system.file()"
   ]
  },
  {
   "cell_type": "code",
   "execution_count": 13,
   "metadata": {},
   "outputs": [
    {
     "data": {
      "text/plain": [
       "array([[[-110,    3,    3],\n",
       "        [-111,   25,   25],\n",
       "        [-111,   49,   49],\n",
       "        [-112,   70,   70],\n",
       "        [-113,   88,   88],\n",
       "        [-114,  102,  102],\n",
       "        [-116,  112,  112],\n",
       "        [-117,  117,  117],\n",
       "        [-119,  117,  117],\n",
       "        [-120,  111,  111],\n",
       "        [-121,  101,  101],\n",
       "        [-123,   86,   86],\n",
       "        [-124,   68,   68],\n",
       "        [-124,   46,   46],\n",
       "        [-125,   22,   22],\n",
       "        [-125,   -1,   -1]],\n",
       "\n",
       "       [[ -77,    0,    0],\n",
       "        [ -78,   16,   16],\n",
       "        [ -79,   39,   39],\n",
       "        [ -81,   59,   59],\n",
       "        [ -85,   76,   76],\n",
       "        [ -88,   89,   89],\n",
       "        [ -92,   99,   99],\n",
       "        [ -97,  103,  103],\n",
       "        [-101,  103,  103],\n",
       "        [-105,   98,   98],\n",
       "        [-109,   89,   89],\n",
       "        [-113,   75,   75],\n",
       "        [-116,   58,   58],\n",
       "        [-118,   38,   38],\n",
       "        [-120,   16,   16],\n",
       "        [-120,   -3,   -3]],\n",
       "\n",
       "       [[ -45,   -1,   -1],\n",
       "        [ -46,   13,   13],\n",
       "        [ -49,   33,   33],\n",
       "        [ -53,   51,   51],\n",
       "        [ -57,   67,   67],\n",
       "        [ -63,   79,   79],\n",
       "        [ -70,   87,   87],\n",
       "        [ -77,   91,   91],\n",
       "        [ -84,   91,   91],\n",
       "        [ -91,   87,   87],\n",
       "        [ -97,   78,   78],\n",
       "        [-103,   66,   66],\n",
       "        [-108,   51,   51],\n",
       "        [-111,   32,   32],\n",
       "        [-114,   12,   12],\n",
       "        [-115,   -4,   -4]],\n",
       "\n",
       "       [[ -15,   -3,   -3],\n",
       "        [ -17,    8,    8],\n",
       "        [ -21,   26,   26],\n",
       "        [ -26,   41,   41],\n",
       "        [ -33,   55,   55],\n",
       "        [ -40,   65,   65],\n",
       "        [ -49,   72,   72],\n",
       "        [ -58,   75,   75],\n",
       "        [ -68,   75,   75],\n",
       "        [ -77,   72,   72],\n",
       "        [ -85,   64,   64],\n",
       "        [ -93,   54,   54],\n",
       "        [ -99,   41,   41],\n",
       "        [-105,   25,   25],\n",
       "        [-108,    8,    8],\n",
       "        [-110,   -6,   -6]],\n",
       "\n",
       "       [[  10,   -5,   -5],\n",
       "        [   7,    3,    3],\n",
       "        [   3,   17,   17],\n",
       "        [  -3,   29,   29],\n",
       "        [ -11,   40,   40],\n",
       "        [ -20,   48,   48],\n",
       "        [ -30,   54,   54],\n",
       "        [ -41,   56,   56],\n",
       "        [ -53,   56,   56],\n",
       "        [ -64,   53,   53],\n",
       "        [ -74,   47,   47],\n",
       "        [ -83,   39,   39],\n",
       "        [ -91,   29,   29],\n",
       "        [ -97,   16,   16],\n",
       "        [-102,    3,    3],\n",
       "        [-104,   -7,   -7]],\n",
       "\n",
       "       [[  32,   -7,   -7],\n",
       "        [  30,   -2,   -2],\n",
       "        [  24,    7,    7],\n",
       "        [  17,   15,   15],\n",
       "        [   8,   23,   23],\n",
       "        [  -2,   29,   29],\n",
       "        [ -14,   33,   33],\n",
       "        [ -26,   35,   35],\n",
       "        [ -39,   35,   35],\n",
       "        [ -51,   32,   32],\n",
       "        [ -63,   28,   28],\n",
       "        [ -74,   22,   22],\n",
       "        [ -83,   15,   15],\n",
       "        [ -90,    6,    6],\n",
       "        [ -94,   -2,   -2],\n",
       "        [ -97,   -9,   -9]],\n",
       "\n",
       "       [[  51,   -9,   -9],\n",
       "        [  48,   -9,   -9],\n",
       "        [  43,   -3,   -3],\n",
       "        [  35,    1,    1],\n",
       "        [  25,    5,    5],\n",
       "        [  13,    8,    8],\n",
       "        [   0,   10,   10],\n",
       "        [ -12,   11,   11],\n",
       "        [ -26,   11,   11],\n",
       "        [ -40,   10,   10],\n",
       "        [ -52,    8,    8],\n",
       "        [ -64,    4,    4],\n",
       "        [ -73,    0,    0],\n",
       "        [ -81,   -4,   -4],\n",
       "        [ -86,   -9,   -9],\n",
       "        [ -89,  -12,  -12]],\n",
       "\n",
       "       [[  66,  -11,  -11],\n",
       "        [  63,  -16,  -16],\n",
       "        [  58,  -15,  -15],\n",
       "        [  49,  -14,  -14],\n",
       "        [  39,  -13,  -13],\n",
       "        [  26,  -12,  -12],\n",
       "        [  13,  -12,  -12],\n",
       "        [   0,  -12,  -12],\n",
       "        [ -14,  -12,  -12],\n",
       "        [ -28,  -12,  -12],\n",
       "        [ -41,  -13,  -13],\n",
       "        [ -53,  -13,  -13],\n",
       "        [ -63,  -14,  -14],\n",
       "        [ -71,  -15,  -15],\n",
       "        [ -76,  -16,  -16],\n",
       "        [ -79,  -14,  -14]],\n",
       "\n",
       "       [[  79,  -13,  -13],\n",
       "        [  76,  -22,  -22],\n",
       "        [  70,  -26,  -26],\n",
       "        [  62,  -29,  -29],\n",
       "        [  51,  -32,  -32],\n",
       "        [  38,  -34,  -34],\n",
       "        [  25,  -35,  -35],\n",
       "        [  11,  -36,  -36],\n",
       "        [  -3,  -36,  -36],\n",
       "        [ -16,  -35,  -35],\n",
       "        [ -30,  -34,  -34],\n",
       "        [ -41,  -32,  -32],\n",
       "        [ -51,  -29,  -29],\n",
       "        [ -59,  -26,  -26],\n",
       "        [ -64,  -23,  -23],\n",
       "        [ -67,  -16,  -16]],\n",
       "\n",
       "       [[  89,  -16,  -16],\n",
       "        [  86,  -29,  -29],\n",
       "        [  81,  -37,  -37],\n",
       "        [  72,  -43,  -43],\n",
       "        [  62,  -49,  -49],\n",
       "        [  50,  -54,  -54],\n",
       "        [  36,  -57,  -57],\n",
       "        [  22,  -59,  -59],\n",
       "        [   8,  -59,  -59],\n",
       "        [  -4,  -57,  -57],\n",
       "        [ -17,  -54,  -54],\n",
       "        [ -28,  -49,  -49],\n",
       "        [ -37,  -43,  -43],\n",
       "        [ -45,  -37,  -37],\n",
       "        [ -50,  -29,  -29],\n",
       "        [ -53,  -18,  -18]],\n",
       "\n",
       "       [[  98,  -18,  -18],\n",
       "        [  95,  -35,  -35],\n",
       "        [  89,  -46,  -46],\n",
       "        [  82,  -57,  -57],\n",
       "        [  72,  -65,  -65],\n",
       "        [  60,  -72,  -72],\n",
       "        [  48,  -77,  -77],\n",
       "        [  35,  -79,  -79],\n",
       "        [  21,  -79,  -79],\n",
       "        [   9,  -77,  -77],\n",
       "        [  -2,  -72,  -72],\n",
       "        [ -13,  -65,  -65],\n",
       "        [ -21,  -56,  -56],\n",
       "        [ -28,  -46,  -46],\n",
       "        [ -33,  -35,  -35],\n",
       "        [ -36,  -20,  -20]],\n",
       "\n",
       "       [[ 105,  -19,  -19],\n",
       "        [ 102,  -40,  -40],\n",
       "        [  97,  -55,  -55],\n",
       "        [  90,  -68,  -68],\n",
       "        [  81,  -79,  -79],\n",
       "        [  71,  -88,  -88],\n",
       "        [  60,  -94,  -94],\n",
       "        [  48,  -97,  -97],\n",
       "        [  36,  -97,  -97],\n",
       "        [  25,  -94,  -94],\n",
       "        [  14,  -87,  -87],\n",
       "        [   5,  -79,  -79],\n",
       "        [  -2,  -67,  -67],\n",
       "        [  -8,  -54,  -54],\n",
       "        [ -13,  -39,  -39],\n",
       "        [ -15,  -21,  -21]],\n",
       "\n",
       "       [[ 110,  -21,  -21],\n",
       "        [ 108,  -44,  -44],\n",
       "        [ 104,  -61,  -61],\n",
       "        [  98,  -77,  -77],\n",
       "        [  91,  -90,  -90],\n",
       "        [  82, -100, -100],\n",
       "        [  73, -107, -107],\n",
       "        [  63, -111, -111],\n",
       "        [  53, -111, -111],\n",
       "        [  43, -107, -107],\n",
       "        [  34, -100, -100],\n",
       "        [  26,  -89,  -89],\n",
       "        [  19,  -76,  -76],\n",
       "        [  14,  -60,  -60],\n",
       "        [  11,  -43,  -43],\n",
       "        [   9,  -23,  -23]],\n",
       "\n",
       "       [[ 116,  -21,  -21],\n",
       "        [ 114,  -46,  -46],\n",
       "        [ 111,  -66,  -66],\n",
       "        [ 106,  -83,  -83],\n",
       "        [ 101,  -97,  -97],\n",
       "        [  94, -109, -109],\n",
       "        [  87, -117, -117],\n",
       "        [  79, -121, -121],\n",
       "        [  72, -120, -120],\n",
       "        [  64, -116, -116],\n",
       "        [  57, -108, -108],\n",
       "        [  51,  -97,  -97],\n",
       "        [  46,  -82,  -82],\n",
       "        [  42,  -65,  -65],\n",
       "        [  39,  -46,  -46],\n",
       "        [  38,  -23,  -23]],\n",
       "\n",
       "       [[ 120,  -22,  -22],\n",
       "        [ 119,  -47,  -47],\n",
       "        [ 117,  -68,  -68],\n",
       "        [ 114,  -86,  -86],\n",
       "        [ 111, -101, -101],\n",
       "        [ 107, -113, -113],\n",
       "        [ 102, -121, -121],\n",
       "        [  97, -125, -125],\n",
       "        [  92, -125, -125],\n",
       "        [  88, -121, -121],\n",
       "        [  83, -112, -112],\n",
       "        [  79, -100, -100],\n",
       "        [  76,  -85,  -85],\n",
       "        [  73,  -67,  -67],\n",
       "        [  71,  -47,  -47],\n",
       "        [  71,  -24,  -24]],\n",
       "\n",
       "       [[ 124,  -20,  -20],\n",
       "        [ 124,  -43,  -43],\n",
       "        [ 123,  -64,  -64],\n",
       "        [ 122,  -82,  -82],\n",
       "        [ 121,  -97,  -97],\n",
       "        [ 120, -109, -109],\n",
       "        [ 118, -118, -118],\n",
       "        [ 117, -122, -122],\n",
       "        [ 115, -122, -122],\n",
       "        [ 113, -118, -118],\n",
       "        [ 112, -109, -109],\n",
       "        [ 110,  -97,  -97],\n",
       "        [ 109,  -82,  -82],\n",
       "        [ 108,  -64,  -64],\n",
       "        [ 108,  -44,  -44],\n",
       "        [ 107,  -22,  -22]]], dtype=int8)"
      ]
     },
     "execution_count": 13,
     "metadata": {},
     "output_type": "execute_result"
    }
   ],
   "source": [
    "myfile[observer.hashID]['raster'][0]"
   ]
  },
  {
   "cell_type": "code",
   "execution_count": null,
   "metadata": {},
   "outputs": [],
   "source": []
  }
 ],
 "metadata": {
  "kernelspec": {
   "display_name": "Python 3",
   "language": "python",
   "name": "python3"
  },
  "language_info": {
   "codemirror_mode": {
    "name": "ipython",
    "version": 3
   },
   "file_extension": ".py",
   "mimetype": "text/x-python",
   "name": "python",
   "nbconvert_exporter": "python",
   "pygments_lexer": "ipython3",
   "version": "3.5.3"
  }
 },
 "nbformat": 4,
 "nbformat_minor": 2
}
