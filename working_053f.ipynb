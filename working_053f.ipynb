{
 "cells": [
  {
   "cell_type": "code",
   "execution_count": 1,
   "metadata": {},
   "outputs": [],
   "source": [
    "import sys\n",
    "workPath = '/home/jovyan/workspace'\n",
    "if not workPath in sys.path:\n",
    "    sys.path.append(workPath)"
   ]
  },
  {
   "cell_type": "code",
   "execution_count": 2,
   "metadata": {},
   "outputs": [
    {
     "name": "stdout",
     "output_type": "stream",
     "text": [
      "Fitted 1 variables to the figure.\n"
     ]
    }
   ],
   "source": [
    "from planetengine import initials\n",
    "from planetengine import systems\n",
    "from planetengine import functions as pfn\n",
    "from planetengine.visualisation import quickShow\n",
    "from planetengine import message\n",
    "import numpy as np\n",
    "import math\n",
    "from timeit import timeit\n",
    "from planetengine.tests import testsystems\n",
    "\n",
    "system = testsystems.get_system(Ra = 1e4, res = 16)\n",
    "\n",
    "variable1 = pfn.convert(system.velocityField, 'velocity')\n",
    "variable2 = pfn.convert(system.temperatureField, 'temperature')\n",
    "constant = pfn.convert(2.)\n",
    "shape = pfn.convert(np.array([[0.2, 0.1], [0.9, 0.3], [0.8, 0.7], [0.4, 0.9]]))\n",
    "vanilla = pfn.convert(system.viscosityFn, 'viscosity')"
   ]
  },
  {
   "cell_type": "code",
   "execution_count": 3,
   "metadata": {},
   "outputs": [
    {
     "name": "stdout",
     "output_type": "stream",
     "text": [
      "<planetengine.functions.Component object at 0x7f02f1371ac8>\n",
      "0.048\n",
      "<planetengine.functions.Component object at 0x7f02f13763c8>\n",
      "0.091\n",
      "<planetengine.functions.Component object at 0x7f02f1325710>\n",
      "0.09\n",
      "<planetengine.functions.Component object at 0x7f02f132b908>\n",
      "0.091\n",
      "<planetengine.functions.Component object at 0x7f02f132fbe0>\n",
      "0.089\n",
      "<planetengine.functions.Integral object at 0x7f02f1337080>\n",
      "0.396\n",
      "All together: \n",
      "0.805\n"
     ]
    }
   ],
   "source": [
    "makeFns = [\n",
    "    lambda var: pfn.Gradient.rad(var),\n",
    "    lambda var: pfn.Gradient.rad(var),\n",
    "    lambda var: pfn.Gradient.rad(var),\n",
    "    lambda var: pfn.Gradient.rad(var),\n",
    "    lambda var: pfn.Gradient.rad(var),\n",
    "    lambda var: pfn.Integral.outer(var)\n",
    "    ]\n",
    "var = variable2\n",
    "timings = []\n",
    "for makeFn in makeFns:\n",
    "    timing = timeit(lambda: makeFn(var), number = 3) / 3.\n",
    "    timings.append(timing)\n",
    "    var = makeFn(var)\n",
    "    message(var, round(timing, 3))\n",
    "message(\"All together: \", round(sum(timings), 3))\n",
    "# quickShow(var)"
   ]
  },
  {
   "cell_type": "code",
   "execution_count": null,
   "metadata": {},
   "outputs": [],
   "source": []
  }
 ],
 "metadata": {
  "kernelspec": {
   "display_name": "Python 3",
   "language": "python",
   "name": "python3"
  },
  "language_info": {
   "codemirror_mode": {
    "name": "ipython",
    "version": 3
   },
   "file_extension": ".py",
   "mimetype": "text/x-python",
   "name": "python",
   "nbconvert_exporter": "python",
   "pygments_lexer": "ipython3",
   "version": "3.5.3"
  }
 },
 "nbformat": 4,
 "nbformat_minor": 2
}
