{
 "cells": [
  {
   "cell_type": "code",
   "execution_count": 1,
   "metadata": {},
   "outputs": [],
   "source": [
    "import sys\n",
    "import os\n",
    "workPath = os.path.abspath('..')\n",
    "if not workPath in sys.path:\n",
    "    sys.path.append(workPath)"
   ]
  },
  {
   "cell_type": "code",
   "execution_count": 3,
   "metadata": {},
   "outputs": [],
   "source": [
    "from planetengine.systems import isovisc"
   ]
  },
  {
   "cell_type": "code",
   "execution_count": 4,
   "metadata": {},
   "outputs": [],
   "source": [
    "system = isovisc.build()"
   ]
  },
  {
   "cell_type": "code",
   "execution_count": 5,
   "metadata": {},
   "outputs": [],
   "source": [
    "system.add_consignment(True)"
   ]
  },
  {
   "cell_type": "code",
   "execution_count": 6,
   "metadata": {},
   "outputs": [],
   "source": [
    "system.iterate(10)"
   ]
  },
  {
   "cell_type": "code",
   "execution_count": 7,
   "metadata": {},
   "outputs": [
    {
     "data": {
      "text/plain": [
       "[[1, [7.900428632971577e-08, array([[    0.        ],\n",
       "          [-5084.68952359],\n",
       "          [-9906.31507657],\n",
       "          ..., \n",
       "          [ 7000.13349608],\n",
       "          [ 3288.74809584],\n",
       "          [    0.        ]]), array([[ 1.        ],\n",
       "          [ 0.97436061],\n",
       "          [ 0.94875525],\n",
       "          ..., \n",
       "          [ 0.05112995],\n",
       "          [ 0.02556845],\n",
       "          [ 0.        ]])]],\n",
       " [2, [1.5724209459447504e-07, array([[     0.        ],\n",
       "          [ -5565.87176926],\n",
       "          [-10228.50228851],\n",
       "          ..., \n",
       "          [  7212.71362115],\n",
       "          [  3363.50598124],\n",
       "          [     0.        ]]), array([[ 1.        ],\n",
       "          [ 0.97394397],\n",
       "          [ 0.9479676 ],\n",
       "          ..., \n",
       "          [ 0.05168594],\n",
       "          [ 0.02582868],\n",
       "          [ 0.        ]])]],\n",
       " [3, [2.3400382875466095e-07, array([[     0.        ],\n",
       "          [ -5689.94865729],\n",
       "          [-10568.99047283],\n",
       "          ..., \n",
       "          [  7410.54172798],\n",
       "          [  3465.05811705],\n",
       "          [     0.        ]]), array([[ 1.        ],\n",
       "          [ 0.97351196],\n",
       "          [ 0.94716937],\n",
       "          ..., \n",
       "          [ 0.05224719],\n",
       "          [ 0.02609076],\n",
       "          [ 0.        ]])]],\n",
       " [4, [3.0935883492532666e-07, array([[     0.        ],\n",
       "          [ -5890.66247714],\n",
       "          [-10928.58797817],\n",
       "          ..., \n",
       "          [  7635.38554596],\n",
       "          [  3570.11972777],\n",
       "          [     0.        ]]), array([[ 1.        ],\n",
       "          [ 0.97307563],\n",
       "          [ 0.9463594 ],\n",
       "          ..., \n",
       "          [ 0.05281409],\n",
       "          [ 0.02635583],\n",
       "          [ 0.        ]])]],\n",
       " [5, [3.8336225670201476e-07, array([[     0.        ],\n",
       "          [ -6082.4586034 ],\n",
       "          [-11294.75784605],\n",
       "          ..., \n",
       "          [  7858.02172112],\n",
       "          [  3676.88293435],\n",
       "          [     0.        ]]), array([[ 1.        ],\n",
       "          [ 0.97263261],\n",
       "          [ 0.9455371 ],\n",
       "          ..., \n",
       "          [ 0.05338737],\n",
       "          [ 0.02662398],\n",
       "          [ 0.        ]])]],\n",
       " [6, [4.560662766163097e-07, array([[     0.        ],\n",
       "          [ -6280.39047555],\n",
       "          [-11668.22706886],\n",
       "          ..., \n",
       "          [  8085.46411737],\n",
       "          [  3785.25133269],\n",
       "          [     0.        ]]), array([[ 1.        ],\n",
       "          [ 0.97218319],\n",
       "          [ 0.94470235],\n",
       "          ..., \n",
       "          [ 0.05396695],\n",
       "          [ 0.02689525],\n",
       "          [ 0.        ]])]],\n",
       " [7, [5.275202570190231e-07, array([[     0.        ],\n",
       "          [ -6481.71462118],\n",
       "          [-12049.26192548],\n",
       "          ..., \n",
       "          [  8316.11469286],\n",
       "          [  3895.45429824],\n",
       "          [     0.        ]]), array([[ 1.        ],\n",
       "          [ 0.97172724],\n",
       "          [ 0.94385499],\n",
       "          ..., \n",
       "          [ 0.05455292],\n",
       "          [ 0.02716965],\n",
       "          [ 0.        ]])]],\n",
       " [8, [5.97770937903989e-07, array([[     0.        ],\n",
       "          [ -6687.03083109],\n",
       "          [-12437.86556319],\n",
       "          ..., \n",
       "          [  8550.38680545],\n",
       "          [  4007.40728203],\n",
       "          [     0.        ]]), array([[ 1.        ],\n",
       "          [ 0.97126469],\n",
       "          [ 0.94299487],\n",
       "          ..., \n",
       "          [ 0.05514537],\n",
       "          [ 0.02744724],\n",
       "          [ 0.        ]])]],\n",
       " [9, [6.668626187385315e-07, array([[     0.        ],\n",
       "          [ -6896.27409645],\n",
       "          [-12834.14758987],\n",
       "          ..., \n",
       "          [  8788.21652007],\n",
       "          [  4121.16172288],\n",
       "          [     0.        ]]), array([[ 1.        ],\n",
       "          [ 0.97079544],\n",
       "          [ 0.94212183],\n",
       "          ..., \n",
       "          [ 0.05574434],\n",
       "          [ 0.02772805],\n",
       "          [ 0.        ]])]],\n",
       " [10, [7.348373248455552e-07, array([[     0.        ],\n",
       "          [ -7109.51751442],\n",
       "          [-13238.1852274 ],\n",
       "          ..., \n",
       "          [  9029.63524957],\n",
       "          [  4236.72130443],\n",
       "          [     0.        ]]), array([[ 1.        ],\n",
       "          [ 0.97031942],\n",
       "          [ 0.9412357 ],\n",
       "          ..., \n",
       "          [ 0.05634992],\n",
       "          [ 0.02801212],\n",
       "          [ 0.        ]])]]]"
      ]
     },
     "execution_count": 7,
     "metadata": {},
     "output_type": "execute_result"
    }
   ],
   "source": [
    "system.stored"
   ]
  },
  {
   "cell_type": "code",
   "execution_count": 1,
   "metadata": {},
   "outputs": [
    {
     "ename": "NameError",
     "evalue": "name 'system' is not defined",
     "output_type": "error",
     "traceback": [
      "\u001b[0;31m---------------------------------------------------------------------------\u001b[0m",
      "\u001b[0;31mNameError\u001b[0m                                 Traceback (most recent call last)",
      "\u001b[0;32m<ipython-input-1-7c2176cba07d>\u001b[0m in \u001b[0;36m<module>\u001b[0;34m\u001b[0m\n\u001b[0;32m----> 1\u001b[0;31m \u001b[0mmyfile\u001b[0m \u001b[0;34m=\u001b[0m \u001b[0msystem\u001b[0m\u001b[0;34m.\u001b[0m\u001b[0mfile\u001b[0m\u001b[0;34m(\u001b[0m\u001b[0;34m)\u001b[0m\u001b[0;34m\u001b[0m\u001b[0m\n\u001b[0m",
      "\u001b[0;31mNameError\u001b[0m: name 'system' is not defined"
     ]
    }
   ],
   "source": [
    "myfile = system.file()"
   ]
  },
  {
   "cell_type": "code",
   "execution_count": null,
   "metadata": {},
   "outputs": [],
   "source": []
  }
 ],
 "metadata": {
  "kernelspec": {
   "display_name": "Python 3",
   "language": "python",
   "name": "python3"
  },
  "language_info": {
   "codemirror_mode": {
    "name": "ipython",
    "version": 3
   },
   "file_extension": ".py",
   "mimetype": "text/x-python",
   "name": "python",
   "nbconvert_exporter": "python",
   "pygments_lexer": "ipython3",
   "version": "3.5.3"
  }
 },
 "nbformat": 4,
 "nbformat_minor": 2
}
