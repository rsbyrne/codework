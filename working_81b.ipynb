{
 "cells": [
  {
   "cell_type": "code",
   "execution_count": 1,
   "metadata": {},
   "outputs": [],
   "source": [
    "import sys\n",
    "import os\n",
    "workPath = os.path.abspath('..')\n",
    "if not workPath in sys.path:\n",
    "    sys.path.append(workPath)"
   ]
  },
  {
   "cell_type": "code",
   "execution_count": 2,
   "metadata": {},
   "outputs": [],
   "source": [
    "import planetengine\n",
    "import everest\n",
    "Fetch = everest.window.Fetch\n",
    "Reader = everest.window.Reader\n",
    "Scope = everest.window.Scope"
   ]
  },
  {
   "cell_type": "code",
   "execution_count": 3,
   "metadata": {},
   "outputs": [],
   "source": [
    "outputPath = '../out'\n",
    "frameName = 'dev'"
   ]
  },
  {
   "cell_type": "code",
   "execution_count": 4,
   "metadata": {},
   "outputs": [],
   "source": [
    "myreader = Reader(everest.frame.get_framepath(frameName, outputPath))"
   ]
  },
  {
   "cell_type": "code",
   "execution_count": 5,
   "metadata": {},
   "outputs": [],
   "source": [
    "fetch1 = Fetch('*/*/Ra') * Fetch('*/*/f') ** 2 > 5000"
   ]
  },
  {
   "cell_type": "code",
   "execution_count": 6,
   "metadata": {},
   "outputs": [],
   "source": [
    "myscope1 = myreader[fetch1]"
   ]
  },
  {
   "cell_type": "code",
   "execution_count": 7,
   "metadata": {
    "scrolled": true
   },
   "outputs": [
    {
     "data": {
      "text/plain": [
       "(array([[[ 1.        ],\n",
       "         [ 0.875415  ],\n",
       "         [ 0.75574765],\n",
       "         ..., \n",
       "         [ 0.23859967],\n",
       "         [ 0.1206761 ],\n",
       "         [ 0.        ]],\n",
       " \n",
       "        [[ 1.        ],\n",
       "         [ 0.84264987],\n",
       "         [ 0.6968884 ],\n",
       "         ..., \n",
       "         [ 0.28940461],\n",
       "         [ 0.14770765],\n",
       "         [ 0.        ]],\n",
       " \n",
       "        [[ 1.        ],\n",
       "         [ 0.80284279],\n",
       "         [ 0.62911298],\n",
       "         ..., \n",
       "         [ 0.34851299],\n",
       "         [ 0.18038285],\n",
       "         [ 0.        ]],\n",
       " \n",
       "        ..., \n",
       "        [[ 1.        ],\n",
       "         [ 0.59037597],\n",
       "         [ 0.33806997],\n",
       "         ..., \n",
       "         [ 0.62708922],\n",
       "         [ 0.36277498],\n",
       "         [ 0.        ]],\n",
       " \n",
       "        [[ 1.        ],\n",
       "         [ 0.53511468],\n",
       "         [ 0.27957152],\n",
       "         ..., \n",
       "         [ 0.69060851],\n",
       "         [ 0.41470631],\n",
       "         [ 0.        ]],\n",
       " \n",
       "        [[ 1.        ],\n",
       "         [ 0.48421727],\n",
       "         [ 0.23063289],\n",
       "         ..., \n",
       "         [ 0.74577337],\n",
       "         [ 0.46482281],\n",
       "         [ 0.        ]]]), array([[[ 1.        ],\n",
       "         [ 0.8745741 ],\n",
       "         [ 0.75370827],\n",
       "         ..., \n",
       "         [ 0.24337677],\n",
       "         [ 0.12341429],\n",
       "         [ 0.        ]],\n",
       " \n",
       "        [[ 1.        ],\n",
       "         [ 0.84025499],\n",
       "         [ 0.69155551],\n",
       "         ..., \n",
       "         [ 0.30134903],\n",
       "         [ 0.15473203],\n",
       "         [ 0.        ]],\n",
       " \n",
       "        [[ 1.        ],\n",
       "         [ 0.79812896],\n",
       "         [ 0.61937956],\n",
       "         ..., \n",
       "         [ 0.36908387],\n",
       "         [ 0.1930864 ],\n",
       "         [ 0.        ]],\n",
       " \n",
       "        ..., \n",
       "        [[ 1.        ],\n",
       "         [ 0.57249064],\n",
       "         [ 0.31204443],\n",
       "         ..., \n",
       "         [ 0.67253951],\n",
       "         [ 0.40413703],\n",
       "         [ 0.        ]],\n",
       " \n",
       "        [[ 1.        ],\n",
       "         [ 0.51531595],\n",
       "         [ 0.25297185],\n",
       "         ..., \n",
       "         [ 0.73476529],\n",
       "         [ 0.46038797],\n",
       "         [ 0.        ]],\n",
       " \n",
       "        [[ 1.        ],\n",
       "         [ 0.46402663],\n",
       "         [ 0.20511551],\n",
       "         ..., \n",
       "         [ 0.7858737 ],\n",
       "         [ 0.51207931],\n",
       "         [ 0.        ]]]), array([[[ 1.        ],\n",
       "         [ 0.97456147],\n",
       "         [ 0.94914657],\n",
       "         ..., \n",
       "         [ 0.05085343],\n",
       "         [ 0.02543853],\n",
       "         [ 0.        ]]]))"
      ]
     },
     "execution_count": 7,
     "metadata": {},
     "output_type": "execute_result"
    }
   ],
   "source": [
    "myreader[myscope1:'temperatureField']"
   ]
  },
  {
   "cell_type": "code",
   "execution_count": 8,
   "metadata": {},
   "outputs": [],
   "source": [
    "fetch2 = Fetch('*/*/res') > 0"
   ]
  },
  {
   "cell_type": "code",
   "execution_count": 9,
   "metadata": {},
   "outputs": [
    {
     "data": {
      "text/plain": [
       "Scope({('swiaphoedro-umuinupru', '...'), ('eploiyeize-idreikwaespa', '...'), ('ufriigloodra-spuableisli', '...')})"
      ]
     },
     "execution_count": 9,
     "metadata": {},
     "output_type": "execute_result"
    }
   ],
   "source": [
    "myscope1"
   ]
  },
  {
   "cell_type": "code",
   "execution_count": 10,
   "metadata": {},
   "outputs": [
    {
     "data": {
      "text/plain": [
       "Scope({('swiaphoedro-umuinupru', '...')})"
      ]
     },
     "execution_count": 10,
     "metadata": {},
     "output_type": "execute_result"
    }
   ],
   "source": [
    "fetch3 = Fetch('*/*/f') > 0.8\n",
    "myreader[fetch3]"
   ]
  },
  {
   "cell_type": "code",
   "execution_count": 11,
   "metadata": {},
   "outputs": [
    {
     "data": {
      "text/plain": [
       "Scope({('swiaphoedro-umuinupru', '...')})"
      ]
     },
     "execution_count": 11,
     "metadata": {},
     "output_type": "execute_result"
    }
   ],
   "source": [
    "myreader[fetch2 & fetch3]"
   ]
  },
  {
   "cell_type": "code",
   "execution_count": 12,
   "metadata": {},
   "outputs": [
    {
     "data": {
      "text/plain": [
       "[('blaisfiibra-isfaadreva', (12, 15, 18, 21, 24, 27)),\n",
       " ('efluapreostu-shaacape', (24, 27)),\n",
       " ('iduufianu-eglouglaesku', (12, 15, 18, 21, 24, 27)),\n",
       " ('ofliosoeka-naucoode', (21, 24, 27)),\n",
       " ('ushuigaifru-itrioquja', (15, 18, 21, 24, 27))]"
      ]
     },
     "execution_count": 12,
     "metadata": {},
     "output_type": "execute_result"
    }
   ],
   "source": [
    "sorted(myreader[Fetch('*/*/Nu') > 1.8])"
   ]
  },
  {
   "cell_type": "code",
   "execution_count": 13,
   "metadata": {},
   "outputs": [
    {
     "data": {
      "text/plain": [
       "[('blaisfiibra-isfaadreva', (3, 6, 9, 12)),\n",
       " ('efluapreostu-shaacape', '...'),\n",
       " ('iduufianu-eglouglaesku', (3, 6, 9, 12)),\n",
       " ('ofliosoeka-naucoode', (3, 6, 9, 12, 15, 18, 21, 24)),\n",
       " ('ushuigaifru-itrioquja', (3, 6, 9, 12, 15))]"
      ]
     },
     "execution_count": 13,
     "metadata": {},
     "output_type": "execute_result"
    }
   ],
   "source": [
    "sorted(myreader[Fetch('*/*/Nu') < 2.2])"
   ]
  },
  {
   "cell_type": "code",
   "execution_count": 14,
   "metadata": {},
   "outputs": [
    {
     "data": {
      "text/plain": [
       "[('blaisfiibra-isfaadreva', (12,)),\n",
       " ('efluapreostu-shaacape', (24, 27)),\n",
       " ('iduufianu-eglouglaesku', (12,)),\n",
       " ('ofliosoeka-naucoode', (21, 24)),\n",
       " ('ushuigaifru-itrioquja', (15,))]"
      ]
     },
     "execution_count": 14,
     "metadata": {},
     "output_type": "execute_result"
    }
   ],
   "source": [
    "sorted(myreader[(Fetch('*/*/Nu') > 1.8) & (Fetch('*/*/Nu') < 2.2)])"
   ]
  },
  {
   "cell_type": "code",
   "execution_count": 15,
   "metadata": {},
   "outputs": [
    {
     "data": {
      "text/plain": [
       "[('blaisfiibra-isfaadreva', '...'),\n",
       " ('efluapreostu-shaacape', '...'),\n",
       " ('iduufianu-eglouglaesku', '...'),\n",
       " ('ofliosoeka-naucoode', '...'),\n",
       " ('ushuigaifru-itrioquja', '...')]"
      ]
     },
     "execution_count": 15,
     "metadata": {},
     "output_type": "execute_result"
    }
   ],
   "source": [
    "sorted(myreader[(Fetch('*/*/Nu') > 1.8) | (Fetch('*/*/Nu') < 2.2)])"
   ]
  },
  {
   "cell_type": "code",
   "execution_count": 16,
   "metadata": {},
   "outputs": [
    {
     "data": {
      "text/plain": [
       "[('blaisfiibra-isfaadreva', (3, 6, 9, 15, 18, 21, 24, 27)),\n",
       " ('efluapreostu-shaacape', (3, 6, 9, 12, 15, 18, 21)),\n",
       " ('iduufianu-eglouglaesku', (3, 6, 9, 15, 18, 21, 24, 27)),\n",
       " ('ofliosoeka-naucoode', (3, 6, 9, 12, 15, 18, 27)),\n",
       " ('ushuigaifru-itrioquja', (3, 6, 9, 12, 18, 21, 24, 27))]"
      ]
     },
     "execution_count": 16,
     "metadata": {},
     "output_type": "execute_result"
    }
   ],
   "source": [
    "sorted(myreader[(Fetch('*/*/Nu') > 1.8) ^ (Fetch('*/*/Nu') < 2.2)])"
   ]
  },
  {
   "cell_type": "code",
   "execution_count": 17,
   "metadata": {},
   "outputs": [
    {
     "data": {
      "text/plain": [
       "[('blaisfiibra-isfaadreva', (15, 18, 21, 24, 27)),\n",
       " ('iduufianu-eglouglaesku', (15, 18, 21, 24, 27)),\n",
       " ('ofliosoeka-naucoode', (27,)),\n",
       " ('ushuigaifru-itrioquja', (18, 21, 24, 27))]"
      ]
     },
     "execution_count": 17,
     "metadata": {},
     "output_type": "execute_result"
    }
   ],
   "source": [
    "sorted(myreader[(Fetch('*/*/Nu') > 1.8) << (Fetch('*/*/Nu') < 2.2)])"
   ]
  },
  {
   "cell_type": "code",
   "execution_count": 23,
   "metadata": {},
   "outputs": [],
   "source": [
    "myscope1 = myreader[Fetch('*/*/Nu') > 1.8]\n",
    "myscope2 = myreader[Fetch('*/*/Nu') < 2.2]"
   ]
  },
  {
   "cell_type": "code",
   "execution_count": 24,
   "metadata": {
    "scrolled": true
   },
   "outputs": [
    {
     "ename": "TypeError",
     "evalue": "__new__() missing 1 required positional argument: 'context'",
     "output_type": "error",
     "traceback": [
      "\u001b[0;31m---------------------------------------------------------------------------\u001b[0m",
      "\u001b[0;31mTypeError\u001b[0m                                 Traceback (most recent call last)",
      "\u001b[0;32m<ipython-input-24-878580f971b1>\u001b[0m in \u001b[0;36m<module>\u001b[0;34m\u001b[0m\n\u001b[0;32m----> 1\u001b[0;31m \u001b[0mmyscope1\u001b[0m \u001b[0;34m&\u001b[0m \u001b[0mmyscope2\u001b[0m\u001b[0;34m\u001b[0m\u001b[0m\n\u001b[0m",
      "\u001b[0;32m~/workspace/everest/window.py\u001b[0m in \u001b[0;36m__and__\u001b[0;34m(self, arg)\u001b[0m\n\u001b[1;32m    411\u001b[0m                 \u001b[0marr\u001b[0m \u001b[0;34m=\u001b[0m \u001b[0mthisTargetDataset\u001b[0m\u001b[0;34m[\u001b[0m\u001b[0mslicer\u001b[0m\u001b[0;34m]\u001b[0m\u001b[0;34m\u001b[0m\u001b[0m\n\u001b[1;32m    412\u001b[0m             \u001b[0marrList\u001b[0m\u001b[0;34m.\u001b[0m\u001b[0mappend\u001b[0m\u001b[0;34m(\u001b[0m\u001b[0marr\u001b[0m\u001b[0;34m)\u001b[0m\u001b[0;34m\u001b[0m\u001b[0m\n\u001b[0;32m--> 413\u001b[0;31m         \u001b[0;32mtry\u001b[0m\u001b[0;34m:\u001b[0m\u001b[0;34m\u001b[0m\u001b[0m\n\u001b[0m\u001b[1;32m    414\u001b[0m             \u001b[0mallArr\u001b[0m \u001b[0;34m=\u001b[0m \u001b[0mnp\u001b[0m\u001b[0;34m.\u001b[0m\u001b[0mconcatenate\u001b[0m\u001b[0;34m(\u001b[0m\u001b[0marrList\u001b[0m\u001b[0;34m)\u001b[0m\u001b[0;34m\u001b[0m\u001b[0m\n\u001b[1;32m    415\u001b[0m             \u001b[0;32mreturn\u001b[0m \u001b[0mallArr\u001b[0m\u001b[0;34m\u001b[0m\u001b[0m\n",
      "\u001b[0;32m~/workspace/everest/window.py\u001b[0m in \u001b[0;36m_operation\u001b[0;34m(cls, opFn, *args)\u001b[0m\n\u001b[1;32m    393\u001b[0m     \u001b[0;32mdef\u001b[0m \u001b[0m_pull\u001b[0m\u001b[0;34m(\u001b[0m\u001b[0mself\u001b[0m\u001b[0;34m,\u001b[0m \u001b[0mscope\u001b[0m\u001b[0;34m,\u001b[0m \u001b[0mkey\u001b[0m\u001b[0;34m)\u001b[0m\u001b[0;34m:\u001b[0m\u001b[0;34m\u001b[0m\u001b[0m\n\u001b[1;32m    394\u001b[0m         \u001b[0marrList\u001b[0m \u001b[0;34m=\u001b[0m \u001b[0;34m[\u001b[0m\u001b[0;34m]\u001b[0m\u001b[0;34m\u001b[0m\u001b[0m\n\u001b[0;32m--> 395\u001b[0;31m         \u001b[0;32mfor\u001b[0m \u001b[0msuperkey\u001b[0m\u001b[0;34m,\u001b[0m \u001b[0mscopeCounts\u001b[0m \u001b[0;32min\u001b[0m \u001b[0msorted\u001b[0m\u001b[0;34m(\u001b[0m\u001b[0mscope\u001b[0m\u001b[0;34m)\u001b[0m\u001b[0;34m:\u001b[0m\u001b[0;34m\u001b[0m\u001b[0m\n\u001b[0m\u001b[1;32m    396\u001b[0m             \u001b[0mthisGroup\u001b[0m \u001b[0;34m=\u001b[0m \u001b[0mself\u001b[0m\u001b[0;34m.\u001b[0m\u001b[0mh5file\u001b[0m\u001b[0;34m[\u001b[0m\u001b[0msuperkey\u001b[0m\u001b[0;34m]\u001b[0m\u001b[0;34m\u001b[0m\u001b[0m\n\u001b[1;32m    397\u001b[0m             \u001b[0mthisTargetDataset\u001b[0m \u001b[0;34m=\u001b[0m \u001b[0mthisGroup\u001b[0m\u001b[0;34m[\u001b[0m\u001b[0;34m'outs'\u001b[0m\u001b[0;34m]\u001b[0m\u001b[0;34m[\u001b[0m\u001b[0mkey\u001b[0m\u001b[0;34m]\u001b[0m\u001b[0;34m\u001b[0m\u001b[0m\n",
      "\u001b[0;32m~/workspace/everest/window.py\u001b[0m in \u001b[0;36mintersection\u001b[0;34m(cls, *args)\u001b[0m\n\u001b[1;32m    383\u001b[0m         \u001b[0;32mif\u001b[0m \u001b[0mtype\u001b[0m\u001b[0;34m(\u001b[0m\u001b[0mkeys\u001b[0m\u001b[0;34m)\u001b[0m \u001b[0;32mis\u001b[0m \u001b[0mstr\u001b[0m\u001b[0;34m:\u001b[0m\u001b[0;34m\u001b[0m\u001b[0m\n\u001b[1;32m    384\u001b[0m             \u001b[0mkeys\u001b[0m \u001b[0;34m=\u001b[0m \u001b[0;34m(\u001b[0m\u001b[0mkeys\u001b[0m\u001b[0;34m,\u001b[0m\u001b[0;34m)\u001b[0m\u001b[0;34m\u001b[0m\u001b[0m\n\u001b[0;32m--> 385\u001b[0;31m         \u001b[0mouts\u001b[0m \u001b[0;34m=\u001b[0m \u001b[0;34m[\u001b[0m\u001b[0;34m]\u001b[0m\u001b[0;34m\u001b[0m\u001b[0m\n\u001b[0m\u001b[1;32m    386\u001b[0m         \u001b[0;32mfor\u001b[0m \u001b[0mkey\u001b[0m \u001b[0;32min\u001b[0m \u001b[0mkeys\u001b[0m\u001b[0;34m:\u001b[0m\u001b[0;34m\u001b[0m\u001b[0m\n\u001b[1;32m    387\u001b[0m             \u001b[0mouts\u001b[0m\u001b[0;34m.\u001b[0m\u001b[0mappend\u001b[0m\u001b[0;34m(\u001b[0m\u001b[0mself\u001b[0m\u001b[0;34m.\u001b[0m\u001b[0m_pull\u001b[0m\u001b[0;34m(\u001b[0m\u001b[0mscope\u001b[0m\u001b[0;34m,\u001b[0m \u001b[0mkey\u001b[0m\u001b[0;34m)\u001b[0m\u001b[0;34m)\u001b[0m\u001b[0;34m\u001b[0m\u001b[0m\n",
      "\u001b[0;31mTypeError\u001b[0m: __new__() missing 1 required positional argument: 'context'"
     ]
    }
   ],
   "source": [
    "myscope1 & myscope2"
   ]
  },
  {
   "cell_type": "code",
   "execution_count": null,
   "metadata": {},
   "outputs": [],
   "source": []
  }
 ],
 "metadata": {
  "kernelspec": {
   "display_name": "Python 3",
   "language": "python",
   "name": "python3"
  },
  "language_info": {
   "codemirror_mode": {
    "name": "ipython",
    "version": 3
   },
   "file_extension": ".py",
   "mimetype": "text/x-python",
   "name": "python",
   "nbconvert_exporter": "python",
   "pygments_lexer": "ipython3",
   "version": "3.5.3"
  }
 },
 "nbformat": 4,
 "nbformat_minor": 2
}
