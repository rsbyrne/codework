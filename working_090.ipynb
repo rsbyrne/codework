{
 "cells": [
  {
   "cell_type": "code",
   "execution_count": null,
   "metadata": {},
   "outputs": [],
   "source": [
    "import sys\n",
    "import os\n",
    "workPath = os.path.abspath('..')\n",
    "if not workPath in sys.path:\n",
    "    sys.path.append(workPath)"
   ]
  },
  {
   "cell_type": "code",
   "execution_count": null,
   "metadata": {},
   "outputs": [],
   "source": []
  },
  {
   "cell_type": "code",
   "execution_count": null,
   "metadata": {},
   "outputs": [],
   "source": [
    "from everest.builts.iterator import build\n",
    "built = build()"
   ]
  },
  {
   "cell_type": "code",
   "execution_count": null,
   "metadata": {},
   "outputs": [],
   "source": []
  },
  {
   "cell_type": "code",
   "execution_count": null,
   "metadata": {},
   "outputs": [],
   "source": [
    "from planetengine.systems import isovisc\n",
    "system = isovisc.build()"
   ]
  },
  {
   "cell_type": "code",
   "execution_count": null,
   "metadata": {},
   "outputs": [],
   "source": [
    "from everest.builts.prebaked.threshold import Threshold"
   ]
  },
  {
   "cell_type": "code",
   "execution_count": null,
   "metadata": {},
   "outputs": [],
   "source": [
    "stopCondition = Threshold(built = system, prop = 'count', op = 'ge', val = 10)"
   ]
  },
  {
   "cell_type": "code",
   "execution_count": null,
   "metadata": {},
   "outputs": [],
   "source": [
    "bool(stopCondition)"
   ]
  },
  {
   "cell_type": "code",
   "execution_count": null,
   "metadata": {},
   "outputs": [],
   "source": [
    "stopCondition()"
   ]
  },
  {
   "cell_type": "code",
   "execution_count": null,
   "metadata": {},
   "outputs": [],
   "source": [
    "system.reset()\n",
    "while not stopCondition:\n",
    "    system.iterate()\n",
    "print(system.count)"
   ]
  },
  {
   "cell_type": "code",
   "execution_count": null,
   "metadata": {},
   "outputs": [],
   "source": [
    "from everest.value import Value"
   ]
  },
  {
   "cell_type": "code",
   "execution_count": null,
   "metadata": {},
   "outputs": [],
   "source": [
    "myval = Value(0)"
   ]
  },
  {
   "cell_type": "code",
   "execution_count": null,
   "metadata": {},
   "outputs": [],
   "source": [
    "myval += 1"
   ]
  },
  {
   "cell_type": "code",
   "execution_count": null,
   "metadata": {},
   "outputs": [],
   "source": []
  },
  {
   "cell_type": "code",
   "execution_count": null,
   "metadata": {},
   "outputs": [],
   "source": []
  },
  {
   "cell_type": "code",
   "execution_count": null,
   "metadata": {},
   "outputs": [],
   "source": [
    "class RuntimeCondition(Built):\n",
    "    def __init__(\n",
    "            self,\n",
    "            boolFunc,\n",
    "            inputs,\n",
    "            script\n",
    "            ):\n",
    "        self.__bool__ = boolFunc\n",
    "        super().__init__(\n",
    "            inputs,\n",
    "            script\n",
    "            )\n",
    "\n",
    "class Threshold(RuntimeCondition):\n",
    "    script = '../test.py'\n",
    "    def __init__(self):\n",
    "        inputs = locals().copy()\n",
    "        boolFunc = lambda: True\n",
    "        super().__init__(\n",
    "            boolFunc,\n",
    "            inputs,\n",
    "            self.script\n",
    "            )"
   ]
  },
  {
   "cell_type": "code",
   "execution_count": null,
   "metadata": {},
   "outputs": [],
   "source": [
    "class Task(Built):\n",
    "    script = '../test.py'\n",
    "    def __init__(\n",
    "            self,\n",
    "            iterator,\n",
    "            stopCondition,\n",
    "            observers\n",
    "            ):\n",
    "        self.stopCondition = stopCondition\n",
    "        super().__init__(\n",
    "            inputs,\n",
    "            script\n",
    "            )\n",
    "        def iterate(self):\n",
    "            pass\n",
    "        def run(self):\n",
    "            while not self.stopCondition:\n",
    "                self.iterate()\n",
    "        def __bool__(self):\n",
    "            # True if complete, False if incomplete\n",
    "            return stopCondition()\n",
    "\n",
    "# class MyTask(Task):\n",
    "#     script = '../test.py'\n",
    "#     def __init__(\n",
    "#             self,\n",
    "#             system,\n",
    "#             run\n",
    "#             )\n",
    "#         inputs = locals().copy()\n",
    "#         super().__init__(\n",
    "#             inputs,\n",
    "#             script\n",
    "#             )"
   ]
  },
  {
   "cell_type": "code",
   "execution_count": null,
   "metadata": {},
   "outputs": [],
   "source": [
    "class Campaign(Built):\n",
    "    def __init__(\n",
    "            self,\n",
    "            inputs,\n",
    "            script\n",
    "            ):\n",
    "        super().__init__(\n",
    "            inputs,\n",
    "            script\n",
    "            )\n",
    "\n",
    "class MyCampaign(Campaign):\n",
    "    script = '../test.py'\n",
    "    def __init__(\n",
    "            self,\n",
    "            system,\n",
    "            run\n",
    "            )\n",
    "        inputs = locals().copy()\n",
    "        super().__init__(\n",
    "            inputs,\n",
    "            script\n",
    "            )"
   ]
  }
 ],
 "metadata": {
  "kernelspec": {
   "display_name": "Python 3",
   "language": "python",
   "name": "python3"
  },
  "language_info": {
   "codemirror_mode": {
    "name": "ipython",
    "version": 3
   },
   "file_extension": ".py",
   "mimetype": "text/x-python",
   "name": "python",
   "nbconvert_exporter": "python",
   "pygments_lexer": "ipython3",
   "version": "3.5.3"
  }
 },
 "nbformat": 4,
 "nbformat_minor": 2
}
