{
 "cells": [
  {
   "cell_type": "code",
   "execution_count": 1,
   "metadata": {},
   "outputs": [],
   "source": [
    "import sys\n",
    "import os\n",
    "workPath = os.path.abspath('..')\n",
    "if not workPath in sys.path:\n",
    "    sys.path.append(workPath)"
   ]
  },
  {
   "cell_type": "code",
   "execution_count": 2,
   "metadata": {},
   "outputs": [],
   "source": [
    "import planetengine\n",
    "import everest\n",
    "Fetch = everest.window.Fetch\n",
    "Reader = everest.window.Reader\n",
    "Scope = everest.window.Scope"
   ]
  },
  {
   "cell_type": "code",
   "execution_count": 3,
   "metadata": {},
   "outputs": [],
   "source": [
    "outputPath = '../out'\n",
    "frameName = 'dev'"
   ]
  },
  {
   "cell_type": "code",
   "execution_count": 4,
   "metadata": {},
   "outputs": [],
   "source": [
    "# import os\n",
    "# os.remove(os.path.join(outputPath, frameName) + '.frm')\n",
    "# for f in [i / 10. for i in range(7, 10)]:\n",
    "#     for Ra in [1e4, 3e4, 1e5]:\n",
    "#         system = planetengine.systems.isovisc.build(res = 16, Ra = Ra, f = f)\n",
    "#         observer = planetengine.observers.standard.build(system)\n",
    "#         system.anchor(frameName, outputPath)\n",
    "#         observer.coanchor(system)\n",
    "#         for i in range(3):\n",
    "#             for i in range(3):\n",
    "#                 system.iterate(3)\n",
    "#                 system.store()\n",
    "#                 observer.store()\n",
    "#             system.save()\n",
    "#             observer.save()"
   ]
  },
  {
   "cell_type": "code",
   "execution_count": 5,
   "metadata": {},
   "outputs": [],
   "source": [
    "myreader = Reader(everest.frame.get_framepath(frameName, outputPath))"
   ]
  },
  {
   "cell_type": "code",
   "execution_count": 6,
   "metadata": {},
   "outputs": [
    {
     "data": {
      "text/plain": [
       "__gt__(Fetch(_counts_), 5)"
      ]
     },
     "execution_count": 6,
     "metadata": {},
     "output_type": "execute_result"
    }
   ],
   "source": [
    "Fetch('_counts_') > 5"
   ]
  },
  {
   "cell_type": "code",
   "execution_count": 7,
   "metadata": {},
   "outputs": [
    {
     "data": {
      "text/plain": [
       "Scope(\n",
       "('twiuprueplu-theereidwo', (6, 9, 12, 15, 18, 21, 24, 27))\n",
       "('ogeeliesta-aphuifeoswe', (6, 9, 12, 15, 18, 21, 24, 27))\n",
       "('blaisfiibra-isfaadreva', (6, 9, 12, 15, 18, 21, 24, 27))\n",
       "('ephuazeize-akaiglaaflo', (6, 9, 12, 15, 18, 21, 24, 27))\n",
       "('ajiihoowo-ocebliovu', (6, 9, 12, 15, 18, 21, 24, 27))\n",
       "('ushuupreuji-isugreaca', (6, 9, 12, 15, 18, 21, 24, 27))\n",
       "('eploiyeize-idreikwaespa', (6, 9, 12, 15, 18, 21, 24, 27))\n",
       "('iduufianu-eglouglaesku', (6, 9, 12, 15, 18, 21, 24, 27))\n",
       "('ecuisluubi-egloadiuqe', (6, 9, 12, 15, 18, 21, 24, 27))\n",
       "('ushuigaifru-itrioquja', (6, 9, 12, 15, 18, 21, 24, 27))\n",
       "('xabaasno-hiideekru', (6, 9, 12, 15, 18, 21, 24, 27))\n",
       "('exuwoode-acaoklaetwi', (6, 9, 12, 15, 18, 21, 24, 27))\n",
       "('iskiageufe-ojujoofli', (6, 9, 12, 15, 18, 21, 24, 27))\n",
       "('swiaphoedro-umuinupru', (6, 9, 12, 15, 18, 21, 24, 27))\n",
       "('agluupriba-eyuibloisto', (6, 9, 12, 15, 18, 21, 24, 27))\n",
       "('eshaiyooca-apleoputu', (6, 9, 12, 15, 18, 21, 24, 27))\n",
       "('ugreefoago-eshiiskuaspe', (6, 9, 12, 15, 18, 21, 24, 27))\n",
       "('ekizaeke-ikwiogroaphi', (6, 9, 12, 15, 18, 21, 24, 27))\n",
       ")"
      ]
     },
     "execution_count": 7,
     "metadata": {},
     "output_type": "execute_result"
    }
   ],
   "source": [
    "scope1 = myreader[Fetch('_counts_') > 5]\n",
    "scope1"
   ]
  },
  {
   "cell_type": "code",
   "execution_count": 8,
   "metadata": {},
   "outputs": [
    {
     "data": {
      "text/plain": [
       "Scope(\n",
       "('ajiihoowo-ocebliovu', '...')\n",
       "('ugreefoago-eshiiskuaspe', '...')\n",
       "('twiuprueplu-theereidwo', '...')\n",
       "('iskiageufe-ojujoofli', '...')\n",
       "('swiaphoedro-umuinupru', '...')\n",
       "('eploiyeize-idreikwaespa', '...')\n",
       "('ekizaeke-ikwiogroaphi', '...')\n",
       "('eshaiyooca-apleoputu', '...')\n",
       "('xabaasno-hiideekru', '...')\n",
       ")"
      ]
     },
     "execution_count": 8,
     "metadata": {},
     "output_type": "execute_result"
    }
   ],
   "source": [
    "scope2 = myreader[Fetch('Ra')]\n",
    "scope2"
   ]
  },
  {
   "cell_type": "code",
   "execution_count": 9,
   "metadata": {},
   "outputs": [
    {
     "data": {
      "text/plain": [
       "Scope(\n",
       "('twiuprueplu-theereidwo', (6, 9, 12, 15, 18, 21, 24, 27))\n",
       "('xabaasno-hiideekru', (6, 9, 12, 15, 18, 21, 24, 27))\n",
       "('ekizaeke-ikwiogroaphi', (6, 9, 12, 15, 18, 21, 24, 27))\n",
       "('ajiihoowo-ocebliovu', (6, 9, 12, 15, 18, 21, 24, 27))\n",
       "('iskiageufe-ojujoofli', (6, 9, 12, 15, 18, 21, 24, 27))\n",
       "('swiaphoedro-umuinupru', (6, 9, 12, 15, 18, 21, 24, 27))\n",
       "('eshaiyooca-apleoputu', (6, 9, 12, 15, 18, 21, 24, 27))\n",
       "('ugreefoago-eshiiskuaspe', (6, 9, 12, 15, 18, 21, 24, 27))\n",
       "('eploiyeize-idreikwaespa', (6, 9, 12, 15, 18, 21, 24, 27))\n",
       ")"
      ]
     },
     "execution_count": 9,
     "metadata": {},
     "output_type": "execute_result"
    }
   ],
   "source": [
    "scope3 = scope1 & scope2\n",
    "scope3"
   ]
  },
  {
   "cell_type": "code",
   "execution_count": 10,
   "metadata": {
    "scrolled": true
   },
   "outputs": [
    {
     "data": {
      "text/plain": [
       "array([[[ 1.        ],\n",
       "        [ 0.83650634],\n",
       "        [ 0.69098027],\n",
       "        ..., \n",
       "        [ 0.29656162],\n",
       "        [ 0.15202562],\n",
       "        [ 0.        ]],\n",
       "\n",
       "       [[ 1.        ],\n",
       "        [ 0.79104913],\n",
       "        [ 0.62352557],\n",
       "        ..., \n",
       "        [ 0.35947604],\n",
       "        [ 0.18883414],\n",
       "        [ 0.        ]],\n",
       "\n",
       "       [[ 1.        ],\n",
       "        [ 0.73822706],\n",
       "        [ 0.55154714],\n",
       "        ..., \n",
       "        [ 0.42757512],\n",
       "        [ 0.23252172],\n",
       "        [ 0.        ]],\n",
       "\n",
       "       ..., \n",
       "       [[ 1.        ],\n",
       "        [ 0.59037597],\n",
       "        [ 0.33806997],\n",
       "        ..., \n",
       "        [ 0.62708922],\n",
       "        [ 0.36277498],\n",
       "        [ 0.        ]],\n",
       "\n",
       "       [[ 1.        ],\n",
       "        [ 0.53511468],\n",
       "        [ 0.27957152],\n",
       "        ..., \n",
       "        [ 0.69060851],\n",
       "        [ 0.41470631],\n",
       "        [ 0.        ]],\n",
       "\n",
       "       [[ 1.        ],\n",
       "        [ 0.48421727],\n",
       "        [ 0.23063289],\n",
       "        ..., \n",
       "        [ 0.74577337],\n",
       "        [ 0.46482281],\n",
       "        [ 0.        ]]])"
      ]
     },
     "execution_count": 10,
     "metadata": {},
     "output_type": "execute_result"
    }
   ],
   "source": [
    "myreader[scope3: 'temperatureField']"
   ]
  },
  {
   "cell_type": "code",
   "execution_count": 11,
   "metadata": {},
   "outputs": [
    {
     "data": {
      "text/plain": [
       "Scope(\n",
       "('ajiihoowo-ocebliovu', (6, 9, 12, 15, 18, 21, 24, 27))\n",
       "('iskiageufe-ojujoofli', (6, 9, 12, 15, 18, 21, 24, 27))\n",
       "('twiuprueplu-theereidwo', (6, 9, 12, 15, 18, 21, 24, 27))\n",
       "('xabaasno-hiideekru', (6, 9, 12, 15, 18, 21, 24, 27))\n",
       "('ugreefoago-eshiiskuaspe', (6, 9, 12, 15, 18, 21, 24, 27))\n",
       "('ekizaeke-ikwiogroaphi', (6, 9, 12, 15, 18, 21, 24, 27))\n",
       ")"
      ]
     },
     "execution_count": 11,
     "metadata": {},
     "output_type": "execute_result"
    }
   ],
   "source": [
    "bigscope = (myreader[(Fetch('Ra') > 1e4) & (Fetch('f') < 1)] | myreader[(Fetch('Ra') > 3e4) & (Fetch('f') == 1)]) & scope1\n",
    "bigscope"
   ]
  },
  {
   "cell_type": "code",
   "execution_count": 12,
   "metadata": {},
   "outputs": [
    {
     "data": {
      "text/plain": [
       "array([[[ 1.        ],\n",
       "        [ 0.83650634],\n",
       "        [ 0.69098027],\n",
       "        ..., \n",
       "        [ 0.29656162],\n",
       "        [ 0.15202562],\n",
       "        [ 0.        ]],\n",
       "\n",
       "       [[ 1.        ],\n",
       "        [ 0.79104913],\n",
       "        [ 0.62352557],\n",
       "        ..., \n",
       "        [ 0.35947604],\n",
       "        [ 0.18883414],\n",
       "        [ 0.        ]],\n",
       "\n",
       "       [[ 1.        ],\n",
       "        [ 0.73822706],\n",
       "        [ 0.55154714],\n",
       "        ..., \n",
       "        [ 0.42757512],\n",
       "        [ 0.23252172],\n",
       "        [ 0.        ]],\n",
       "\n",
       "       ..., \n",
       "       [[ 1.        ],\n",
       "        [ 0.52795838],\n",
       "        [ 0.30206892],\n",
       "        ..., \n",
       "        [ 0.68740323],\n",
       "        [ 0.44658676],\n",
       "        [ 0.        ]],\n",
       "\n",
       "       [[ 1.        ],\n",
       "        [ 0.45667268],\n",
       "        [ 0.23770637],\n",
       "        ..., \n",
       "        [ 0.75469926],\n",
       "        [ 0.51622592],\n",
       "        [ 0.        ]],\n",
       "\n",
       "       [[ 1.        ],\n",
       "        [ 0.38804545],\n",
       "        [ 0.18453003],\n",
       "        ..., \n",
       "        [ 0.81130727],\n",
       "        [ 0.58447455],\n",
       "        [ 0.        ]]])"
      ]
     },
     "execution_count": 12,
     "metadata": {},
     "output_type": "execute_result"
    }
   ],
   "source": [
    "myreader[bigscope: 'temperatureField']"
   ]
  },
  {
   "cell_type": "code",
   "execution_count": 13,
   "metadata": {},
   "outputs": [
    {
     "data": {
      "text/plain": [
       "'__intersection__(__union__(Scope(__intersection__(__gt__(Fetch(Ra), 10000.0), __lt__(Fetch(f), 1))), Scope(__intersection__(__gt__(Fetch(Ra), 30000.0), __eq__(Fetch(f), 1)))), Scope(__gt__(Fetch(_counts_), 5)))'"
      ]
     },
     "execution_count": 13,
     "metadata": {},
     "output_type": "execute_result"
    }
   ],
   "source": [
    "bigscope.ID"
   ]
  },
  {
   "cell_type": "code",
   "execution_count": 14,
   "metadata": {},
   "outputs": [
    {
     "data": {
      "text/plain": [
       "Scope(\n",
       "('ajiihoowo-ocebliovu', (6, 9, 12, 15, 18, 21, 24, 27))\n",
       "('iskiageufe-ojujoofli', (6, 9, 12, 15, 18, 21, 24, 27))\n",
       "('twiuprueplu-theereidwo', (6, 9, 12, 15, 18, 21, 24, 27))\n",
       "('xabaasno-hiideekru', (6, 9, 12, 15, 18, 21, 24, 27))\n",
       "('ugreefoago-eshiiskuaspe', (6, 9, 12, 15, 18, 21, 24, 27))\n",
       "('ekizaeke-ikwiogroaphi', (6, 9, 12, 15, 18, 21, 24, 27))\n",
       ")"
      ]
     },
     "execution_count": 14,
     "metadata": {},
     "output_type": "execute_result"
    }
   ],
   "source": [
    "import pickle\n",
    "mybytes = pickle.dumps(bigscope)\n",
    "loaded = pickle.loads(mybytes)\n",
    "loaded"
   ]
  },
  {
   "cell_type": "code",
   "execution_count": 30,
   "metadata": {},
   "outputs": [],
   "source": [
    "newlist = []\n",
    "for hashID, counts in list(bigscope):\n",
    "    newID = list(myreader[Fetch('system') == hashID])[0][0]\n",
    "    newlist.append((newID, counts))"
   ]
  },
  {
   "cell_type": "code",
   "execution_count": 31,
   "metadata": {},
   "outputs": [
    {
     "data": {
      "text/plain": [
       "[('agluupriba-eyuibloisto', (6, 9, 12, 15, 18, 21, 24, 27)),\n",
       " ('ogeeliesta-aphuifeoswe', (6, 9, 12, 15, 18, 21, 24, 27)),\n",
       " ('ephuazeize-akaiglaaflo', (6, 9, 12, 15, 18, 21, 24, 27)),\n",
       " ('ecuisluubi-egloadiuqe', (6, 9, 12, 15, 18, 21, 24, 27)),\n",
       " ('ushuupreuji-isugreaca', (6, 9, 12, 15, 18, 21, 24, 27)),\n",
       " ('exuwoode-acaoklaetwi', (6, 9, 12, 15, 18, 21, 24, 27))]"
      ]
     },
     "execution_count": 31,
     "metadata": {},
     "output_type": "execute_result"
    }
   ],
   "source": [
    "newlist"
   ]
  },
  {
   "cell_type": "code",
   "execution_count": 32,
   "metadata": {},
   "outputs": [],
   "source": [
    "newscope = Scope(newlist)"
   ]
  },
  {
   "cell_type": "code",
   "execution_count": 33,
   "metadata": {},
   "outputs": [
    {
     "data": {
      "text/plain": [
       "Scope(\n",
       "('exuwoode-acaoklaetwi', (6, 9, 12, 15, 18, 21, 24, 27))\n",
       "('ecuisluubi-egloadiuqe', (6, 9, 12, 15, 18, 21, 24, 27))\n",
       "('agluupriba-eyuibloisto', (6, 9, 12, 15, 18, 21, 24, 27))\n",
       "('ushuupreuji-isugreaca', (6, 9, 12, 15, 18, 21, 24, 27))\n",
       "('ogeeliesta-aphuifeoswe', (6, 9, 12, 15, 18, 21, 24, 27))\n",
       "('ephuazeize-akaiglaaflo', (6, 9, 12, 15, 18, 21, 24, 27))\n",
       ")"
      ]
     },
     "execution_count": 33,
     "metadata": {},
     "output_type": "execute_result"
    }
   ],
   "source": [
    "newscope"
   ]
  },
  {
   "cell_type": "code",
   "execution_count": 35,
   "metadata": {},
   "outputs": [
    {
     "data": {
      "text/plain": [
       "Scope(\n",
       "('ecuisluubi-egloadiuqe', (6, 9, 12, 15, 18, 21, 24, 27))\n",
       "('twiuprueplu-theereidwo', (6, 9, 12, 15, 18, 21, 24, 27))\n",
       "('xabaasno-hiideekru', (6, 9, 12, 15, 18, 21, 24, 27))\n",
       "('ogeeliesta-aphuifeoswe', (6, 9, 12, 15, 18, 21, 24, 27))\n",
       "('ephuazeize-akaiglaaflo', (6, 9, 12, 15, 18, 21, 24, 27))\n",
       "('ajiihoowo-ocebliovu', (6, 9, 12, 15, 18, 21, 24, 27))\n",
       "('exuwoode-acaoklaetwi', (6, 9, 12, 15, 18, 21, 24, 27))\n",
       "('iskiageufe-ojujoofli', (6, 9, 12, 15, 18, 21, 24, 27))\n",
       "('agluupriba-eyuibloisto', (6, 9, 12, 15, 18, 21, 24, 27))\n",
       "('ushuupreuji-isugreaca', (6, 9, 12, 15, 18, 21, 24, 27))\n",
       "('ugreefoago-eshiiskuaspe', (6, 9, 12, 15, 18, 21, 24, 27))\n",
       "('ekizaeke-ikwiogroaphi', (6, 9, 12, 15, 18, 21, 24, 27))\n",
       ")"
      ]
     },
     "execution_count": 35,
     "metadata": {},
     "output_type": "execute_result"
    }
   ],
   "source": [
    "newscope | bigscope"
   ]
  },
  {
   "cell_type": "code",
   "execution_count": 40,
   "metadata": {
    "scrolled": true
   },
   "outputs": [
    {
     "data": {
      "text/plain": [
       "array([[[ 1.2964357 ]],\n",
       "\n",
       "       [[ 1.52485413]],\n",
       "\n",
       "       [[ 1.80723181]],\n",
       "\n",
       "       [[ 2.14576333]],\n",
       "\n",
       "       [[ 2.54081482]],\n",
       "\n",
       "       [[ 2.99127109]],\n",
       "\n",
       "       [[ 3.4934101 ]],\n",
       "\n",
       "       [[ 4.0405199 ]],\n",
       "\n",
       "       [[ 1.31328256]],\n",
       "\n",
       "       [[ 1.55135743]],\n",
       "\n",
       "       [[ 1.84350715]],\n",
       "\n",
       "       [[ 2.19433712]],\n",
       "\n",
       "       [[ 2.60728785]],\n",
       "\n",
       "       [[ 3.08408211]],\n",
       "\n",
       "       [[ 3.62399308]],\n",
       "\n",
       "       [[ 4.2232705 ]],\n",
       "\n",
       "       [[ 1.36880023]],\n",
       "\n",
       "       [[ 1.65852221]],\n",
       "\n",
       "       [[ 2.01989364]],\n",
       "\n",
       "       [[ 2.45851631]],\n",
       "\n",
       "       [[ 2.97756127]],\n",
       "\n",
       "       [[ 3.57653037]],\n",
       "\n",
       "       [[ 4.25059068]],\n",
       "\n",
       "       [[ 4.99044973]],\n",
       "\n",
       "       [[ 1.40660196]],\n",
       "\n",
       "       [[ 1.74126947]],\n",
       "\n",
       "       [[ 2.16434745]],\n",
       "\n",
       "       [[ 2.67688263]],\n",
       "\n",
       "       [[ 3.27472081]],\n",
       "\n",
       "       [[ 3.94776116]],\n",
       "\n",
       "       [[ 4.67999182]],\n",
       "\n",
       "       [[ 5.44572868]],\n",
       "\n",
       "       [[ 1.35031169]],\n",
       "\n",
       "       [[ 1.63000028]],\n",
       "\n",
       "       [[ 1.98010424]],\n",
       "\n",
       "       [[ 2.40235936]],\n",
       "\n",
       "       [[ 2.89565702]],\n",
       "\n",
       "       [[ 3.45570662]],\n",
       "\n",
       "       [[ 4.07371424]],\n",
       "\n",
       "       [[ 4.73627781]],\n",
       "\n",
       "       [[ 1.42649556]],\n",
       "\n",
       "       [[ 1.77202102]],\n",
       "\n",
       "       [[ 2.20914469]],\n",
       "\n",
       "       [[ 2.74403477]],\n",
       "\n",
       "       [[ 3.37785761]],\n",
       "\n",
       "       [[ 4.1060754 ]],\n",
       "\n",
       "       [[ 4.91755003]],\n",
       "\n",
       "       [[ 5.78769444]]])"
      ]
     },
     "execution_count": 40,
     "metadata": {},
     "output_type": "execute_result"
    }
   ],
   "source": [
    "Nus, avTemps = myreader[newscope : ('Nu', 'avTemp')]\n",
    "Nus"
   ]
  }
 ],
 "metadata": {
  "kernelspec": {
   "display_name": "Python 3",
   "language": "python",
   "name": "python3"
  },
  "language_info": {
   "codemirror_mode": {
    "name": "ipython",
    "version": 3
   },
   "file_extension": ".py",
   "mimetype": "text/x-python",
   "name": "python",
   "nbconvert_exporter": "python",
   "pygments_lexer": "ipython3",
   "version": "3.5.3"
  }
 },
 "nbformat": 4,
 "nbformat_minor": 2
}
