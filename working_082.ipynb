{
 "cells": [
  {
   "cell_type": "code",
   "execution_count": 1,
   "metadata": {},
   "outputs": [],
   "source": [
    "import sys\n",
    "import os\n",
    "workPath = os.path.abspath('..')\n",
    "if not workPath in sys.path:\n",
    "    sys.path.append(workPath)"
   ]
  },
  {
   "cell_type": "code",
   "execution_count": 2,
   "metadata": {},
   "outputs": [],
   "source": [
    "import planetengine\n",
    "import everest\n",
    "Fetch = everest.window.Fetch\n",
    "Reader = everest.window.Reader\n",
    "Scope = everest.window.Scope"
   ]
  },
  {
   "cell_type": "code",
   "execution_count": 3,
   "metadata": {},
   "outputs": [],
   "source": [
    "outputPath = '../out'\n",
    "frameName = 'dev'"
   ]
  },
  {
   "cell_type": "code",
   "execution_count": 4,
   "metadata": {},
   "outputs": [],
   "source": [
    "# import os\n",
    "# os.remove(os.path.join(outputPath, frameName) + '.frm')\n",
    "# for f in [i / 10. for i in range(7, 10)]:\n",
    "#     for Ra in [1e4, 3e4, 1e5]:\n",
    "#         system = planetengine.systems.isovisc.build(res = 16, Ra = Ra, f = f)\n",
    "#         observer = planetengine.observers.standard.build(system)\n",
    "#         system.anchor(frameName, outputPath)\n",
    "#         observer.coanchor(system)\n",
    "#         for i in range(3):\n",
    "#             for i in range(3):\n",
    "#                 system.iterate(3)\n",
    "#                 system.store()\n",
    "#                 observer.store()\n",
    "#             system.save()\n",
    "#             observer.save()"
   ]
  },
  {
   "cell_type": "code",
   "execution_count": 5,
   "metadata": {},
   "outputs": [],
   "source": [
    "myreader = Reader(everest.frame.get_framepath(frameName, outputPath))"
   ]
  },
  {
   "cell_type": "code",
   "execution_count": 6,
   "metadata": {},
   "outputs": [
    {
     "data": {
      "text/plain": [
       "__gt__(Fetch(_counts_), 5)"
      ]
     },
     "execution_count": 6,
     "metadata": {},
     "output_type": "execute_result"
    }
   ],
   "source": [
    "Fetch('_counts_') > 5"
   ]
  },
  {
   "cell_type": "code",
   "execution_count": 7,
   "metadata": {},
   "outputs": [
    {
     "data": {
      "text/plain": [
       "Scope(\n",
       "('twiuprueplu-theereidwo', (6, 9, 12, 15, 18, 21, 24, 27))\n",
       "('eshaiyooca-apleoputu', (6, 9, 12, 15, 18, 21, 24, 27))\n",
       "('iskiageufe-ojujoofli', (6, 9, 12, 15, 18, 21, 24, 27))\n",
       "('eploiyeize-idreikwaespa', (6, 9, 12, 15, 18, 21, 24, 27))\n",
       "('ephuazeize-akaiglaaflo', (6, 9, 12, 15, 18, 21, 24, 27))\n",
       "('blaisfiibra-isfaadreva', (6, 9, 12, 15, 18, 21, 24, 27))\n",
       "('ogeeliesta-aphuifeoswe', (6, 9, 12, 15, 18, 21, 24, 27))\n",
       "('ecuisluubi-egloadiuqe', (6, 9, 12, 15, 18, 21, 24, 27))\n",
       "('ushuigaifru-itrioquja', (6, 9, 12, 15, 18, 21, 24, 27))\n",
       "('xabaasno-hiideekru', (6, 9, 12, 15, 18, 21, 24, 27))\n",
       "('ushuupreuji-isugreaca', (6, 9, 12, 15, 18, 21, 24, 27))\n",
       "('swiaphoedro-umuinupru', (6, 9, 12, 15, 18, 21, 24, 27))\n",
       "('exuwoode-acaoklaetwi', (6, 9, 12, 15, 18, 21, 24, 27))\n",
       "('ajiihoowo-ocebliovu', (6, 9, 12, 15, 18, 21, 24, 27))\n",
       "('ugreefoago-eshiiskuaspe', (6, 9, 12, 15, 18, 21, 24, 27))\n",
       "('ekizaeke-ikwiogroaphi', (6, 9, 12, 15, 18, 21, 24, 27))\n",
       "('iduufianu-eglouglaesku', (6, 9, 12, 15, 18, 21, 24, 27))\n",
       "('agluupriba-eyuibloisto', (6, 9, 12, 15, 18, 21, 24, 27))\n",
       ")"
      ]
     },
     "execution_count": 7,
     "metadata": {},
     "output_type": "execute_result"
    }
   ],
   "source": [
    "scope1 = myreader[Fetch('_counts_') > 5]\n",
    "scope1"
   ]
  },
  {
   "cell_type": "code",
   "execution_count": 8,
   "metadata": {},
   "outputs": [
    {
     "data": {
      "text/plain": [
       "Scope(\n",
       "('xabaasno-hiideekru', '...')\n",
       "('twiuprueplu-theereidwo', '...')\n",
       "('eshaiyooca-apleoputu', '...')\n",
       "('iskiageufe-ojujoofli', '...')\n",
       "('ekizaeke-ikwiogroaphi', '...')\n",
       "('eploiyeize-idreikwaespa', '...')\n",
       "('swiaphoedro-umuinupru', '...')\n",
       "('ugreefoago-eshiiskuaspe', '...')\n",
       "('ajiihoowo-ocebliovu', '...')\n",
       ")"
      ]
     },
     "execution_count": 8,
     "metadata": {},
     "output_type": "execute_result"
    }
   ],
   "source": [
    "scope2 = myreader[Fetch('Ra')]\n",
    "scope2"
   ]
  },
  {
   "cell_type": "code",
   "execution_count": 9,
   "metadata": {},
   "outputs": [
    {
     "data": {
      "text/plain": [
       "Scope(\n",
       "('twiuprueplu-theereidwo', (6, 9, 12, 15, 18, 21, 24, 27))\n",
       "('eshaiyooca-apleoputu', (6, 9, 12, 15, 18, 21, 24, 27))\n",
       "('iskiageufe-ojujoofli', (6, 9, 12, 15, 18, 21, 24, 27))\n",
       "('xabaasno-hiideekru', (6, 9, 12, 15, 18, 21, 24, 27))\n",
       "('eploiyeize-idreikwaespa', (6, 9, 12, 15, 18, 21, 24, 27))\n",
       "('swiaphoedro-umuinupru', (6, 9, 12, 15, 18, 21, 24, 27))\n",
       "('ajiihoowo-ocebliovu', (6, 9, 12, 15, 18, 21, 24, 27))\n",
       "('ugreefoago-eshiiskuaspe', (6, 9, 12, 15, 18, 21, 24, 27))\n",
       "('ekizaeke-ikwiogroaphi', (6, 9, 12, 15, 18, 21, 24, 27))\n",
       ")"
      ]
     },
     "execution_count": 9,
     "metadata": {},
     "output_type": "execute_result"
    }
   ],
   "source": [
    "scope3 = scope1 & scope2\n",
    "scope3"
   ]
  },
  {
   "cell_type": "code",
   "execution_count": 10,
   "metadata": {
    "scrolled": true
   },
   "outputs": [
    {
     "data": {
      "text/plain": [
       "array([[[ 1.        ],\n",
       "        [ 0.83650634],\n",
       "        [ 0.69098027],\n",
       "        ..., \n",
       "        [ 0.29656162],\n",
       "        [ 0.15202562],\n",
       "        [ 0.        ]],\n",
       "\n",
       "       [[ 1.        ],\n",
       "        [ 0.79104913],\n",
       "        [ 0.62352557],\n",
       "        ..., \n",
       "        [ 0.35947604],\n",
       "        [ 0.18883414],\n",
       "        [ 0.        ]],\n",
       "\n",
       "       [[ 1.        ],\n",
       "        [ 0.73822706],\n",
       "        [ 0.55154714],\n",
       "        ..., \n",
       "        [ 0.42757512],\n",
       "        [ 0.23252172],\n",
       "        [ 0.        ]],\n",
       "\n",
       "       ..., \n",
       "       [[ 1.        ],\n",
       "        [ 0.52795838],\n",
       "        [ 0.30206892],\n",
       "        ..., \n",
       "        [ 0.68740323],\n",
       "        [ 0.44658676],\n",
       "        [ 0.        ]],\n",
       "\n",
       "       [[ 1.        ],\n",
       "        [ 0.45667268],\n",
       "        [ 0.23770637],\n",
       "        ..., \n",
       "        [ 0.75469926],\n",
       "        [ 0.51622592],\n",
       "        [ 0.        ]],\n",
       "\n",
       "       [[ 1.        ],\n",
       "        [ 0.38804545],\n",
       "        [ 0.18453003],\n",
       "        ..., \n",
       "        [ 0.81130727],\n",
       "        [ 0.58447455],\n",
       "        [ 0.        ]]])"
      ]
     },
     "execution_count": 10,
     "metadata": {},
     "output_type": "execute_result"
    }
   ],
   "source": [
    "myreader[scope3: 'temperatureField']"
   ]
  },
  {
   "cell_type": "code",
   "execution_count": 11,
   "metadata": {},
   "outputs": [
    {
     "data": {
      "text/plain": [
       "Scope(\n",
       "('twiuprueplu-theereidwo', (6, 9, 12, 15, 18, 21, 24, 27))\n",
       "('iskiageufe-ojujoofli', (6, 9, 12, 15, 18, 21, 24, 27))\n",
       "('ajiihoowo-ocebliovu', (6, 9, 12, 15, 18, 21, 24, 27))\n",
       "('ekizaeke-ikwiogroaphi', (6, 9, 12, 15, 18, 21, 24, 27))\n",
       "('ugreefoago-eshiiskuaspe', (6, 9, 12, 15, 18, 21, 24, 27))\n",
       "('xabaasno-hiideekru', (6, 9, 12, 15, 18, 21, 24, 27))\n",
       ")"
      ]
     },
     "execution_count": 11,
     "metadata": {},
     "output_type": "execute_result"
    }
   ],
   "source": [
    "bigscope = (myreader[(Fetch('Ra') > 1e4) & (Fetch('f') < 1)] | myreader[(Fetch('Ra') > 3e4) & (Fetch('f') == 1)]) & scope1\n",
    "bigscope"
   ]
  },
  {
   "cell_type": "code",
   "execution_count": 12,
   "metadata": {},
   "outputs": [
    {
     "data": {
      "text/plain": [
       "array([[[ 1.        ],\n",
       "        [ 0.83650634],\n",
       "        [ 0.69098027],\n",
       "        ..., \n",
       "        [ 0.29656162],\n",
       "        [ 0.15202562],\n",
       "        [ 0.        ]],\n",
       "\n",
       "       [[ 1.        ],\n",
       "        [ 0.79104913],\n",
       "        [ 0.62352557],\n",
       "        ..., \n",
       "        [ 0.35947604],\n",
       "        [ 0.18883414],\n",
       "        [ 0.        ]],\n",
       "\n",
       "       [[ 1.        ],\n",
       "        [ 0.73822706],\n",
       "        [ 0.55154714],\n",
       "        ..., \n",
       "        [ 0.42757512],\n",
       "        [ 0.23252172],\n",
       "        [ 0.        ]],\n",
       "\n",
       "       ..., \n",
       "       [[ 1.        ],\n",
       "        [ 0.52795838],\n",
       "        [ 0.30206892],\n",
       "        ..., \n",
       "        [ 0.68740323],\n",
       "        [ 0.44658676],\n",
       "        [ 0.        ]],\n",
       "\n",
       "       [[ 1.        ],\n",
       "        [ 0.45667268],\n",
       "        [ 0.23770637],\n",
       "        ..., \n",
       "        [ 0.75469926],\n",
       "        [ 0.51622592],\n",
       "        [ 0.        ]],\n",
       "\n",
       "       [[ 1.        ],\n",
       "        [ 0.38804545],\n",
       "        [ 0.18453003],\n",
       "        ..., \n",
       "        [ 0.81130727],\n",
       "        [ 0.58447455],\n",
       "        [ 0.        ]]])"
      ]
     },
     "execution_count": 12,
     "metadata": {},
     "output_type": "execute_result"
    }
   ],
   "source": [
    "myreader[bigscope: 'temperatureField']"
   ]
  },
  {
   "cell_type": "code",
   "execution_count": 13,
   "metadata": {},
   "outputs": [
    {
     "data": {
      "text/plain": [
       "'__intersection__(__union__(Scope(__intersection__(__gt__(Fetch(Ra), 10000.0), __lt__(Fetch(f), 1))), Scope(__intersection__(__gt__(Fetch(Ra), 30000.0), __eq__(Fetch(f), 1)))), Scope(__gt__(Fetch(_counts_), 5)))'"
      ]
     },
     "execution_count": 13,
     "metadata": {},
     "output_type": "execute_result"
    }
   ],
   "source": [
    "bigscope.ID"
   ]
  },
  {
   "cell_type": "code",
   "execution_count": 14,
   "metadata": {},
   "outputs": [
    {
     "data": {
      "text/plain": [
       "Scope(\n",
       "('twiuprueplu-theereidwo', (6, 9, 12, 15, 18, 21, 24, 27))\n",
       "('iskiageufe-ojujoofli', (6, 9, 12, 15, 18, 21, 24, 27))\n",
       "('ajiihoowo-ocebliovu', (6, 9, 12, 15, 18, 21, 24, 27))\n",
       "('ekizaeke-ikwiogroaphi', (6, 9, 12, 15, 18, 21, 24, 27))\n",
       "('ugreefoago-eshiiskuaspe', (6, 9, 12, 15, 18, 21, 24, 27))\n",
       "('xabaasno-hiideekru', (6, 9, 12, 15, 18, 21, 24, 27))\n",
       ")"
      ]
     },
     "execution_count": 14,
     "metadata": {},
     "output_type": "execute_result"
    }
   ],
   "source": [
    "import pickle\n",
    "mybytes = pickle.dumps(bigscope)\n",
    "loaded = pickle.loads(mybytes)\n",
    "loaded"
   ]
  },
  {
   "cell_type": "code",
   "execution_count": 15,
   "metadata": {},
   "outputs": [
    {
     "data": {
      "text/plain": [
       "Scope(\n",
       "('exuwoode-acaoklaetwi', (6, 9, 12, 15, 18, 21, 24, 27))\n",
       "('ecuisluubi-egloadiuqe', (6, 9, 12, 15, 18, 21, 24, 27))\n",
       "('ephuazeize-akaiglaaflo', (6, 9, 12, 15, 18, 21, 24, 27))\n",
       "('ushuupreuji-isugreaca', (6, 9, 12, 15, 18, 21, 24, 27))\n",
       "('ogeeliesta-aphuifeoswe', (6, 9, 12, 15, 18, 21, 24, 27))\n",
       "('agluupriba-eyuibloisto', (6, 9, 12, 15, 18, 21, 24, 27))\n",
       ")"
      ]
     },
     "execution_count": 15,
     "metadata": {},
     "output_type": "execute_result"
    }
   ],
   "source": [
    "newscope = bigscope.rekey('/*/inputs/system', myreader.context)\n",
    "newscope"
   ]
  },
  {
   "cell_type": "code",
   "execution_count": 16,
   "metadata": {},
   "outputs": [
    {
     "data": {
      "text/plain": [
       "Scope(\n",
       "('twiuprueplu-theereidwo', (6, 9, 12, 15, 18, 21, 24, 27))\n",
       "('ecuisluubi-egloadiuqe', (6, 9, 12, 15, 18, 21, 24, 27))\n",
       "('iskiageufe-ojujoofli', (6, 9, 12, 15, 18, 21, 24, 27))\n",
       "('xabaasno-hiideekru', (6, 9, 12, 15, 18, 21, 24, 27))\n",
       "('ushuupreuji-isugreaca', (6, 9, 12, 15, 18, 21, 24, 27))\n",
       "('exuwoode-acaoklaetwi', (6, 9, 12, 15, 18, 21, 24, 27))\n",
       "('ajiihoowo-ocebliovu', (6, 9, 12, 15, 18, 21, 24, 27))\n",
       "('ephuazeize-akaiglaaflo', (6, 9, 12, 15, 18, 21, 24, 27))\n",
       "('ugreefoago-eshiiskuaspe', (6, 9, 12, 15, 18, 21, 24, 27))\n",
       "('ekizaeke-ikwiogroaphi', (6, 9, 12, 15, 18, 21, 24, 27))\n",
       "('ogeeliesta-aphuifeoswe', (6, 9, 12, 15, 18, 21, 24, 27))\n",
       "('agluupriba-eyuibloisto', (6, 9, 12, 15, 18, 21, 24, 27))\n",
       ")"
      ]
     },
     "execution_count": 16,
     "metadata": {},
     "output_type": "execute_result"
    }
   ],
   "source": [
    "newscope | bigscope"
   ]
  },
  {
   "cell_type": "code",
   "execution_count": 17,
   "metadata": {},
   "outputs": [],
   "source": [
    "Nuscope = myreader[Fetch('Nu') > 3]"
   ]
  },
  {
   "cell_type": "code",
   "execution_count": 18,
   "metadata": {},
   "outputs": [],
   "source": [
    "analysisScope = newscope & Nuscope"
   ]
  },
  {
   "cell_type": "code",
   "execution_count": 19,
   "metadata": {},
   "outputs": [
    {
     "data": {
      "text/plain": [
       "Scope(\n",
       "('ephuazeize-akaiglaaflo', (21, 24, 27))\n",
       "('ecuisluubi-egloadiuqe', (24, 27))\n",
       "('agluupriba-eyuibloisto', (21, 24, 27))\n",
       "('exuwoode-acaoklaetwi', (18, 21, 24, 27))\n",
       "('ushuupreuji-isugreaca', (18, 21, 24, 27))\n",
       "('ogeeliesta-aphuifeoswe', (21, 24, 27))\n",
       ")"
      ]
     },
     "execution_count": 19,
     "metadata": {},
     "output_type": "execute_result"
    }
   ],
   "source": [
    "analysisScope"
   ]
  },
  {
   "cell_type": "code",
   "execution_count": 20,
   "metadata": {},
   "outputs": [],
   "source": [
    "import matplotlib.pyplot as plt"
   ]
  },
  {
   "cell_type": "code",
   "execution_count": 26,
   "metadata": {},
   "outputs": [
    {
     "data": {
      "text/plain": [
       "(0.0, 10)"
      ]
     },
     "execution_count": 26,
     "metadata": {},
     "output_type": "execute_result"
    },
    {
     "data": {
      "image/png": "[encoded data removed]",
      "text/plain": [
       "<Figure size 432x288 with 1 Axes>"
      ]
     },
     "metadata": {
      "needs_background": "light"
     },
     "output_type": "display_data"
    }
   ],
   "source": [
    "xs, ys = myreader[analysisScope : ('modeltime', 'Nu')]\n",
    "xs, ys = xs.flatten(), ys.flatten()\n",
    "plt.scatter(xs, ys)\n",
    "plt.xlim([0, 0.003])\n",
    "plt.ylim([0., 10])"
   ]
  },
  {
   "cell_type": "code",
   "execution_count": 22,
   "metadata": {},
   "outputs": [],
   "source": [
    "import numpy as np"
   ]
  },
  {
   "cell_type": "code",
   "execution_count": 30,
   "metadata": {},
   "outputs": [
    {
     "data": {
      "text/plain": [
       "array([[ 3.4934101 ],\n",
       "       [ 4.0405199 ],\n",
       "       [ 3.45570662],\n",
       "       [ 4.07371424],\n",
       "       [ 4.73627781],\n",
       "       [ 3.27472081],\n",
       "       [ 3.94776116],\n",
       "       [ 4.67999182],\n",
       "       [ 5.44572868],\n",
       "       [ 3.37785761],\n",
       "       [ 4.1060754 ],\n",
       "       [ 4.91755003],\n",
       "       [ 5.78769444],\n",
       "       [ 3.08408211],\n",
       "       [ 3.62399308],\n",
       "       [ 4.2232705 ],\n",
       "       [ 3.57653037],\n",
       "       [ 4.25059068],\n",
       "       [ 4.99044973]])"
      ]
     },
     "execution_count": 30,
     "metadata": {},
     "output_type": "execute_result"
    }
   ],
   "source": [
    "np.vstack(ys)"
   ]
  },
  {
   "cell_type": "code",
   "execution_count": 32,
   "metadata": {},
   "outputs": [],
   "source": [
    "xs, ys = np.vstack(xs), np.vstack(ys)"
   ]
  },
  {
   "cell_type": "code",
   "execution_count": 37,
   "metadata": {},
   "outputs": [],
   "source": [
    "coef, residuals, rank, blah = np.linalg.lstsq(xs, ys)"
   ]
  },
  {
   "cell_type": "code",
   "execution_count": 41,
   "metadata": {},
   "outputs": [
    {
     "data": {
      "text/plain": [
       "(0.0, 10)"
      ]
     },
     "execution_count": 41,
     "metadata": {},
     "output_type": "execute_result"
    },
    {
     "data": {
      "image/png": "[encoded data removed]",
      "text/plain": [
       "<Figure size 432x288 with 1 Axes>"
      ]
     },
     "metadata": {
      "needs_background": "light"
     },
     "output_type": "display_data"
    }
   ],
   "source": [
    "plt.scatter(xs, ys)\n",
    "plt.plot(xs, coef * xs)\n",
    "plt.xlim([0, 0.003])\n",
    "plt.ylim([0., 10])"
   ]
  },
  {
   "cell_type": "code",
   "execution_count": 35,
   "metadata": {},
   "outputs": [
    {
     "name": "stdout",
     "output_type": "stream",
     "text": [
      "Help on function lstsq in module numpy.linalg:\n",
      "\n",
      "lstsq(a, b, rcond='warn')\n",
      "    Return the least-squares solution to a linear matrix equation.\n",
      "    \n",
      "    Solves the equation `a x = b` by computing a vector `x` that\n",
      "    minimizes the Euclidean 2-norm `|| b - a x ||^2`.  The equation may\n",
      "    be under-, well-, or over- determined (i.e., the number of\n",
      "    linearly independent rows of `a` can be less than, equal to, or\n",
      "    greater than its number of linearly independent columns).  If `a`\n",
      "    is square and of full rank, then `x` (but for round-off error) is\n",
      "    the \"exact\" solution of the equation.\n",
      "    \n",
      "    Parameters\n",
      "    ----------\n",
      "    a : (M, N) array_like\n",
      "        \"Coefficient\" matrix.\n",
      "    b : {(M,), (M, K)} array_like\n",
      "        Ordinate or \"dependent variable\" values. If `b` is two-dimensional,\n",
      "        the least-squares solution is calculated for each of the `K` columns\n",
      "        of `b`.\n",
      "    rcond : float, optional\n",
      "        Cut-off ratio for small singular values of `a`.\n",
      "        For the purposes of rank determination, singular values are treated\n",
      "        as zero if they are smaller than `rcond` times the largest singular\n",
      "        value of `a`.\n",
      "    \n",
      "        .. versionchanged:: 1.14.0\n",
      "           If not set, a FutureWarning is given. The previous default\n",
      "           of ``-1`` will use the machine precision as `rcond` parameter,\n",
      "           the new default will use the machine precision times `max(M, N)`.\n",
      "           To silence the warning and use the new default, use ``rcond=None``,\n",
      "           to keep using the old behavior, use ``rcond=-1``.\n",
      "    \n",
      "    Returns\n",
      "    -------\n",
      "    x : {(N,), (N, K)} ndarray\n",
      "        Least-squares solution. If `b` is two-dimensional,\n",
      "        the solutions are in the `K` columns of `x`.\n",
      "    residuals : {(1,), (K,), (0,)} ndarray\n",
      "        Sums of residuals; squared Euclidean 2-norm for each column in\n",
      "        ``b - a*x``.\n",
      "        If the rank of `a` is < N or M <= N, this is an empty array.\n",
      "        If `b` is 1-dimensional, this is a (1,) shape array.\n",
      "        Otherwise the shape is (K,).\n",
      "    rank : int\n",
      "        Rank of matrix `a`.\n",
      "    s : (min(M, N),) ndarray\n",
      "        Singular values of `a`.\n",
      "    \n",
      "    Raises\n",
      "    ------\n",
      "    LinAlgError\n",
      "        If computation does not converge.\n",
      "    \n",
      "    Notes\n",
      "    -----\n",
      "    If `b` is a matrix, then all array results are returned as matrices.\n",
      "    \n",
      "    Examples\n",
      "    --------\n",
      "    Fit a line, ``y = mx + c``, through some noisy data-points:\n",
      "    \n",
      "    >>> x = np.array([0, 1, 2, 3])\n",
      "    >>> y = np.array([-1, 0.2, 0.9, 2.1])\n",
      "    \n",
      "    By examining the coefficients, we see that the line should have a\n",
      "    gradient of roughly 1 and cut the y-axis at, more or less, -1.\n",
      "    \n",
      "    We can rewrite the line equation as ``y = Ap``, where ``A = [[x 1]]``\n",
      "    and ``p = [[m], [c]]``.  Now use `lstsq` to solve for `p`:\n",
      "    \n",
      "    >>> A = np.vstack([x, np.ones(len(x))]).T\n",
      "    >>> A\n",
      "    array([[ 0.,  1.],\n",
      "           [ 1.,  1.],\n",
      "           [ 2.,  1.],\n",
      "           [ 3.,  1.]])\n",
      "    \n",
      "    >>> m, c = np.linalg.lstsq(A, y, rcond=None)[0]\n",
      "    >>> print(m, c)\n",
      "    1.0 -0.95\n",
      "    \n",
      "    Plot the data along with the fitted line:\n",
      "    \n",
      "    >>> import matplotlib.pyplot as plt\n",
      "    >>> plt.plot(x, y, 'o', label='Original data', markersize=10)\n",
      "    >>> plt.plot(x, m*x + c, 'r', label='Fitted line')\n",
      "    >>> plt.legend()\n",
      "    >>> plt.show()\n",
      "\n"
     ]
    }
   ],
   "source": [
    "help(np.linalg.lstsq)"
   ]
  },
  {
   "cell_type": "code",
   "execution_count": null,
   "metadata": {},
   "outputs": [],
   "source": []
  }
 ],
 "metadata": {
  "kernelspec": {
   "display_name": "Python 3",
   "language": "python",
   "name": "python3"
  },
  "language_info": {
   "codemirror_mode": {
    "name": "ipython",
    "version": 3
   },
   "file_extension": ".py",
   "mimetype": "text/x-python",
   "name": "python",
   "nbconvert_exporter": "python",
   "pygments_lexer": "ipython3",
   "version": "3.5.3"
  }
 },
 "nbformat": 4,
 "nbformat_minor": 2
}
