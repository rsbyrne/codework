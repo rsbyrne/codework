{
 "cells": [
  {
   "cell_type": "code",
   "execution_count": 1,
   "metadata": {},
   "outputs": [],
   "source": [
    "import sys\n",
    "import os\n",
    "workPath = os.path.abspath('..')\n",
    "if not workPath in sys.path:\n",
    "    sys.path.append(workPath)"
   ]
  },
  {
   "cell_type": "code",
   "execution_count": 2,
   "metadata": {},
   "outputs": [],
   "source": [
    "import planetengine\n",
    "import everest\n",
    "Fetch = everest.window.Fetch\n",
    "Reader = everest.window.Reader\n",
    "Scope = everest.window.Scope"
   ]
  },
  {
   "cell_type": "code",
   "execution_count": 3,
   "metadata": {},
   "outputs": [],
   "source": [
    "outputPath = '../out'\n",
    "frameName = 'dev'"
   ]
  },
  {
   "cell_type": "code",
   "execution_count": 4,
   "metadata": {},
   "outputs": [],
   "source": [
    "# import os\n",
    "# os.remove(os.path.join(outputPath, frameName) + '.frm')\n",
    "# for f in [i / 10. for i in range(7, 10)]:\n",
    "#     for Ra in [1e4, 3e4, 1e5]:\n",
    "#         system = planetengine.systems.isovisc.build(res = 16, Ra = Ra, f = f)\n",
    "#         observer = planetengine.observers.standard.build(system)\n",
    "#         system.anchor(frameName, outputPath)\n",
    "#         observer.coanchor(system)\n",
    "#         for i in range(3):\n",
    "#             for i in range(3):\n",
    "#                 system.iterate(3)\n",
    "#                 system.store()\n",
    "#                 observer.store()\n",
    "#             system.save()\n",
    "#             observer.save()"
   ]
  },
  {
   "cell_type": "code",
   "execution_count": 5,
   "metadata": {},
   "outputs": [],
   "source": [
    "myreader = Reader(everest.frame.get_framepath(frameName, outputPath))"
   ]
  },
  {
   "cell_type": "code",
   "execution_count": 6,
   "metadata": {},
   "outputs": [
    {
     "data": {
      "text/plain": [
       "Scope({('ustukruifro-iskitweekwe', '...'), ('ushuigaifru-itrioquja', '...'), ('ugreefoago-eshiiskuaspe', '...'), ('twiuprueplu-theereidwo', '...'), ('ogeeliesta-aphuifeoswe', '...'), ('blaisfiibra-isfaadreva', '...'), ('ephuazeize-akaiglaaflo', '...'), ('ajiihoowo-ocebliovu', '...'), ('eploiyeize-idreikwaespa', '...'), ('swiaphoedro-umuinupru', '...'), ('ushuupreuji-isugreaca', '...'), ('iduufianu-eglouglaesku', '...'), ('iskiageufe-ojujoofli', '...'), ('exuwoode-acaoklaetwi', '...'), ('xabaasno-hiideekru', '...'), ('agluupriba-eyuibloisto', '...'), ('ecuisluubi-egloadiuqe', '...'), ('ekizaeke-ikwiogroaphi', '...'), ('eshaiyooca-apleoputu', '...')})"
      ]
     },
     "execution_count": 6,
     "metadata": {},
     "output_type": "execute_result"
    }
   ],
   "source": [
    "myreader[...]"
   ]
  },
  {
   "cell_type": "code",
   "execution_count": 8,
   "metadata": {},
   "outputs": [
    {
     "data": {
      "text/plain": [
       "Scope({('ugreefoago-eshiiskuaspe', '...'), ('iskiageufe-ojujoofli', '...'), ('twiuprueplu-theereidwo', '...'), ('ajiihoowo-ocebliovu', '...'), ('xabaasno-hiideekru', '...'), ('eploiyeize-idreikwaespa', '...'), ('swiaphoedro-umuinupru', '...'), ('ekizaeke-ikwiogroaphi', '...'), ('eshaiyooca-apleoputu', '...')})"
      ]
     },
     "execution_count": 8,
     "metadata": {},
     "output_type": "execute_result"
    }
   ],
   "source": [
    "myreader[Fetch('system'Fetch('Ra')]"
   ]
  },
  {
   "cell_type": "code",
   "execution_count": 7,
   "metadata": {
    "scrolled": true
   },
   "outputs": [],
   "source": [
    "# myreader[((Fetch('Ra') * Fetch('f') ** 2 > 3e4) & (Fetch('modeltime') > 0.01)): ('temperatureField', 'temperatureDotField')]"
   ]
  }
 ],
 "metadata": {
  "kernelspec": {
   "display_name": "Python 3",
   "language": "python",
   "name": "python3"
  },
  "language_info": {
   "codemirror_mode": {
    "name": "ipython",
    "version": 3
   },
   "file_extension": ".py",
   "mimetype": "text/x-python",
   "name": "python",
   "nbconvert_exporter": "python",
   "pygments_lexer": "ipython3",
   "version": "3.5.3"
  }
 },
 "nbformat": 4,
 "nbformat_minor": 2
}
