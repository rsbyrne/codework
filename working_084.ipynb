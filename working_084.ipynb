{
 "cells": [
  {
   "cell_type": "code",
   "execution_count": 1,
   "metadata": {},
   "outputs": [],
   "source": [
    "import sys\n",
    "import os\n",
    "workPath = os.path.abspath('..')\n",
    "if not workPath in sys.path:\n",
    "    sys.path.append(workPath)"
   ]
  },
  {
   "cell_type": "code",
   "execution_count": 2,
   "metadata": {},
   "outputs": [],
   "source": [
    "import planetengine\n",
    "import everest\n",
    "Fetch = everest.window.Fetch\n",
    "Reader = everest.window.Reader\n",
    "Scope = everest.window.Scope"
   ]
  },
  {
   "cell_type": "code",
   "execution_count": 3,
   "metadata": {},
   "outputs": [],
   "source": [
    "outputPath = '../out'\n",
    "frameName = 'dev'"
   ]
  },
  {
   "cell_type": "code",
   "execution_count": 4,
   "metadata": {},
   "outputs": [],
   "source": [
    "myreader = Reader(everest.frame.get_framepath(frameName, outputPath))"
   ]
  },
  {
   "cell_type": "code",
   "execution_count": 6,
   "metadata": {},
   "outputs": [],
   "source": [
    "myfetch = Fetch('/*/inputs/system') == (Fetch('/*/inputs/Ra') > 1e3)"
   ]
  },
  {
   "cell_type": "code",
   "execution_count": 8,
   "metadata": {},
   "outputs": [
    {
     "data": {
      "text/plain": [
       "Scope(\n",
       "('eploiyeize-idreikwaespa', '...')\n",
       "('ajiihoowo-ocebliovu', '...')\n",
       "('twiuprueplu-theereidwo', '...')\n",
       "('iskiageufe-ojujoofli', '...')\n",
       "('eshaiyooca-apleoputu', '...')\n",
       "('ekizaeke-ikwiogroaphi', '...')\n",
       "('xabaasno-hiideekru', '...')\n",
       "('swiaphoedro-umuinupru', '...')\n",
       "('ugreefoago-eshiiskuaspe', '...')\n",
       ")"
      ]
     },
     "execution_count": 8,
     "metadata": {},
     "output_type": "execute_result"
    }
   ],
   "source": [
    "myreader[(Fetch('/*/inputs/Ra') > 1e3)]"
   ]
  },
  {
   "cell_type": "code",
   "execution_count": 15,
   "metadata": {},
   "outputs": [],
   "source": [
    "fetch1 = Fetch('/*/inputs/Ra')"
   ]
  },
  {
   "cell_type": "code",
   "execution_count": 16,
   "metadata": {},
   "outputs": [
    {
     "data": {
      "text/plain": [
       "Scope(\n",
       "('ajiihoowo-ocebliovu', '...')\n",
       "('eploiyeize-idreikwaespa', '...')\n",
       "('twiuprueplu-theereidwo', '...')\n",
       "('iskiageufe-ojujoofli', '...')\n",
       "('eshaiyooca-apleoputu', '...')\n",
       "('ekizaeke-ikwiogroaphi', '...')\n",
       "('xabaasno-hiideekru', '...')\n",
       "('swiaphoedro-umuinupru', '...')\n",
       "('ugreefoago-eshiiskuaspe', '...')\n",
       ")"
      ]
     },
     "execution_count": 16,
     "metadata": {},
     "output_type": "execute_result"
    }
   ],
   "source": [
    "myreader[fetch1]"
   ]
  },
  {
   "cell_type": "code",
   "execution_count": null,
   "metadata": {},
   "outputs": [],
   "source": [
    "fetch1.rekey('/*/inputs/system')"
   ]
  },
  {
   "cell_type": "code",
   "execution_count": 13,
   "metadata": {},
   "outputs": [
    {
     "data": {
      "text/plain": [
       "Scope(\n",
       "('ajiihoowo-ocebliovu', '...')\n",
       "('twiuprueplu-theereidwo', '...')\n",
       "('eploiyeize-idreikwaespa', '...')\n",
       "('iskiageufe-ojujoofli', '...')\n",
       "('eshaiyooca-apleoputu', '...')\n",
       "('ekizaeke-ikwiogroaphi', '...')\n",
       "('xabaasno-hiideekru', '...')\n",
       "('swiaphoedro-umuinupru', '...')\n",
       "('ugreefoago-eshiiskuaspe', '...')\n",
       ")"
      ]
     },
     "execution_count": 13,
     "metadata": {},
     "output_type": "execute_result"
    }
   ],
   "source": [
    "myreader[Fetch('Ra')]"
   ]
  },
  {
   "cell_type": "code",
   "execution_count": null,
   "metadata": {},
   "outputs": [],
   "source": [
    "def rekey(self, mapAttr, context):\n",
    "    newlist = []\n",
    "    for hashID, counts in list(self):\n",
    "        newID = list(context(Fetch(mapAttr) == hashID))[0][0]\n",
    "        newlist.append((newID, counts))\n",
    "    return Scope(newlist, ('rekey_' + mapAttr, [self,]))"
   ]
  }
 ],
 "metadata": {
  "kernelspec": {
   "display_name": "Python 3",
   "language": "python",
   "name": "python3"
  },
  "language_info": {
   "codemirror_mode": {
    "name": "ipython",
    "version": 3
   },
   "file_extension": ".py",
   "mimetype": "text/x-python",
   "name": "python",
   "nbconvert_exporter": "python",
   "pygments_lexer": "ipython3",
   "version": "3.5.3"
  }
 },
 "nbformat": 4,
 "nbformat_minor": 2
}
