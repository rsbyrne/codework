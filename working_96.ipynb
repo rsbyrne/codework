{
 "cells": [
  {
   "cell_type": "code",
   "execution_count": 1,
   "metadata": {},
   "outputs": [],
   "source": [
    "import sys\n",
    "import os\n",
    "workPath = os.path.abspath('..')\n",
    "if not workPath in sys.path:\n",
    "    sys.path.append(workPath)"
   ]
  },
  {
   "cell_type": "code",
   "execution_count": 2,
   "metadata": {},
   "outputs": [],
   "source": [
    "name = 'test'\n",
    "outputPath = '..'\n",
    "from everest import mpi\n",
    "import os\n",
    "fullpath = os.path.join(os.path.abspath(outputPath), name) + '.frm'\n",
    "if mpi.rank == 0:\n",
    "    if os.path.exists(fullpath):\n",
    "        os.remove(fullpath)\n",
    "from everest.builts import set_global_anchor\n",
    "set_global_anchor(name, outputPath)"
   ]
  },
  {
   "cell_type": "code",
   "execution_count": 3,
   "metadata": {},
   "outputs": [],
   "source": [
    "from planetengine.systems.isovisc import Isovisc\n",
    "from planetengine.campaign import Campaign"
   ]
  },
  {
   "cell_type": "code",
   "execution_count": 4,
   "metadata": {},
   "outputs": [],
   "source": [
    "mycampaign = Campaign(Isovisc, 2, Ra = [1e4, 1e5], f = [0.5, 0.7])"
   ]
  },
  {
   "cell_type": "code",
   "execution_count": 5,
   "metadata": {},
   "outputs": [
    {
     "name": "stdout",
     "output_type": "stream",
     "text": [
      "Checking out ticket: <xauswabro-beeghsniips;1581143540.920559>\n",
      "Completed ticket: <xauswabro-beeghsniips;1581143540.920559>\n",
      "Checking out ticket: <zheoblniakl-nuobliepee;1581143547.9924138>\n",
      "Completed ticket: <zheoblniakl-nuobliepee;1581143547.9924138>\n",
      "Checking out ticket: <oublautzuuth-bouzhseatr;1581143555.1482463>\n",
      "Completed ticket: <oublautzuuth-bouzhseatr;1581143555.1482463>\n",
      "Checking out ticket: <smiiblkruotz-photwrueb;1581143562.4090445>\n",
      "Completed ticket: <smiiblkruotz-photwrueb;1581143562.4090445>\n"
     ]
    }
   ],
   "source": [
    "mycampaign()"
   ]
  },
  {
   "cell_type": "code",
   "execution_count": 11,
   "metadata": {
    "scrolled": false
   },
   "outputs": [
    {
     "data": {
      "text/plain": [
       "array([[ 1.        ],\n",
       "       [ 0.97456147],\n",
       "       [ 0.94914657],\n",
       "       ..., \n",
       "       [ 0.05085343],\n",
       "       [ 0.02543853],\n",
       "       [ 0.        ]])"
      ]
     },
     "execution_count": 11,
     "metadata": {},
     "output_type": "execute_result"
    }
   ],
   "source": [
    "mycampaign.reader['briucthuib-praadreuflii', 'outputs', 'temperatureField'][0]"
   ]
  },
  {
   "cell_type": "code",
   "execution_count": 13,
   "metadata": {},
   "outputs": [],
   "source": [
    "from everest.fetch import Fetch"
   ]
  }
 ],
 "metadata": {
  "kernelspec": {
   "display_name": "Python 3",
   "language": "python",
   "name": "python3"
  },
  "language_info": {
   "codemirror_mode": {
    "name": "ipython",
    "version": 3
   },
   "file_extension": ".py",
   "mimetype": "text/x-python",
   "name": "python",
   "nbconvert_exporter": "python",
   "pygments_lexer": "ipython3",
   "version": "3.5.3"
  }
 },
 "nbformat": 4,
 "nbformat_minor": 2
}
