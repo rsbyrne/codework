{
 "cells": [
  {
   "cell_type": "code",
   "execution_count": 1,
   "metadata": {},
   "outputs": [],
   "source": [
    "import sys\n",
    "sys.path.append('/home/jovyan/workspace')"
   ]
  },
  {
   "cell_type": "code",
   "execution_count": 2,
   "metadata": {},
   "outputs": [],
   "source": [
    "%%sh\n",
    "rm -rf '../data/test'\n",
    "mkdir '../data/test'\n",
    "chmod -R 777 '../data/test'"
   ]
  },
  {
   "cell_type": "code",
   "execution_count": 3,
   "metadata": {},
   "outputs": [],
   "source": [
    "import planetengine\n",
    "from planetengine.frame import _Frame\n",
    "from planetengine.checkpoint import Checkpointer\n",
    "import os\n",
    "\n",
    "class CustomFrame(_Frame):\n",
    "    def __init__(self):\n",
    "\n",
    "        system = planetengine.systems.arrhenius.build(res = 16)\n",
    "        initials = {'temperatureField': planetengine.initials.sinusoidal.IC(freq = 1.)}\n",
    "        planetengine.initials.apply(\n",
    "            initials,\n",
    "            system,\n",
    "            )\n",
    "        system.solve()\n",
    "\n",
    "        self.system = system\n",
    "#         self.initials = initials\n",
    "        self.outputPath = '/home/jovyan/workspace/data/test'\n",
    "        self.instanceID = 'testFrame'\n",
    "        self.stamps = {'a': 1}\n",
    "        self.step = 0\n",
    "        self.onDisk = False\n",
    "        self._is_child = False\n",
    "        self.inFrames = []\n",
    "        self._autoarchive = True\n",
    "        checkpointer = Checkpointer(\n",
    "            stamps = self.stamps,\n",
    "            step = system.step,\n",
    "            modeltime = system.modeltime,\n",
    "            )\n",
    "        mypath = os.path.join(self.outputPath, self.instanceID)\n",
    "        def checkpoint(path = None):\n",
    "            if path is None:\n",
    "                path = mypath\n",
    "            checkpointer.checkpoint(path)\n",
    "            self.onDisk = True\n",
    "        self.checkpoint = checkpoint\n",
    "        def load_checkpoint(step):\n",
    "            pass\n",
    "        self.load_checkpoint = load_checkpoint\n",
    "\n",
    "        super().__init__()"
   ]
  },
  {
   "cell_type": "code",
   "execution_count": 4,
   "metadata": {},
   "outputs": [
    {
     "ename": "Exception",
     "evalue": "Self requires attribute: 'initials'",
     "output_type": "error",
     "traceback": [
      "\u001b[0;31m---------------------------------------------------------------------------\u001b[0m",
      "\u001b[0;31mException\u001b[0m                                 Traceback (most recent call last)",
      "\u001b[0;32m<ipython-input-4-50c3a3fa707f>\u001b[0m in \u001b[0;36m<module>\u001b[0;34m\u001b[0m\n\u001b[0;32m----> 1\u001b[0;31m \u001b[0mmyinst\u001b[0m \u001b[0;34m=\u001b[0m \u001b[0mCustomFrame\u001b[0m\u001b[0;34m(\u001b[0m\u001b[0;34m)\u001b[0m\u001b[0;34m\u001b[0m\u001b[0m\n\u001b[0m",
      "\u001b[0;32m<ipython-input-3-368fb5cb9c7b>\u001b[0m in \u001b[0;36m__init__\u001b[0;34m(self)\u001b[0m\n\u001b[1;32m     41\u001b[0m         \u001b[0mself\u001b[0m\u001b[0;34m.\u001b[0m\u001b[0mload_checkpoint\u001b[0m \u001b[0;34m=\u001b[0m \u001b[0mload_checkpoint\u001b[0m\u001b[0;34m\u001b[0m\u001b[0m\n\u001b[1;32m     42\u001b[0m \u001b[0;34m\u001b[0m\u001b[0m\n\u001b[0;32m---> 43\u001b[0;31m         \u001b[0msuper\u001b[0m\u001b[0;34m(\u001b[0m\u001b[0;34m)\u001b[0m\u001b[0;34m.\u001b[0m\u001b[0m__init__\u001b[0m\u001b[0;34m(\u001b[0m\u001b[0;34m)\u001b[0m\u001b[0;34m\u001b[0m\u001b[0m\n\u001b[0m",
      "\u001b[0;32m~/workspace/planetengine/frame.py\u001b[0m in \u001b[0;36m__init__\u001b[0;34m(self)\u001b[0m\n\u001b[1;32m    292\u001b[0m             \u001b[0;32mif\u001b[0m \u001b[0;32mnot\u001b[0m \u001b[0mhasattr\u001b[0m\u001b[0;34m(\u001b[0m\u001b[0mself\u001b[0m\u001b[0;34m,\u001b[0m \u001b[0mattrname\u001b[0m\u001b[0;34m)\u001b[0m\u001b[0;34m:\u001b[0m\u001b[0;34m\u001b[0m\u001b[0m\n\u001b[1;32m    293\u001b[0m                 raise Exception(\n\u001b[0;32m--> 294\u001b[0;31m                     \u001b[0;34m\"Self requires attribute: '\"\u001b[0m \u001b[0;34m+\u001b[0m \u001b[0mattrname\u001b[0m \u001b[0;34m+\u001b[0m \u001b[0;34m\"'\"\u001b[0m\u001b[0;34m\u001b[0m\u001b[0m\n\u001b[0m\u001b[1;32m    295\u001b[0m                     )\n\u001b[1;32m    296\u001b[0m \u001b[0;34m\u001b[0m\u001b[0m\n",
      "\u001b[0;31mException\u001b[0m: Self requires attribute: 'initials'"
     ]
    }
   ],
   "source": [
    "myinst = CustomFrame()"
   ]
  },
  {
   "cell_type": "code",
   "execution_count": null,
   "metadata": {},
   "outputs": [],
   "source": [
    "myinst.checkpoint()"
   ]
  },
  {
   "cell_type": "code",
   "execution_count": null,
   "metadata": {},
   "outputs": [],
   "source": [
    "myinst.archive()"
   ]
  },
  {
   "cell_type": "code",
   "execution_count": null,
   "metadata": {},
   "outputs": [],
   "source": []
  }
 ],
 "metadata": {
  "kernelspec": {
   "display_name": "Python 3",
   "language": "python",
   "name": "python3"
  },
  "language_info": {
   "codemirror_mode": {
    "name": "ipython",
    "version": 3
   },
   "file_extension": ".py",
   "mimetype": "text/x-python",
   "name": "python",
   "nbconvert_exporter": "python",
   "pygments_lexer": "ipython3",
   "version": "3.5.3"
  }
 },
 "nbformat": 4,
 "nbformat_minor": 2
}
