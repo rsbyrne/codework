{
 "cells": [
  {
   "cell_type": "code",
   "execution_count": 1,
   "metadata": {},
   "outputs": [],
   "source": [
    "import sys\n",
    "workPath = '/home/jovyan/workspace'\n",
    "if not workPath in sys.path:\n",
    "    sys.path.append(workPath)"
   ]
  },
  {
   "cell_type": "code",
   "execution_count": 2,
   "metadata": {},
   "outputs": [],
   "source": [
    "import planetengine\n",
    "outputPath = planetengine.paths.make_testdir()"
   ]
  },
  {
   "cell_type": "code",
   "execution_count": 3,
   "metadata": {},
   "outputs": [
    {
     "name": "stdout",
     "output_type": "stream",
     "text": [
      "Fitted 1 variables to the figure.\n"
     ]
    }
   ],
   "source": [
    "system = planetengine.tests.testsystems.get_system()"
   ]
  },
  {
   "cell_type": "code",
   "execution_count": 4,
   "metadata": {},
   "outputs": [],
   "source": [
    "from planetengine import functions as pfn"
   ]
  },
  {
   "cell_type": "code",
   "execution_count": 5,
   "metadata": {},
   "outputs": [],
   "source": [
    "myfn = pfn.Gradient.mag(system.temperatureField)"
   ]
  },
  {
   "cell_type": "code",
   "execution_count": 25,
   "metadata": {},
   "outputs": [],
   "source": [
    "vector_component_funcs = [\n",
    "    pfn.Component.ang,\n",
    "    pfn.Component.rad\n",
    "    ]\n",
    "\n",
    "scalar_gradient_funcs = [\n",
    "    pfn.Gradient.mag,\n",
    "    pfn.Gradient.ang,\n",
    "    pfn.Gradient.rad\n",
    "    ]\n",
    "\n",
    "scalar_surface_funcs = [\n",
    "    pfn.Surface.outer,\n",
    "    pfn.Surface.inner,\n",
    "    ]\n",
    "\n",
    "# scalar_quantile_funcs = [\n",
    "#     lambda quantVar, inVar: pfn.Select(\n",
    "#             quantVar,\n",
    "#             float(x),\n",
    "#             inVar\n",
    "#             ) \\\n",
    "#         for x in range(1, 4)\n",
    "#     ]\n",
    "\n",
    "scalar_reduction_funcs = [\n",
    "    pfn.Integral.auto,\n",
    "    pfn.GetStat.mins,\n",
    "    pfn.GetStat.maxs\n",
    "    ]\n",
    "\n",
    "def var_expander(varList, funcList):\n",
    "    outList = [func(var) for func in funcList for var in varList]\n",
    "    for item in outList:\n",
    "        print(item.opTag)\n",
    "    return outList\n",
    "\n",
    "def make_obsVars_var(inVar):\n",
    "\n",
    "    obsVars = []\n",
    "    inVar = pfn.convert(inVar)\n",
    "\n",
    "    if inVar.varDim == 1:\n",
    "        compVars = []\n",
    "        baseVar = inVar\n",
    "    elif inVar.varDim == 2:\n",
    "        component_funcs = vector_component_funcs\n",
    "        compVars = [func(inVar) for func in component_funcs]\n",
    "        baseVar = pfn.Component.mag(inVar)\n",
    "    else:\n",
    "        raise Exception\n",
    "\n",
    "    gradient_funcs = scalar_gradient_funcs\n",
    "    gradVars = [\n",
    "        func(var) \\\n",
    "            for func in gradient_funcs \\\n",
    "                for var in [baseVar, *compVars]\n",
    "        ]\n",
    "\n",
    "    varList = [baseVar, *gradVars]\n",
    "    surfVars = []\n",
    "    for var in varList:\n",
    "        for index, func in enumerate(scalar_surface_funcs):\n",
    "            if var.bounds[0][index] == '.':\n",
    "                surfVars.append(func(var))\n",
    "#     surfVars = gradVars\n",
    "\n",
    "#     quantVars = [\n",
    "#         (pfn.Quantiles.terciles(var), var) \\\n",
    "#             for var in [baseVar, *surfVars]\n",
    "#         ]\n",
    "#     selectVars = []\n",
    "#     for x in range(1, 4):\n",
    "#         selectVars.extend([\n",
    "#             pfn.Select(\n",
    "#                     inTup[0],\n",
    "#                     float(x),\n",
    "#                     inTup[1]\n",
    "#                     ) \\\n",
    "#                 for inTup in quantVars\n",
    "#             ])\n",
    "#     selectVars = surfVars\n",
    "\n",
    "#     terminalVars = [baseVar, *selectVars]\n",
    "#     redVars = []\n",
    "#     for terminalVar in terminalVars:\n",
    "#         redVars.append(pfn.Integral.auto(terminalVar))\n",
    "#         if all([scale == ['.', '.'] for scale in terminalVar.scales]):\n",
    "#             redVars.append(pfn.GetStat.mins(terminalVar))\n",
    "#             redVars.append(pfn.GetStat.maxs(terminalVar))\n",
    "\n",
    "#     obsVars = redVars\n",
    "    obsVars = surfVars\n",
    "\n",
    "    return obsVars\n",
    "\n",
    "def make_obsVars_dict(varDict, return_dict = False):\n",
    "    varDict = pfn.convert(varDict)\n",
    "    obsVars = []\n",
    "    for varName, inVar in sorted(varDict.items()):\n",
    "        obsVars.extend(\n",
    "            make_obsVars_var(inVar)\n",
    "            )\n",
    "    if return_dict:\n",
    "        return make_dict_obsVars(obsVars)\n",
    "    else:\n",
    "        return obsVars\n",
    "\n",
    "def make_dict_obsVars(obsVars):\n",
    "    varDict = {}\n",
    "    for var in obsVars:\n",
    "        varDict[var.varName] = var\n",
    "    return varDict"
   ]
  },
  {
   "cell_type": "code",
   "execution_count": 26,
   "metadata": {},
   "outputs": [],
   "source": [
    "myvars = make_obsVars_var(system.temperatureField)"
   ]
  },
  {
   "cell_type": "code",
   "execution_count": 27,
   "metadata": {},
   "outputs": [
    {
     "data": {
      "text/plain": [
       "[<planetengine.functions.Surface at 0x7fa3753dd828>,\n",
       " <planetengine.functions.Surface at 0x7fa3753ddcc0>,\n",
       " <planetengine.functions.Surface at 0x7fa3753ca048>,\n",
       " <planetengine.functions.Surface at 0x7fa3753ca4e0>,\n",
       " <planetengine.functions.Surface at 0x7fa3753ca8d0>,\n",
       " <planetengine.functions.Surface at 0x7fa3753cac18>]"
      ]
     },
     "execution_count": 27,
     "metadata": {},
     "output_type": "execute_result"
    }
   ],
   "source": [
    "myvars"
   ]
  },
  {
   "cell_type": "code",
   "execution_count": 32,
   "metadata": {},
   "outputs": [
    {
     "data": {
      "text/plain": [
       "{'surface': 'outer'}"
      ]
     },
     "execution_count": 32,
     "metadata": {},
     "output_type": "execute_result"
    }
   ],
   "source": [
    "myvars[0].stringVariants"
   ]
  },
  {
   "cell_type": "code",
   "execution_count": 37,
   "metadata": {},
   "outputs": [
    {
     "data": {
      "text/plain": [
       "array([[ 0.]])"
      ]
     },
     "execution_count": 37,
     "metadata": {},
     "output_type": "execute_result"
    }
   ],
   "source": [
    "pfn.Integral.volume(myvars[0]).evaluate()"
   ]
  },
  {
   "cell_type": "code",
   "execution_count": null,
   "metadata": {},
   "outputs": [],
   "source": []
  },
  {
   "cell_type": "code",
   "execution_count": 29,
   "metadata": {
    "scrolled": false
   },
   "outputs": [
    {
     "name": "stdout",
     "output_type": "stream",
     "text": [
      "Fitted 1 variables to the figure.\n",
      "HandleNaN{Surface_surface=outer{Component_component=mag{Gradient{Variable_varName=anon{}}}};Constant_val=arr{[ 0.]}{}}\n"
     ]
    },
    {
     "data": {
      "text/html": [
       "<img src='data:image/png;base64,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'>"
      ],
      "text/plain": [
       "<IPython.core.display.HTML object>"
      ]
     },
     "metadata": {},
     "output_type": "display_data"
    },
    {
     "name": "stdout",
     "output_type": "stream",
     "text": [
      "Fitted 1 variables to the figure.\n",
      "HandleNaN{Surface_surface=inner{Component_component=mag{Gradient{Variable_varName=anon{}}}};Constant_val=arr{[ 0.]}{}}\n"
     ]
    },
    {
     "data": {
      "text/html": [
       "<img src='data:image/png;base64,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'>"
      ],
      "text/plain": [
       "<IPython.core.display.HTML object>"
      ]
     },
     "metadata": {},
     "output_type": "display_data"
    },
    {
     "name": "stdout",
     "output_type": "stream",
     "text": [
      "Fitted 1 variables to the figure.\n",
      "HandleNaN{Surface_surface=outer{Component_component=ang{Gradient{Variable_varName=anon{}}}};Constant_val=arr{[ 0.]}{}}\n"
     ]
    },
    {
     "data": {
      "text/html": [
       "<img src='data:image/png;base64,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'>"
      ],
      "text/plain": [
       "<IPython.core.display.HTML object>"
      ]
     },
     "metadata": {},
     "output_type": "display_data"
    },
    {
     "name": "stdout",
     "output_type": "stream",
     "text": [
      "Fitted 1 variables to the figure.\n",
      "HandleNaN{Surface_surface=inner{Component_component=ang{Gradient{Variable_varName=anon{}}}};Constant_val=arr{[ 0.]}{}}\n"
     ]
    },
    {
     "data": {
      "text/html": [
       "<img src='data:image/png;base64,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'>"
      ],
      "text/plain": [
       "<IPython.core.display.HTML object>"
      ]
     },
     "metadata": {},
     "output_type": "display_data"
    },
    {
     "name": "stdout",
     "output_type": "stream",
     "text": [
      "Fitted 1 variables to the figure.\n",
      "HandleNaN{Surface_surface=outer{Component_component=rad{Gradient{Variable_varName=anon{}}}};Constant_val=arr{[ 0.]}{}}\n"
     ]
    },
    {
     "data": {
      "text/html": [
       "<img src='data:image/png;base64,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'>"
      ],
      "text/plain": [
       "<IPython.core.display.HTML object>"
      ]
     },
     "metadata": {},
     "output_type": "display_data"
    },
    {
     "name": "stdout",
     "output_type": "stream",
     "text": [
      "Fitted 1 variables to the figure.\n",
      "HandleNaN{Surface_surface=inner{Component_component=rad{Gradient{Variable_varName=anon{}}}};Constant_val=arr{[ 0.]}{}}\n"
     ]
    },
    {
     "data": {
      "text/html": [
       "<img src='data:image/png;base64,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'>"
      ],
      "text/plain": [
       "<IPython.core.display.HTML object>"
      ]
     },
     "metadata": {},
     "output_type": "display_data"
    }
   ],
   "source": [
    "for var in myvars:\n",
    "    planetengine.quickShow(pfn.HandleNaN.zero(var))"
   ]
  },
  {
   "cell_type": "code",
   "execution_count": null,
   "metadata": {},
   "outputs": [],
   "source": []
  },
  {
   "cell_type": "code",
   "execution_count": 24,
   "metadata": {},
   "outputs": [
    {
     "name": "stdout",
     "output_type": "stream",
     "text": [
      "Integral_surface=volume{HandleNaN{Variable_varName=anon{};Constant_val=arr{[ 0.]}{}}}\n",
      "0.450216450216\n",
      "Integral_surface=volume{HandleNaN{Component_component=mag{Gradient{Variable_varName=anon{}}};Constant_val=arr{[ 0.]}{}}}\n",
      "1.04860496461\n",
      "Integral_surface=volume{HandleNaN{Component_component=ang{Gradient{Variable_varName=anon{}}};Constant_val=arr{[ 0.]}{}}}\n",
      "-0.25459914044\n",
      "Integral_surface=volume{HandleNaN{Component_component=rad{Gradient{Variable_varName=anon{}}};Constant_val=arr{[ 0.]}{}}}\n",
      "-1.00000464702\n"
     ]
    }
   ],
   "source": [
    "for var in myvars:\n",
    "    print(var.varName)\n",
    "    print(var.evaluate()[0][0])"
   ]
  },
  {
   "cell_type": "code",
   "execution_count": 15,
   "metadata": {},
   "outputs": [
    {
     "name": "stdout",
     "output_type": "stream",
     "text": [
      "Integral_surface=volume{HandleNaN{Variable_varName=anon{};Constant_val=arr{[ 0.]}{}}} \n",
      " 0.450216450216\n",
      "Integral_surface=volume{HandleNaN{Select{Quantiles_ntiles=3{Variable_varName=anon{}};Constant_val=arr{[ 1.]}{};Variable_varName=anon{}};Constant_val=arr{[ 0.]}{}}} \n",
      " 0.0629559664424\n",
      "Integral_surface=volume{HandleNaN{Select{Quantiles_ntiles=3{Surface_surface=outer{Component_component=mag{Gradient{Variable_varName=anon{}}}}};Constant_val=arr{[ 1.]}{};Surface_surface=outer{Component_component=mag{Gradient{Variable_varName=anon{}}}}};Constant_val=arr{[ 0.]}{}}} \n",
      " 0.0\n",
      "Integral_surface=volume{HandleNaN{Select{Quantiles_ntiles=3{Surface_surface=inner{Component_component=mag{Gradient{Variable_varName=anon{}}}}};Constant_val=arr{[ 1.]}{};Surface_surface=inner{Component_component=mag{Gradient{Variable_varName=anon{}}}}};Constant_val=arr{[ 0.]}{}}} \n",
      " 0.0\n",
      "Integral_surface=volume{HandleNaN{Select{Quantiles_ntiles=3{Surface_surface=outer{Component_component=ang{Gradient{Variable_varName=anon{}}}}};Constant_val=arr{[ 1.]}{};Surface_surface=outer{Component_component=ang{Gradient{Variable_varName=anon{}}}}};Constant_val=arr{[ 0.]}{}}} \n",
      " 0.0\n",
      "Integral_surface=volume{HandleNaN{Select{Quantiles_ntiles=3{Surface_surface=inner{Component_component=ang{Gradient{Variable_varName=anon{}}}}};Constant_val=arr{[ 1.]}{};Surface_surface=inner{Component_component=ang{Gradient{Variable_varName=anon{}}}}};Constant_val=arr{[ 0.]}{}}} \n",
      " 0.0\n",
      "Integral_surface=volume{HandleNaN{Select{Quantiles_ntiles=3{Surface_surface=outer{Component_component=rad{Gradient{Variable_varName=anon{}}}}};Constant_val=arr{[ 1.]}{};Surface_surface=outer{Component_component=rad{Gradient{Variable_varName=anon{}}}}};Constant_val=arr{[ 0.]}{}}} \n",
      " 0.0\n",
      "Integral_surface=volume{HandleNaN{Select{Quantiles_ntiles=3{Surface_surface=inner{Component_component=rad{Gradient{Variable_varName=anon{}}}}};Constant_val=arr{[ 1.]}{};Surface_surface=inner{Component_component=rad{Gradient{Variable_varName=anon{}}}}};Constant_val=arr{[ 0.]}{}}} \n",
      " 0.0\n",
      "Integral_surface=volume{HandleNaN{Select{Quantiles_ntiles=3{Variable_varName=anon{}};Constant_val=arr{[ 2.]}{};Variable_varName=anon{}};Constant_val=arr{[ 0.]}{}}} \n",
      " 0.144627791097\n",
      "Integral_surface=volume{HandleNaN{Select{Quantiles_ntiles=3{Surface_surface=outer{Component_component=mag{Gradient{Variable_varName=anon{}}}}};Constant_val=arr{[ 2.]}{};Surface_surface=outer{Component_component=mag{Gradient{Variable_varName=anon{}}}}};Constant_val=arr{[ 0.]}{}}} \n",
      " 0.0\n",
      "Integral_surface=volume{HandleNaN{Select{Quantiles_ntiles=3{Surface_surface=inner{Component_component=mag{Gradient{Variable_varName=anon{}}}}};Constant_val=arr{[ 2.]}{};Surface_surface=inner{Component_component=mag{Gradient{Variable_varName=anon{}}}}};Constant_val=arr{[ 0.]}{}}} \n",
      " 0.0\n",
      "Integral_surface=volume{HandleNaN{Select{Quantiles_ntiles=3{Surface_surface=outer{Component_component=ang{Gradient{Variable_varName=anon{}}}}};Constant_val=arr{[ 2.]}{};Surface_surface=outer{Component_component=ang{Gradient{Variable_varName=anon{}}}}};Constant_val=arr{[ 0.]}{}}} \n",
      " 0.0\n",
      "Integral_surface=volume{HandleNaN{Select{Quantiles_ntiles=3{Surface_surface=inner{Component_component=ang{Gradient{Variable_varName=anon{}}}}};Constant_val=arr{[ 2.]}{};Surface_surface=inner{Component_component=ang{Gradient{Variable_varName=anon{}}}}};Constant_val=arr{[ 0.]}{}}} \n",
      " 0.0\n",
      "Integral_surface=volume{HandleNaN{Select{Quantiles_ntiles=3{Surface_surface=outer{Component_component=rad{Gradient{Variable_varName=anon{}}}}};Constant_val=arr{[ 2.]}{};Surface_surface=outer{Component_component=rad{Gradient{Variable_varName=anon{}}}}};Constant_val=arr{[ 0.]}{}}} \n",
      " 0.0\n",
      "Integral_surface=volume{HandleNaN{Select{Quantiles_ntiles=3{Surface_surface=inner{Component_component=rad{Gradient{Variable_varName=anon{}}}}};Constant_val=arr{[ 2.]}{};Surface_surface=inner{Component_component=rad{Gradient{Variable_varName=anon{}}}}};Constant_val=arr{[ 0.]}{}}} \n",
      " 0.0\n",
      "Integral_surface=volume{HandleNaN{Select{Quantiles_ntiles=3{Variable_varName=anon{}};Constant_val=arr{[ 3.]}{};Variable_varName=anon{}};Constant_val=arr{[ 0.]}{}}} \n",
      " 0.242632692677\n",
      "Integral_surface=volume{HandleNaN{Select{Quantiles_ntiles=3{Surface_surface=outer{Component_component=mag{Gradient{Variable_varName=anon{}}}}};Constant_val=arr{[ 3.]}{};Surface_surface=outer{Component_component=mag{Gradient{Variable_varName=anon{}}}}};Constant_val=arr{[ 0.]}{}}} \n",
      " 0.0\n",
      "Integral_surface=volume{HandleNaN{Select{Quantiles_ntiles=3{Surface_surface=inner{Component_component=mag{Gradient{Variable_varName=anon{}}}}};Constant_val=arr{[ 3.]}{};Surface_surface=inner{Component_component=mag{Gradient{Variable_varName=anon{}}}}};Constant_val=arr{[ 0.]}{}}} \n",
      " 0.0\n",
      "Integral_surface=volume{HandleNaN{Select{Quantiles_ntiles=3{Surface_surface=outer{Component_component=ang{Gradient{Variable_varName=anon{}}}}};Constant_val=arr{[ 3.]}{};Surface_surface=outer{Component_component=ang{Gradient{Variable_varName=anon{}}}}};Constant_val=arr{[ 0.]}{}}} \n",
      " 0.0\n",
      "Integral_surface=volume{HandleNaN{Select{Quantiles_ntiles=3{Surface_surface=inner{Component_component=ang{Gradient{Variable_varName=anon{}}}}};Constant_val=arr{[ 3.]}{};Surface_surface=inner{Component_component=ang{Gradient{Variable_varName=anon{}}}}};Constant_val=arr{[ 0.]}{}}} \n",
      " 0.0\n",
      "Integral_surface=volume{HandleNaN{Select{Quantiles_ntiles=3{Surface_surface=outer{Component_component=rad{Gradient{Variable_varName=anon{}}}}};Constant_val=arr{[ 3.]}{};Surface_surface=outer{Component_component=rad{Gradient{Variable_varName=anon{}}}}};Constant_val=arr{[ 0.]}{}}} \n",
      " 0.0\n",
      "Integral_surface=volume{HandleNaN{Select{Quantiles_ntiles=3{Surface_surface=inner{Component_component=rad{Gradient{Variable_varName=anon{}}}}};Constant_val=arr{[ 3.]}{};Surface_surface=inner{Component_component=rad{Gradient{Variable_varName=anon{}}}}};Constant_val=arr{[ 0.]}{}}} \n",
      " 0.0\n"
     ]
    }
   ],
   "source": [
    "for var in myvars:\n",
    "    print(var.varName, '\\n', var.evaluate()[0][0])"
   ]
  },
  {
   "cell_type": "code",
   "execution_count": null,
   "metadata": {},
   "outputs": [],
   "source": []
  },
  {
   "cell_type": "code",
   "execution_count": null,
   "metadata": {},
   "outputs": [],
   "source": []
  },
  {
   "cell_type": "code",
   "execution_count": null,
   "metadata": {},
   "outputs": [],
   "source": []
  },
  {
   "cell_type": "code",
   "execution_count": null,
   "metadata": {},
   "outputs": [],
   "source": []
  },
  {
   "cell_type": "code",
   "execution_count": null,
   "metadata": {
    "scrolled": true
   },
   "outputs": [],
   "source": [
    "obsDict = make_obsVars_dict(system.obsVars, return_dict = True)"
   ]
  },
  {
   "cell_type": "code",
   "execution_count": null,
   "metadata": {},
   "outputs": [],
   "source": [
    "system.go(10)"
   ]
  },
  {
   "cell_type": "code",
   "execution_count": null,
   "metadata": {
    "scrolled": false
   },
   "outputs": [],
   "source": [
    "for key, val in sorted(obsDict.items()):\n",
    "    print(key)\n",
    "    print(' ' * 10, val.evaluate())"
   ]
  },
  {
   "cell_type": "code",
   "execution_count": null,
   "metadata": {},
   "outputs": [],
   "source": []
  },
  {
   "cell_type": "code",
   "execution_count": null,
   "metadata": {},
   "outputs": [],
   "source": [
    "import planetengine\n",
    "\n",
    "class Observer(planetengine._built.Built):\n",
    "\n",
    "    def __init__(\n",
    "            self,\n",
    "            args,\n",
    "            kwargs,\n",
    "            inputs,\n",
    "            script,\n",
    "            _attach,\n",
    "            _prompt,\n",
    "            ):\n",
    "\n",
    "        self._prompt = _prompt\n",
    "        self._attach = _attach\n",
    "\n",
    "        super().__init__(\n",
    "            args = args,\n",
    "            kwargs = kwargs,\n",
    "            inputs = inputs,\n",
    "            script = script\n",
    "            )\n",
    "\n",
    "    def attach(self, system):\n",
    "\n",
    "        assert hasattr(system, 'initials'), \\\n",
    "            \"System must have initials set.\"\n",
    "\n",
    "        builts = {\n",
    "            'observer': self,\n",
    "            'observed': {\n",
    "                'system': system,\n",
    "                'initials': system.initials\n",
    "                }\n",
    "            }\n",
    "\n",
    "        saveVars, saveFigs, saveCollectors = \\\n",
    "            self._attach(system)\n",
    "\n",
    "        for sub in self.subs:\n",
    "            sub_saveVars, sub_saveFigs, sub_saveCollectors = \\\n",
    "                sub._attach(system)\n",
    "            saveVars.extend(sub_saveVars)\n",
    "            saveFigs.append(sub_saveFigs)\n",
    "            saveCollectors.append(sub_saveCollectors)\n",
    "\n",
    "        checkpointer = checkpoint.Checkpointer(\n",
    "            step = system.step,\n",
    "            modeltime = system.modeltime,\n",
    "            saveVars = saveVars,\n",
    "            figs = saveFigs,\n",
    "            dataCollectors = saveCollectors,\n",
    "            builts = builts\n",
    "            )\n",
    "\n",
    "        self.system = system\n",
    "        self.initials = system.initials\n",
    "        self.builts = builts\n",
    "        self.saveVars = saveVars\n",
    "        self.figs = figs\n",
    "        self.collectors = collectors\n",
    "        self.checkpointer = checkpointer\n",
    "\n",
    "    def prompt(self):\n",
    "        self._prompt()\n",
    "\n",
    "    def checkpoint(self, path = '', clear = True):\n",
    "        self.checkpointer.checkpoint(path)\n",
    "        if clear:\n",
    "            for collector in self.saveCollectors:\n",
    "                collector.clear()"
   ]
  },
  {
   "cell_type": "code",
   "execution_count": null,
   "metadata": {},
   "outputs": [],
   "source": [
    "import planetengine\n",
    "from planetengine import functions as pfn\n",
    "\n",
    "def build(*args, name = None, **kwargs):\n",
    "    built = Standard(*args, **kwargs)\n",
    "    if type(name) == str:\n",
    "        built.name = name\n",
    "    return built\n",
    "\n",
    "class Standard(Observer):\n",
    "\n",
    "    script = 'test' # __file__\n",
    "\n",
    "    def __init__(\n",
    "            self,\n",
    "            *args,\n",
    "            **kwargs\n",
    "            ):\n",
    "\n",
    "    inputs = locals().copy()\n",
    "\n",
    "    super().__init__(\n",
    "        args,\n",
    "        kwargs,\n",
    "        inputs,\n",
    "        script,\n",
    "        self._attach,\n",
    "        self._prompt\n",
    "        )\n",
    "\n",
    "    def _attach(self, system):\n",
    "\n",
    "        varDict = {}\n",
    "\n",
    "        obsVars = pfn.convert(system.obsVars)\n",
    "\n",
    "    :\n",
    "        \n",
    "        \n",
    "\n",
    "    def _prompt(self):\n",
    "        pass"
   ]
  },
  {
   "cell_type": "code",
   "execution_count": null,
   "metadata": {},
   "outputs": [],
   "source": []
  },
  {
   "cell_type": "code",
   "execution_count": null,
   "metadata": {},
   "outputs": [],
   "source": [
    "baseVar = pfn.convert('temperature', system.temperatureField)\n",
    "quantVar = pfn.Quantiles.terciles(baseVar)\n",
    "myVar = pfn.HandleNaN.zero(pfn.Select(quantVar, 2., baseVar))"
   ]
  },
  {
   "cell_type": "code",
   "execution_count": null,
   "metadata": {},
   "outputs": [],
   "source": [
    "planetengine.quickShow(myVar)"
   ]
  },
  {
   "cell_type": "code",
   "execution_count": null,
   "metadata": {},
   "outputs": [],
   "source": []
  },
  {
   "cell_type": "code",
   "execution_count": null,
   "metadata": {},
   "outputs": [],
   "source": []
  },
  {
   "cell_type": "code",
   "execution_count": null,
   "metadata": {},
   "outputs": [],
   "source": []
  },
  {
   "cell_type": "code",
   "execution_count": null,
   "metadata": {},
   "outputs": [],
   "source": [
    "import underworld as uw\n",
    "from underworld import function as fn\n",
    "import math\n",
    "import time\n",
    "import glucifer\n",
    "import numpy as np\n",
    "import math\n",
    "\n",
    "from . import utilities\n",
    "from . import analysis\n",
    "from . import visualisation\n",
    "from .utilities import Grouper\n",
    "\n",
    "def build():\n",
    "\n",
    "    ## HOUSEKEEPING: IMPORTANT! ###\n",
    "\n",
    "    inputs = locals().copy()\n",
    "    script = __file__\n",
    "    name = 'standard'\n",
    "#     hashID = utilities.hashstamp(script, inputs)\n",
    "\n",
    "    def attach(system):\n",
    "\n",
    "        step = system.step\n",
    "        modeltime = system.modeltime\n",
    "        if hasattr(system, 'obsVars'):\n",
    "            obsVars = [\n",
    "                *sorted(system.varsOfState.items()),\n",
    "                *[varTuple for varTuple in sorted(system.obsVars.items()) \\\n",
    "                    if not varTuple in system.varsOfState.items()]\n",
    "                ]\n",
    "        else:\n",
    "            obsVars = sorted(system.varsOfState.items())\n",
    "\n",
    "        ### MAKE STATS ###\n",
    "\n",
    "        statsDict = {}\n",
    "        formatDict = {}\n",
    "\n",
    "        for varName, var in obsVars:\n",
    "\n",
    "            pevar = standardise(var)\n",
    "            var = pevar.var\n",
    "\n",
    "            standardIntegralSuite = {\n",
    "                'surface': ['volume', 'inner', 'outer'],\n",
    "                'comp': [None, 'ang', 'rad'],\n",
    "                'gradient': [None, 'ang', 'rad']\n",
    "                }\n",
    "\n",
    "            for inputDict in utilities.suite_list(standardIntegralSuite):\n",
    "\n",
    "                try:\n",
    "\n",
    "                    anVar = analysis.Analyse.StandardIntegral(\n",
    "                        var,\n",
    "                        **inputDict\n",
    "                        )\n",
    "                    statsDict[varName + '_' + anVar.opTag] = anVar\n",
    "\n",
    "                    formatDict[varName + '_' + anVar.opTag] = \"{:.2f}\"\n",
    "\n",
    "                except:\n",
    "                    pass\n",
    "\n",
    "        analyser = analysis.Analyser(\n",
    "            name,\n",
    "            statsDict,\n",
    "            formatDict,\n",
    "            step,\n",
    "            modeltime\n",
    "            )\n",
    "        analysers = [analyser,] # MAGIC NAME: MUST BE DEFINED\n",
    "\n",
    "        maincollector = analysis.DataCollector(analysers)\n",
    "        collectors = [maincollector,] # MAGIC NAME: MUST BE DEFINED\n",
    "\n",
    "        ### FIGS ###\n",
    "\n",
    "        fig = visualisation.QuickFig(\n",
    "            *obsVars,\n",
    "            figname = name,\n",
    "            colourBar = False\n",
    "            )\n",
    "        figs = [fig,] # MAGIC NAME: MUST BE DEFINED\n",
    "\n",
    "        return analysers, collectors, figs\n",
    "\n",
    "    ### HOUSEKEEPING: IMPORTANT! ###\n",
    "\n",
    "    return Grouper(locals())\n",
    "\n",
    "import underworld as uw\n",
    "from underworld import function as fn\n",
    "import math\n",
    "import time\n",
    "import glucifer\n",
    "import numpy as np\n",
    "import math\n",
    "\n",
    "import planetengine\n",
    "from planetengine.utilities import Grouper\n",
    "from planetengine import analysis\n",
    "from planetengine import visualisation\n",
    "\n",
    "def build(obsVars, step, modeltime):\n",
    "\n",
    "    ### HOUSEKEEPING: IMPORTANT! ###\n",
    "\n",
    "#     inputs = locals().copy()\n",
    "    inputs = {'obsVars': sorted(obsVars.keys())}\n",
    "    script = __file__\n",
    "\n",
    "    ### MAKE STATS ###\n",
    "\n",
    "    statsDict = {}\n",
    "    formatDict = {}\n",
    "\n",
    "    for varName, var in sorted(obsVars.items()):\n",
    "\n",
    "        pevar = planetengine.standardise(var)\n",
    "        var = pevar.var\n",
    "\n",
    "        standardIntegralSuite = {\n",
    "            'surface': ['volume', 'inner', 'outer'],\n",
    "            'comp': ['mag', 'ang', 'rad'],\n",
    "            'gradient': [None, 'ang', 'rad']\n",
    "            }\n",
    "\n",
    "        for inputDict in planetengine.utilities.suite_list(standardIntegralSuite):\n",
    "\n",
    "            anVar = analysis.Analyse.StandardIntegral(\n",
    "                var,\n",
    "                **inputDict\n",
    "                )\n",
    "            statsDict[varName + '_' + anVar.opTag] = anVar\n",
    "\n",
    "            formatDict[varName + '_' + anVar.opTag] = \"{:.2f}\"\n",
    "\n",
    "    zerodAnalyser = analysis.Analyser(\n",
    "        'zerodData',\n",
    "        statsDict,\n",
    "        formatDict,\n",
    "        step,\n",
    "        modeltime\n",
    "        )\n",
    "    analysers = [zerodAnalyser,] # MAGIC NAME: MUST BE DEFINED\n",
    "\n",
    "    maincollector = analysis.DataCollector(analysers)\n",
    "    collectors = [maincollector,] # MAGIC NAME: MUST BE DEFINED\n",
    "\n",
    "    ### FIGS ###\n",
    "\n",
    "    mainfig = visualisation.QuickFig(\n",
    "        *sorted(obsVars.items()),\n",
    "        figname = 'standard'\n",
    "        )\n",
    "    figs = [mainfig,] # MAGIC NAME: MUST BE DEFINED\n",
    "\n",
    "    ### HOUSEKEEPING: IMPORTANT! ###\n",
    "\n",
    "    return Grouper(locals())\n"
   ]
  }
 ],
 "metadata": {
  "kernelspec": {
   "display_name": "Python 3",
   "language": "python",
   "name": "python3"
  },
  "language_info": {
   "codemirror_mode": {
    "name": "ipython",
    "version": 3
   },
   "file_extension": ".py",
   "mimetype": "text/x-python",
   "name": "python",
   "nbconvert_exporter": "python",
   "pygments_lexer": "ipython3",
   "version": "3.5.3"
  }
 },
 "nbformat": 4,
 "nbformat_minor": 2
}
