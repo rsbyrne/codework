{
 "cells": [
  {
   "cell_type": "code",
   "execution_count": 1,
   "metadata": {},
   "outputs": [],
   "source": [
    "import sys\n",
    "workPath = '/home/jovyan/workspace'\n",
    "if not workPath in sys.path:\n",
    "    sys.path.append(workPath)"
   ]
  },
  {
   "cell_type": "code",
   "execution_count": 2,
   "metadata": {},
   "outputs": [],
   "source": [
    "import planetengine\n",
    "outputPath = planetengine.paths.make_testdir()"
   ]
  },
  {
   "cell_type": "code",
   "execution_count": 3,
   "metadata": {},
   "outputs": [
    {
     "name": "stdout",
     "output_type": "stream",
     "text": [
      "Fitted 1 variables to the figure.\n"
     ]
    }
   ],
   "source": [
    "system = planetengine.tests.testsystems.get_system()"
   ]
  },
  {
   "cell_type": "code",
   "execution_count": 21,
   "metadata": {},
   "outputs": [],
   "source": [
    "import planetengine\n",
    "from planetengine import checkpoint\n",
    "import os\n",
    "\n",
    "class Observer(planetengine._built.Built):\n",
    "\n",
    "    name = 'anonObs'\n",
    "\n",
    "    def __init__(\n",
    "            self,\n",
    "            args,\n",
    "            kwargs,\n",
    "            inputs,\n",
    "            script,\n",
    "            _attach,\n",
    "            _prompt,\n",
    "            ):\n",
    "\n",
    "        self._prompt = _prompt\n",
    "        self._attach = _attach\n",
    "\n",
    "        self.path = ''\n",
    "\n",
    "        super().__init__(\n",
    "            args = args,\n",
    "            kwargs = kwargs,\n",
    "            inputs = inputs,\n",
    "            script = script\n",
    "            )\n",
    "\n",
    "    def attach(self, system):\n",
    "\n",
    "        assert hasattr(system, 'initials'), \\\n",
    "            \"System must have initials set.\"\n",
    "\n",
    "        builts = {\n",
    "            'observer': self,\n",
    "            'observed': {\n",
    "                'system': system,\n",
    "                'initials': system.initials\n",
    "                }\n",
    "            }\n",
    "\n",
    "        saveVars, saveFigs, saveCollectors = \\\n",
    "            self._attach(system)\n",
    "\n",
    "        for sub in self.subs:\n",
    "            sub_saveVars, sub_saveFigs, sub_saveCollectors = \\\n",
    "                sub._attach(system)\n",
    "            saveVars.extend(sub_saveVars)\n",
    "            saveFigs.append(sub_saveFigs)\n",
    "            saveCollectors.append(sub_saveCollectors)\n",
    "\n",
    "        checkpointer = checkpoint.Checkpointer(\n",
    "            step = system.step,\n",
    "            modeltime = system.modeltime,\n",
    "            saveVars = saveVars,\n",
    "            figs = saveFigs,\n",
    "            dataCollectors = saveCollectors,\n",
    "            builts = builts\n",
    "            )\n",
    "\n",
    "        self.system = system\n",
    "        self.initials = system.initials\n",
    "        self.builts = builts\n",
    "        self.saveVars = saveVars\n",
    "        self.figs = saveFigs\n",
    "        self.collectors = saveCollectors\n",
    "        self.checkpointer = checkpointer\n",
    "        self.step = system.step\n",
    "        self.modeltime = system.modeltime\n",
    "\n",
    "    def attach_frame(self, frame):\n",
    "        self.attach(frame.system)\n",
    "        frame.observers.add(self)\n",
    "        self.path = os.path.join(frame.path, self.name)\n",
    "\n",
    "    def prompt(self, status = None):\n",
    "        self._prompt()\n",
    "        if status == 'checkpointing':\n",
    "            self.checkpoint()\n",
    "\n",
    "    def checkpoint(self, path = None, clear = True):\n",
    "        if path is None:\n",
    "            path = self.path\n",
    "        self.checkpointer.checkpoint(path)\n",
    "        if path == self.path:\n",
    "            for collector in self.saveCollectors:\n",
    "                collector.clear()"
   ]
  },
  {
   "cell_type": "code",
   "execution_count": 26,
   "metadata": {},
   "outputs": [],
   "source": [
    "import planetengine\n",
    "from planetengine import functions as pfn\n",
    "from planetengine.visualisation import QuickFig\n",
    "from planetengine import analysis\n",
    "\n",
    "def build(*args, name = None, **kwargs):\n",
    "    built = Standard(*args, **kwargs)\n",
    "    if type(name) == str:\n",
    "        built.name = name\n",
    "    return built\n",
    "\n",
    "class Standard(Observer):\n",
    "\n",
    "    script = 'test.py' # __file__\n",
    "    name = 'standard'\n",
    "\n",
    "    def __init__(\n",
    "            self,\n",
    "            *args,\n",
    "            **kwargs\n",
    "            ):\n",
    "\n",
    "        inputs = locals().copy()\n",
    "\n",
    "        super().__init__(\n",
    "            args,\n",
    "            kwargs,\n",
    "            inputs,\n",
    "            self.script,\n",
    "            self._attach,\n",
    "            self._prompt\n",
    "            )\n",
    "\n",
    "    def _attach(self, system):\n",
    "\n",
    "        varDict = {}\n",
    "\n",
    "        keys = {'temperature', 'velocity', 'stress'}\n",
    "        obsVars = {key: system.obsVars[key] for key in keys}\n",
    "        obsVars = pfn.convert(obsVars)\n",
    "\n",
    "\n",
    "        temperature = obsVars['temperature']\n",
    "        velocity = obsVars['velocity']\n",
    "        stress = obsVars['stress']\n",
    "\n",
    "        saveVars = {'velocity': velocity, 'stress': stress}\n",
    "\n",
    "        stressMag = pfn.Component.mag(stress)\n",
    "        avStress = pfn.Integral(stressMag)\n",
    "        avTemp = pfn.Integral(temperature)\n",
    "        tempGrad = pfn.Gradient.rad(temperature)\n",
    "        Nu = pfn.Integral.outer(tempGrad) / pfn.Integral.inner(temperature) * -1.\n",
    "        velMag = pfn.Component.mag(velocity)\n",
    "        VRMS = pfn.Integral(velMag)\n",
    "        horizVel = pfn.Component.ang(velocity)\n",
    "        surfVRMS = pfn.Integral(horizVel)\n",
    "\n",
    "        statsDict = {\n",
    "            'avStress': avStress,\n",
    "            'avTemp': avTemp,\n",
    "            'Nu': Nu,\n",
    "            'VRMS': VRMS,\n",
    "            'surfVRMS': surfVRMS\n",
    "            }\n",
    "\n",
    "        formatDict = {\n",
    "            'Nu': \"{:.2f}\",\n",
    "            'avTemp': \"{:.2f}\",\n",
    "            'VRMS': \"{:.2f}\",\n",
    "            'surfVRMS': \"{:.2f}\",\n",
    "            'avStress': \"{:.2f}\"\n",
    "            }\n",
    "\n",
    "        mainAnalyser = analysis.Analyser(\n",
    "            'standard',\n",
    "            statsDict,\n",
    "            formatDict,\n",
    "            system.step,\n",
    "            system.modeltime\n",
    "            )\n",
    "        mainCollector = analysis.DataCollector([mainAnalyser,])\n",
    "\n",
    "        saveCollectors = [mainCollector,]\n",
    "\n",
    "        mainFig = QuickFig(\n",
    "            temperature,\n",
    "            velocity,\n",
    "            stressMag,\n",
    "            style = 'smallblack'\n",
    "            )\n",
    "\n",
    "        saveFigs = [mainFig]\n",
    "\n",
    "        self.mainAnalyser = mainAnalyser\n",
    "        self.mainCollector = mainCollector\n",
    "        self.mainFig = mainFig\n",
    "        \n",
    "        return saveVars, saveFigs, saveCollectors\n",
    "\n",
    "    def _prompt(self):\n",
    "        if self.step() % 10 == 0:\n",
    "            planetengine.message(\"Analysing...\")\n",
    "            self.mainCollector.collect()\n",
    "            planetengine.message(\"Analysed.\")\n",
    "\n",
    "    def report(self):\n",
    "        self.mainAnalyser.report()\n",
    "        self.mainFig.show()"
   ]
  },
  {
   "cell_type": "code",
   "execution_count": 27,
   "metadata": {},
   "outputs": [],
   "source": [
    "myObs = Standard()"
   ]
  },
  {
   "cell_type": "code",
   "execution_count": 28,
   "metadata": {},
   "outputs": [
    {
     "name": "stdout",
     "output_type": "stream",
     "text": [
      "Fitted 2 variables to the figure.\n"
     ]
    }
   ],
   "source": [
    "myObs.attach(system)"
   ]
  },
  {
   "cell_type": "code",
   "execution_count": 29,
   "metadata": {},
   "outputs": [
    {
     "name": "stdout",
     "output_type": "stream",
     "text": [
      "Analysing...\n",
      "Analysed.\n"
     ]
    }
   ],
   "source": [
    "myObs.prompt()"
   ]
  },
  {
   "cell_type": "code",
   "execution_count": 32,
   "metadata": {},
   "outputs": [],
   "source": [
    "from planetengine.paths import make_testdir"
   ]
  },
  {
   "cell_type": "code",
   "execution_count": 33,
   "metadata": {},
   "outputs": [],
   "source": [
    "mydir = make_testdir()"
   ]
  },
  {
   "cell_type": "code",
   "execution_count": 34,
   "metadata": {},
   "outputs": [
    {
     "name": "stdout",
     "output_type": "stream",
     "text": [
      "Attempting to checkpoint...\n",
      "Checking for pre-existing frame on disk...\n",
      "No pre-existing directory for this model found. Making a new one...\n",
      "Checkpointing...\n",
      "Making checkpoint directory.\n",
      "Saving figures...\n",
      "Figures saved.\n",
      "Saving vars of state...\n",
      "Saving substrate to disk: mesh\n",
      "Saving var to disk: stress\n",
      "Saving var to disk: velocity\n",
      "Saved.\n",
      "Saving snapshot...\n",
      "Snapshot saved.\n",
      "Saving datasets...\n",
      "Datasets saved.\n",
      "Checkpointed!\n"
     ]
    }
   ],
   "source": [
    "myObs.checkpoint(mydir)"
   ]
  },
  {
   "cell_type": "code",
   "execution_count": 17,
   "metadata": {},
   "outputs": [
    {
     "name": "stdout",
     "output_type": "stream",
     "text": [
      "avStress\n",
      "97500.75\n",
      "avTemp\n",
      "0.45\n",
      "modeltime\n",
      "3.5E-04\n",
      "Nu\n",
      "1.01\n",
      "step\n",
      "110\n",
      "surfVRMS\n",
      "-8.67\n",
      "VRMS\n",
      "192.48\n",
      "Variable_varName=temperature{}\n",
      "Variable_varName=velocity{}\n"
     ]
    },
    {
     "data": {
      "text/html": [
       "<img src='data:image/png;base64,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'>"
      ],
      "text/plain": [
       "<IPython.core.display.HTML object>"
      ]
     },
     "metadata": {},
     "output_type": "display_data"
    }
   ],
   "source": [
    "myObs.report()"
   ]
  },
  {
   "cell_type": "code",
   "execution_count": 18,
   "metadata": {},
   "outputs": [],
   "source": [
    "system.go(10)"
   ]
  },
  {
   "cell_type": "code",
   "execution_count": 19,
   "metadata": {},
   "outputs": [
    {
     "name": "stdout",
     "output_type": "stream",
     "text": [
      "avStress\n",
      "97500.75\n",
      "avTemp\n",
      "0.45\n",
      "modeltime\n",
      "3.7E-04\n",
      "Nu\n",
      "1.01\n",
      "step\n",
      "120\n",
      "surfVRMS\n",
      "-8.47\n",
      "VRMS\n",
      "189.69\n",
      "Variable_varName=temperature{}\n",
      "Variable_varName=velocity{}\n"
     ]
    },
    {
     "data": {
      "text/html": [
       "<img src='data:image/png;base64,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'>"
      ],
      "text/plain": [
       "<IPython.core.display.HTML object>"
      ]
     },
     "metadata": {},
     "output_type": "display_data"
    }
   ],
   "source": [
    "myObs.report()"
   ]
  },
  {
   "cell_type": "code",
   "execution_count": 36,
   "metadata": {},
   "outputs": [
    {
     "name": "stdout",
     "output_type": "stream",
     "text": [
      "Hello world!\n"
     ]
    },
    {
     "ename": "AttributeError",
     "evalue": "module 'observer_0.py' has no attribute 'build'",
     "output_type": "error",
     "traceback": [
      "\u001b[0;31m---------------------------------------------------------------------------\u001b[0m",
      "\u001b[0;31mAttributeError\u001b[0m                            Traceback (most recent call last)",
      "\u001b[0;32m<ipython-input-36-02b5629ca5c6>\u001b[0m in \u001b[0;36m<module>\u001b[0;34m\u001b[0m\n\u001b[0;32m----> 1\u001b[0;31m \u001b[0mplanetengine\u001b[0m\u001b[0;34m.\u001b[0m\u001b[0m_built\u001b[0m\u001b[0;34m.\u001b[0m\u001b[0mload_builtsDir\u001b[0m\u001b[0;34m(\u001b[0m\u001b[0mmydir\u001b[0m\u001b[0;34m)\u001b[0m\u001b[0;34m\u001b[0m\u001b[0m\n\u001b[0m",
      "\u001b[0;32m~/workspace/planetengine/_built.py\u001b[0m in \u001b[0;36mload_builtsDir\u001b[0;34m(path, name)\u001b[0m\n\u001b[1;32m    107\u001b[0m     \u001b[0mbuilts\u001b[0m \u001b[0;34m=\u001b[0m \u001b[0;34m{\u001b[0m\u001b[0;34m}\u001b[0m\u001b[0;34m\u001b[0m\u001b[0m\n\u001b[1;32m    108\u001b[0m     \u001b[0;32mfor\u001b[0m \u001b[0mname\u001b[0m \u001b[0;32min\u001b[0m \u001b[0msorted\u001b[0m\u001b[0;34m(\u001b[0m\u001b[0mnames\u001b[0m\u001b[0;34m)\u001b[0m\u001b[0;34m:\u001b[0m\u001b[0;34m\u001b[0m\u001b[0m\n\u001b[0;32m--> 109\u001b[0;31m         \u001b[0mbuilts\u001b[0m\u001b[0;34m[\u001b[0m\u001b[0mname\u001b[0m\u001b[0;34m]\u001b[0m \u001b[0;34m=\u001b[0m \u001b[0mload_built\u001b[0m\u001b[0;34m(\u001b[0m\u001b[0mname\u001b[0m\u001b[0;34m,\u001b[0m \u001b[0mbuiltsDir\u001b[0m\u001b[0;34m)\u001b[0m\u001b[0;34m\u001b[0m\u001b[0m\n\u001b[0m\u001b[1;32m    110\u001b[0m     \u001b[0;32mfor\u001b[0m \u001b[0msubDir\u001b[0m \u001b[0;32min\u001b[0m \u001b[0msorted\u001b[0m\u001b[0;34m(\u001b[0m\u001b[0mdirs\u001b[0m\u001b[0;34m)\u001b[0m\u001b[0;34m:\u001b[0m\u001b[0;34m\u001b[0m\u001b[0m\n\u001b[1;32m    111\u001b[0m         \u001b[0msubName\u001b[0m \u001b[0;34m=\u001b[0m \u001b[0msubDir\u001b[0m\u001b[0;34m[\u001b[0m\u001b[0;36m4\u001b[0m\u001b[0;34m:\u001b[0m\u001b[0;34m]\u001b[0m\u001b[0;34m\u001b[0m\u001b[0m\n",
      "\u001b[0;32m~/workspace/planetengine/_built.py\u001b[0m in \u001b[0;36mload_built\u001b[0;34m(name, path)\u001b[0m\n\u001b[1;32m     70\u001b[0m         \u001b[0mscriptModules\u001b[0m\u001b[0;34m.\u001b[0m\u001b[0mappend\u001b[0m\u001b[0;34m(\u001b[0m\u001b[0mscriptModule\u001b[0m\u001b[0;34m)\u001b[0m\u001b[0;34m\u001b[0m\u001b[0m\n\u001b[1;32m     71\u001b[0m \u001b[0;34m\u001b[0m\u001b[0m\n\u001b[0;32m---> 72\u001b[0;31m     built = scriptModules[0].build(\n\u001b[0m\u001b[1;32m     73\u001b[0m         \u001b[0;34m*\u001b[0m\u001b[0mscriptModules\u001b[0m\u001b[0;34m[\u001b[0m\u001b[0;36m1\u001b[0m\u001b[0;34m:\u001b[0m\u001b[0;34m]\u001b[0m\u001b[0;34m,\u001b[0m\u001b[0;34m\u001b[0m\u001b[0m\n\u001b[1;32m     74\u001b[0m         \u001b[0;34m**\u001b[0m\u001b[0minputDict\u001b[0m\u001b[0;34m\u001b[0m\u001b[0m\n",
      "\u001b[0;31mAttributeError\u001b[0m: module 'observer_0.py' has no attribute 'build'"
     ]
    }
   ],
   "source": [
    "planetengine._built.load_builtsDir(mydir)"
   ]
  },
  {
   "cell_type": "code",
   "execution_count": null,
   "metadata": {},
   "outputs": [],
   "source": []
  }
 ],
 "metadata": {
  "kernelspec": {
   "display_name": "Python 3",
   "language": "python",
   "name": "python3"
  },
  "language_info": {
   "codemirror_mode": {
    "name": "ipython",
    "version": 3
   },
   "file_extension": ".py",
   "mimetype": "text/x-python",
   "name": "python",
   "nbconvert_exporter": "python",
   "pygments_lexer": "ipython3",
   "version": "3.5.3"
  }
 },
 "nbformat": 4,
 "nbformat_minor": 2
}
