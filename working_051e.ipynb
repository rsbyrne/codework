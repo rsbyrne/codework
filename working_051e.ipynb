{
 "cells": [
  {
   "cell_type": "code",
   "execution_count": 4,
   "metadata": {},
   "outputs": [],
   "source": [
    "import sys\n",
    "workPath = '/home/jovyan/workspace'\n",
    "if not workPath in sys.path:\n",
    "    sys.path.append(workPath)\n",
    "\n",
    "import planetengine\n",
    "\n",
    "planetengine.paths.delete_testdir()\n",
    "planetengine.paths.make_testdir()\n",
    "\n",
    "myobj = {'hello': 'world'}\n",
    "\n",
    "planetengine.disk.save_json(myobj, 'helloworld', planetengine.paths.testPath)\n",
    "\n",
    "myobj_load = planetengine.disk.load_json('helloworld', planetengine.paths.testPath)\n",
    "\n",
    "assert myobj == myobj_load\n",
    "\n",
    "myobj2 = {'foo': 'bar'}\n",
    "\n",
    "planetengine.disk.save_json(myobj2, 'foobar', planetengine.paths.testPath)\n",
    "\n",
    "myobj2_load = planetengine.disk.load_json('foobar', planetengine.paths.testPath)\n",
    "\n",
    "assert myobj2 == myobj2_load\n",
    "\n",
    "planetengine.paths.delete_testdir()"
   ]
  },
  {
   "cell_type": "code",
   "execution_count": null,
   "metadata": {},
   "outputs": [],
   "source": []
  }
 ],
 "metadata": {
  "kernelspec": {
   "display_name": "Python 3",
   "language": "python",
   "name": "python3"
  },
  "language_info": {
   "codemirror_mode": {
    "name": "ipython",
    "version": 3
   },
   "file_extension": ".py",
   "mimetype": "text/x-python",
   "name": "python",
   "nbconvert_exporter": "python",
   "pygments_lexer": "ipython3",
   "version": "3.5.3"
  }
 },
 "nbformat": 4,
 "nbformat_minor": 2
}
