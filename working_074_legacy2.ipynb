{
 "cells": [
  {
   "cell_type": "code",
   "execution_count": null,
   "metadata": {},
   "outputs": [],
   "source": [
    "# import sys\n",
    "# !{sys.executable} -m pip install pandas"
   ]
  },
  {
   "cell_type": "code",
   "execution_count": 1,
   "metadata": {},
   "outputs": [],
   "source": [
    "import sys\n",
    "import os\n",
    "workPath = os.path.abspath('..')\n",
    "if not workPath in sys.path:\n",
    "    sys.path.append(workPath)"
   ]
  },
  {
   "cell_type": "code",
   "execution_count": 6,
   "metadata": {
    "scrolled": true
   },
   "outputs": [],
   "source": [
    "import os\n",
    "import shutil\n",
    "import tarfile\n",
    "import h5py\n",
    "import pandas as pd\n",
    "import json\n",
    "from everest import _specialnames\n",
    "\n",
    "import os\n",
    "inputPath = os.path.join(*['..', 'remote', 'transfer', 'VAULT', 'data', 'arrbench', 'res32war'])\n",
    "projName = 'arrbench32_war'\n",
    "targetFilename = 'standard.csv'\n",
    "inputFilename = 'system.json'\n",
    "\n",
    "def legacy(\n",
    "        inputPath,\n",
    "        projName,\n",
    "        targetFilename,\n",
    "        inputFilename\n",
    "        ):\n",
    "    outputPath = os.path.join(*['..', 'out', 'analysis', projName])\n",
    "    h5filename = os.path.join(outputPath, projName + '.h5')\n",
    "\n",
    "    def clean_df_colnames(df):\n",
    "        df.columns = df.columns.str.strip('#')\n",
    "        df.columns = df.columns.str.strip().str.replace(' ', '_').str.replace('(', '').str.replace(')', '')\n",
    "        df.rename(columns = {\n",
    "                'step': _specialnames.COUNTS_FLAG\n",
    "                },\n",
    "            inplace = True\n",
    "            )\n",
    "\n",
    "    pemods = [\n",
    "        os.path.splitext(os.path.splitext(filename)[0])[0] \\\n",
    "            for filename in os.listdir(inputPath) \\\n",
    "                if filename[:6] == 'pemod_'\n",
    "        ]\n",
    "    if os.path.exists(outputPath):\n",
    "        shutil.rmtree(outputPath)\n",
    "    os.makedirs(outputPath, exist_ok = True)\n",
    "    with h5py.File(h5filename, 'w') as myfile:\n",
    "        for pemod in pemods:\n",
    "            # create group\n",
    "            group = myfile.create_group(pemod)\n",
    "            # get files from archive\n",
    "            filename = os.path.join(inputPath, pemod + '.tar.gz')\n",
    "            peobsName = [None]\n",
    "            with tarfile.open(filename) as file:\n",
    "                for member in file.getmembers():\n",
    "                    if 'peobs' in member.name:\n",
    "                        file.extract(os.path.join(member.name, targetFilename), outputPath)\n",
    "                        peobsName[0] = member.name\n",
    "                        break\n",
    "                file.extract(os.path.join('builts', inputFilename), outputPath)\n",
    "            # read inputs and set as attrs\n",
    "            inputFilepath = os.path.join(outputPath, os.path.join('builts', inputFilename))\n",
    "            with open(inputFilepath) as inputFile:\n",
    "                inputDict = json.load(inputFile)\n",
    "            if inputDict['f'] == 'max':\n",
    "                inputDict['f'] = 1.\n",
    "            for key, val in inputDict.items():\n",
    "                try:\n",
    "                    group.attrs[key] = val\n",
    "                except:\n",
    "                    group.attrs[key] = str(val)\n",
    "            shutil.rmtree(os.path.join(outputPath, 'builts'))\n",
    "            # read data and set as datasets\n",
    "            targetFilepath = os.path.join(outputPath, os.path.join(peobsName[0], targetFilename))\n",
    "            df = pd.read_csv(targetFilepath)\n",
    "            clean_df_colnames(df)\n",
    "            for key in df.keys():\n",
    "                if key == _specialnames.COUNTS_FLAG:\n",
    "                    dtype = 'i8'\n",
    "                else:\n",
    "                    dtype = df[key].dtype\n",
    "                group.create_dataset(\n",
    "                    name = key,\n",
    "                    data = df[key],\n",
    "                    chunks = True,\n",
    "                    dtype = dtype\n",
    "                    )\n",
    "            shutil.rmtree(os.path.join(outputPath, peobsName[0]))\n",
    "\n",
    "legacy(inputPath, projName, targetFilename, inputFilename)"
   ]
  },
  {
   "cell_type": "code",
   "execution_count": null,
   "metadata": {},
   "outputs": [],
   "source": [
    "from everest.window import Reader\n",
    "outputPath = os.path.join(*['..', 'out', 'analysis', projName])\n",
    "h5filename = os.path.join(outputPath, projName + '.h5')\n",
    "myreader = Reader(h5filename)"
   ]
  },
  {
   "cell_type": "code",
   "execution_count": null,
   "metadata": {},
   "outputs": [],
   "source": [
    "myreader.file().keys()"
   ]
  },
  {
   "cell_type": "code",
   "execution_count": null,
   "metadata": {},
   "outputs": [],
   "source": [
    "myscope1 = myreader[\n",
    "    Fetch('Ra') > 1e6,\n",
    "    Fetch('Ra') < 4e6,\n",
    "    Fetch('modeltime') > 0.01\n",
    "    ]"
   ]
  },
  {
   "cell_type": "code",
   "execution_count": null,
   "metadata": {},
   "outputs": [],
   "source": [
    "myscope3 = myscope1 * myscope2\n",
    "myscope3"
   ]
  },
  {
   "cell_type": "code",
   "execution_count": null,
   "metadata": {},
   "outputs": [],
   "source": [
    "# inFile = h5py.File(h5filename, 'r')\n",
    "# outFile = h5py.File(outFilename, 'w')\n",
    "# inFile.close()"
   ]
  },
  {
   "cell_type": "code",
   "execution_count": null,
   "metadata": {},
   "outputs": [],
   "source": [
    "# inputFrame = dataframe.read_hdf(h5filename, '/*')"
   ]
  },
  {
   "cell_type": "code",
   "execution_count": null,
   "metadata": {},
   "outputs": [],
   "source": [
    "# res = 32\n",
    "# maxtime = .3\n",
    "\n",
    "# rowName = 'Ra'\n",
    "# rows = sorted(list(set(inputFrame.Ra.loc[inputFrame.Ra <= 1e5])))\n",
    "# cols = ['Nu', 'VRMS', 'avTemp']\n",
    "\n",
    "# fig, axs = plt.subplots(len(rows), len(cols), sharex=True, figsize = (12, 12))\n",
    "\n",
    "# for row, val in enumerate(rows):\n",
    "#     indices = inputFrame.loc[inputFrame[rowName] == val].loc[inputFrame['res'] == res].index\n",
    "#     for index in indices:\n",
    "#         frame = outputFrame.loc[outputFrame['modeltime'] < maxtime].loc[index]\n",
    "#         for col, val in enumerate(cols):\n",
    "#             ignoreme = axs[row][col].plot(frame.modeltime, frame[val])\n",
    "\n",
    "# for index, val in enumerate(cols):\n",
    "#     axs[0][index].set_title(val)\n",
    "# for index, val in enumerate(rows):\n",
    "#     axs[index][0].set_ylabel(val)\n",
    "# axs[len(rows) - 1][int(len(cols) / 2)].set_xlabel('Dimensionless time')\n",
    "\n",
    "# legendtext = ['f = ' + str(round(val, 2)) for val in list(inputFrame.loc[indices].f)]\n",
    "# legend = plt.figlegend(\n",
    "#     legendtext,\n",
    "#     loc='right',\n",
    "#     shadow = True,\n",
    "# #     mode = 'expand',\n",
    "#     )\n",
    "# fig.subplots_adjust(hspace=0)\n",
    "# # fig.suptitle('Isoviscous suite: res = ' + str(res))\n",
    "# fig.show()\n",
    "# plt.savefig('isobenchFullchunk1.png', dpi=300)"
   ]
  }
 ],
 "metadata": {
  "kernelspec": {
   "display_name": "Python 3",
   "language": "python",
   "name": "python3"
  },
  "language_info": {
   "codemirror_mode": {
    "name": "ipython",
    "version": 3
   },
   "file_extension": ".py",
   "mimetype": "text/x-python",
   "name": "python",
   "nbconvert_exporter": "python",
   "pygments_lexer": "ipython3",
   "version": "3.5.3"
  }
 },
 "nbformat": 4,
 "nbformat_minor": 2
}
