{
 "cells": [
  {
   "cell_type": "code",
   "execution_count": 1,
   "metadata": {},
   "outputs": [],
   "source": [
    "import sys\n",
    "workPath = '/home/jovyan/workspace'\n",
    "if not workPath in sys.path:\n",
    "    sys.path.append(workPath)"
   ]
  },
  {
   "cell_type": "code",
   "execution_count": 2,
   "metadata": {},
   "outputs": [],
   "source": [
    "import planetengine"
   ]
  },
  {
   "cell_type": "code",
   "execution_count": 3,
   "metadata": {},
   "outputs": [],
   "source": [
    "outputPath = planetengine.paths.make_testdir()"
   ]
  },
  {
   "cell_type": "code",
   "execution_count": 4,
   "metadata": {},
   "outputs": [
    {
     "name": "stdout",
     "output_type": "stream",
     "text": [
      "Fitted 1 variables to the figure.\n"
     ]
    }
   ],
   "source": [
    "myBuilts = {\n",
    "    'system': planetengine.systems.arrhenius.build(res = 32, f = 0.5),\n",
    "    'initials': {\n",
    "        'helloworld': {\n",
    "            'temperatureField': planetengine.initials.sinusoidal.build(\n",
    "                planetengine.initials.sinusoidal.build(\n",
    "                    freq = 2,\n",
    "                    pert = 0.4\n",
    "                    )\n",
    "                )\n",
    "            },\n",
    "        'foobar': planetengine.initials.sinusoidal.build()\n",
    "        }\n",
    "    }"
   ]
  },
  {
   "cell_type": "code",
   "execution_count": 5,
   "metadata": {},
   "outputs": [],
   "source": [
    "stamps = planetengine._built.make_stamps(myBuilts)"
   ]
  },
  {
   "cell_type": "code",
   "execution_count": 6,
   "metadata": {},
   "outputs": [
    {
     "data": {
      "text/plain": [
       "{'all': ['c002eaf6e65d7cca3a9ca01427ea9085', 'gyrenes-downturned'],\n",
       " 'initials': {'all': ['4a3b9531ba6ff46486ef1921cc1c82f7',\n",
       "   'affrontive-shadegan'],\n",
       "  'foobar': {'all': ['ec643ef8d003973ddd89e811e46b6201',\n",
       "    'certification-lumbermill'],\n",
       "   'inputs': ['15e3054859fe299090f43fd8e6ceabb0', 'chewier-subcreativeness'],\n",
       "   'scripts': ['f5a196bda92f4a37bc9bfab6319615ce', 'decolouriser-dicolon']},\n",
       "  'helloworld': {'all': ['6247a384259b3d21b91dcba08aafb36e',\n",
       "    'lemures-presuperfluity'],\n",
       "   'temperatureField': {'all': ['6ff923854a4106c712bf604cc7e46c6c',\n",
       "     'feign-tenantable'],\n",
       "    'inputs': ['f21e797de1d3c7162084a971a5f6b99f', 'outwardly-funfest'],\n",
       "    'scripts': ['3695f791ee2628b1cd19d20ff1db2c8c',\n",
       "     'preflowering-passersby']}}},\n",
       " 'system': {'all': ['c6c90e5b1494ed36fd93dfb8ad4a94af',\n",
       "   'supercomputers-probatively'],\n",
       "  'inputs': ['71845446057c36dfbce60f09dda3dcc8', 'microbious-congruist'],\n",
       "  'scripts': ['e3a277c538aa16850bb72b48a9d4e349',\n",
       "   'theatropolis-antirationalist']}}"
      ]
     },
     "execution_count": 6,
     "metadata": {},
     "output_type": "execute_result"
    }
   ],
   "source": [
    "stamps"
   ]
  },
  {
   "cell_type": "code",
   "execution_count": 7,
   "metadata": {},
   "outputs": [],
   "source": [
    "planetengine._built.save_builtsDir(myBuilts, outputPath)"
   ]
  },
  {
   "cell_type": "code",
   "execution_count": 8,
   "metadata": {},
   "outputs": [
    {
     "name": "stdout",
     "output_type": "stream",
     "text": [
      "Fitted 1 variables to the figure.\n"
     ]
    }
   ],
   "source": [
    "myBuilts_load = planetengine._built.load_builtsDir(outputPath)"
   ]
  },
  {
   "cell_type": "code",
   "execution_count": 9,
   "metadata": {},
   "outputs": [
    {
     "data": {
      "text/plain": [
       "{'initials': {'foobar': <planetengine.initials.sinusoidal.Sinusoidal at 0x7fbdf0f2b550>,\n",
       "  'helloworld': {'temperatureField': <planetengine.initials.sinusoidal.Sinusoidal at 0x7fbdf0f2b4a8>}},\n",
       " 'system': <planetengine.systems.arrhenius.Arrhenius at 0x7fbdf83bc400>}"
      ]
     },
     "execution_count": 9,
     "metadata": {},
     "output_type": "execute_result"
    }
   ],
   "source": [
    "myBuilts"
   ]
  },
  {
   "cell_type": "code",
   "execution_count": 10,
   "metadata": {},
   "outputs": [
    {
     "data": {
      "text/plain": [
       "{'initials': {'foobar': <foobar_0.py.Sinusoidal at 0x7fbdf0f2be10>,\n",
       "  'helloworld': {'temperatureField': <temperatureField_0.py.Sinusoidal at 0x7fbdf0f046a0>}},\n",
       " 'system': <system_0.py.Arrhenius at 0x7fbdf83b0f28>}"
      ]
     },
     "execution_count": 10,
     "metadata": {},
     "output_type": "execute_result"
    }
   ],
   "source": [
    "myBuilts_load"
   ]
  },
  {
   "cell_type": "code",
   "execution_count": 11,
   "metadata": {},
   "outputs": [],
   "source": [
    "planetengine.paths.delete_testdir()"
   ]
  },
  {
   "cell_type": "code",
   "execution_count": 12,
   "metadata": {},
   "outputs": [
    {
     "name": "stdout",
     "output_type": "stream",
     "text": [
      "Fitted 1 variables to the figure.\n"
     ]
    }
   ],
   "source": [
    "system = planetengine.tests.testsystems.get_system()"
   ]
  },
  {
   "cell_type": "code",
   "execution_count": 22,
   "metadata": {},
   "outputs": [
    {
     "name": "stdout",
     "output_type": "stream",
     "text": [
      "Fitted 1 variables to the figure.\n",
      "Vanilla{Variable_varName=anon{};Variable_varName=anon{}}\n"
     ]
    },
    {
     "data": {
      "text/html": [
       "<img src='data:image/png;base64,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'>"
      ],
      "text/plain": [
       "<IPython.core.display.HTML object>"
      ]
     },
     "metadata": {},
     "output_type": "display_data"
    }
   ],
   "source": [
    "planetengine.quickShow(system.viscosityFn * system.velocityField)"
   ]
  },
  {
   "cell_type": "code",
   "execution_count": 26,
   "metadata": {},
   "outputs": [
    {
     "name": "stdout",
     "output_type": "stream",
     "text": [
      "Fitted 1 variables to the figure.\n",
      "Variable_varName=anon{}\n"
     ]
    },
    {
     "data": {
      "text/html": [
       "<img src='data:image/png;base64,iVBORw0KGgoAAAANSUhEUgAAAoAAAAHgCAIAAAC6s0uzAAAgAElEQVR4nO3dP3bcRvb2cej9KXDGmkwZy5kmYnkFXVqBMNlkhFZgzAoIr0Bw5ozgCgytgMXMmUsrYDGbTMVsMr5BzfThoWTqH27dJvD9BDqasY0LNLrx4BYKwLO7u7sGAADU9f+0VwAAgC0igAEAUEAAAwCggAAGAEABAQwAgAICGAAABQQwAAAKCGAAABQQwAAAKCCAAQBQQAADAKCAAAYAQAEBDACAAgIYAAAFBDAAAAoIYAAAFBDAAAAoIIABAFBAAAMAoIAABgBAAQEMAIACAhgAAAUEMAAACghgAAAUEMAAACgggAEAUEAAAwCggAAGAEABAQwAgAICGAAABQQwAAAKCGAAADTcrcj5+fnx8bH2JwoAEHF2dqadM0t6rv15Liml1HXdMAzaK/I05JyNMdprsQA25NBU2JDVfFYpJWut9lo8Des7tjMEvV3rOH41bMjhqbAhq/msSN8tI4ABAFBAAAMAoIAABgBAAQEMAIACAhgAAAUEMAAACghgAAAUEMAAACgggAEAUEAAAwCggAAGAEABAQwAgAICGAAABQQwAAAKCGAAABQQwAAAKCCAAQBQQAADAKCAAAYAQAEBDACAAgIYAAAFBDAAAAoIYAAAFBDAAAAoIIABAFCwtgDOOUuXSClVqBJjlC6RUpIukXOuUKXOhtT5aq2gRJ0qq9npdX7p0htS55deYXdU9lx7BRZmjJEuYa2VLtE0jXNOukSFDTHGrGOPVNiKpsqG1Pn2rmND6ux0fulfVUW6RGVr64ABAHgSCGAAABQQwAAAKCCAAQBQQAADAKCAAAYAQAEBDACAAgIYAAAFBDAAAAoIYAAAFBDAAAAoIIABAFBAAAMAoIAABgBAAQEMAIACAhgAAAUEMAAACghgAAAUEMAAACgggAEAUEAAAwCggAAGAEABAQwAgAICGAAABQQwAAAK1hbAKaUKJXLO0lVijNIlKnxWTdNU+KzWUaJOlTo7vUKVCj+QnPNqfunSG5JzrrDT6/wMa3quvQILs9auoETTNM456RJ1NsQYQ4nDqVJnp1eoUuEHUmenr+OXboxZzc+wprV1wAAAPAkEMAAACghgAAAUEMAAACgggAEAUEAAAwCggAAGAEABAQwAgAICGAAABQQwAAAKCGAAABQQwAAAKCCAAQBQQAADAKCAAAYAQAEBDACAAgIYAAAFBDAAAAoIYAAAFBDAAAAoIIABAFBAAAMAoIAABgBAAQEMAIACAhgAAAUEMAAACgjgr5ZSyjlXqCJdosJWVKuyDqv5rFbzA6mwITFG6RIVDlk55wobsj7PtVfg6bHWrqOKMUa6RLUq67Caz6rChqzmB+Kcky5R57OqsCHrQwcMAIACAhgAAAUEMAAACghgAAAUEMAAACgggAEAUEAAAwCggAAGAEABAQwAgAICGAAABQQwAAAKCGAAABQQwAAAKCCAAQBQQAADAKCAAAYAQAEBDACAAgIYAAAFBDAAAAoIYAAAFBDAAAAoIIABAFBAAAMAoIAABgBAAQEMAIACAvirpZRyztJV1lGiTpWUUoUSq9kQ6RJ1qlQokXOusNNjjNIlKnx7c84VNmR9nmuvwNNjra1QxRhToYq0nHOFDamwR+rsdDbkoErU+Q0656RL1PmsKmzI+tABb1eF48s6TiMAQAIBDACAAgIYAAAFBDAAAAoIYAAAFBDAAAAoIIABAFBAAAMAoIAABgBAAQEMAIACAhgAAAUEMAAACghgAAAUEMAAACgggAEAUEAAAwCggAAGAEABAQwAgAICGAAABQQwAAAKCGAAABQQwAAAKCCAAQBQQAADAKCAAAYAQAEBDACAAgL4q6WUcs7SVWKM6yghXSWlFEKQ3iMhhJSSaImU0jp2etM00p9VnRI553X80ut8VhWqrM+zu7s77XVYzDAM+z8BAGuyviM8HTAAAAoIYAAAFBDAAAAoIIABAFBAAAMAoIAABgBAAQEMAIACAhgAAAUEMAAACghgAAAUEMAAACgggAEAUEAAAwCggAAGAEABAQwAgAICGAAABQQwAAAKCGAAABQQwAAAKCCAAQBQQAADAKCAAAYAQAEBDACAAgIYAAAFBDAAAAoI4K8WY6xQJYQgXSKlJF2llJD7xHLOIYQQwjRNOWehKjHGUkWuRNM0oh/U/SrSJVJKoh9UUeGzSilJl2iqbEiMUXqP5JzrHBhX5rn2Cjw9zrmUkrVWtIoxRnT55QfpvZcrUY5foiWMMaLLL5xzTdPknHPOcvvFe59zlv5qee+lS1hrKwSw9A+wTonmf9+up17CGFOhyvoQwN+iwi9T+ttsjJHO+DrHr2oqfGIVSjRV9kuFrahQApDGEDQAAAoIYAAAFBDAAAAoIIABAFBAAAMAoIAABgBAAQEMAIACAhgAAAUEMAAACghgAAAUEMAAACgggAEAUEAAAwCggAAGAEABAQwAgAICGAAABQQwAAAKCGAAABQQwAAAKCCAAQBQQAADAKCAAAYAQAEBDACAAgL4QMUYK1RJKeWcKxQCADxAAB+oOgEcQpAukXMex3GaJulCQtsSQqiwL+pUiTFWON+qdu4oXaLOuSlnwFv2XHsF8GnWWukSIYSu60SX3zSNMabrOmPM4st/ECfzPBtjnHPLVvHe55zLtoQQvPfe+2VL3K+Sc/beS3xcTdM458qHJrEJe9baGOPiO+KBCrmVUpLeiqZpcs5Cu3svpVTheIJv8Ozu7k57HRYzDMP+zyetnN2L/mZKlsgtv8IhuL46x8pGeNenlIwx0hsCLG41R/g9OuBDVOH4KJq+TdOsL32bpqkQWhU6FZoh4EBwDfgQ0Z0AwOoRwAAAKCCAAQBQQAADAKCAAAYAQAEBDACAAgIYAAAFBDAAAAoIYAAAFBDAAAAoIIABAFBAAAMAoIAABgBAAQEMAIACAhgAAAUEMAAACghgAAAUEMAAACgggAEAUEAAAwCggAAGAEABAXygUkp1CuWc6xQCANxHAB+inHPf9xUKxRidcxUKFYQ9AOwRwIfIGFMtgOd5lq6Sc3bOee+NMaKFlh02CCHM8yx90pBzDiHEGEWrNE1Tp0pKqcLgTbXxIUDUc+0VwKdVOMTM8+y9t9bKlYgxxhiNMfM8L5i+6Z79/+mcG4bBWjtN0yK1vPclHUsGG2O89+UfLbgtZbE557LabdsuteQHSpV5nuVKNE1jrS37RfR7Za0NIex3h5AKJZoqo1ApJWOM9OkvvgEBfKBEj19N08QYrbVyVUrv6L3vum7xhT+y5sv22fcTsYTxOI7lL8sezowxXdeVGI4xDsMgcbgsm1NaYbkhFmttOfESzZWS9KI/E++9dIlG/pdepwS+DQG8RTnnlJJQJ5RSCiG0bVv/jFu0tyvpZa2Vy5USw+M4lg9QqIpzTnpcvcLEgjqhUqEKjemWEcBbFGOUO75bayW63gNRIVqkL/+LDnQD+HJMwjpQohefKlzZAgA8jgAGAEABAQwAgAICGAAABQQwAAAKCGAAABQQwAAAKCCAAQBQQAADAKCAAAYAQAEBDACAAgIYAAAFBDAAAAoIYAAAFBDAAAAoIIABAFBAAAMAoIAABgBAAQF8iHLO2qsAAJBFAB+iYRhijHVqTdM0jmOdWgCAPQL4EM3z3HVdhULjOL5584aGGwDqI4APUbWutG3b09NT7710oRij9957X62zfxKmaUopVSg0z3OFKgC+CgF8iJxzdQqN4zhNU4UADiGklJxz0pu2SJ7FGIdhmKZJemyg67oQwjAM0oW89+M4VhjqCCFIl2gW2suAuufaK4BPMMaEEKRzMYTQtq1oiaZp5nkOIfR937atMUauUDn0931vjOm67nvG8MuJQoyxZLAxxnsvdOrQdV3OeZqm8nehj8gY0/f9NE3S50Al6fu+lytRpJSstaIlKvwGm6aJMUqflZYTL9FfH74NAbxdpfeSW34JsLZtlx1OL+v88WHLWrs/Ii9yaN5nVc55nucyiuucs9bGGBe8SF/SscRwOXtYaskPlIZ7nmfRE6+u66Qz2FobQpAO4LKj66SjqDL4JF0F3+DZ3d2d9josphyaRUOlGumjZOkXhU7wc87DMDjn6kwle1Ba9Ew/xtj3/dXV1c8//yxxnT6lVC4Md10ntHdSSuVkQi4jc87e+xCC6L6Ypkn6C1ahz8aXW9MRvuAa8IGSnqwkN7xWrisPw1A/fRv5cbZyVnF5eSmUXtbavu9TSm3bCvVG1tpyjUOu9zLGzPNc4Qq66PKbhYZSgL/CEPSBEg2SeZ6F0rdcV173YUv6uF/SUbTEd14j/xLr/g4Ai6ADPlDS85WEAth7z5EXAL4EAXyg5AI4pVRhkioA4HEMQR8ouRlYdKgAcAjogAEAUEAAAwCggAAGAEABAQwAgAICGAAABQQwAAAKCGAAABQQwAAAKCCAAQBQQAADAKCAAAYAQAEBDACAAgL44Ei/C/aBGGPNcgCAggA+OG3bVgvFGKPQi4EBAI8jgA9LCOH29tZ7XyGDS/re3t7SBANAfQTwYSnjz9banHOFWsaYpuKgd0oppVSnFgAcOAL4sAzDcH197ZyrMDLc971z7vr6uus66VrzPDvnfvzxR7rtvWma6hSa57lOIQBfhQA+ONbamm2itbb0waKMMe/fvz8+Pm7bVrrWU2GMadu2wr7OOdcJ+2qnFMA6EMCHqE4Gp5SstdJVmqaJMU7TdHl5OQyDdK2c83eO3k/T1LbtOI7Su6Bt22mapmmS/li6rnPO9X0vWqVpGudchW672oWMCpeBsHH/V+GYWE25lrmCab0lRV6+fClaZZ7nly9fSleJMfZ9P03Ty5cvnXOitZqm+eOPP/7+97+XA/S3bZpz7p///OcPP/zw22+//fbbb//+979fvHghNEjwww8/lK9r3/cvX7588eKFRJWmaV68ePHixYvffvvNOffDDz/IVfnPf/7zxx9/iH6pjDExRmOM3IYUf/zxR4Uz1Bij3H7fyzlLf1wVrOYIv/dcewXwCd77cRylR2tDCOM4ipYove/ik7xyzuVacllySqkE5P2/fGfYO+fKhxNjLN2w975t23JEzjkvGMnee+/9MAylGxYKe+ectbbv+3Ec5S46OOfK3hE92fLez/Ms/QMxxiy7oz+pQp8dY6wz1oWvRQAfojpD0NIHl2maSnotuMyu68z/lKlqD06Hc87LDrd+MolTSotfWB2GoYwWdF3nvZfYO8aYcRzLuZ1cQJZ0bJpGNIOdcyEE0Wao7Hrpofs6MzAqVME3IIAPlPTZt/QFYIn0bb5gmo8xRuiIeT+Jy/3TX7I+X1timqZxHKdpyjn3fb94wBhjhmEoE+DLLLBll1+Ui+hlWySW3zRN6eattaJf4wqjnRWuy9D+HiwC+ECVE3y5QTbR7qHEkvT4tpbSYZcWXOIkqVwyf/PmTYxRaCBkGIYy+13uC2atnedZ9CSyLF9o4UWFdMSWMQv6QHnvRZ+PIRfA5a7iCvcWKypNpPdeKF2stWdnZ13XCX0HjDHzPHddJ3elo23b/ZNe5DCyiieNDvhAOedEn1kh1JqU64vc7PudPr62/RRLAHgcAXy45C4Dy10ArnCzKQCsA0PQh0vulQzS00cBAJ9FAB8uucvABDAAqGMI+nA554QmYfLMXgBQRwcMAIACAhgAAAUEMAAACghgAAAUEMAAACgggAEAUEAAb1eFNx4CAP4KAbxd5b222msBABtFAG/UNE03NzfDMGivCABsFAG8USV6Ly4uaIIBQAUBvEWl/S1/r9YEk/QAcB8BvEXGmLOzs+Pj4/LW9woVx3GsUwgAngpexrBFbdu2bRtCqNP+dl13cXGx2+0q1HpChF72/HGVnLPQ658BfA864E2rMCycc5Yu8USN41jntVTDMFTYCzFG9jXwVQjgTasQwMYYa+3l5eU4jtK1npZhGGKM0h+LMWYcx77vpdPROVdnFzOZAKtBAENWzjnG6L0XerexhHEc63SN4zgaY6Svjhtj+r7v+160StM0bdvW6elDCBWqkPSQRgBDVmm/6tQKITx79uz7HzDS933XdcMw9H0fY1xo7T6t67q+7733onnvnKuQweUcS/oTs9bWicY6VaQ/LhwyAhiC9u2vaJWUUulZY4xHR0fjOH7/nCNr7X6ZXdeJNnbOuWmauq4TPRY759q2lc7gruvmeZYePChTCEVLVMOF8y0jgCFItP2NMQ7DMAxDCGHfsKaUFhzrLuPD0zRZa/u+349LL94bWWunaRrHcZ7nZZd8X7kQID1K3Pd9hQvbFdpT5xztKUQRwBCUUlq8/d3nbkqp/KXruv39PEI39njvy63MJeadc4snpTFmmqZ5nkUDslxvFi1hjKlwMVh6WKL53x4RLdFwpXnbCGBIKcOqiy/WWltyt23bxRf+2dLjODrnbm9vhUaMyxG/6zq5Eemu60IIIQS5brsMQnRdJzq+Os+z9I3sFb5jPKBmywhgSJnnWeLqb4WHVzzOOXd3d5dzFprXXY7IFxcXcgO54zi2bSt66M85X1xciA7hTtMkPbVeevoCNo4Ahohpmup3qHVUuJ/KGHNycnJxcSHUQeacvfe3t7dyU5n6vr+8vBTtgMtYt9zyAWk8ihIipmlazTzV+va9r1CAWWvneU4piQYk7SPwOAIYyxO6+rtBouPtPCAa0MUQNJZX7p3VXgsAOGgEMJbHY58B4LMIYAAAFBDAAAAoIIC3y1qrfk8tAGwWs6C3q86b4wAAn0QHvDkVXlYDAPgsAnhzymMItdcCALaOAN6cq6urq6sr6ffCAgAeRwBvy/7xkL/++ivXgAFAEQG8Lfefz/zmzRveNw4AWgjgbbmfuCcnJ6IvA88580BKAPgr3Ia0Oaenpykl55z0AyPneb64uOi6jrfiAMDH6IC3ZZ7n8qbeCoPPJeCZ7QUAn0QAb5Fz7urqSrREjPH9+/dN06SUeDHwIWAvAIeGAN6iMiYs2gRbay8vL09OTnLODEE/LudcYUb6PM/SJepsCLAaBPBGnZyciLZExhjvvTGGp259ljFGdDZc0XWddDpW293EPNaBAN4o732Fy8B1qjRN89Rj3nsvPUTsnKuwL6y1FU4m6mDQHtII4I2qcziuYxxH0ZaowoG4QgA3TeOck07Htm3rtKcVTrnqnNUR81tGAG+Uc65MkhJVZ3DVOSc613o1vWOddKzwjsu2bStc0gakEcAb5Zxr5M++K7RcFZREke6HKoRKnWu0dTakQszztmxII4C3a7fbMfz1hZxzIQTR9KpzuK8wFctau46rG3WuC2DLCODtqjBDqsIQdEqpTnQZY6Sjq8IQ8WqG07330n12Skm6RAhhBUNE+GYE8HZVOBZXGILOOZfhdGnee+mnepXeUfoRoc65eZ5Fu/nyWYm2jyGEf/zjH9K30kmf23nveTn3lhHA2+Wcu7m5eeon4HXSt46U0jRN0l3XPM//+Mc/RM+9Yozv3r0Tzfi2bU9PT0Wf8WKMGYZBbvn7KtIlcLAI4O2y1h4fH0s3wU/9Dt2arLUhBOmWaBiGo6Mj0RJt256fn0tHC4/jwFPH25A2rYxCix7xOcH/Ks456Z6+TCgTLdE0DW+iBD6LAN60OsdiHJo1jdsDTxdD0JtWYSL0mh65BQALIoA3zTl3e3srGpC8jwEAPokA3jRjzMnJiWgAe++ttXLLB4AnimvAWyc9RMzLgAHgk+iAt45rtACgggDeipxz27YfX451zl1dXamsEgBsGQG8FTnnd+/eee8fZHAZIuZmJACojADeivLIyffv339869Gff/7JlVoAqIwA3op94/txBvNYBgCojwDeivuJe3t7y7tOAUAXAbwV9y/9Hh8fj+O4+LBz27aEOgB8IQJ4K0oHvNvtmqaZ51niWfk551evXrVt+9RfcQgAFRDAWzGO44cPH0IIpf2VKFFefPTu3bsff/xR+q3yAPDUEcBb4ZwrAdn3vdAr3/eTuU5OTngbHQA8jgDenLZtb29vJV5mXp75vNvtjDG8BvhJ4GIBoIgA3hxr7W63k2iCvfeXl5dlHtYwDIsvf4PmeZbLyL7vRV9UJf0d4BGqeOoI4C3quu7du3eLH3yttWVm9TRN4zgufnyMMQ7DMAyDdHIcgvLo0Bij0LukyjR4uVvAp2mSvgxRIYDrzOpnHGKzCOAtatv26OhIYhS6sNZO0/TJR09/p3Ecf/nll3me1z3EXdKrnG0ILd8Y07atxMKLlJLoayhzzhW+AxXO81JKqz+bxF8hgLeoHHzlArhpmrZtnXPL5odzrkyuLq1b3/darUMIYRiGtm1Lk7rgklNK5cRlnmeh9jSEkHMWbU8rtL8hhHU8PzXGyKPoNov3AW9U13WvXr0S/fFP0+Sc894v2GmVw3r5s6RgSqnrusUP9w+O7zHGGGOJLmNM2a7F29OyOeM4yvWOMcZ5nqVvEpNuf0sJ6Q5Ybvz/vnWP5eBxBPBGee+Pj4/LxVqhEsaYMhC97LFyn7Xe+/Jyp3I503vfdd33HzFzzn3fX1xc/P777yGE0mSXxB3HUehwGWPs+77ve9GJSzFG0T1eVGh/myq5lXOu0GQz/rxlBPB2tW0r3QyVUOy6TujO46ZpjDEltOZ57vu+aZqu6765544xdl33/v37pmlSSn3fi/ZAZULZOI4pJekL2+VMpcIDUiq0v3VUuMAxz/M6BtLxbbgGvF1939/c3MhFY1HSpcJxf38+EWMs48PfcAB1zoUQzs/PT09PvfeiQVImlLVt670vs6KECsUYx3EsSS+a8eWUpUL723WddAdczlekM3iaJjrgLSOAt8tae3JyIh3AjdhdSZ9krR2GIYSwn7H1tYwxXdeVC9iLr95ezrk07ikl6R4ohPCvf/2rwtNRYoy//vprhR0dY5TOrfI1kG7lp2lax2gBvg1D0JvW9/2bN2+kG6MyY7nruppPTihTlKuV+1plBlmd6a/zPL9+/brCUGdK6e3btxU+dunTo6Jc0RDFDKyNe3Z3d6e9DospLQXPYPpyOee//e1v5+fnFYYNyzwp9k59q7koi41b3xGeIehNM8a8fv26zpuLygVaXhhcH+kLHCYCeOvKpN8KEz7LXUld1zHrBAAaAhjSj6V8UMt7X+HSGgAcPgIYTZn0W6dWGYWuMPUaAA4cAYym67qbm5s6V2eNMat5ii8AfA8CGI1zrjyWsk45ay13XwAAAYymaZq+7xkWBoCaCGA0TdO0bXt7e1utCQYAEMBomqax1r5+/ZomGACqIYA35PEHbpTX4VVbGQDYOAJ4Q8ZxdM791XMwyqMi664RAGwXAbwhNzc379+/t9byPEgAUEcAb87t7e2rV6/W9EBzAHiKCOAtOjo6qvMiPADAX+F9wFtRLv0eHR3d3t6W99VrrxEAbBod8FbknM/Pz1NKp6enS71/sG3bZ/cYY3jTEQB8IQJ4K6y1XdcZY/q+v7i4WCQpp2k6Ojra/8++73nGJAB8IQJ4c5xzu91ukSa4vOJ3/z9DCDHG71/sfSGErusqvK4YACojgLeo7/sFR6Ffv37dNM3bt2+ttT/99NMieZlznqbJWvvq1auLiwu5AI4xPtGbsnLO5cWOwzD0fS8x+B9jXPyMSo7c5Q/pb8gT/Qbi+zEJa4vati3Na9d137+0spzyFK0SBj/++OPZ2dm3jUinlMZxnKbp9vb2+9ftETnnYRh+/fXXn3/++fufQLI/hn78l5Jh3zzxLX0k5/z+/fsH/1rbtmUrcs7f8LGHEHLOMcbyZ0rp5uamaZrdbrdIPJQsTymVYZKU0oJXK+Z5DiEYYyRurpvn2Vq7+GLvY+bEZhHAGzUMwzAMiwSwMWb/EGlrbTkaDsMwjmPf9191TJznueu6j6O367r9QdA5tz9274PTGPNV8TZNU9/3pdBnm7xHwvXq6uqR/7BcIN9XeXwN9+GXc95nbUnB+05OTowxP//8c9nk/Z/lnw7DMM/zI1v0IGVTSjHG/Qe+2+2apvHel8Vaax/PnpIcn4zSeM/V1dVut3POOefK49geWeaXK+dqOee2bZca0XmgpK/oLQPzPLdtK7d8HDICeKPatu37PoQg8fhJ730IYZqmYRjKn1+Y9G3bppRKY/rg/9+HyjzP+1j65ZdfPl7I8fHxI2mdcx7H8X5wlrHcrw3XUmW32+2z/8Ffcs5d17179678+/tR9LL88uc+Cz8+59jtdmXe3H7NH99TMcau6+53xveb5lLo/haVNffel5Ob+x/UF4oxtm07TVNZsdLa7jtd51x5uGnf90t1kKW5zzmXkzzn3DAMcvP+KqRvQ/u7bc/u7u6012ExpdniGU9faBiG+8EjZBzHYRjKsfLLwz7G2Pd9CYyjo6O/OkiVXCl/329IibTy9082kZ+1j/B9C/jxXx53v8PeL/PjNSlPRLnfyzafC9pPGobh/rnIycnJPolLibLapcoip1zTNL1586ZpmuPj4xKK7h6JMdtxHEMIZcn78XYh5ZysQvqWKtJD3KuxwiP83YqcnZ2dnZ1pr8WTcX193TTN9fW1dKEPHz6cnZ0dHR3tdruvKnd+fn50dHR6errIarx9+/b4+PiTv4LLy8vLy8tFPorr6+sykPtA2ZCzs7O3b99eXl7++eef31+rlDs5OXlQ6/T0tGzRIiU+dn5+vq91cnLy4cMHoUIfV6xQ6+7u7vXr1xWOJH/++edut6uzReuwviM8Abxpp6enS8XbZ11fX5+enpZ4+PKo+/Dhw1JZVVxeXpbVEDoNvb6+Pj8/LzPD79vtdgtWue/Dhw8PKp6fnwvVul/0999/Pz09lduuB66vry8vL+vE1e+//16hSvmqVCi0Gus7wjMEvWkxxp9++unDhw/VHqCRUuq6rowwKz64o9zmNI7jzc3N8fGxxG1O5VLlOI5lNHip6cSfrTjPcxnwF60F1Le+Izz3AW/agg/l+ELlZYglJ6y1NUvfV54IllK6vLwU+uOEBjsAAAIrSURBVD0bY8qpxvX19du3byucapSK5c5g6VoAvh8BvHULPpTjy3nvY4zjOI7jaK1VfNpDmQYsWsJa2/f9/k4tACgI4K3bP5SjfunyzKzyhOr61QFAFwGM/z6UQ7E6t2EA2CACGE3btuXGR+0VAYANIYDx3xlJzNwBgJoIYDRN03Rdd3V1xVv/AKAaAhhN0zTW2tPTU2bqAkA1vIwB/6UyERoANosOGAAABQQwAAAKCGAAABQQwAAAKCCAAQBQQAADAKCAAAYAQAEBDACAAgIYAAAFBDAAAAoIYAAAFBDAAAAoIICxgBCC9z7G+LX/YYwxhJBzllgrADhka3sbUgiBF8tXllK6uLhommYcR2vtX/07+5cNxxhvb2/v/9PT09O/+g+BykII1lq+kAeonOhrr8WSnt3d3Wmvw2JCCCEE7bXYkHEc70fp0dGRc6783Riz/zvwhJTxGGOM9orgE7z3a8rgVQUwKss5T9M0juPNzU3TNJeXl2v6bQCAKAIYC5imaZ7nR4agAQAPEMAAAChgFjQAAAoIYAAAFBDAAAAoIIABAFBAAAMAoIAABgBAAQEMAIACAhgAAAUEMAAACghgAAAUEMAAACgggAEAUEAAAwCggAAGAEABAQwAgAICGAAABQQwAAAKCGAAABQQwAAAKCCAAQBQQAADAKCAAAYAQAEBDACAAgIYAAAFBDAAAAoIYAAAFBDAAAAoIIABAFBAAAMAoIAABgBAwf8HIE/MhPU1pBIAAAAASUVORK5CYII='>"
      ],
      "text/plain": [
       "<IPython.core.display.HTML object>"
      ]
     },
     "metadata": {},
     "output_type": "display_data"
    }
   ],
   "source": [
    "planetengine.quickShow(system.velocityField)"
   ]
  },
  {
   "cell_type": "code",
   "execution_count": null,
   "metadata": {},
   "outputs": [],
   "source": [
    "myBuilts_load"
   ]
  }
 ],
 "metadata": {
  "kernelspec": {
   "display_name": "Python 3",
   "language": "python",
   "name": "python3"
  },
  "language_info": {
   "codemirror_mode": {
    "name": "ipython",
    "version": 3
   },
   "file_extension": ".py",
   "mimetype": "text/x-python",
   "name": "python",
   "nbconvert_exporter": "python",
   "pygments_lexer": "ipython3",
   "version": "3.5.3"
  }
 },
 "nbformat": 4,
 "nbformat_minor": 2
}
