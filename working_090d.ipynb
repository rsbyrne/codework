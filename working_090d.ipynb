{
 "cells": [
  {
   "cell_type": "code",
   "execution_count": 1,
   "metadata": {},
   "outputs": [],
   "source": [
    "import sys\n",
    "import os\n",
    "workPath = os.path.abspath('..')\n",
    "if not workPath in sys.path:\n",
    "    sys.path.append(workPath)"
   ]
  },
  {
   "cell_type": "code",
   "execution_count": 2,
   "metadata": {},
   "outputs": [],
   "source": [
    "from everest.builts.iterator import ExampleIterator\n",
    "from everest.builts import get"
   ]
  },
  {
   "cell_type": "code",
   "execution_count": 3,
   "metadata": {},
   "outputs": [],
   "source": [
    "gotten = get(ExampleIterator, path = '..')"
   ]
  },
  {
   "cell_type": "code",
   "execution_count": 4,
   "metadata": {},
   "outputs": [
    {
     "data": {
      "text/plain": [
       "'veunoogle-ugrieheisa'"
      ]
     },
     "execution_count": 4,
     "metadata": {},
     "output_type": "execute_result"
    }
   ],
   "source": [
    "gotten.hashID"
   ]
  },
  {
   "cell_type": "code",
   "execution_count": 5,
   "metadata": {},
   "outputs": [],
   "source": [
    "import h5py"
   ]
  },
  {
   "cell_type": "code",
   "execution_count": 6,
   "metadata": {},
   "outputs": [],
   "source": [
    "myfile = h5py.File('../test.frm')"
   ]
  },
  {
   "cell_type": "code",
   "execution_count": 7,
   "metadata": {},
   "outputs": [
    {
     "data": {
      "text/plain": [
       "<KeysViewHDF5 ['_globals_', 'veunoogle-ugrieheisa']>"
      ]
     },
     "execution_count": 7,
     "metadata": {},
     "output_type": "execute_result"
    }
   ],
   "source": [
    "myfile.keys()"
   ]
  },
  {
   "cell_type": "code",
   "execution_count": 8,
   "metadata": {},
   "outputs": [
    {
     "data": {
      "text/plain": [
       "<HDF5 group \"/_globals_\" (1 members)>"
      ]
     },
     "execution_count": 8,
     "metadata": {},
     "output_type": "execute_result"
    }
   ],
   "source": [
    "myfile['_globals_']"
   ]
  },
  {
   "cell_type": "code",
   "execution_count": 9,
   "metadata": {},
   "outputs": [
    {
     "data": {
      "text/plain": [
       "<KeysViewHDF5 ['_classes_']>"
      ]
     },
     "execution_count": 9,
     "metadata": {},
     "output_type": "execute_result"
    }
   ],
   "source": [
    "myfile['_globals_'].keys()"
   ]
  },
  {
   "cell_type": "code",
   "execution_count": 10,
   "metadata": {},
   "outputs": [
    {
     "data": {
      "text/plain": [
       "'from everest import disk\\nfrom everest.builts.producer import Producer\\n\\nclass Iterator(Producer):\\n\\n    def __init__(self, initialiseFn, iterateFn, outFn, outkeys, loadFn, **kwargs):\\n        self.initialise = lambda: self._initialise_wrap(\\n            initialiseFn,\\n            )\\n        self.iterate = lambda n = 1: self._iterate_wrap(\\n            iterateFn,\\n            n,\\n            )\\n        self.load = lambda count: self._load_wrap(\\n            loadFn,\\n            count\\n            )\\n        self.reset = self.initialise\\n        super().__init__(outFn, outkeys, **kwargs)\\n        self.initialise()\\n\\n    def _initialise_wrap(self, initialise):\\n        self.count.value = 0\\n        initialise()\\n\\n    def _iterate_wrap(self, iterate, n):\\n        for i in range(n):\\n            self.count.value += 1\\n            iterate()\\n            if any(self.consignments):\\n                self.store()\\n\\n    def _load_wrap(self, load, count):\\n        if not self.count() == count:\\n            loadDict = self._load_dataDict(count)\\n            load(loadDict)\\n            self.count.value = count\\n\\n    def _load_dataDict(self, count):\\n        if count in self.counts_stored:\\n            return self._load_dataDict_stored(count)\\n        else:\\n            return self._load_dataDict_saved(count)\\n\\n    def _load_dataDict_stored(self, count):\\n        storedDict = {\\n            count: data for count, data in self.stored\\n            }\\n        loadData = storedDict[count]\\n        loadDict = {\\n            outkey: data \\\\\\n                for outkey, data in zip(\\n                    self.outkeys,\\n                    loadData\\n                    )\\n            }\\n        return loadDict\\n\\n    @disk.h5filewrap\\n    def _load_dataDict_saved(self, count):\\n        self._check_anchored()\\n        # self.save()\\n        loadDict = {}\\n        counts = self.h5file[self.hashID][\\'outs\\'][\\'_counts_\\']\\n        iterNo = 0\\n        while True:\\n            if iterNo >= len(counts):\\n                raise Exception(\"Count not found!\")\\n            if counts[iterNo] == count:\\n                break\\n            iterNo += 1\\n        loadDict = {}\\n        for key in self.outkeys:\\n            loadData = self.h5file[self.hashID][\\'outs\\'][key][iterNo]\\n            loadDict[key] = loadData\\n        return loadDict\\n\\n### EXAMPLE ###\\n\\nfrom everest.value import Value\\n\\nclass ExampleIterator(Iterator):\\n    # Implements the Bailey-Borwein-Plouffe formula;\\n    # default args yield pi.\\n    def __init__(\\n            self,\\n            s : int = 1,\\n            b : int = 16,\\n            A : list = [4, 0, 0, -2, -1, -1, 0, 0]\\n            ):\\n        self.state = Value(0.)\\n        self.kth = lambda k: 1. / b **k * sum([a / (len(A) * k + (j + 1))**s for j, a in enumerate(A)])\\n        super().__init__(\\n            self.initialise,\\n            self.iterate,\\n            self.out,\\n            [\\'pi\\',],\\n            self.load\\n            )\\n    def out(self):\\n        return [self.state.value,]\\n    def initialise(self):\\n        self.state.value = self.kth(0)\\n    def iterate(self):\\n        kthVal = self.kth(self.count.value)\\n        self.state.value += kthVal\\n    def load(self, loadDict):\\n        self.state.value = loadDict[\\'pi\\']\\n\\nCLASS = ExampleIterator\\nbuild = CLASS.build\\n'"
      ]
     },
     "execution_count": 10,
     "metadata": {},
     "output_type": "execute_result"
    }
   ],
   "source": [
    "myfile['_globals_']['_classes_'].attrs['182021681667765640610376869253316224471']"
   ]
  },
  {
   "cell_type": "code",
   "execution_count": null,
   "metadata": {},
   "outputs": [],
   "source": []
  }
 ],
 "metadata": {
  "kernelspec": {
   "display_name": "Python 3",
   "language": "python",
   "name": "python3"
  },
  "language_info": {
   "codemirror_mode": {
    "name": "ipython",
    "version": 3
   },
   "file_extension": ".py",
   "mimetype": "text/x-python",
   "name": "python",
   "nbconvert_exporter": "python",
   "pygments_lexer": "ipython3",
   "version": "3.5.3"
  }
 },
 "nbformat": 4,
 "nbformat_minor": 2
}
