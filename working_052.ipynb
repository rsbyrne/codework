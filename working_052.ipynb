{
 "cells": [
  {
   "cell_type": "code",
   "execution_count": 1,
   "metadata": {},
   "outputs": [],
   "source": [
    "import sys\n",
    "workPath = '/home/jovyan/workspace'\n",
    "if not workPath in sys.path:\n",
    "    sys.path.append(workPath)"
   ]
  },
  {
   "cell_type": "code",
   "execution_count": 2,
   "metadata": {},
   "outputs": [],
   "source": [
    "import planetengine"
   ]
  },
  {
   "cell_type": "code",
   "execution_count": null,
   "metadata": {},
   "outputs": [],
   "source": [
    "planetengine.paths.delete_testdir()"
   ]
  },
  {
   "cell_type": "code",
   "execution_count": 3,
   "metadata": {},
   "outputs": [],
   "source": [
    "system = planetengine.systems.arrhenius.build(\n",
    "    planetengine.systems.isovisc.build(),\n",
    "    Ra = 3e5,\n",
    "    res = 16,\n",
    "    f = 0.5\n",
    "    )\n",
    "initials = {\n",
    "    'temperatureField': planetengine.initials.sinusoidal.build(\n",
    "        planetengine.initials.sinusoidal.build(\n",
    "            freq = 2,\n",
    "            pert = 0.4\n",
    "            )\n",
    "        )\n",
    "    }"
   ]
  },
  {
   "cell_type": "code",
   "execution_count": 4,
   "metadata": {},
   "outputs": [
    {
     "name": "stdout",
     "output_type": "stream",
     "text": [
      "Preexisting model found! Loading...\n",
      "/home/jovyan/workspace/out/test/pemod_calcinatory-oophoron\n",
      "Tar found - unarchiving...\n",
      "Unarchived.\n",
      "Building model...\n",
      "Fitted 1 variables to the figure.\n",
      "Initialising...\n",
      "Initialisation complete!\n",
      "Found checkpoint: 00000001\n",
      "Making a local archive...\n",
      "Archiving...\n",
      "Deleting model directory...\n",
      "Model directory deleted.\n",
      "Archived!\n",
      "Frame built!\n"
     ]
    }
   ],
   "source": [
    "model = planetengine.model.make_model(\n",
    "    system,\n",
    "    initials,\n",
    "    outputPath = planetengine.paths.testPath\n",
    "    )"
   ]
  },
  {
   "cell_type": "code",
   "execution_count": 5,
   "metadata": {},
   "outputs": [
    {
     "name": "stdout",
     "output_type": "stream",
     "text": [
      "Iterating step 0 ...\n",
      "Iteration complete!\n"
     ]
    }
   ],
   "source": [
    "model.iterate()"
   ]
  },
  {
   "cell_type": "code",
   "execution_count": null,
   "metadata": {},
   "outputs": [],
   "source": [
    "model.checkpoint()"
   ]
  }
 ],
 "metadata": {
  "kernelspec": {
   "display_name": "Python 3",
   "language": "python",
   "name": "python3"
  },
  "language_info": {
   "codemirror_mode": {
    "name": "ipython",
    "version": 3
   },
   "file_extension": ".py",
   "mimetype": "text/x-python",
   "name": "python",
   "nbconvert_exporter": "python",
   "pygments_lexer": "ipython3",
   "version": "3.5.3"
  }
 },
 "nbformat": 4,
 "nbformat_minor": 2
}
