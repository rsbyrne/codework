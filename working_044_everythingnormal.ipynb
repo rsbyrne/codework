{
 "cells": [
  {
   "cell_type": "code",
   "execution_count": 1,
   "metadata": {},
   "outputs": [],
   "source": [
    "import sys\n",
    "workPath = '/home/jovyan/workspace'\n",
    "if not workPath in sys.path:\n",
    "    sys.path.append(workPath)"
   ]
  },
  {
   "cell_type": "code",
   "execution_count": 2,
   "metadata": {},
   "outputs": [],
   "source": [
    "import planetengine"
   ]
  },
  {
   "cell_type": "code",
   "execution_count": 3,
   "metadata": {},
   "outputs": [],
   "source": [
    "planetengine.paths.delete_testdir()"
   ]
  },
  {
   "cell_type": "code",
   "execution_count": 4,
   "metadata": {},
   "outputs": [
    {
     "name": "stdout",
     "output_type": "stream",
     "text": [
      "Making a new frame...\n",
      "Building model...\n",
      "Fitted 0 variables to the figure.\n",
      "Initialising...\n",
      "Initialisation complete!\n",
      "Making a local archive...\n",
      "Nothing to archive yet!\n",
      "Frame built!\n"
     ]
    }
   ],
   "source": [
    "builts = {\n",
    "    'system': planetengine.systems.arrhenius.build(res = 16, f = 0.5),\n",
    "    'temperatureField': planetengine.initials.sinusoidal.build()\n",
    "    }\n",
    "model = planetengine.frames.make_frame(\n",
    "    'model',\n",
    "    builts,\n",
    "    outputPath = planetengine.paths.testPath\n",
    "    )"
   ]
  },
  {
   "cell_type": "code",
   "execution_count": 5,
   "metadata": {},
   "outputs": [
    {
     "name": "stdout",
     "output_type": "stream",
     "text": [
      "Collecting...\n",
      "Collecting complete!\n",
      "No pre-existing directory for this model found. Making a new one...\n",
      "Checkpointing...\n",
      "Making checkpoint directory.\n",
      "Saving figures...\n",
      "Figures saved.\n",
      "Saving vars of state...\n",
      "Saving substrate to disk: mesh\n",
      "Saving var to disk: temperatureField\n",
      "Saved.\n",
      "Saving snapshot...\n",
      "Snapshot saved.\n",
      "Saving modeltime...\n",
      "Modeltime saved.\n",
      "Saving stamps...\n",
      "Stamps saved.\n",
      "Saving datasets...\n",
      "Datasets saved.\n",
      "Checkpointed!\n",
      "Clearing all data...\n",
      "All data cleared!\n",
      "Making a local archive...\n",
      "Archiving...\n",
      "Deleting model directory...\n",
      "Model directory deleted.\n",
      "Archived!\n",
      "Making a backup...\n",
      "Forking model to new directory...\n",
      "Model forked to directory: /home/jovyan/workspace/out/test/backup\n",
      "Backup saved.\n"
     ]
    }
   ],
   "source": [
    "model.checkpoint()"
   ]
  },
  {
   "cell_type": "code",
   "execution_count": 6,
   "metadata": {},
   "outputs": [
    {
     "name": "stdout",
     "output_type": "stream",
     "text": [
      "Unarchiving the local archive...\n",
      "Unarchiving...\n",
      "Unarchiving the local archive...\n",
      "Deleting archive...\n",
      "Model directory deleted.\n",
      "Unarchived!\n"
     ]
    }
   ],
   "source": [
    "model.unarchive()"
   ]
  },
  {
   "cell_type": "code",
   "execution_count": 7,
   "metadata": {},
   "outputs": [
    {
     "name": "stdout",
     "output_type": "stream",
     "text": [
      "/home/jovyan/workspace/out/test/pemod_unruledly-echuca\n",
      "Building model...\n",
      "Fitted 0 variables to the figure.\n",
      "Initialising...\n",
      "Initialisation complete!\n",
      "Found checkpoint: 00000000\n",
      "Making a local archive...\n",
      "Archiving...\n",
      "Deleting model directory...\n",
      "Model directory deleted.\n",
      "Archived!\n",
      "Frame built!\n"
     ]
    }
   ],
   "source": [
    "model2 = planetengine.frames.load_frame(planetengine.paths.testPath, model.instanceID)"
   ]
  },
  {
   "cell_type": "code",
   "execution_count": 8,
   "metadata": {},
   "outputs": [
    {
     "name": "stdout",
     "output_type": "stream",
     "text": [
      "Iterating step 0 ...\n",
      "Iteration complete!\n"
     ]
    }
   ],
   "source": [
    "model2.iterate()"
   ]
  },
  {
   "cell_type": "code",
   "execution_count": 9,
   "metadata": {},
   "outputs": [
    {
     "name": "stdout",
     "output_type": "stream",
     "text": [
      "Collecting...\n",
      "Collecting complete!\n",
      "Unarchiving the local archive...\n",
      "Unarchiving...\n",
      "Unarchiving the local archive...\n",
      "Deleting archive...\n",
      "Model directory deleted.\n",
      "Unarchived!\n",
      "Pre-existing directory for this model has been found. Continuing...\n",
      "Checkpointing...\n",
      "Making checkpoint directory.\n",
      "Saving figures...\n",
      "Figures saved.\n",
      "Saving vars of state...\n",
      "Saving substrate to disk: mesh\n",
      "Saving var to disk: temperatureField\n",
      "Saved.\n",
      "Saving snapshot...\n",
      "Snapshot saved.\n",
      "Saving modeltime...\n",
      "Modeltime saved.\n",
      "Saving stamps...\n",
      "Stamps saved.\n",
      "Saving datasets...\n",
      "Datasets saved.\n",
      "Checkpointed!\n",
      "Clearing all data...\n",
      "All data cleared!\n",
      "Making a local archive...\n",
      "Archiving...\n",
      "Deleting model directory...\n",
      "Model directory deleted.\n",
      "Archived!\n",
      "Making a backup...\n",
      "Forking model to new directory...\n",
      "Model forked to directory: /home/jovyan/workspace/out/test/backup\n",
      "Backup saved.\n"
     ]
    }
   ],
   "source": [
    "model2.checkpoint()"
   ]
  },
  {
   "cell_type": "code",
   "execution_count": 10,
   "metadata": {},
   "outputs": [
    {
     "name": "stdout",
     "output_type": "stream",
     "text": [
      "Unarchiving the local archive...\n",
      "Unarchiving...\n",
      "Unarchiving the local archive...\n",
      "Deleting archive...\n",
      "Model directory deleted.\n",
      "Unarchived!\n"
     ]
    }
   ],
   "source": [
    "model2.unarchive()"
   ]
  },
  {
   "cell_type": "code",
   "execution_count": 11,
   "metadata": {},
   "outputs": [
    {
     "name": "stdout",
     "output_type": "stream",
     "text": [
      "Making a local archive...\n",
      "Archiving...\n",
      "Deleting model directory...\n",
      "Model directory deleted.\n",
      "Archived!\n"
     ]
    }
   ],
   "source": [
    "model2.archive()"
   ]
  },
  {
   "cell_type": "code",
   "execution_count": 12,
   "metadata": {},
   "outputs": [
    {
     "name": "stdout",
     "output_type": "stream",
     "text": [
      "Iterating step 1 ...\n",
      "Iteration complete!\n"
     ]
    }
   ],
   "source": [
    "model2.iterate()"
   ]
  },
  {
   "cell_type": "code",
   "execution_count": 13,
   "metadata": {},
   "outputs": [
    {
     "data": {
      "text/plain": [
       "2"
      ]
     },
     "execution_count": 13,
     "metadata": {},
     "output_type": "execute_result"
    }
   ],
   "source": [
    "model2.step"
   ]
  },
  {
   "cell_type": "code",
   "execution_count": 14,
   "metadata": {},
   "outputs": [
    {
     "name": "stdout",
     "output_type": "stream",
     "text": [
      "Collecting...\n",
      "Collecting complete!\n",
      "Unarchiving the local archive...\n",
      "Unarchiving...\n",
      "Unarchiving the local archive...\n",
      "Deleting archive...\n",
      "Model directory deleted.\n",
      "Unarchived!\n",
      "Pre-existing directory for this model has been found. Continuing...\n",
      "Checkpointing...\n",
      "Making checkpoint directory.\n",
      "Saving figures...\n",
      "Figures saved.\n",
      "Saving vars of state...\n",
      "Saving substrate to disk: mesh\n",
      "Saving var to disk: temperatureField\n",
      "Saved.\n",
      "Saving snapshot...\n",
      "Snapshot saved.\n",
      "Saving modeltime...\n",
      "Modeltime saved.\n",
      "Saving stamps...\n",
      "Stamps saved.\n",
      "Saving datasets...\n",
      "Datasets saved.\n",
      "Checkpointed!\n",
      "Clearing all data...\n",
      "All data cleared!\n",
      "Making a local archive...\n",
      "Archiving...\n",
      "Deleting model directory...\n",
      "Model directory deleted.\n",
      "Archived!\n",
      "Making a backup...\n",
      "Forking model to new directory...\n",
      "Model forked to directory: /home/jovyan/workspace/out/test/backup\n",
      "Backup saved.\n"
     ]
    }
   ],
   "source": [
    "model2.checkpoint()"
   ]
  },
  {
   "cell_type": "code",
   "execution_count": 15,
   "metadata": {},
   "outputs": [
    {
     "name": "stdout",
     "output_type": "stream",
     "text": [
      "Unarchiving the local archive...\n",
      "Unarchiving...\n",
      "Unarchiving the local archive...\n",
      "Deleting archive...\n",
      "Model directory deleted.\n",
      "Unarchived!\n"
     ]
    }
   ],
   "source": [
    "model2.unarchive()"
   ]
  }
 ],
 "metadata": {
  "kernelspec": {
   "display_name": "Python 3",
   "language": "python",
   "name": "python3"
  },
  "language_info": {
   "codemirror_mode": {
    "name": "ipython",
    "version": 3
   },
   "file_extension": ".py",
   "mimetype": "text/x-python",
   "name": "python",
   "nbconvert_exporter": "python",
   "pygments_lexer": "ipython3",
   "version": "3.5.3"
  }
 },
 "nbformat": 4,
 "nbformat_minor": 2
}
