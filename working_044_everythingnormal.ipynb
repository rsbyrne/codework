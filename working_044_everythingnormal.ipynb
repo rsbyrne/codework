{
 "cells": [
  {
   "cell_type": "code",
   "execution_count": 1,
   "metadata": {},
   "outputs": [],
   "source": [
    "import sys\n",
    "sys.path.append('/home/jovyan/workspace')"
   ]
  },
  {
   "cell_type": "code",
   "execution_count": 2,
   "metadata": {},
   "outputs": [],
   "source": [
    "%%sh\n",
    "rm -rf '../data/test'"
   ]
  },
  {
   "cell_type": "code",
   "execution_count": 3,
   "metadata": {},
   "outputs": [],
   "source": [
    "import planetengine\n",
    "import underworld as uw\n",
    "from underworld import function as fn"
   ]
  },
  {
   "cell_type": "code",
   "execution_count": 4,
   "metadata": {},
   "outputs": [
    {
     "name": "stdout",
     "output_type": "stream",
     "text": [
      "Making stamps...\n",
      "Stamps made.\n",
      "Making a new frame...\n",
      "Building frame...\n",
      "Making stamps...\n",
      "Stamps made.\n",
      "Loading interior frames...\n",
      "Loaded 0 interior frames.\n",
      "Fitted 0 variables to the figure.\n",
      "Initialising...\n",
      "Initialisation complete!\n",
      "Frame built!\n"
     ]
    }
   ],
   "source": [
    "model = planetengine.frame.make_frame(\n",
    "    planetengine.systems.arrhenius.build(res = 16, f = 1.),\n",
    "    {'temperatureField': planetengine.initials.sinusoidal.IC()},\n",
    "    outputPath = '../data/test'\n",
    "    )"
   ]
  },
  {
   "cell_type": "code",
   "execution_count": 5,
   "metadata": {},
   "outputs": [
    {
     "name": "stdout",
     "output_type": "stream",
     "text": [
      "Collecting...\n",
      "Collecting complete!\n",
      "No pre-existing directory for this model found. Making a new one...\n",
      "Checkpointing...\n",
      "Making checkpoint directory.\n",
      "Saving figures...\n",
      "Figures saved.\n",
      "Saving vars of state...\n",
      "Saving substrate to disk: mesh\n",
      "Saving var to disk: temperatureField\n",
      "Saved.\n",
      "Saving snapshot...\n",
      "Snapshot saved.\n",
      "Saving modeltime...\n",
      "Modeltime saved.\n",
      "Saving stamps...\n",
      "Stamps saved.\n",
      "Saving datasets...\n",
      "Datasets saved.\n",
      "Checkpointed!\n",
      "Clearing all data...\n",
      "All data cleared!\n",
      "Archiving...\n",
      "Making a local archive...\n",
      "Deleting model directory...\n",
      "Model directory deleted.\n",
      "Archived!\n",
      "Making a backup...\n",
      "Forking model to new directory...\n",
      "Model forked to directory: ../data/test/backup\n",
      "Backup saved.\n"
     ]
    }
   ],
   "source": [
    "model.checkpoint()"
   ]
  },
  {
   "cell_type": "code",
   "execution_count": 6,
   "metadata": {},
   "outputs": [
    {
     "name": "stdout",
     "output_type": "stream",
     "text": [
      "Making stamps...\n",
      "Stamps made.\n",
      "Preexisting frame found! Loading...\n",
      "Tar found - unarchiving...\n",
      "Unarchived.\n",
      "Building frame...\n",
      "Making stamps...\n",
      "Stamps made.\n",
      "Loading interior frames...\n",
      "Loaded 0 interior frames.\n",
      "Fitted 0 variables to the figure.\n",
      "Initialising...\n",
      "Initialisation complete!\n",
      "Frame built!\n",
      "Found checkpoint: 00000000\n",
      "Archiving...\n",
      "Making a local archive...\n",
      "Deleting model directory...\n",
      "Model directory deleted.\n",
      "Archived!\n"
     ]
    }
   ],
   "source": [
    "model2 = planetengine.frame.make_frame(\n",
    "    planetengine.systems.arrhenius.build(res = 16, f = 1.),\n",
    "    {'temperatureField': planetengine.initials.sinusoidal.IC()},\n",
    "    outputPath = '../data/test'\n",
    "    )"
   ]
  },
  {
   "cell_type": "code",
   "execution_count": 7,
   "metadata": {},
   "outputs": [
    {
     "name": "stdout",
     "output_type": "stream",
     "text": [
      "Iterating step 0 ...\n",
      "Iteration complete!\n"
     ]
    }
   ],
   "source": [
    "model2.iterate()"
   ]
  },
  {
   "cell_type": "code",
   "execution_count": 8,
   "metadata": {},
   "outputs": [
    {
     "name": "stdout",
     "output_type": "stream",
     "text": [
      "Unarchiving...\n",
      "Unarchiving the local archive...\n",
      "Deleting archive...\n",
      "Model directory deleted.\n",
      "Unarchived!\n",
      "Collecting...\n",
      "Collecting complete!\n",
      "Pre-existing directory for this model has been found. Continuing...\n",
      "Checkpointing...\n",
      "Making checkpoint directory.\n",
      "Saving figures...\n",
      "Figures saved.\n",
      "Saving vars of state...\n",
      "Saving substrate to disk: mesh\n",
      "Saving var to disk: temperatureField\n",
      "Saved.\n",
      "Saving snapshot...\n",
      "Snapshot saved.\n",
      "Saving modeltime...\n",
      "Modeltime saved.\n",
      "Saving stamps...\n",
      "Stamps saved.\n",
      "Saving datasets...\n",
      "Datasets saved.\n",
      "Checkpointed!\n",
      "Clearing all data...\n",
      "All data cleared!\n",
      "Archiving...\n",
      "Making a local archive...\n",
      "Deleting model directory...\n",
      "Model directory deleted.\n",
      "Archived!\n",
      "Making a backup...\n",
      "Forking model to new directory...\n",
      "Model forked to directory: ../data/test/backup\n",
      "Backup saved.\n"
     ]
    }
   ],
   "source": [
    "model2.checkpoint()"
   ]
  },
  {
   "cell_type": "code",
   "execution_count": null,
   "metadata": {},
   "outputs": [],
   "source": []
  }
 ],
 "metadata": {
  "kernelspec": {
   "display_name": "Python 3",
   "language": "python",
   "name": "python3"
  },
  "language_info": {
   "codemirror_mode": {
    "name": "ipython",
    "version": 3
   },
   "file_extension": ".py",
   "mimetype": "text/x-python",
   "name": "python",
   "nbconvert_exporter": "python",
   "pygments_lexer": "ipython3",
   "version": "3.5.3"
  }
 },
 "nbformat": 4,
 "nbformat_minor": 2
}
