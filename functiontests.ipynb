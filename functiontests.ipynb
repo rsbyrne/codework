{
 "cells": [
  {
   "cell_type": "code",
   "execution_count": 1,
   "metadata": {},
   "outputs": [],
   "source": [
    "import sys\n",
    "sys.path.append('/home/jovyan/workspace')"
   ]
  },
  {
   "cell_type": "code",
   "execution_count": 2,
   "metadata": {},
   "outputs": [],
   "source": [
    "# %%sh\n",
    "# rm -rf '../data/test'"
   ]
  },
  {
   "cell_type": "code",
   "execution_count": 3,
   "metadata": {},
   "outputs": [],
   "source": [
    "import planetengine\n",
    "from planetengine import functions as pfn\n",
    "from planetengine import quickShow"
   ]
  },
  {
   "cell_type": "code",
   "execution_count": 7,
   "metadata": {},
   "outputs": [],
   "source": [
    "system = planetengine.systems.arrhenius.build(res = 16)\n",
    "planetengine.initials.apply(\n",
    "    {'temperatureField': planetengine.initials.sinusoidal.IC(freq = 2.)},\n",
    "    system,\n",
    "    )\n",
    "system.solve()"
   ]
  },
  {
   "cell_type": "code",
   "execution_count": 8,
   "metadata": {},
   "outputs": [],
   "source": [
    "obsVars = pfn.convert(system.obsVars)\n",
    "temperature = obsVars['temperature']\n",
    "velocity = obsVars['velocity']\n",
    "stress = obsVars['stress']"
   ]
  },
  {
   "cell_type": "code",
   "execution_count": 9,
   "metadata": {},
   "outputs": [],
   "source": [
    "xvel, yvel = pfn.Split.getall(velocity)\n",
    "remerged = pfn.Merge(xvel, yvel)\n",
    "assert (remerged / velocity).evaluate().all()"
   ]
  },
  {
   "cell_type": "code",
   "execution_count": null,
   "metadata": {},
   "outputs": [],
   "source": []
  }
 ],
 "metadata": {
  "kernelspec": {
   "display_name": "Python 3",
   "language": "python",
   "name": "python3"
  },
  "language_info": {
   "codemirror_mode": {
    "name": "ipython",
    "version": 3
   },
   "file_extension": ".py",
   "mimetype": "text/x-python",
   "name": "python",
   "nbconvert_exporter": "python",
   "pygments_lexer": "ipython3",
   "version": "3.5.3"
  }
 },
 "nbformat": 4,
 "nbformat_minor": 2
}
