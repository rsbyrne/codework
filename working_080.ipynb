{
 "cells": [
  {
   "cell_type": "code",
   "execution_count": 1,
   "metadata": {},
   "outputs": [],
   "source": [
    "import sys\n",
    "import os\n",
    "workPath = os.path.abspath('..')\n",
    "if not workPath in sys.path:\n",
    "    sys.path.append(workPath)"
   ]
  },
  {
   "cell_type": "code",
   "execution_count": 2,
   "metadata": {},
   "outputs": [],
   "source": [
    "import planetengine\n",
    "import everest\n",
    "Fetch = everest.window.Fetch\n",
    "Reader = everest.window.Reader\n",
    "Scope = everest.window.Scope"
   ]
  },
  {
   "cell_type": "code",
   "execution_count": 3,
   "metadata": {},
   "outputs": [],
   "source": [
    "outputPath = '../out'\n",
    "frameName = 'dev'"
   ]
  },
  {
   "cell_type": "code",
   "execution_count": 4,
   "metadata": {},
   "outputs": [],
   "source": [
    "myreader = Reader(everest.frame.get_framepath(frameName, outputPath))"
   ]
  },
  {
   "cell_type": "code",
   "execution_count": 5,
   "metadata": {},
   "outputs": [],
   "source": [
    "out = myreader['*/*/Ra']"
   ]
  },
  {
   "cell_type": "code",
   "execution_count": 6,
   "metadata": {},
   "outputs": [
    {
     "data": {
      "text/plain": [
       "{'eploiyeize-idreikwaespa/inputs': 10000.0,\n",
       " 'eshaiyooca-apleoputu/inputs': 10000.0,\n",
       " 'oyuukreikli-akwoefluexi/inputs': 10000.0,\n",
       " 'swiaphoedro-umuinupru/inputs': 10000.0,\n",
       " 'ufriigloodra-spuableisli/inputs': 10000000.0,\n",
       " 'yeigleigo-ibloasnietha/inputs': 10000.0}"
      ]
     },
     "execution_count": 6,
     "metadata": {},
     "output_type": "execute_result"
    }
   ],
   "source": [
    "out"
   ]
  },
  {
   "cell_type": "code",
   "execution_count": 7,
   "metadata": {},
   "outputs": [],
   "source": [
    "myfetch = Fetch('*/*/Ra')"
   ]
  },
  {
   "cell_type": "code",
   "execution_count": 8,
   "metadata": {},
   "outputs": [],
   "source": [
    "out = myreader[myfetch]"
   ]
  },
  {
   "cell_type": "code",
   "execution_count": 9,
   "metadata": {},
   "outputs": [
    {
     "data": {
      "text/plain": [
       "{'eploiyeize-idreikwaespa/inputs': 10000.0,\n",
       " 'eshaiyooca-apleoputu/inputs': 10000.0,\n",
       " 'oyuukreikli-akwoefluexi/inputs': 10000.0,\n",
       " 'swiaphoedro-umuinupru/inputs': 10000.0,\n",
       " 'ufriigloodra-spuableisli/inputs': 10000000.0,\n",
       " 'yeigleigo-ibloasnietha/inputs': 10000.0}"
      ]
     },
     "execution_count": 9,
     "metadata": {},
     "output_type": "execute_result"
    }
   ],
   "source": [
    "out"
   ]
  },
  {
   "cell_type": "code",
   "execution_count": 10,
   "metadata": {},
   "outputs": [],
   "source": [
    "myfetch2 = myfetch * 2"
   ]
  },
  {
   "cell_type": "code",
   "execution_count": 11,
   "metadata": {},
   "outputs": [
    {
     "data": {
      "text/plain": [
       "{'eploiyeize-idreikwaespa/inputs': 20000.0,\n",
       " 'eshaiyooca-apleoputu/inputs': 20000.0,\n",
       " 'oyuukreikli-akwoefluexi/inputs': 20000.0,\n",
       " 'swiaphoedro-umuinupru/inputs': 20000.0,\n",
       " 'ufriigloodra-spuableisli/inputs': 20000000.0,\n",
       " 'yeigleigo-ibloasnietha/inputs': 20000.0}"
      ]
     },
     "execution_count": 11,
     "metadata": {},
     "output_type": "execute_result"
    }
   ],
   "source": [
    "myreader[myfetch2]"
   ]
  },
  {
   "cell_type": "code",
   "execution_count": 12,
   "metadata": {},
   "outputs": [],
   "source": [
    "myfetch3 = myfetch2 > myfetch"
   ]
  },
  {
   "cell_type": "code",
   "execution_count": 13,
   "metadata": {},
   "outputs": [
    {
     "data": {
      "text/plain": [
       "{'eploiyeize-idreikwaespa/inputs': True,\n",
       " 'eshaiyooca-apleoputu/inputs': True,\n",
       " 'oyuukreikli-akwoefluexi/inputs': True,\n",
       " 'swiaphoedro-umuinupru/inputs': True,\n",
       " 'ufriigloodra-spuableisli/inputs': True,\n",
       " 'yeigleigo-ibloasnietha/inputs': True}"
      ]
     },
     "execution_count": 13,
     "metadata": {},
     "output_type": "execute_result"
    }
   ],
   "source": [
    "myreader[myfetch3]"
   ]
  },
  {
   "cell_type": "code",
   "execution_count": 14,
   "metadata": {},
   "outputs": [],
   "source": [
    "myfetch4 = ~myfetch3"
   ]
  },
  {
   "cell_type": "code",
   "execution_count": 15,
   "metadata": {},
   "outputs": [
    {
     "data": {
      "text/plain": [
       "{'eploiyeize-idreikwaespa/inputs': False,\n",
       " 'eshaiyooca-apleoputu/inputs': False,\n",
       " 'oyuukreikli-akwoefluexi/inputs': False,\n",
       " 'swiaphoedro-umuinupru/inputs': False,\n",
       " 'ufriigloodra-spuableisli/inputs': False,\n",
       " 'yeigleigo-ibloasnietha/inputs': False}"
      ]
     },
     "execution_count": 15,
     "metadata": {},
     "output_type": "execute_result"
    }
   ],
   "source": [
    "myreader[myfetch4]"
   ]
  },
  {
   "cell_type": "code",
   "execution_count": 19,
   "metadata": {},
   "outputs": [
    {
     "data": {
      "text/plain": [
       "{'eploiyeize-idreikwaespa/inputs': False,\n",
       " 'eshaiyooca-apleoputu/inputs': False,\n",
       " 'oyuukreikli-akwoefluexi/inputs': False,\n",
       " 'swiaphoedro-umuinupru/inputs': False,\n",
       " 'ufriigloodra-spuableisli/inputs': False,\n",
       " 'yeigleigo-ibloasnietha/inputs': False}"
      ]
     },
     "execution_count": 19,
     "metadata": {},
     "output_type": "execute_result"
    }
   ],
   "source": [
    "myreader[~myfetch3]"
   ]
  }
 ],
 "metadata": {
  "kernelspec": {
   "display_name": "Python 3",
   "language": "python",
   "name": "python3"
  },
  "language_info": {
   "codemirror_mode": {
    "name": "ipython",
    "version": 3
   },
   "file_extension": ".py",
   "mimetype": "text/x-python",
   "name": "python",
   "nbconvert_exporter": "python",
   "pygments_lexer": "ipython3",
   "version": "3.5.3"
  }
 },
 "nbformat": 4,
 "nbformat_minor": 2
}
