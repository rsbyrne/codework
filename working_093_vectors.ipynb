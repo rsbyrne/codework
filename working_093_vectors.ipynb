{
 "cells": [
  {
   "cell_type": "code",
   "execution_count": 1,
   "metadata": {},
   "outputs": [],
   "source": [
    "import sys\n",
    "import os\n",
    "workPath = os.path.abspath('..')\n",
    "if not workPath in sys.path:\n",
    "    sys.path.append(workPath)"
   ]
  },
  {
   "cell_type": "code",
   "execution_count": 2,
   "metadata": {},
   "outputs": [],
   "source": [
    "from everest import mpi\n",
    "import os\n",
    "if mpi.rank == 0:\n",
    "    if os.path.exists('../test.frm'):\n",
    "        os.remove('../test.frm')"
   ]
  },
  {
   "cell_type": "code",
   "execution_count": 6,
   "metadata": {},
   "outputs": [
    {
     "name": "stdout",
     "output_type": "stream",
     "text": [
      "{'inBuilt': '_built_augleioisna-blookweangao', 'inConst': 0, 'inDict': '_address_/daadrlogr-twitzol/inputs/inDict'}\n",
      "{'inBuilt': <everest.builts._vector.Vector object at 0x7f586341c7b8>, 'inConst': 0, 'inDict': {'a': <everest.builts._vector.Vector object at 0x7f586341c940>}}\n"
     ]
    }
   ],
   "source": [
    "from everest.builts import vector\n",
    "from everest.builts import set_global_anchor\n",
    "set_global_anchor('test', '..')\n",
    "a = vector.build(a = 2., b = 20.)\n",
    "b = vector.build(a = 3., b = 30.)\n",
    "c = vector.build(inDict = {'a': a}, inConst = 0, inBuilt = b)\n",
    "print(c.reader[c.hashID, 'inputs', '*'])\n",
    "from everest.builts import load\n",
    "c_load = load(c.hashID, 'test', '..')\n",
    "print(c_load.inputs)\n",
    "assert c_load.hashID == c.hashID"
   ]
  },
  {
   "cell_type": "code",
   "execution_count": 4,
   "metadata": {},
   "outputs": [],
   "source": [
    "# from collections.abc import Mapping\n",
    "# import numpy as np\n",
    "\n",
    "# class Vector(Mapping):\n",
    "#     def __init__(self, **kwargs):\n",
    "#         self.inputs = kwargs\n",
    "#         self.keys = sorted(kwargs.keys())\n",
    "#         self.vals = [kwargs[key] for key in self.keys]\n",
    "#         self.data = np.array(0)\n",
    "#         super().__init__()\n",
    "#     def __iter__(self):\n",
    "#         for key, inp in sorted(self.inputs.items()):\n",
    "#             yield (key, inp)\n",
    "#     def __len__(self):\n",
    "#         return len(self.inputs)\n",
    "#     def __getitem__(self, key):\n",
    "#         return self.inputs[key]"
   ]
  },
  {
   "cell_type": "code",
   "execution_count": 5,
   "metadata": {},
   "outputs": [],
   "source": [
    "# class HyperCube:\n",
    "#     def __init__(\n",
    "#             self,\n",
    "#             lvec = None,\n",
    "#             uvec = None,\n",
    "#             **kwargs\n",
    "#             ):\n",
    "        "
   ]
  }
 ],
 "metadata": {
  "kernelspec": {
   "display_name": "Python 3",
   "language": "python",
   "name": "python3"
  },
  "language_info": {
   "codemirror_mode": {
    "name": "ipython",
    "version": 3
   },
   "file_extension": ".py",
   "mimetype": "text/x-python",
   "name": "python",
   "nbconvert_exporter": "python",
   "pygments_lexer": "ipython3",
   "version": "3.5.3"
  }
 },
 "nbformat": 4,
 "nbformat_minor": 2
}
