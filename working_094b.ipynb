{
 "cells": [
  {
   "cell_type": "code",
   "execution_count": 1,
   "metadata": {},
   "outputs": [],
   "source": [
    "import sys\n",
    "import os\n",
    "workPath = os.path.abspath('..')\n",
    "if not workPath in sys.path:\n",
    "    sys.path.append(workPath)"
   ]
  },
  {
   "cell_type": "code",
   "execution_count": 2,
   "metadata": {},
   "outputs": [],
   "source": [
    "name = 'test'\n",
    "outputPath = '..'\n",
    "from everest import mpi\n",
    "import os\n",
    "fullpath = os.path.join(os.path.abspath(outputPath), name) + '.frm'\n",
    "if mpi.rank == 0:\n",
    "    if os.path.exists(fullpath):\n",
    "        os.remove(fullpath)\n",
    "from everest.builts import set_global_anchor\n",
    "set_global_anchor(name, outputPath)"
   ]
  },
  {
   "cell_type": "code",
   "execution_count": 3,
   "metadata": {},
   "outputs": [],
   "source": [
    "import numpy as np"
   ]
  },
  {
   "cell_type": "code",
   "execution_count": 4,
   "metadata": {},
   "outputs": [],
   "source": [
    "from everest.builts.vector import Vector"
   ]
  },
  {
   "cell_type": "code",
   "execution_count": 5,
   "metadata": {},
   "outputs": [],
   "source": [
    "myvec = Vector(a = 1)"
   ]
  },
  {
   "cell_type": "code",
   "execution_count": 6,
   "metadata": {},
   "outputs": [],
   "source": [
    "myvec = Vector(\n",
    "    a = 'a',\n",
    "    b = 1,\n",
    "    c = [1, 2, 3],\n",
    "    d = [1, [2, 3]],\n",
    "    e = np.arange(10),\n",
    "    f = Vector,\n",
    "    g = Vector(foo = 'bar'),\n",
    "    h = [1, 'a', Vector(hello = 'world')]\n",
    "    )"
   ]
  },
  {
   "cell_type": "code",
   "execution_count": 7,
   "metadata": {},
   "outputs": [
    {
     "data": {
      "text/plain": [
       "{'a': 'a',\n",
       " 'b': 1,\n",
       " 'c': [1, 2, 3],\n",
       " 'd': [1, [2, 3]],\n",
       " 'e': array([0, 1, 2, 3, 4, 5, 6, 7, 8, 9]),\n",
       " 'f': everest.builts._vector.Vector,\n",
       " 'g': <everest.builts._vector.Vector at 0x7f04ac26a780>,\n",
       " 'h': [1, 'a', <everest.builts._vector.Vector at 0x7f04ac26a908>]}"
      ]
     },
     "execution_count": 7,
     "metadata": {},
     "output_type": "execute_result"
    }
   ],
   "source": [
    "myvec.reader[myvec.hashID, 'inputs']"
   ]
  },
  {
   "cell_type": "code",
   "execution_count": 8,
   "metadata": {},
   "outputs": [],
   "source": [
    "from everest.builts import load\n",
    "loaded = load(myvec.hashID)"
   ]
  },
  {
   "cell_type": "code",
   "execution_count": 9,
   "metadata": {},
   "outputs": [
    {
     "data": {
      "text/plain": [
       "{'a': 'a',\n",
       " 'b': 1,\n",
       " 'c': [1, 2, 3],\n",
       " 'd': [1, [2, 3]],\n",
       " 'e': array([0, 1, 2, 3, 4, 5, 6, 7, 8, 9]),\n",
       " 'f': everest.builts._vector.Vector,\n",
       " 'g': <everest.builts._vector.Vector at 0x7f04ac26a160>,\n",
       " 'h': [1, 'a', <everest.builts._vector.Vector at 0x7f04ac26a2e8>]}"
      ]
     },
     "execution_count": 9,
     "metadata": {},
     "output_type": "execute_result"
    }
   ],
   "source": [
    "loaded.inputs"
   ]
  },
  {
   "cell_type": "code",
   "execution_count": 10,
   "metadata": {},
   "outputs": [],
   "source": [
    "assert loaded == myvec"
   ]
  },
  {
   "cell_type": "code",
   "execution_count": 11,
   "metadata": {},
   "outputs": [],
   "source": [
    "# from everest.builts.vector import Vector\n",
    "# from planetengine.systems.isovisc import Isovisc\n",
    "# from planetengine.traverse import Traverse"
   ]
  }
 ],
 "metadata": {
  "kernelspec": {
   "display_name": "Python 3",
   "language": "python",
   "name": "python3"
  },
  "language_info": {
   "codemirror_mode": {
    "name": "ipython",
    "version": 3
   },
   "file_extension": ".py",
   "mimetype": "text/x-python",
   "name": "python",
   "nbconvert_exporter": "python",
   "pygments_lexer": "ipython3",
   "version": "3.5.3"
  }
 },
 "nbformat": 4,
 "nbformat_minor": 2
}
