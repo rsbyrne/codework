{
 "cells": [
  {
   "cell_type": "code",
   "execution_count": 1,
   "metadata": {},
   "outputs": [],
   "source": [
    "import numpy as np"
   ]
  },
  {
   "cell_type": "code",
   "execution_count": 2,
   "metadata": {},
   "outputs": [],
   "source": [
    "import sys\n",
    "import os\n",
    "workPath = os.path.abspath('..')\n",
    "if not workPath in sys.path:\n",
    "    sys.path.append(workPath)"
   ]
  },
  {
   "cell_type": "code",
   "execution_count": 3,
   "metadata": {},
   "outputs": [],
   "source": [
    "name = 'test'\n",
    "outputPath = '..'\n",
    "from everest import mpi\n",
    "import os\n",
    "fullpath = os.path.join(os.path.abspath(outputPath), name) + '.frm'\n",
    "if mpi.rank == 0:\n",
    "    if os.path.exists(fullpath):\n",
    "        os.remove(fullpath)\n",
    "from everest.builts import set_global_anchor\n",
    "set_global_anchor(name, outputPath)"
   ]
  },
  {
   "cell_type": "code",
   "execution_count": 4,
   "metadata": {},
   "outputs": [],
   "source": [
    "from everest.builts.vector import Vector"
   ]
  },
  {
   "cell_type": "code",
   "execution_count": 5,
   "metadata": {},
   "outputs": [
    {
     "name": "stdout",
     "output_type": "stream",
     "text": [
      "* jeugrshoetw-eetsuosfaeng\n",
      "* bar\n",
      "* 193061167692293271346601164740065873550\n",
      "* 11313614034522544718351284062692833890\n",
      "* 239473046662304002998740314748568340756\n",
      "* from everest.builts._vector import Vector\n",
      "CLASS = Vector\n",
      "build, get = CLASS.build, CLASS.get\n",
      "\n",
      "* rhoevthesf-joeshcov\n",
      "* a\n",
      "* 1\n",
      "* [1, 2, 3]\n",
      "* 1\n",
      "* 2\n",
      "* 3\n",
      "* [1, [2, 3]]\n",
      "* 1\n",
      "* [2, 3]\n",
      "* 2\n",
      "* 3\n",
      "* [0 1 2 3 4 5 6 7 8 9]\n",
      "* <class 'everest.builts._vector.Vector'>\n",
      "* <everest.builts._vector.Vector object at 0x7f6d0b296390>\n",
      "* jeugrshoetw-eetsuosfaeng\n",
      "* bar\n",
      "* 193061167692293271346601164740065873550\n",
      "* 11313614034522544718351284062692833890\n",
      "* 239473046662304002998740314748568340756\n",
      "* from everest.builts._vector import Vector\n",
      "CLASS = Vector\n",
      "build, get = CLASS.build, CLASS.get\n",
      "\n",
      "* 74859680849250780026769339201382587719\n",
      "* 192158391898755548579601005679128499420\n",
      "* 239473046662304002998740314748568340756\n",
      "* from everest.builts._vector import Vector\n",
      "CLASS = Vector\n",
      "build, get = CLASS.build, CLASS.get\n",
      "\n"
     ]
    }
   ],
   "source": [
    "myvec = Vector(a = 'a', b = 1, c = [1, 2, 3], d = [1, [2, 3]], e = np.arange(10), f = Vector, g = Vector(foo = 'bar'))"
   ]
  },
  {
   "cell_type": "code",
   "execution_count": 6,
   "metadata": {},
   "outputs": [
    {
     "name": "stdout",
     "output_type": "stream",
     "text": [
      "- {'c': \"['1', '2', '3']\", 'a': 'a', 'f': '_class_239473046662304002998740314748568340756', 'b': '1', 'd': '[\\'1\\', \"[\\'2\\', \\'3\\']\"]', 'e': \"_bytes_b'\\\\x80\\\\x03cnumpy.core.multiarray\\\\n_reconstruct\\\\nq\\\\x00cnumpy\\\\nndarray\\\\nq\\\\x01K\\\\x00\\\\x85q\\\\x02C\\\\x01bq\\\\x03\\\\x87q\\\\x04Rq\\\\x05(K\\\\x01K\\\\n\\\\x85q\\\\x06cnumpy\\\\ndtype\\\\nq\\\\x07X\\\\x02\\\\x00\\\\x00\\\\x00i8q\\\\x08K\\\\x00K\\\\x01\\\\x87q\\\\tRq\\\\n(K\\\\x03X\\\\x01\\\\x00\\\\x00\\\\x00<q\\\\x0bNNNJ\\\\xff\\\\xff\\\\xff\\\\xffJ\\\\xff\\\\xff\\\\xff\\\\xffK\\\\x00tq\\\\x0cb\\\\x89CP\\\\x00\\\\x00\\\\x00\\\\x00\\\\x00\\\\x00\\\\x00\\\\x00\\\\x01\\\\x00\\\\x00\\\\x00\\\\x00\\\\x00\\\\x00\\\\x00\\\\x02\\\\x00\\\\x00\\\\x00\\\\x00\\\\x00\\\\x00\\\\x00\\\\x03\\\\x00\\\\x00\\\\x00\\\\x00\\\\x00\\\\x00\\\\x00\\\\x04\\\\x00\\\\x00\\\\x00\\\\x00\\\\x00\\\\x00\\\\x00\\\\x05\\\\x00\\\\x00\\\\x00\\\\x00\\\\x00\\\\x00\\\\x00\\\\x06\\\\x00\\\\x00\\\\x00\\\\x00\\\\x00\\\\x00\\\\x00\\\\x07\\\\x00\\\\x00\\\\x00\\\\x00\\\\x00\\\\x00\\\\x00\\\\x08\\\\x00\\\\x00\\\\x00\\\\x00\\\\x00\\\\x00\\\\x00\\\\t\\\\x00\\\\x00\\\\x00\\\\x00\\\\x00\\\\x00\\\\x00q\\\\rtq\\\\x0eb.'\", 'g': '_built_jeugrshoetw-eetsuosfaeng'}\n",
      "- ['1', '2', '3']\n",
      "- 1\n",
      "- 2\n",
      "- 3\n",
      "- a\n",
      "- _class_239473046662304002998740314748568340756\n",
      "- 1\n",
      "- ['1', \"['2', '3']\"]\n",
      "- 1\n",
      "- ['2', '3']\n",
      "- 2\n",
      "- 3\n",
      "- _bytes_b'\\x80\\x03cnumpy.core.multiarray\\n_reconstruct\\nq\\x00cnumpy\\nndarray\\nq\\x01K\\x00\\x85q\\x02C\\x01bq\\x03\\x87q\\x04Rq\\x05(K\\x01K\\n\\x85q\\x06cnumpy\\ndtype\\nq\\x07X\\x02\\x00\\x00\\x00i8q\\x08K\\x00K\\x01\\x87q\\tRq\\n(K\\x03X\\x01\\x00\\x00\\x00<q\\x0bNNNJ\\xff\\xff\\xff\\xffJ\\xff\\xff\\xff\\xffK\\x00tq\\x0cb\\x89CP\\x00\\x00\\x00\\x00\\x00\\x00\\x00\\x00\\x01\\x00\\x00\\x00\\x00\\x00\\x00\\x00\\x02\\x00\\x00\\x00\\x00\\x00\\x00\\x00\\x03\\x00\\x00\\x00\\x00\\x00\\x00\\x00\\x04\\x00\\x00\\x00\\x00\\x00\\x00\\x00\\x05\\x00\\x00\\x00\\x00\\x00\\x00\\x00\\x06\\x00\\x00\\x00\\x00\\x00\\x00\\x00\\x07\\x00\\x00\\x00\\x00\\x00\\x00\\x00\\x08\\x00\\x00\\x00\\x00\\x00\\x00\\x00\\t\\x00\\x00\\x00\\x00\\x00\\x00\\x00q\\rtq\\x0eb.'\n",
      "- _built_jeugrshoetw-eetsuosfaeng\n"
     ]
    },
    {
     "data": {
      "text/plain": [
       "{'a': 'a',\n",
       " 'b': 1,\n",
       " 'c': [1, 2, 3],\n",
       " 'd': [1, [2, 3]],\n",
       " 'e': array([0, 1, 2, 3, 4, 5, 6, 7, 8, 9]),\n",
       " 'f': '_class_239473046662304002998740314748568340756',\n",
       " 'g': '_built_jeugrshoetw-eetsuosfaeng'}"
      ]
     },
     "execution_count": 6,
     "metadata": {},
     "output_type": "execute_result"
    }
   ],
   "source": [
    "myvec.reader[myvec.hashID, 'inputs', '*']"
   ]
  },
  {
   "cell_type": "code",
   "execution_count": 7,
   "metadata": {},
   "outputs": [
    {
     "name": "stdout",
     "output_type": "stream",
     "text": [
      "- rhoevthesf-joeshcov\n",
      "- 239473046662304002998740314748568340756\n",
      "- from everest.builts._vector import Vector\n",
      "CLASS = Vector\n",
      "build, get = CLASS.build, CLASS.get\n",
      "\n",
      "- {'c': \"['1', '2', '3']\", 'a': 'a', 'f': '_class_239473046662304002998740314748568340756', 'b': '1', 'd': '[\\'1\\', \"[\\'2\\', \\'3\\']\"]', 'e': \"_bytes_b'\\\\x80\\\\x03cnumpy.core.multiarray\\\\n_reconstruct\\\\nq\\\\x00cnumpy\\\\nndarray\\\\nq\\\\x01K\\\\x00\\\\x85q\\\\x02C\\\\x01bq\\\\x03\\\\x87q\\\\x04Rq\\\\x05(K\\\\x01K\\\\n\\\\x85q\\\\x06cnumpy\\\\ndtype\\\\nq\\\\x07X\\\\x02\\\\x00\\\\x00\\\\x00i8q\\\\x08K\\\\x00K\\\\x01\\\\x87q\\\\tRq\\\\n(K\\\\x03X\\\\x01\\\\x00\\\\x00\\\\x00<q\\\\x0bNNNJ\\\\xff\\\\xff\\\\xff\\\\xffJ\\\\xff\\\\xff\\\\xff\\\\xffK\\\\x00tq\\\\x0cb\\\\x89CP\\\\x00\\\\x00\\\\x00\\\\x00\\\\x00\\\\x00\\\\x00\\\\x00\\\\x01\\\\x00\\\\x00\\\\x00\\\\x00\\\\x00\\\\x00\\\\x00\\\\x02\\\\x00\\\\x00\\\\x00\\\\x00\\\\x00\\\\x00\\\\x00\\\\x03\\\\x00\\\\x00\\\\x00\\\\x00\\\\x00\\\\x00\\\\x00\\\\x04\\\\x00\\\\x00\\\\x00\\\\x00\\\\x00\\\\x00\\\\x00\\\\x05\\\\x00\\\\x00\\\\x00\\\\x00\\\\x00\\\\x00\\\\x00\\\\x06\\\\x00\\\\x00\\\\x00\\\\x00\\\\x00\\\\x00\\\\x00\\\\x07\\\\x00\\\\x00\\\\x00\\\\x00\\\\x00\\\\x00\\\\x00\\\\x08\\\\x00\\\\x00\\\\x00\\\\x00\\\\x00\\\\x00\\\\x00\\\\t\\\\x00\\\\x00\\\\x00\\\\x00\\\\x00\\\\x00\\\\x00q\\\\rtq\\\\x0eb.'\", 'g': '_built_jeugrshoetw-eetsuosfaeng'}\n",
      "- ['1', '2', '3']\n",
      "- 1\n",
      "- 2\n",
      "- 3\n",
      "- a\n",
      "- _class_239473046662304002998740314748568340756\n",
      "- 1\n",
      "- ['1', \"['2', '3']\"]\n",
      "- 1\n",
      "- ['2', '3']\n",
      "- 2\n",
      "- 3\n",
      "- _bytes_b'\\x80\\x03cnumpy.core.multiarray\\n_reconstruct\\nq\\x00cnumpy\\nndarray\\nq\\x01K\\x00\\x85q\\x02C\\x01bq\\x03\\x87q\\x04Rq\\x05(K\\x01K\\n\\x85q\\x06cnumpy\\ndtype\\nq\\x07X\\x02\\x00\\x00\\x00i8q\\x08K\\x00K\\x01\\x87q\\tRq\\n(K\\x03X\\x01\\x00\\x00\\x00<q\\x0bNNNJ\\xff\\xff\\xff\\xffJ\\xff\\xff\\xff\\xffK\\x00tq\\x0cb\\x89CP\\x00\\x00\\x00\\x00\\x00\\x00\\x00\\x00\\x01\\x00\\x00\\x00\\x00\\x00\\x00\\x00\\x02\\x00\\x00\\x00\\x00\\x00\\x00\\x00\\x03\\x00\\x00\\x00\\x00\\x00\\x00\\x00\\x04\\x00\\x00\\x00\\x00\\x00\\x00\\x00\\x05\\x00\\x00\\x00\\x00\\x00\\x00\\x00\\x06\\x00\\x00\\x00\\x00\\x00\\x00\\x00\\x07\\x00\\x00\\x00\\x00\\x00\\x00\\x00\\x08\\x00\\x00\\x00\\x00\\x00\\x00\\x00\\t\\x00\\x00\\x00\\x00\\x00\\x00\\x00q\\rtq\\x0eb.'\n",
      "- _built_jeugrshoetw-eetsuosfaeng\n",
      "- from everest.builts._vector import Vector\n",
      "CLASS = Vector\n",
      "build, get = CLASS.build, CLASS.get\n",
      "\n",
      "- jeugrshoetw-eetsuosfaeng\n",
      "- 239473046662304002998740314748568340756\n",
      "- from everest.builts._vector import Vector\n",
      "CLASS = Vector\n",
      "build, get = CLASS.build, CLASS.get\n",
      "\n",
      "- {'foo': 'bar'}\n",
      "- bar\n",
      "* jeugrshoetw-eetsuosfaeng\n",
      "* bar\n",
      "* 193061167692293271346601164740065873550\n",
      "* 11313614034522544718351284062692833890\n",
      "* 239473046662304002998740314748568340756\n",
      "* from everest.builts._vector import Vector\n",
      "CLASS = Vector\n",
      "build, get = CLASS.build, CLASS.get\n",
      "\n",
      "* jeugrshoetw-eetsuosfaeng\n",
      "* bar\n",
      "* 193061167692293271346601164740065873550\n",
      "* 11313614034522544718351284062692833890\n",
      "* 239473046662304002998740314748568340756\n",
      "* from everest.builts._vector import Vector\n",
      "CLASS = Vector\n",
      "build, get = CLASS.build, CLASS.get\n",
      "\n",
      "* rhoevthesf-joeshcov\n",
      "* a\n",
      "* 1\n",
      "* [1, 2, 3]\n",
      "* 1\n",
      "* 2\n",
      "* 3\n",
      "* [1, [2, 3]]\n",
      "* 1\n",
      "* [2, 3]\n",
      "* 2\n",
      "* 3\n",
      "* [0 1 2 3 4 5 6 7 8 9]\n",
      "* <class 'everest.builts._vector.Vector'>\n",
      "* <everest.builts._vector.Vector object at 0x7f6d06240d68>\n",
      "* jeugrshoetw-eetsuosfaeng\n",
      "* bar\n",
      "* 193061167692293271346601164740065873550\n",
      "* 11313614034522544718351284062692833890\n",
      "* 239473046662304002998740314748568340756\n",
      "* from everest.builts._vector import Vector\n",
      "CLASS = Vector\n",
      "build, get = CLASS.build, CLASS.get\n",
      "\n",
      "* 74859680849250780026769339201382587719\n",
      "* 192158391898755548579601005679128499420\n",
      "* 239473046662304002998740314748568340756\n",
      "* from everest.builts._vector import Vector\n",
      "CLASS = Vector\n",
      "build, get = CLASS.build, CLASS.get\n",
      "\n",
      "* rhoevthesf-joeshcov\n",
      "* a\n",
      "* 1\n",
      "* [1, 2, 3]\n",
      "* 1\n",
      "* 2\n",
      "* 3\n",
      "* [1, [2, 3]]\n",
      "* 1\n",
      "* [2, 3]\n",
      "* 2\n",
      "* 3\n",
      "* [0 1 2 3 4 5 6 7 8 9]\n",
      "* <class 'everest.builts._vector.Vector'>\n",
      "* <everest.builts._vector.Vector object at 0x7f6d06240d68>\n",
      "* jeugrshoetw-eetsuosfaeng\n",
      "* bar\n",
      "* 193061167692293271346601164740065873550\n",
      "* 11313614034522544718351284062692833890\n",
      "* 239473046662304002998740314748568340756\n",
      "* from everest.builts._vector import Vector\n",
      "CLASS = Vector\n",
      "build, get = CLASS.build, CLASS.get\n",
      "\n",
      "* 74859680849250780026769339201382587719\n",
      "* 192158391898755548579601005679128499420\n",
      "* 239473046662304002998740314748568340756\n",
      "* from everest.builts._vector import Vector\n",
      "CLASS = Vector\n",
      "build, get = CLASS.build, CLASS.get\n",
      "\n"
     ]
    }
   ],
   "source": [
    "from everest.builts import load\n",
    "loaded = load(myvec.hashID)"
   ]
  },
  {
   "cell_type": "code",
   "execution_count": 8,
   "metadata": {},
   "outputs": [
    {
     "data": {
      "text/plain": [
       "{'a': 'a',\n",
       " 'b': 1,\n",
       " 'c': [1, 2, 3],\n",
       " 'd': [1, [2, 3]],\n",
       " 'e': array([0, 1, 2, 3, 4, 5, 6, 7, 8, 9]),\n",
       " 'f': everest.builts._vector.Vector,\n",
       " 'g': <everest.builts._vector.Vector at 0x7f6d06240d68>}"
      ]
     },
     "execution_count": 8,
     "metadata": {},
     "output_type": "execute_result"
    }
   ],
   "source": [
    "loaded.inputs"
   ]
  },
  {
   "cell_type": "code",
   "execution_count": 9,
   "metadata": {},
   "outputs": [],
   "source": [
    "assert loaded == myvec"
   ]
  },
  {
   "cell_type": "code",
   "execution_count": 10,
   "metadata": {},
   "outputs": [],
   "source": [
    "# from everest.builts.vector import Vector\n",
    "# from planetengine.systems.isovisc import Isovisc\n",
    "# from planetengine.traverse import Traverse"
   ]
  }
 ],
 "metadata": {
  "kernelspec": {
   "display_name": "Python 3",
   "language": "python",
   "name": "python3"
  },
  "language_info": {
   "codemirror_mode": {
    "name": "ipython",
    "version": 3
   },
   "file_extension": ".py",
   "mimetype": "text/x-python",
   "name": "python",
   "nbconvert_exporter": "python",
   "pygments_lexer": "ipython3",
   "version": "3.5.3"
  }
 },
 "nbformat": 4,
 "nbformat_minor": 2
}
