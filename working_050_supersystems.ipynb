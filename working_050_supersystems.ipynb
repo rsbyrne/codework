{
 "cells": [
  {
   "cell_type": "code",
   "execution_count": 2,
   "metadata": {},
   "outputs": [],
   "source": [
    "import sys\n",
    "workPath = '/home/jovyan/workspace'\n",
    "if not workPath in sys.path:\n",
    "    sys.path.append(workPath)"
   ]
  },
  {
   "cell_type": "code",
   "execution_count": 3,
   "metadata": {},
   "outputs": [],
   "source": [
    "import planetengine"
   ]
  },
  {
   "cell_type": "code",
   "execution_count": 4,
   "metadata": {},
   "outputs": [],
   "source": [
    "system1 = planetengine.systems.isovisc.build(Ra = 1e1, res = 16)\n",
    "system2 = planetengine.systems.arrhenius.build(system1, Ra = 1e2, res = 32)\n",
    "system3 = planetengine.systems.isovisc.build(system1, system2, Ra = 1e3, res = 64)"
   ]
  },
  {
   "cell_type": "code",
   "execution_count": 5,
   "metadata": {},
   "outputs": [
    {
     "data": {
      "text/plain": [
       "{'Ra': 1000.0,\n",
       " '_sub0': {'Ra': 10.0, 'aspect': 1.0, 'f': 0.54, 'res': 16},\n",
       " '_sub1': {'Ra': 100.0,\n",
       "  '_sub0': {'Ra': 10.0, 'aspect': 1.0, 'f': 0.54, 'res': 16},\n",
       "  'aspect': 1.0,\n",
       "  'eta0': 30000.0,\n",
       "  'f': 0.54,\n",
       "  'res': 32},\n",
       " 'aspect': 1.0,\n",
       " 'f': 0.54,\n",
       " 'res': 64}"
      ]
     },
     "execution_count": 5,
     "metadata": {},
     "output_type": "execute_result"
    }
   ],
   "source": [
    "system3.inputs"
   ]
  },
  {
   "cell_type": "code",
   "execution_count": 6,
   "metadata": {},
   "outputs": [
    {
     "data": {
      "text/plain": [
       "['/home/jovyan/workspace/planetengine/systems/isovisc.py',\n",
       " '/home/jovyan/workspace/planetengine/systems/isovisc.py',\n",
       " '/home/jovyan/workspace/planetengine/systems/arrhenius.py',\n",
       " '/home/jovyan/workspace/planetengine/systems/isovisc.py']"
      ]
     },
     "execution_count": 6,
     "metadata": {},
     "output_type": "execute_result"
    }
   ],
   "source": [
    "system3.scripts"
   ]
  },
  {
   "cell_type": "code",
   "execution_count": 7,
   "metadata": {},
   "outputs": [],
   "source": [
    "modules = []\n",
    "for script in system3.scripts:\n",
    "    modules.append(planetengine.utilities.local_import(script))"
   ]
  },
  {
   "cell_type": "code",
   "execution_count": 8,
   "metadata": {},
   "outputs": [
    {
     "data": {
      "text/plain": [
       "{'Ra': 1000.0,\n",
       " '_sub0': {'Ra': 10.0, 'aspect': 1.0, 'f': 0.54, 'res': 16},\n",
       " '_sub1': {'Ra': 100.0,\n",
       "  '_sub0': {'Ra': 10.0, 'aspect': 1.0, 'f': 0.54, 'res': 16},\n",
       "  'aspect': 1.0,\n",
       "  'eta0': 30000.0,\n",
       "  'f': 0.54,\n",
       "  'res': 32},\n",
       " 'aspect': 1.0,\n",
       " 'f': 0.54,\n",
       " 'res': 64}"
      ]
     },
     "execution_count": 8,
     "metadata": {},
     "output_type": "execute_result"
    }
   ],
   "source": [
    "system3.inputs"
   ]
  },
  {
   "cell_type": "code",
   "execution_count": 9,
   "metadata": {},
   "outputs": [],
   "source": [
    "system3_load = modules[0].build(*modules[1:], **system3.inputs)"
   ]
  },
  {
   "cell_type": "code",
   "execution_count": 10,
   "metadata": {},
   "outputs": [
    {
     "data": {
      "text/plain": [
       "{'Ra': 1000.0,\n",
       " '_sub0': {'Ra': 10.0, 'aspect': 1.0, 'f': 0.54, 'res': 16},\n",
       " '_sub1': {'Ra': 100.0,\n",
       "  '_sub0': {'Ra': 10.0, 'aspect': 1.0, 'f': 0.54, 'res': 16},\n",
       "  'aspect': 1.0,\n",
       "  'eta0': 30000.0,\n",
       "  'f': 0.54,\n",
       "  'res': 32},\n",
       " 'aspect': 1.0,\n",
       " 'f': 0.54,\n",
       " 'res': 64}"
      ]
     },
     "execution_count": 10,
     "metadata": {},
     "output_type": "execute_result"
    }
   ],
   "source": [
    "system3_load.inputs"
   ]
  },
  {
   "cell_type": "code",
   "execution_count": 11,
   "metadata": {},
   "outputs": [],
   "source": [
    "assert system3_load.inputs == system3.inputs\n",
    "assert system3_load.scripts == system3.scripts"
   ]
  },
  {
   "cell_type": "code",
   "execution_count": 12,
   "metadata": {},
   "outputs": [],
   "source": [
    "planetengine.paths.delete_testdir()\n",
    "path = planetengine.paths.make_testdir()"
   ]
  },
  {
   "cell_type": "code",
   "execution_count": 13,
   "metadata": {},
   "outputs": [
    {
     "data": {
      "text/plain": [
       "'/home/jovyan/workspace/out/test'"
      ]
     },
     "execution_count": 13,
     "metadata": {},
     "output_type": "execute_result"
    }
   ],
   "source": [
    "planetengine.paths.testPath"
   ]
  },
  {
   "cell_type": "code",
   "execution_count": 14,
   "metadata": {},
   "outputs": [],
   "source": [
    "system3.save(path)"
   ]
  },
  {
   "cell_type": "code",
   "execution_count": 15,
   "metadata": {},
   "outputs": [],
   "source": [
    "load_system3 = planetengine.built.load_built(system3.name, path)"
   ]
  },
  {
   "cell_type": "code",
   "execution_count": 16,
   "metadata": {},
   "outputs": [],
   "source": [
    "assert load_system3.hashID == system3.hashID"
   ]
  },
  {
   "cell_type": "code",
   "execution_count": null,
   "metadata": {},
   "outputs": [],
   "source": []
  }
 ],
 "metadata": {
  "kernelspec": {
   "display_name": "Python 3",
   "language": "python",
   "name": "python3"
  },
  "language_info": {
   "codemirror_mode": {
    "name": "ipython",
    "version": 3
   },
   "file_extension": ".py",
   "mimetype": "text/x-python",
   "name": "python",
   "nbconvert_exporter": "python",
   "pygments_lexer": "ipython3",
   "version": "3.5.3"
  }
 },
 "nbformat": 4,
 "nbformat_minor": 2
}
