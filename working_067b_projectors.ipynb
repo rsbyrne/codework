{
 "cells": [
  {
   "cell_type": "code",
   "execution_count": 1,
   "metadata": {},
   "outputs": [],
   "source": [
    "import sys\n",
    "workPath = '/home/jovyan/workspace'\n",
    "if not workPath in sys.path:\n",
    "    sys.path.append(workPath)"
   ]
  },
  {
   "cell_type": "code",
   "execution_count": 2,
   "metadata": {},
   "outputs": [],
   "source": [
    "import planetengine\n",
    "pfn = planetengine.functions\n",
    "quickShow = planetengine.quickShow"
   ]
  },
  {
   "cell_type": "code",
   "execution_count": 3,
   "metadata": {},
   "outputs": [],
   "source": [
    "system = planetengine.tests.testsystems.arrhenius()"
   ]
  },
  {
   "cell_type": "code",
   "execution_count": 4,
   "metadata": {},
   "outputs": [],
   "source": [
    "myvar = pfn.convert(system.viscosityFn)"
   ]
  },
  {
   "cell_type": "code",
   "execution_count": 5,
   "metadata": {},
   "outputs": [
    {
     "name": "stdout",
     "output_type": "stream",
     "text": [
      "Old object found - reusing.\n"
     ]
    }
   ],
   "source": [
    "myvar2 = pfn.convert(system.viscosityFn, 'visc')"
   ]
  },
  {
   "cell_type": "code",
   "execution_count": 6,
   "metadata": {},
   "outputs": [],
   "source": [
    "stressVar = pfn.convert(system.viscosityFn * system.velocityField, 'stress')"
   ]
  },
  {
   "cell_type": "code",
   "execution_count": 14,
   "metadata": {},
   "outputs": [
    {
     "data": {
      "text/plain": [
       "<underworld.mesh._meshvariable.MeshVariable at 0x7fabca1f78d0>"
      ]
     },
     "execution_count": 14,
     "metadata": {},
     "output_type": "execute_result"
    }
   ],
   "source": [
    "stressVar.var"
   ]
  },
  {
   "cell_type": "code",
   "execution_count": 18,
   "metadata": {},
   "outputs": [
    {
     "name": "stdout",
     "output_type": "stream",
     "text": [
      "Fitted 0 variables to the figure.\n"
     ]
    }
   ],
   "source": [
    "myfig = planetengine.visualisation.QuickFig()"
   ]
  },
  {
   "cell_type": "code",
   "execution_count": 21,
   "metadata": {},
   "outputs": [],
   "source": [
    "myfig.add_arrows_red(stressVar)"
   ]
  },
  {
   "cell_type": "code",
   "execution_count": 22,
   "metadata": {},
   "outputs": [
    {
     "data": {
      "text/html": [
       "<img src='data:image/png;base64,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'>"
      ],
      "text/plain": [
       "<IPython.core.display.HTML object>"
      ]
     },
     "metadata": {},
     "output_type": "display_data"
    }
   ],
   "source": [
    "myfig.show()"
   ]
  },
  {
   "cell_type": "code",
   "execution_count": 17,
   "metadata": {},
   "outputs": [
    {
     "ename": "TypeError",
     "evalue": "append() missing 1 required positional argument: 'drawingObject'",
     "output_type": "error",
     "traceback": [
      "\u001b[0;31m---------------------------------------------------------------------------\u001b[0m",
      "\u001b[0;31mTypeError\u001b[0m                                 Traceback (most recent call last)",
      "\u001b[0;32m<ipython-input-17-5990ed5007c2>\u001b[0m in \u001b[0;36m<module>\u001b[0;34m\u001b[0m\n\u001b[1;32m      1\u001b[0m \u001b[0;32mimport\u001b[0m \u001b[0mglucifer\u001b[0m\u001b[0;34m\u001b[0m\u001b[0m\n\u001b[1;32m      2\u001b[0m \u001b[0mfig\u001b[0m \u001b[0;34m=\u001b[0m \u001b[0mglucifer\u001b[0m\u001b[0;34m.\u001b[0m\u001b[0mFigure\u001b[0m\u001b[0;34m\u001b[0m\u001b[0m\n\u001b[0;32m----> 3\u001b[0;31m \u001b[0mfig\u001b[0m\u001b[0;34m.\u001b[0m\u001b[0mappend\u001b[0m\u001b[0;34m(\u001b[0m\u001b[0mglucifer\u001b[0m\u001b[0;34m.\u001b[0m\u001b[0mobjects\u001b[0m\u001b[0;34m.\u001b[0m\u001b[0mVectorArrows\u001b[0m\u001b[0;34m(\u001b[0m\u001b[0msystem\u001b[0m\u001b[0;34m.\u001b[0m\u001b[0mmesh\u001b[0m\u001b[0;34m,\u001b[0m \u001b[0mstressVar\u001b[0m\u001b[0;34m)\u001b[0m\u001b[0;34m)\u001b[0m\u001b[0;34m\u001b[0m\u001b[0m\n\u001b[0m",
      "\u001b[0;31mTypeError\u001b[0m: append() missing 1 required positional argument: 'drawingObject'"
     ]
    }
   ],
   "source": [
    "import glucifer\n",
    "fig = glucifer.Figure\n",
    "fig.append(glucifer.objects.VectorArrows(system.mesh, stressVar))"
   ]
  },
  {
   "cell_type": "code",
   "execution_count": 16,
   "metadata": {},
   "outputs": [
    {
     "data": {
      "text/plain": [
       "<glucifer.objects.VectorArrows at 0x7fabbef84390>"
      ]
     },
     "execution_count": 16,
     "metadata": {},
     "output_type": "execute_result"
    }
   ],
   "source": [
    "glucifer.objects.VectorArrows(system.mesh, stressVar)"
   ]
  },
  {
   "cell_type": "code",
   "execution_count": null,
   "metadata": {},
   "outputs": [],
   "source": [
    "myvar.meshVar()"
   ]
  },
  {
   "cell_type": "code",
   "execution_count": null,
   "metadata": {},
   "outputs": [],
   "source": [
    "from timeit import timeit"
   ]
  },
  {
   "cell_type": "code",
   "execution_count": null,
   "metadata": {},
   "outputs": [],
   "source": [
    "def testfn1():\n",
    "    system.iterate()\n",
    "    myvar.meshVar()\n",
    "def testfn2():\n",
    "    system.iterate()\n",
    "    system.reset()\n",
    "    myvar.meshVar()"
   ]
  },
  {
   "cell_type": "code",
   "execution_count": null,
   "metadata": {},
   "outputs": [],
   "source": [
    "timeit(myvar.meshVar, system.iterate, number = 100)"
   ]
  },
  {
   "cell_type": "code",
   "execution_count": null,
   "metadata": {},
   "outputs": [],
   "source": [
    "timeit(myvar.meshVar, number = 100)"
   ]
  },
  {
   "cell_type": "code",
   "execution_count": null,
   "metadata": {},
   "outputs": [],
   "source": [
    "myvar.meshVar()"
   ]
  },
  {
   "cell_type": "code",
   "execution_count": null,
   "metadata": {},
   "outputs": [],
   "source": [
    "system.temperatureField.fn_gradient.evaluate(system.mesh)"
   ]
  },
  {
   "cell_type": "code",
   "execution_count": null,
   "metadata": {},
   "outputs": [],
   "source": [
    "mesh = planetengine.utilities.get_substrate(system.viscosityFn)"
   ]
  },
  {
   "cell_type": "code",
   "execution_count": null,
   "metadata": {},
   "outputs": [],
   "source": [
    "mesh is system.mesh"
   ]
  },
  {
   "cell_type": "code",
   "execution_count": null,
   "metadata": {},
   "outputs": [],
   "source": [
    "mesh"
   ]
  },
  {
   "cell_type": "code",
   "execution_count": null,
   "metadata": {},
   "outputs": [],
   "source": [
    "import underworld as uw\n",
    "_fn = uw.function\n",
    "UWFn = _fn._function.Function"
   ]
  },
  {
   "cell_type": "code",
   "execution_count": null,
   "metadata": {},
   "outputs": [],
   "source": [
    "isinstance(system.viscosityFn, UWFn)"
   ]
  },
  {
   "cell_type": "code",
   "execution_count": null,
   "metadata": {},
   "outputs": [],
   "source": [
    "uw.mesh._meshvariable.MeshVariable:"
   ]
  },
  {
   "cell_type": "code",
   "execution_count": null,
   "metadata": {},
   "outputs": [],
   "source": [
    "list(system.viscosityFn._underlyingDataItems)"
   ]
  },
  {
   "cell_type": "code",
   "execution_count": null,
   "metadata": {},
   "outputs": [],
   "source": [
    "def get_substrates(var):\n",
    "    if type(var) == uw.mesh._meshvariable.MeshVariable:\n",
    "        meshes = [var.mesh,]\n",
    "        swarms = []\n",
    "    elif type(var) == uw.swarm._swarmvariable.SwarmVariable:\n",
    "        swarm = var.swarm\n",
    "        mesh = swarm.mesh\n",
    "        meshes = [mesh,]\n",
    "        swarms = [swarm,]\n",
    "    elif isinstance(var, UWFn):\n",
    "        underlying = list(var._underlyingDataItems)\n",
    "        meshes = []\n",
    "        swarms = []\n",
    "        for item in underlying:\n",
    "            under_meshes, under_swarms = get_substrates(item)\n",
    "            meshes.extend(under_meshes)\n",
    "            swarms.extend(under_swarms)\n",
    "        meshes = list(set(meshes))\n",
    "        swarms = list(set(swarms))\n",
    "    else:\n",
    "        raise Exception(\"Input not recognised.\")\n",
    "    meshes = list(sorted(meshes))\n",
    "    swarms = list(sorted(swarms))\n",
    "    return meshes, swarms"
   ]
  },
  {
   "cell_type": "code",
   "execution_count": null,
   "metadata": {},
   "outputs": [],
   "source": [
    "def get_prioritySubstrate(var):\n",
    "    meshes, swarms = get_substrates(var)\n",
    "    if len(swarms) > 0:\n",
    "        substrate = swarms[0]\n",
    "    elif len(meshes) > 0:\n",
    "        substrate = meshes[0]\n",
    "    else:\n",
    "        substrate = None\n",
    "    return substrate\n",
    "\n",
    "def get_sampleData(var):\n",
    "    substrate = get_prioritySubstrate(var)\n",
    "    if substrate is None:\n",
    "        evalCoords = None\n",
    "    else:\n",
    "        evalCoords = substrate.data[0:1]\n",
    "    sample_data = var.evaluate(evalCoords)\n",
    "    return sample_data\n",
    "\n",
    "def get_varDim(var):\n",
    "    sample_data = get_sampleData(var)\n",
    "    varDim = sample_data.shape[-1]\n",
    "    return varDim"
   ]
  },
  {
   "cell_type": "code",
   "execution_count": null,
   "metadata": {},
   "outputs": [],
   "source": [
    "get_varDim(fn.misc.constant(1))"
   ]
  },
  {
   "cell_type": "code",
   "execution_count": null,
   "metadata": {},
   "outputs": [],
   "source": [
    "stress = system.viscosityFn * system.velocityField"
   ]
  },
  {
   "cell_type": "code",
   "execution_count": null,
   "metadata": {},
   "outputs": [],
   "source": [
    "get_substrates(stress)"
   ]
  },
  {
   "cell_type": "code",
   "execution_count": null,
   "metadata": {},
   "outputs": [],
   "source": [
    "mylist = ['a']\n",
    "mylist.extend(['b', 'c'])\n",
    "mylist"
   ]
  },
  {
   "cell_type": "code",
   "execution_count": null,
   "metadata": {},
   "outputs": [],
   "source": []
  }
 ],
 "metadata": {
  "kernelspec": {
   "display_name": "Python 3",
   "language": "python",
   "name": "python3"
  },
  "language_info": {
   "codemirror_mode": {
    "name": "ipython",
    "version": 3
   },
   "file_extension": ".py",
   "mimetype": "text/x-python",
   "name": "python",
   "nbconvert_exporter": "python",
   "pygments_lexer": "ipython3",
   "version": "3.5.3"
  }
 },
 "nbformat": 4,
 "nbformat_minor": 2
}
