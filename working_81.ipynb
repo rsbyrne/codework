{
 "cells": [
  {
   "cell_type": "code",
   "execution_count": 1,
   "metadata": {},
   "outputs": [],
   "source": [
    "import sys\n",
    "import os\n",
    "workPath = os.path.abspath('..')\n",
    "if not workPath in sys.path:\n",
    "    sys.path.append(workPath)"
   ]
  },
  {
   "cell_type": "code",
   "execution_count": 2,
   "metadata": {},
   "outputs": [],
   "source": [
    "import planetengine\n",
    "import everest\n",
    "Fetch = everest.window.Fetch\n",
    "Reader = everest.window.Reader\n",
    "Scope = everest.window.Scope"
   ]
  },
  {
   "cell_type": "code",
   "execution_count": 3,
   "metadata": {},
   "outputs": [],
   "source": [
    "outputPath = '../out'\n",
    "frameName = 'dev'"
   ]
  },
  {
   "cell_type": "code",
   "execution_count": 4,
   "metadata": {},
   "outputs": [],
   "source": [
    "myreader = Reader(everest.frame.get_framepath(frameName, outputPath))"
   ]
  },
  {
   "cell_type": "code",
   "execution_count": 5,
   "metadata": {},
   "outputs": [],
   "source": [
    "myfetch = Fetch('*/*/Nu')"
   ]
  },
  {
   "cell_type": "code",
   "execution_count": 6,
   "metadata": {},
   "outputs": [
    {
     "data": {
      "text/plain": [
       "Scope({('iduufianu-eglouglaesku', ('.', '.', '.')), ('efluapreostu-shaacape', ('.', '.', '.')), ('ushuigaifru-itrioquja', ('.', '.', '.')), ('ofliosoeka-naucoode', ('.', '.', '.')), ('blaisfiibra-isfaadreva', ('.', '.', '.'))})"
      ]
     },
     "execution_count": 6,
     "metadata": {},
     "output_type": "execute_result"
    }
   ],
   "source": [
    "myreader[myfetch]"
   ]
  },
  {
   "cell_type": "code",
   "execution_count": 19,
   "metadata": {},
   "outputs": [],
   "source": [
    "myfetch2 = myfetch > 2"
   ]
  },
  {
   "cell_type": "code",
   "execution_count": 10,
   "metadata": {},
   "outputs": [],
   "source": [
    "myscope = myreader[myfetch2]"
   ]
  },
  {
   "cell_type": "code",
   "execution_count": 16,
   "metadata": {},
   "outputs": [
    {
     "data": {
      "text/plain": [
       "Scope({('iduufianu-eglouglaesku', (15, 18, 21, 24, 27)), ('ofliosoeka-naucoode', (24, 27)), ('efluapreostu-shaacape', (27,)), ('ushuigaifru-itrioquja', (18, 21, 24, 27)), ('blaisfiibra-isfaadreva', (12, 15, 18, 21, 24, 27))})"
      ]
     },
     "execution_count": 16,
     "metadata": {},
     "output_type": "execute_result"
    }
   ],
   "source": [
    "myscope"
   ]
  },
  {
   "cell_type": "code",
   "execution_count": 18,
   "metadata": {
    "scrolled": true
   },
   "outputs": [
    {
     "data": {
      "text/plain": [
       "array([[[ 2.01527082]],\n",
       "\n",
       "       [[ 2.44567066]],\n",
       "\n",
       "       [[ 2.93922513]],\n",
       "\n",
       "       [[ 3.48050198]],\n",
       "\n",
       "       [[ 4.04701355]],\n",
       "\n",
       "       [[ 4.61164654]],\n",
       "\n",
       "       [[ 2.08636153]],\n",
       "\n",
       "       [[ 2.21334323]],\n",
       "\n",
       "       [[ 2.6241319 ]],\n",
       "\n",
       "       [[ 3.08101173]],\n",
       "\n",
       "       [[ 3.57058223]],\n",
       "\n",
       "       [[ 4.07502029]],\n",
       "\n",
       "       [[ 2.18994803]],\n",
       "\n",
       "       [[ 2.43367162]],\n",
       "\n",
       "       [[ 2.32729065]],\n",
       "\n",
       "       [[ 2.69935787]],\n",
       "\n",
       "       [[ 3.10527408]],\n",
       "\n",
       "       [[ 3.53484233]]])"
      ]
     },
     "execution_count": 18,
     "metadata": {},
     "output_type": "execute_result"
    }
   ],
   "source": [
    "myreader[myscope: 'Nu']"
   ]
  },
  {
   "cell_type": "code",
   "execution_count": null,
   "metadata": {},
   "outputs": [],
   "source": []
  }
 ],
 "metadata": {
  "kernelspec": {
   "display_name": "Python 3",
   "language": "python",
   "name": "python3"
  },
  "language_info": {
   "codemirror_mode": {
    "name": "ipython",
    "version": 3
   },
   "file_extension": ".py",
   "mimetype": "text/x-python",
   "name": "python",
   "nbconvert_exporter": "python",
   "pygments_lexer": "ipython3",
   "version": "3.5.3"
  }
 },
 "nbformat": 4,
 "nbformat_minor": 2
}
