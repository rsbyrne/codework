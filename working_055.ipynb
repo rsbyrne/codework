{
 "cells": [
  {
   "cell_type": "code",
   "execution_count": 1,
   "metadata": {},
   "outputs": [],
   "source": [
    "import sys\n",
    "workPath = '/home/jovyan/workspace'\n",
    "if not workPath in sys.path:\n",
    "    sys.path.append(workPath)"
   ]
  },
  {
   "cell_type": "code",
   "execution_count": 2,
   "metadata": {},
   "outputs": [],
   "source": [
    "from planetengine import initials\n",
    "from planetengine import systems\n",
    "from planetengine import functions as pfn\n",
    "from planetengine.visualisation import quickShow\n",
    "import numpy as np\n",
    "from timeit import timeit\n",
    "from planetengine.tests import testsystems"
   ]
  },
  {
   "cell_type": "code",
   "execution_count": 3,
   "metadata": {},
   "outputs": [
    {
     "name": "stdout",
     "output_type": "stream",
     "text": [
      "Fitted 1 variables to the figure.\n"
     ]
    }
   ],
   "source": [
    "system = testsystems.get_system()\n",
    "\n",
    "variable1 = pfn.convert(system.velocityField, 'velocity')\n",
    "variable2 = pfn.convert(system.temperatureField, 'temperature')\n",
    "constant = pfn.convert(2.)\n",
    "shape = pfn.convert(np.array([[0.2, 0.1], [0.9, 0.3], [0.8, 0.7], [0.4, 0.9]]))\n",
    "vanilla = pfn.convert(system.viscosityFn, 'viscosity')\n",
    "\n",
    "def makevar():\n",
    "    var = variable2\n",
    "    var = var ** constant\n",
    "    var = pfn.Region(var, shape)\n",
    "    var = var * variable1\n",
    "    var = pfn.Component.rad(var)\n",
    "    var = pfn.Operations.log(var)\n",
    "    var = pfn.Gradient.mag(var)\n",
    "    var = pfn.HandleNaN.zero(var)\n",
    "    var = var + 1.\n",
    "    var = var * vanilla\n",
    "    var = pfn.Quantiles.terciles(var)\n",
    "    var = pfn.Substitute(var, 2., 0.)\n",
    "    var = pfn.Binarise(var)\n",
    "    var = var * variable1\n",
    "    var_a, var_b = pfn.Split.getall(var)\n",
    "    var_a = var_a * -1.\n",
    "    var_b = var_b * -1.\n",
    "    var = pfn.Merge(var_a, var_b)\n",
    "    var = pfn.Component.rad(var)\n",
    "    var = pfn.Gradient.ang(var)\n",
    "    var = pfn.Normalise(var, [1., 2.])\n",
    "    var = pfn.Clip.torange(var, [1.2, 1.8])\n",
    "    var = pfn.HandleNaN(var, 1.6)\n",
    "    var = pfn.Filter(var, 1.6)\n",
    "    var = pfn.Region(var, shape)\n",
    "    var = pfn.HandleNaN.zero(var)\n",
    "    var = pfn.Binarise(var)\n",
    "    return var"
   ]
  },
  {
   "cell_type": "code",
   "execution_count": 4,
   "metadata": {},
   "outputs": [
    {
     "ename": "AttributeError",
     "evalue": "type object 'HandleNaN' has no attribute 'zero'",
     "output_type": "error",
     "traceback": [
      "\u001b[0;31m---------------------------------------------------------------------------\u001b[0m",
      "\u001b[0;31mAttributeError\u001b[0m                            Traceback (most recent call last)",
      "\u001b[0;32m<ipython-input-4-f6fac7efc3de>\u001b[0m in \u001b[0;36m<module>\u001b[0;34m\u001b[0m\n\u001b[0;32m----> 1\u001b[0;31m \u001b[0mvar\u001b[0m \u001b[0;34m=\u001b[0m \u001b[0mmakevar\u001b[0m\u001b[0;34m(\u001b[0m\u001b[0;34m)\u001b[0m\u001b[0;34m\u001b[0m\u001b[0m\n\u001b[0m",
      "\u001b[0;32m<ipython-input-3-8101a9ff34c8>\u001b[0m in \u001b[0;36mmakevar\u001b[0;34m()\u001b[0m\n\u001b[1;32m     15\u001b[0m     \u001b[0mvar\u001b[0m \u001b[0;34m=\u001b[0m \u001b[0mpfn\u001b[0m\u001b[0;34m.\u001b[0m\u001b[0mOperations\u001b[0m\u001b[0;34m.\u001b[0m\u001b[0mlog\u001b[0m\u001b[0;34m(\u001b[0m\u001b[0mvar\u001b[0m\u001b[0;34m)\u001b[0m\u001b[0;34m\u001b[0m\u001b[0m\n\u001b[1;32m     16\u001b[0m     \u001b[0mvar\u001b[0m \u001b[0;34m=\u001b[0m \u001b[0mpfn\u001b[0m\u001b[0;34m.\u001b[0m\u001b[0mGradient\u001b[0m\u001b[0;34m.\u001b[0m\u001b[0mmag\u001b[0m\u001b[0;34m(\u001b[0m\u001b[0mvar\u001b[0m\u001b[0;34m)\u001b[0m\u001b[0;34m\u001b[0m\u001b[0m\n\u001b[0;32m---> 17\u001b[0;31m     \u001b[0mvar\u001b[0m \u001b[0;34m=\u001b[0m \u001b[0mpfn\u001b[0m\u001b[0;34m.\u001b[0m\u001b[0mHandleNaN\u001b[0m\u001b[0;34m.\u001b[0m\u001b[0mzero\u001b[0m\u001b[0;34m(\u001b[0m\u001b[0mvar\u001b[0m\u001b[0;34m)\u001b[0m\u001b[0;34m\u001b[0m\u001b[0m\n\u001b[0m\u001b[1;32m     18\u001b[0m     \u001b[0mvar\u001b[0m \u001b[0;34m=\u001b[0m \u001b[0mvar\u001b[0m \u001b[0;34m+\u001b[0m \u001b[0;36m1.\u001b[0m\u001b[0;34m\u001b[0m\u001b[0m\n\u001b[1;32m     19\u001b[0m     \u001b[0mvar\u001b[0m \u001b[0;34m=\u001b[0m \u001b[0mvar\u001b[0m \u001b[0;34m*\u001b[0m \u001b[0mvanilla\u001b[0m\u001b[0;34m\u001b[0m\u001b[0m\n",
      "\u001b[0;31mAttributeError\u001b[0m: type object 'HandleNaN' has no attribute 'zero'"
     ]
    }
   ],
   "source": [
    "var = makevar()"
   ]
  },
  {
   "cell_type": "code",
   "execution_count": null,
   "metadata": {},
   "outputs": [],
   "source": [
    "quickShow(var)"
   ]
  }
 ],
 "metadata": {
  "kernelspec": {
   "display_name": "Python 3",
   "language": "python",
   "name": "python3"
  },
  "language_info": {
   "codemirror_mode": {
    "name": "ipython",
    "version": 3
   },
   "file_extension": ".py",
   "mimetype": "text/x-python",
   "name": "python",
   "nbconvert_exporter": "python",
   "pygments_lexer": "ipython3",
   "version": "3.5.3"
  }
 },
 "nbformat": 4,
 "nbformat_minor": 2
}
