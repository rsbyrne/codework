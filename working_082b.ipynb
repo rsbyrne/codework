{
 "cells": [
  {
   "cell_type": "code",
   "execution_count": 1,
   "metadata": {},
   "outputs": [],
   "source": [
    "import sys\n",
    "import os\n",
    "workPath = os.path.abspath('..')\n",
    "if not workPath in sys.path:\n",
    "    sys.path.append(workPath)"
   ]
  },
  {
   "cell_type": "code",
   "execution_count": 2,
   "metadata": {},
   "outputs": [],
   "source": [
    "import planetengine\n",
    "import everest\n",
    "Fetch = everest.window.Fetch\n",
    "Reader = everest.window.Reader\n",
    "Scope = everest.window.Scope"
   ]
  },
  {
   "cell_type": "code",
   "execution_count": 3,
   "metadata": {},
   "outputs": [],
   "source": [
    "outputPath = '../out'\n",
    "frameName = 'dev'"
   ]
  },
  {
   "cell_type": "code",
   "execution_count": 4,
   "metadata": {},
   "outputs": [],
   "source": [
    "# import os\n",
    "# os.remove(os.path.join(outputPath, frameName) + '.frm')\n",
    "# for f in [i / 10. for i in range(7, 10)]:\n",
    "#     for Ra in [1e4, 3e4, 1e5]:\n",
    "#         system = planetengine.systems.isovisc.build(res = 16, Ra = Ra, f = f)\n",
    "#         observer = planetengine.observers.standard.build(system)\n",
    "#         system.anchor(frameName, outputPath)\n",
    "#         observer.coanchor(system)\n",
    "#         for i in range(3):\n",
    "#             for i in range(3):\n",
    "#                 system.iterate(3)\n",
    "#                 system.store()\n",
    "#                 observer.store()\n",
    "#             system.save()\n",
    "#             observer.save()"
   ]
  },
  {
   "cell_type": "code",
   "execution_count": 5,
   "metadata": {},
   "outputs": [],
   "source": [
    "myreader = Reader(everest.frame.get_framepath(frameName, outputPath))"
   ]
  },
  {
   "cell_type": "code",
   "execution_count": 6,
   "metadata": {},
   "outputs": [
    {
     "data": {
      "text/plain": [
       "Scope({('agluupriba-eyuibloisto', '...'), ('twiuprueplu-theereidwo', '...'), ('ushuupreuji-isugreaca', '...'), ('ajiihoowo-ocebliovu', '...'), ('ushuigaifru-itrioquja', '...'), ('eshaiyooca-apleoputu', '...'), ('ekizaeke-ikwiogroaphi', '...'), ('ugreefoago-eshiiskuaspe', '...'), ('swiaphoedro-umuinupru', '...'), ('ephuazeize-akaiglaaflo', '...'), ('blaisfiibra-isfaadreva', '...'), ('exuwoode-acaoklaetwi', '...'), ('ecuisluubi-egloadiuqe', '...'), ('iduufianu-eglouglaesku', '...'), ('ustukruifro-iskitweekwe', '...'), ('eploiyeize-idreikwaespa', '...'), ('iskiageufe-ojujoofli', '...'), ('ogeeliesta-aphuifeoswe', '...'), ('xabaasno-hiideekru', '...')})"
      ]
     },
     "execution_count": 6,
     "metadata": {},
     "output_type": "execute_result"
    }
   ],
   "source": [
    "myreader[...]"
   ]
  },
  {
   "cell_type": "code",
   "execution_count": 26,
   "metadata": {},
   "outputs": [],
   "source": [
    "a, b = (arr.flatten() for arr in myreader[Fetch('system'): ('modeltime', 'Nu')])"
   ]
  },
  {
   "cell_type": "code",
   "execution_count": 30,
   "metadata": {
    "scrolled": true
   },
   "outputs": [
    {
     "data": {
      "text/plain": [
       "<matplotlib.collections.PathCollection at 0x7ff85d9c19e8>"
      ]
     },
     "execution_count": 30,
     "metadata": {},
     "output_type": "execute_result"
    },
    {
     "data": {
      "image/png": "[encoded data removed]",
      "text/plain": [
       "<Figure size 432x288 with 1 Axes>"
      ]
     },
     "metadata": {
      "needs_background": "light"
     },
     "output_type": "display_data"
    }
   ],
   "source": [
    "import matplotlib.pyplot as plt\n",
    "plt.scatter(a, b)"
   ]
  },
  {
   "cell_type": "code",
   "execution_count": 31,
   "metadata": {},
   "outputs": [],
   "source": [
    "import pickle"
   ]
  },
  {
   "cell_type": "code",
   "execution_count": 34,
   "metadata": {},
   "outputs": [],
   "source": [
    "pickled_data = pickle.dumps(Fetch('Ra') * Fetch('f'))"
   ]
  },
  {
   "cell_type": "code",
   "execution_count": 35,
   "metadata": {},
   "outputs": [
    {
     "data": {
      "text/plain": [
       "b'\\x80\\x03ceverest.window\\nFetch\\nq\\x00)\\x81q\\x01}q\\x02(X\\x04\\x00\\x00\\x00argsq\\x03h\\x00)\\x81q\\x04}q\\x05(h\\x03X\\x02\\x00\\x00\\x00Raq\\x06\\x85q\\x07X\\t\\x00\\x00\\x00operationq\\x08NX\\x05\\x00\\x00\\x00opTagq\\tX\\x04\\x00\\x00\\x00anonq\\nubh\\x00)\\x81q\\x0b}q\\x0c(h\\x03X\\x01\\x00\\x00\\x00fq\\r\\x85q\\x0eh\\x08Nh\\th\\nub\\x86q\\x0fh\\x08c_operator\\nmul\\nq\\x10h\\tX\\x07\\x00\\x00\\x00__mul__q\\x11ub.'"
      ]
     },
     "execution_count": 35,
     "metadata": {},
     "output_type": "execute_result"
    }
   ],
   "source": [
    "pickled_data"
   ]
  },
  {
   "cell_type": "code",
   "execution_count": 8,
   "metadata": {
    "scrolled": true
   },
   "outputs": [],
   "source": [
    "# myreader[((Fetch('Ra') * Fetch('f') ** 2 > 3e4) & (Fetch('modeltime') > 0.01)): ('temperatureField', 'temperatureDotField')]"
   ]
  }
 ],
 "metadata": {
  "kernelspec": {
   "display_name": "Python 3",
   "language": "python",
   "name": "python3"
  },
  "language_info": {
   "codemirror_mode": {
    "name": "ipython",
    "version": 3
   },
   "file_extension": ".py",
   "mimetype": "text/x-python",
   "name": "python",
   "nbconvert_exporter": "python",
   "pygments_lexer": "ipython3",
   "version": "3.5.3"
  }
 },
 "nbformat": 4,
 "nbformat_minor": 2
}
