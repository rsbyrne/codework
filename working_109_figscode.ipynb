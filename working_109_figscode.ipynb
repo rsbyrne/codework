{
 "cells": [
  {
   "cell_type": "code",
   "execution_count": 1,
   "metadata": {},
   "outputs": [],
   "source": [
    "import planetengine\n",
    "plt = planetengine.visualisation.plot\n",
    "%matplotlib inline"
   ]
  },
  {
   "cell_type": "code",
   "execution_count": 2,
   "metadata": {},
   "outputs": [],
   "source": [
    "import numpy as np\n",
    "import random"
   ]
  },
  {
   "cell_type": "code",
   "execution_count": 14,
   "metadata": {},
   "outputs": [],
   "source": [
    "xs = np.random.random(100)\n",
    "ys = np.random.random(100)\n",
    "ss = np.random.random(100) * 10.\n",
    "cs = np.random.random(100)"
   ]
  },
  {
   "cell_type": "code",
   "execution_count": 15,
   "metadata": {},
   "outputs": [],
   "source": [
    "plot = plt.Plot()"
   ]
  },
  {
   "cell_type": "code",
   "execution_count": 16,
   "metadata": {},
   "outputs": [],
   "source": [
    "ax = plot.add_rectilinear()"
   ]
  },
  {
   "cell_type": "code",
   "execution_count": 17,
   "metadata": {},
   "outputs": [
    {
     "data": {
      "text/plain": [
       "<matplotlib.collections.PathCollection at 0x7f151de8f438>"
      ]
     },
     "execution_count": 17,
     "metadata": {},
     "output_type": "execute_result"
    }
   ],
   "source": [
    "ax.scatter(xs, ys, ss, cs)"
   ]
  },
  {
   "cell_type": "code",
   "execution_count": 18,
   "metadata": {},
   "outputs": [
    {
     "data": {
      "image/png": "[encoded data removed]",
      "text/plain": [
       "<Figure size 300x300 with 1 Axes>"
      ]
     },
     "execution_count": 18,
     "metadata": {},
     "output_type": "execute_result"
    }
   ],
   "source": [
    "plot.show()"
   ]
  },
  {
   "cell_type": "code",
   "execution_count": 9,
   "metadata": {
    "scrolled": true
   },
   "outputs": [
    {
     "name": "stdout",
     "output_type": "stream",
     "text": [
      "Help on function add_subplot in module matplotlib.figure:\n",
      "\n",
      "add_subplot(self, *args, **kwargs)\n",
      "    Add an `~.axes.Axes` to the figure as part of a subplot arrangement.\n",
      "    \n",
      "    Call signatures::\n",
      "    \n",
      "       add_subplot(nrows, ncols, index, **kwargs)\n",
      "       add_subplot(pos, **kwargs)\n",
      "       add_subplot(ax)\n",
      "    \n",
      "    Parameters\n",
      "    ----------\n",
      "    *args\n",
      "        Either a 3-digit integer or three separate integers\n",
      "        describing the position of the subplot. If the three\n",
      "        integers are *nrows*, *ncols*, and *index* in order, the\n",
      "        subplot will take the *index* position on a grid with *nrows*\n",
      "        rows and *ncols* columns. *index* starts at 1 in the upper left\n",
      "        corner and increases to the right.\n",
      "    \n",
      "        *pos* is a three digit integer, where the first digit is the\n",
      "        number of rows, the second the number of columns, and the third\n",
      "        the index of the subplot. i.e. fig.add_subplot(235) is the same as\n",
      "        fig.add_subplot(2, 3, 5). Note that all integers must be less than\n",
      "        10 for this form to work.\n",
      "    \n",
      "    projection : {None, 'aitoff', 'hammer', 'lambert', 'mollweide', 'polar', 'rectilinear', str}, optional\n",
      "        The projection type of the subplot (`~.axes.Axes`). *str* is the\n",
      "        name of a custom projection, see `~matplotlib.projections`. The\n",
      "        default None results in a 'rectilinear' projection.\n",
      "    \n",
      "    polar : boolean, optional\n",
      "        If True, equivalent to projection='polar'.\n",
      "    \n",
      "    sharex, sharey : `~.axes.Axes`, optional\n",
      "        Share the x or y `~matplotlib.axis` with sharex and/or sharey.\n",
      "        The axis will have the same limits, ticks, and scale as the axis\n",
      "        of the shared axes.\n",
      "    \n",
      "    label : str\n",
      "        A label for the returned axes.\n",
      "    \n",
      "    Other Parameters\n",
      "    ----------------\n",
      "    **kwargs\n",
      "        This method also takes the keyword arguments for\n",
      "        the returned axes base class. The keyword arguments for the\n",
      "        rectilinear base class `~.axes.Axes` can be found in\n",
      "        the following table but there might also be other keyword\n",
      "        arguments if another projection is used.\n",
      "          adjustable: {'box', 'datalim'}\n",
      "      agg_filter: a filter function, which takes a (m, n, 3) float array and a dpi value, and returns a (m, n, 3) array \n",
      "      alpha: float\n",
      "      anchor: 2-tuple of floats or {'C', 'SW', 'S', 'SE', ...}\n",
      "      animated: bool\n",
      "      aspect: {'auto', 'equal'} or num\n",
      "      autoscale_on: bool\n",
      "      autoscalex_on: bool\n",
      "      autoscaley_on: bool\n",
      "      axes_locator: Callable[[Axes, Renderer], Bbox]\n",
      "      axisbelow: bool or 'line'\n",
      "      clip_box: `.Bbox`\n",
      "      clip_on: bool\n",
      "      clip_path: [(`~matplotlib.path.Path`, `.Transform`) | `.Patch` | None] \n",
      "      contains: callable\n",
      "      facecolor: color\n",
      "      fc: color\n",
      "      figure: `.Figure`\n",
      "      frame_on: bool\n",
      "      gid: str\n",
      "      in_layout: bool\n",
      "      label: object\n",
      "      navigate: bool\n",
      "      navigate_mode: unknown\n",
      "      path_effects: `.AbstractPathEffect`\n",
      "      picker: None or bool or float or callable\n",
      "      position: [left, bottom, width, height] or `~matplotlib.transforms.Bbox`\n",
      "      rasterization_zorder: float or None\n",
      "      rasterized: bool or None\n",
      "      sketch_params: (scale: float, length: float, randomness: float) \n",
      "      snap: bool or None\n",
      "      title: str\n",
      "      transform: `.Transform`\n",
      "      url: str\n",
      "      visible: bool\n",
      "      xbound: unknown\n",
      "      xlabel: str\n",
      "      xlim: (left: float, right: float)\n",
      "      xmargin: float greater than -0.5\n",
      "      xscale: {\"linear\", \"log\", \"symlog\", \"logit\", ...}\n",
      "      xticklabels: List[str]\n",
      "      xticks: list\n",
      "      ybound: unknown\n",
      "      ylabel: str\n",
      "      ylim: (bottom: float, top: float)\n",
      "      ymargin: float greater than -0.5\n",
      "      yscale: {\"linear\", \"log\", \"symlog\", \"logit\", ...}\n",
      "      yticklabels: List[str]\n",
      "      yticks: list\n",
      "      zorder: float\n",
      "    \n",
      "    Returns\n",
      "    -------\n",
      "    axes : an `.axes.SubplotBase` subclass of `~.axes.Axes` (or a                subclass of `~.axes.Axes`)\n",
      "    \n",
      "        The axes of the subplot. The returned axes base class depends on\n",
      "        the projection used. It is `~.axes.Axes` if rectilinear projection\n",
      "        are used and `.projections.polar.PolarAxes` if polar projection\n",
      "        are used. The returned axes is then a subplot subclass of the\n",
      "        base class.\n",
      "    \n",
      "    Notes\n",
      "    -----\n",
      "    If the figure already has a subplot with key (*args*,\n",
      "    *kwargs*) then it will simply make that subplot current and\n",
      "    return it.  This behavior is deprecated. Meanwhile, if you do\n",
      "    not want this behavior (i.e., you want to force the creation of a\n",
      "    new suplot), you must use a unique set of args and kwargs.  The axes\n",
      "    *label* attribute has been exposed for this purpose: if you want\n",
      "    two subplots that are otherwise identical to be added to the figure,\n",
      "    make sure you give them unique labels.\n",
      "    \n",
      "    In rare circumstances, `.add_subplot` may be called with a single\n",
      "    argument, a subplot axes instance already created in the\n",
      "    present figure but not in the figure's list of axes.\n",
      "    \n",
      "    See Also\n",
      "    --------\n",
      "    .Figure.add_axes\n",
      "    .pyplot.subplot\n",
      "    .pyplot.axes\n",
      "    .Figure.subplots\n",
      "    .pyplot.subplots\n",
      "    \n",
      "    Examples\n",
      "    --------\n",
      "    ::\n",
      "    \n",
      "        fig=plt.figure(1)\n",
      "        fig.add_subplot(221)\n",
      "    \n",
      "        # equivalent but more general\n",
      "        ax1=fig.add_subplot(2, 2, 1)\n",
      "    \n",
      "        # add a subplot with no frame\n",
      "        ax2=fig.add_subplot(222, frameon=False)\n",
      "    \n",
      "        # add a polar subplot\n",
      "        fig.add_subplot(223, projection='polar')\n",
      "    \n",
      "        # add a red subplot that share the x-axis with ax1\n",
      "        fig.add_subplot(224, sharex=ax1, facecolor='red')\n",
      "    \n",
      "        #delete x2 from the figure\n",
      "        fig.delaxes(ax2)\n",
      "    \n",
      "        #add x2 to the figure again\n",
      "        fig.add_subplot(ax2)\n",
      "\n"
     ]
    }
   ],
   "source": [
    "import matplotlib\n",
    "help(matplotlib.figure.Figure.add_subplot)\n",
    "# help(matplotlib.axes.Axes)"
   ]
  },
  {
   "cell_type": "code",
   "execution_count": null,
   "metadata": {},
   "outputs": [],
   "source": []
  }
 ],
 "metadata": {
  "kernelspec": {
   "display_name": "Python 3",
   "language": "python",
   "name": "python3"
  },
  "language_info": {
   "codemirror_mode": {
    "name": "ipython",
    "version": 3
   },
   "file_extension": ".py",
   "mimetype": "text/x-python",
   "name": "python",
   "nbconvert_exporter": "python",
   "pygments_lexer": "ipython3",
   "version": "3.5.3"
  }
 },
 "nbformat": 4,
 "nbformat_minor": 2
}
