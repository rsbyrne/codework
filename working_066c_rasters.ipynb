{
 "cells": [
  {
   "cell_type": "code",
   "execution_count": 1,
   "metadata": {},
   "outputs": [],
   "source": [
    "import sys\n",
    "workPath = '/home/jovyan/workspace'\n",
    "if not workPath in sys.path:\n",
    "    sys.path.append(workPath)"
   ]
  },
  {
   "cell_type": "code",
   "execution_count": 2,
   "metadata": {},
   "outputs": [],
   "source": [
    "from PIL import Image\n",
    "import numpy as np\n",
    "from IPython.display import display\n",
    "\n",
    "import planetengine\n",
    "pfn = planetengine.functions\n",
    "quickShow = planetengine.visualisation.quickShow"
   ]
  },
  {
   "cell_type": "code",
   "execution_count": 3,
   "metadata": {},
   "outputs": [],
   "source": [
    "system = planetengine.systems.isovisc.build(res = 32, Ra = 1e6, aspect = 2.)\n",
    "system.initialise({'temperatureField': planetengine.initials.sinusoidal.build(freq = system.aspect)})"
   ]
  },
  {
   "cell_type": "code",
   "execution_count": null,
   "metadata": {},
   "outputs": [],
   "source": [
    "channel0 = pfn.component.mag(system.stokes.fn_bodyforce)\n",
    "channel1 = pfn.component.mag(system.velocityField)\n",
    "channel2 = pfn.component.rad(system.velocityField)\n",
    "channel3 = pfn.gradient.mag(system.temperatureField)"
   ]
  },
  {
   "cell_type": "code",
   "execution_count": null,
   "metadata": {
    "scrolled": false
   },
   "outputs": [],
   "source": [
    "my_raster = planetengine.raster.Raster(\n",
    "    channel0,\n",
    "    channel1,\n",
    "    channel3,\n",
    "    mode = 'RGB',\n",
    "    size = (int(system.aspect * 16), 16)\n",
    "    )\n",
    "my_raster.update()\n",
    "outdir = '../testrasters3'\n",
    "myfig = planetengine.visualisation.QuickFig(system.temperatureField)\n",
    "system.reset()\n",
    "for i in range(1000):\n",
    "    system.go(10)\n",
    "    myfig.update()\n",
    "#     myfig.show()\n",
    "    myfig.save(outdir, 'testfig_' + str(system.step.value).zfill(8) + '.png')\n",
    "    my_raster.update()\n",
    "#     display(my_raster.img.resize((256, 256)))\n",
    "    my_raster.save(outdir, 'raster', add = system.step)"
   ]
  },
  {
   "cell_type": "code",
   "execution_count": null,
   "metadata": {},
   "outputs": [],
   "source": []
  }
 ],
 "metadata": {
  "kernelspec": {
   "display_name": "Python 3",
   "language": "python",
   "name": "python3"
  },
  "language_info": {
   "codemirror_mode": {
    "name": "ipython",
    "version": 3
   },
   "file_extension": ".py",
   "mimetype": "text/x-python",
   "name": "python",
   "nbconvert_exporter": "python",
   "pygments_lexer": "ipython3",
   "version": "3.5.3"
  }
 },
 "nbformat": 4,
 "nbformat_minor": 2
}
