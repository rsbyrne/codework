{
 "cells": [
  {
   "cell_type": "code",
   "execution_count": null,
   "metadata": {},
   "outputs": [],
   "source": []
  },
  {
   "cell_type": "code",
   "execution_count": 18,
   "metadata": {},
   "outputs": [],
   "source": [
    "class A:\n",
    "    def __bool__(self, arg):\n",
    "        return bool(arg)"
   ]
  },
  {
   "cell_type": "code",
   "execution_count": 19,
   "metadata": {},
   "outputs": [],
   "source": [
    "myinst = A()"
   ]
  },
  {
   "cell_type": "code",
   "execution_count": 22,
   "metadata": {},
   "outputs": [
    {
     "ename": "TypeError",
     "evalue": "__bool__() missing 1 required positional argument: 'arg'",
     "output_type": "error",
     "traceback": [
      "\u001b[0;31m---------------------------------------------------------------------------\u001b[0m",
      "\u001b[0;31mTypeError\u001b[0m                                 Traceback (most recent call last)",
      "\u001b[0;32m<ipython-input-22-8c9eda592523>\u001b[0m in \u001b[0;36m<module>\u001b[0;34m\u001b[0m\n\u001b[0;32m----> 1\u001b[0;31m \u001b[0mbool\u001b[0m\u001b[0;34m(\u001b[0m\u001b[0mmyinst\u001b[0m\u001b[0;34m)\u001b[0m\u001b[0;34m\u001b[0m\u001b[0m\n\u001b[0m",
      "\u001b[0;31mTypeError\u001b[0m: __bool__() missing 1 required positional argument: 'arg'"
     ]
    }
   ],
   "source": [
    "bool(myinst)"
   ]
  },
  {
   "cell_type": "code",
   "execution_count": 15,
   "metadata": {},
   "outputs": [],
   "source": [
    "def myfn(a : bool,):\n",
    "    print(a)"
   ]
  },
  {
   "cell_type": "code",
   "execution_count": 17,
   "metadata": {},
   "outputs": [
    {
     "name": "stdout",
     "output_type": "stream",
     "text": [
      "1\n"
     ]
    }
   ],
   "source": [
    "myfn(1)"
   ]
  },
  {
   "cell_type": "code",
   "execution_count": 1,
   "metadata": {},
   "outputs": [],
   "source": [
    "import sys\n",
    "import os\n",
    "workPath = os.path.abspath('..')\n",
    "if not workPath in sys.path:\n",
    "    sys.path.append(workPath)"
   ]
  },
  {
   "cell_type": "code",
   "execution_count": 2,
   "metadata": {},
   "outputs": [],
   "source": [
    "from everest.builts.examples import pimachine\n",
    "from everest.builts import threshold\n",
    "from everest.builts import task as taskModule"
   ]
  },
  {
   "cell_type": "code",
   "execution_count": 3,
   "metadata": {
    "scrolled": true
   },
   "outputs": [],
   "source": [
    "iterator1 = pimachine.build()\n",
    "stop1 = threshold.build(built = iterator1, prop = 'count', op = 'ge', arg = 100)\n",
    "iterator2 = pimachine.build(s = 2)\n",
    "stop2 = threshold.build(built = iterator2, prop = 'count', op = 'ge', arg = 100)"
   ]
  },
  {
   "cell_type": "code",
   "execution_count": 4,
   "metadata": {},
   "outputs": [],
   "source": [
    "task1 = taskModule.build(iterator = iterator1, stop = stop1)\n",
    "task2 = taskModule.build(prereq = task1, iterator = iterator2, stop = stop2)\n",
    "task2()"
   ]
  },
  {
   "cell_type": "code",
   "execution_count": 5,
   "metadata": {},
   "outputs": [
    {
     "data": {
      "text/plain": [
       "100"
      ]
     },
     "execution_count": 5,
     "metadata": {},
     "output_type": "execute_result"
    }
   ],
   "source": [
    "iterator2.count"
   ]
  },
  {
   "cell_type": "code",
   "execution_count": 6,
   "metadata": {},
   "outputs": [
    {
     "data": {
      "text/plain": [
       "3.808769881693245"
      ]
     },
     "execution_count": 6,
     "metadata": {},
     "output_type": "execute_result"
    }
   ],
   "source": [
    "iterator2.state"
   ]
  },
  {
   "cell_type": "code",
   "execution_count": 7,
   "metadata": {},
   "outputs": [],
   "source": [
    "task2.anchor('test', '..')"
   ]
  },
  {
   "cell_type": "code",
   "execution_count": 8,
   "metadata": {},
   "outputs": [
    {
     "data": {
      "text/plain": [
       "{'_globals_': '/_globals_',\n",
       " '_globals_/_classes_': '/_globals_/_classes_',\n",
       " '_globals_/_classes_/262505473484924334027581845788945875513': \"import numpy as np\\n\\nfrom everest.builts._iterator import Iterator\\n\\nclass PiMachine(Iterator):\\n    # Implements the Bailey-Borwein-Plouffe formula;\\n    # default args yield pi.\\n    def __init__(\\n            self,\\n            s : int = 1,\\n            b : int = 16,\\n            A : list = [4, 0, 0, -2, -1, -1, 0, 0],\\n            **kwargs\\n            ):\\n        self.state = 0.\\n        self.kth = lambda k: \\\\\\n            1. / b **k \\\\\\n            * sum([a / (len(A) * k + (j + 1))**s \\\\\\n                for j, a in enumerate(A)\\n                ])\\n        def out():\\n            yield np.array(self.state)\\n        def initialise():\\n            self.state = self.kth(0)\\n        def iterate():\\n            kthVal = self.kth(self.count())\\n            self.state += kthVal\\n        def load(loadDict):\\n            self.state = loadDict['pi']\\n        super().__init__(\\n            initialise,\\n            iterate,\\n            out,\\n            ['pi',],\\n            load,\\n            **kwargs\\n            )\\n\\nCLASS = PiMachine\\nbuild = CLASS.build\\nget = CLASS.get\\n\",\n",
       " '_globals_/_classes_/48661531321439598367111195433677213297': \"from everest.builts._condition import Condition\\nfrom everest.builts import Built\\n\\nclass Threshold(Condition):\\n    def __init__(\\n            self,\\n            built : Built = None,\\n            prop : str = None,\\n            op : str = 'eq',\\n            arg = None\\n            ):\\n        op = '__{a}__'.format(a = op)\\n        getProperty = lambda: getattr(built, prop)\\n        getOpFn = lambda: getattr(getProperty(), op)\\n        boolFn = lambda: getOpFn()(arg)\\n        super().__init__()\\n        self._bool_fns.append(boolFn)\\n\\nCLASS = Threshold\\nbuild = CLASS.build\\nget = CLASS.get\\n\",\n",
       " '_globals_/_classes_/60704404414024527367311823656389966022': 'from types import FunctionType\\n\\nfrom everest.builts._task import Task as _Task\\n\\nclass Task(_Task):\\n\\n    def __init__(\\n            self,\\n            prereq = True,\\n            iterator = None,\\n            stop = None,\\n            **kwargs\\n            ):\\n        super().__init__(prereq, iterator, stop, **kwargs)\\n\\nCLASS = Task\\nbuild = CLASS.build\\nget = CLASS.get\\n',\n",
       " 'fiibleuple-usloigrouflo': '/fiibleuple-usloigrouflo',\n",
       " 'fiibleuple-usloigrouflo/_count_': array([], dtype=int32),\n",
       " 'fiibleuple-usloigrouflo/hashID': 'fiibleuple-usloigrouflo',\n",
       " 'fiibleuple-usloigrouflo/inputs': '/fiibleuple-usloigrouflo/inputs',\n",
       " 'fiibleuple-usloigrouflo/inputs/A': array([ 4,  0,  0, -2, -1, -1,  0,  0]),\n",
       " 'fiibleuple-usloigrouflo/inputs/b': 16,\n",
       " 'fiibleuple-usloigrouflo/inputs/s': 2,\n",
       " 'fiibleuple-usloigrouflo/inputsHash': '279713988716664809760226913201818572144',\n",
       " 'fiibleuple-usloigrouflo/instanceHash': '171285445940748196467028807047123765800',\n",
       " 'fiibleuple-usloigrouflo/pi': array([], dtype=float64),\n",
       " 'fiibleuple-usloigrouflo/typeHash': '262505473484924334027581845788945875513',\n",
       " 'ifriomiapra-ekoufluakli': '/ifriomiapra-ekoufluakli',\n",
       " 'ifriomiapra-ekoufluakli/hashID': 'ifriomiapra-ekoufluakli',\n",
       " 'ifriomiapra-ekoufluakli/inputs': '/ifriomiapra-ekoufluakli/inputs',\n",
       " 'ifriomiapra-ekoufluakli/inputs/arg': 100,\n",
       " 'ifriomiapra-ekoufluakli/inputs/built': '_built_odriawiaza-poorioblu',\n",
       " 'ifriomiapra-ekoufluakli/inputs/op': 'ge',\n",
       " 'ifriomiapra-ekoufluakli/inputs/prop': 'count',\n",
       " 'ifriomiapra-ekoufluakli/inputsHash': '263742613885019371525750917916396520119',\n",
       " 'ifriomiapra-ekoufluakli/instanceHash': '14760421259767559350791723883504112265',\n",
       " 'ifriomiapra-ekoufluakli/typeHash': '48661531321439598367111195433677213297',\n",
       " 'ispaaskookwa-areegriflu': '/ispaaskookwa-areegriflu',\n",
       " 'ispaaskookwa-areegriflu/hashID': 'ispaaskookwa-areegriflu',\n",
       " 'ispaaskookwa-areegriflu/inputs': '/ispaaskookwa-areegriflu/inputs',\n",
       " 'ispaaskookwa-areegriflu/inputs/iterator': '_built_odriawiaza-poorioblu',\n",
       " 'ispaaskookwa-areegriflu/inputs/prereq': True,\n",
       " 'ispaaskookwa-areegriflu/inputs/stop': '_built_ifriomiapra-ekoufluakli',\n",
       " 'ispaaskookwa-areegriflu/inputsHash': '261827765302787409155574592175250720592',\n",
       " 'ispaaskookwa-areegriflu/instanceHash': '195260920275620050309467297877448583387',\n",
       " 'ispaaskookwa-areegriflu/typeHash': '60704404414024527367311823656389966022',\n",
       " 'iyekwueglo-adiikwuera': '/iyekwueglo-adiikwuera',\n",
       " 'iyekwueglo-adiikwuera/hashID': 'iyekwueglo-adiikwuera',\n",
       " 'iyekwueglo-adiikwuera/inputs': '/iyekwueglo-adiikwuera/inputs',\n",
       " 'iyekwueglo-adiikwuera/inputs/arg': 100,\n",
       " 'iyekwueglo-adiikwuera/inputs/built': '_built_fiibleuple-usloigrouflo',\n",
       " 'iyekwueglo-adiikwuera/inputs/op': 'ge',\n",
       " 'iyekwueglo-adiikwuera/inputs/prop': 'count',\n",
       " 'iyekwueglo-adiikwuera/inputsHash': '56969414328762273895656946067694305006',\n",
       " 'iyekwueglo-adiikwuera/instanceHash': '191639478794685043340040208381751870106',\n",
       " 'iyekwueglo-adiikwuera/typeHash': '48661531321439598367111195433677213297',\n",
       " 'odriawiaza-poorioblu': '/odriawiaza-poorioblu',\n",
       " 'odriawiaza-poorioblu/_count_': array([ 3,  6,  9, 12, 15, 18, 21, 24, 27], dtype=int32),\n",
       " 'odriawiaza-poorioblu/hashID': 'odriawiaza-poorioblu',\n",
       " 'odriawiaza-poorioblu/inputs': '/odriawiaza-poorioblu/inputs',\n",
       " 'odriawiaza-poorioblu/inputs/A': array([ 4,  0,  0, -2, -1, -1,  0,  0]),\n",
       " 'odriawiaza-poorioblu/inputs/b': 16,\n",
       " 'odriawiaza-poorioblu/inputs/s': 1,\n",
       " 'odriawiaza-poorioblu/inputsHash': '153179591576991933328464680446222893800',\n",
       " 'odriawiaza-poorioblu/instanceHash': '39969097864756874379935510620590371519',\n",
       " 'odriawiaza-poorioblu/pi': array([3.14159246, 3.14159265, 3.14159265, 3.14159265, 3.14159265,\n",
       "        3.14159265, 3.14159265, 3.14159265, 3.14159265]),\n",
       " 'odriawiaza-poorioblu/typeHash': '262505473484924334027581845788945875513',\n",
       " 'oxuasnaawe-afleglaoge': '/oxuasnaawe-afleglaoge',\n",
       " 'oxuasnaawe-afleglaoge/hashID': 'oxuasnaawe-afleglaoge',\n",
       " 'oxuasnaawe-afleglaoge/inputs': '/oxuasnaawe-afleglaoge/inputs',\n",
       " 'oxuasnaawe-afleglaoge/inputs/iterator': '_built_fiibleuple-usloigrouflo',\n",
       " 'oxuasnaawe-afleglaoge/inputs/prereq': '_built_ispaaskookwa-areegriflu',\n",
       " 'oxuasnaawe-afleglaoge/inputs/stop': '_built_iyekwueglo-adiikwuera',\n",
       " 'oxuasnaawe-afleglaoge/inputsHash': '66612487144671287496121725397745874771',\n",
       " 'oxuasnaawe-afleglaoge/instanceHash': '66293404697441165995017143886648763786',\n",
       " 'oxuasnaawe-afleglaoge/typeHash': '60704404414024527367311823656389966022'}"
      ]
     },
     "execution_count": 8,
     "metadata": {},
     "output_type": "execute_result"
    }
   ],
   "source": [
    "task2.reader['**']"
   ]
  },
  {
   "cell_type": "code",
   "execution_count": null,
   "metadata": {},
   "outputs": [],
   "source": []
  }
 ],
 "metadata": {
  "kernelspec": {
   "display_name": "Python 3",
   "language": "python",
   "name": "python3"
  },
  "language_info": {
   "codemirror_mode": {
    "name": "ipython",
    "version": 3
   },
   "file_extension": ".py",
   "mimetype": "text/x-python",
   "name": "python",
   "nbconvert_exporter": "python",
   "pygments_lexer": "ipython3",
   "version": "3.5.3"
  }
 },
 "nbformat": 4,
 "nbformat_minor": 2
}
