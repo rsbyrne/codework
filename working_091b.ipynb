{
 "cells": [
  {
   "cell_type": "code",
   "execution_count": 1,
   "metadata": {},
   "outputs": [],
   "source": [
    "import sys\n",
    "import os\n",
    "workPath = os.path.abspath('..')\n",
    "if not workPath in sys.path:\n",
    "    sys.path.append(workPath)"
   ]
  },
  {
   "cell_type": "code",
   "execution_count": 2,
   "metadata": {},
   "outputs": [],
   "source": [
    "from planetengine.systems import isovisc"
   ]
  },
  {
   "cell_type": "code",
   "execution_count": 3,
   "metadata": {},
   "outputs": [],
   "source": [
    "system = isovisc.build()"
   ]
  },
  {
   "cell_type": "code",
   "execution_count": 5,
   "metadata": {},
   "outputs": [],
   "source": [
    "myouts = system.out()"
   ]
  },
  {
   "cell_type": "code",
   "execution_count": 10,
   "metadata": {},
   "outputs": [],
   "source": [
    "step, time, temp, tempDot = myouts"
   ]
  },
  {
   "cell_type": "code",
   "execution_count": 16,
   "metadata": {},
   "outputs": [],
   "source": [
    "import numpy as np"
   ]
  },
  {
   "cell_type": "code",
   "execution_count": 15,
   "metadata": {},
   "outputs": [
    {
     "data": {
      "text/plain": [
       "array([[ 0.],\n",
       "       [ 0.],\n",
       "       [ 0.],\n",
       "       ..., \n",
       "       [ 0.],\n",
       "       [ 0.],\n",
       "       [ 0.]])"
      ]
     },
     "execution_count": 15,
     "metadata": {},
     "output_type": "execute_result"
    }
   ],
   "source": [
    "temp"
   ]
  },
  {
   "cell_type": "code",
   "execution_count": 17,
   "metadata": {},
   "outputs": [],
   "source": [
    "system.store()"
   ]
  },
  {
   "cell_type": "code",
   "execution_count": 18,
   "metadata": {},
   "outputs": [
    {
     "data": {
      "text/plain": [
       "[(array(0, dtype=int32), array(0.0), array([[ 0.],\n",
       "         [ 0.],\n",
       "         [ 0.],\n",
       "         ..., \n",
       "         [ 0.],\n",
       "         [ 0.],\n",
       "         [ 0.]]), array([[ 1.        ],\n",
       "         [ 0.97456147],\n",
       "         [ 0.94914657],\n",
       "         ..., \n",
       "         [ 0.05085343],\n",
       "         [ 0.02543853],\n",
       "         [ 0.        ]]))]"
      ]
     },
     "execution_count": 18,
     "metadata": {},
     "output_type": "execute_result"
    }
   ],
   "source": [
    "system.stored"
   ]
  },
  {
   "cell_type": "code",
   "execution_count": 19,
   "metadata": {},
   "outputs": [],
   "source": [
    "system.iterate()"
   ]
  },
  {
   "cell_type": "code",
   "execution_count": 20,
   "metadata": {},
   "outputs": [],
   "source": [
    "system.store()"
   ]
  },
  {
   "cell_type": "code",
   "execution_count": 21,
   "metadata": {},
   "outputs": [
    {
     "data": {
      "text/plain": [
       "[(array(0, dtype=int32), array(0.0), array([[ 0.],\n",
       "         [ 0.],\n",
       "         [ 0.],\n",
       "         ..., \n",
       "         [ 0.],\n",
       "         [ 0.],\n",
       "         [ 0.]]), array([[ 1.        ],\n",
       "         [ 0.97456147],\n",
       "         [ 0.94914657],\n",
       "         ..., \n",
       "         [ 0.05085343],\n",
       "         [ 0.02543853],\n",
       "         [ 0.        ]])),\n",
       " (array(1, dtype=int32), array(7.900428632971577e-08), array([[    0.        ],\n",
       "         [-5084.68952359],\n",
       "         [-9906.31507657],\n",
       "         ..., \n",
       "         [ 7000.13349608],\n",
       "         [ 3288.74809584],\n",
       "         [    0.        ]]), array([[ 1.        ],\n",
       "         [ 0.97436061],\n",
       "         [ 0.94875525],\n",
       "         ..., \n",
       "         [ 0.05112995],\n",
       "         [ 0.02556845],\n",
       "         [ 0.        ]]))]"
      ]
     },
     "execution_count": 21,
     "metadata": {},
     "output_type": "execute_result"
    }
   ],
   "source": [
    "system.stored"
   ]
  },
  {
   "cell_type": "code",
   "execution_count": 22,
   "metadata": {},
   "outputs": [],
   "source": [
    "processed = list(map(np.stack, (list(map(list, zip(*system.stored))))))"
   ]
  },
  {
   "cell_type": "code",
   "execution_count": 23,
   "metadata": {},
   "outputs": [
    {
     "data": {
      "text/plain": [
       "[array([0, 1], dtype=int32),\n",
       " array([  0.00000000e+00,   7.90042863e-08]),\n",
       " array([[[    0.        ],\n",
       "         [    0.        ],\n",
       "         [    0.        ],\n",
       "         ..., \n",
       "         [    0.        ],\n",
       "         [    0.        ],\n",
       "         [    0.        ]],\n",
       " \n",
       "        [[    0.        ],\n",
       "         [-5084.68952359],\n",
       "         [-9906.31507657],\n",
       "         ..., \n",
       "         [ 7000.13349608],\n",
       "         [ 3288.74809584],\n",
       "         [    0.        ]]]),\n",
       " array([[[ 1.        ],\n",
       "         [ 0.97456147],\n",
       "         [ 0.94914657],\n",
       "         ..., \n",
       "         [ 0.05085343],\n",
       "         [ 0.02543853],\n",
       "         [ 0.        ]],\n",
       " \n",
       "        [[ 1.        ],\n",
       "         [ 0.97436061],\n",
       "         [ 0.94875525],\n",
       "         ..., \n",
       "         [ 0.05112995],\n",
       "         [ 0.02556845],\n",
       "         [ 0.        ]]])]"
      ]
     },
     "execution_count": 23,
     "metadata": {},
     "output_type": "execute_result"
    }
   ],
   "source": [
    "processed"
   ]
  },
  {
   "cell_type": "code",
   "execution_count": null,
   "metadata": {},
   "outputs": [],
   "source": [
    "list(system.out())"
   ]
  },
  {
   "cell_type": "code",
   "execution_count": null,
   "metadata": {},
   "outputs": [],
   "source": [
    "system.stored"
   ]
  },
  {
   "cell_type": "code",
   "execution_count": null,
   "metadata": {},
   "outputs": [],
   "source": [
    "system.store()"
   ]
  },
  {
   "cell_type": "code",
   "execution_count": null,
   "metadata": {},
   "outputs": [],
   "source": [
    "system.iterate()"
   ]
  },
  {
   "cell_type": "code",
   "execution_count": null,
   "metadata": {},
   "outputs": [],
   "source": [
    "system.store()"
   ]
  },
  {
   "cell_type": "code",
   "execution_count": null,
   "metadata": {},
   "outputs": [],
   "source": []
  }
 ],
 "metadata": {
  "kernelspec": {
   "display_name": "Python 3",
   "language": "python",
   "name": "python3"
  },
  "language_info": {
   "codemirror_mode": {
    "name": "ipython",
    "version": 3
   },
   "file_extension": ".py",
   "mimetype": "text/x-python",
   "name": "python",
   "nbconvert_exporter": "python",
   "pygments_lexer": "ipython3",
   "version": "3.5.3"
  }
 },
 "nbformat": 4,
 "nbformat_minor": 2
}
