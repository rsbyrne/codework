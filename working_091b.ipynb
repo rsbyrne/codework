{
 "cells": [
  {
   "cell_type": "code",
   "execution_count": 1,
   "metadata": {},
   "outputs": [],
   "source": [
    "import sys\n",
    "import os\n",
    "workPath = os.path.abspath('..')\n",
    "if not workPath in sys.path:\n",
    "    sys.path.append(workPath)"
   ]
  },
  {
   "cell_type": "code",
   "execution_count": 2,
   "metadata": {},
   "outputs": [],
   "source": [
    "import os\n",
    "if os.path.exists('../test.frm'):\n",
    "    os.remove('../test.frm')"
   ]
  },
  {
   "cell_type": "code",
   "execution_count": 3,
   "metadata": {},
   "outputs": [
    {
     "name": "stdout",
     "output_type": "stream",
     "text": [
      "[3, 6, 9, 12, 15, 18, 21, 24, 27]\n",
      "27\n",
      "[3.14159246 3.14159265 3.14159265 3.14159265 3.14159265 3.14159265\n",
      " 3.14159265 3.14159265 3.14159265]\n",
      "[3.14159246 3.14159265 3.14159265 3.14159265 3.14159265 3.14159265\n",
      " 3.14159265 3.14159265 3.14159265]\n",
      "<everest.builts._iterator.ExampleIterator object at 0x7fefc02769b0>\n",
      "ayaagraowe-xuipriore\n",
      "<vifkzmlmzzraervr.py.ExampleIterator object at 0x7fefc32160b8>\n",
      "[]\n",
      "[3.14159246 3.14159265 3.14159265 3.14159265 3.14159265 3.14159265\n",
      " 3.14159265 3.14159265 3.14159265]\n"
     ]
    }
   ],
   "source": [
    "from everest.builts._iterator import get\n",
    "pimachine = get()\n",
    "\n",
    "import os\n",
    "from everest import mpi\n",
    "message = mpi.message\n",
    "\n",
    "if mpi.rank == 0:\n",
    "    if os.path.exists('./test.frm'):\n",
    "        os.remove('./test.frm')\n",
    "pimachine.reset()\n",
    "pimachine.anchor('test', '.')\n",
    "for i in range(3):\n",
    "    for _i in range(3):\n",
    "        pimachine.iterate(3)\n",
    "        pimachine.store()\n",
    "    pimachine.save()\n",
    "\n",
    "message(pimachine.counts)\n",
    "\n",
    "pimachine.load(12)\n",
    "\n",
    "pimachine.iterate(15)\n",
    "\n",
    "message(pimachine.count)\n",
    "\n",
    "message(pimachine.state)\n",
    "\n",
    "pimachine.load(3)\n",
    "\n",
    "message(pimachine.state)\n",
    "\n",
    "message(pimachine)\n",
    "\n",
    "hashID = pimachine.hashID\n",
    "\n",
    "message(hashID)\n",
    "\n",
    "from everest.builts import load\n",
    "pimachine = load(hashID, 'test', '.')\n",
    "\n",
    "message(pimachine)\n",
    "\n",
    "message(pimachine.counts)\n",
    "\n",
    "pimachine.load(27)\n",
    "\n",
    "pimachine.iterate(100)\n",
    "\n",
    "message(pimachine.state)\n"
   ]
  },
  {
   "cell_type": "code",
   "execution_count": 4,
   "metadata": {},
   "outputs": [
    {
     "data": {
      "text/plain": [
       "array([3.14159246, 3.14159265, 3.14159265, 3.14159265, 3.14159265,\n",
       "       3.14159265, 3.14159265, 3.14159265, 3.14159265])"
      ]
     },
     "execution_count": 4,
     "metadata": {},
     "output_type": "execute_result"
    }
   ],
   "source": [
    "pimachine.state"
   ]
  },
  {
   "cell_type": "code",
   "execution_count": 5,
   "metadata": {},
   "outputs": [
    {
     "data": {
      "text/plain": [
       "0.00808913308913309"
      ]
     },
     "execution_count": 5,
     "metadata": {},
     "output_type": "execute_result"
    }
   ],
   "source": [
    "pimachine.kth(1)"
   ]
  },
  {
   "cell_type": "code",
   "execution_count": 6,
   "metadata": {},
   "outputs": [
    {
     "data": {
      "text/plain": [
       "{'_count_': array([ 3,  6,  9, 12, 15, 18, 21, 24, 27], dtype=int8),\n",
       " 'hashID': 'ayaagraowe-xuipriore',\n",
       " 'inputs': '/ayaagraowe-xuipriore/inputs',\n",
       " 'inputsHash': '153179591576991933328464680446222893800',\n",
       " 'instanceHash': '334806207632484637367638335143125336663',\n",
       " 'pi': array([3.14159246, 3.14159265, 3.14159265, 3.14159265, 3.14159265,\n",
       "        3.14159265, 3.14159265, 3.14159265, 3.14159265]),\n",
       " 'typeHash': '112742828519069816563125249008556793152'}"
      ]
     },
     "execution_count": 6,
     "metadata": {},
     "output_type": "execute_result"
    }
   ],
   "source": [
    "pimachine.reader[pimachine.hashID, '*']"
   ]
  },
  {
   "cell_type": "code",
   "execution_count": 8,
   "metadata": {},
   "outputs": [
    {
     "data": {
      "text/plain": [
       "array([ 3,  6,  9, 12, 15, 18, 21, 24, 27], dtype=int8)"
      ]
     },
     "execution_count": 8,
     "metadata": {},
     "output_type": "execute_result"
    }
   ],
   "source": [
    "pimachine.reader[pimachine.hashID, '_count_']"
   ]
  },
  {
   "cell_type": "code",
   "execution_count": null,
   "metadata": {},
   "outputs": [],
   "source": []
  },
  {
   "cell_type": "code",
   "execution_count": null,
   "metadata": {},
   "outputs": [],
   "source": []
  },
  {
   "cell_type": "code",
   "execution_count": null,
   "metadata": {},
   "outputs": [],
   "source": []
  },
  {
   "cell_type": "code",
   "execution_count": null,
   "metadata": {},
   "outputs": [],
   "source": [
    "from everest.builts._iterator import build"
   ]
  },
  {
   "cell_type": "code",
   "execution_count": null,
   "metadata": {},
   "outputs": [],
   "source": []
  },
  {
   "cell_type": "code",
   "execution_count": null,
   "metadata": {},
   "outputs": [],
   "source": [
    "mybuilt1 = build()"
   ]
  },
  {
   "cell_type": "code",
   "execution_count": null,
   "metadata": {},
   "outputs": [],
   "source": [
    "mybuilt1.anchor('test', '..')"
   ]
  },
  {
   "cell_type": "code",
   "execution_count": null,
   "metadata": {
    "scrolled": true
   },
   "outputs": [],
   "source": [
    "mybuilt1.store()\n",
    "mybuilt1.iterate()\n",
    "mybuilt1.store()\n",
    "mybuilt1.save()"
   ]
  }
 ],
 "metadata": {
  "kernelspec": {
   "display_name": "Python 3",
   "language": "python",
   "name": "python3"
  },
  "language_info": {
   "codemirror_mode": {
    "name": "ipython",
    "version": 3
   },
   "file_extension": ".py",
   "mimetype": "text/x-python",
   "name": "python",
   "nbconvert_exporter": "python",
   "pygments_lexer": "ipython3",
   "version": "3.5.3"
  }
 },
 "nbformat": 4,
 "nbformat_minor": 2
}
