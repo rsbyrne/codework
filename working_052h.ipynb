{
 "cells": [
  {
   "cell_type": "code",
   "execution_count": 1,
   "metadata": {},
   "outputs": [],
   "source": [
    "import sys\n",
    "workPath = '/home/jovyan/workspace'\n",
    "if not workPath in sys.path:\n",
    "    sys.path.append(workPath)"
   ]
  },
  {
   "cell_type": "code",
   "execution_count": 3,
   "metadata": {},
   "outputs": [],
   "source": [
    "import planetengine\n",
    "import numpy as np"
   ]
  },
  {
   "cell_type": "code",
   "execution_count": 4,
   "metadata": {},
   "outputs": [
    {
     "name": "stdout",
     "output_type": "stream",
     "text": [
      "make_stamps\n",
      "make_stamps\n",
      "load_built\n",
      "make_stamps\n",
      "load_built\n",
      "make_stamps\n"
     ]
    }
   ],
   "source": [
    "import planetengine\n",
    "import numpy as np\n",
    "system = planetengine.systems.arrhenius.build()\n",
    "IC = planetengine.initials.sinusoidal.build()\n",
    "IC.apply(system.locals.temperatureField)\n",
    "system.locals.solver.solve()\n",
    "planetengine.built.save_built(system, 'system', workPath)\n",
    "planetengine.built.save_built(IC, 'IC', workPath)\n",
    "system_load = planetengine.built.load_built('system', workPath)\n",
    "IC_load = planetengine.built.load_built('IC', workPath)\n",
    "IC_load.apply(system_load.locals.temperatureField)\n",
    "system_load.locals.solver.solve()\n",
    "assert np.allclose(\n",
    "    system.locals.velocityField.data,\n",
    "    system_load.locals.velocityField.data\n",
    "    )"
   ]
  },
  {
   "cell_type": "code",
   "execution_count": null,
   "metadata": {},
   "outputs": [],
   "source": []
  }
 ],
 "metadata": {
  "kernelspec": {
   "display_name": "Python 3",
   "language": "python",
   "name": "python3"
  },
  "language_info": {
   "codemirror_mode": {
    "name": "ipython",
    "version": 3
   },
   "file_extension": ".py",
   "mimetype": "text/x-python",
   "name": "python",
   "nbconvert_exporter": "python",
   "pygments_lexer": "ipython3",
   "version": "3.5.3"
  }
 },
 "nbformat": 4,
 "nbformat_minor": 2
}
