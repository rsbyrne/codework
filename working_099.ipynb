{
 "cells": [
  {
   "cell_type": "code",
   "execution_count": 1,
   "metadata": {},
   "outputs": [],
   "source": [
    "import sys\n",
    "import os\n",
    "workPath = os.path.abspath('..')\n",
    "if not workPath in sys.path:\n",
    "    sys.path.append(workPath)"
   ]
  },
  {
   "cell_type": "code",
   "execution_count": 2,
   "metadata": {},
   "outputs": [],
   "source": [
    "from planetengine.systems.isovisc import Isovisc"
   ]
  },
  {
   "cell_type": "code",
   "execution_count": 3,
   "metadata": {},
   "outputs": [],
   "source": [
    "system = Isovisc()"
   ]
  },
  {
   "cell_type": "code",
   "execution_count": 8,
   "metadata": {},
   "outputs": [
    {
     "name": "stdout",
     "output_type": "stream",
     "text": [
      "Help on method set_inner_method in module underworld.systems._bsscr:\n",
      "\n",
      "set_inner_method(solve_type='mg') method of underworld.systems._bsscr.StokesSolver instance\n",
      "    Configure velocity/inner solver (A11 PETSc prefix).\n",
      "    \n",
      "    Available options below. Note that associated solver software\n",
      "    (for example `mumps`) must be installed.\n",
      "    \n",
      "    - mg          : Geometric multigrid (default).\n",
      "    - nomg        : Disables multigrid.\n",
      "    - lu          : LU direct solver (serial only).\n",
      "    - mumps       : MUMPS parallel direct solver.\n",
      "    - superludist : SuperLU parallel direct solver.\n",
      "    - superlu     : SuperLU direct solver (serial only).\n",
      "\n"
     ]
    }
   ],
   "source": [
    "help(system.locals.solver.set_inner_method)"
   ]
  },
  {
   "cell_type": "code",
   "execution_count": 9,
   "metadata": {},
   "outputs": [],
   "source": [
    "from timeit import timeit"
   ]
  },
  {
   "cell_type": "code",
   "execution_count": 18,
   "metadata": {},
   "outputs": [
    {
     "data": {
      "text/plain": [
       "0.2740499005999936"
      ]
     },
     "execution_count": 18,
     "metadata": {},
     "output_type": "execute_result"
    }
   ],
   "source": [
    "system.locals.solver.set_inner_method('mg')\n",
    "timeit(system, system.reset, number = 10) / 10."
   ]
  },
  {
   "cell_type": "code",
   "execution_count": 17,
   "metadata": {},
   "outputs": [
    {
     "data": {
      "text/plain": [
       "0.3932571296000106"
      ]
     },
     "execution_count": 17,
     "metadata": {},
     "output_type": "execute_result"
    }
   ],
   "source": [
    "system.locals.solver.set_inner_method('lu')\n",
    "timeit(system, system.reset, number = 10) / 10."
   ]
  },
  {
   "cell_type": "code",
   "execution_count": 21,
   "metadata": {},
   "outputs": [
    {
     "data": {
      "text/plain": [
       "0.2605056756000067"
      ]
     },
     "execution_count": 21,
     "metadata": {},
     "output_type": "execute_result"
    }
   ],
   "source": [
    "system.locals.solver.set_inner_method('mumps')\n",
    "timeit(system, system.reset, number = 10) / 10."
   ]
  },
  {
   "cell_type": "code",
   "execution_count": 20,
   "metadata": {},
   "outputs": [
    {
     "data": {
      "text/plain": [
       "0.29509088239999526"
      ]
     },
     "execution_count": 20,
     "metadata": {},
     "output_type": "execute_result"
    }
   ],
   "source": [
    "system.locals.solver.set_inner_method('nomg')\n",
    "timeit(system, system.reset, number = 10) / 10."
   ]
  },
  {
   "cell_type": "code",
   "execution_count": 25,
   "metadata": {},
   "outputs": [
    {
     "name": "stdout",
     "output_type": "stream",
     "text": [
      "Help on Options in module underworld.systems._options object:\n",
      "\n",
      "class Options(builtins.object)\n",
      " |  Set PETSc options on this to pass along to PETSc KSPs\n",
      " |  \n",
      " |  ksp_type = <fgmres>    : Krylov method\n",
      " |  ksp_rtol = <1e-05>     : Relative decrease in residual norm\n",
      " |  pc_type  = <sor>       : Preconditioner type\n",
      " |  ksp_view = 'ascii'     : Print the ksp data structure at the end of the system solution\n",
      " |  ksp_converged_reason = 'ascii' : Print reason for converged or diverged solve\n",
      " |  ksp_monitor = <stdout> : Monitor preconditioned residual norm\n",
      " |  \n",
      " |  for further options see PETSc manual or set help on \"options.main\"\n",
      " |  \n",
      " |  Methods defined here:\n",
      " |  \n",
      " |  __init__(self)\n",
      " |      Initialize self.  See help(type(self)) for accurate signature.\n",
      " |  \n",
      " |  help(self)\n",
      " |  \n",
      " |  list(self)\n",
      " |      List options.\n",
      " |  \n",
      " |  reset(self)\n",
      " |      Reset values to initial defaults.\n",
      " |  \n",
      " |  set_lu(self)\n",
      " |      Set up options for LU serial solve.\n",
      " |  \n",
      " |  set_mumps(self, pc_type='lu')\n",
      " |      Set up options for MUMPS parallel solve.\n",
      " |      pc_type = \"lu\" or \"cholesky\"\n",
      " |      \n",
      " |      Use ./configure --download-mumps --download-scalapack --download-parmetis --download-metis --download-ptscotch\n",
      " |      to have PETSc installed with MUMPS\n",
      " |  \n",
      " |  set_superlu(self)\n",
      " |      Set up options for SuperLU serial solve.\n",
      " |      Use ./configure --download-superlu to have PETSc installed with SuperLU\n",
      " |  \n",
      " |  set_superludist(self)\n",
      " |      Set up options for SuperLU parallel solve.\n",
      " |      Use ./configure --download-superlu_dist --download-parmetis --download-metis --download-ptscotch\n",
      " |      to have PETSc installed with SuperLU_DIST\n",
      " |  \n",
      " |  ----------------------------------------------------------------------\n",
      " |  Data descriptors defined here:\n",
      " |  \n",
      " |  __dict__\n",
      " |      dictionary for instance variables (if defined)\n",
      " |  \n",
      " |  __weakref__\n",
      " |      list of weak references to the object (if defined)\n",
      "\n"
     ]
    }
   ],
   "source": [
    "help(system.locals.solver.options.A11)"
   ]
  },
  {
   "cell_type": "code",
   "execution_count": null,
   "metadata": {},
   "outputs": [],
   "source": []
  }
 ],
 "metadata": {
  "kernelspec": {
   "display_name": "Python 3",
   "language": "python",
   "name": "python3"
  },
  "language_info": {
   "codemirror_mode": {
    "name": "ipython",
    "version": 3
   },
   "file_extension": ".py",
   "mimetype": "text/x-python",
   "name": "python",
   "nbconvert_exporter": "python",
   "pygments_lexer": "ipython3",
   "version": "3.5.3"
  }
 },
 "nbformat": 4,
 "nbformat_minor": 2
}
