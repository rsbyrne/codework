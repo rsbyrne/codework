{
 "cells": [
  {
   "cell_type": "code",
   "execution_count": 1,
   "metadata": {},
   "outputs": [],
   "source": [
    "import sys\n",
    "workPath = '/home/jovyan/workspace'\n",
    "if not workPath in sys.path:\n",
    "    sys.path.append(workPath)"
   ]
  },
  {
   "cell_type": "code",
   "execution_count": 2,
   "metadata": {},
   "outputs": [],
   "source": [
    "import planetengine"
   ]
  },
  {
   "cell_type": "code",
   "execution_count": 3,
   "metadata": {
    "scrolled": false
   },
   "outputs": [
    {
     "name": "stdout",
     "output_type": "stream",
     "text": [
      "Fitted 1 variables to the figure.\n",
      "Making a new frame...\n",
      "Building model...\n",
      "Initialising...\n",
      "Initialisation complete!\n",
      "Frame built!\n",
      "Old object found - reusing.\n",
      "Fitted 2 variables to the figure.\n"
     ]
    }
   ],
   "source": [
    "aspect = 3.31\n",
    "model = planetengine.model.make_model(\n",
    "    planetengine.systems._dev0.build(f = 0.5, Ra = 1000., res = 16, aspect = aspect),\n",
    "    {'temperatureField': planetengine.initials.sinusoidal.build(freq = aspect),\n",
    "    'timeVarOfState': planetengine.initials.constant.build(value = 1.)}\n",
    "    )\n",
    "observer = planetengine.observers.isobench.build()\n",
    "observer.attach(model)"
   ]
  },
  {
   "cell_type": "code",
   "execution_count": 4,
   "metadata": {},
   "outputs": [
    {
     "name": "stdout",
     "output_type": "stream",
     "text": [
      "peobs_parastyle-quilltail:\n",
      "avTemp\n",
      "0.43\n",
      "modeltime\n",
      "0.0E+00\n",
      "Nu\n",
      "0.95\n",
      "step\n",
      "0\n",
      "surfAngVel\n",
      "0.04\n",
      "VRMS\n",
      "3.46\n",
      "Variable_varName=temperature{}\n",
      "Variable_varName=velocity{}\n"
     ]
    },
    {
     "data": {
      "text/html": [
       "<img src='data:image/png;base64,iVBORw0KGgoAAAANSUhEUgAAASwAAAEsCAIAAAD2HxkiAAAgAElEQVR4nO29eZxdV3Xnu9be59x7a66SqiSV5tk2NpZtCRsMHcnNYBMCj6bT/R7TwyRp7LSddPoN0Hn9PthyQoZOuj/JJ8ljUBLC0IGQgSZAbOgES4AJgyfZsmVrsCZLNc/TrXvP3uv9scdz6noArCoN60tRPvfcW7dule6v1lq/tfY+AAzDMAzDMAzDMAzDMAzDMAzDMAzDMAzDMAzDMAzDMAzDMAzDMAzDMAzDMAzDMAzDMAzDMAzDMAzDMAzDMAzDMAzDMAzDMAzDMAzDMAzDMAzDMAzDMAzDMAzDMAzDMAzDMAzDMAzDMAzDMAzDMAzDMAzDMAzDMAzDMAzDMAzDMAzDMAzDMAzDMAzDMAzDMAzDMAzDMAzDMAzDMAzDMAzDMAzDMAzDMAzDMAzDMAzDMAzDMAzDMAzDMAzDMAzDMAzDMAzDMAzDMAzDMAzDMAzDMAzDMAzDMAzDMAzDMAzDMAzDMAzDMAzDMAzDMAzDMAzDMAzDMAzDMAzDMAzDMAzDMAzDMMxFDC71C2B+bJq37GreuqvhXbPHHp49/vAivx7mp4RFeGFhBYaAQADQfdud5l8I0fxTEQIA5v7ZzDFFZ8j9hwAIkAiGH/gE2XM4e5SFemHBIlxKum+90+it+9Y7jcwQg8zsMZhjcOcJ0Z60n70K3YEXJAEQAQCaA/uZkAA0AREOPfAJAiDC4W98YvF+bCYPi3BRMapr2bKzZdsuBHjN2tYdK0rlUooIn/hhHwIIIzAnNgRAoHdf1XH27Nmenp6uri5EeOzcxBMD0xCJk8I/JG1tkzdv7Z2amjw+DQf7psgFRiLQhGDViJqACDTgu6/qODymf3R2WhNMH3tk5ujDrMlFhkV4fvHpZc+td7hYBwgkEH7huq4nh2uPnJ0WaIObwCA/4UWIgADCR0ikEBjjg1xCCgB47ap2AjjYPwkuDNoElVD7AwBNTpCEOv958P5PEsDM0Uc4fT2vsAjPC9233gkAPbc54QEgknBppFGdjXVIXnvuwEoO0agxOmnjJAn3tBAOCBr9c/owSABANi/V/sCGRCO8og6VRk2gnCA1R8jzA4vwlaT71jubt+5s2brLF3heQkE5SEGHRmaRAkXQnrsrPra6NccAQD59NZ6N/eeM/lXJ/j+qDwk05CpDIzlyeotECJpQOUEqAqVx6ugjM8ceHnrgk4v6m72kYRH+tJiEs/u2O0MV5zJGn1IKjARpD4yu4s823PkHC+FDIoj4y9GXjvYkQKghG+LjYSTCqDIk9OlorEMfCRWh1qAiKZrjwQc+wcnqTw+L8Cen+9Y7m7fuatm6My72oqIujn5WTkGNwmjJijBWYHxSRPJz+vTZbJBoUD7Yf1KEYo3oQ6LPRX1qqp0gtc7p0EVCVATaCi8nxUyjIpw8wrHxp4JF+GPTvGVX9213NtKej4F0x2tWP9Y3+djZaV/yuZQyFhghwo7e9tVJbUClTw9OiOgur0Dz+NUlHMzIx0yxINi6LBc2L+vctKzrW8dPFGRIgK5zaHNRIiCCzcs6j45MFAtCXcxCTV7qYiBk5i6NmZNlpnHq6CODD3xy9hgHxh8PFuGPQfetd3bnvRanBJteItAHrl1WqZT/7OFzIe5FVZ8XlRTwc5vaujrbnxqYeGpwMladjGOgAIG0Qqjr1/c2NTUhwunTp1Rr+3Nj4zkTteCgAtyyZVOtrr535lTuBzDay/cMNy3rUgTHR8YLOiwIT2t419XrNcAXDj6faSNOzHSIh5k50JBpHHzgkxwYXz4swpfGhz5wXqVxRNBXYpF7iZDzWqy6wKuRBIIQVAh6Mj729wqQSJi/18vVP6H/QxDsUwBEske+h+/iopmh8VK0BaFNR41P46Mf5FPQcGwCYGaDoVOjC4k2MB55ZPCBT3LF+JKwCF+MBZnnghosDoMmLgW9eQXmUlAT3HJii2QmkaQICnQnjW7NIyPzxodWF3Xj9Bj8VA3GCrTHFAxSa9VoQidCiOpAp0AvRY2ZKwgzd9MLL38eM42TRzhHfQlYhI2xpsu2nY2rvrgey4XBYtVnRFiIgbKhCAXJ6MDeFEGcVoHhq/J1Y/QavBrtrKnDj4/6sVLjjhJEiagONqnVoXdEbawDLzCTfGax8LwOKXd+8sgjU0cfHv4G56gNYBEWyRV+DUyXyJb0/mdOflHmCUE/iEFawoa7EPokkkCSkfwiEebF6U5aebvnidobEPqHPi+NINPXj3JR0zCMdWjbElZ7UTAMOScUxOZjYKZyCszdpXHg/k9yx78AizCQl18x83zN2lY7YgaF6Ffs8gmkW9ek/9RXy5dzNs+UCCbVdEqj1/W0PjI6FYKhIOkCZiJyOar0N02tKPJ5r4uELaOlueXzYeFF/h85b5MCjJBeJuKJGW/JaBf3VCS87krL2ZnZgrT8zbrG7d2dmcYn+iez/APih7EUY1iEAL72e6HkEwGB7rix909/1Bea7/HQmZ93QRBI779+zRcOPh9rQ7oaLwqDJAW8/cr1QsA3jpxIjPZMMBTmGOxNJClgR3dvS0uzQCCAJ/uedVVlwa0JntD27iuPjTyTy0jdqLfp14MzZjZ2bD0+fqxhf0JH7osi3Na2sr29/TsnjmdRRlr8UJhp3NbdeUVPR6axWq196emhhfEw0zjJ/QzH5S7C2HoRkfzAy8832aPZ63xNGDqBAqFpqq/esWpBsReMFi+w9a3p3Oz0lEwTrz0kKSgRTpAYToaDonkTPJvcVA1AV3PPxNwQ+PVQ7p/azM2Am5vZuOyq46OHtTZDM2FOTVNjM8bUgWqB/OrxsYpOKsy0MA7qQtFOHnlk6LJ3UC9rEXbfeqeZsRYNo18uI43nYHzoCyNmmEsLXf5p456r6yKvxYc4KShx6rLys2e8/OxXJbEyhbV5ZFwi5kfbGjil0RyN61KgKwgXTG87M8YXhMVqMC88r726FpmK7lXhYXVlpZjTMOHA/Zd1X/EyFaGX38Khk4byK0bCfBgMgywQp6DOVnEFXhChgCRKNROrQPsAc5C47NQHxhAhRUhopbNJrRTzA27+h4IoEoZ57kKrMJJfvjnhpmRcg96nnYUwWNeYKVHPCTISoWqg27hWvGwLxctOhM1bdnXfdkfrtl3YyNMXjaJfQX5RBUj+S/IxEKLQ56tBH9yClhJB0gkyUh0lArws3edwJnqGFxChyOXM0XKnKBI6BVaSlTO1wUKXQuWG1Gxemo9gsFBaXoRegSEvVXllap+j5mLj5NFHhu6/7LJTudQvYFHpvvXO1e/ZW1m+Ot8kKGSSxZtS0PWr24Zmat7b9F8VTE4BXmOJoJ/buvzExKzXWOKklUhKBKUCzJlUUCJo87Ku2dpcKnQiIZVkPwSliT0uCUgllSSlEkrCnAT7GHueUkElAWlCJUmtcouQI/aRuc/af20iyLyYEvSiGLEvzwXexP+9QPDZr/mR25J2BfP+phDx7w1dWu6HeAARfVEdPiOYudl/ubH9qcFZ2+8BKC9f3XHj24lg9vgjS/1mWTwul0joA6Bvbb9mbeuuNa0IsO/hcwKMeRhlcYW8FOn91676yyf7F4TBQiQkgfDz16z7+8Onfd8vNjnjxNIEwJ0rVj412ucCoFdCHAMpEdTT0r2sqUcgnZ182iWu4Wld3wKEsMG5rXztbO0JAUBE8WwduLyUAAGAAErimrnsKQ1hVsYbpLmCUGOmsbtp29mp4/V8FmpCnM88V7Uu721fPj07J2Raq+tvn+mL7hXhwe4L37y61Lms+y8e7bd5KWFmZsEvm5B4WYjQVICueIuXz4bS7gWLQHfXdb1tT/ZPeu8xGosxlWHIQt+yoevBM6O+AoyrQaM9F21oY1dX39RILLZYh4mgRGj/4ChMBREm+eaHEMakpabSjlrtIJkZbXR7ywAAIvo9adD8tbmK8BntBmjCqkKNys6jWSdmfqILWifyHkzu2KirrsyB8CmoOfbaqxetGsw0vnfH2lNnnv9Gv/RujdI4cP8nLochm0s8HW3esqv3PXu7bnqHL6WET66Enz6J8k+TowqXaIUeAAzNzOdmVoTN03wLPvFup4SpWj0vpyj/jDLS2fps6pLSVLjEcsFHSVJJQsllnu5hNjUtCXuvTzsTQRIBYVKClqgT1AJIgPtM5oMEaCQqldbo7Jy5Kxi2PrsOw6uQVqoh1RRx6h7//QIEdDcxOgnhZPxgO+IDB/unOtrb+6drEL6EWrbtatq6qz7SVx87t8TvpPPJpRwJm7fu2njXPnTt8jiHDNEs35FHzL05Fu655LPZ4pS270nkUlAQguJGfJRqulpRmnAXKsa4XIzPFDNVtJ8F2O+FSH5OFYlIE5D2a5aICEw4NN4MuuE1E9ztGTuKrkEQIhEqQB180WIKmgt0IQaGk7WGsVFjXYnYPi24poVVGorwxB//u0u4rX/JinD9Xfvatu2KSzWMP7upF5d2LmhOROej+ZhoD5ic/LxV47QXNfS8CBNBUlLOpzHyk5HGpA+MC+4SlEaJq1G1II1A0rigpO0YN2m7YpfcgDZQvJLCL3OyGWppra6fJUQC8ytAQqHBalKD0GAG2RYo0MmpoMCa80jrCmtRLlr3510BWQ+tfJ+aQlwc+gbJlXPP/s2vv3uJ3k3nl0swHW3esuvu/2dv7/W7B6ZqwRrJ9e7AJJNuosVVU1EW6pNS8/hre9uHZ+etp+ryNCczW+xJJ5XtojYpRDEdlU5gJmkUNnVc07G8ls0EnzPKS0sLklKXmtpHJkiCtARKQKNWqDWCFlqB0lV1daL6QClQGpQCrUBp0Bq0BqVRaySNWqOmsdkt9dnBSjKPRAIIzQcRGkcHwBybsD88mDWVO5N0Ho0XGueZ1vIxnwBdxekaJMEXco8EANje0zE6WwV7T+4DIMy+IsDGTRu3XH/zyZOnLr3U9FITYfPWXf/l819t6l79zeemcn25UL/5pQxw/eq2n1nb8uzoXLDaRdCecefN+YqqbljePjJXla5KjCY8QaKdcTHF2E3bN50aH09kToRpnGcaQUpKBW3vXjs2N1zyXYS82GIFtpRXSDFdkuR6D9oUeJI0kkKtkKwCQalSZQNVT1kFGilq5UUIZARJoHVTx7aKPoqkkbSRnyAnRbBSNHMIANTVuQPEadONiAYYrByd6rCnuXtj1/pVbctnpqfqqPx5L1T7r4XQ3dL02rXdQoqRmerCf02jREQEgHOTtVW9vb/wi7+0/8CB+uglpcNLSoTr79r3kQ9/+NOPDR8ano9mTZz8ghpBIN2+c83QzPx3To/71p+wUQ5kLiSSEDCt4Gc2Lj86MmWb7+4JE+GdDCdCAVuXd54eH8trDxIRZOYdlNUdy+bVTC2bdf3A2InRpXwMFGKqKV0hccrGQK2E1oJMDFSoNGplJac1JGtg7pSLhNqe1DoKiQRaI2korYW502D3XdOonfD8AmUAAYAAs3Ot5VIGMG3Do28D2qhl9bWsqQcQTo+fHpoeqYNy9xfkZw9GZqtHRye7m8vXdFbmZmdnSMT/oNHoOSLA4Jx++PnpX/7f/+2xjusmfvTVxXhLLQqXjgg33LXvP73/bZ9+fCQas4QEScqgPekMTyno0MDk8My8cE6pzEW/3E1zcHRk6pqVHaNzVRMezRMGEcogQhgbnpGYL/MgaE+EBnpNzdbUrAmDzt7UpSgM+qBnHgN6MgEtIUQ8UAoypz2jNKVAaVFaR7MnrOpsAPQ6tB9mAa9o2gizJ9FvAEzafjYZKYGfjC2Vu4D6hZn+RhDCppjG8/QqnMtmq/VZ8CcBFmoP8qeHZ+enpqZaWlvH51XhnxXj/yAAwJMj2W9dW/1+z5svGR1eCsZM85ZdK956R9u2nWGxgiBpGugu8xSxO+rNlZw1uqBB7yxQf36hKxN2oIiXzLvB68S5Mr7FlwavxVovqfQBU5vugper80i1ORCgQStTB9qsMq70dIhvRkI2uJGzZCia3XbRCRCheSPMnbJ1mEDAOA2IPqQEKQmFRqEQFQgNItOibia2tahZS8a6MjVjjWaipt1J5TwbhbWCo+NHTFXOJg1+qVvI73e70Rqmjl0iM24XfSRs3rJr4937mrp7kzgnREqkN/Qhil1RcPMzWX4+y94VT2z5yBmtfog6hPb5ZfjW3oNxNgy4TmAuGJakjvPSRqWgDsdCJ0ILrQUpQWaAxcRAbSOhjoKh0qhMdurcGq1R2QMTD9Eolgi0htpYPVkjswmrW63dpZvMqnuKnVVbHwqUEs2QGiIKETsy7oEhiDl3huzSRso/ijCEAmfb2hWPcbwsBlGEdNnq9te8Y/bYIxe7VXNxi7B5665Nv7Iv6qQ5YThTpKCZSIcUSS66iUURmvrwqhUd49WqW1IE8ZilrwkTq0bYkibTqFwog9TaMBDVhDrngsa1YqJzFqjUJUGJ1EJrJCW0QhXrLU5EbWqKSoHWA9lVrbovXw1q8FL0H0RANF+5Op0/ne9qxFE0iHBiprWpuRv0JCIIgShQWC0ulF9eNO5m6I7kEk1/7BoniJC/vMa1K1t62yv90/PRN0EEaL/xotfhRSzC5q27Nt+9L07wzMfONW133dDz3ecnfcEmZb6dgK6cywkvliLl9Cng5vUrnxsdT+KvcjHQdyakjb2wY+PGvqnRVEAiIRXaDMc0qAkldbcsbyk3a5qxsy8u+pUElYROkBIz76IJlcJ8uGsoRXRGaNvKV8PEMdDKBrdGNaER4Vl99fLqw35NoW/u2/4+aYCQyjZ33kDVp8FvjUGAiOiLw6KusKPSY+pDisTmx1YBYEPXsutWrz45NlY4H0KvU+bATH1Va3lVa7l/quafyui/4zXvmDn+yMVrmV6sIlx/175Vb70jniZJBUlJH9y5Zni2+rfPDCVefjmb1KooEfDzr173qpUd6fhAT8/ysblqYdFAnJomAk6Mjf/sFRtOjI2Hka44/3Sx18ysre9cNjA1ksjYDo3DIHknRunpVW0bqtlAiH6CUmHipG0/CNCoFGg1P9+Z0JR1O7VCpWzaqfxx6Api62YYPxJ6Er5cXCBC3bSpMn/mBcOg3xPKxKfKBpo/AxDtnVjIOgEAoLv11W3lFTJrnqidMz6OCWv2A4PYxueqJ8bGbtmymQDG5qoE0TfMgQDYPzW/qq28qq3cP1UjJ3kThTtufEfTltdM/Ojvz99b7vxxUYpw/V372rftjKNfKimR8J5rlv/1ob6R2XmbiEpIYgPTCcys0zkyPHF0ZGKUkrE5l2fmQ6LvQCRuN5eNJTFcr8koHU1EVHy6HHig/9yujVtHZ8eSXLcdQhgUoepLBABMl+K2hNCpIAkatZJAwgXAhKbzEa9QCkbhUWts2wJjzy5QHRVvEjWtejWMPVsUnisLndIICETXv9Dj34n/IRAQkEjb8Tjbp0CYrQ1N1warNAEuoaRIhF6QNuEEeG50rFnIyVod7DcLn8GdMruL903VtsmJlTB9VlUKGW+6bPVFqsOLT4Qb7trXsX1n3HDzk5bPjs7GPYPEdRF87Erc0KbruYOJivmaMIRBN5MNiYDJ6txwveYKwvzSu3i+TFLalFBWy6CWFFUHqev+edPFKVBHYVCnSIKU0FrohWmnDiLMnYwe2boF+r/34vLzDYmz083tWZ81VAEiHdoE0bQETeoJ2bj5V/BtCZc2IqIrIV1bguxu337TRYwVGI4JgGCynkG01BjIfvM4IzXPc7qaTs1MV5NmP6TjXtHFqsOLTIQb7trXvn2nf3PbLpw0kTDWA7iBFZ9/UiIh2iTCZZsCogWsVKgG3WKCXDiNwiAk/tu5A2OE1qHm889E6tSvcohXQsQtwcQbNjoVJO1M2cKqz5grxbhXfMzc0AsWgbktfjUStWfnrBHqDZicKxN5KfXxUNj5YRZERBRopWVuAKArAl0YJBcMCSE8Pfr9iOOd+YkigxTib2n36phPW7zWw0LJi1aHF5MI3/SRj2cbX5OG7pkrtIIg3ZiYdIli8DOjwJVTGiQh//QxM1SD5njzss7p+dl8ImqGYMBNooGfBe2sVGrZTCIh9X0I1683nYmFg2kloUuCpG3EO/llLxIDXZNQuZIvHCvQGtu3wexgPvP0PfqoFaH1OK4YrVzVVnseG7738z7JeK2zKZkrDoIKdB8CJSKa6OciodOefQqztVTYg9gG2pACQ+HqUf6p4OpV7YPTtbzC0Tmt4UyybPWe3Xue/qe/Pd9vyFcK8dIPuTD42Ke/3Hv9zwSL337WdgVdNG6SSrq6p9W14HT8Xo+2eIiMEPskOrQKBMX6KUm9eVmXE48u1HW5pxU0Oju8un15zuoM9V7hDC1veXVJ6BRVAlqSEjoTWqHKIHMKzOwHKoUqwyyDzNzrPitzxh2oDLIMs6zevBEzFT7Mc1oNZ27UJgOlujbetHryn923y0ApdN8U4gcrBSqrdF4BmSIVvTxbo2oJOhVU8n8Hc/PrFLWLqPBncX3nMomhYjezFn5jERldAkAibWoBv6l5NCwRDswQxVNNV/7u5y6aeZqLIxL+69/+wuzqHU8OmiWwOtKAr7VsVXb1yo7XrV32SN+QCYapj10Y1W8CEgFv3rppy/LOzcs6np8cyzUSTcIZb0Ao4NzkyBs2bu2bGjXnY2PGj7z42bRWbJrT49aJSXRqCsW49ZfYm0T9bZVrSZ1LBIVOoNaFGIhKQXk9tu0ApaA6UiwFdS4eotag9KTsbZo+nisCycdA340g0Fp1bhcjh6OWYPR7z4dBABitL2uBAQBXjOXXX7o1vAgomko7almNoGpDmbkOqU04fZAEAmgtN7dVmieqc+YlaF9GRrvCGWNmYLr21letPdQ/Fb3GXAx0BwCAadfqrTfcfPhiiIcXgQjf+ov/Z/dr3/5431QhQPl+tzNmYHNHqSTh0b7hRIKZUEkwZI/R+BhIhNMTY2cmRp+fGEuKSWZu1YX/C70sKeuslmGWU6DvARoFCkglzerxK1dcOT0/6IvVeHVSvEypJLUEQpqUoM0ojPD1XhaLMIPqMEweg+pwLhctFI3alIsat/2ryqmv5SbaKIzCANnRUPMhV1wDQ0/lisDGELRvbSnVoTYWFAg5HRLarRMBsE4DhFUitLvXQKgJtTN9zDecqFbbyk1Qq1eJdMPiMMpID/VPvuuqFU8PzwJgdLWbXK5rdHh2st7W3ra2o3LiyR+et/fmK8OFLsLdu3evf9/ex/umfBoZ2xt+7MuEmhmVTdbmE1ehWSnmAqDf5YVi1blRm8hBDdK1x6O1yWXNLfOqmnNlogDodEglSSqbB6ymC4WX2NQ0lVRKKBUkaEKCNquQUGc5xyUkkPnKUPv+RNwG1KgiyU0NFPqB7rMPg7ZFca7e1TZ3KqzBLxBOIPa8FoZ/COAGVjDSobDL852x6sq8yJIxK4NDQegeSQAT1bmq2QnAR0IrP9+hBGvMAD5/9uz21SsGzOiMk2I0+hbi4Vg92XzdTc8d/OEFPk9zQYuweeuuyu1/MjQz7539aJO/sHtfHHCMGMzChVw3z/ulzm6JhRT1MMC5O6GekS7oLVCgG0mLwqB5kV6BuRm0JB8GhZZAdrDTFV25TkNWUKBulIi6Tn3cl5/qz68bDBNqualuIiBqa2uD6YGgQLtLfuw4uvf35DFzxi4ghJCI2kho7hEIYAdUzdp8AjQXIbUZqdluOG4eulBpI6HzYyAYM6GxUZVNA9M1cKs2zKu0Hk8+IwWAgRndccHPtV24ImzesmvTr36qJKkkcuOUscHoa0ITCUOFJv3ennkFmkaFd1MXhLtIkzY2phISQWval89nMw0UKILmjfyWN3cTTKfx1kzmT4NTYCp0glqCGYXJoBjoQh2IWSMF+t6Dc0QaT6WFqBi7o41GYVpWwPRAg8UWXoq5wWwnTze9HekQzUw3oiACQoFCGGVquyjK1oTahjswVwU2FaBbShUKQqfP0LO03qlPPiP3FaJuh3vt4fMFPl964bqjm35lX0mE4eZ/c0VHKoLBGGSZWOMxlVSWVJJUTvTG9hav2HJCpURH6tXlJGdRlqQuS12WVE502dmYZfds5juuauksRWfKCZUT+7BS4r9WlxOqqcH1Xa8qSyrbp9XlRJcTXTbaIyXJWp2CViCstN5m/gOLZ5wd6gzMYGMuFLA52fOqEy03Np6nyX/Mt20dT1b7uJrrOhqnR9nVGKD1ZPvNTu3BF8XomVFrQdrnCMJeh8NYo9rvf+V3ppNIq9uXuU16wvaQdn8D92EWFguEN65uKe40KQobCNnFZXfe2BtvArT+7n1L/Y5+QS7QSLjx7n0tPau8Bq5Zns4Bjs9VfdEVe4y5yUxBt2zecm64T0tKZBSsQuyyoWxdx7LtPWtHZoddnMyVgiG02qVJ2CRTBXNpOO8isPCbYYNxidpK3ZkecJtka7MQPkEtQUlSkrRdEZ+NI7QgtUBtLOjHNCSyuEnogt6Gn61XNiSIMD3gjFAnlVz0U6D17MrXrjj7zXgbC5eOxpMxAED1ZVe19X8/16mPwdyNSu8OmDgCEKKfOUZ/0yy2lyjSNYgzPny5qwKjC4PuJsDUfHVD08qx2ozNUckmqxAuWROe5Pr1Kw8PTZIbvokn1wrjAQCwrESDc8pXrhdsE/9CFOGGu/d1XnGDC0qUSv32q1Z95+RgGO+K29y2vrJ56c6enscHT5OVR1Bg6hya1PXxq/XZkdnhTc0rZmnarULyjo45AG/t1NTM6tbVs2os6ogY5YdqsOTrVQEzk9WWJpWiWwkBOkE3kG37EAozBbUxgJYsq4j6WNRzaxC+cP3b4Nj/kGPPwswAuuiUC1/Rx9ja29qPf8UrEBu4o2BVR5CuvQH6DoYp7ViD8UgKIiBkbVvF5LFwBvJ7MzkRgkAQHQTTzrBBMyeXP3DXCSZct3xN39QogcmXfXbqextxXorLm8tDM/PkFegummyOvRT7pmpv3dZ5sH/Op9PpstXNF6QOLzgRdt96RwW+ikYAACAASURBVM/rfq4cUk1637W9f3f4+Ua9bxcGI89mtDadRjWhayF42dibLtbBrJ5Ow+y1v9eXl34PQtBZDcV8mm8JFtdGSEoEAUyl6upypS8RZi0SmU14pdl1V+uwLDBTMD8q6uM+4cw3yqM0b/iwu+mEp/IVYHSzqVKByf4woUZ2Qg1dERZJjnD1dXDucQCIV0s4wo4D5k0/iiuba8+7GBhtOhBtzAooAFHTtFGRuddGP3PZGUDjgvq9950Csag9KpSFMDQz356I0WrmDFhn4ZhXmw+Gjw/MxaESAdPlq4HwQluMf2GJsHnrrvXv21tOyJZbkkqJPjo6mVfgSwTDnAKlFxW47QZdCzEKem7yM+pt+E6jSztR1twFW3zcg1IUBv0ceSqoXO5LsYECTTXoJJeBykBl+bVI+dLOxUO3bOKFVwbGE2qTfW5CzVkyNhKG5RF+O0MAgKl+P1IdNd/CWJiPeM3zZ14gBkYJqhBk2hWIgAKsF+riodOhT0fDXJuLjTonv5CLmg+vQBf3fP7pB8Rz7Qq36Mn+IM1bd11oJs0FJMLmLbs2/+qnSlKXEmexSG2CYUlEJkpixWkVmFAqwibwJae6SHLkw5c3DJwm3W5okQ5zkVD6mRj3hEH85psaHVIiKEX3GXUidOJW5UrQwqgoclnimTJ3MnpAXoeYj4ohJOYDYN4O1Rj35XW060yh/Jvsi/K5PFEfwmCzTYC88CDUhGaLGrPwXghAOytuRehbhUaHkSmqwVqmOgzNuLFS31GkkJ0uEFvjYBj/JL44vNDM0gtIhGveu7dlRa/1FROvN23y0q2d5TlVK+cjYbQiIZ+a+iuH+bJNhp6eW3sBPso5HbpKMup5GKGu7rimpgbss4UY6FodYJfAp6gr6cpaFZpK1RS1NNuB5uY8rQJdJAxjmdHNnA4b7GehnT8Z+TF2LxntXX8KgbHBvk+hAny67aae+eeBwCWd+ZmwKOfMtr5Tjj2LC+tA1x5EFLlehRAEJjsVINAlojYehgPfGySIpBj1CV3MJoCfu2rjkaEJ8J2M6K+HTX3d676ut71/eh4W6ND8SMmyNRdOcXihiHDD3fu6rrihLKlswqDz/Y3SXrWivV6dzgSVEhcbjWeTRBmpi4dXr9g6OT8SuSaRK+PimxGYrJfScpb4rZlsBhslsU6KUlBT2gowZRXoK0bUErRJO1O7J9pkS8vVon4GlQtuKpJcrMDyeuy4HsaPFO4189aYuQQ1C2sjQOnZ5k3p3PDCGIiFeLj6ulnRls4MNWzQxyJcvuPNePYxgLwvSlGX0IlQSAktK2BuGPPyi10ZdMEQy+uBplAKlIiRAp03E83QEGzvuXJwekR7KTqDdEFliNu6O54dmgAAQmgQCe2gARBg/9T8L+xc89i5Kfuw0PFEALygTJpkqV8AAEDz1l0d23e6NqBvzfuIp7d0ND00NeLyQO0vf1kY0k8ErWjtnq6NlhPKX8I2XEE6vrB7W0v7bG3Q2QrR1W0R7KVg3LUoNPV3Vq5FOCf8vaSRyF5rDey3MxMwoBTU63kHJR71dCerR2j0MK56czZyWE4es533QjveBLruq3TXFUIIJGp+7PPRuiR7gAWNrbketG4efrowBwPgMzJwk14oEEFrk0CC1q4X79/hkRE6cIhe9W9w5DBpBK1BIaB5GRhisoj+LiSrQfdLKcC1+xIBikAKkERCo+kK9lR6RmeHJZJEVGbTSkJJpAm0AEEoBAgCKUCbfxQBBCA0STQTOUROk4QkAAhQEAGi0grNVTqiAK+BEEAAtmzd2bxl14Vg0lwQItz8K58Kg2nFhFNftaKjf27GBEC/WMmvpUhkUGCCUJJ6ojpclmYjULfpqNMh2svH2r1DM9VfTqyoAEgIQH8dWTuV6PbGB9KqVkkIgZyPrhFIEIlYflqD0lT93py+pkk9Fq3686KKhs6UAqXo5Felyms1VqB5Z587KJ5/FLQmnU8yrfOZG8gGopPPPbdRjDTu+xXViCefe26jESGYhFQAaCdIV/uBDXoqyxKjOqXBqFerIMLog6qnIE0gSUlpkFpKTBA0giSSRFKjFFaH43ODNSWkQEEkCCShQpIIyigQSaJRI0iE6alJiUQIApEQBJAzgchaQSa+IwLQU0MzwueqgO4zgJUirr973zP/8frz/fZ+SZY+Hd14976WFb2uCNQmHa0k2sy+lBKaqc3O1ubKYfyFyq5QLMxnppKUng0rfePuhSvnfHvdL8BPnYb9LLgNrUgJUCJ0SUIiQcpBu9ZBK0HG8FTSWC8UtRyUgkyl2TlfAbp0VPnFfq4JkeWS1UyhvamiJX+5YVG3s5N2+977oe3cGqVOmCnmn8V0NETIzs4umAgWRd6eiVevIyCIsWdgxTUwN5SzQ70lg4KEiLuF5upO2hScQlhvBtz2Gm6glKKeodnwTcc2jF3ThER4asqtjYr79SYLJbfGnkJGGv1MDYrDC6SDv8SRsHnrzo7tN5SE9iEuzkLdTFncFdRuGjMXCRMRXZJF5BaDiigdteklgJlqtH8mTVbptrUVSERASptdGgRCKkAIJK11NH0ikITxB4whGV3zKDQSohQUo1Gv6PoQPvSZXFRHm2pHuxXG/YZc5103qPdCz71RJAQAsxsMOBWdfhgAQQC4eIggXHtcF0QIGmHgSZSSTBhUGlCAoMJLtXmp0oAKQCAKIE1aC0ApbBiUAqUmiSiRhEBJJMnESVCEEkkjaIEmKdUE5kx8ZVJpV9X7YGh+WiQkAKQQ94gIEclVsebA3rwQktIljoRX3PP1ckLuw0dCbcc4k8ggDYIMhk0pPwXqndJcG11AyQ+42IinUwmpuUYFaAk6rLqQJMBea0XaZgMlCELrU6fmOlsA3WVYJGih8gHQHWBpHcwNu1hnXRY38OmaEPUsOpNfTR+munPTnsWKMRZ8Tor5m+DnTaIY2DBTBd8VdLfAqRIBenfAzEDUsRAYj8iEGW6wHqm9WEzY8MLZLUiILhLaVqGOWoXRZ8w3DN1rD2HQ/HDOlXHWS+htRoGxEAApOm6/8R1Le1HupRThuz7236eaur0CS16K0p1xels2U4UWYUax4ynqghRTSSUBTaJDJtXcLtcmvQQdmgrSnkHSArTvGZpJZTPeaeeJyTbKW1qvFeqcUaDQuii/KBcVbdfS5DFrdaoFg9c++ezcjlP9mGUY7o06FrEC7bcryE9FClywZIk0bNgFY2dDeAzv4jgdhfrrflGeeQygYaPQiA4BAWYG6lf/r3L4cOyIokDXsYCgRiGydK0gM7Mm0CQhIMwkjXs5GCtQE3RWembrs/Gi+4YtewB8y7aNx0fGwVxUOBiiWJAZAL7vujVP9E/lTzZeZrG0SemSpaPNW3e+5U23fPrRsyWzVUyciCbFjPTqV13x9NCxSGk6DUkpFAzSzsqq2fqotSvdBWGAtLHOEmGNGa0oTa/L9KNElAAIMvkVkbb7gQk31mE+Kk2pms/MCFiwJTWB1qRdAqk0aH386NHNlXq0IqHgjrr1R30H8cqfB6L6848mQ0/lI1s8eK1xzfXG8Dx39mxrS2v7k1+MnBho0H/ffRcAwf4/sb9rIz90b1g0D0NAAsBUJqA1CARtJWTTXfBfbaNfeuiv8Ib306G/gtgdRY1akbFqhM3D09ppXPlmEkjT3wetBRFKW/oJQEEkgRIEJUgSdpW6m0srjw4flij81Vc1gkRQiBJBo/1jSQT/ctumB46ckAIJgDQQonTKMsaMALIvGCjL6gII0KemcZpKFCWlH37f2z78wJIlpQ3/+i0G7/+rw88Mz1RSXUmKH+WEKs6kMeuMbly37enBZ8tJcEf9Bk1hyNMtwG1KeupqwO4sZP4Ka0LSpAkRUglCAGmtFIEOfQgjPK2JlLaVQ1xoaaqlN5Tmf2TfoPFUtDEDnQJRaWjZPDoyvAyHCp6n7V4UmhCFiyspDRSXf1FuqaOFufDCCgwHtiJyxVEhZwMX0wD23AXf/riPY2DNFXdJRyFBmqsyCVhzvSKQ48+ClJAkkCTmgNLE3nQHlKaQJti6hdQ5SFNzRoGsg8hI1rSYVzifiXklSsnKkdnhWobzSpjrN9Xi6zcpeyXtusZMixt71xw43eeu1gRKY2av0wTuwtqoCZRGTbitq+np4aomUC4ZVq4J6Y7R7/+oCJbKKV2adHTD3fumm7vLCVUkRTVhXBySb9aXExqdGzYjbGGsNAnFoXVHE7uSCGgqAb+XLgjSoJUwA5xgd7ZGF3ZsbuljlFaoTbapCyWZrD0fqr44BfWz136B3+xQk56K1wFiYUqmsGOaeU7bple5zDMeE7XHTvkU+zRRl0JH+gy1lJdrdABOrid/FEYsC8T9egCYGRLtvTA76Jr14Ka3o+JQRGJWk/5yaygQJaIUEK2lIMBqNhsW3UcFoX/t2l20GwBOT07lX9yCfj2CqVkBYGQucxVs9NMAAuSmbXyCulRJ6RKko3FrPrUbARb3AixJXYpqQjdEGq6XYre3iAc7BUkkBI1ACDoBSBEQtLb9NPB+pnl3CiIiElAMLLjQbwxvcY1+iXq+LYaFVUUu+QxijozQSGPRiqQ4C6X4c+S45JrvkX8fz5oRFM8YEK1lGh+Eairfsg99QkBwV2wEAK2g73GQEtC2CklHMRytKUqC7G9DCFAahAKNoAQKLYSWAhMiRaiMHaqtU5ogakGaUBFpgoSsNZoQmUTWFYroL+TthiqAtGlwIgCAINAAAo2/a7E30VlVwTgV1k1dMqd0CUS48rYP+S1DvZnpK8OFxaHpCpYjj9S5oDrxozOSEiQkDUpLQQiUAAlNoLWwgiGBXoE6Ggdu9KEb3tRRCupzxcil9AMuOrZSCilonJrGolUQP3l0uVywoaHgqbj3EjQyOR32DqMfosYHSPECCN+oiD5r45GSaVGYRxrJacS4JNYIWpif3U45KAUCQVspkhIEGqWQghIiRaQ0KkGKSAnwXYrEJookTfYoQHun1ExIOPPG/vAaSCBYHQIAWh1C0B5EtaKrCc0PZQtFQUCI3bfdcfpPFluEi52Odt96x4qb316RVEmo4vLPiiTviNpcNGSkVJbUVWpBMe+tGi9It5M8lCQloG3/AHSKWlLovwmtkOIMs2D9FyakTSu8eF503wITR3OPjNf+RX127LwCJ/uiVRHBF0X3UTife0Lld/vV/iNKQTUQ7T81+xdPTu0/PRd/ANHGdhm06mMcuR2qGzQnvJgbKTlK45677v+YUE1dsyeDOwqQW0Lh0tGBasdMVm4t1e1JV2HaVYVG9GiWO4UtSV3vIfc5RGkIGfSGzq6JuWr098WVuXaW1eWcCFev7BiamQew21K5+yJf1I8PubQ2XbaGFn3B4WJHwlU/e4ffrPrd16782rNnXVIarVcS9gJ9XnVrl609N/mUN0tLkkpCJ4ISO7wGEsy7Uwm5SiBBdjaX4JHzUQrBreMNAoBGD6C9Fl/oUpmgZM7bBNVMhMbpqN/OLIqBqDR2bqfnH82NifpVvMGM0aCUfu0vqiyrPfvdlsGnQGv0+ad7tfc+NG7efXu/N/6Sv9u9C87cc3MnAADCvTd3gnszmgBIJgxuugk23wTf+iP7pjRh0DzMREX3Nt386O+rtddD77XY/yQpBFCA6GfWUCtQtjhcWRqf730TtrTA3CmoniKhbEhEgcZNRU2gBKKJh2l5ZadcOTo2MSnOaQ3atOn9Z+GDIWiAtR3LpmfnpHB/RdwkKACQBhsJhb2q4jUr258amLShz8dAdE4pheMPvab34z/oJwAi6rntjuFvfOKnepf/mCyqO9pz2x1r3/ahplQ3Jbop1Vd3ib7qfCXRTc4jbUqokuqKVJVcPNQrWrtTQfPZgN/wIgGblJpLulOmQdlwNzZR6l6+nKqno+6ZVY4RGLmlPYV0lKjoiPpFQDNiVUtTE0wcDRFJxWWhm4lRCrSeXHNr+4mvegWG67roKA570QYxE2i9/9Tc/jNz+09XD5ypvuK//93rKnvWVfasr+xZV8nlnG/6D/StP4om0YSLYNYgBYEgJQgx2bW9/epb4JHPQpJQIkEmkDib1Jii3iBNU+rYVi2va6r+iNIEkhTShNKUZKJQKpEoIbWQdZLT062Uzs1nWFMi9kiNNVpTwlzXPtPYnrQmpcrJsfFMgzVIlXFHgzWamRF6wu3dnYcGJpTZU9JYo+HAOaXRGWUfgIpw8P5PLqYOF0+EzVt2bfnVTzkFKqNDczPWYSXVFWmOKR6gWd7cU8v6TSQ0i/cSd+V3VJqUokyhvZhR3jhx9RVGQYb8mhmboTVa7xPZjzNiVUv9nGsemJ5E+BZYGLx2x3Y1kx/ajqe3dbRbodb3fncMiF5OuHuluOfmThshnT1D0YokJ0WnRikgNCrkcPOG5VkfWBEWdWjE5qUYzhgdJqmWUolEo8xQZiDrJGpKzGdWe/MZLmxU1DU6KYq6xkxDpkyXApX5THZfOOU7FjnVhQNtmxlBezpqb/gvPPXH/27RktLFqwlXv3dvq1mzG2ZibNVn9OZLRHOyZGdo7AJCgKmyXUdvt+5M0F1FzL3v84Wcd0SU3R4i55rkO+NRJx0Kz6A1KF3KJlxKaZ428xMzuZkYt3gXs2gtb37zQlcWKsiy/Sdmbv/64Af/YejAmfMS+l4E8x33fm98/+nqxvZkY7sM5VcoDwuFov2T3awmASCYqyGE2j1m0EdUd+DP2Is3uYLQVpju+hNhqwvTVYmDxAvYT67Cyzci8oNrrib0DYzckX+c9Z8AYXFX/S5STdi8xbYl/HWUovFOf9J1HZLcwgjfwzArCQUpCTo1F3M3pZrTHkYyi4NhsdbSccJJQLpBJMxtzeI3P8m3JeJvF0XCBbtRBL/Ha/veh8b2PrR4ce9FOHCmessX+wHgnps77319J5htLEAQurWFPlmwePEocxPQjM4o1x5UoMKOT4AChAIhEBUJ0zAUQqB0CtSEEiGVJjUhTaAluUFTcmqMJhFy/4lkSgCAiGYm1VR9gBpRkNIAApCsg4q+egQgM0/j2hvarEhEaF3EdsUiRcI1793b2tMbYqALgBV3xoVBXYnjZM4j1SVJibmKGKgEKQEdG5h+C9qFffZcGAxrbaN9IuKBFetG5pbVGv3gtnfCwJM5d1Tl5kJzTfkoDGKWocps6Pva4AfvH17kuPdyiAKj3NguwwV6AQBgZtcHSnZTNve+t1EEoZjHmqlOkbsLo3X3aK5kaEdJTbPPdPz8phVxGMwboYjBMo1v+sCM7qyPcz7K+cAY92AgFrL3kgmwNnpu9vgjr+jvuDGLJMJs9Fxzz6qOFau8qF69sn2mPluW+UZFrL2ESgmVEp1kTR0tnQKnU9RWgWYbTyMSrwStMF07B5vT2hksKLAgwmgMBde/FbSG2aHIKYmU7FNZpXH7u+jQlyJtZzkR2rw0g0xB7w5oWQGjpyFqSBj57X1o/NRktji/85+MU5PZZw5NBymCmcqEUqk0semWSv8TAABGNAtFCAiIg6qnadtbUAiojkQZqZub8cPf5qoViICQJL3V2e5KpaJoOr6yUrQzRfiPGJ6F5jR3CiBWnH/4tu7O7pbKyFw192qjxNQcmSvKXNfb3m8vcQEEMHPs4bEffrU+2ncefsdFFkmEtdG+4e9/beLIo+0re7tWrSxLmq7Nvv2qjWcnR0ux9nI6dAt8y/NNaXMlaUE9KUlL0Akos31gfg2RhvnRUu3MYO2K1hXXwOTRXIm4QISn9NVd63fR8a/AzJAPg/H8inE7zZlh6mlWkzDVl5O9U6CrAK0I5zbdkh76GtS9/KYvCvnF5KWYIACMn630PzF53fvSNMXJczYwxTM3TofNcg7HnoWmblz9euzcDhNHgxS9/WOLOAFyVVq+UutpkM9nehrc2ohcN89lmsuburZ2rx/Qk+5bOjCI1XcDt3Z3IuCxkfFCaxDjAOg2qtnR23awf8p8o8kjj578/L39939qcRQI8Q+yaKx81XU3vvv2zddd22ysUe+XFhsVOkpQdVn26PpZSTYdDQqMr+NX3JSa3CQHLZi0XDAV7XcoK9ylNRBVWzdXxo/6+BmvJMJc6qtB57ZI2/OX5y7AzPPHYve6yv5395pZUJICNt80vuzKzqe+ZJxSSCTlrNE0NCqsNZraY+uapm7O257XUmYk6iTrJOok6lrUoklu36KwH1p4X7QetSjcSLdrVORGukEVmhBxS8Pfq3H4mcdO/P2+iSOPLvJveAkGuGeG+o88+MC5Q48vX71yxZoV4UosdmOL6KYdW6NEaFT2SpoSlPBFXaxDvSDuFU1Od5cNet5Zcf06nctU46ZCMjsEja4jH21n6ItDGwDv/fbwLV/ou4ii3wtxajLb+9A4EO1ZV0ECGD9XGThkKzVbhMUZKdhT0UiN+UyA0c3w4fLS8B2jndTiEAb+ye1B2NDC32UfiGEBVnFIpuHByDOPHfrz3zz51T+dH1mk6BezZIt6JwcHDn7zmycPPrFizYretT2hMyGj9RPuQJAyF3KQ4BbU+kXo0WXTfUPCRSofnXRuYCW6nqbZpsXuPZHTnu/CN7Q640uXhYUR5uT+E9O3f33wM4eml+p3ez44cKa6//Tcxna5qUMixe/joKpwxid+UQ8jupkXLSLKSFkYtBMpD2IpWo3n07hih8IbOMW/BrkvHH7msUf3fezo//iz6lLIz7DE21uM9Q/84B/+8cijT65eu2Ltuh6793ZCJQlWlpIk6iDCOP2LLl0U2uK52s9FOeOsxE3CgiMai7A4Wh1dxHPVq2H8bPh2hWTYBcAP/sPwJRAAF2IKRRsSbSRcUJrlK64oHvopU4jlFzxNISIh+v+7STtf8IFTsa8AYznbV0PxzZxr6q0ZhIGnH//+xz/29N9+ena4/7z+3l6Spd9tDQCG+wb3//23nnr40Np1PRs2dBf2rWgq7aD6WUFaaCVCfFPRXiw2KFVlb1LpgbnBuBEf55kYDZfl5FdYTJSLmfZbVDu29ff1tavJhVti293sldrzl+cusQC4kANnqvtPzd1+deuCUATgZNK349faBn7QQHhFWWKQFNpF8v6ZchYKBh02y7b2po65bKbQAQlPFjUxNnR1TVTnwAnaiLfv0OPf/uPfOfjXn54ZWmL5GZbAmHlxdr7uVZ/9u//XtBAriU5QC5XpbHtzUxPNfC+6okMoxnLXymzbMl9aW549BaOHw3BmbpMy27ifWvdWVa93dnZC/5Mw8KRdVeiNGe3Gvs3Xrt6h6nV57vEFcVKh1pCp/SdnbvnCkuUzS8KD7+7ds6kFZELFsbWU0iTb8d60UqbDf2PcF0pjhyYl58qcm6ys3fr6/qGhVat7ifoVDWQk6iQyMm6NG17Toq5QUhfUW6ishmaG686J8T6Nm2IDM8vW275sbcfy/c8d96vvzfkv/qf/ePbQwaX+5eW44ERo+LUPv+vX//M7y1ILraTOhMqEzjR1J/WzpvlGWdydi/0YBUpBxzbQGoYPR8Wek1YwSHXeJg3j2n5w1Ky9mF9+ZTlN4fQj+TjpSk2t9p+YMUMnlxsP/m+r9mxqbWyQpimkib72PeLYlyFNKVKg3RQ4ck3jKVONok4iA5mRyKxZinUtnDtqh7nrZoi0kQL9QKlxPv3NBz/7ue98/rNL/TtrwAWRji7k+w8d/v3f+TIA7X79VpuIkpLZhG++2zrNjkHnRag1zAzCzCAWkkxdyEJzySfqYoKKbmgmmR6A8bM5BYYWorr3O6MfvH94qX9hS8NnDk0D6T3rmqK/5TYXtP8bfjpyZfJ5aWyWehcFXA1nS05E4RNT9E/vvoXNP0VhiAbi7wMI8I+f+dxf/F//9+knLqwA6LlARWj47nee/a3f+SoA7Ll5s9C58i8UbDmLJdeXx4V6syExf8YsHcxfU6X4tUpHpmto618OReCLc+BMdf+p2duvbvXmZGSfxCVaAx0GszKqL13bwj6D90rzVmfB8SkWh6YnggD3//l///h/+MiJg08s9u/lx+GCFqHhOw8d/c3fewAIdt+4sXgpae1HQOMeYNSEaCBC38SP1yLZY7sYquFXhZM2/O75y76LvRH/inBqMvNWTSSUWHixO+pEI9D5m+A7E/bL3FUQTbPP+Ka53kW+6xF9k7Ae6yv7vvDf7vr1Y489uYS/mZfJRSBCw7f/+fhv/ME/AcDuXesWiNA23webb2yZOxVHqqKQiHIKNMsjvFtT2DmmoFWlYfcvw/HvG391zxdYgQGrw2tsPFRrrxdTAwDgLMlGOrSRDqJI6HQYqdlem1REeosNV/80Xn4AX/r4F3/zQ//52UcvAvkZLlBj5sX56C+/4aO/dFM0qmL3mT85lq66ajcQVJ77yoLlglaEZgNS0Hp8y//S1dlpXZnv/1nkyuhozC3KXXf/e/inP2IFvgi711X2v3eN8UJrN3+o9NjnIE2hlNppNe/KpP5MAmmarXpzWimDlHrs27mdS6XUKLUQGiUJoVDWFZbT64hgaOZJu8A3b8z8+R9+6fN//KWl/jX82FyUIjR89Jdu+ugHdpqOOar4qrcar/jXNHgI+p5YmIiatYXkRkmxOEGqc8api4RzN32w6Xv7TJrKCnwRdq+r7H/fGmt+3vLv+x/7xioYilTXQIRhjtQp0HutRoEgJUlJUgL2ztUHCx5pprCu8RP/9W/+7A//eql/+p+Qi1iEho9+YOc9793hevfRfFmjghB9ZPN5KRV7g4WNLSAqF0GxAl+a3esq+9+3NvQGS1Z++S5F/mbYmSbaq0YmkEiS0rYipdQo67rQqMA/+N2/+//+698u9Q/9U3HR1IQvxIGDffd97jEA2HN1zwLrpZEItS7KjBaoMSdC1zDU+t7vjn3mqcvaC305nJrMgPSe9U0Y2g+40EXJm6XR12N84AdOEd0lZ8DVi//td7/8nnd+7Ef/fHiRf8BXnItehIYDTw7c94UnAWDPVd3OXIm6Wc4ETwAABQdJREFU81ZIUbO+IMK4j1+Qpcta95+eu2z7gT8uB85U96wtb+xIC97lgi5FdBw3+bwqXecw9CcQgOi3f+sr73zb7/zzQ88s4c/4CnKJiNBw4Kmh+/76MADtuWJZVOBFFmgQWDQu0zAp1cGnQaL9p2Yvz5mYn5jPHJres7a8qbOow8adQ3CNDfDHtkcRNRABAH7jt79+61t//7vffXZxf5rzyyUlQsOBwyP3ffkIAO3Z3uUlh1F1Z9R1MuvqfMP7YN0NQABjz+e2foryUhM/b7//0lwYcV45OVG//ZrWfIvCN99DxwK3vwu7rgACqI7knyBnWNz3e9980zv+6NvfObKYP8LicNEbMy/OR9++6Z6f3eBGYfKF4sLF9YWLQDgrlc2Yn5hg0pTiLoWf53bL7SNLJhwbYyZJ7vuTb//GH35rqX+U88glGAljDhwZv+/rJwFgz9b2+PoqL6rAEBJR0/5Tc4u5J+8lxqnJbM+68sbO9AWmy8D1612zPjZpEO77+Hff9IHPfvsHJ5bq9S8Ol3gkjLnn1rX3vGVNYWQ0b8zklGm2nMHfO7nUL/yihz6y2fYkSgtbhWm4xmgUDO/7zCP3/ekPlvqFLxKXeCSMOXB8cu83zwLAnk2tANGF/mzcgzhCmib+ni/2cyn407P/9Nztr26z3QYRRULww9nBIL3vc4+98de+euDRs0v9qhePy0iEhgPPTe39xz4A2LOxpUF2GomQE9FXCpeUJg2GSF0KigD3/dVTb/z1/3ng4GXnQl92IjQcODG991sDALBnQwMpIgAQsSP6CnJyIgtOKeRqQkDY++Wjb7zvuwcODS71y1waLlMRGg6cnNm7fwgA9mxoirNTJLr3oXEejnkFOTWZAdGe9U2RAhER9/7DqTf+3iMHDo+89FNculxGxsyLc8+/WH7PG7rAXU6U/ZjzAX1ks7k6GqTJ3v1De//nuaV+RRcELMIc97y+C4DO0zU6md3rKns2NoMQew/wACDDMAzDMAzDMAzDMAzDMAzDMAzDMAzDMAzDMAzDMAzDMAzDMAzDMAzDMAzDMAzDMAzDMAzDMAzDMAzDMAzDMAzDMAzDMAzDMAzDMAzDMAzDMAzDMAzDMAzDMAzDMAzDMAzDMAzDMAzDMAzDMAzDMAzDMAzDMAzDMAzDMAzDMAzDMAzDMAzDMAzDMAzDMAzDMAzDMAzDMAzDMAzDMAzDMAzDMAzDMAzDMAzDMAzDMAzDMAzDMAzDMAzDMJc5eJ6el4jO0zMzzFKBeF70kpyPJzVc9QcHBZJAEEiIYA4EgoDcTbSPcQ8De9Odzz/Gfm3Dx/ivdTcL3x2owZf4x8ALvyQkAfmbhR8KGn2Jf4XwQi/J/DYafYl/JdDo2/nHmK8FAsp/6AVniIA0EGHju17sS17gruJ5fDlf0viul/iSRq/5lfku+HK+xN/1X06cJ6WI8/S8DMO8TFiEDLPEsAgZZolhETLMEsMiZJglhkXIMEsMi5BhlhgWIcMsMSxChllieGyNYV4u52ls7XzBImQuMc7fW5rTUYZZYliEDLPEsAgZhmEYhmGYS40HH3yQiHbv3r3UL4RhXhl27959MRn+99xzzz333APcpWAuIR588EHzrj4fnBdjZu/evQBw7733no8nZ5jF55Zbbjl/T87uKMMsMedFhCZwcyRkmJfDK7/b2t69ex988EFgETIMwzAMwzAMwzAMwzAMc0Hz/wNnedBdLP9CRgAAAABJRU5ErkJggg=='>"
      ],
      "text/plain": [
       "<IPython.core.display.HTML object>"
      ]
     },
     "metadata": {},
     "output_type": "display_data"
    }
   ],
   "source": [
    "model.report()"
   ]
  },
  {
   "cell_type": "code",
   "execution_count": null,
   "metadata": {},
   "outputs": [],
   "source": []
  },
  {
   "cell_type": "code",
   "execution_count": 5,
   "metadata": {},
   "outputs": [
    {
     "name": "stdout",
     "output_type": "stream",
     "text": [
      "Collecting...\n",
      "Collecting complete!\n",
      "Attempting to checkpoint...\n",
      "Checking for pre-existing frame on disk...\n",
      "No pre-existing directory for this model found. Making a new one...\n",
      "Checkpointing...\n",
      "Making checkpoint directory.\n",
      "Saving figures...\n",
      "Figures saved.\n",
      "Saving vars of state...\n",
      "Saving substrate to disk: mesh\n",
      "Saving var to disk: temperatureField\n",
      "Saved.\n",
      "Saving snapshot...\n",
      "Snapshot saved.\n",
      "Saving datasets...\n",
      "Datasets saved.\n",
      "Checkpointed!\n",
      "Observer prompted.\n",
      "Observer collecting...\n",
      "Observer collected.\n",
      "Observer checkpointing...\n",
      "Attempting to checkpoint...\n",
      "Checking for pre-existing frame on disk...\n",
      "No pre-existing directory for this model found. Making a new one...\n",
      "Checkpointing...\n",
      "Making checkpoint directory.\n",
      "Saving figures...\n",
      "Figures saved.\n",
      "Saving vars of state...\n",
      "Saving substrate to disk: mesh\n",
      "Saving var to disk: velocity\n",
      "Saved.\n",
      "Saving snapshot...\n",
      "Snapshot saved.\n",
      "Saving datasets...\n",
      "Datasets saved.\n",
      "Checkpointed!\n",
      "Observer checkpointed.\n",
      "Making a local archive...\n",
      "Archiving...\n",
      "Archived!\n",
      "Making a backup...\n",
      "Forking model to new directory...\n",
      "Model forked to directory: /home/jovyan/workspace/out/default/backup\n",
      "Backup saved.\n"
     ]
    }
   ],
   "source": [
    "model.checkpoint()"
   ]
  },
  {
   "cell_type": "code",
   "execution_count": 6,
   "metadata": {},
   "outputs": [
    {
     "name": "stdout",
     "output_type": "stream",
     "text": [
      "Running...\n",
      "Iterating step 0 ...\n"
     ]
    },
    {
     "ename": "Exception",
     "evalue": "Something went wrong.",
     "output_type": "error",
     "traceback": [
      "\u001b[0;31m---------------------------------------------------------------------------\u001b[0m",
      "\u001b[0;31mNameError\u001b[0m                                 Traceback (most recent call last)",
      "\u001b[0;32m~/workspace/planetengine/model.py\u001b[0m in \u001b[0;36mtraverse\u001b[0;34m(self, stopCondition, checkpointCondition, reportCondition, forge_on)\u001b[0m\n\u001b[1;32m    143\u001b[0m             \u001b[0;32mtry\u001b[0m\u001b[0;34m:\u001b[0m\u001b[0;34m\u001b[0m\u001b[0m\n\u001b[0;32m--> 144\u001b[0;31m                 \u001b[0mself\u001b[0m\u001b[0;34m.\u001b[0m\u001b[0miterate\u001b[0m\u001b[0;34m(\u001b[0m\u001b[0;34m)\u001b[0m\u001b[0;34m\u001b[0m\u001b[0m\n\u001b[0m\u001b[1;32m    145\u001b[0m                 \u001b[0;32mif\u001b[0m \u001b[0mcheckpointCondition\u001b[0m\u001b[0;34m(\u001b[0m\u001b[0;34m)\u001b[0m\u001b[0;34m:\u001b[0m\u001b[0;34m\u001b[0m\u001b[0m\n",
      "\u001b[0;32m~/workspace/planetengine/model.py\u001b[0m in \u001b[0;36miterate\u001b[0;34m(self)\u001b[0m\n\u001b[1;32m    114\u001b[0m         \u001b[0mmessage\u001b[0m\u001b[0;34m(\u001b[0m\u001b[0;34m\"Iterating step \"\u001b[0m \u001b[0;34m+\u001b[0m \u001b[0mstr\u001b[0m\u001b[0;34m(\u001b[0m\u001b[0mself\u001b[0m\u001b[0;34m.\u001b[0m\u001b[0mstep\u001b[0m\u001b[0;34m(\u001b[0m\u001b[0;34m)\u001b[0m\u001b[0;34m)\u001b[0m \u001b[0;34m+\u001b[0m \u001b[0;34m\" ...\"\u001b[0m\u001b[0;34m)\u001b[0m\u001b[0;34m\u001b[0m\u001b[0m\n\u001b[0;32m--> 115\u001b[0;31m         \u001b[0mself\u001b[0m\u001b[0;34m.\u001b[0m\u001b[0msystem\u001b[0m\u001b[0;34m.\u001b[0m\u001b[0miterate\u001b[0m\u001b[0;34m(\u001b[0m\u001b[0;34m)\u001b[0m\u001b[0;34m\u001b[0m\u001b[0m\n\u001b[0m\u001b[1;32m    116\u001b[0m         \u001b[0mself\u001b[0m\u001b[0;34m.\u001b[0m\u001b[0m_prompt_observers\u001b[0m\u001b[0;34m(\u001b[0m\u001b[0;34m'iterated'\u001b[0m\u001b[0;34m)\u001b[0m\u001b[0;34m\u001b[0m\u001b[0m\n",
      "\u001b[0;32m~/workspace/planetengine/_system.py\u001b[0m in \u001b[0;36miterate\u001b[0;34m(self)\u001b[0m\n\u001b[1;32m     94\u001b[0m     \u001b[0;32mdef\u001b[0m \u001b[0miterate\u001b[0m\u001b[0;34m(\u001b[0m\u001b[0mself\u001b[0m\u001b[0;34m)\u001b[0m\u001b[0;34m:\u001b[0m\u001b[0;34m\u001b[0m\u001b[0m\n\u001b[0;32m---> 95\u001b[0;31m         \u001b[0mdt\u001b[0m \u001b[0;34m=\u001b[0m \u001b[0mself\u001b[0m\u001b[0;34m.\u001b[0m\u001b[0m_iterate\u001b[0m\u001b[0;34m(\u001b[0m\u001b[0;34m)\u001b[0m\u001b[0;34m\u001b[0m\u001b[0m\n\u001b[0m\u001b[1;32m     96\u001b[0m         \u001b[0mself\u001b[0m\u001b[0;34m.\u001b[0m\u001b[0mclipVals\u001b[0m\u001b[0;34m(\u001b[0m\u001b[0;34m)\u001b[0m\u001b[0;34m\u001b[0m\u001b[0m\n",
      "\u001b[0;32m~/workspace/planetengine/systems/_dev0.py\u001b[0m in \u001b[0;36miterate\u001b[0;34m()\u001b[0m\n\u001b[1;32m    183\u001b[0m         \u001b[0;32mdef\u001b[0m \u001b[0miterate\u001b[0m\u001b[0;34m(\u001b[0m\u001b[0;34m)\u001b[0m\u001b[0;34m:\u001b[0m\u001b[0;34m\u001b[0m\u001b[0m\n\u001b[0;32m--> 184\u001b[0;31m             \u001b[0mdt\u001b[0m \u001b[0;34m=\u001b[0m \u001b[0m_integrate\u001b[0m\u001b[0;34m(\u001b[0m\u001b[0;34m)\u001b[0m\u001b[0;34m\u001b[0m\u001b[0m\n\u001b[0m\u001b[1;32m    185\u001b[0m             \u001b[0mtimeVarOfState\u001b[0m\u001b[0;34m.\u001b[0m\u001b[0mvalue\u001b[0m \u001b[0;34m+=\u001b[0m \u001b[0mdt\u001b[0m\u001b[0;34m\u001b[0m\u001b[0m\n",
      "\u001b[0;31mNameError\u001b[0m: name '_integrate' is not defined",
      "\nDuring handling of the above exception, another exception occurred:\n",
      "\u001b[0;31mException\u001b[0m                                 Traceback (most recent call last)",
      "\u001b[0;32m<ipython-input-6-ad57bd5ec534>\u001b[0m in \u001b[0;36m<module>\u001b[0;34m\u001b[0m\n\u001b[0;32m----> 1\u001b[0;31m \u001b[0mmodel\u001b[0m\u001b[0;34m.\u001b[0m\u001b[0mgo\u001b[0m\u001b[0;34m(\u001b[0m\u001b[0;36m10\u001b[0m\u001b[0;34m)\u001b[0m\u001b[0;34m\u001b[0m\u001b[0m\n\u001b[0m",
      "\u001b[0;32m~/workspace/planetengine/model.py\u001b[0m in \u001b[0;36mgo\u001b[0;34m(self, steps)\u001b[0m\n\u001b[1;32m    119\u001b[0m     \u001b[0;32mdef\u001b[0m \u001b[0mgo\u001b[0m\u001b[0;34m(\u001b[0m\u001b[0mself\u001b[0m\u001b[0;34m,\u001b[0m \u001b[0msteps\u001b[0m\u001b[0;34m)\u001b[0m\u001b[0;34m:\u001b[0m\u001b[0;34m\u001b[0m\u001b[0m\n\u001b[1;32m    120\u001b[0m         \u001b[0mstopStep\u001b[0m \u001b[0;34m=\u001b[0m \u001b[0mself\u001b[0m\u001b[0;34m.\u001b[0m\u001b[0mstep\u001b[0m\u001b[0;34m(\u001b[0m\u001b[0;34m)\u001b[0m \u001b[0;34m+\u001b[0m \u001b[0msteps\u001b[0m\u001b[0;34m\u001b[0m\u001b[0m\n\u001b[0;32m--> 121\u001b[0;31m         \u001b[0mself\u001b[0m\u001b[0;34m.\u001b[0m\u001b[0mtraverse\u001b[0m\u001b[0;34m(\u001b[0m\u001b[0;32mlambda\u001b[0m\u001b[0;34m:\u001b[0m \u001b[0mself\u001b[0m\u001b[0;34m.\u001b[0m\u001b[0mstep\u001b[0m\u001b[0;34m(\u001b[0m\u001b[0;34m)\u001b[0m \u001b[0;34m>=\u001b[0m \u001b[0mstopStep\u001b[0m\u001b[0;34m)\u001b[0m\u001b[0;34m\u001b[0m\u001b[0m\n\u001b[0m\u001b[1;32m    122\u001b[0m \u001b[0;34m\u001b[0m\u001b[0m\n\u001b[1;32m    123\u001b[0m     def traverse(self,\n",
      "\u001b[0;32m~/workspace/planetengine/model.py\u001b[0m in \u001b[0;36mtraverse\u001b[0;34m(self, stopCondition, checkpointCondition, reportCondition, forge_on)\u001b[0m\n\u001b[1;32m    154\u001b[0m                     \u001b[0mself\u001b[0m\u001b[0;34m.\u001b[0m\u001b[0mload_checkpoint\u001b[0m\u001b[0;34m(\u001b[0m\u001b[0mself\u001b[0m\u001b[0;34m.\u001b[0m\u001b[0mmost_recent_checkpoint\u001b[0m\u001b[0;34m)\u001b[0m\u001b[0;34m\u001b[0m\u001b[0m\n\u001b[1;32m    155\u001b[0m                 \u001b[0;32melse\u001b[0m\u001b[0;34m:\u001b[0m\u001b[0;34m\u001b[0m\u001b[0m\n\u001b[0;32m--> 156\u001b[0;31m                     \u001b[0;32mraise\u001b[0m \u001b[0mException\u001b[0m\u001b[0;34m(\u001b[0m\u001b[0;34m\"Something went wrong.\"\u001b[0m\u001b[0;34m)\u001b[0m\u001b[0;34m\u001b[0m\u001b[0m\n\u001b[0m\u001b[1;32m    157\u001b[0m \u001b[0;34m\u001b[0m\u001b[0m\n\u001b[1;32m    158\u001b[0m         \u001b[0mself\u001b[0m\u001b[0;34m.\u001b[0m\u001b[0mstatus\u001b[0m \u001b[0;34m=\u001b[0m \u001b[0;34m'post-traverse'\u001b[0m\u001b[0;34m\u001b[0m\u001b[0m\n",
      "\u001b[0;31mException\u001b[0m: Something went wrong."
     ]
    }
   ],
   "source": [
    "model.go(10)"
   ]
  },
  {
   "cell_type": "code",
   "execution_count": null,
   "metadata": {},
   "outputs": [],
   "source": [
    "model.system.timeVarOfState.value"
   ]
  },
  {
   "cell_type": "code",
   "execution_count": null,
   "metadata": {},
   "outputs": [],
   "source": [
    "model.load_checkpoint(0)"
   ]
  },
  {
   "cell_type": "code",
   "execution_count": null,
   "metadata": {},
   "outputs": [],
   "source": [
    "model.system.timeVarOfState.value"
   ]
  },
  {
   "cell_type": "code",
   "execution_count": null,
   "metadata": {},
   "outputs": [],
   "source": [
    "aspect = 3.31\n",
    "model2 = planetengine.model.make_model(\n",
    "    planetengine.systems._dev0.build(f = 0.5, Ra = 1000., res = 16, aspect = aspect),\n",
    "    {'temperatureField': planetengine.initials.sinusoidal.build(freq = aspect),\n",
    "    'timeVarOfState': planetengine.initials.constant.build(value = 1.)}\n",
    "    )\n",
    "observer = planetengine.observers.isobench.build()\n",
    "observer.attach(model)"
   ]
  },
  {
   "cell_type": "code",
   "execution_count": null,
   "metadata": {},
   "outputs": [],
   "source": [
    "model2.system.timeVarOfState.value"
   ]
  },
  {
   "cell_type": "code",
   "execution_count": null,
   "metadata": {},
   "outputs": [],
   "source": [
    "model2.load_checkpoint(0)"
   ]
  },
  {
   "cell_type": "code",
   "execution_count": null,
   "metadata": {
    "scrolled": true
   },
   "outputs": [],
   "source": [
    "model2.go(10)"
   ]
  },
  {
   "cell_type": "code",
   "execution_count": null,
   "metadata": {},
   "outputs": [],
   "source": [
    "model2.system.timeVarOfState.value"
   ]
  },
  {
   "cell_type": "code",
   "execution_count": null,
   "metadata": {},
   "outputs": [],
   "source": [
    "model2.load_checkpoint(0)"
   ]
  },
  {
   "cell_type": "code",
   "execution_count": null,
   "metadata": {},
   "outputs": [],
   "source": [
    "model2.system.timeVarOfState.value"
   ]
  },
  {
   "cell_type": "code",
   "execution_count": null,
   "metadata": {},
   "outputs": [],
   "source": []
  }
 ],
 "metadata": {
  "kernelspec": {
   "display_name": "Python 3",
   "language": "python",
   "name": "python3"
  },
  "language_info": {
   "codemirror_mode": {
    "name": "ipython",
    "version": 3
   },
   "file_extension": ".py",
   "mimetype": "text/x-python",
   "name": "python",
   "nbconvert_exporter": "python",
   "pygments_lexer": "ipython3",
   "version": "3.5.3"
  }
 },
 "nbformat": 4,
 "nbformat_minor": 2
}
