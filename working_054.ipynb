{
 "cells": [
  {
   "cell_type": "code",
   "execution_count": 1,
   "metadata": {},
   "outputs": [],
   "source": [
    "# pip install asciimatics"
   ]
  },
  {
   "cell_type": "code",
   "execution_count": 2,
   "metadata": {},
   "outputs": [],
   "source": [
    "import sys\n",
    "workPath = '/home/jovyan/workspace'\n",
    "if not workPath in sys.path:\n",
    "    sys.path.append(workPath)"
   ]
  },
  {
   "cell_type": "code",
   "execution_count": 3,
   "metadata": {},
   "outputs": [],
   "source": [
    "import underworld as uw\n",
    "import numpy as np\n",
    "from planetengine import fieldops\n",
    "from planetengine import message\n",
    "class AsciiRaster:\n",
    "    def __init__(self, inVar, size = 10):\n",
    "        mesh = uw.mesh.FeMesh_Cartesian(\n",
    "            elementRes = (size - 1, size - 1)\n",
    "            )\n",
    "        self.var = mesh.add_variable(1)\n",
    "        self.var.scales = [[0., 9.]]\n",
    "        self.inVar = inVar\n",
    "        self.fullLocalMeshVar = fieldops.make_fullLocalMeshVar(inVar)\n",
    "        self.greyscale = \" .:-=+*#%@\"\n",
    "        self.outStr = ''\n",
    "        self.allStr = ''\n",
    "        self.size = size\n",
    "        self.update()\n",
    "    def update(self):\n",
    "        tolerance = fieldops.copyField(\n",
    "            self.inVar,\n",
    "            self.var,\n",
    "            _fullLocalMeshVar = self.fullLocalMeshVar\n",
    "            )\n",
    "        mangledArray = np.round(\n",
    "            np.flip(\n",
    "                self.var.data.reshape([self.size, self.size]), axis = 0\n",
    "                )\n",
    "            ).astype('int')\n",
    "        outStr = ''\n",
    "        for row in mangledArray:\n",
    "            for val in row:\n",
    "                newChar = self.greyscale[val]\n",
    "                outStr += newChar\n",
    "            outStr += '\\n'\n",
    "        self.outStr = outStr\n",
    "        self.allStr += outStr\n",
    "    def reset(self):\n",
    "        self.allStr = ''\n",
    "    def show(self):\n",
    "        self.update()\n",
    "        message(self.outStr)\n",
    "    def allshow(self):\n",
    "        message(self.allStr)\n",
    "    def prettyshow(self):\n",
    "        self.update()\n",
    "        print(prettify(self.outStr))\n",
    "    def allprettyshow(self):\n",
    "        message(prettify(self.allStr))\n",
    "    def __call__(self):\n",
    "        self.update()\n",
    "        return self.outStr\n",
    "def prettify(string):\n",
    "    prettyStr = ''\n",
    "    for character in string:\n",
    "        if character == '\\n':\n",
    "            prettyStr += '\\n'\n",
    "        else:\n",
    "            prettyStr += character * 2\n",
    "    return prettyStr"
   ]
  },
  {
   "cell_type": "code",
   "execution_count": 4,
   "metadata": {},
   "outputs": [
    {
     "name": "stdout",
     "output_type": "stream",
     "text": [
      "Fitted 1 variables to the figure.\n"
     ]
    }
   ],
   "source": [
    "import planetengine\n",
    "outputPath = planetengine.paths.make_testdir()\n",
    "system = planetengine.tests.testsystems.get_system()"
   ]
  },
  {
   "cell_type": "code",
   "execution_count": 5,
   "metadata": {},
   "outputs": [],
   "source": [
    "asciimaker = AsciiRaster(system.temperatureField, size = 32)"
   ]
  },
  {
   "cell_type": "code",
   "execution_count": 6,
   "metadata": {
    "scrolled": false
   },
   "outputs": [
    {
     "name": "stdout",
     "output_type": "stream",
     "text": [
      "                                                                \n",
      "                                                                \n",
      "....................................                            \n",
      "..............................................                  \n",
      "::::::::::::::::::::::..................................        \n",
      "::::::::::::::::::::::::::::::..................................\n",
      "----------------::::::::::::::::::::............................\n",
      "------------------------::::::::::::::::::......................\n",
      "==========--------------------::::::::::::::::..................\n",
      "==================----------------::::::::::::::::..............\n",
      "========================--------------::::::::::::::::::........\n",
      "++++++++++++++==============------------::::::::::::::::::::::::\n",
      "++++++++++++++++++++============------------::::::::::::::::::::\n",
      "****++++++++++++++++++++============------------::::::::::::::::\n",
      "**************++++++++++++++==========----------------::::::::::\n",
      "******************++++++++++++============----------------------\n",
      "**********************++++++++++++============------------------\n",
      "##########****************++++++++++==============--------------\n",
      "################************++++++++++++====================----\n",
      "####################************++++++++++++====================\n",
      "########################************++++++++++++++==============\n",
      "%%%%%%%%##################**************++++++++++++++++++++++++\n",
      "%%%%%%%%%%%%%%################****************++++++++++++++++++\n",
      "%%%%%%%%%%%%%%%%%%################********************++++++++++\n",
      "%%%%%%%%%%%%%%%%%%%%%%##################************************\n",
      "%%%%%%%%%%%%%%%%%%%%%%%%%%%%####################****************\n",
      "%%%%%%%%%%%%%%%%%%%%%%%%%%%%%%%%%%##############################\n",
      "@@@@@@@@%%%%%%%%%%%%%%%%%%%%%%%%%%%%%%%%%%######################\n",
      "@@@@@@@@@@@@@@@@@@%%%%%%%%%%%%%%%%%%%%%%%%%%%%%%%%%%%%%%%%%%%%%%\n",
      "@@@@@@@@@@@@@@@@@@@@@@@@@@@@%%%%%%%%%%%%%%%%%%%%%%%%%%%%%%%%%%%%\n",
      "@@@@@@@@@@@@@@@@@@@@@@@@@@@@@@@@@@@@@@@@@@@@@@@@@@@@@@@@@@@@@@@@\n",
      "@@@@@@@@@@@@@@@@@@@@@@@@@@@@@@@@@@@@@@@@@@@@@@@@@@@@@@@@@@@@@@@@\n",
      "\n"
     ]
    }
   ],
   "source": [
    "asciimaker.prettyshow()"
   ]
  },
  {
   "cell_type": "code",
   "execution_count": 7,
   "metadata": {},
   "outputs": [
    {
     "name": "stdout",
     "output_type": "stream",
     "text": [
      "0.0010538101196289062 MiB\n"
     ]
    }
   ],
   "source": [
    "import sys\n",
    "print(sys.getsizeof(asciimaker.outStr) / 1024 / 1024, 'MiB')"
   ]
  },
  {
   "cell_type": "code",
   "execution_count": 8,
   "metadata": {},
   "outputs": [
    {
     "data": {
      "text/plain": [
       "30.612945556640625"
      ]
     },
     "execution_count": 8,
     "metadata": {},
     "output_type": "execute_result"
    }
   ],
   "source": [
    "0.00030612945556640625 * 100000"
   ]
  },
  {
   "cell_type": "code",
   "execution_count": 9,
   "metadata": {
    "scrolled": false
   },
   "outputs": [
    {
     "ename": "SyntaxError",
     "evalue": "invalid syntax (<ipython-input-9-be9fb311569a>, line 1)",
     "output_type": "error",
     "traceback": [
      "\u001b[0;36m  File \u001b[0;32m\"<ipython-input-9-be9fb311569a>\"\u001b[0;36m, line \u001b[0;32m1\u001b[0m\n\u001b[0;31m    for i in range(100:\u001b[0m\n\u001b[0m                      ^\u001b[0m\n\u001b[0;31mSyntaxError\u001b[0m\u001b[0;31m:\u001b[0m invalid syntax\n"
     ]
    }
   ],
   "source": [
    "for i in range(100:\n",
    "    system.go(10)\n",
    "    asciimaker.update()\n",
    "asciimaker.prettyshow()"
   ]
  },
  {
   "cell_type": "code",
   "execution_count": null,
   "metadata": {
    "scrolled": false
   },
   "outputs": [],
   "source": [
    "print(prettify(asciimaker.allStr))"
   ]
  },
  {
   "cell_type": "code",
   "execution_count": null,
   "metadata": {},
   "outputs": [],
   "source": [
    "# from random import randint\n",
    "# from asciimatics.screen import Screen\n",
    "\n",
    "# def demo(screen):\n",
    "#     while True:\n",
    "#         screen.print_at('Hello world!',\n",
    "#                         randint(0, screen.width), randint(0, screen.height),\n",
    "#                         colour=randint(0, screen.colours - 1),\n",
    "#                         bg=randint(0, screen.colours - 1))\n",
    "#         ev = screen.get_key()\n",
    "#         if ev in (ord('Q'), ord('q')):\n",
    "#             return\n",
    "#         screen.refresh()\n",
    "\n",
    "# Screen.wrapper(demo)"
   ]
  }
 ],
 "metadata": {
  "kernelspec": {
   "display_name": "Python 3",
   "language": "python",
   "name": "python3"
  },
  "language_info": {
   "codemirror_mode": {
    "name": "ipython",
    "version": 3
   },
   "file_extension": ".py",
   "mimetype": "text/x-python",
   "name": "python",
   "nbconvert_exporter": "python",
   "pygments_lexer": "ipython3",
   "version": "3.5.3"
  }
 },
 "nbformat": 4,
 "nbformat_minor": 2
}
