{
 "cells": [
  {
   "cell_type": "code",
   "execution_count": 1,
   "metadata": {},
   "outputs": [],
   "source": [
    "import sys\n",
    "import os\n",
    "workPath = os.path.abspath('..')\n",
    "if not workPath in sys.path:\n",
    "    sys.path.append(workPath)"
   ]
  },
  {
   "cell_type": "code",
   "execution_count": 2,
   "metadata": {},
   "outputs": [],
   "source": [
    "import planetengine\n",
    "import everest\n",
    "Fetch = everest.window.Fetch\n",
    "Reader = everest.window.Reader\n",
    "Scope = everest.window.Scope"
   ]
  },
  {
   "cell_type": "code",
   "execution_count": 3,
   "metadata": {},
   "outputs": [],
   "source": [
    "outputPath = '../out'\n",
    "frameName = 'dev'"
   ]
  },
  {
   "cell_type": "code",
   "execution_count": 4,
   "metadata": {},
   "outputs": [],
   "source": [
    "# for f in [i / 10. for i in range(5, 10)]:\n",
    "#     system = planetengine.systems.isovisc.build(res = 16, Ra = 1e4, f = f)\n",
    "#     observer = planetengine.observers.standard.build(system)\n",
    "#     system.anchor(frameName, outputPath)\n",
    "#     observer.coanchor(system)\n",
    "#     for i in range(3):\n",
    "#         for i in range(3):\n",
    "#             system.iterate(3)\n",
    "#             system.store()\n",
    "#             observer.store()\n",
    "#         system.save()\n",
    "#         observer.save()"
   ]
  },
  {
   "cell_type": "code",
   "execution_count": 5,
   "metadata": {},
   "outputs": [],
   "source": [
    "myreader = everest.window.Reader(everest.frame.get_framepath(frameName, outputPath))"
   ]
  },
  {
   "cell_type": "code",
   "execution_count": 6,
   "metadata": {},
   "outputs": [],
   "source": [
    "myscope = myreader[Fetch('inputs/Ra')]"
   ]
  },
  {
   "cell_type": "code",
   "execution_count": 7,
   "metadata": {},
   "outputs": [
    {
     "data": {
      "text/plain": [
       "Scope([('swiaphoedro-umuinupru', '...'), ('yeigleigo-ibloasnietha', '...'), ('oyuukreikli-akwoefluexi', '...'), ('eshaiyooca-apleoputu', '...'), ('eploiyeize-idreikwaespa', '...')])"
      ]
     },
     "execution_count": 7,
     "metadata": {},
     "output_type": "execute_result"
    }
   ],
   "source": [
    "myscope"
   ]
  },
  {
   "cell_type": "code",
   "execution_count": null,
   "metadata": {},
   "outputs": [],
   "source": []
  }
 ],
 "metadata": {
  "kernelspec": {
   "display_name": "Python 3",
   "language": "python",
   "name": "python3"
  },
  "language_info": {
   "codemirror_mode": {
    "name": "ipython",
    "version": 3
   },
   "file_extension": ".py",
   "mimetype": "text/x-python",
   "name": "python",
   "nbconvert_exporter": "python",
   "pygments_lexer": "ipython3",
   "version": "3.5.3"
  }
 },
 "nbformat": 4,
 "nbformat_minor": 2
}
