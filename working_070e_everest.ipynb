{
 "cells": [
  {
   "cell_type": "code",
   "execution_count": 1,
   "metadata": {},
   "outputs": [],
   "source": [
    "import sys\n",
    "workPath = '/home/jovyan/workspace'\n",
    "if not workPath in sys.path:\n",
    "    sys.path.append(workPath)"
   ]
  },
  {
   "cell_type": "code",
   "execution_count": 2,
   "metadata": {},
   "outputs": [],
   "source": [
    "import h5py\n",
    "import os\n",
    "import numpy as np\n",
    "\n",
    "import everest\n",
    "import planetengine"
   ]
  },
  {
   "cell_type": "code",
   "execution_count": 3,
   "metadata": {},
   "outputs": [],
   "source": [
    "IC = everest.examples.sinusoidal.build()\n",
    "system = everest.examples.isovisc.build(\n",
    "    Ra = 1e5,\n",
    "    res = 4,\n",
    "    temperatureFieldIC = IC\n",
    "    )"
   ]
  },
  {
   "cell_type": "code",
   "execution_count": 5,
   "metadata": {},
   "outputs": [
    {
     "data": {
      "text/plain": [
       "['_Stg_Class_Delete',\n",
       " '_Stg_Class_Unlock',\n",
       " '__abstractmethods__',\n",
       " '__add__',\n",
       " '__and__',\n",
       " '__class__',\n",
       " '__del__',\n",
       " '__delattr__',\n",
       " '__dict__',\n",
       " '__dir__',\n",
       " '__doc__',\n",
       " '__eq__',\n",
       " '__format__',\n",
       " '__ge__',\n",
       " '__getattribute__',\n",
       " '__getitem__',\n",
       " '__gt__',\n",
       " '__hash__',\n",
       " '__init__',\n",
       " '__le__',\n",
       " '__lt__',\n",
       " '__module__',\n",
       " '__mul__',\n",
       " '__ne__',\n",
       " '__neg__',\n",
       " '__new__',\n",
       " '__or__',\n",
       " '__pow__',\n",
       " '__radd__',\n",
       " '__reduce__',\n",
       " '__reduce_ex__',\n",
       " '__repr__',\n",
       " '__rmul__',\n",
       " '__rsub__',\n",
       " '__rtruediv__',\n",
       " '__setattr__',\n",
       " '__signature__',\n",
       " '__sizeof__',\n",
       " '__str__',\n",
       " '__sub__',\n",
       " '__subclasshook__',\n",
       " '__truediv__',\n",
       " '__weakref__',\n",
       " '__xor__',\n",
       " '_abc_cache',\n",
       " '_abc_negative_cache',\n",
       " '_abc_negative_cache_version',\n",
       " '_abc_registry',\n",
       " '_add_to_stg_dict',\n",
       " '_cmeshvariable',\n",
       " '_cself',\n",
       " '_dataType',\n",
       " '_delSelf',\n",
       " '_doflayout',\n",
       " '_evaluate_data_convert_to_ndarray',\n",
       " '_fn_gradient',\n",
       " '_fncself',\n",
       " '_fncselfpriv',\n",
       " '_id',\n",
       " '_mesh',\n",
       " '_meshvariable',\n",
       " '_nodeDofCount',\n",
       " '_objectsDict',\n",
       " '_objpointerDict',\n",
       " '_selfObjectName',\n",
       " '_setup',\n",
       " '_setupDone',\n",
       " '_supportedDataTypes',\n",
       " '_underlyingDataItems',\n",
       " 'bounds',\n",
       " 'convert',\n",
       " 'copy',\n",
       " 'data',\n",
       " 'dataType',\n",
       " 'evaluate',\n",
       " 'evaluate_global',\n",
       " 'fn_gradient',\n",
       " 'integrate',\n",
       " 'load',\n",
       " 'mesh',\n",
       " 'nodeDofCount',\n",
       " 'pystgclass__cmeshvariable',\n",
       " 'pystgclass__doflayout',\n",
       " 'pystgclass__meshvariable',\n",
       " 'save',\n",
       " 'scales',\n",
       " 'syncronise',\n",
       " 'xdmf']"
      ]
     },
     "execution_count": 5,
     "metadata": {},
     "output_type": "execute_result"
    }
   ],
   "source": [
    "dir(system.temperatureField)"
   ]
  },
  {
   "cell_type": "code",
   "execution_count": 6,
   "metadata": {},
   "outputs": [
    {
     "data": {
      "text/plain": [
       "['_SPR',\n",
       " '_Stg_Class_Delete',\n",
       " '_Stg_Class_Unlock',\n",
       " '__abstractmethods__',\n",
       " '__class__',\n",
       " '__del__',\n",
       " '__delattr__',\n",
       " '__dict__',\n",
       " '__dir__',\n",
       " '__doc__',\n",
       " '__eq__',\n",
       " '__format__',\n",
       " '__ge__',\n",
       " '__getattribute__',\n",
       " '__gt__',\n",
       " '__hash__',\n",
       " '__init__',\n",
       " '__le__',\n",
       " '__lt__',\n",
       " '__module__',\n",
       " '__ne__',\n",
       " '__new__',\n",
       " '__reduce__',\n",
       " '__reduce_ex__',\n",
       " '__repr__',\n",
       " '__setattr__',\n",
       " '__signature__',\n",
       " '__sizeof__',\n",
       " '__str__',\n",
       " '__subclasshook__',\n",
       " '__weakref__',\n",
       " '_abc_cache',\n",
       " '_abc_negative_cache',\n",
       " '_abc_negative_cache_version',\n",
       " '_abc_registry',\n",
       " '_add_to_stg_dict',\n",
       " '_angularExtent',\n",
       " '_arr',\n",
       " '_c0',\n",
       " '_c1',\n",
       " '_centroid',\n",
       " '_cself',\n",
       " '_delSelf',\n",
       " '_dim',\n",
       " '_e1',\n",
       " '_e2',\n",
       " '_elementRes',\n",
       " '_elementType',\n",
       " '_elementTypes',\n",
       " '_fn_r_theta',\n",
       " '_fn_unitvec_radial',\n",
       " '_fn_unitvec_tangent',\n",
       " '_gen',\n",
       " '_generator',\n",
       " '_get_iterator',\n",
       " '_id',\n",
       " '_maxCoord',\n",
       " '_mesh',\n",
       " '_meshGenerator',\n",
       " '_minCoord',\n",
       " '_minDx',\n",
       " '_objectsDict',\n",
       " '_objpointerDict',\n",
       " '_partitioned',\n",
       " '_periodic',\n",
       " '_post_deform_functions',\n",
       " '_pre_deform_functions',\n",
       " '_radialLengths',\n",
       " '_reset',\n",
       " '_secondaryMesh',\n",
       " '_selfObjectName',\n",
       " '_setup',\n",
       " '_setupDone',\n",
       " '_shadowDepth',\n",
       " '_specialSets',\n",
       " '_supportedElementTypes',\n",
       " '_typicalDx',\n",
       " 'add_post_deform_function',\n",
       " 'add_pre_deform_function',\n",
       " 'add_variable',\n",
       " 'angularExtent',\n",
       " 'area',\n",
       " 'bndMeshVariable',\n",
       " 'bnd_vec_normal',\n",
       " 'bnd_vec_tangent',\n",
       " 'data',\n",
       " 'data_elementNodes',\n",
       " 'data_elgId',\n",
       " 'data_nodegId',\n",
       " 'deform_mesh',\n",
       " 'dim',\n",
       " 'elementRes',\n",
       " 'elementType',\n",
       " 'elementsDomain',\n",
       " 'elementsGlobal',\n",
       " 'elementsLocal',\n",
       " 'fn_radial',\n",
       " 'full_area',\n",
       " 'generator',\n",
       " 'gradient_recovery',\n",
       " 'h1_coord_Fn',\n",
       " 'h2_coord_Fn',\n",
       " 'has_velocity_null_space',\n",
       " 'integrate',\n",
       " 'integrate_surface',\n",
       " 'load',\n",
       " 'maskFn',\n",
       " 'maxCoord',\n",
       " 'mean_value',\n",
       " 'meshUtils',\n",
       " 'minCoord',\n",
       " 'natural_coords',\n",
       " 'nodesDomain',\n",
       " 'nodesGlobal',\n",
       " 'nodesLocal',\n",
       " 'periodic',\n",
       " 'pystgclass__gen',\n",
       " 'pystgclass__mesh',\n",
       " 'radialData',\n",
       " 'radialLengths',\n",
       " 'radiusFn',\n",
       " 'remove_velocity_null_space',\n",
       " 'reset',\n",
       " 'save',\n",
       " 'sbr_fn',\n",
       " 'specialSets',\n",
       " 'subMesh',\n",
       " 'thetaFn',\n",
       " 'unit_heightFn',\n",
       " 'unitvec_h1_Fn',\n",
       " 'unitvec_r_Fn',\n",
       " 'unitvec_theta_Fn',\n",
       " 'unitvec_v_Fn',\n",
       " 'v_coord_Fn',\n",
       " 'vertical_gradient_value']"
      ]
     },
     "execution_count": 6,
     "metadata": {},
     "output_type": "execute_result"
    }
   ],
   "source": [
    "dir(system.temperatureField.mesh)"
   ]
  },
  {
   "cell_type": "code",
   "execution_count": 13,
   "metadata": {
    "scrolled": true
   },
   "outputs": [
    {
     "data": {
      "text/plain": [
       "array([[ 0],\n",
       "       [ 1],\n",
       "       [ 2],\n",
       "       [ 3],\n",
       "       [ 4],\n",
       "       [ 5],\n",
       "       [ 6],\n",
       "       [ 7],\n",
       "       [ 8],\n",
       "       [ 9],\n",
       "       [10],\n",
       "       [11],\n",
       "       [12],\n",
       "       [13],\n",
       "       [14],\n",
       "       [15],\n",
       "       [16],\n",
       "       [17],\n",
       "       [18],\n",
       "       [19],\n",
       "       [20],\n",
       "       [21],\n",
       "       [22],\n",
       "       [23],\n",
       "       [24]], dtype=int32)"
      ]
     },
     "execution_count": 13,
     "metadata": {},
     "output_type": "execute_result"
    }
   ],
   "source": [
    "system.temperatureField.mesh.data_nodegId"
   ]
  },
  {
   "cell_type": "code",
   "execution_count": 14,
   "metadata": {},
   "outputs": [
    {
     "ename": "AttributeError",
     "evalue": "'MeshVariable' object has no attribute 'data_elementNodes'",
     "output_type": "error",
     "traceback": [
      "\u001b[0;31m---------------------------------------------------------------------------\u001b[0m",
      "\u001b[0;31mAttributeError\u001b[0m                            Traceback (most recent call last)",
      "\u001b[0;32m<ipython-input-14-bce287c11df7>\u001b[0m in \u001b[0;36m<module>\u001b[0;34m\u001b[0m\n\u001b[0;32m----> 1\u001b[0;31m \u001b[0msystem\u001b[0m\u001b[0;34m.\u001b[0m\u001b[0mtemperatureField\u001b[0m\u001b[0;34m.\u001b[0m\u001b[0mdata_elementNodes\u001b[0m\u001b[0;34m\u001b[0m\u001b[0m\n\u001b[0m",
      "\u001b[0;31mAttributeError\u001b[0m: 'MeshVariable' object has no attribute 'data_elementNodes'"
     ]
    }
   ],
   "source": [
    "system.temperatureField.data_elementNodes"
   ]
  },
  {
   "cell_type": "code",
   "execution_count": 16,
   "metadata": {},
   "outputs": [
    {
     "data": {
      "text/plain": [
       "25"
      ]
     },
     "execution_count": 16,
     "metadata": {},
     "output_type": "execute_result"
    }
   ],
   "source": [
    "system.temperatureField.mesh.nodesLocal"
   ]
  },
  {
   "cell_type": "code",
   "execution_count": 17,
   "metadata": {},
   "outputs": [
    {
     "data": {
      "text/plain": [
       "25"
      ]
     },
     "execution_count": 17,
     "metadata": {},
     "output_type": "execute_result"
    }
   ],
   "source": [
    "system.temperatureField.mesh.nodesGlobal"
   ]
  },
  {
   "cell_type": "code",
   "execution_count": 18,
   "metadata": {},
   "outputs": [
    {
     "name": "stdout",
     "output_type": "stream",
     "text": [
      "0\n",
      "1\n",
      "2\n"
     ]
    }
   ],
   "source": [
    "for i in range(3):\n",
    "    print(i)"
   ]
  },
  {
   "cell_type": "code",
   "execution_count": 20,
   "metadata": {},
   "outputs": [
    {
     "name": "stdout",
     "output_type": "stream",
     "text": [
      "('hello', array([ 1.]))\n",
      "('hello', array([ 0.60857864]))\n",
      "('hello', array([ 0.3]))\n",
      "('hello', array([ 0.10857864]))\n",
      "('hello', array([ 0.]))\n",
      "('hello', array([ 1.]))\n",
      "('hello', array([ 0.65]))\n",
      "('hello', array([ 0.35857864]))\n",
      "('hello', array([ 0.15]))\n",
      "('hello', array([ 0.]))\n",
      "('hello', array([ 1.]))\n",
      "('hello', array([ 0.75]))\n",
      "('hello', array([ 0.5]))\n",
      "('hello', array([ 0.25]))\n",
      "('hello', array([ 0.]))\n",
      "('hello', array([ 1.]))\n",
      "('hello', array([ 0.85]))\n",
      "('hello', array([ 0.64142136]))\n",
      "('hello', array([ 0.35]))\n",
      "('hello', array([ 0.]))\n",
      "('hello', array([ 1.]))\n",
      "('hello', array([ 0.89142136]))\n",
      "('hello', array([ 0.7]))\n",
      "('hello', array([ 0.39142136]))\n",
      "('hello', array([ 0.]))\n"
     ]
    }
   ],
   "source": [
    "for item in system.temperatureField.data:\n",
    "    print(('hello', item))"
   ]
  },
  {
   "cell_type": "code",
   "execution_count": 22,
   "metadata": {},
   "outputs": [
    {
     "data": {
      "text/plain": [
       "array([[ 0],\n",
       "       [ 1],\n",
       "       [ 2],\n",
       "       [ 3],\n",
       "       [ 4],\n",
       "       [ 5],\n",
       "       [ 6],\n",
       "       [ 7],\n",
       "       [ 8],\n",
       "       [ 9],\n",
       "       [10],\n",
       "       [11],\n",
       "       [12],\n",
       "       [13],\n",
       "       [14],\n",
       "       [15],\n",
       "       [16],\n",
       "       [17],\n",
       "       [18],\n",
       "       [19],\n",
       "       [20],\n",
       "       [21],\n",
       "       [22],\n",
       "       [23],\n",
       "       [24]], dtype=int32)"
      ]
     },
     "execution_count": 22,
     "metadata": {},
     "output_type": "execute_result"
    }
   ],
   "source": [
    "system.temperatureField.mesh.data_nodegId"
   ]
  },
  {
   "cell_type": "code",
   "execution_count": 24,
   "metadata": {},
   "outputs": [
    {
     "data": {
      "text/plain": [
       "(25, 1)"
      ]
     },
     "execution_count": 24,
     "metadata": {},
     "output_type": "execute_result"
    }
   ],
   "source": [
    "system.temperatureField.data.shape"
   ]
  },
  {
   "cell_type": "code",
   "execution_count": null,
   "metadata": {},
   "outputs": [],
   "source": []
  }
 ],
 "metadata": {
  "kernelspec": {
   "display_name": "Python 3",
   "language": "python",
   "name": "python3"
  },
  "language_info": {
   "codemirror_mode": {
    "name": "ipython",
    "version": 3
   },
   "file_extension": ".py",
   "mimetype": "text/x-python",
   "name": "python",
   "nbconvert_exporter": "python",
   "pygments_lexer": "ipython3",
   "version": "3.5.3"
  }
 },
 "nbformat": 4,
 "nbformat_minor": 2
}
