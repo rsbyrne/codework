{
 "cells": [
  {
   "cell_type": "code",
   "execution_count": 1,
   "metadata": {},
   "outputs": [],
   "source": [
    "import warnings"
   ]
  },
  {
   "cell_type": "code",
   "execution_count": 3,
   "metadata": {},
   "outputs": [
    {
     "name": "stderr",
     "output_type": "stream",
     "text": [
      "/usr/local/lib/python3.5/dist-packages/ipykernel_launcher.py:1: UserWarning: hello\n",
      "  \"\"\"Entry point for launching an IPython kernel.\n"
     ]
    }
   ],
   "source": [
    "warnings.warn('hello')"
   ]
  },
  {
   "cell_type": "code",
   "execution_count": 6,
   "metadata": {},
   "outputs": [],
   "source": [
    "def myfn():\n",
    "    for thing in range(10):\n",
    "        for thing in range(2):\n",
    "            try:\n",
    "                raise Exception\n",
    "            except:\n",
    "                print(\"Foo\")\n",
    "            finally:\n",
    "                print(\"bar\")"
   ]
  },
  {
   "cell_type": "code",
   "execution_count": 7,
   "metadata": {},
   "outputs": [
    {
     "name": "stdout",
     "output_type": "stream",
     "text": [
      "Foo\n",
      "bar\n",
      "Foo\n",
      "bar\n",
      "Foo\n",
      "bar\n",
      "Foo\n",
      "bar\n",
      "Foo\n",
      "bar\n",
      "Foo\n",
      "bar\n",
      "Foo\n",
      "bar\n",
      "Foo\n",
      "bar\n",
      "Foo\n",
      "bar\n",
      "Foo\n",
      "bar\n",
      "Foo\n",
      "bar\n",
      "Foo\n",
      "bar\n",
      "Foo\n",
      "bar\n",
      "Foo\n",
      "bar\n",
      "Foo\n",
      "bar\n",
      "Foo\n",
      "bar\n",
      "Foo\n",
      "bar\n",
      "Foo\n",
      "bar\n",
      "Foo\n",
      "bar\n",
      "Foo\n",
      "bar\n"
     ]
    }
   ],
   "source": [
    "myfn()"
   ]
  },
  {
   "cell_type": "code",
   "execution_count": null,
   "metadata": {},
   "outputs": [],
   "source": []
  }
 ],
 "metadata": {
  "kernelspec": {
   "display_name": "Python 3",
   "language": "python",
   "name": "python3"
  },
  "language_info": {
   "codemirror_mode": {
    "name": "ipython",
    "version": 3
   },
   "file_extension": ".py",
   "mimetype": "text/x-python",
   "name": "python",
   "nbconvert_exporter": "python",
   "pygments_lexer": "ipython3",
   "version": "3.5.3"
  }
 },
 "nbformat": 4,
 "nbformat_minor": 2
}
