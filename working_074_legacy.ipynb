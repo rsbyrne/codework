{
 "cells": [
  {
   "cell_type": "code",
   "execution_count": null,
   "metadata": {},
   "outputs": [],
   "source": [
    "# import sys\n",
    "# !{sys.executable} -m pip install pandas"
   ]
  },
  {
   "cell_type": "code",
   "execution_count": 1,
   "metadata": {},
   "outputs": [],
   "source": [
    "import sys\n",
    "import os\n",
    "workPath = os.path.abspath('..')\n",
    "if not workPath in sys.path:\n",
    "    sys.path.append(workPath)"
   ]
  },
  {
   "cell_type": "code",
   "execution_count": 2,
   "metadata": {},
   "outputs": [],
   "source": [
    "import os\n",
    "import shutil\n",
    "import tarfile\n",
    "import h5py\n",
    "import pandas as pd\n",
    "import json\n",
    "from everest import _specialnames\n",
    "\n",
    "# import os\n",
    "# inputPath = os.path.join(*['..', 'remote', 'transfer', 'VAULT', 'data', 'isobench', 'isobenchJune', 'res32'])\n",
    "# projName = 'isobench32'\n",
    "# targetFilename = 'zerodData.csv'\n",
    "# inputFilename = 'inputs.txt'\n",
    "\n",
    "def legacy(\n",
    "        inputPath,\n",
    "        projName,\n",
    "        targetFilename,\n",
    "        inputFilename\n",
    "        ):\n",
    "    outputPath = os.path.join(*['..', 'out', 'analysis', projName])\n",
    "    h5filename = os.path.join(outputPath, projName + '.h5')\n",
    "\n",
    "    def clean_df_colnames(df):\n",
    "        df.columns = df.columns.str.strip('#')\n",
    "        df.columns = df.columns.str.strip().str.replace(' ', '_').str.replace('(', '').str.replace(')', '')\n",
    "        df.rename(columns = {\n",
    "                'step': _specialnames.COUNTS_FLAG\n",
    "                },\n",
    "            inplace = True\n",
    "            )\n",
    "\n",
    "    pemods = [\n",
    "        os.path.splitext(os.path.splitext(filename)[0])[0] \\\n",
    "            for filename in os.listdir(inputPath) \\\n",
    "                if filename[:6] == 'pemod_'\n",
    "        ]\n",
    "    if os.path.exists(outputPath):\n",
    "        shutil.rmtree(outputPath)\n",
    "    os.makedirs(outputPath, exist_ok = True)\n",
    "    with h5py.File(h5filename, 'w') as myfile:\n",
    "        for pemod in pemods:\n",
    "            # create group\n",
    "            group = myfile.create_group(pemod)\n",
    "            # get files from archive\n",
    "            filename = os.path.join(inputPath, pemod + '.tar.gz')\n",
    "            with tarfile.open(filename) as file:\n",
    "                file.extract(targetFilename, outputPath)\n",
    "                file.extract(inputFilename, outputPath)\n",
    "            # read inputs and set as attrs\n",
    "            inputFilepath = os.path.join(outputPath, inputFilename)\n",
    "            with open(inputFilepath) as inputFile:\n",
    "                inputDict = json.load(inputFile)\n",
    "            if inputDict['params']['f'] == 'max':\n",
    "                inputDict['params']['f'] = 1.\n",
    "            for key, paramDict in inputDict.items():\n",
    "                for key, val in paramDict.items():\n",
    "                    try:\n",
    "                        group.attrs[key] = val\n",
    "                    except:\n",
    "                        group.attrs[key] = str(val)\n",
    "            os.remove(inputFilepath)\n",
    "            # read data and set as datasets\n",
    "            targetFilepath = os.path.join(outputPath, targetFilename)\n",
    "            df = pd.read_csv(targetFilepath)\n",
    "            clean_df_colnames(df)\n",
    "            for key in df.keys():\n",
    "                if key == _specialnames.COUNTS_FLAG:\n",
    "                    dtype = 'i8'\n",
    "                else:\n",
    "                    dtype = df[key].dtype\n",
    "                group.create_dataset(\n",
    "                    name = key,\n",
    "                    data = df[key],\n",
    "                    chunks = True,\n",
    "                    dtype = dtype\n",
    "                    )\n",
    "            os.remove(targetFilepath)"
   ]
  },
  {
   "cell_type": "code",
   "execution_count": 3,
   "metadata": {},
   "outputs": [],
   "source": [
    "# import os\n",
    "# inputPath = os.path.join(*['..', 'remote', 'transfer', 'VAULT', 'data', 'isobench', 'isobenchJune', 'res32'])\n",
    "# projName = 'isobench32'\n",
    "# targetFilename = 'zerodData.csv'\n",
    "# inputFilename = 'inputs.txt'"
   ]
  },
  {
   "cell_type": "code",
   "execution_count": 4,
   "metadata": {},
   "outputs": [],
   "source": [
    "import os\n",
    "inputPath = os.path.join(*['..', 'remote', 'transfer', 'VAULT', 'data', 'arrbench', 'res16'])\n",
    "projName = 'arrbench16'\n",
    "targetFilename = 'zerodData.csv'\n",
    "inputFilename = 'inputs.txt'"
   ]
  },
  {
   "cell_type": "code",
   "execution_count": 5,
   "metadata": {},
   "outputs": [
    {
     "ename": "KeyError",
     "evalue": "\"filename 'zerodData.csv' not found\"",
     "output_type": "error",
     "traceback": [
      "\u001b[0;31m---------------------------------------------------------------------------\u001b[0m",
      "\u001b[0;31mKeyError\u001b[0m                                  Traceback (most recent call last)",
      "\u001b[0;32m<ipython-input-5-84d26adefce8>\u001b[0m in \u001b[0;36m<module>\u001b[0;34m\u001b[0m\n\u001b[0;32m----> 1\u001b[0;31m \u001b[0mlegacy\u001b[0m\u001b[0;34m(\u001b[0m\u001b[0minputPath\u001b[0m\u001b[0;34m,\u001b[0m \u001b[0mprojName\u001b[0m\u001b[0;34m,\u001b[0m \u001b[0mtargetFilename\u001b[0m\u001b[0;34m,\u001b[0m \u001b[0minputFilename\u001b[0m\u001b[0;34m)\u001b[0m\u001b[0;34m\u001b[0m\u001b[0m\n\u001b[0m",
      "\u001b[0;32m<ipython-input-2-a2fd16abdba1>\u001b[0m in \u001b[0;36mlegacy\u001b[0;34m(inputPath, projName, targetFilename, inputFilename)\u001b[0m\n\u001b[1;32m     40\u001b[0m             \u001b[0mfilename\u001b[0m \u001b[0;34m=\u001b[0m \u001b[0mos\u001b[0m\u001b[0;34m.\u001b[0m\u001b[0mpath\u001b[0m\u001b[0;34m.\u001b[0m\u001b[0mjoin\u001b[0m\u001b[0;34m(\u001b[0m\u001b[0minputPath\u001b[0m\u001b[0;34m,\u001b[0m \u001b[0mpemod\u001b[0m \u001b[0;34m+\u001b[0m \u001b[0;34m'.tar.gz'\u001b[0m\u001b[0;34m)\u001b[0m\u001b[0;34m\u001b[0m\u001b[0m\n\u001b[1;32m     41\u001b[0m             \u001b[0;32mwith\u001b[0m \u001b[0mtarfile\u001b[0m\u001b[0;34m.\u001b[0m\u001b[0mopen\u001b[0m\u001b[0;34m(\u001b[0m\u001b[0mfilename\u001b[0m\u001b[0;34m)\u001b[0m \u001b[0;32mas\u001b[0m \u001b[0mfile\u001b[0m\u001b[0;34m:\u001b[0m\u001b[0;34m\u001b[0m\u001b[0m\n\u001b[0;32m---> 42\u001b[0;31m                 \u001b[0mfile\u001b[0m\u001b[0;34m.\u001b[0m\u001b[0mextract\u001b[0m\u001b[0;34m(\u001b[0m\u001b[0mtargetFilename\u001b[0m\u001b[0;34m,\u001b[0m \u001b[0moutputPath\u001b[0m\u001b[0;34m)\u001b[0m\u001b[0;34m\u001b[0m\u001b[0m\n\u001b[0m\u001b[1;32m     43\u001b[0m                 \u001b[0mfile\u001b[0m\u001b[0;34m.\u001b[0m\u001b[0mextract\u001b[0m\u001b[0;34m(\u001b[0m\u001b[0minputFilename\u001b[0m\u001b[0;34m,\u001b[0m \u001b[0moutputPath\u001b[0m\u001b[0;34m)\u001b[0m\u001b[0;34m\u001b[0m\u001b[0m\n\u001b[1;32m     44\u001b[0m             \u001b[0;31m# read inputs and set as attrs\u001b[0m\u001b[0;34m\u001b[0m\u001b[0;34m\u001b[0m\u001b[0m\n",
      "\u001b[0;32m/usr/lib/python3.5/tarfile.py\u001b[0m in \u001b[0;36mextract\u001b[0;34m(self, member, path, set_attrs, numeric_owner)\u001b[0m\n\u001b[1;32m   2027\u001b[0m \u001b[0;34m\u001b[0m\u001b[0m\n\u001b[1;32m   2028\u001b[0m         \u001b[0;32mif\u001b[0m \u001b[0misinstance\u001b[0m\u001b[0;34m(\u001b[0m\u001b[0mmember\u001b[0m\u001b[0;34m,\u001b[0m \u001b[0mstr\u001b[0m\u001b[0;34m)\u001b[0m\u001b[0;34m:\u001b[0m\u001b[0;34m\u001b[0m\u001b[0m\n\u001b[0;32m-> 2029\u001b[0;31m             \u001b[0mtarinfo\u001b[0m \u001b[0;34m=\u001b[0m \u001b[0mself\u001b[0m\u001b[0;34m.\u001b[0m\u001b[0mgetmember\u001b[0m\u001b[0;34m(\u001b[0m\u001b[0mmember\u001b[0m\u001b[0;34m)\u001b[0m\u001b[0;34m\u001b[0m\u001b[0m\n\u001b[0m\u001b[1;32m   2030\u001b[0m         \u001b[0;32melse\u001b[0m\u001b[0;34m:\u001b[0m\u001b[0;34m\u001b[0m\u001b[0m\n\u001b[1;32m   2031\u001b[0m             \u001b[0mtarinfo\u001b[0m \u001b[0;34m=\u001b[0m \u001b[0mmember\u001b[0m\u001b[0;34m\u001b[0m\u001b[0m\n",
      "\u001b[0;32m/usr/lib/python3.5/tarfile.py\u001b[0m in \u001b[0;36mgetmember\u001b[0;34m(self, name)\u001b[0m\n\u001b[1;32m   1738\u001b[0m         \u001b[0mtarinfo\u001b[0m \u001b[0;34m=\u001b[0m \u001b[0mself\u001b[0m\u001b[0;34m.\u001b[0m\u001b[0m_getmember\u001b[0m\u001b[0;34m(\u001b[0m\u001b[0mname\u001b[0m\u001b[0;34m)\u001b[0m\u001b[0;34m\u001b[0m\u001b[0m\n\u001b[1;32m   1739\u001b[0m         \u001b[0;32mif\u001b[0m \u001b[0mtarinfo\u001b[0m \u001b[0;32mis\u001b[0m \u001b[0;32mNone\u001b[0m\u001b[0;34m:\u001b[0m\u001b[0;34m\u001b[0m\u001b[0m\n\u001b[0;32m-> 1740\u001b[0;31m             \u001b[0;32mraise\u001b[0m \u001b[0mKeyError\u001b[0m\u001b[0;34m(\u001b[0m\u001b[0;34m\"filename %r not found\"\u001b[0m \u001b[0;34m%\u001b[0m \u001b[0mname\u001b[0m\u001b[0;34m)\u001b[0m\u001b[0;34m\u001b[0m\u001b[0m\n\u001b[0m\u001b[1;32m   1741\u001b[0m         \u001b[0;32mreturn\u001b[0m \u001b[0mtarinfo\u001b[0m\u001b[0;34m\u001b[0m\u001b[0m\n\u001b[1;32m   1742\u001b[0m \u001b[0;34m\u001b[0m\u001b[0m\n",
      "\u001b[0;31mKeyError\u001b[0m: \"filename 'zerodData.csv' not found\""
     ]
    }
   ],
   "source": [
    "legacy(inputPath, projName, targetFilename, inputFilename)"
   ]
  },
  {
   "cell_type": "code",
   "execution_count": null,
   "metadata": {},
   "outputs": [],
   "source": [
    "myreader = Reader(h5filename)"
   ]
  },
  {
   "cell_type": "code",
   "execution_count": null,
   "metadata": {},
   "outputs": [],
   "source": [
    "myscope1 = myreader[\n",
    "    Fetch('Ra') > 1e6,\n",
    "    Fetch('Ra') < 4e6,\n",
    "    Fetch('modeltime') > 0.01\n",
    "    ]"
   ]
  },
  {
   "cell_type": "code",
   "execution_count": null,
   "metadata": {},
   "outputs": [],
   "source": [
    "myscope3 = myscope1 * myscope2\n",
    "myscope3"
   ]
  },
  {
   "cell_type": "code",
   "execution_count": null,
   "metadata": {},
   "outputs": [],
   "source": [
    "# inFile = h5py.File(h5filename, 'r')\n",
    "# outFile = h5py.File(outFilename, 'w')\n",
    "# inFile.close()"
   ]
  },
  {
   "cell_type": "code",
   "execution_count": null,
   "metadata": {},
   "outputs": [],
   "source": [
    "# inputFrame = dataframe.read_hdf(h5filename, '/*')"
   ]
  },
  {
   "cell_type": "code",
   "execution_count": null,
   "metadata": {},
   "outputs": [],
   "source": [
    "# res = 32\n",
    "# maxtime = .3\n",
    "\n",
    "# rowName = 'Ra'\n",
    "# rows = sorted(list(set(inputFrame.Ra.loc[inputFrame.Ra <= 1e5])))\n",
    "# cols = ['Nu', 'VRMS', 'avTemp']\n",
    "\n",
    "# fig, axs = plt.subplots(len(rows), len(cols), sharex=True, figsize = (12, 12))\n",
    "\n",
    "# for row, val in enumerate(rows):\n",
    "#     indices = inputFrame.loc[inputFrame[rowName] == val].loc[inputFrame['res'] == res].index\n",
    "#     for index in indices:\n",
    "#         frame = outputFrame.loc[outputFrame['modeltime'] < maxtime].loc[index]\n",
    "#         for col, val in enumerate(cols):\n",
    "#             ignoreme = axs[row][col].plot(frame.modeltime, frame[val])\n",
    "\n",
    "# for index, val in enumerate(cols):\n",
    "#     axs[0][index].set_title(val)\n",
    "# for index, val in enumerate(rows):\n",
    "#     axs[index][0].set_ylabel(val)\n",
    "# axs[len(rows) - 1][int(len(cols) / 2)].set_xlabel('Dimensionless time')\n",
    "\n",
    "# legendtext = ['f = ' + str(round(val, 2)) for val in list(inputFrame.loc[indices].f)]\n",
    "# legend = plt.figlegend(\n",
    "#     legendtext,\n",
    "#     loc='right',\n",
    "#     shadow = True,\n",
    "# #     mode = 'expand',\n",
    "#     )\n",
    "# fig.subplots_adjust(hspace=0)\n",
    "# # fig.suptitle('Isoviscous suite: res = ' + str(res))\n",
    "# fig.show()\n",
    "# plt.savefig('isobenchFullchunk1.png', dpi=300)"
   ]
  }
 ],
 "metadata": {
  "kernelspec": {
   "display_name": "Python 3",
   "language": "python",
   "name": "python3"
  },
  "language_info": {
   "codemirror_mode": {
    "name": "ipython",
    "version": 3
   },
   "file_extension": ".py",
   "mimetype": "text/x-python",
   "name": "python",
   "nbconvert_exporter": "python",
   "pygments_lexer": "ipython3",
   "version": "3.5.3"
  }
 },
 "nbformat": 4,
 "nbformat_minor": 2
}
