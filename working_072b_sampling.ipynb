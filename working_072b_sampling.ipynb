{
 "cells": [
  {
   "cell_type": "code",
   "execution_count": 1,
   "metadata": {},
   "outputs": [],
   "source": [
    "import sys\n",
    "workPath = '/home/jovyan/workspace'\n",
    "if not workPath in sys.path:\n",
    "    sys.path.append(workPath)"
   ]
  },
  {
   "cell_type": "code",
   "execution_count": 2,
   "metadata": {},
   "outputs": [],
   "source": [
    "import numpy as np"
   ]
  },
  {
   "cell_type": "code",
   "execution_count": 3,
   "metadata": {},
   "outputs": [],
   "source": [
    "import planetengine\n",
    "mapping = planetengine.mapping\n",
    "utilities = planetengine.utilities"
   ]
  },
  {
   "cell_type": "code",
   "execution_count": 4,
   "metadata": {},
   "outputs": [],
   "source": [
    "system = planetengine.systems.isovisc.build()\n",
    "var = system.obsVars['temperature']\n",
    "mesh = var.mesh"
   ]
  },
  {
   "cell_type": "code",
   "execution_count": 5,
   "metadata": {},
   "outputs": [],
   "source": [
    "grid = np.vstack(\n",
    "    np.dstack(\n",
    "        np.meshgrid(\n",
    "            np.linspace(0.5, 1., 4),\n",
    "            np.linspace(0.5, 1., 4)\n",
    "            )\n",
    "        )\n",
    "    )"
   ]
  },
  {
   "cell_type": "code",
   "execution_count": 7,
   "metadata": {},
   "outputs": [
    {
     "data": {
      "text/plain": [
       "array([[ 0.505     ,  0.505     ],\n",
       "       [ 0.66833333,  0.505     ],\n",
       "       [ 0.83166667,  0.505     ],\n",
       "       [ 0.995     ,  0.505     ],\n",
       "       [ 0.505     ,  0.66833333],\n",
       "       [ 0.66833333,  0.66833333],\n",
       "       [ 0.83166667,  0.66833333],\n",
       "       [ 0.995     ,  0.66833333],\n",
       "       [ 0.505     ,  0.83166667],\n",
       "       [ 0.66833333,  0.83166667],\n",
       "       [ 0.83166667,  0.83166667],\n",
       "       [ 0.995     ,  0.83166667],\n",
       "       [ 0.505     ,  0.995     ],\n",
       "       [ 0.66833333,  0.995     ],\n",
       "       [ 0.83166667,  0.995     ],\n",
       "       [ 0.995     ,  0.995     ]])"
      ]
     },
     "execution_count": 7,
     "metadata": {},
     "output_type": "execute_result"
    }
   ],
   "source": [
    "mapping.shrink_box(grid, boxDims = utilities.get_scales(grid))"
   ]
  },
  {
   "cell_type": "code",
   "execution_count": null,
   "metadata": {},
   "outputs": [],
   "source": [
    "outArr, tolerance = mapping.local_box_evaluate(var, grid)"
   ]
  },
  {
   "cell_type": "code",
   "execution_count": null,
   "metadata": {},
   "outputs": [],
   "source": [
    "np.vs"
   ]
  },
  {
   "cell_type": "code",
   "execution_count": null,
   "metadata": {},
   "outputs": [],
   "source": [
    "localInCoords = mapping.get_localInCoords(grid, mesh)\n",
    "unboxedLocalInCoords = mapping.unbox(mesh, localInCoords, tolerance = 0.0001)\n",
    "var.evaluate(unboxedLocalInCoords)"
   ]
  },
  {
   "cell_type": "code",
   "execution_count": null,
   "metadata": {},
   "outputs": [],
   "source": [
    "data, tolerance = mapping.safe_box_evaluate(\n",
    "    var,\n",
    "    grid\n",
    "    )"
   ]
  },
  {
   "cell_type": "code",
   "execution_count": null,
   "metadata": {},
   "outputs": [],
   "source": [
    "data = data.flatten().reshape((256, 256))"
   ]
  },
  {
   "cell_type": "code",
   "execution_count": null,
   "metadata": {},
   "outputs": [],
   "source": []
  },
  {
   "cell_type": "code",
   "execution_count": null,
   "metadata": {},
   "outputs": [],
   "source": []
  }
 ],
 "metadata": {
  "kernelspec": {
   "display_name": "Python 3",
   "language": "python",
   "name": "python3"
  },
  "language_info": {
   "codemirror_mode": {
    "name": "ipython",
    "version": 3
   },
   "file_extension": ".py",
   "mimetype": "text/x-python",
   "name": "python",
   "nbconvert_exporter": "python",
   "pygments_lexer": "ipython3",
   "version": "3.5.3"
  }
 },
 "nbformat": 4,
 "nbformat_minor": 2
}
