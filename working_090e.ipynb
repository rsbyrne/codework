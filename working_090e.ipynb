{
 "cells": [
  {
   "cell_type": "code",
   "execution_count": 1,
   "metadata": {},
   "outputs": [],
   "source": [
    "import sys\n",
    "import os\n",
    "workPath = os.path.abspath('..')\n",
    "if not workPath in sys.path:\n",
    "    sys.path.append(workPath)"
   ]
  },
  {
   "cell_type": "code",
   "execution_count": 2,
   "metadata": {},
   "outputs": [],
   "source": [
    "import os\n",
    "if os.path.exists('../test.frm'):\n",
    "    os.remove('../test.frm')"
   ]
  },
  {
   "cell_type": "code",
   "execution_count": 3,
   "metadata": {},
   "outputs": [],
   "source": [
    "from everest.builts.iterator import build"
   ]
  },
  {
   "cell_type": "code",
   "execution_count": 4,
   "metadata": {},
   "outputs": [],
   "source": [
    "built1 = build()"
   ]
  },
  {
   "cell_type": "code",
   "execution_count": 5,
   "metadata": {},
   "outputs": [
    {
     "data": {
      "text/plain": [
       "182021681667765640610376869253316224471"
      ]
     },
     "execution_count": 5,
     "metadata": {},
     "output_type": "execute_result"
    }
   ],
   "source": [
    "built1.typeHash"
   ]
  },
  {
   "cell_type": "code",
   "execution_count": 6,
   "metadata": {},
   "outputs": [],
   "source": [
    "built2 = build(s = 2)"
   ]
  },
  {
   "cell_type": "code",
   "execution_count": 7,
   "metadata": {},
   "outputs": [
    {
     "name": "stdout",
     "output_type": "stream",
     "text": [
      "<class 'dict'> veunoogle-ugrieheisa []\n",
      "<class 'str'> hashID ['veunoogle-ugrieheisa']\n",
      "<class 'dict'> inputs ['veunoogle-ugrieheisa']\n",
      "<class 'list'> A ['veunoogle-ugrieheisa', 'inputs']\n",
      "<class 'int'> b ['veunoogle-ugrieheisa', 'inputs']\n",
      "<class 'int'> s ['veunoogle-ugrieheisa', 'inputs']\n",
      "<class 'str'> inputsHash ['veunoogle-ugrieheisa']\n",
      "<class 'str'> instanceHash ['veunoogle-ugrieheisa']\n",
      "<class 'dict'> outs ['veunoogle-ugrieheisa']\n",
      "<class 'str'> typeHash ['veunoogle-ugrieheisa']\n",
      "<class 'dict'> _globals_ []\n",
      "<class 'dict'> _classes_ ['_globals_']\n",
      "<class 'str'> 182021681667765640610376869253316224471 ['_globals_', '_classes_']\n"
     ]
    }
   ],
   "source": [
    "built1.anchor('test', '..')"
   ]
  },
  {
   "cell_type": "code",
   "execution_count": 8,
   "metadata": {},
   "outputs": [
    {
     "data": {
      "text/plain": [
       "[]"
      ]
     },
     "execution_count": 8,
     "metadata": {},
     "output_type": "execute_result"
    }
   ],
   "source": [
    "built1.counts_captured"
   ]
  },
  {
   "cell_type": "code",
   "execution_count": 9,
   "metadata": {},
   "outputs": [
    {
     "name": "stdout",
     "output_type": "stream",
     "text": [
      "<class 'dict'> meisfuisi-qouqalu []\n",
      "<class 'str'> hashID ['meisfuisi-qouqalu']\n",
      "<class 'dict'> inputs ['meisfuisi-qouqalu']\n",
      "<class 'list'> A ['meisfuisi-qouqalu', 'inputs']\n",
      "<class 'int'> b ['meisfuisi-qouqalu', 'inputs']\n",
      "<class 'int'> s ['meisfuisi-qouqalu', 'inputs']\n",
      "<class 'str'> inputsHash ['meisfuisi-qouqalu']\n",
      "<class 'str'> instanceHash ['meisfuisi-qouqalu']\n",
      "<class 'dict'> outs ['meisfuisi-qouqalu']\n",
      "<class 'str'> typeHash ['meisfuisi-qouqalu']\n",
      "<class 'dict'> _globals_ []\n",
      "<class 'dict'> _classes_ ['_globals_']\n",
      "<class 'str'> 182021681667765640610376869253316224471 ['_globals_', '_classes_']\n"
     ]
    }
   ],
   "source": [
    "built2.anchor('test', '..')"
   ]
  },
  {
   "cell_type": "code",
   "execution_count": 10,
   "metadata": {},
   "outputs": [],
   "source": [
    "from everest.disk import get_from_h5"
   ]
  },
  {
   "cell_type": "code",
   "execution_count": 11,
   "metadata": {},
   "outputs": [
    {
     "data": {
      "text/plain": [
       "{'182021681667765640610376869253316224471': 'from everest import disk\\nfrom everest.builts.producer import Producer\\n\\nclass Iterator(Producer):\\n\\n    def __init__(self, initialiseFn, iterateFn, outFn, outkeys, loadFn, **kwargs):\\n        self.initialise = lambda: self._initialise_wrap(\\n            initialiseFn,\\n            )\\n        self.iterate = lambda n = 1: self._iterate_wrap(\\n            iterateFn,\\n            n,\\n            )\\n        self.load = lambda count: self._load_wrap(\\n            loadFn,\\n            count\\n            )\\n        self.reset = self.initialise\\n        super().__init__(outFn, outkeys, **kwargs)\\n        self.initialise()\\n\\n    def _initialise_wrap(self, initialise):\\n        self.count.value = 0\\n        initialise()\\n\\n    def _iterate_wrap(self, iterate, n):\\n        for i in range(n):\\n            self.count.value += 1\\n            iterate()\\n            if any(self.consignments):\\n                self.store()\\n\\n    def _load_wrap(self, load, count):\\n        if not self.count() == count:\\n            loadDict = self._load_dataDict(count)\\n            load(loadDict)\\n            self.count.value = count\\n\\n    def _load_dataDict(self, count):\\n        if count in self.counts_stored:\\n            return self._load_dataDict_stored(count)\\n        else:\\n            return self._load_dataDict_saved(count)\\n\\n    def _load_dataDict_stored(self, count):\\n        storedDict = {\\n            count: data for count, data in self.stored\\n            }\\n        loadData = storedDict[count]\\n        loadDict = {\\n            outkey: data \\\\\\n                for outkey, data in zip(\\n                    self.outkeys,\\n                    loadData\\n                    )\\n            }\\n        return loadDict\\n\\n    @disk.h5filewrap\\n    def _load_dataDict_saved(self, count):\\n        self._check_anchored()\\n        # self.save()\\n        loadDict = {}\\n        counts = self.h5file[self.hashID][\\'outs\\'][\\'_counts_\\']\\n        iterNo = 0\\n        while True:\\n            if iterNo >= len(counts):\\n                raise Exception(\"Count not found!\")\\n            if counts[iterNo] == count:\\n                break\\n            iterNo += 1\\n        loadDict = {}\\n        for key in self.outkeys:\\n            loadData = self.h5file[self.hashID][\\'outs\\'][key][iterNo]\\n            loadDict[key] = loadData\\n        return loadDict\\n\\n### EXAMPLE ###\\n\\nfrom everest.value import Value\\n\\nclass ExampleIterator(Iterator):\\n    # Implements the Bailey-Borwein-Plouffe formula;\\n    # default args yield pi.\\n    def __init__(\\n            self,\\n            s : int = 1,\\n            b : int = 16,\\n            A : list = [4, 0, 0, -2, -1, -1, 0, 0]\\n            ):\\n        self.state = Value(0.)\\n        self.kth = lambda k: 1. / b **k * sum([a / (len(A) * k + (j + 1))**s for j, a in enumerate(A)])\\n        super().__init__(\\n            self.initialise,\\n            self.iterate,\\n            self.out,\\n            [\\'pi\\',],\\n            self.load\\n            )\\n    def out(self):\\n        return [self.state.value,]\\n    def initialise(self):\\n        self.state.value = self.kth(0)\\n    def iterate(self):\\n        kthVal = self.kth(self.count.value)\\n        self.state.value += kthVal\\n    def load(self, loadDict):\\n        self.state.value = loadDict[\\'pi\\']\\n\\nCLASS = ExampleIterator\\nbuild = CLASS.build\\n'}"
      ]
     },
     "execution_count": 11,
     "metadata": {},
     "output_type": "execute_result"
    }
   ],
   "source": [
    "get_from_h5('test', '..', '_globals_', '_classes_', 'attrs')"
   ]
  },
  {
   "cell_type": "code",
   "execution_count": 12,
   "metadata": {},
   "outputs": [
    {
     "data": {
      "text/plain": [
       "182021681667765640610376869253316224471"
      ]
     },
     "execution_count": 12,
     "metadata": {},
     "output_type": "execute_result"
    }
   ],
   "source": [
    "built2.typeHash"
   ]
  },
  {
   "cell_type": "code",
   "execution_count": 13,
   "metadata": {},
   "outputs": [],
   "source": [
    "from planetengine.systems.isovisc import build\n",
    "built3 = build()"
   ]
  },
  {
   "cell_type": "code",
   "execution_count": 14,
   "metadata": {},
   "outputs": [
    {
     "name": "stdout",
     "output_type": "stream",
     "text": [
      "<class 'dict'> osmeliispa-triustiakli []\n",
      "<class 'dict'> configs ['osmeliispa-triustiakli']\n",
      "<class 'planetengine.initials.sinusoidal.Sinusoidal'> temperatureField ['osmeliispa-triustiakli', 'configs']\n",
      "<class 'dict'> uwoqiisna-afreubluugru []\n",
      "<class 'str'> hashID ['uwoqiisna-afreubluugru']\n",
      "<class 'dict'> inputs ['uwoqiisna-afreubluugru']\n",
      "<class 'float'> freq ['uwoqiisna-afreubluugru', 'inputs']\n",
      "<class 'float'> pert ['uwoqiisna-afreubluugru', 'inputs']\n",
      "<class 'float'> phase ['uwoqiisna-afreubluugru', 'inputs']\n",
      "<class 'str'> inputsHash ['uwoqiisna-afreubluugru']\n",
      "<class 'str'> instanceHash ['uwoqiisna-afreubluugru']\n",
      "<class 'dict'> outs ['uwoqiisna-afreubluugru']\n",
      "<class 'str'> typeHash ['uwoqiisna-afreubluugru']\n",
      "<class 'dict'> _globals_ []\n",
      "<class 'dict'> _classes_ ['_globals_']\n",
      "<class 'str'> 170408575799884985211144589061219211258 ['_globals_', '_classes_']\n",
      "<class 'str'> hashID ['osmeliispa-triustiakli']\n",
      "<class 'dict'> inputs ['osmeliispa-triustiakli']\n",
      "<class 'float'> Ra ['osmeliispa-triustiakli', 'inputs']\n",
      "<class 'planetengine.initials.sinusoidal.Sinusoidal'> _initial_temperatureField ['osmeliispa-triustiakli', 'inputs']\n",
      "<class 'float'> aspect ['osmeliispa-triustiakli', 'inputs']\n",
      "<class 'float'> f ['osmeliispa-triustiakli', 'inputs']\n",
      "<class 'int'> res ['osmeliispa-triustiakli', 'inputs']\n",
      "<class 'float'> urey ['osmeliispa-triustiakli', 'inputs']\n",
      "<class 'str'> inputsHash ['osmeliispa-triustiakli']\n",
      "<class 'str'> instanceHash ['osmeliispa-triustiakli']\n",
      "<class 'dict'> outs ['osmeliispa-triustiakli']\n",
      "<class 'dict'> params ['osmeliispa-triustiakli']\n",
      "<class 'float'> Ra ['osmeliispa-triustiakli', 'params']\n",
      "<class 'float'> aspect ['osmeliispa-triustiakli', 'params']\n",
      "<class 'float'> f ['osmeliispa-triustiakli', 'params']\n",
      "<class 'int'> res ['osmeliispa-triustiakli', 'params']\n",
      "<class 'float'> urey ['osmeliispa-triustiakli', 'params']\n",
      "<class 'str'> typeHash ['osmeliispa-triustiakli']\n",
      "<class 'dict'> _globals_ []\n",
      "<class 'dict'> _classes_ ['_globals_']\n",
      "<class 'str'> 120020736114025463979781212388619399037 ['_globals_', '_classes_']\n"
     ]
    }
   ],
   "source": [
    "built3.anchor('test', '..')"
   ]
  },
  {
   "cell_type": "code",
   "execution_count": 15,
   "metadata": {},
   "outputs": [
    {
     "data": {
      "text/plain": [
       "{'120020736114025463979781212388619399037': 'import random\\nimport numpy as np\\n\\nimport underworld as uw\\nfn = uw.function\\n\\nfrom planetengine.systems import System\\nfrom planetengine.initials import sinusoidal\\nfrom planetengine.initials import constant\\n\\ndefault_tempIC = sinusoidal.build()\\ndefault_tempDotIC = constant.build(value = 0.)\\n\\nclass Isovisc(System):\\n\\n    species = \"isovisc\"\\n\\n    def __init__(\\n        self,\\n        res = 64,\\n        f = 0.54,\\n        aspect = 1.,\\n        Ra = 1e7,\\n        urey = 0.,\\n        _initial_temperatureField = default_tempIC,\\n        **kwargs\\n        ):\\n\\n        ### MESH & MESH VARIABLES ###\\n\\n        if f == 1. and aspect == \\'max\\':\\n            raise ValueError\\n        maxf = 0.999\\n        if f == \\'max\\' or f == 1.:\\n            f = maxf\\n        else:\\n            assert f <= maxf\\n\\n        length = 1.\\n        outerRad = 1. / (1. - f)\\n        radii = (outerRad - length, outerRad)\\n\\n        maxAspect = np.pi * sum(radii) / length\\n        if aspect == \\'max\\':\\n            aspect = maxAspect\\n            periodic = True\\n        else:\\n            assert aspect < maxAspect\\n            periodic = False\\n\\n        width = length**2 * aspect * 2. / (radii[1]**2 - radii[0]**2)\\n        midpoint = np.pi / 2.\\n        angExtentRaw = (midpoint - 0.5 * width, midpoint + 0.5 * width)\\n        angExtentDeg = [item * 180. / np.pi for item in angExtentRaw]\\n        angularExtent = [\\n            max(0., angExtentDeg[0]),\\n            min(360., angExtentDeg[1] + abs(min(0., angExtentDeg[0])))\\n            ]\\n        angLen = angExtentRaw[1] - angExtentRaw[0]\\n\\n        assert res % 4 == 0\\n        radRes = res\\n        angRes = 4 * int(angLen * (int(radRes * radii[1] / length)) / 4)\\n        elementRes = (radRes, angRes)\\n\\n        mesh = uw.mesh.FeMesh_Annulus(\\n            elementRes = elementRes,\\n            radialLengths = radii,\\n            angularExtent = angularExtent,\\n            periodic = [False, periodic]\\n            )\\n\\n        temperatureField = uw.mesh.MeshVariable(mesh, 1)\\n        temperatureDotField = uw.mesh.MeshVariable(mesh, 1)\\n        pressureField = uw.mesh.MeshVariable(mesh.subMesh, 1)\\n        velocityField = uw.mesh.MeshVariable(mesh, 2)\\n\\n        temperatureField.scales = [[0., 1.]]\\n        temperatureField.bounds = [[0., 1., \\'.\\', \\'.\\']]\\n\\n        ### BOUNDARIES ###\\n\\n        inner = mesh.specialSets[\"inner\"]\\n        outer = mesh.specialSets[\"outer\"]\\n        sides = mesh.specialSets[\"MaxJ_VertexSet\"] + mesh.specialSets[\"MinJ_VertexSet\"]\\n\\n        if periodic:\\n            velBC = uw.conditions.RotatedDirichletCondition(\\n                variable = velocityField,\\n                indexSetsPerDof = (inner + outer, None),\\n                basis_vectors = (mesh.bnd_vec_normal, mesh.bnd_vec_tangent)\\n                )\\n        else:\\n            velBC = uw.conditions.RotatedDirichletCondition(\\n                variable = velocityField,\\n                indexSetsPerDof = (inner + outer, sides),\\n                basis_vectors = (mesh.bnd_vec_normal, mesh.bnd_vec_tangent)\\n                )\\n\\n        tempBC = uw.conditions.DirichletCondition(\\n            variable = temperatureField,\\n            indexSetsPerDof = (inner + outer,)\\n            )\\n\\n        ### FUNCTIONS ###\\n\\n        vc = uw.mesh.MeshVariable(mesh = mesh, nodeDofCount = 2)\\n        vc_eqNum = uw.systems.sle.EqNumber(vc, False )\\n        vcVec = uw.systems.sle.SolutionVector(vc, vc_eqNum)\\n\\n        buoyancyFn = Ra * temperatureField\\n\\n        diffusivityFn = 1.\\n\\n        # eta0 = 1\\n        # nomNu = 1. + (1. / 3.) * (f**2 * Ra / eta0) ** (1. / 3.)\\n        # heatingFn = urey * nomNu\\n        heatingFn = urey\\n\\n        ### RHEOLOGY ###\\n\\n        viscosityFn = 1.\\n\\n        ### SYSTEMS ###\\n\\n        stokes = uw.systems.Stokes(\\n            velocityField = velocityField,\\n            pressureField = pressureField,\\n            conditions = [velBC,],\\n            fn_viscosity = viscosityFn,\\n            fn_bodyforce = buoyancyFn * mesh.unitvec_r_Fn,\\n            _removeBCs = False,\\n            )\\n\\n        solver = uw.systems.Solver(stokes)\\n\\n        advDiff = uw.systems.AdvectionDiffusion(\\n            phiField = temperatureField,\\n            phiDotField = temperatureDotField,\\n            velocityField = vc,\\n            fn_diffusivity = diffusivityFn,\\n            fn_sourceTerm = heatingFn,\\n            conditions = [tempBC,]\\n            )\\n\\n        ### SOLVING ###\\n\\n        def postSolve():\\n            # realign solution using the rotation matrix on stokes\\n            uw.libUnderworld.Underworld.AXequalsY(\\n                stokes._rot._cself,\\n                stokes._velocitySol._cself,\\n                vcVec._cself,\\n                False\\n                )\\n            # remove null space - the solid body rotation velocity contribution\\n            uw.libUnderworld.StgFEM.SolutionVector_RemoveVectorSpace(\\n                stokes._velocitySol._cself,\\n                stokes._vnsVec._cself\\n                )\\n\\n        def solve():\\n            velocityField.data[:] = 0.\\n            solver.solve(\\n                nonLinearIterate = False,\\n                callback_post_solve = postSolve,\\n                )\\n            uw.libUnderworld.Underworld.AXequalsX(\\n                stokes._rot._cself,\\n                stokes._velocitySol._cself,\\n                False\\n                )\\n\\n        def update():\\n            solve()\\n\\n        def integrate():\\n            dt = advDiff.get_max_dt()\\n            advDiff.integrate(dt)\\n            return dt\\n\\n        super().__init__(\\n            varsOfState = {\\n                \\'temperatureField\\': temperatureField,\\n                \\'temperatureDotField\\': temperatureDotField\\n                },\\n            obsVars = {\\n                \\'temperature\\': temperatureField,\\n                \\'velocity\\': velocityField\\n                },\\n            update = update,\\n            integrate = integrate,\\n            localsDict = locals(),\\n            **kwargs\\n            )\\n\\n### IMPORTANT ###\\n# from everest.builts import make_buildFn\\nCLASS = Isovisc\\nbuild = CLASS.build\\n',\n",
       " '170408575799884985211144589061219211258': \"import numpy as np\\nfrom planetengine.initials import IC\\n\\nclass Sinusoidal(IC):\\n\\n    species = 'sinusoidal'\\n\\n    def __init__(\\n            self,\\n            pert = 0.2,\\n            freq = 1.,\\n            phase = 0.,\\n            ):\\n\\n        valRange = (0., 1.)\\n        freq = freq\\n        phase = phase\\n        pert = pert\\n\\n        def evaluate(coordArray):\\n            valMin, valMax = valRange\\n            deltaVal = valRange[1] - valRange[0]\\n            pertArray = \\\\\\n                pert \\\\\\n                * np.cos(np.pi * (phase + freq * coordArray[:,0])) \\\\\\n                * np.sin(np.pi * coordArray[:,1])\\n            outArray = valMin + deltaVal * (1. - coordArray[:,1]) + pertArray\\n            outArray = np.clip(outArray, valMin, valMax)\\n            outArray = np.array([[item] for item in outArray])\\n            return outArray\\n\\n        super().__init__(\\n            evaluate = evaluate\\n            )\\n\\n### IMPORTANT ###\\n# from everest.builts import make_buildFn\\nCLASS = Sinusoidal\\nbuild = CLASS.build\\n\",\n",
       " '182021681667765640610376869253316224471': 'from everest import disk\\nfrom everest.builts.producer import Producer\\n\\nclass Iterator(Producer):\\n\\n    def __init__(self, initialiseFn, iterateFn, outFn, outkeys, loadFn, **kwargs):\\n        self.initialise = lambda: self._initialise_wrap(\\n            initialiseFn,\\n            )\\n        self.iterate = lambda n = 1: self._iterate_wrap(\\n            iterateFn,\\n            n,\\n            )\\n        self.load = lambda count: self._load_wrap(\\n            loadFn,\\n            count\\n            )\\n        self.reset = self.initialise\\n        super().__init__(outFn, outkeys, **kwargs)\\n        self.initialise()\\n\\n    def _initialise_wrap(self, initialise):\\n        self.count.value = 0\\n        initialise()\\n\\n    def _iterate_wrap(self, iterate, n):\\n        for i in range(n):\\n            self.count.value += 1\\n            iterate()\\n            if any(self.consignments):\\n                self.store()\\n\\n    def _load_wrap(self, load, count):\\n        if not self.count() == count:\\n            loadDict = self._load_dataDict(count)\\n            load(loadDict)\\n            self.count.value = count\\n\\n    def _load_dataDict(self, count):\\n        if count in self.counts_stored:\\n            return self._load_dataDict_stored(count)\\n        else:\\n            return self._load_dataDict_saved(count)\\n\\n    def _load_dataDict_stored(self, count):\\n        storedDict = {\\n            count: data for count, data in self.stored\\n            }\\n        loadData = storedDict[count]\\n        loadDict = {\\n            outkey: data \\\\\\n                for outkey, data in zip(\\n                    self.outkeys,\\n                    loadData\\n                    )\\n            }\\n        return loadDict\\n\\n    @disk.h5filewrap\\n    def _load_dataDict_saved(self, count):\\n        self._check_anchored()\\n        # self.save()\\n        loadDict = {}\\n        counts = self.h5file[self.hashID][\\'outs\\'][\\'_counts_\\']\\n        iterNo = 0\\n        while True:\\n            if iterNo >= len(counts):\\n                raise Exception(\"Count not found!\")\\n            if counts[iterNo] == count:\\n                break\\n            iterNo += 1\\n        loadDict = {}\\n        for key in self.outkeys:\\n            loadData = self.h5file[self.hashID][\\'outs\\'][key][iterNo]\\n            loadDict[key] = loadData\\n        return loadDict\\n\\n### EXAMPLE ###\\n\\nfrom everest.value import Value\\n\\nclass ExampleIterator(Iterator):\\n    # Implements the Bailey-Borwein-Plouffe formula;\\n    # default args yield pi.\\n    def __init__(\\n            self,\\n            s : int = 1,\\n            b : int = 16,\\n            A : list = [4, 0, 0, -2, -1, -1, 0, 0]\\n            ):\\n        self.state = Value(0.)\\n        self.kth = lambda k: 1. / b **k * sum([a / (len(A) * k + (j + 1))**s for j, a in enumerate(A)])\\n        super().__init__(\\n            self.initialise,\\n            self.iterate,\\n            self.out,\\n            [\\'pi\\',],\\n            self.load\\n            )\\n    def out(self):\\n        return [self.state.value,]\\n    def initialise(self):\\n        self.state.value = self.kth(0)\\n    def iterate(self):\\n        kthVal = self.kth(self.count.value)\\n        self.state.value += kthVal\\n    def load(self, loadDict):\\n        self.state.value = loadDict[\\'pi\\']\\n\\nCLASS = ExampleIterator\\nbuild = CLASS.build\\n'}"
      ]
     },
     "execution_count": 15,
     "metadata": {},
     "output_type": "execute_result"
    }
   ],
   "source": [
    "get_from_h5('test', '..', '_globals_', '_classes_', 'attrs')"
   ]
  },
  {
   "cell_type": "code",
   "execution_count": 16,
   "metadata": {},
   "outputs": [],
   "source": [
    "import h5py"
   ]
  },
  {
   "cell_type": "code",
   "execution_count": 17,
   "metadata": {},
   "outputs": [],
   "source": [
    "myfile = h5py.File('../test.frm')"
   ]
  },
  {
   "cell_type": "code",
   "execution_count": 18,
   "metadata": {},
   "outputs": [
    {
     "data": {
      "text/plain": [
       "<KeysViewHDF5 ['_globals_', 'meisfuisi-qouqalu', 'osmeliispa-triustiakli', 'uwoqiisna-afreubluugru', 'veunoogle-ugrieheisa']>"
      ]
     },
     "execution_count": 18,
     "metadata": {},
     "output_type": "execute_result"
    }
   ],
   "source": [
    "myfile.keys()"
   ]
  },
  {
   "cell_type": "code",
   "execution_count": 19,
   "metadata": {},
   "outputs": [
    {
     "data": {
      "text/plain": [
       "<KeysViewHDF5 ['120020736114025463979781212388619399037', '170408575799884985211144589061219211258', '182021681667765640610376869253316224471']>"
      ]
     },
     "execution_count": 19,
     "metadata": {},
     "output_type": "execute_result"
    }
   ],
   "source": [
    "myfile['_globals_/_classes_'].attrs.keys()"
   ]
  },
  {
   "cell_type": "code",
   "execution_count": 20,
   "metadata": {},
   "outputs": [
    {
     "data": {
      "text/plain": [
       "182021681667765640610376869253316224471"
      ]
     },
     "execution_count": 20,
     "metadata": {},
     "output_type": "execute_result"
    }
   ],
   "source": [
    "built1.typeHash"
   ]
  },
  {
   "cell_type": "code",
   "execution_count": 21,
   "metadata": {},
   "outputs": [
    {
     "data": {
      "text/plain": [
       "120020736114025463979781212388619399037"
      ]
     },
     "execution_count": 21,
     "metadata": {},
     "output_type": "execute_result"
    }
   ],
   "source": [
    "built3.typeHash"
   ]
  },
  {
   "cell_type": "code",
   "execution_count": 22,
   "metadata": {},
   "outputs": [],
   "source": [
    "built3._add_attr('foobar', 'myvar', ['_globals_', '_classes_'])"
   ]
  },
  {
   "cell_type": "code",
   "execution_count": 23,
   "metadata": {},
   "outputs": [
    {
     "data": {
      "text/plain": [
       "<KeysViewHDF5 ['120020736114025463979781212388619399037', '170408575799884985211144589061219211258', '182021681667765640610376869253316224471', 'myvar']>"
      ]
     },
     "execution_count": 23,
     "metadata": {},
     "output_type": "execute_result"
    }
   ],
   "source": [
    "myfile['_globals_/_classes_'].attrs.keys()"
   ]
  },
  {
   "cell_type": "code",
   "execution_count": 24,
   "metadata": {
    "scrolled": true
   },
   "outputs": [
    {
     "data": {
      "text/plain": [
       "{'_classes_': {'120020736114025463979781212388619399037': 'import random\\nimport numpy as np\\n\\nimport underworld as uw\\nfn = uw.function\\n\\nfrom planetengine.systems import System\\nfrom planetengine.initials import sinusoidal\\nfrom planetengine.initials import constant\\n\\ndefault_tempIC = sinusoidal.build()\\ndefault_tempDotIC = constant.build(value = 0.)\\n\\nclass Isovisc(System):\\n\\n    species = \"isovisc\"\\n\\n    def __init__(\\n        self,\\n        res = 64,\\n        f = 0.54,\\n        aspect = 1.,\\n        Ra = 1e7,\\n        urey = 0.,\\n        _initial_temperatureField = default_tempIC,\\n        **kwargs\\n        ):\\n\\n        ### MESH & MESH VARIABLES ###\\n\\n        if f == 1. and aspect == \\'max\\':\\n            raise ValueError\\n        maxf = 0.999\\n        if f == \\'max\\' or f == 1.:\\n            f = maxf\\n        else:\\n            assert f <= maxf\\n\\n        length = 1.\\n        outerRad = 1. / (1. - f)\\n        radii = (outerRad - length, outerRad)\\n\\n        maxAspect = np.pi * sum(radii) / length\\n        if aspect == \\'max\\':\\n            aspect = maxAspect\\n            periodic = True\\n        else:\\n            assert aspect < maxAspect\\n            periodic = False\\n\\n        width = length**2 * aspect * 2. / (radii[1]**2 - radii[0]**2)\\n        midpoint = np.pi / 2.\\n        angExtentRaw = (midpoint - 0.5 * width, midpoint + 0.5 * width)\\n        angExtentDeg = [item * 180. / np.pi for item in angExtentRaw]\\n        angularExtent = [\\n            max(0., angExtentDeg[0]),\\n            min(360., angExtentDeg[1] + abs(min(0., angExtentDeg[0])))\\n            ]\\n        angLen = angExtentRaw[1] - angExtentRaw[0]\\n\\n        assert res % 4 == 0\\n        radRes = res\\n        angRes = 4 * int(angLen * (int(radRes * radii[1] / length)) / 4)\\n        elementRes = (radRes, angRes)\\n\\n        mesh = uw.mesh.FeMesh_Annulus(\\n            elementRes = elementRes,\\n            radialLengths = radii,\\n            angularExtent = angularExtent,\\n            periodic = [False, periodic]\\n            )\\n\\n        temperatureField = uw.mesh.MeshVariable(mesh, 1)\\n        temperatureDotField = uw.mesh.MeshVariable(mesh, 1)\\n        pressureField = uw.mesh.MeshVariable(mesh.subMesh, 1)\\n        velocityField = uw.mesh.MeshVariable(mesh, 2)\\n\\n        temperatureField.scales = [[0., 1.]]\\n        temperatureField.bounds = [[0., 1., \\'.\\', \\'.\\']]\\n\\n        ### BOUNDARIES ###\\n\\n        inner = mesh.specialSets[\"inner\"]\\n        outer = mesh.specialSets[\"outer\"]\\n        sides = mesh.specialSets[\"MaxJ_VertexSet\"] + mesh.specialSets[\"MinJ_VertexSet\"]\\n\\n        if periodic:\\n            velBC = uw.conditions.RotatedDirichletCondition(\\n                variable = velocityField,\\n                indexSetsPerDof = (inner + outer, None),\\n                basis_vectors = (mesh.bnd_vec_normal, mesh.bnd_vec_tangent)\\n                )\\n        else:\\n            velBC = uw.conditions.RotatedDirichletCondition(\\n                variable = velocityField,\\n                indexSetsPerDof = (inner + outer, sides),\\n                basis_vectors = (mesh.bnd_vec_normal, mesh.bnd_vec_tangent)\\n                )\\n\\n        tempBC = uw.conditions.DirichletCondition(\\n            variable = temperatureField,\\n            indexSetsPerDof = (inner + outer,)\\n            )\\n\\n        ### FUNCTIONS ###\\n\\n        vc = uw.mesh.MeshVariable(mesh = mesh, nodeDofCount = 2)\\n        vc_eqNum = uw.systems.sle.EqNumber(vc, False )\\n        vcVec = uw.systems.sle.SolutionVector(vc, vc_eqNum)\\n\\n        buoyancyFn = Ra * temperatureField\\n\\n        diffusivityFn = 1.\\n\\n        # eta0 = 1\\n        # nomNu = 1. + (1. / 3.) * (f**2 * Ra / eta0) ** (1. / 3.)\\n        # heatingFn = urey * nomNu\\n        heatingFn = urey\\n\\n        ### RHEOLOGY ###\\n\\n        viscosityFn = 1.\\n\\n        ### SYSTEMS ###\\n\\n        stokes = uw.systems.Stokes(\\n            velocityField = velocityField,\\n            pressureField = pressureField,\\n            conditions = [velBC,],\\n            fn_viscosity = viscosityFn,\\n            fn_bodyforce = buoyancyFn * mesh.unitvec_r_Fn,\\n            _removeBCs = False,\\n            )\\n\\n        solver = uw.systems.Solver(stokes)\\n\\n        advDiff = uw.systems.AdvectionDiffusion(\\n            phiField = temperatureField,\\n            phiDotField = temperatureDotField,\\n            velocityField = vc,\\n            fn_diffusivity = diffusivityFn,\\n            fn_sourceTerm = heatingFn,\\n            conditions = [tempBC,]\\n            )\\n\\n        ### SOLVING ###\\n\\n        def postSolve():\\n            # realign solution using the rotation matrix on stokes\\n            uw.libUnderworld.Underworld.AXequalsY(\\n                stokes._rot._cself,\\n                stokes._velocitySol._cself,\\n                vcVec._cself,\\n                False\\n                )\\n            # remove null space - the solid body rotation velocity contribution\\n            uw.libUnderworld.StgFEM.SolutionVector_RemoveVectorSpace(\\n                stokes._velocitySol._cself,\\n                stokes._vnsVec._cself\\n                )\\n\\n        def solve():\\n            velocityField.data[:] = 0.\\n            solver.solve(\\n                nonLinearIterate = False,\\n                callback_post_solve = postSolve,\\n                )\\n            uw.libUnderworld.Underworld.AXequalsX(\\n                stokes._rot._cself,\\n                stokes._velocitySol._cself,\\n                False\\n                )\\n\\n        def update():\\n            solve()\\n\\n        def integrate():\\n            dt = advDiff.get_max_dt()\\n            advDiff.integrate(dt)\\n            return dt\\n\\n        super().__init__(\\n            varsOfState = {\\n                \\'temperatureField\\': temperatureField,\\n                \\'temperatureDotField\\': temperatureDotField\\n                },\\n            obsVars = {\\n                \\'temperature\\': temperatureField,\\n                \\'velocity\\': velocityField\\n                },\\n            update = update,\\n            integrate = integrate,\\n            localsDict = locals(),\\n            **kwargs\\n            )\\n\\n### IMPORTANT ###\\n# from everest.builts import make_buildFn\\nCLASS = Isovisc\\nbuild = CLASS.build\\n'}}"
      ]
     },
     "execution_count": 24,
     "metadata": {},
     "output_type": "execute_result"
    }
   ],
   "source": [
    "built3.globalObjects"
   ]
  },
  {
   "cell_type": "code",
   "execution_count": 25,
   "metadata": {
    "scrolled": true
   },
   "outputs": [
    {
     "name": "stdout",
     "output_type": "stream",
     "text": [
      "<class 'dict'> _globals_ []\n",
      "<class 'dict'> _classes_ ['_globals_']\n",
      "<class 'str'> 120020736114025463979781212388619399037 ['_globals_', '_classes_']\n"
     ]
    }
   ],
   "source": [
    "built3._add_item(built3.globalObjects, '_globals_')"
   ]
  },
  {
   "cell_type": "code",
   "execution_count": 26,
   "metadata": {},
   "outputs": [
    {
     "data": {
      "text/plain": [
       "<KeysViewHDF5 ['120020736114025463979781212388619399037', '170408575799884985211144589061219211258', '182021681667765640610376869253316224471', 'myvar']>"
      ]
     },
     "execution_count": 26,
     "metadata": {},
     "output_type": "execute_result"
    }
   ],
   "source": [
    "myfile['_globals_/_classes_'].attrs.keys()"
   ]
  },
  {
   "cell_type": "code",
   "execution_count": 27,
   "metadata": {},
   "outputs": [
    {
     "data": {
      "text/plain": [
       "<HDF5 group \"/_globals_\" (1 members)>"
      ]
     },
     "execution_count": 27,
     "metadata": {},
     "output_type": "execute_result"
    }
   ],
   "source": [
    "myfile['_globals_']"
   ]
  },
  {
   "cell_type": "code",
   "execution_count": 28,
   "metadata": {},
   "outputs": [
    {
     "data": {
      "text/plain": [
       "{'_classes_': {'120020736114025463979781212388619399037': 'import random\\nimport numpy as np\\n\\nimport underworld as uw\\nfn = uw.function\\n\\nfrom planetengine.systems import System\\nfrom planetengine.initials import sinusoidal\\nfrom planetengine.initials import constant\\n\\ndefault_tempIC = sinusoidal.build()\\ndefault_tempDotIC = constant.build(value = 0.)\\n\\nclass Isovisc(System):\\n\\n    species = \"isovisc\"\\n\\n    def __init__(\\n        self,\\n        res = 64,\\n        f = 0.54,\\n        aspect = 1.,\\n        Ra = 1e7,\\n        urey = 0.,\\n        _initial_temperatureField = default_tempIC,\\n        **kwargs\\n        ):\\n\\n        ### MESH & MESH VARIABLES ###\\n\\n        if f == 1. and aspect == \\'max\\':\\n            raise ValueError\\n        maxf = 0.999\\n        if f == \\'max\\' or f == 1.:\\n            f = maxf\\n        else:\\n            assert f <= maxf\\n\\n        length = 1.\\n        outerRad = 1. / (1. - f)\\n        radii = (outerRad - length, outerRad)\\n\\n        maxAspect = np.pi * sum(radii) / length\\n        if aspect == \\'max\\':\\n            aspect = maxAspect\\n            periodic = True\\n        else:\\n            assert aspect < maxAspect\\n            periodic = False\\n\\n        width = length**2 * aspect * 2. / (radii[1]**2 - radii[0]**2)\\n        midpoint = np.pi / 2.\\n        angExtentRaw = (midpoint - 0.5 * width, midpoint + 0.5 * width)\\n        angExtentDeg = [item * 180. / np.pi for item in angExtentRaw]\\n        angularExtent = [\\n            max(0., angExtentDeg[0]),\\n            min(360., angExtentDeg[1] + abs(min(0., angExtentDeg[0])))\\n            ]\\n        angLen = angExtentRaw[1] - angExtentRaw[0]\\n\\n        assert res % 4 == 0\\n        radRes = res\\n        angRes = 4 * int(angLen * (int(radRes * radii[1] / length)) / 4)\\n        elementRes = (radRes, angRes)\\n\\n        mesh = uw.mesh.FeMesh_Annulus(\\n            elementRes = elementRes,\\n            radialLengths = radii,\\n            angularExtent = angularExtent,\\n            periodic = [False, periodic]\\n            )\\n\\n        temperatureField = uw.mesh.MeshVariable(mesh, 1)\\n        temperatureDotField = uw.mesh.MeshVariable(mesh, 1)\\n        pressureField = uw.mesh.MeshVariable(mesh.subMesh, 1)\\n        velocityField = uw.mesh.MeshVariable(mesh, 2)\\n\\n        temperatureField.scales = [[0., 1.]]\\n        temperatureField.bounds = [[0., 1., \\'.\\', \\'.\\']]\\n\\n        ### BOUNDARIES ###\\n\\n        inner = mesh.specialSets[\"inner\"]\\n        outer = mesh.specialSets[\"outer\"]\\n        sides = mesh.specialSets[\"MaxJ_VertexSet\"] + mesh.specialSets[\"MinJ_VertexSet\"]\\n\\n        if periodic:\\n            velBC = uw.conditions.RotatedDirichletCondition(\\n                variable = velocityField,\\n                indexSetsPerDof = (inner + outer, None),\\n                basis_vectors = (mesh.bnd_vec_normal, mesh.bnd_vec_tangent)\\n                )\\n        else:\\n            velBC = uw.conditions.RotatedDirichletCondition(\\n                variable = velocityField,\\n                indexSetsPerDof = (inner + outer, sides),\\n                basis_vectors = (mesh.bnd_vec_normal, mesh.bnd_vec_tangent)\\n                )\\n\\n        tempBC = uw.conditions.DirichletCondition(\\n            variable = temperatureField,\\n            indexSetsPerDof = (inner + outer,)\\n            )\\n\\n        ### FUNCTIONS ###\\n\\n        vc = uw.mesh.MeshVariable(mesh = mesh, nodeDofCount = 2)\\n        vc_eqNum = uw.systems.sle.EqNumber(vc, False )\\n        vcVec = uw.systems.sle.SolutionVector(vc, vc_eqNum)\\n\\n        buoyancyFn = Ra * temperatureField\\n\\n        diffusivityFn = 1.\\n\\n        # eta0 = 1\\n        # nomNu = 1. + (1. / 3.) * (f**2 * Ra / eta0) ** (1. / 3.)\\n        # heatingFn = urey * nomNu\\n        heatingFn = urey\\n\\n        ### RHEOLOGY ###\\n\\n        viscosityFn = 1.\\n\\n        ### SYSTEMS ###\\n\\n        stokes = uw.systems.Stokes(\\n            velocityField = velocityField,\\n            pressureField = pressureField,\\n            conditions = [velBC,],\\n            fn_viscosity = viscosityFn,\\n            fn_bodyforce = buoyancyFn * mesh.unitvec_r_Fn,\\n            _removeBCs = False,\\n            )\\n\\n        solver = uw.systems.Solver(stokes)\\n\\n        advDiff = uw.systems.AdvectionDiffusion(\\n            phiField = temperatureField,\\n            phiDotField = temperatureDotField,\\n            velocityField = vc,\\n            fn_diffusivity = diffusivityFn,\\n            fn_sourceTerm = heatingFn,\\n            conditions = [tempBC,]\\n            )\\n\\n        ### SOLVING ###\\n\\n        def postSolve():\\n            # realign solution using the rotation matrix on stokes\\n            uw.libUnderworld.Underworld.AXequalsY(\\n                stokes._rot._cself,\\n                stokes._velocitySol._cself,\\n                vcVec._cself,\\n                False\\n                )\\n            # remove null space - the solid body rotation velocity contribution\\n            uw.libUnderworld.StgFEM.SolutionVector_RemoveVectorSpace(\\n                stokes._velocitySol._cself,\\n                stokes._vnsVec._cself\\n                )\\n\\n        def solve():\\n            velocityField.data[:] = 0.\\n            solver.solve(\\n                nonLinearIterate = False,\\n                callback_post_solve = postSolve,\\n                )\\n            uw.libUnderworld.Underworld.AXequalsX(\\n                stokes._rot._cself,\\n                stokes._velocitySol._cself,\\n                False\\n                )\\n\\n        def update():\\n            solve()\\n\\n        def integrate():\\n            dt = advDiff.get_max_dt()\\n            advDiff.integrate(dt)\\n            return dt\\n\\n        super().__init__(\\n            varsOfState = {\\n                \\'temperatureField\\': temperatureField,\\n                \\'temperatureDotField\\': temperatureDotField\\n                },\\n            obsVars = {\\n                \\'temperature\\': temperatureField,\\n                \\'velocity\\': velocityField\\n                },\\n            update = update,\\n            integrate = integrate,\\n            localsDict = locals(),\\n            **kwargs\\n            )\\n\\n### IMPORTANT ###\\n# from everest.builts import make_buildFn\\nCLASS = Isovisc\\nbuild = CLASS.build\\n'}}"
      ]
     },
     "execution_count": 28,
     "metadata": {},
     "output_type": "execute_result"
    }
   ],
   "source": [
    "built3.globalObjects"
   ]
  },
  {
   "cell_type": "code",
   "execution_count": null,
   "metadata": {},
   "outputs": [],
   "source": []
  }
 ],
 "metadata": {
  "kernelspec": {
   "display_name": "Python 3",
   "language": "python",
   "name": "python3"
  },
  "language_info": {
   "codemirror_mode": {
    "name": "ipython",
    "version": 3
   },
   "file_extension": ".py",
   "mimetype": "text/x-python",
   "name": "python",
   "nbconvert_exporter": "python",
   "pygments_lexer": "ipython3",
   "version": "3.5.3"
  }
 },
 "nbformat": 4,
 "nbformat_minor": 2
}
