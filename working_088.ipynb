{
 "cells": [
  {
   "cell_type": "code",
   "execution_count": 1,
   "metadata": {},
   "outputs": [],
   "source": [
    "import sys\n",
    "import os\n",
    "workPath = os.path.abspath('..')\n",
    "if not workPath in sys.path:\n",
    "    sys.path.append(workPath)"
   ]
  },
  {
   "cell_type": "code",
   "execution_count": 2,
   "metadata": {},
   "outputs": [],
   "source": [
    "import planetengine\n",
    "import everest\n",
    "Built = everest.built.Built"
   ]
  },
  {
   "cell_type": "code",
   "execution_count": 3,
   "metadata": {},
   "outputs": [],
   "source": [
    "system = planetengine.systems.isovisc.build()\n",
    "observer = planetengine.observers.standard.build(system)"
   ]
  },
  {
   "cell_type": "code",
   "execution_count": 4,
   "metadata": {
    "scrolled": false
   },
   "outputs": [
    {
     "name": "stdout",
     "output_type": "stream",
     "text": [
      "Anchoring  <planetengine.systems.isovisc.Isovisc object at 0x7fdd5b5567b8>\n",
      "Anchoring  <planetengine.initials.sinusoidal.Sinusoidal object at 0x7fdd5c3e56a0>\n",
      "Anchored up to hook  <planetengine.initials.sinusoidal.Sinusoidal object at 0x7fdd5c3e56a0>\n",
      "Anchored  <planetengine.initials.sinusoidal.Sinusoidal object at 0x7fdd5c3e56a0>\n",
      "Anchored up to hook  <planetengine.systems.isovisc.Isovisc object at 0x7fdd5b5567b8>\n",
      "Anchoring  <planetengine.observers.standard.Standard object at 0x7fdd5b5567f0>\n",
      "Anchored up to hook  <planetengine.observers.standard.Standard object at 0x7fdd5b5567f0>\n",
      "Anchored  <planetengine.observers.standard.Standard object at 0x7fdd5b5567f0>\n",
      "Anchored  <planetengine.systems.isovisc.Isovisc object at 0x7fdd5b5567b8>\n"
     ]
    }
   ],
   "source": [
    "system.anchor('test', '..')"
   ]
  },
  {
   "cell_type": "code",
   "execution_count": null,
   "metadata": {},
   "outputs": [],
   "source": [
    "class Job(Built):\n",
    "    def __init__(\n",
    "            self,\n",
    "            inputs,\n",
    "            script\n",
    "            )\n",
    "        super().__init__(\n",
    "            inputs,\n",
    "            script\n",
    "            )"
   ]
  },
  {
   "cell_type": "code",
   "execution_count": null,
   "metadata": {},
   "outputs": [],
   "source": [
    "class MyJob(Job):\n",
    "    script = '../test.py'\n",
    "    def __init__(\n",
    "            self,\n",
    "            system,\n",
    "            \n",
    "            )\n",
    "        inputs = locals().copy()\n",
    "\n",
    "\n",
    "        super().__init__(\n",
    "            inputs,\n",
    "            script\n",
    "            )\n",
    "\n",
    "        def run(self):\n",
    "            pass\n",
    "    def set_buffersize(self, val: int):\n",
    "        self.buffersize = val"
   ]
  },
  {
   "cell_type": "code",
   "execution_count": null,
   "metadata": {
    "scrolled": true
   },
   "outputs": [],
   "source": [
    "import sys\n",
    "import numpy as np\n",
    "print(sys.getsizeof(np.linspace(0., 100.)))\n",
    "print(sys.getsizeof(np.linspace(0., 1000.)))\n",
    "print(sys.getsizeof(np.linspace(0., 10000.)))"
   ]
  },
  {
   "cell_type": "code",
   "execution_count": null,
   "metadata": {},
   "outputs": [],
   "source": [
    "system.store()\n",
    "system.iterate()\n",
    "system.store()"
   ]
  },
  {
   "cell_type": "code",
   "execution_count": null,
   "metadata": {},
   "outputs": [],
   "source": [
    "system.stored"
   ]
  },
  {
   "cell_type": "code",
   "execution_count": null,
   "metadata": {},
   "outputs": [],
   "source": [
    "def myfn(val: int):\n",
    "    print(val)"
   ]
  },
  {
   "cell_type": "code",
   "execution_count": null,
   "metadata": {},
   "outputs": [],
   "source": [
    "myfn(1)"
   ]
  },
  {
   "cell_type": "code",
   "execution_count": null,
   "metadata": {},
   "outputs": [],
   "source": [
    "def get_stored_nbytes(stored):\n",
    "    nbytes = 0\n",
    "    for count in stored:\n",
    "        for data in count[1]:\n",
    "            nbytes += np.array(data).nbytes\n",
    "    return nbytes"
   ]
  },
  {
   "cell_type": "code",
   "execution_count": null,
   "metadata": {},
   "outputs": [],
   "source": [
    "import time"
   ]
  },
  {
   "cell_type": "code",
   "execution_count": null,
   "metadata": {},
   "outputs": [],
   "source": [
    "help(time.time)"
   ]
  },
  {
   "cell_type": "code",
   "execution_count": null,
   "metadata": {},
   "outputs": [],
   "source": [
    "get_stored_nbytes(system.stored)"
   ]
  },
  {
   "cell_type": "code",
   "execution_count": null,
   "metadata": {},
   "outputs": [],
   "source": [
    "lambda: None"
   ]
  },
  {
   "cell_type": "code",
   "execution_count": null,
   "metadata": {},
   "outputs": [],
   "source": [
    "# class Campaign(Built):\n",
    "#     def __init__(\n",
    "#             self,\n",
    "#             jobs,\n",
    "#             inputs,\n",
    "#             script\n",
    "#             ):\n",
    "#         super().__init__(\n",
    "#             inputs,\n",
    "#             script\n",
    "#             )\n",
    "    "
   ]
  },
  {
   "cell_type": "code",
   "execution_count": null,
   "metadata": {},
   "outputs": [],
   "source": [
    "2**30"
   ]
  },
  {
   "cell_type": "code",
   "execution_count": null,
   "metadata": {},
   "outputs": [],
   "source": [
    "print(\"abc\\ndef\")"
   ]
  },
  {
   "cell_type": "code",
   "execution_count": null,
   "metadata": {},
   "outputs": [],
   "source": []
  }
 ],
 "metadata": {
  "kernelspec": {
   "display_name": "Python 3",
   "language": "python",
   "name": "python3"
  },
  "language_info": {
   "codemirror_mode": {
    "name": "ipython",
    "version": 3
   },
   "file_extension": ".py",
   "mimetype": "text/x-python",
   "name": "python",
   "nbconvert_exporter": "python",
   "pygments_lexer": "ipython3",
   "version": "3.5.3"
  }
 },
 "nbformat": 4,
 "nbformat_minor": 2
}
