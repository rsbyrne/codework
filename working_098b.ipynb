{
 "cells": [
  {
   "cell_type": "code",
   "execution_count": 1,
   "metadata": {},
   "outputs": [],
   "source": [
    "import sys\n",
    "import os\n",
    "workPath = os.path.abspath('..')\n",
    "if not workPath in sys.path:\n",
    "    sys.path.append(workPath)"
   ]
  },
  {
   "cell_type": "code",
   "execution_count": 2,
   "metadata": {},
   "outputs": [],
   "source": [
    "name, path = 'test', '..'\n",
    "from everest import mpi\n",
    "from everest.builts import set_global_anchor\n",
    "set_global_anchor(name, path, purge = True)\n",
    "from everest.builts import GLOBALREADER as reader\n",
    "\n",
    "from planetengine.systems.isovisc import Isovisc\n",
    "from planetengine.campaign import Campaign\n",
    "from planetengine.observers import Observer\n",
    "from planetengine.analysers.nu import Nu\n",
    "from planetengine.analysers.vrms import VRMS\n",
    "from everest.builts.partial import Partial\n",
    "\n",
    "# campaign()"
   ]
  },
  {
   "cell_type": "code",
   "execution_count": 3,
   "metadata": {},
   "outputs": [],
   "source": [
    "campaign = Campaign(\n",
    "    Isovisc,\n",
    "    1,\n",
    "    Ra = [10 ** (x / 2.) for x in range(7, 13)],\n",
    "    f = [x / 10. for x in range(5, 12)],\n",
    "    res = [32, 64],\n",
    "    aspect = [1., 2.],\n",
    "    cores = 4,\n",
    "    observerClasses = [Partial(Observer, analyserClasses = [Nu, VRMS])]\n",
    "    )"
   ]
  },
  {
   "cell_type": "code",
   "execution_count": null,
   "metadata": {},
   "outputs": [],
   "source": []
  }
 ],
 "metadata": {
  "kernelspec": {
   "display_name": "Python 3",
   "language": "python",
   "name": "python3"
  },
  "language_info": {
   "codemirror_mode": {
    "name": "ipython",
    "version": 3
   },
   "file_extension": ".py",
   "mimetype": "text/x-python",
   "name": "python",
   "nbconvert_exporter": "python",
   "pygments_lexer": "ipython3",
   "version": "3.5.3"
  }
 },
 "nbformat": 4,
 "nbformat_minor": 2
}
