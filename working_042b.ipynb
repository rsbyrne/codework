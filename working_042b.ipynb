{
 "cells": [
  {
   "cell_type": "code",
   "execution_count": 1,
   "metadata": {},
   "outputs": [],
   "source": [
    "import sys\n",
    "sys.path.append('/home/jovyan/workspace')"
   ]
  },
  {
   "cell_type": "code",
   "execution_count": 2,
   "metadata": {},
   "outputs": [],
   "source": [
    "%%sh\n",
    "rm -rf '../data/test'"
   ]
  },
  {
   "cell_type": "code",
   "execution_count": 3,
   "metadata": {},
   "outputs": [],
   "source": [
    "import planetengine"
   ]
  },
  {
   "cell_type": "code",
   "execution_count": 4,
   "metadata": {},
   "outputs": [
    {
     "name": "stdout",
     "output_type": "stream",
     "text": [
      "Making a new frame...\n",
      "Making stamps...\n",
      "Stamps made.\n",
      "Building frame...\n",
      "Making stamps...\n",
      "Stamps made.\n",
      "Loading interior frames...\n",
      "Loaded 0 interior frames.\n",
      "Fitted 1 variables to the figure.\n",
      "Initialising...\n",
      "Initialisation complete!\n",
      "Frame built!\n",
      "Frame made.\n"
     ]
    }
   ],
   "source": [
    "model = planetengine.frame.make_frame(\n",
    "    planetengine.systems.isovisc.build(res = 16, Ra = 1e4),\n",
    "    {'temperatureField': planetengine.initials.sinusoidal.IC()},\n",
    "    outputPath = '../data/test'\n",
    "    )"
   ]
  },
  {
   "cell_type": "code",
   "execution_count": 5,
   "metadata": {},
   "outputs": [
    {
     "data": {
      "text/plain": [
       "'pemod_floorer-furred'"
      ]
     },
     "execution_count": 5,
     "metadata": {},
     "output_type": "execute_result"
    }
   ],
   "source": [
    "model.instanceID"
   ]
  },
  {
   "cell_type": "code",
   "execution_count": 6,
   "metadata": {},
   "outputs": [
    {
     "data": {
      "text/plain": [
       "[('allstamp', '99bc5444e46a19e450993d220a467acc'),\n",
       " ('configs', '46397b1881c4d533e9ff559699661a77'),\n",
       " ('initials', '80a68af5144e2456054c205fd0966b2c'),\n",
       " ('initialscripts', '7103b20727b88e4773f1f644030df042'),\n",
       " ('options', '45f8f2c0325e2a6b9f6b64e7de592579'),\n",
       " ('params', '7e3692da60a21d6fc6651ba551f7f325'),\n",
       " ('system', '33b2db75e1b8bdca04258eefcfe8dee3'),\n",
       " ('systemscripts', 'b10e6c10b2db4c7068c0f427ce65876a')]"
      ]
     },
     "execution_count": 6,
     "metadata": {},
     "output_type": "execute_result"
    }
   ],
   "source": [
    "sorted(model.stamps.items())"
   ]
  },
  {
   "cell_type": "code",
   "execution_count": 7,
   "metadata": {},
   "outputs": [
    {
     "name": "stdout",
     "output_type": "stream",
     "text": [
      "Collecting...\n",
      "Collecting complete!\n",
      "No pre-existing directory for this model found. Making a new one...\n",
      "Checkpointing...\n",
      "Making checkpoint directory.\n",
      "Saving figures...\n",
      "Figures saved.\n",
      "Saving vars of state...\n",
      "Saving substrate to disk: mesh\n",
      "Saving var to disk: temperatureField\n",
      "Saved.\n",
      "Saving snapshot...\n",
      "Snapshot saved.\n",
      "Saving modeltime...\n",
      "Modeltime saved.\n",
      "Saving stamps...\n",
      "Stamps saved.\n",
      "Saving datasets...\n",
      "Datasets saved.\n",
      "Checkpointed!\n",
      "Clearing all data...\n",
      "All data cleared!\n",
      "Archiving...\n",
      "Making a local archive...\n",
      "Deleting model directory...\n",
      "Model directory deleted.\n",
      "Archived!\n",
      "Making a backup...\n",
      "Forking model to new directory...\n",
      "Model forked to directory: ../data/test/backup\n",
      "Backup saved.\n"
     ]
    }
   ],
   "source": [
    "model.checkpoint()"
   ]
  },
  {
   "cell_type": "code",
   "execution_count": 8,
   "metadata": {},
   "outputs": [
    {
     "data": {
      "text/plain": [
       "'7f641a14d28794122443f8a5184f9301'"
      ]
     },
     "execution_count": 8,
     "metadata": {},
     "output_type": "execute_result"
    }
   ],
   "source": [
    "planetengine.utilities.hashstamp('a')"
   ]
  },
  {
   "cell_type": "code",
   "execution_count": 9,
   "metadata": {},
   "outputs": [
    {
     "data": {
      "text/plain": [
       "'7f641a14d28794122443f8a5184f9301'"
      ]
     },
     "execution_count": 9,
     "metadata": {},
     "output_type": "execute_result"
    }
   ],
   "source": [
    "planetengine.utilities.hashstamp('a')"
   ]
  }
 ],
 "metadata": {
  "kernelspec": {
   "display_name": "Python 3",
   "language": "python",
   "name": "python3"
  },
  "language_info": {
   "codemirror_mode": {
    "name": "ipython",
    "version": 3
   },
   "file_extension": ".py",
   "mimetype": "text/x-python",
   "name": "python",
   "nbconvert_exporter": "python",
   "pygments_lexer": "ipython3",
   "version": "3.5.3"
  }
 },
 "nbformat": 4,
 "nbformat_minor": 2
}
