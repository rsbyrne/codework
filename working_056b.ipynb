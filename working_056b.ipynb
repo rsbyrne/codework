{
 "cells": [
  {
   "cell_type": "code",
   "execution_count": 1,
   "metadata": {},
   "outputs": [],
   "source": [
    "import sys\n",
    "workPath = '/home/jovyan/workspace'\n",
    "if not workPath in sys.path:\n",
    "    sys.path.append(workPath)"
   ]
  },
  {
   "cell_type": "code",
   "execution_count": 2,
   "metadata": {},
   "outputs": [],
   "source": [
    "import planetengine"
   ]
  },
  {
   "cell_type": "code",
   "execution_count": 3,
   "metadata": {},
   "outputs": [
    {
     "name": "stdout",
     "output_type": "stream",
     "text": [
      "Fitted 1 variables to the figure.\n"
     ]
    }
   ],
   "source": [
    "system = planetengine.tests.testsystems.get_system()"
   ]
  },
  {
   "cell_type": "code",
   "execution_count": 4,
   "metadata": {},
   "outputs": [],
   "source": [
    "outputPath = planetengine.paths.make_testdir()"
   ]
  },
  {
   "cell_type": "code",
   "execution_count": 5,
   "metadata": {},
   "outputs": [
    {
     "name": "stdout",
     "output_type": "stream",
     "text": [
      "Making a new frame...\n",
      "Building model...\n",
      "Initialising...\n",
      "Initialisation complete!\n",
      "Frame built!\n"
     ]
    }
   ],
   "source": [
    "frame = planetengine.model.make_model(system, outputPath = outputPath)"
   ]
  },
  {
   "cell_type": "code",
   "execution_count": 6,
   "metadata": {},
   "outputs": [],
   "source": [
    "observer = planetengine.observers.standard.build()"
   ]
  },
  {
   "cell_type": "code",
   "execution_count": 7,
   "metadata": {},
   "outputs": [
    {
     "name": "stdout",
     "output_type": "stream",
     "text": [
      "Fitted 2 variables to the figure.\n"
     ]
    }
   ],
   "source": [
    "observer.attach(frame)"
   ]
  },
  {
   "cell_type": "code",
   "execution_count": 8,
   "metadata": {},
   "outputs": [
    {
     "data": {
      "text/plain": [
       "<planetengine.observers.standard.Standard at 0x7f20d65fd048>"
      ]
     },
     "execution_count": 8,
     "metadata": {},
     "output_type": "execute_result"
    }
   ],
   "source": [
    "frame.observers['standard']"
   ]
  },
  {
   "cell_type": "code",
   "execution_count": 9,
   "metadata": {},
   "outputs": [
    {
     "name": "stdout",
     "output_type": "stream",
     "text": [
      "Collecting...\n",
      "Collecting complete!\n",
      "Attempting to checkpoint...\n",
      "Bananas! 0\n",
      "Apricots! /home/jovyan/workspace/out/test/pemod_incredible-stentorianly\n",
      "Checking for pre-existing frame on disk...\n",
      "No pre-existing directory for this model found. Making a new one...\n",
      "Checkpointing...\n",
      "Making checkpoint directory.\n",
      "Saving figures...\n",
      "Figures saved.\n",
      "Saving vars of state...\n",
      "Saving substrate to disk: mesh\n",
      "Saving var to disk: temperatureField\n",
      "Saved.\n",
      "Saving snapshot...\n",
      "Snapshot saved.\n",
      "Saving datasets...\n",
      "Datasets saved.\n",
      "Checkpointed!\n",
      "Observer prompted.\n",
      "Observer collecting...\n",
      "Observer collected.\n",
      "Observer checkpointing...\n",
      "Mangoes! /home/jovyan/workspace/out/test/pemod_incredible-stentorianly\n",
      "Attempting to checkpoint...\n",
      "Bananas! 0\n",
      "Apricots! /home/jovyan/workspace/out/test/pemod_incredible-stentorianly/peobs_jaguarao-lieger\n",
      "Checking for pre-existing frame on disk...\n",
      "No pre-existing directory for this model found. Making a new one...\n",
      "Checkpointing...\n",
      "Making checkpoint directory.\n",
      "Saving figures...\n",
      "Figures saved.\n",
      "Saving vars of state...\n",
      "Saving substrate to disk: mesh\n",
      "Saving var to disk: stress\n",
      "Saving var to disk: velocity\n",
      "Saved.\n",
      "Saving snapshot...\n",
      "Snapshot saved.\n",
      "Saving datasets...\n",
      "Datasets saved.\n",
      "Checkpointed!\n",
      "Observer checkpointed.\n",
      "Making a local archive...\n",
      "Archiving...\n",
      "Archived!\n",
      "Making a backup...\n",
      "Forking model to new directory...\n",
      "Model forked to directory: /home/jovyan/workspace/out/test/backup\n",
      "Backup saved.\n"
     ]
    }
   ],
   "source": [
    "frame.checkpoint()"
   ]
  },
  {
   "cell_type": "code",
   "execution_count": 10,
   "metadata": {},
   "outputs": [
    {
     "name": "stdout",
     "output_type": "stream",
     "text": [
      "Iterating step 0 ...\n",
      "Observer prompted.\n",
      "Iteration complete!\n"
     ]
    }
   ],
   "source": [
    "frame.iterate()"
   ]
  },
  {
   "cell_type": "code",
   "execution_count": 11,
   "metadata": {},
   "outputs": [
    {
     "name": "stdout",
     "output_type": "stream",
     "text": [
      "Collecting...\n",
      "Collecting complete!\n",
      "Unarchiving the local archive...\n",
      "Tar found - unarchiving...\n",
      "Unarchived.\n",
      "Unarchived!\n",
      "Attempting to checkpoint...\n",
      "Bananas! 1\n",
      "Apricots! /home/jovyan/workspace/out/test/pemod_incredible-stentorianly\n",
      "Checking for pre-existing frame on disk...\n",
      "Pre-existing directory for this model has been found. Continuing...\n",
      "Checkpointing...\n",
      "Making checkpoint directory.\n",
      "Saving figures...\n",
      "Figures saved.\n",
      "Saving vars of state...\n",
      "Saving substrate to disk: mesh\n",
      "Saving var to disk: temperatureField\n",
      "Saved.\n",
      "Saving snapshot...\n",
      "Snapshot saved.\n",
      "Saving datasets...\n",
      "Datasets saved.\n",
      "Checkpointed!\n",
      "Observer prompted.\n",
      "Observer checkpointing...\n",
      "Mangoes! /home/jovyan/workspace/out/test/pemod_incredible-stentorianly\n",
      "Attempting to checkpoint...\n",
      "Bananas! 1\n",
      "Apricots! /home/jovyan/workspace/out/test/pemod_incredible-stentorianly/peobs_jaguarao-lieger\n",
      "Checking for pre-existing frame on disk...\n",
      "Pre-existing directory for this model has been found. Continuing...\n",
      "Checkpointing...\n",
      "Making checkpoint directory.\n",
      "Saving figures...\n",
      "Figures saved.\n",
      "Saving vars of state...\n",
      "Saving substrate to disk: mesh\n",
      "Saving var to disk: stress\n",
      "Saving var to disk: velocity\n",
      "Saved.\n",
      "Saving snapshot...\n",
      "Snapshot saved.\n",
      "Saving datasets...\n",
      "Datasets saved.\n",
      "Checkpointed!\n",
      "Observer checkpointed.\n",
      "Making a local archive...\n",
      "Archiving...\n",
      "Archived!\n",
      "Making a backup...\n",
      "Forking model to new directory...\n",
      "Model forked to directory: /home/jovyan/workspace/out/test/backup\n",
      "Backup saved.\n"
     ]
    }
   ],
   "source": [
    "frame.checkpoint()"
   ]
  },
  {
   "cell_type": "code",
   "execution_count": 12,
   "metadata": {},
   "outputs": [
    {
     "name": "stdout",
     "output_type": "stream",
     "text": [
      "Preexisting model found! Loading...\n",
      "Tar found - unarchiving...\n",
      "Unarchived.\n",
      "Fitted 1 variables to the figure.\n",
      "Building model...\n",
      "Initialising...\n",
      "Initialisation complete!\n",
      "Found checkpoint: 00000000\n",
      "Found checkpoint: 00000001\n",
      "Frame built!\n",
      "Fitted 1 variables to the figure.\n",
      "Fitted 2 variables to the figure.\n",
      "Making a local archive...\n",
      "Archiving...\n",
      "Archived!\n"
     ]
    }
   ],
   "source": [
    "frame2 = planetengine.model.make_model(system, outputPath = outputPath)"
   ]
  },
  {
   "cell_type": "code",
   "execution_count": 13,
   "metadata": {},
   "outputs": [
    {
     "name": "stdout",
     "output_type": "stream",
     "text": [
      "Loading checkpoint...\n",
      "Unarchiving the local archive...\n",
      "Tar found - unarchiving...\n",
      "Unarchived.\n",
      "Unarchived!\n",
      "Loading substrate from disk: mesh\n",
      "Loading var from disk: temperatureField\n",
      "Updating...\n",
      "Updated.\n",
      "Making a local archive...\n",
      "Archiving...\n",
      "Archived!\n",
      "Checkpoint successfully loaded!\n"
     ]
    }
   ],
   "source": [
    "frame2.load_checkpoint(1)"
   ]
  },
  {
   "cell_type": "code",
   "execution_count": 14,
   "metadata": {},
   "outputs": [
    {
     "name": "stdout",
     "output_type": "stream",
     "text": [
      "Iterating step 1 ...\n",
      "Observer prompted.\n",
      "Iteration complete!\n"
     ]
    }
   ],
   "source": [
    "frame2.iterate()"
   ]
  },
  {
   "cell_type": "code",
   "execution_count": 15,
   "metadata": {},
   "outputs": [
    {
     "name": "stdout",
     "output_type": "stream",
     "text": [
      "Collecting...\n",
      "Collecting complete!\n",
      "Unarchiving the local archive...\n",
      "Tar found - unarchiving...\n",
      "Unarchived.\n",
      "Unarchived!\n",
      "Attempting to checkpoint...\n",
      "Bananas! 2\n",
      "Apricots! /home/jovyan/workspace/out/test/pemod_incredible-stentorianly\n",
      "Checking for pre-existing frame on disk...\n",
      "Pre-existing directory for this model has been found. Continuing...\n",
      "Checkpointing...\n",
      "Making checkpoint directory.\n",
      "Saving figures...\n",
      "Figures saved.\n",
      "Saving vars of state...\n",
      "Saving substrate to disk: mesh\n",
      "Saving var to disk: temperatureField\n",
      "Saved.\n",
      "Saving snapshot...\n",
      "Snapshot saved.\n",
      "Saving datasets...\n",
      "Datasets saved.\n",
      "Checkpointed!\n",
      "Observer prompted.\n",
      "Observer checkpointing...\n",
      "Mangoes! /home/jovyan/workspace/out/test/pemod_incredible-stentorianly\n",
      "Attempting to checkpoint...\n",
      "Bananas! 2\n",
      "Apricots! /home/jovyan/workspace/out/test/pemod_incredible-stentorianly/peobs_jaguarao-lieger\n",
      "Checking for pre-existing frame on disk...\n",
      "Pre-existing directory for this model has been found. Continuing...\n",
      "Checkpointing...\n",
      "Making checkpoint directory.\n",
      "Saving figures...\n",
      "Figures saved.\n",
      "Saving vars of state...\n",
      "Saving substrate to disk: mesh\n",
      "Saving var to disk: stress\n",
      "Saving var to disk: velocity\n",
      "Saved.\n",
      "Saving snapshot...\n",
      "Snapshot saved.\n",
      "Saving datasets...\n",
      "Datasets saved.\n",
      "Checkpointed!\n",
      "Observer checkpointed.\n",
      "Making a local archive...\n",
      "Archiving...\n",
      "Archived!\n",
      "Making a backup...\n",
      "Forking model to new directory...\n",
      "Model forked to directory: /home/jovyan/workspace/out/test/backup\n",
      "Backup saved.\n"
     ]
    }
   ],
   "source": [
    "frame2.checkpoint()"
   ]
  },
  {
   "cell_type": "code",
   "execution_count": 16,
   "metadata": {},
   "outputs": [
    {
     "name": "stdout",
     "output_type": "stream",
     "text": [
      "Running...\n",
      "Iterating step 2 ...\n",
      "Observer prompted.\n",
      "Iteration complete!\n",
      "Iterating step 3 ...\n",
      "Observer prompted.\n",
      "Iteration complete!\n",
      "Iterating step 4 ...\n",
      "Observer prompted.\n",
      "Iteration complete!\n",
      "Iterating step 5 ...\n",
      "Observer prompted.\n",
      "Iteration complete!\n",
      "Iterating step 6 ...\n",
      "Observer prompted.\n",
      "Iteration complete!\n",
      "Iterating step 7 ...\n",
      "Observer prompted.\n",
      "Iteration complete!\n",
      "Iterating step 8 ...\n",
      "Observer prompted.\n",
      "Iteration complete!\n",
      "Iterating step 9 ...\n",
      "Observer prompted.\n",
      "Observer collecting...\n",
      "Observer collected.\n",
      "Iteration complete!\n",
      "Iterating step 10 ...\n",
      "Observer prompted.\n",
      "Iteration complete!\n",
      "Iterating step 11 ...\n",
      "Observer prompted.\n",
      "Iteration complete!\n",
      "Iterating step 12 ...\n",
      "Observer prompted.\n",
      "Iteration complete!\n",
      "Iterating step 13 ...\n",
      "Observer prompted.\n",
      "Iteration complete!\n",
      "Iterating step 14 ...\n",
      "Observer prompted.\n",
      "Iteration complete!\n",
      "Iterating step 15 ...\n",
      "Observer prompted.\n",
      "Iteration complete!\n",
      "Iterating step 16 ...\n",
      "Observer prompted.\n",
      "Iteration complete!\n",
      "Done!\n"
     ]
    }
   ],
   "source": [
    "frame2.go(15)"
   ]
  },
  {
   "cell_type": "code",
   "execution_count": 17,
   "metadata": {
    "scrolled": true
   },
   "outputs": [
    {
     "name": "stdout",
     "output_type": "stream",
     "text": [
      "Collecting...\n",
      "Collecting complete!\n",
      "Unarchiving the local archive...\n",
      "Tar found - unarchiving...\n",
      "Unarchived.\n",
      "Unarchived!\n",
      "Attempting to checkpoint...\n",
      "Bananas! 17\n",
      "Apricots! /home/jovyan/workspace/out/test/pemod_incredible-stentorianly\n",
      "Checking for pre-existing frame on disk...\n",
      "Pre-existing directory for this model has been found. Continuing...\n",
      "Checkpointing...\n",
      "Making checkpoint directory.\n",
      "Saving figures...\n",
      "Figures saved.\n",
      "Saving vars of state...\n",
      "Saving substrate to disk: mesh\n",
      "Saving var to disk: temperatureField\n",
      "Saved.\n",
      "Saving snapshot...\n",
      "Snapshot saved.\n",
      "Saving datasets...\n",
      "Datasets saved.\n",
      "Checkpointed!\n",
      "Observer prompted.\n",
      "Observer checkpointing...\n",
      "Mangoes! /home/jovyan/workspace/out/test/pemod_incredible-stentorianly\n",
      "Attempting to checkpoint...\n",
      "Bananas! 17\n",
      "Apricots! /home/jovyan/workspace/out/test/pemod_incredible-stentorianly/peobs_jaguarao-lieger\n",
      "Checking for pre-existing frame on disk...\n",
      "Pre-existing directory for this model has been found. Continuing...\n",
      "Checkpointing...\n",
      "Making checkpoint directory.\n",
      "Saving figures...\n",
      "Figures saved.\n",
      "Saving vars of state...\n",
      "Saving substrate to disk: mesh\n",
      "Saving var to disk: stress\n",
      "Saving var to disk: velocity\n",
      "Saved.\n",
      "Saving snapshot...\n",
      "Snapshot saved.\n",
      "Saving datasets...\n",
      "Datasets saved.\n",
      "Checkpointed!\n",
      "Observer checkpointed.\n",
      "Making a local archive...\n",
      "Archiving...\n",
      "Archived!\n",
      "Making a backup...\n",
      "Forking model to new directory...\n",
      "Model forked to directory: /home/jovyan/workspace/out/test/backup\n",
      "Backup saved.\n"
     ]
    }
   ],
   "source": [
    "frame2.checkpoint()"
   ]
  },
  {
   "cell_type": "code",
   "execution_count": 18,
   "metadata": {},
   "outputs": [
    {
     "name": "stdout",
     "output_type": "stream",
     "text": [
      "Unarchiving the local archive...\n",
      "Tar found - unarchiving...\n",
      "Unarchived.\n",
      "Unarchived!\n"
     ]
    }
   ],
   "source": [
    "frame2.unarchive()"
   ]
  },
  {
   "cell_type": "code",
   "execution_count": 19,
   "metadata": {
    "scrolled": true
   },
   "outputs": [
    {
     "name": "stdout",
     "output_type": "stream",
     "text": [
      "Collecting...\n",
      "Collecting complete!\n",
      "Checkpoint already exists! Skipping.\n",
      "Observer prompted.\n",
      "Observer checkpointing...\n",
      "Mangoes! /home/jovyan/workspace/out/test/pemod_incredible-stentorianly\n",
      "Attempting to checkpoint...\n",
      "Bananas! 17\n",
      "Apricots! /home/jovyan/workspace/out/test/pemod_incredible-stentorianly/peobs_jaguarao-lieger\n",
      "Checking for pre-existing frame on disk...\n",
      "Pre-existing directory for this model has been found. Continuing...\n",
      "Checkpointing...\n",
      "Checkpoint directory found: removing\n",
      "Making checkpoint directory.\n",
      "Saving figures...\n",
      "Figures saved.\n",
      "Saving vars of state...\n",
      "Saving substrate to disk: mesh\n",
      "Saving var to disk: stress\n",
      "Saving var to disk: velocity\n",
      "Saved.\n",
      "Saving snapshot...\n",
      "Snapshot saved.\n",
      "Saving datasets...\n",
      "Datasets saved.\n",
      "Checkpointed!\n",
      "Observer checkpointed.\n",
      "Making a backup...\n",
      "Forking model to new directory...\n",
      "Model forked to directory: /home/jovyan/workspace/out/test/backuppemod_incredible-stentorianly\n",
      "Backup saved.\n"
     ]
    }
   ],
   "source": [
    "frame2.checkpoint()"
   ]
  },
  {
   "cell_type": "code",
   "execution_count": 21,
   "metadata": {
    "scrolled": true
   },
   "outputs": [
    {
     "name": "stdout",
     "output_type": "stream",
     "text": [
      "Collecting...\n",
      "Collecting complete!\n",
      "Checkpoint already exists! Skipping.\n",
      "Observer prompted.\n",
      "Observer checkpointing...\n",
      "Mangoes! /home/jovyan/workspace/out/test/pemod_incredible-stentorianly\n",
      "Attempting to checkpoint...\n",
      "Bananas! 17\n",
      "Apricots! /home/jovyan/workspace/out/test/pemod_incredible-stentorianly/peobs_jaguarao-lieger\n",
      "Checking for pre-existing frame on disk...\n",
      "Pre-existing directory for this model has been found. Continuing...\n",
      "Checkpointing...\n",
      "Checkpoint directory found: removing\n",
      "Making checkpoint directory.\n",
      "Saving figures...\n",
      "Figures saved.\n",
      "Saving vars of state...\n",
      "Saving substrate to disk: mesh\n",
      "Saving var to disk: stress\n",
      "Saving var to disk: velocity\n",
      "Saved.\n",
      "Saving snapshot...\n",
      "Snapshot saved.\n",
      "Saving datasets...\n",
      "Datasets saved.\n",
      "Checkpointed!\n",
      "Observer checkpointed.\n",
      "Making a backup...\n",
      "Forking model to new directory...\n",
      "Model forked to directory: /home/jovyan/workspace/out/test/backuppemod_incredible-stentorianly\n",
      "Backup saved.\n"
     ]
    }
   ],
   "source": [
    "frame2.checkpoint()"
   ]
  },
  {
   "cell_type": "code",
   "execution_count": 22,
   "metadata": {
    "scrolled": true
   },
   "outputs": [
    {
     "name": "stdout",
     "output_type": "stream",
     "text": [
      "Collecting...\n",
      "Collecting complete!\n",
      "Checkpoint already exists! Skipping.\n",
      "Observer prompted.\n",
      "Observer checkpointing...\n",
      "Mangoes! /home/jovyan/workspace/out/test/pemod_incredible-stentorianly\n",
      "Attempting to checkpoint...\n",
      "Bananas! 1\n",
      "Apricots! /home/jovyan/workspace/out/test/pemod_incredible-stentorianly/peobs_jaguarao-lieger\n",
      "Checking for pre-existing frame on disk...\n",
      "Pre-existing directory for this model has been found. Continuing...\n",
      "Checkpointing...\n",
      "Checkpoint directory found: removing\n",
      "Making checkpoint directory.\n",
      "Saving figures...\n",
      "Figures saved.\n",
      "Saving vars of state...\n",
      "Saving substrate to disk: mesh\n",
      "Saving var to disk: stress\n",
      "Saving var to disk: velocity\n",
      "Saved.\n",
      "Saving snapshot...\n",
      "Snapshot saved.\n",
      "Saving datasets...\n",
      "Datasets saved.\n",
      "Checkpointed!\n",
      "Observer checkpointed.\n",
      "Making a backup...\n",
      "Forking model to new directory...\n",
      "Model forked to directory: /home/jovyan/workspace/out/test/backuppemod_incredible-stentorianly\n",
      "Backup saved.\n"
     ]
    }
   ],
   "source": [
    "frame.checkpoint()"
   ]
  }
 ],
 "metadata": {
  "kernelspec": {
   "display_name": "Python 3",
   "language": "python",
   "name": "python3"
  },
  "language_info": {
   "codemirror_mode": {
    "name": "ipython",
    "version": 3
   },
   "file_extension": ".py",
   "mimetype": "text/x-python",
   "name": "python",
   "nbconvert_exporter": "python",
   "pygments_lexer": "ipython3",
   "version": "3.5.3"
  }
 },
 "nbformat": 4,
 "nbformat_minor": 2
}
