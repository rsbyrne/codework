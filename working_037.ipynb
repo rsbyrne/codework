{
 "cells": [
  {
   "cell_type": "code",
   "execution_count": 2,
   "metadata": {},
   "outputs": [],
   "source": [
    "import sys\n",
    "sys.path.append('/home/jovyan/workspace')"
   ]
  },
  {
   "cell_type": "code",
   "execution_count": null,
   "metadata": {},
   "outputs": [],
   "source": []
  },
  {
   "cell_type": "code",
   "execution_count": null,
   "metadata": {},
   "outputs": [],
   "source": [
    "#     if return_dict:\n",
    "#         outDict = {\n",
    "#             'var': var,\n",
    "#             'varType': varType,\n",
    "#             'mesh': mesh,\n",
    "#             'substrate': substrate,\n",
    "#             'dType': dType,\n",
    "#             'varDim': varDim\n",
    "#             }\n",
    "#         return outDict"
   ]
  },
  {
   "cell_type": "markdown",
   "metadata": {},
   "source": [
    "## Development"
   ]
  },
  {
   "cell_type": "code",
   "execution_count": 3,
   "metadata": {},
   "outputs": [],
   "source": [
    "import numpy as np\n",
    "import underworld as uw\n",
    "from underworld import function as fn\n",
    "import math\n",
    "import time\n",
    "import tarfile\n",
    "import os\n",
    "import shutil\n",
    "import json\n",
    "import itertools\n",
    "import inspect\n",
    "import importlib\n",
    "import csv\n",
    "\n",
    "# from . import utilities\n",
    "# from .standards import standardise\n",
    "# from .utilities import message\n",
    "# from .utilities import unpack_var\n",
    "\n",
    "from planetengine import utilities\n",
    "from planetengine import standardise\n",
    "from planetengine import message\n",
    "from planetengine import initials\n",
    "from planetengine import unpack_var\n",
    "from planetengine import mapping\n",
    "\n",
    "from mpi4py import MPI\n",
    "comm = MPI.COMM_WORLD\n",
    "rank = comm.Get_rank()\n",
    "nProcs = comm.Get_size()"
   ]
  },
  {
   "cell_type": "code",
   "execution_count": 67,
   "metadata": {},
   "outputs": [],
   "source": [
    "ignoreVal = 0.4431257522991823\n",
    "\n",
    "def _return(outVar, opTag, opTags, updateFunc, updateFuncs):\n",
    "    if opTags is None:\n",
    "        opTags = ''\n",
    "    opTags += opTag\n",
    "    if updateFuncs is None:\n",
    "        updateFuncs = []\n",
    "    updateFuncs.append(updateFunc)\n",
    "    return outVar, opTags, updateFuncs\n",
    "\n",
    "def operations(operation, var, opTags = None, updateFuncs = None):\n",
    "\n",
    "    opDict = {\n",
    "        'abs': fn.math.abs,\n",
    "        'cosh': fn.math.cosh,\n",
    "        'acosh': fn.math.acosh,\n",
    "        'tan': fn.math.tan,\n",
    "        'asin': fn.math.asin,\n",
    "        'log': fn.math.log,\n",
    "        'atanh': fn.math.atanh,\n",
    "        'sqrt': fn.math.sqrt,\n",
    "        'abs': fn.math.abs,\n",
    "        'log10': fn.math.log10,\n",
    "        'sin': fn.math.sin,\n",
    "        'asinh': fn.math.asinh,\n",
    "        'log2': fn.math.log2,\n",
    "        'atan': fn.math.atan,\n",
    "        'sinh': fn.math.sinh,\n",
    "        'cos': fn.math.cos,\n",
    "        'tanh': fn.math.tanh,\n",
    "        'erf': fn.math.erf,\n",
    "        'erfc': fn.math.erfc,\n",
    "        'exp': fn.math.exp,\n",
    "        'acos': fn.math.acos,\n",
    "        'dot': fn.math.dot\n",
    "        }\n",
    "    # ^^^ not all of these will work yet...\n",
    "    if not operation in opDict:\n",
    "        raise Exception\n",
    "\n",
    "    opFn = opDict[operation]\n",
    "    outVar = opFn(var)\n",
    "\n",
    "    opTag = operation + 'Oper'\n",
    "    updateFunc = lambda: None\n",
    "\n",
    "    return _return(outVar, opTag, opTags, updateFunc, updateFuncs)\n",
    "\n",
    "def component(component, var, opTags = None, updateFuncs = None):\n",
    "\n",
    "    varDict = unpack_var(var, return_dict = True)\n",
    "    if not varDict['varDim'] == varDict['mesh'].dim:\n",
    "        # hence is not a vector and so has no components:\n",
    "        raise Exception\n",
    "    if component == 'mag':\n",
    "        outVar = fn.math.sqrt(fn.math.dot(var, var))\n",
    "    else:\n",
    "        pemesh = standardise(varDict['mesh'])\n",
    "        outVar = fn.math.dot(var, pemesh.comps[component])\n",
    "\n",
    "    opTag = component + 'Comp'\n",
    "    updateFunc = lambda: None\n",
    "\n",
    "    return _return(outVar, opTag, opTags, updateFunc, updateFuncs)\n",
    "\n",
    "def gradient(gradient, var, opTags = None, updateFuncs = None):\n",
    "\n",
    "    varDict = unpack_var(var, return_dict = True)\n",
    "    pemesh = standardise(varDict['mesh'])\n",
    "    projVar, project = pemesh.meshify(\n",
    "        var,\n",
    "        return_project = True\n",
    "        )\n",
    "    varGrad = projVar.fn_gradient\n",
    "    if gradient == 'mag':\n",
    "        outVar = fn.math.sqrt(fn.math.dot(varGrad, varGrad))\n",
    "    else:\n",
    "        outVar = fn.math.dot(varGrad, pemesh.comps[gradient])\n",
    "    project()\n",
    "\n",
    "    opTag = gradient + 'Grad'\n",
    "    updateFunc = project\n",
    "\n",
    "    return _return(outVar, opTag, opTags, updateFunc, updateFuncs)\n",
    "\n",
    "def bucket(bucket, var, opTags = None, updateFuncs = None):\n",
    "\n",
    "    if type(bucket) is tuple:\n",
    "        adjBucket = []\n",
    "        for val in bucket:\n",
    "            if type(val) is str:\n",
    "                if val == 'max':\n",
    "                    addVal = 1e18\n",
    "                elif val == 'min':\n",
    "                    addVal = 1e-18\n",
    "                else:\n",
    "                    raise Exception\n",
    "            else:\n",
    "                addVal = val\n",
    "            adjBucket.append(addVal)\n",
    "        bucketStr = str(bucket[0]) + ':' + str(bucket[1])\n",
    "    else:\n",
    "        adjBucket = (bucket - 1e-18, bucket + 1e-18)\n",
    "        bucketStr = str(bucket)\n",
    "\n",
    "    outVar = fn.branching.conditional([\n",
    "        (var < adjBucket[0], 0.),\n",
    "        (var > adjBucket[1], 0.), # double-open interval - is this a problem?\n",
    "        (True, 1.),\n",
    "        ])\n",
    "\n",
    "    opTag = 'Bucket{' + bucketStr + '}'\n",
    "    updateFunc = lambda: None\n",
    "\n",
    "    return _return(outVar, opTag, opTags, updateFunc, updateFuncs)\n",
    "\n",
    "def quantile(ntiles, nthtile, var, opTags = None, updateFuncs = None):\n",
    "\n",
    "    if not (type(ntiles) is int and type(nthtile) is int):\n",
    "        raise Exception\n",
    "\n",
    "    lowerBound = fn.misc.constant(0.)\n",
    "    upperBound = fn.misc.constant(0.)\n",
    "\n",
    "    def update_bounds():\n",
    "        var_scales = utilities.get_scales(var)\n",
    "        var_ranges = np.array(\n",
    "            [maxVal - minVal for minVal, maxVal in var_scales]\n",
    "            )\n",
    "        intervalSize = var_ranges / ntiles\n",
    "        lowerBound.value = var_scales[:,0] + intervalSize * (nthtile - 1)\n",
    "        upperBound.value = var_scales[:,0] + intervalSize * (nthtile)\n",
    "\n",
    "    update_bounds()\n",
    "\n",
    "    l_adj = -1e-18\n",
    "    if nthtile == ntiles:\n",
    "        u_adj = -1e-18\n",
    "    else:\n",
    "        u_adj = 1e-18\n",
    "    outVar = fn.branching.conditional([\n",
    "        (var < lowerBound + l_adj, 0.),\n",
    "        (var > upperBound + u_adj, 0.),\n",
    "        (True, var),\n",
    "        ])\n",
    "\n",
    "    quantileStr = str(nthtile) + 'of' + str(ntiles)\n",
    "    opTag = 'Quantile{' + quantileStr + '}'\n",
    "    updateFunc = update_bounds\n",
    "\n",
    "    return _return(outVar, opTag, opTags, updateFunc, updateFuncs)\n",
    "\n",
    "def mask(maskVal, var, opTags = None, updateFuncs = None):\n",
    "\n",
    "    outVar = fn.branching.conditional([\n",
    "        (var == maskVal, 0.),\n",
    "        (True, 1.),\n",
    "        ])\n",
    "\n",
    "    opTag = 'Mask{' + str(maskVal) + '}'\n",
    "    updateFunc = lambda: None\n",
    "\n",
    "    return _return(outVar, opTag, opTags, updateFunc, updateFuncs)\n",
    "\n",
    "def region(region_name, shape, var, opTags = None, updateFuncs = None, box = True):\n",
    "\n",
    "    if box:\n",
    "        varDict = unpack_var(var, return_dict = True)\n",
    "        shape = mapping.unbox(varDict['mesh'], shape)\n",
    "\n",
    "    polygon = fn.shape.Polygon(shape)\n",
    "    outVar = fn.branching.conditional([\n",
    "        (polygon, var),\n",
    "        (True, var * 0.),\n",
    "        ])\n",
    "\n",
    "    opTag = 'Region{' + region_name + '}'\n",
    "    updateFunc = lambda: None\n",
    "\n",
    "    return _return(outVar, opTag, opTags, updateFunc, updateFuncs)"
   ]
  },
  {
   "cell_type": "markdown",
   "metadata": {},
   "source": [
    "## Testing"
   ]
  },
  {
   "cell_type": "code",
   "execution_count": 5,
   "metadata": {},
   "outputs": [],
   "source": [
    "from modelscripts import arrhenius\n",
    "from planetengine import quickShow\n",
    "import planetengine"
   ]
  },
  {
   "cell_type": "code",
   "execution_count": 6,
   "metadata": {},
   "outputs": [],
   "source": [
    "system = arrhenius.build(res = 64, Ra = 1e4, f = 0.5, eta0 = 3e4)\n",
    "initials.apply(\n",
    "    {'temperatureField': initials.sinusoidal.IC(freq = 1.)},\n",
    "    system,\n",
    "    )\n",
    "system.solve()"
   ]
  },
  {
   "cell_type": "code",
   "execution_count": null,
   "metadata": {},
   "outputs": [],
   "source": [
    "# anFunc = F.quantile(5, 5, *F.gradient('rad', *F.component('ang', var)))[0]\n",
    "# anFunc = F.component('rad', var)[0]\n",
    "# anFunc = F.gradient('rad', var)[0]\n",
    "# anFunc = F.gradient('rad', *F.component('rad', var))[0]\n",
    "# anFunc = F.quantile(5, 4, system.temperatureField)[0]\n"
   ]
  },
  {
   "cell_type": "code",
   "execution_count": 64,
   "metadata": {},
   "outputs": [],
   "source": [
    "var = system.temperatureField\n",
    "shape = np.array([[0.2, 0.3], [0.5, 0.7], [0.8, 0.4]])\n",
    "# anFunc = region('test', shape, var)[0]\n",
    "anFunc = quantile(5, 1, *region('test', shape, var))[0]"
   ]
  },
  {
   "cell_type": "code",
   "execution_count": 65,
   "metadata": {},
   "outputs": [
    {
     "data": {
      "text/plain": [
       "<underworld.function.branching.conditional at 0x7f94c5131cc0>"
      ]
     },
     "execution_count": 65,
     "metadata": {},
     "output_type": "execute_result"
    }
   ],
   "source": [
    "anFunc"
   ]
  },
  {
   "cell_type": "code",
   "execution_count": 66,
   "metadata": {},
   "outputs": [
    {
     "name": "stdout",
     "output_type": "stream",
     "text": [
      "No underlying change detected:                 skipping projection.\n",
      "Fitted 1 variables to the figure.\n",
      "No underlying change detected:                 skipping projection.\n"
     ]
    },
    {
     "data": {
      "text/html": [
       "<img src='data:image/png;base64,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'>"
      ],
      "text/plain": [
       "<IPython.core.display.HTML object>"
      ]
     },
     "metadata": {},
     "output_type": "display_data"
    }
   ],
   "source": [
    "quickShow(anFunc)"
   ]
  },
  {
   "cell_type": "code",
   "execution_count": 71,
   "metadata": {},
   "outputs": [
    {
     "data": {
      "text/plain": [
       "array([[ True],\n",
       "       [ True],\n",
       "       [ True],\n",
       "       ..., \n",
       "       [False],\n",
       "       [False],\n",
       "       [False]], dtype=bool)"
      ]
     },
     "execution_count": 71,
     "metadata": {},
     "output_type": "execute_result"
    }
   ],
   "source": [
    "fn.branching.conditional([\n",
    "    (system.temperatureField > 0.5, True),\n",
    "    (True, False)\n",
    "    ]).evaluate(system.mesh)"
   ]
  },
  {
   "cell_type": "code",
   "execution_count": null,
   "metadata": {},
   "outputs": [],
   "source": []
  }
 ],
 "metadata": {
  "kernelspec": {
   "display_name": "Python 3",
   "language": "python",
   "name": "python3"
  },
  "language_info": {
   "codemirror_mode": {
    "name": "ipython",
    "version": 3
   },
   "file_extension": ".py",
   "mimetype": "text/x-python",
   "name": "python",
   "nbconvert_exporter": "python",
   "pygments_lexer": "ipython3",
   "version": "3.5.3"
  }
 },
 "nbformat": 4,
 "nbformat_minor": 2
}
