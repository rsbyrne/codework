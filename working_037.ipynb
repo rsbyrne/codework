{
 "cells": [
  {
   "cell_type": "code",
   "execution_count": 5,
   "metadata": {},
   "outputs": [],
   "source": [
    "import sys\n",
    "sys.path.append('/home/jovyan/workspace')"
   ]
  },
  {
   "cell_type": "markdown",
   "metadata": {},
   "source": [
    "## Development"
   ]
  },
  {
   "cell_type": "code",
   "execution_count": 6,
   "metadata": {},
   "outputs": [],
   "source": [
    "import numpy as np\n",
    "import underworld as uw\n",
    "from underworld import function as fn\n",
    "import math\n",
    "import time\n",
    "import tarfile\n",
    "import os\n",
    "import shutil\n",
    "import json\n",
    "import itertools\n",
    "import inspect\n",
    "import importlib\n",
    "import csv\n",
    "\n",
    "# from . import utilities\n",
    "# from .standards import standardise\n",
    "# from .utilities import message\n",
    "# from .utilities import unpack_var\n",
    "\n",
    "from planetengine import utilities\n",
    "from planetengine import standardise\n",
    "from planetengine import message\n",
    "from planetengine import initials\n",
    "from planetengine import unpack_var\n",
    "from planetengine import mapping\n",
    "from planetengine.standards import ignoreVal\n",
    "from planetengine import shapes\n",
    "\n",
    "from mpi4py import MPI\n",
    "comm = MPI.COMM_WORLD\n",
    "rank = comm.Get_rank()\n",
    "nProcs = comm.Get_size()"
   ]
  },
  {
   "cell_type": "code",
   "execution_count": 7,
   "metadata": {},
   "outputs": [],
   "source": [
    "def _return(outVar, opTag, opTags, updateFunc, updateFuncs):\n",
    "    if opTags is None:\n",
    "        opTags = ''\n",
    "    opTags = opTag + '{' + opTags + '}'\n",
    "    if updateFuncs is None:\n",
    "        updateFuncs = []\n",
    "    updateFuncs.append(updateFunc)\n",
    "    return outVar, opTags, updateFuncs\n",
    "\n",
    "def operations(operation, var, opTags = None, updateFuncs = None):\n",
    "\n",
    "    opDict = {\n",
    "        'abs': fn.math.abs,\n",
    "        'cosh': fn.math.cosh,\n",
    "        'acosh': fn.math.acosh,\n",
    "        'tan': fn.math.tan,\n",
    "        'asin': fn.math.asin,\n",
    "        'log': fn.math.log,\n",
    "        'atanh': fn.math.atanh,\n",
    "        'sqrt': fn.math.sqrt,\n",
    "        'abs': fn.math.abs,\n",
    "        'log10': fn.math.log10,\n",
    "        'sin': fn.math.sin,\n",
    "        'asinh': fn.math.asinh,\n",
    "        'log2': fn.math.log2,\n",
    "        'atan': fn.math.atan,\n",
    "        'sinh': fn.math.sinh,\n",
    "        'cos': fn.math.cos,\n",
    "        'tanh': fn.math.tanh,\n",
    "        'erf': fn.math.erf,\n",
    "        'erfc': fn.math.erfc,\n",
    "        'exp': fn.math.exp,\n",
    "        'acos': fn.math.acos,\n",
    "        'dot': fn.math.dot\n",
    "        }\n",
    "    # ^^^ not all of these will work yet...\n",
    "    if not operation in opDict:\n",
    "        raise Exception\n",
    "\n",
    "    opFn = opDict[operation]\n",
    "    outVar = opFn(var)\n",
    "\n",
    "    opTag = 'Operation_' + operation\n",
    "    updateFunc = lambda: None\n",
    "\n",
    "    return _return(outVar, opTag, opTags, updateFunc, updateFuncs)\n",
    "\n",
    "def component(component, var, opTags = None, updateFuncs = None):\n",
    "\n",
    "    varDict = unpack_var(var, return_dict = True)\n",
    "    if not varDict['varDim'] == varDict['mesh'].dim:\n",
    "        # hence is not a vector and so has no components:\n",
    "        raise Exception\n",
    "    if component == 'mag':\n",
    "        outVar = fn.math.sqrt(fn.math.dot(var, var))\n",
    "    else:\n",
    "        pemesh = standardise(varDict['mesh'])\n",
    "        outVar = fn.math.dot(var, pemesh.comps[component])\n",
    "\n",
    "    opTag = 'Component_' + component\n",
    "    updateFunc = lambda: None\n",
    "\n",
    "    return _return(outVar, opTag, opTags, updateFunc, updateFuncs)\n",
    "\n",
    "def gradient(gradient, var, opTags = None, updateFuncs = None):\n",
    "\n",
    "    varDict = unpack_var(var, return_dict = True)\n",
    "    pemesh = standardise(varDict['mesh'])\n",
    "    projection = utilities.make_projector(var)\n",
    "    project = projection.project\n",
    "#     projVar, project = pemesh.meshify(\n",
    "#         var,\n",
    "#         return_project = True\n",
    "#         )\n",
    "    varGrad = projection.fn_gradient\n",
    "    if gradient == 'mag':\n",
    "        outVar = fn.math.sqrt(fn.math.dot(varGrad, varGrad))\n",
    "    else:\n",
    "        outVar = fn.math.dot(varGrad, pemesh.comps[gradient])\n",
    "    project()\n",
    "\n",
    "    opTag = 'Gradient_' + gradient\n",
    "    updateFunc = project\n",
    "\n",
    "    return _return(outVar, opTag, opTags, updateFunc, updateFuncs)\n",
    "\n",
    "def bucket(bucket, var, opTags = None, updateFuncs = None):\n",
    "\n",
    "    if type(bucket) is tuple:\n",
    "        adjBucket = list(bucket)\n",
    "        if bucket[0] == '.':\n",
    "            adjBucket[0] = 1e-18\n",
    "        if bucket[1] == '.':\n",
    "            adjBucket[1] = 1e18\n",
    "        bucketStr = str(bucket[0]) + ':' + str(bucket[1])\n",
    "    else:\n",
    "        adjBucket = (bucket - 1e-18, bucket + 1e-18)\n",
    "        bucketStr = str(bucket)\n",
    "\n",
    "    outVar = fn.branching.conditional([\n",
    "        (var < adjBucket[0], np.nan),\n",
    "        (var > adjBucket[1], np.nan), # double-open interval - is this a problem?\n",
    "        (True, var),\n",
    "        ])\n",
    "\n",
    "    opTag = 'Bucket_' + bucketStr\n",
    "    updateFunc = lambda: None\n",
    "\n",
    "    return _return(outVar, opTag, opTags, updateFunc, updateFuncs)\n",
    "\n",
    "def quantile(ntiles, nthtile, var, opTags = None, updateFuncs = None):\n",
    "\n",
    "    if not (type(ntiles) is int and type(nthtile) is int):\n",
    "        raise Exception\n",
    "\n",
    "    lowerBound = fn.misc.constant(0.)\n",
    "    upperBound = fn.misc.constant(0.)\n",
    "\n",
    "    def update_bounds():\n",
    "        var_scales = utilities.get_scales(var)\n",
    "        var_ranges = np.array(\n",
    "            [maxVal - minVal for minVal, maxVal in var_scales]\n",
    "            )\n",
    "        intervalSize = var_ranges / ntiles\n",
    "        lowerBound.value = var_scales[:,0] + intervalSize * (nthtile - 1)\n",
    "        upperBound.value = var_scales[:,0] + intervalSize * (nthtile)\n",
    "\n",
    "    update_bounds()\n",
    "\n",
    "    l_adj = -1e-18\n",
    "    if nthtile == ntiles:\n",
    "        u_adj = -1e-18\n",
    "    else:\n",
    "        u_adj = 1e-18\n",
    "    outVar = fn.branching.conditional([\n",
    "        (var < lowerBound + l_adj, np.nan),\n",
    "        (var > upperBound + u_adj, np.nan),\n",
    "        (True, var),\n",
    "        ])\n",
    "\n",
    "    quantileStr = str(nthtile) + 'of' + str(ntiles)\n",
    "    opTag = 'Quantile_' + quantileStr\n",
    "    updateFunc = update_bounds\n",
    "\n",
    "    return _return(outVar, opTag, opTags, updateFunc, updateFuncs)\n",
    "\n",
    "def substitute(fromVal, toVal, var, opTags = None, updateFuncs = None):\n",
    "\n",
    "    outVar = fn.branching.conditional([\n",
    "        (fn.math.abs(var - fromVal) < 1e-18, toVal),\n",
    "        (True, var),\n",
    "        ])\n",
    "\n",
    "    opTag = 'Substitute_' + str(fromVal) + ':' + str(toVal)\n",
    "    updateFunc = lambda: None\n",
    "\n",
    "    return _return(outVar, opTag, opTags, updateFunc, updateFuncs)\n",
    "\n",
    "def binarise(var, opTags = None, updateFuncs = None):\n",
    "\n",
    "    outVar = 0. * var + fn.branching.conditional([\n",
    "        (fn.math.abs(var) < 1e-18, 0.),\n",
    "        (True, 1.),\n",
    "        ])\n",
    "\n",
    "    opTag = 'Binarise_'\n",
    "    updateFunc = lambda: None\n",
    "\n",
    "    return _return(outVar, opTag, opTags, updateFunc, updateFuncs)\n",
    "\n",
    "def booleanise(var, opTags = None, updateFuncs = None):\n",
    "\n",
    "    outVar = 0. * var + fn.branching.conditional([\n",
    "        (fn.math.abs(var) < 1e-18, False),\n",
    "        (True, True),\n",
    "        ])\n",
    "\n",
    "    opTag = 'Booleanise_'\n",
    "    updateFunc = lambda: None\n",
    "\n",
    "    return _return(outVar, opTag, opTags, updateFunc, updateFuncs)\n",
    "\n",
    "def handleNaN(var, opTags = None, updateFuncs = None, handleVal = 0.):\n",
    "\n",
    "    outVar = fn.branching.conditional([\n",
    "        (var < np.inf, var),\n",
    "        (True, handleVal),\n",
    "        ])\n",
    "\n",
    "    opTag = 'HandleNaN_' + str(handleVal)\n",
    "    updateFunc = lambda: None\n",
    "\n",
    "    return _return(outVar, opTag, opTags, updateFunc, updateFuncs)\n",
    "\n",
    "def region(region_name, inShape, var, opTags = None, updateFuncs = None):\n",
    "\n",
    "    varDict = unpack_var(var, return_dict = True)\n",
    "    inShape = shapes.interp_shape(inShape)\n",
    "    inShape = mapping.unbox(varDict['mesh'], inShape)\n",
    "\n",
    "    polygon = fn.shape.Polygon(inShape)\n",
    "    outVar = fn.branching.conditional([\n",
    "        (polygon, var),\n",
    "        (True, np.nan),\n",
    "        ])\n",
    "\n",
    "    opTag = 'Region_' + region_name\n",
    "    updateFunc = lambda: None\n",
    "\n",
    "    return _return(outVar, opTag, opTags, updateFunc, updateFuncs)"
   ]
  },
  {
   "cell_type": "markdown",
   "metadata": {},
   "source": [
    "## Testing"
   ]
  },
  {
   "cell_type": "code",
   "execution_count": 8,
   "metadata": {},
   "outputs": [],
   "source": [
    "from modelscripts import arrhenius\n",
    "from planetengine import quickShow\n",
    "import planetengine"
   ]
  },
  {
   "cell_type": "code",
   "execution_count": 9,
   "metadata": {},
   "outputs": [],
   "source": [
    "system = arrhenius.build(res = 64, Ra = 1e4, f = 0.5, aspect = 1., eta0 = 10.)\n",
    "initials.apply(\n",
    "    {'temperatureField': initials.sinusoidal.IC(freq = 1.)},\n",
    "    system,\n",
    "    )\n",
    "system.solve()"
   ]
  },
  {
   "cell_type": "code",
   "execution_count": null,
   "metadata": {},
   "outputs": [],
   "source": [
    "quickShow(system.temperatureField, system.velocityField)"
   ]
  },
  {
   "cell_type": "code",
   "execution_count": null,
   "metadata": {},
   "outputs": [],
   "source": [
    "# key = 'velocityField'\n",
    "# var, name = system.varsOfState[key], key\n",
    "# shape = np.array([[0.2, 0.1], [0.9, 0.3], [0.8, 0.7], [0.4, 0.9]])\n",
    "# shape = shapes.layer(0., 0.3)\n",
    "# shape = shapes.trapezoid()\n",
    "# anFunc, opTag, updates = gradient('rad', var, name)\n",
    "# anFunc, opTag, updates = region('test', shape, var, name)\n",
    "# anFunc, opTag, updates = handleNaN(*region('test', shape, var, name))\n",
    "# anFunc, opTag, updates = binarise(*handleNaN(*region('test', shape, var)))\n",
    "# anFunc, opTag, updates = booleanise(*region('test', shape, var))\n",
    "# anFunc, opTag, updates = handleNaN(*quantile(5, 2, *region('test', shape, var)))"
   ]
  },
  {
   "cell_type": "code",
   "execution_count": null,
   "metadata": {},
   "outputs": [],
   "source": [
    "var, name = system.velocityField, 'velocityField'"
   ]
  },
  {
   "cell_type": "code",
   "execution_count": null,
   "metadata": {},
   "outputs": [],
   "source": [
    "anFunc, opTag, updates = component(\n",
    "    'mag',\n",
    "    var,\n",
    "    name\n",
    "    )\n",
    "print(opTag)\n",
    "quickShow(anFunc)"
   ]
  },
  {
   "cell_type": "code",
   "execution_count": null,
   "metadata": {},
   "outputs": [],
   "source": [
    "shape = np.array([[0.2, 0.1], [0.9, 0.3], [0.8, 0.7], [0.4, 0.9]])\n",
    "anFunc, opTag, updates = region(\n",
    "    'test',\n",
    "    shape,\n",
    "    *component(\n",
    "        'mag',\n",
    "        var,\n",
    "        name\n",
    "        )\n",
    "    )\n",
    "print(opTag)\n",
    "quickShow(anFunc)"
   ]
  },
  {
   "cell_type": "code",
   "execution_count": null,
   "metadata": {},
   "outputs": [],
   "source": [
    "anFunc, opTag, updates = quantile(\n",
    "    3,\n",
    "    3,\n",
    "    *region(\n",
    "        'test',\n",
    "        shape,\n",
    "        *component(\n",
    "            'mag',\n",
    "            var,\n",
    "            name\n",
    "            )\n",
    "        )\n",
    "    )\n",
    "print(opTag)\n",
    "quickShow(anFunc)"
   ]
  },
  {
   "cell_type": "code",
   "execution_count": null,
   "metadata": {},
   "outputs": [],
   "source": [
    "anFunc, opTag, updates = \\\n",
    "    binarise(\n",
    "        *handleNaN(\n",
    "            *quantile(\n",
    "                3,\n",
    "                3,\n",
    "                *region(\n",
    "                    'test',\n",
    "                    shape,\n",
    "                    *component(\n",
    "                        'mag',\n",
    "                        var,\n",
    "                        name\n",
    "                        )\n",
    "                    )\n",
    "                )\n",
    "            )\n",
    "        )\n",
    "print(opTag)\n",
    "quickShow(anFunc)"
   ]
  },
  {
   "cell_type": "code",
   "execution_count": 10,
   "metadata": {},
   "outputs": [],
   "source": [
    "var, name = system.temperatureField, 'temperatureField'"
   ]
  },
  {
   "cell_type": "code",
   "execution_count": 11,
   "metadata": {},
   "outputs": [
    {
     "name": "stdout",
     "output_type": "stream",
     "text": [
      "Bucket_0.3:0.7{temperatureField}\n",
      "Fitted 1 variables to the figure.\n"
     ]
    },
    {
     "data": {
      "text/html": [
       "<img src='data:image/png;base64,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'>"
      ],
      "text/plain": [
       "<IPython.core.display.HTML object>"
      ]
     },
     "metadata": {},
     "output_type": "display_data"
    }
   ],
   "source": [
    "anFunc, opTag, updates = \\\n",
    "    bucket((0.3, 0.7), var, name)\n",
    "print(opTag)\n",
    "quickShow(anFunc)"
   ]
  },
  {
   "cell_type": "code",
   "execution_count": 12,
   "metadata": {},
   "outputs": [
    {
     "name": "stdout",
     "output_type": "stream",
     "text": [
      "Binarise_{HandleNaN_0.0{Bucket_0.6:.{Region_test{temperatureField}}}}\n",
      "Fitted 1 variables to the figure.\n"
     ]
    },
    {
     "data": {
      "text/html": [
       "<img src='data:image/png;base64,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'>"
      ],
      "text/plain": [
       "<IPython.core.display.HTML object>"
      ]
     },
     "metadata": {},
     "output_type": "display_data"
    }
   ],
   "source": [
    "shape = np.array([[0.2, 0.1], [0.9, 0.3], [0.8, 0.7], [0.4, 0.9]])\n",
    "anFunc, opTag, updates = \\\n",
    "    binarise(\n",
    "        *handleNaN(\n",
    "            *bucket(\n",
    "                (0.6, '.'),\n",
    "                *region(\n",
    "                    'test',\n",
    "                    shape,\n",
    "                    var,\n",
    "                    name\n",
    "                    )\n",
    "                )\n",
    "            )\n",
    "        )\n",
    "shapeFunc, shapeTag, shapeUpdates = \\\n",
    "    binarise(\n",
    "        *handleNaN(\n",
    "            *region(\n",
    "                'test',\n",
    "                shape,\n",
    "                var,\n",
    "                name\n",
    "                )\n",
    "            )\n",
    "        )\n",
    "for updateFunc in shapeUpdates:\n",
    "    updateFunc()\n",
    "print(opTag)\n",
    "quickShow(anFunc, shapeFunc)"
   ]
  },
  {
   "cell_type": "code",
   "execution_count": null,
   "metadata": {},
   "outputs": [],
   "source": [
    "utilities.get_valSets(shapeFunc.evaluate(system.mesh))"
   ]
  },
  {
   "cell_type": "code",
   "execution_count": null,
   "metadata": {},
   "outputs": [],
   "source": [
    "np.round(shapeFunc.pevar.meshVar.data)"
   ]
  },
  {
   "cell_type": "code",
   "execution_count": 4,
   "metadata": {},
   "outputs": [
    {
     "data": {
      "text/plain": [
       "True"
      ]
     },
     "execution_count": 4,
     "metadata": {},
     "output_type": "execute_result"
    }
   ],
   "source": [
    "0. in {0}"
   ]
  },
  {
   "cell_type": "code",
   "execution_count": null,
   "metadata": {},
   "outputs": [],
   "source": []
  }
 ],
 "metadata": {
  "kernelspec": {
   "display_name": "Python 3",
   "language": "python",
   "name": "python3"
  },
  "language_info": {
   "codemirror_mode": {
    "name": "ipython",
    "version": 3
   },
   "file_extension": ".py",
   "mimetype": "text/x-python",
   "name": "python",
   "nbconvert_exporter": "python",
   "pygments_lexer": "ipython3",
   "version": "3.5.3"
  }
 },
 "nbformat": 4,
 "nbformat_minor": 2
}
