{
 "cells": [
  {
   "cell_type": "code",
   "execution_count": 1,
   "metadata": {},
   "outputs": [],
   "source": [
    "%%sh\n",
    "umask 0000"
   ]
  },
  {
   "cell_type": "code",
   "execution_count": 2,
   "metadata": {},
   "outputs": [],
   "source": [
    "%%sh\n",
    "rm -rf ../logs"
   ]
  },
  {
   "cell_type": "code",
   "execution_count": 3,
   "metadata": {},
   "outputs": [],
   "source": [
    "import sys\n",
    "import os\n",
    "workPath = os.path.abspath('..')\n",
    "if not workPath in sys.path:\n",
    "    sys.path.append(workPath)"
   ]
  },
  {
   "cell_type": "code",
   "execution_count": 4,
   "metadata": {},
   "outputs": [],
   "source": [
    "name = 'test'\n",
    "outputPath = '..'\n",
    "from everest import mpi\n",
    "import os\n",
    "fullpath = os.path.join(os.path.abspath(outputPath), name) + '.frm'\n",
    "if mpi.rank == 0:\n",
    "    if os.path.exists(fullpath):\n",
    "        os.remove(fullpath)\n",
    "from everest.builts import set_global_anchor\n",
    "set_global_anchor(name, outputPath)\n",
    "from everest.builts import GLOBALREADER as reader"
   ]
  },
  {
   "cell_type": "code",
   "execution_count": 5,
   "metadata": {},
   "outputs": [],
   "source": [
    "from planetengine.systems.isovisc import Isovisc\n",
    "from planetengine.campaign import Campaign"
   ]
  },
  {
   "cell_type": "code",
   "execution_count": 6,
   "metadata": {
    "scrolled": true
   },
   "outputs": [
    {
     "name": "stdout",
     "output_type": "stream",
     "text": [
      "Checking out ticket: <uapsutsuuy-eucheuwruusc;1581319932.8136156>\n",
      "Completed ticket: <uapsutsuuy-eucheuwruusc;1581319932.8136156>\n",
      "Checking out ticket: <kwoixphoop-speavvaizh;1581319934.7991302>\n",
      "Failed ticket: <kwoixphoop-speavvaizh;1581319934.7991302>\n",
      "Checking out ticket: <agriufliefl-eudomiikl;1581319936.0451503>\n",
      "Completed ticket: <agriufliefl-eudomiikl;1581319936.0451503>\n",
      "Checking out ticket: <chaeplnaast-triodriazhau;1581319937.9909627>\n",
      "Failed ticket: <chaeplnaast-triodriazhau;1581319937.9909627>\n",
      "Checking out ticket: <dwiebueskiu-tsuavdiatr;1581319939.2342095>\n",
      "Completed ticket: <dwiebueskiu-tsuavdiatr;1581319939.2342095>\n",
      "Checking out ticket: <zoasfuidu-oigloooadroo;1581319941.193199>\n",
      "Failed ticket: <zoasfuidu-oigloooadroo;1581319941.193199>\n",
      "Checking out ticket: <smaakliuxuu-nguapsaloo;1581319942.4419205>\n",
      "Completed ticket: <smaakliuxuu-nguapsaloo;1581319942.4419205>\n",
      "Checking out ticket: <eehuudwio-kiuwsesw;1581319944.4299827>\n",
      "Failed ticket: <eehuudwio-kiuwsesw;1581319944.4299827>\n",
      "Checking out ticket: <yoorhgloabl-eewruizheiy;1581319945.6667328>\n",
      "Completed ticket: <yoorhgloabl-eewruizheiy;1581319945.6667328>\n",
      "Checking out ticket: <groechazhoo-oikriiahuu;1581319947.6592321>\n",
      "Failed ticket: <groechazhoo-oikriiahuu;1581319947.6592321>\n",
      "Checking out ticket: <bluoqeileu-oeskaagial;1581319948.844979>\n",
      "Completed ticket: <bluoqeileu-oeskaagial;1581319948.844979>\n",
      "Checking out ticket: <kliirhuedui-ooluifleiz;1581319950.8059578>\n",
      "Failed ticket: <kliirhuedui-ooluifleiz;1581319950.8059578>\n",
      "Checking out ticket: <iusnaisleu-pruosmeojou;1581319952.0137796>\n",
      "Completed ticket: <iusnaisleu-pruosmeojou;1581319952.0137796>\n",
      "Checking out ticket: <bluifruabla-toeweasni;1581319954.0838528>\n",
      "Failed ticket: <bluifruabla-toeweasni;1581319954.0838528>\n",
      "Checking out ticket: <uatzuokutw-flaubrnusl;1581319955.3406143>\n",
      "Completed ticket: <uatzuokutw-flaubrnusl;1581319955.3406143>\n",
      "Checking out ticket: <chuuxoushea-bleewriiyio;1581319957.4323375>\n",
      "Failed ticket: <chuuxoushea-bleewriiyio;1581319957.4323375>\n",
      "Checking out ticket: <eakleiyoitw-oakwieaeqio;1581319958.6517491>\n",
      "Completed ticket: <eakleiyoitw-oakwieaeqio;1581319958.6517491>\n",
      "Checking out ticket: <frugaojou-fiagluosci;1581319960.5944078>\n",
      "Failed ticket: <frugaojou-fiagluosci;1581319960.5944078>\n"
     ]
    }
   ],
   "source": [
    "Ras = [10 ** (x / 2.) for x in range(7, 13)]\n",
    "fs = [x / 10. for x in range(5, 11)]\n",
    "campaign = Campaign(Isovisc, 3000, Ra = Ras, f = fs)\n",
    "campaign()"
   ]
  },
  {
   "cell_type": "code",
   "execution_count": null,
   "metadata": {},
   "outputs": [],
   "source": []
  }
 ],
 "metadata": {
  "kernelspec": {
   "display_name": "Python 3",
   "language": "python",
   "name": "python3"
  },
  "language_info": {
   "codemirror_mode": {
    "name": "ipython",
    "version": 3
   },
   "file_extension": ".py",
   "mimetype": "text/x-python",
   "name": "python",
   "nbconvert_exporter": "python",
   "pygments_lexer": "ipython3",
   "version": "3.5.3"
  }
 },
 "nbformat": 4,
 "nbformat_minor": 2
}
