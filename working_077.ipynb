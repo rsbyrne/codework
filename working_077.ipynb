{
 "cells": [
  {
   "cell_type": "code",
   "execution_count": 1,
   "metadata": {},
   "outputs": [],
   "source": [
    "import sys\n",
    "import os\n",
    "workPath = os.path.abspath('..')\n",
    "if not workPath in sys.path:\n",
    "    sys.path.append(workPath)"
   ]
  },
  {
   "cell_type": "code",
   "execution_count": 2,
   "metadata": {},
   "outputs": [],
   "source": [
    "import planetengine"
   ]
  },
  {
   "cell_type": "code",
   "execution_count": 3,
   "metadata": {},
   "outputs": [],
   "source": [
    "outputPath = '../out'\n",
    "frameName = 'Nuftest9'"
   ]
  },
  {
   "cell_type": "code",
   "execution_count": null,
   "metadata": {
    "scrolled": true
   },
   "outputs": [],
   "source": [
    "for f in [i / 10 for i in range(1, 11)]:\n",
    "    for Ra in [float(2 ** i) for i in range(0, 9, 2)]:\n",
    "        presystem = planetengine.systems.isovisc.build(\n",
    "            res = 8,\n",
    "            Ra = Ra,\n",
    "            f = f\n",
    "            )\n",
    "        presystem.iterate(1000)\n",
    "        loadIC = planetengine.initials.load.build(presystem, 'temperatureField')\n",
    "        system = planetengine.systems.isovisc.build(\n",
    "            res = 64,\n",
    "            Ra = Ra,\n",
    "            f = f,\n",
    "            _initial_temperatureField = loadIC\n",
    "            )\n",
    "        system.anchor(frameName, outputPath)\n",
    "        observer = planetengine.observers.standard.build(system)\n",
    "        observer.coanchor(system)\n",
    "        system.store()\n",
    "        observer.store()\n",
    "        system.save()\n",
    "        observer.save()\n",
    "        stopCondition = lambda: system.modeltime() > 1.\n",
    "        storeCondition = lambda: system.count() % 10 == 0\n",
    "        saveCondition = lambda: system.count() % 100 == 0\n",
    "        while not stopCondition():\n",
    "            system.iterate()\n",
    "            if storeCondition():\n",
    "                system.store()\n",
    "                observer.store()\n",
    "            if saveCondition():\n",
    "                system.save()\n",
    "                observer.save()\n",
    "        system.store()\n",
    "        observer.store()\n",
    "        system.save()\n",
    "        observer.save()"
   ]
  }
 ],
 "metadata": {
  "kernelspec": {
   "display_name": "Python 3",
   "language": "python",
   "name": "python3"
  },
  "language_info": {
   "codemirror_mode": {
    "name": "ipython",
    "version": 3
   },
   "file_extension": ".py",
   "mimetype": "text/x-python",
   "name": "python",
   "nbconvert_exporter": "python",
   "pygments_lexer": "ipython3",
   "version": "3.5.3"
  }
 },
 "nbformat": 4,
 "nbformat_minor": 2
}
