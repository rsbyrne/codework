{
 "cells": [
  {
   "cell_type": "code",
   "execution_count": null,
   "metadata": {},
   "outputs": [],
   "source": [
    "import sys\n",
    "sys.path.append('/home/jovyan/workspace')"
   ]
  },
  {
   "cell_type": "code",
   "execution_count": null,
   "metadata": {},
   "outputs": [],
   "source": [
    "import planetengine\n",
    "import modelscripts"
   ]
  },
  {
   "cell_type": "code",
   "execution_count": null,
   "metadata": {},
   "outputs": [],
   "source": [
    "# import underworld as uw\n",
    "# from underworld import function as fn\n",
    "# from underworld.function._function import Function as UWFn\n",
    "\n",
    "# ### This is a working example\n",
    "# ### of a custom-made Underworld function!\n",
    "\n",
    "# class Clip(UWFn):\n",
    "#     # this function will take the input\n",
    "#     # and normalise it over an interval\n",
    "#     def __init__(self, inFn, lBnd, uBnd, *args, **kwargs):\n",
    "\n",
    "#         # Sanitising the inputs:\n",
    "\n",
    "#         _inFn = UWFn.convert(inFn)\n",
    "#         if _inFn == None:\n",
    "#             raise ValueError( \"Provided 'inFn' must a 'Function' or convertible type.\")\n",
    "#         self._inFn = _inFn\n",
    "\n",
    "#         _lBnd = UWFn.convert(lBnd)\n",
    "#         if _lBnd == None:\n",
    "#             raise ValueError( \"Provided 'lBnd' must a 'Function' or convertible type.\")\n",
    "#         self._lBnd = _lBnd\n",
    "\n",
    "#         _uBnd = UWFn.convert(uBnd)\n",
    "#         if _uBnd == None:\n",
    "#             raise ValueError( \"Provided 'uBnd' must a 'Function' or convertible type.\")\n",
    "#         self._uBnd = _uBnd\n",
    "\n",
    "#         # Building the actual function:\n",
    "        \n",
    "#         _clipFn = fn.branching.conditional([\n",
    "#             (self._inFn < self._lBnd, self._lBnd),\n",
    "#             (self._inFn > self._uBnd, self._uBnd),\n",
    "#             (True, self._inFn)\n",
    "#             ])\n",
    "#         self._clipFn = _clipFn\n",
    "\n",
    "#         # Setting the attribute for the underlying 'c' object:\n",
    "\n",
    "#         self._fncself = self._clipFn._fncself\n",
    "\n",
    "#         # Building the parent:\n",
    "\n",
    "#         super(Clip, self).__init__(argument_fns = [_inFn, _lBnd, _uBnd], **kwargs)"
   ]
  },
  {
   "cell_type": "code",
   "execution_count": null,
   "metadata": {},
   "outputs": [],
   "source": [
    "system = modelscripts.arrhenius.build()\n",
    "planetengine.initials.apply(\n",
    "    {'temperatureField': planetengine.initials.sinusoidal.IC(freq = 1.)},\n",
    "    system,\n",
    "    )\n",
    "system.solve()"
   ]
  },
  {
   "cell_type": "code",
   "execution_count": null,
   "metadata": {},
   "outputs": [],
   "source": [
    "planetengine.quickShow(system.temperatureField)"
   ]
  },
  {
   "cell_type": "code",
   "execution_count": null,
   "metadata": {},
   "outputs": [],
   "source": [
    "# myfn = Clip(system.temperatureField, 0.2, 0.8)"
   ]
  },
  {
   "cell_type": "code",
   "execution_count": null,
   "metadata": {},
   "outputs": [],
   "source": [
    "# myfn.evaluate(system.mesh)"
   ]
  },
  {
   "cell_type": "code",
   "execution_count": null,
   "metadata": {},
   "outputs": [],
   "source": [
    "# planetengine.quickShow(myfn)"
   ]
  },
  {
   "cell_type": "code",
   "execution_count": null,
   "metadata": {},
   "outputs": [],
   "source": []
  },
  {
   "cell_type": "code",
   "execution_count": 1,
   "metadata": {},
   "outputs": [],
   "source": [
    "import sys\n",
    "sys.path.append('/home/jovyan/workspace')"
   ]
  },
  {
   "cell_type": "code",
   "execution_count": 2,
   "metadata": {},
   "outputs": [],
   "source": [
    "# import underworld as uw\n",
    "# from underworld import function as fn\n",
    "# from underworld.function._function import Function as UWFn\n",
    "# # from planetengine.utilities import stringify"
   ]
  },
  {
   "cell_type": "code",
   "execution_count": 3,
   "metadata": {},
   "outputs": [],
   "source": [
    "import planetengine\n",
    "import modelscripts\n",
    "system = modelscripts.arrhenius.build()\n",
    "planetengine.initials.apply(\n",
    "    {'temperatureField': planetengine.initials.sinusoidal.IC(freq = 1.)},\n",
    "    system,\n",
    "    )\n",
    "system.solve()"
   ]
  },
  {
   "cell_type": "code",
   "execution_count": 16,
   "metadata": {},
   "outputs": [],
   "source": [
    "from planetengine import functions\n",
    "import numpy as np\n",
    "anVar = \\\n",
    "    functions.Binarise(\n",
    "        functions.HandleNaN(\n",
    "            0.,\n",
    "            functions.Quantile(\n",
    "                3,\n",
    "                1,\n",
    "                functions.Region(\n",
    "                    'test',\n",
    "                    np.array([[0.2, 0.1], [0.9, 0.3], [0.8, 0.7], [0.4, 0.9]]),\n",
    "                    functions.Operations(\n",
    "                        'abs',\n",
    "                        functions.Gradient(\n",
    "                            'rad',\n",
    "                            functions.Component(\n",
    "                                'mag',\n",
    "                                functions.Variable(\n",
    "                                    system.velocityField,\n",
    "                                    varName = 'velocityField'\n",
    "                                    )\n",
    "                                )\n",
    "                            )\n",
    "                        )\n",
    "                    )\n",
    "                )\n",
    "            )\n",
    "        )"
   ]
  },
  {
   "cell_type": "code",
   "execution_count": 21,
   "metadata": {},
   "outputs": [],
   "source": [
    "myfn = system.temperatureField * anVar"
   ]
  },
  {
   "cell_type": "code",
   "execution_count": 30,
   "metadata": {},
   "outputs": [
    {
     "data": {
      "text/plain": [
       "array([[ -5.3630938 ,  -7.88307385],\n",
       "       [-15.20550256, -39.72098774],\n",
       "       [-23.93313866, -67.93849724],\n",
       "       ..., \n",
       "       [  9.56504686, -13.66146331],\n",
       "       [  9.74907584, -14.13222223],\n",
       "       [  9.93165949, -14.59828723]])"
      ]
     },
     "execution_count": 30,
     "metadata": {},
     "output_type": "execute_result"
    }
   ],
   "source": [
    "system.velocityField.evaluate_global(system.mesh.data)"
   ]
  },
  {
   "cell_type": "code",
   "execution_count": 34,
   "metadata": {},
   "outputs": [
    {
     "data": {
      "text/plain": [
       "True"
      ]
     },
     "execution_count": 34,
     "metadata": {},
     "output_type": "execute_result"
    }
   ],
   "source": [
    "any(myfn.evaluate_global(system.mesh.data))"
   ]
  },
  {
   "cell_type": "code",
   "execution_count": 24,
   "metadata": {},
   "outputs": [
    {
     "name": "stdout",
     "output_type": "stream",
     "text": [
      "Fitted 1 variables to the figure.\n"
     ]
    },
    {
     "data": {
      "text/html": [
       "<img src='data:image/png;base64,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'>"
      ],
      "text/plain": [
       "<IPython.core.display.HTML object>"
      ]
     },
     "metadata": {},
     "output_type": "display_data"
    }
   ],
   "source": [
    "planetengine.quickShow(myfn)"
   ]
  },
  {
   "cell_type": "code",
   "execution_count": 23,
   "metadata": {},
   "outputs": [],
   "source": [
    "system.iterate()"
   ]
  },
  {
   "cell_type": "code",
   "execution_count": null,
   "metadata": {},
   "outputs": [],
   "source": [
    "class MyClass:\n",
    "    myattr = \"I am an attribute.\"\n",
    "    def __init__(self):\n",
    "        self.myattr = \"Mangos!\"\n",
    "        self.function()\n",
    "    @staticmethod\n",
    "    def function():\n",
    "        print(\"Hello world!\")\n",
    "class MySubClass(MyClass):\n",
    "    myattr = \"Bananas!\"\n",
    "    def __init__(self):\n",
    "        self.myattr = \"Apricots!\"\n",
    "        super().__init__()"
   ]
  },
  {
   "cell_type": "code",
   "execution_count": null,
   "metadata": {},
   "outputs": [],
   "source": [
    "inFn, lBnd, uBnd = system.temperatureField, fn.misc.constant(0.2), fn.misc.constant(0.8)\n",
    "var = fn.branching.conditional([\n",
    "    (inFn < lBnd, lBnd),\n",
    "    (inFn > uBnd, uBnd),\n",
    "    (True, inFn)\n",
    "    ])"
   ]
  },
  {
   "cell_type": "code",
   "execution_count": null,
   "metadata": {},
   "outputs": [],
   "source": [
    "var._clauses"
   ]
  },
  {
   "cell_type": "code",
   "execution_count": null,
   "metadata": {},
   "outputs": [],
   "source": [
    "var = system.temperatureField * system.velocityField"
   ]
  },
  {
   "cell_type": "code",
   "execution_count": null,
   "metadata": {},
   "outputs": [],
   "source": [
    "dir(var)"
   ]
  },
  {
   "cell_type": "code",
   "execution_count": null,
   "metadata": {},
   "outputs": [],
   "source": [
    "c, d, e = a = (1, 2, 3)"
   ]
  },
  {
   "cell_type": "code",
   "execution_count": null,
   "metadata": {},
   "outputs": [],
   "source": [
    "[1]"
   ]
  },
  {
   "cell_type": "code",
   "execution_count": null,
   "metadata": {},
   "outputs": [],
   "source": [
    "myinst.myattr"
   ]
  },
  {
   "cell_type": "code",
   "execution_count": null,
   "metadata": {},
   "outputs": [],
   "source": [
    "def myfn(arg1, arg2 = 'world'):\n",
    "    print(arg1)\n",
    "    print(arg2)"
   ]
  },
  {
   "cell_type": "code",
   "execution_count": null,
   "metadata": {},
   "outputs": [],
   "source": [
    "myconst = fn.misc.constant(1)"
   ]
  },
  {
   "cell_type": "code",
   "execution_count": null,
   "metadata": {},
   "outputs": [],
   "source": [
    "myinst = MyClass()"
   ]
  },
  {
   "cell_type": "code",
   "execution_count": null,
   "metadata": {},
   "outputs": [],
   "source": [
    "list(system.temperatureField._underlyingDataItems)[0] is system.temperatureField"
   ]
  },
  {
   "cell_type": "code",
   "execution_count": null,
   "metadata": {},
   "outputs": [],
   "source": [
    "uwNamesToFns = {\n",
    "    'pow': fn.math.pow,\n",
    "    'abs': fn.math.abs,\n",
    "    'cosh': fn.math.cosh,\n",
    "    'acosh': fn.math.acosh,\n",
    "    'tan': fn.math.tan,\n",
    "    'asin': fn.math.asin,\n",
    "    'log': fn.math.log,\n",
    "    'atanh': fn.math.atanh,\n",
    "    'sqrt': fn.math.sqrt,\n",
    "    'abs': fn.math.abs,\n",
    "    'log10': fn.math.log10,\n",
    "    'sin': fn.math.sin,\n",
    "    'asinh': fn.math.asinh,\n",
    "    'log2': fn.math.log2,\n",
    "    'atan': fn.math.atan,\n",
    "    'sinh': fn.math.sinh,\n",
    "    'cos': fn.math.cos,\n",
    "    'tanh': fn.math.tanh,\n",
    "    'erf': fn.math.erf,\n",
    "    'erfc': fn.math.erfc,\n",
    "    'exp': fn.math.exp,\n",
    "    'acos': fn.math.acos,\n",
    "    'dot': fn.math.dot,\n",
    "    'add': fn._function.add,\n",
    "    'subtract': fn._function.subtract,\n",
    "    'multiply': fn._function.multiply,\n",
    "    'divide': fn._function.divide,\n",
    "    'greater': fn._function.greater,\n",
    "    'greater_equal': fn._function.greater_equal,\n",
    "    'less': fn._function.less,\n",
    "    'less_equal': fn._function.less_equal,\n",
    "    'logical_and': fn._function.logical_and,\n",
    "    'logical_or': fn._function.logical_or,\n",
    "    'logical_xor': fn._function.logical_xor,\n",
    "    'input': fn._function.input,\n",
    "    'constant': fn.misc.constant,\n",
    "    'meshVar': uw.mesh._meshvariable.MeshVariable,\n",
    "    'swarmVar': uw.swarm._swarmvariable.SwarmVariable,\n",
    "    }\n",
    "uwFnsToNames = {val: key for key, val in uwNamesToFns.items()}"
   ]
  },
  {
   "cell_type": "code",
   "execution_count": null,
   "metadata": {},
   "outputs": [],
   "source": [
    "def convert(argument):\n",
    "    _argument = UWFn.convert(argument)\n",
    "    if _argument is None:\n",
    "        raise ValueError(\n",
    "            \"Provided functions must be Underworld functions \\\n",
    "            or convertible types.\"\n",
    "            )\n",
    "    if not hasattr(_argument, '_opTag'):\n",
    "        try:\n",
    "            _argument._opTag = stringify(argument)\n",
    "        except:\n",
    "            _argument = Base(_argument, 'Anon')\n",
    "    return _argument"
   ]
  },
  {
   "cell_type": "code",
   "execution_count": null,
   "metadata": {},
   "outputs": [],
   "source": [
    "def make_opTag(argument_fns):\n",
    "    inTags = [arg._opTag for arg in argument_fns]\n",
    "    opTags = '{' + ';'.join(inTags) + '}'\n",
    "    return opTags"
   ]
  },
  {
   "cell_type": "code",
   "execution_count": null,
   "metadata": {},
   "outputs": [],
   "source": [
    "class PlanetVar:\n",
    "#     def __init__(self, *args, **kwargs):\n",
    "    def __init__(self):\n",
    "        pass\n",
    "    @staticmethod\n",
    "    def convert(obj):\n",
    "        \"\"\"\n",
    "        Attempts to convert obj into a PlanetVar.\n",
    "        \"\"\"\n",
    "#         uwfn = UWFn.convert(obj)\n",
    "#         for fn in sorted(list(uwfn._underlyingDataItems)):\n",
    "#             if fn in uwFnsToNames:\n",
    "        pass"
   ]
  },
  {
   "cell_type": "code",
   "execution_count": null,
   "metadata": {},
   "outputs": [],
   "source": [
    "class Clip(PlanetVar, UWFn):\n",
    "# class Clip(PlanetVar):\n",
    "    '''\n",
    "    This function will take the input \\\n",
    "    and normalise it over an interval.\n",
    "    '''\n",
    "\n",
    "    _opTag = 'Clip'\n",
    "\n",
    "    def __init__(self, inFn, lBnd, uBnd, *args, **kwargs):\n",
    "\n",
    "        # Sanitising the inputs:\n",
    "\n",
    "        _inFn, _lBnd, _uBnd = [UWFn.convert(arg) for arg in [inFn, lBnd, uBnd]]\n",
    "\n",
    "        # Building the function:\n",
    "\n",
    "        _clipFn = fn.branching.conditional([\n",
    "            (_inFn < _lBnd, _lBnd),\n",
    "            (_inFn > _uBnd, _uBnd),\n",
    "            (True, _inFn)\n",
    "            ])\n",
    "\n",
    "        # Setting important attributes:\n",
    "\n",
    "        self._argument_fns = [_inFn, _lBnd, _uBnd]\n",
    "        self._fncself = _clipFn._fncself\n",
    "#         self._opTag = 'Clip' + make_opTag(self._argument_fns)\n",
    "        print([type(arg) for arg in self._argument_fns])\n",
    "\n",
    "        # Building the parent:\n",
    "\n",
    "        PlanetVar.__init__(self, **kwargs)\n",
    "        UWFn.__init__(self, self._argument_fns, **kwargs)\n",
    "#         super().__init__(self._argument_fns, **kwargs)\n",
    "#         super().__init__()"
   ]
  },
  {
   "cell_type": "code",
   "execution_count": null,
   "metadata": {},
   "outputs": [],
   "source": [
    "class Base(UWFn, PlanetVar):\n",
    "    '''\n",
    "    Creates a new function\n",
    "    that passively 'hosts' the input function\n",
    "    but sets it as a 'base'\n",
    "    for future functions to chain from;\n",
    "    most importantly, sets a new 'opTag'.\n",
    "    '''\n",
    "\n",
    "    _opTag = 'Base'\n",
    "\n",
    "    def __init__(self, inFn, *args, name = 'Anon', **kwargs):\n",
    "\n",
    "        # Sanitise the inputs:\n",
    "        if not type(name) == str:\n",
    "            raise Exception\n",
    "        badchars = '{}_-;'\n",
    "        if any([badchar in name for badchar in badchars]):\n",
    "            raise Exception\n",
    "\n",
    "        # Building the function:\n",
    "\n",
    "        _inFn = UWFn.convert(inFn)\n",
    "        if _inFn is None:\n",
    "            raise ValueError(\n",
    "                \"Provided functions must be Underworld functions \\\n",
    "                or convertible types.\"\n",
    "                )\n",
    "#         self.__dict__.update(_inFn.__dict__)\n",
    "\n",
    "        # Setting important attributes:\n",
    "\n",
    "        self._argument_fns = [_inFn]\n",
    "        self._fncself = _inFn._fncself\n",
    "        self._opTag = name + '{}'\n",
    "\n",
    "        # Building the parent:\n",
    "\n",
    "        UWFn.__init__(self, self._argument_fns, **kwargs)\n",
    "        PlanetVar.__init__(self)"
   ]
  },
  {
   "cell_type": "code",
   "execution_count": null,
   "metadata": {},
   "outputs": [],
   "source": [
    "myinst = Base(1, \"h\")"
   ]
  },
  {
   "cell_type": "code",
   "execution_count": null,
   "metadata": {
    "scrolled": true
   },
   "outputs": [],
   "source": [
    "dir(myinst)"
   ]
  },
  {
   "cell_type": "code",
   "execution_count": null,
   "metadata": {},
   "outputs": [],
   "source": [
    "from underworld import function as fn\n",
    "myfn = fn.misc.constant(1)"
   ]
  },
  {
   "cell_type": "code",
   "execution_count": null,
   "metadata": {},
   "outputs": [],
   "source": [
    "myfn = system.temperatureField * system.viscosityFn * system.velocityField"
   ]
  },
  {
   "cell_type": "code",
   "execution_count": null,
   "metadata": {},
   "outputs": [],
   "source": [
    "list(myfn._underlyingDataItems)"
   ]
  },
  {
   "cell_type": "code",
   "execution_count": null,
   "metadata": {},
   "outputs": [],
   "source": [
    "rootFn = Base(system.viscosityFn, 'viscosityFn')"
   ]
  },
  {
   "cell_type": "code",
   "execution_count": null,
   "metadata": {},
   "outputs": [],
   "source": [
    "rootFn._opTag"
   ]
  },
  {
   "cell_type": "code",
   "execution_count": null,
   "metadata": {},
   "outputs": [],
   "source": [
    "clipFn = Clip(system.viscosityFn, 0.2, 0.8)"
   ]
  },
  {
   "cell_type": "code",
   "execution_count": null,
   "metadata": {},
   "outputs": [],
   "source": [
    "clipFn.evaluate"
   ]
  },
  {
   "cell_type": "code",
   "execution_count": null,
   "metadata": {},
   "outputs": [],
   "source": [
    "str(type('a'))"
   ]
  },
  {
   "cell_type": "code",
   "execution_count": null,
   "metadata": {},
   "outputs": [],
   "source": [
    "from abc import ABCMeta, abstractmethod"
   ]
  },
  {
   "cell_type": "code",
   "execution_count": null,
   "metadata": {},
   "outputs": [],
   "source": [
    "class First:\n",
    "    def __init__(self, *args, **kwargs):\n",
    "        pass\n",
    "#         self.firstattr = \"first\"\n",
    "#         super().__init__()\n",
    "#         print(\"I am first!\")\n",
    "class Second(uw._stgermain.LeftOverParamsChecker, metaclass = ABCMeta):\n",
    "    def __init__(self, inObj, **kwargs):\n",
    "        self.secondattr = \"second\"\n",
    "        self.inObj = inObj\n",
    "class Third(First, Second):\n",
    "    def __init__(self, *args, **kwargs):\n",
    "        self.thirdattr = \"third\"\n",
    "        print(\"I am third!\")\n",
    "        super().__init__(self.thirdattr)\n",
    "#         First.__init__(self)\n",
    "#         Second.__init__(self)"
   ]
  },
  {
   "cell_type": "code",
   "execution_count": null,
   "metadata": {},
   "outputs": [],
   "source": [
    "myInst = Third()"
   ]
  },
  {
   "cell_type": "code",
   "execution_count": null,
   "metadata": {},
   "outputs": [],
   "source": [
    "dir(myInst)"
   ]
  },
  {
   "cell_type": "code",
   "execution_count": null,
   "metadata": {},
   "outputs": [],
   "source": []
  },
  {
   "cell_type": "code",
   "execution_count": null,
   "metadata": {},
   "outputs": [],
   "source": [
    "# class Clip(UWFn):\n",
    "#     '''\n",
    "#     This function will take the input \\\n",
    "#     and normalise it over an interval.\n",
    "#     '''\n",
    "\n",
    "#     _opTag = 'Clip'\n",
    "\n",
    "#     def __init__(self, inFn, lBnd, uBnd, *args, **kwargs):\n",
    "\n",
    "#         # Sanitising the inputs:\n",
    "\n",
    "#         _inFn, _lBnd, _uBnd = [convert(arg) for arg in [inFn, lBnd, uBnd]]\n",
    "\n",
    "#         # Building the function:\n",
    "\n",
    "#         _clipFn = fn.branching.conditional([\n",
    "#             (_inFn < _lBnd, _lBnd),\n",
    "#             (_inFn > _uBnd, _uBnd),\n",
    "#             (True, _inFn)\n",
    "#             ])\n",
    "\n",
    "#         # Setting important attributes:\n",
    "\n",
    "#         self._argument_fns = [_inFn, _lBnd, _uBnd]\n",
    "#         self._fncself = _clipFn._fncself\n",
    "#         self._opTag = 'Clip' + make_opTag(self._argument_fns)\n",
    "\n",
    "#         # Building the parent:\n",
    "\n",
    "#         super(Clip, self).__init__(self._argument_fns, **kwargs)"
   ]
  }
 ],
 "metadata": {
  "kernelspec": {
   "display_name": "Python 3",
   "language": "python",
   "name": "python3"
  },
  "language_info": {
   "codemirror_mode": {
    "name": "ipython",
    "version": 3
   },
   "file_extension": ".py",
   "mimetype": "text/x-python",
   "name": "python",
   "nbconvert_exporter": "python",
   "pygments_lexer": "ipython3",
   "version": "3.5.3"
  }
 },
 "nbformat": 4,
 "nbformat_minor": 2
}
