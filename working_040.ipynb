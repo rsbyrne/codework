{
 "cells": [
  {
   "cell_type": "code",
   "execution_count": null,
   "metadata": {},
   "outputs": [],
   "source": [
    "import sys\n",
    "sys.path.append('/home/jovyan/workspace')"
   ]
  },
  {
   "cell_type": "code",
   "execution_count": null,
   "metadata": {},
   "outputs": [],
   "source": [
    "import planetengine\n",
    "import modelscripts"
   ]
  },
  {
   "cell_type": "code",
   "execution_count": null,
   "metadata": {},
   "outputs": [],
   "source": [
    "# import underworld as uw\n",
    "# from underworld import function as fn\n",
    "# from underworld.function._function import Function as UWFn\n",
    "\n",
    "# ### This is a working example\n",
    "# ### of a custom-made Underworld function!\n",
    "\n",
    "# class Clip(UWFn):\n",
    "#     # this function will take the input\n",
    "#     # and normalise it over an interval\n",
    "#     def __init__(self, inFn, lBnd, uBnd, *args, **kwargs):\n",
    "\n",
    "#         # Sanitising the inputs:\n",
    "\n",
    "#         _inFn = UWFn.convert(inFn)\n",
    "#         if _inFn == None:\n",
    "#             raise ValueError( \"Provided 'inFn' must a 'Function' or convertible type.\")\n",
    "#         self._inFn = _inFn\n",
    "\n",
    "#         _lBnd = UWFn.convert(lBnd)\n",
    "#         if _lBnd == None:\n",
    "#             raise ValueError( \"Provided 'lBnd' must a 'Function' or convertible type.\")\n",
    "#         self._lBnd = _lBnd\n",
    "\n",
    "#         _uBnd = UWFn.convert(uBnd)\n",
    "#         if _uBnd == None:\n",
    "#             raise ValueError( \"Provided 'uBnd' must a 'Function' or convertible type.\")\n",
    "#         self._uBnd = _uBnd\n",
    "\n",
    "#         # Building the actual function:\n",
    "        \n",
    "#         _clipFn = fn.branching.conditional([\n",
    "#             (self._inFn < self._lBnd, self._lBnd),\n",
    "#             (self._inFn > self._uBnd, self._uBnd),\n",
    "#             (True, self._inFn)\n",
    "#             ])\n",
    "#         self._clipFn = _clipFn\n",
    "\n",
    "#         # Setting the attribute for the underlying 'c' object:\n",
    "\n",
    "#         self._fncself = self._clipFn._fncself\n",
    "\n",
    "#         # Building the parent:\n",
    "\n",
    "#         super(Clip, self).__init__(argument_fns = [_inFn, _lBnd, _uBnd], **kwargs)"
   ]
  },
  {
   "cell_type": "code",
   "execution_count": null,
   "metadata": {},
   "outputs": [],
   "source": [
    "system = modelscripts.arrhenius.build()\n",
    "planetengine.initials.apply(\n",
    "    {'temperatureField': planetengine.initials.sinusoidal.IC(freq = 1.)},\n",
    "    system,\n",
    "    )\n",
    "system.solve()"
   ]
  },
  {
   "cell_type": "code",
   "execution_count": null,
   "metadata": {},
   "outputs": [],
   "source": [
    "planetengine.quickShow(system.temperatureField)"
   ]
  },
  {
   "cell_type": "code",
   "execution_count": null,
   "metadata": {},
   "outputs": [],
   "source": [
    "# myfn = Clip(system.temperatureField, 0.2, 0.8)"
   ]
  },
  {
   "cell_type": "code",
   "execution_count": null,
   "metadata": {},
   "outputs": [],
   "source": [
    "# myfn.evaluate(system.mesh)"
   ]
  },
  {
   "cell_type": "code",
   "execution_count": null,
   "metadata": {},
   "outputs": [],
   "source": [
    "# planetengine.quickShow(myfn)"
   ]
  },
  {
   "cell_type": "code",
   "execution_count": null,
   "metadata": {},
   "outputs": [],
   "source": []
  },
  {
   "cell_type": "code",
   "execution_count": 1,
   "metadata": {},
   "outputs": [],
   "source": [
    "import sys\n",
    "sys.path.append('/home/jovyan/workspace')"
   ]
  },
  {
   "cell_type": "code",
   "execution_count": 2,
   "metadata": {},
   "outputs": [],
   "source": [
    "import underworld as uw\n",
    "from underworld import function as fn\n",
    "from underworld.function._function import Function as UWFn\n",
    "# from planetengine.utilities import stringify"
   ]
  },
  {
   "cell_type": "code",
   "execution_count": 3,
   "metadata": {},
   "outputs": [],
   "source": [
    "import planetengine\n",
    "import modelscripts\n",
    "system = modelscripts.arrhenius.build()\n",
    "planetengine.initials.apply(\n",
    "    {'temperatureField': planetengine.initials.sinusoidal.IC(freq = 1.)},\n",
    "    system,\n",
    "    )\n",
    "system.solve()"
   ]
  },
  {
   "cell_type": "code",
   "execution_count": 6,
   "metadata": {},
   "outputs": [],
   "source": [
    "from planetengine import functions\n",
    "import numpy as np\n",
    "anVar = \\\n",
    "    functions.Binarise(\n",
    "        functions.HandleNaN(\n",
    "            0.,\n",
    "            functions.Quantile(\n",
    "                3,\n",
    "                1,\n",
    "                functions.Region(\n",
    "                    'test',\n",
    "                    np.array([[0.2, 0.1], [0.9, 0.3], [0.8, 0.7], [0.4, 0.9]]),\n",
    "                    functions.Operations(\n",
    "                        'abs',\n",
    "                        functions.Gradient(\n",
    "                            'rad',\n",
    "                            functions.Component(\n",
    "                                'mag',\n",
    "                                functions.Pass(\n",
    "                                    system.velocityField,\n",
    "                                    name = 'velocityField'\n",
    "                                    )\n",
    "                                )\n",
    "                            )\n",
    "                        )\n",
    "                    )\n",
    "                )\n",
    "            )\n",
    "        )"
   ]
  },
  {
   "cell_type": "code",
   "execution_count": 9,
   "metadata": {},
   "outputs": [],
   "source": [
    "myfn = system.temperatureField * anVar"
   ]
  },
  {
   "cell_type": "code",
   "execution_count": 14,
   "metadata": {},
   "outputs": [
    {
     "name": "stdout",
     "output_type": "stream",
     "text": [
      "Fitted 1 variables to the figure.\n"
     ]
    },
    {
     "data": {
      "text/html": [
       "<img src='data:image/png;base64,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'>"
      ],
      "text/plain": [
       "<IPython.core.display.HTML object>"
      ]
     },
     "metadata": {},
     "output_type": "display_data"
    }
   ],
   "source": [
    "planetengine.quickShow(myfn)"
   ]
  },
  {
   "cell_type": "code",
   "execution_count": null,
   "metadata": {},
   "outputs": [],
   "source": [
    "stringify([1, ('a', 2.), {'c': (3, 3, 3.)}])"
   ]
  },
  {
   "cell_type": "code",
   "execution_count": null,
   "metadata": {
    "scrolled": true
   },
   "outputs": [],
   "source": [
    "help(UWFn)"
   ]
  },
  {
   "cell_type": "code",
   "execution_count": null,
   "metadata": {},
   "outputs": [],
   "source": [
    "uwNamesToFns = {\n",
    "    'pow': fn.math.pow,\n",
    "    'abs': fn.math.abs,\n",
    "    'cosh': fn.math.cosh,\n",
    "    'acosh': fn.math.acosh,\n",
    "    'tan': fn.math.tan,\n",
    "    'asin': fn.math.asin,\n",
    "    'log': fn.math.log,\n",
    "    'atanh': fn.math.atanh,\n",
    "    'sqrt': fn.math.sqrt,\n",
    "    'abs': fn.math.abs,\n",
    "    'log10': fn.math.log10,\n",
    "    'sin': fn.math.sin,\n",
    "    'asinh': fn.math.asinh,\n",
    "    'log2': fn.math.log2,\n",
    "    'atan': fn.math.atan,\n",
    "    'sinh': fn.math.sinh,\n",
    "    'cos': fn.math.cos,\n",
    "    'tanh': fn.math.tanh,\n",
    "    'erf': fn.math.erf,\n",
    "    'erfc': fn.math.erfc,\n",
    "    'exp': fn.math.exp,\n",
    "    'acos': fn.math.acos,\n",
    "    'dot': fn.math.dot,\n",
    "    'add': fn._function.add,\n",
    "    'subtract': fn._function.subtract,\n",
    "    'multiply': fn._function.multiply,\n",
    "    'divide': fn._function.divide,\n",
    "    'greater': fn._function.greater,\n",
    "    'greater_equal': fn._function.greater_equal,\n",
    "    'less': fn._function.less,\n",
    "    'less_equal': fn._function.less_equal,\n",
    "    'logical_and': fn._function.logical_and,\n",
    "    'logical_or': fn._function.logical_or,\n",
    "    'logical_xor': fn._function.logical_xor,\n",
    "    'input': fn._function.input,\n",
    "    'constant': fn.misc.constant,\n",
    "    'meshVar': uw.mesh._meshvariable.MeshVariable,\n",
    "    'swarmVar': uw.swarm._swarmvariable.SwarmVariable,\n",
    "    }\n",
    "uwFnsToNames = {val: key for key, val in uwNamesToFns.items()}"
   ]
  },
  {
   "cell_type": "code",
   "execution_count": null,
   "metadata": {},
   "outputs": [],
   "source": [
    "def convert(argument):\n",
    "    _argument = UWFn.convert(argument)\n",
    "    if _argument is None:\n",
    "        raise ValueError(\n",
    "            \"Provided functions must be Underworld functions \\\n",
    "            or convertible types.\"\n",
    "            )\n",
    "    if not hasattr(_argument, '_opTag'):\n",
    "        try:\n",
    "            _argument._opTag = stringify(argument)\n",
    "        except:\n",
    "            _argument = Base(_argument, 'Anon')\n",
    "    return _argument"
   ]
  },
  {
   "cell_type": "code",
   "execution_count": null,
   "metadata": {},
   "outputs": [],
   "source": [
    "def make_opTag(argument_fns):\n",
    "    inTags = [arg._opTag for arg in argument_fns]\n",
    "    opTags = '{' + ';'.join(inTags) + '}'\n",
    "    return opTags"
   ]
  },
  {
   "cell_type": "code",
   "execution_count": null,
   "metadata": {},
   "outputs": [],
   "source": [
    "class PlanetVar:\n",
    "#     def __init__(self, *args, **kwargs):\n",
    "    def __init__(self):\n",
    "        pass\n",
    "    @staticmethod\n",
    "    def convert(obj):\n",
    "        \"\"\"\n",
    "        Attempts to convert obj into a PlanetVar.\n",
    "        \"\"\"\n",
    "#         uwfn = UWFn.convert(obj)\n",
    "#         for fn in sorted(list(uwfn._underlyingDataItems)):\n",
    "#             if fn in uwFnsToNames:\n",
    "        pass"
   ]
  },
  {
   "cell_type": "code",
   "execution_count": null,
   "metadata": {},
   "outputs": [],
   "source": [
    "class Clip(PlanetVar, UWFn):\n",
    "# class Clip(PlanetVar):\n",
    "    '''\n",
    "    This function will take the input \\\n",
    "    and normalise it over an interval.\n",
    "    '''\n",
    "\n",
    "    _opTag = 'Clip'\n",
    "\n",
    "    def __init__(self, inFn, lBnd, uBnd, *args, **kwargs):\n",
    "\n",
    "        # Sanitising the inputs:\n",
    "\n",
    "        _inFn, _lBnd, _uBnd = [UWFn.convert(arg) for arg in [inFn, lBnd, uBnd]]\n",
    "\n",
    "        # Building the function:\n",
    "\n",
    "        _clipFn = fn.branching.conditional([\n",
    "            (_inFn < _lBnd, _lBnd),\n",
    "            (_inFn > _uBnd, _uBnd),\n",
    "            (True, _inFn)\n",
    "            ])\n",
    "\n",
    "        # Setting important attributes:\n",
    "\n",
    "        self._argument_fns = [_inFn, _lBnd, _uBnd]\n",
    "        self._fncself = _clipFn._fncself\n",
    "#         self._opTag = 'Clip' + make_opTag(self._argument_fns)\n",
    "        print([type(arg) for arg in self._argument_fns])\n",
    "\n",
    "        # Building the parent:\n",
    "\n",
    "        PlanetVar.__init__(self, **kwargs)\n",
    "        UWFn.__init__(self, self._argument_fns, **kwargs)\n",
    "#         super().__init__(self._argument_fns, **kwargs)\n",
    "#         super().__init__()"
   ]
  },
  {
   "cell_type": "code",
   "execution_count": null,
   "metadata": {},
   "outputs": [],
   "source": [
    "class Base(UWFn, PlanetVar):\n",
    "    '''\n",
    "    Creates a new function\n",
    "    that passively 'hosts' the input function\n",
    "    but sets it as a 'base'\n",
    "    for future functions to chain from;\n",
    "    most importantly, sets a new 'opTag'.\n",
    "    '''\n",
    "\n",
    "    _opTag = 'Base'\n",
    "\n",
    "    def __init__(self, inFn, *args, name = 'Anon', **kwargs):\n",
    "\n",
    "        # Sanitise the inputs:\n",
    "        if not type(name) == str:\n",
    "            raise Exception\n",
    "        badchars = '{}_-;'\n",
    "        if any([badchar in name for badchar in badchars]):\n",
    "            raise Exception\n",
    "\n",
    "        # Building the function:\n",
    "\n",
    "        _inFn = UWFn.convert(inFn)\n",
    "        if _inFn is None:\n",
    "            raise ValueError(\n",
    "                \"Provided functions must be Underworld functions \\\n",
    "                or convertible types.\"\n",
    "                )\n",
    "#         self.__dict__.update(_inFn.__dict__)\n",
    "\n",
    "        # Setting important attributes:\n",
    "\n",
    "        self._argument_fns = [_inFn]\n",
    "        self._fncself = _inFn._fncself\n",
    "        self._opTag = name + '{}'\n",
    "\n",
    "        # Building the parent:\n",
    "\n",
    "        UWFn.__init__(self, self._argument_fns, **kwargs)\n",
    "        PlanetVar.__init__(self)"
   ]
  },
  {
   "cell_type": "code",
   "execution_count": null,
   "metadata": {},
   "outputs": [],
   "source": [
    "myinst = Base(1, \"h\")"
   ]
  },
  {
   "cell_type": "code",
   "execution_count": null,
   "metadata": {
    "scrolled": true
   },
   "outputs": [],
   "source": [
    "dir(myinst)"
   ]
  },
  {
   "cell_type": "code",
   "execution_count": null,
   "metadata": {},
   "outputs": [],
   "source": [
    "myfn = UWFn.convert(1)"
   ]
  },
  {
   "cell_type": "code",
   "execution_count": null,
   "metadata": {},
   "outputs": [],
   "source": [
    "myfn."
   ]
  },
  {
   "cell_type": "code",
   "execution_count": null,
   "metadata": {},
   "outputs": [],
   "source": [
    "rootFn = Base(system.viscosityFn, 'viscosityFn')"
   ]
  },
  {
   "cell_type": "code",
   "execution_count": null,
   "metadata": {},
   "outputs": [],
   "source": [
    "rootFn._opTag"
   ]
  },
  {
   "cell_type": "code",
   "execution_count": null,
   "metadata": {},
   "outputs": [],
   "source": [
    "clipFn = Clip(system.viscosityFn, 0.2, 0.8)"
   ]
  },
  {
   "cell_type": "code",
   "execution_count": null,
   "metadata": {},
   "outputs": [],
   "source": [
    "clipFn.evaluate"
   ]
  },
  {
   "cell_type": "code",
   "execution_count": null,
   "metadata": {},
   "outputs": [],
   "source": [
    "str(type('a'))"
   ]
  },
  {
   "cell_type": "code",
   "execution_count": null,
   "metadata": {},
   "outputs": [],
   "source": [
    "from abc import ABCMeta, abstractmethod"
   ]
  },
  {
   "cell_type": "code",
   "execution_count": null,
   "metadata": {},
   "outputs": [],
   "source": [
    "class First:\n",
    "    def __init__(self, *args, **kwargs):\n",
    "        pass\n",
    "#         self.firstattr = \"first\"\n",
    "#         super().__init__()\n",
    "#         print(\"I am first!\")\n",
    "class Second(uw._stgermain.LeftOverParamsChecker, metaclass = ABCMeta):\n",
    "    def __init__(self, inObj, **kwargs):\n",
    "        self.secondattr = \"second\"\n",
    "        self.inObj = inObj\n",
    "class Third(First, Second):\n",
    "    def __init__(self, *args, **kwargs):\n",
    "        self.thirdattr = \"third\"\n",
    "        print(\"I am third!\")\n",
    "        super().__init__(self.thirdattr)\n",
    "#         First.__init__(self)\n",
    "#         Second.__init__(self)"
   ]
  },
  {
   "cell_type": "code",
   "execution_count": null,
   "metadata": {},
   "outputs": [],
   "source": [
    "myInst = Third()"
   ]
  },
  {
   "cell_type": "code",
   "execution_count": null,
   "metadata": {},
   "outputs": [],
   "source": [
    "dir(myInst)"
   ]
  },
  {
   "cell_type": "code",
   "execution_count": null,
   "metadata": {},
   "outputs": [],
   "source": []
  },
  {
   "cell_type": "code",
   "execution_count": null,
   "metadata": {},
   "outputs": [],
   "source": [
    "# class Clip(UWFn):\n",
    "#     '''\n",
    "#     This function will take the input \\\n",
    "#     and normalise it over an interval.\n",
    "#     '''\n",
    "\n",
    "#     _opTag = 'Clip'\n",
    "\n",
    "#     def __init__(self, inFn, lBnd, uBnd, *args, **kwargs):\n",
    "\n",
    "#         # Sanitising the inputs:\n",
    "\n",
    "#         _inFn, _lBnd, _uBnd = [convert(arg) for arg in [inFn, lBnd, uBnd]]\n",
    "\n",
    "#         # Building the function:\n",
    "\n",
    "#         _clipFn = fn.branching.conditional([\n",
    "#             (_inFn < _lBnd, _lBnd),\n",
    "#             (_inFn > _uBnd, _uBnd),\n",
    "#             (True, _inFn)\n",
    "#             ])\n",
    "\n",
    "#         # Setting important attributes:\n",
    "\n",
    "#         self._argument_fns = [_inFn, _lBnd, _uBnd]\n",
    "#         self._fncself = _clipFn._fncself\n",
    "#         self._opTag = 'Clip' + make_opTag(self._argument_fns)\n",
    "\n",
    "#         # Building the parent:\n",
    "\n",
    "#         super(Clip, self).__init__(self._argument_fns, **kwargs)"
   ]
  }
 ],
 "metadata": {
  "kernelspec": {
   "display_name": "Python 3",
   "language": "python",
   "name": "python3"
  },
  "language_info": {
   "codemirror_mode": {
    "name": "ipython",
    "version": 3
   },
   "file_extension": ".py",
   "mimetype": "text/x-python",
   "name": "python",
   "nbconvert_exporter": "python",
   "pygments_lexer": "ipython3",
   "version": "3.5.3"
  }
 },
 "nbformat": 4,
 "nbformat_minor": 2
}
