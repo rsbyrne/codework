{
 "cells": [
  {
   "cell_type": "code",
   "execution_count": 1,
   "metadata": {},
   "outputs": [],
   "source": [
    "import sys\n",
    "import os\n",
    "workPath = os.path.abspath('..')\n",
    "if not workPath in sys.path:\n",
    "    sys.path.append(workPath)"
   ]
  },
  {
   "cell_type": "code",
   "execution_count": 2,
   "metadata": {},
   "outputs": [],
   "source": [
    "import planetengine\n",
    "import everest\n",
    "Fetch = everest.window.Fetch\n",
    "Reader = everest.window.Reader\n",
    "Scope = everest.window.Scope"
   ]
  },
  {
   "cell_type": "code",
   "execution_count": 4,
   "metadata": {},
   "outputs": [],
   "source": [
    "outputPath = '../out'\n",
    "frameName = 'dev'"
   ]
  },
  {
   "cell_type": "code",
   "execution_count": 5,
   "metadata": {},
   "outputs": [],
   "source": [
    "myreader = Reader(everest.frame.get_framepath(frameName, outputPath))"
   ]
  },
  {
   "cell_type": "code",
   "execution_count": 6,
   "metadata": {},
   "outputs": [
    {
     "data": {
      "text/plain": [
       "Scope({('iduufianu-eglouglaesku', '...'), ('efluapreostu-shaacape', '...'), ('ustukruifro-iskitweekwe', '...'), ('ushuigaifru-itrioquja', '...'), ('eshaiyooca-apleoputu', '...'), ('oyuukreikli-akwoefluexi', '...'), ('swiaphoedro-umuinupru', '...'), ('ofliosoeka-naucoode', '...'), ('eploiyeize-idreikwaespa', '...'), ('atiepheegli-ogailawe', '...'), ('yeigleigo-ibloasnietha', '...'), ('blaisfiibra-isfaadreva', '...')})"
      ]
     },
     "execution_count": 6,
     "metadata": {},
     "output_type": "execute_result"
    }
   ],
   "source": [
    "myreader[...]"
   ]
  },
  {
   "cell_type": "code",
   "execution_count": 7,
   "metadata": {},
   "outputs": [
    {
     "data": {
      "text/plain": [
       "{'blaisfiibra-isfaadreva/outs': array([[[ 1.14504766]],\n",
       " \n",
       "        [[ 1.36708162]],\n",
       " \n",
       "        [[ 1.65557935]],\n",
       " \n",
       "        [[ 2.01527082]],\n",
       " \n",
       "        [[ 2.44567066]],\n",
       " \n",
       "        [[ 2.93922513]],\n",
       " \n",
       "        [[ 3.48050198]],\n",
       " \n",
       "        [[ 4.04701355]],\n",
       " \n",
       "        [[ 4.61164654]]]),\n",
       " 'efluapreostu-shaacape/outs': array([[[ 1.05694203]],\n",
       " \n",
       "        [[ 1.13580597]],\n",
       " \n",
       "        [[ 1.22791705]],\n",
       " \n",
       "        [[ 1.33380131]],\n",
       " \n",
       "        [[ 1.4540461 ]],\n",
       " \n",
       "        [[ 1.58917742]],\n",
       " \n",
       "        [[ 1.73955353]],\n",
       " \n",
       "        [[ 1.9053237 ]],\n",
       " \n",
       "        [[ 2.08636153]]]),\n",
       " 'iduufianu-eglouglaesku/outs': array([[[ 1.12599009]],\n",
       " \n",
       "        [[ 1.31578457]],\n",
       " \n",
       "        [[ 1.55814858]],\n",
       " \n",
       "        [[ 1.85699349]],\n",
       " \n",
       "        [[ 2.21334323]],\n",
       " \n",
       "        [[ 2.6241319 ]],\n",
       " \n",
       "        [[ 3.08101173]],\n",
       " \n",
       "        [[ 3.57058223]],\n",
       " \n",
       "        [[ 4.07502029]]]),\n",
       " 'ofliosoeka-naucoode/outs': array([[[ 1.07050302]],\n",
       " \n",
       "        [[ 1.16968582]],\n",
       " \n",
       "        [[ 1.28770264]],\n",
       " \n",
       "        [[ 1.42559746]],\n",
       " \n",
       "        [[ 1.5843258 ]],\n",
       " \n",
       "        [[ 1.76457251]],\n",
       " \n",
       "        [[ 1.96656358]],\n",
       " \n",
       "        [[ 2.18994803]],\n",
       " \n",
       "        [[ 2.43367162]]]),\n",
       " 'ushuigaifru-itrioquja/outs': array([[[ 1.10744457]],\n",
       " \n",
       "        [[ 1.26657702]],\n",
       " \n",
       "        [[ 1.46597396]],\n",
       " \n",
       "        [[ 1.70854641]],\n",
       " \n",
       "        [[ 1.99585499]],\n",
       " \n",
       "        [[ 2.32729065]],\n",
       " \n",
       "        [[ 2.69935787]],\n",
       " \n",
       "        [[ 3.10527408]],\n",
       " \n",
       "        [[ 3.53484233]]])}"
      ]
     },
     "execution_count": 7,
     "metadata": {},
     "output_type": "execute_result"
    }
   ],
   "source": [
    "myreader['Nu']"
   ]
  },
  {
   "cell_type": "code",
   "execution_count": null,
   "metadata": {},
   "outputs": [],
   "source": []
  }
 ],
 "metadata": {
  "kernelspec": {
   "display_name": "Python 3",
   "language": "python",
   "name": "python3"
  },
  "language_info": {
   "codemirror_mode": {
    "name": "ipython",
    "version": 3
   },
   "file_extension": ".py",
   "mimetype": "text/x-python",
   "name": "python",
   "nbconvert_exporter": "python",
   "pygments_lexer": "ipython3",
   "version": "3.5.3"
  }
 },
 "nbformat": 4,
 "nbformat_minor": 2
}
