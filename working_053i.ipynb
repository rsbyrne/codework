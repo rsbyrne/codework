{
 "cells": [
  {
   "cell_type": "code",
   "execution_count": 1,
   "metadata": {},
   "outputs": [],
   "source": [
    "import sys\n",
    "workPath = '/home/jovyan/workspace'\n",
    "if not workPath in sys.path:\n",
    "    sys.path.append(workPath)"
   ]
  },
  {
   "cell_type": "code",
   "execution_count": 2,
   "metadata": {},
   "outputs": [],
   "source": [
    "import planetengine\n",
    "outputPath = planetengine.paths.make_testdir()\n",
    "from planetengine import quickShow\n",
    "from planetengine import functions as pfn"
   ]
  },
  {
   "cell_type": "code",
   "execution_count": 3,
   "metadata": {},
   "outputs": [
    {
     "name": "stdout",
     "output_type": "stream",
     "text": [
      "Fitted 1 variables to the figure.\n"
     ]
    }
   ],
   "source": [
    "system = planetengine.tests.testsystems.arrhenius(Ra = 1e7, res = 64, eta0 = 1e1)"
   ]
  },
  {
   "cell_type": "code",
   "execution_count": 4,
   "metadata": {},
   "outputs": [],
   "source": [
    "_var = pfn.convert(system.velocityField)\n",
    "# _var = fn.tensor.second_invariant(fn.tensor.symmetric(velocity.gradient()))\n",
    "_var = pfn.Component.ang(_var)\n",
    "_var = pfn.Gradient.ang(_var)\n",
    "_var = pfn.Surface.outer(_var)\n",
    "_var = pfn.Select(pfn.Quantiles.quintiles(_var), 5., _var)\n",
    "_var = pfn.HandleNaN.zeroes(_var)"
   ]
  },
  {
   "cell_type": "code",
   "execution_count": 5,
   "metadata": {},
   "outputs": [
    {
     "name": "stdout",
     "output_type": "stream",
     "text": [
      "0.021551766666865053\n"
     ]
    }
   ],
   "source": [
    "from underworld import function as fn\n",
    "def testfn():\n",
    "    symmetric = fn.tensor.symmetric(\n",
    "        system.velocityField.fn_gradient\n",
    "        )\n",
    "from timeit import timeit\n",
    "print(timeit(testfn, number = 3) / 3.)"
   ]
  },
  {
   "cell_type": "code",
   "execution_count": 6,
   "metadata": {},
   "outputs": [
    {
     "name": "stdout",
     "output_type": "stream",
     "text": [
      "0.04889306666700577\n"
     ]
    }
   ],
   "source": [
    "import underworld as uw\n",
    "def testfn():\n",
    "    myvar = _var\n",
    "    myfn = uw.utils.Integral(myvar, system.mesh)\n",
    "from timeit import timeit\n",
    "print(timeit(testfn, number = 3) / 3.)"
   ]
  },
  {
   "cell_type": "code",
   "execution_count": 7,
   "metadata": {},
   "outputs": [
    {
     "name": "stdout",
     "output_type": "stream",
     "text": [
      "0.18919596666637517\n"
     ]
    }
   ],
   "source": [
    "import underworld as uw\n",
    "def testfn():\n",
    "    myvar = pfn.HandleNaN.zeroes(_var)\n",
    "    myfn = uw.utils.Integral(myvar, system.mesh)\n",
    "from timeit import timeit\n",
    "print(timeit(testfn, number = 3) / 3.)"
   ]
  },
  {
   "cell_type": "code",
   "execution_count": 8,
   "metadata": {},
   "outputs": [
    {
     "name": "stdout",
     "output_type": "stream",
     "text": [
      "0.3309212999999242\n"
     ]
    }
   ],
   "source": [
    "import underworld as uw\n",
    "def testfn():\n",
    "    myfn = pfn.Integral(_var)\n",
    "from timeit import timeit\n",
    "print(timeit(testfn, number = 3) / 3.)"
   ]
  },
  {
   "cell_type": "code",
   "execution_count": null,
   "metadata": {},
   "outputs": [],
   "source": []
  }
 ],
 "metadata": {
  "kernelspec": {
   "display_name": "Python 3",
   "language": "python",
   "name": "python3"
  },
  "language_info": {
   "codemirror_mode": {
    "name": "ipython",
    "version": 3
   },
   "file_extension": ".py",
   "mimetype": "text/x-python",
   "name": "python",
   "nbconvert_exporter": "python",
   "pygments_lexer": "ipython3",
   "version": "3.5.3"
  }
 },
 "nbformat": 4,
 "nbformat_minor": 2
}
