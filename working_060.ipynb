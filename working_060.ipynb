{
 "cells": [
  {
   "cell_type": "code",
   "execution_count": null,
   "metadata": {},
   "outputs": [],
   "source": [
    "import sys\n",
    "workPath = '/home/jovyan/workspace'\n",
    "if not workPath in sys.path:\n",
    "    sys.path.append(workPath)"
   ]
  },
  {
   "cell_type": "code",
   "execution_count": null,
   "metadata": {},
   "outputs": [],
   "source": [
    "import os"
   ]
  },
  {
   "cell_type": "code",
   "execution_count": null,
   "metadata": {},
   "outputs": [],
   "source": [
    "import planetengine\n",
    "from planetengine import quickShow\n",
    "from planetengine import functions as pfn\n",
    "from planetengine import disk"
   ]
  },
  {
   "cell_type": "code",
   "execution_count": null,
   "metadata": {},
   "outputs": [],
   "source": [
    "system = planetengine.tests.testsystems.arrhenius()"
   ]
  },
  {
   "cell_type": "code",
   "execution_count": null,
   "metadata": {},
   "outputs": [],
   "source": [
    "testPath = planetengine.paths.make_testdir()"
   ]
  },
  {
   "cell_type": "code",
   "execution_count": null,
   "metadata": {
    "scrolled": true
   },
   "outputs": [],
   "source": [
    "with disk.expose('test', testPath, archive = True) as filemanager:\n",
    "    filemanager.save_module(system.script)\n",
    "    filemanager.save_json({'Hello': 'World'}, 'info')\n",
    "    filemanager.save_vars(system.varsOfState, 'vars')\n",
    "    filemanager.mkdir('testtar1')\n",
    "    disk.make_tar(os.path.join(filemanager.path, 'testtar1'))\n",
    "    filemanager.mkdir('testdir1')\n",
    "    filemanager.mkdir(os.path.join('testdir1', 'testtar2'))\n",
    "    disk.make_tar(os.path.join(os.path.join(filemanager.path, 'testdir1'), 'testtar2'))\n",
    "    filemanager.mkdir('testdir2')\n",
    "    filemanager.mkdir(os.path.join('testdir2', 'testtar3'))\n",
    "    filemanager.save_json({'Foo': 'Bar'}, 'subinfo', subPath = os.path.join('testdir2', 'testtar3'))\n",
    "    disk.make_tar(os.path.join(os.path.join(filemanager.path, 'testdir2'), 'testtar3'))\n",
    "    disk.make_tar(os.path.join(filemanager.path, 'testdir2'))\n",
    "\n",
    "with disk.expose('test', testPath) as filemanager:\n",
    "    mymodule = filemanager.load_module('arrhenius')\n",
    "    myjson = filemanager.load_json('info')\n",
    "    myjson2 = filemanager.load_json('subinfo', subPath = os.path.join('testdir2', 'testtar3'))\n",
    "    filemanager.mkdir('newdir')\n",
    "    myjson3 = filemanager.save_json([0, 1, 2, 3], 'newjson', subPath = os.path.join(filemanager.path, 'newdir'))\n",
    "    filemanager.load_vars(system.varsOfState, 'vars')\n",
    "\n",
    "with disk.expose('test', testPath) as filemanager:\n",
    "    filemanager.load_json('newjson', subPath = os.path.join(filemanager.path, 'newdir'))\n"
   ]
  },
  {
   "cell_type": "code",
   "execution_count": null,
   "metadata": {},
   "outputs": [],
   "source": [
    "disk.expose_tar(os.path.join(testPath, 'test'))"
   ]
  },
  {
   "cell_type": "code",
   "execution_count": null,
   "metadata": {
    "scrolled": true
   },
   "outputs": [],
   "source": [
    "with disk.expose('test', testPath, archive = False) as filemanager:\n",
    "    filemanager.load_json(None, subPath = os.path.join(filemanager.path, 'newdir'))"
   ]
  },
  {
   "cell_type": "code",
   "execution_count": null,
   "metadata": {},
   "outputs": [],
   "source": [
    "testPath = planetengine.paths.delete_testdir()"
   ]
  }
 ],
 "metadata": {
  "kernelspec": {
   "display_name": "Python 3",
   "language": "python",
   "name": "python3"
  },
  "language_info": {
   "codemirror_mode": {
    "name": "ipython",
    "version": 3
   },
   "file_extension": ".py",
   "mimetype": "text/x-python",
   "name": "python",
   "nbconvert_exporter": "python",
   "pygments_lexer": "ipython3",
   "version": "3.5.3"
  }
 },
 "nbformat": 4,
 "nbformat_minor": 2
}
