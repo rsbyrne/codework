{
 "cells": [
  {
   "cell_type": "code",
   "execution_count": 1,
   "metadata": {},
   "outputs": [],
   "source": [
    "import sys\n",
    "workPath = '/home/jovyan/workspace'\n",
    "if not workPath in sys.path:\n",
    "    sys.path.append(workPath)"
   ]
  },
  {
   "cell_type": "code",
   "execution_count": 2,
   "metadata": {},
   "outputs": [],
   "source": [
    "import os"
   ]
  },
  {
   "cell_type": "code",
   "execution_count": 3,
   "metadata": {},
   "outputs": [],
   "source": [
    "import planetengine\n",
    "from planetengine import quickShow\n",
    "from planetengine import functions as pfn\n",
    "from planetengine import disk"
   ]
  },
  {
   "cell_type": "code",
   "execution_count": 4,
   "metadata": {},
   "outputs": [],
   "source": [
    "system = planetengine.tests.testsystems.arrhenius()"
   ]
  },
  {
   "cell_type": "code",
   "execution_count": 10,
   "metadata": {},
   "outputs": [],
   "source": [
    "testPath = planetengine.paths.make_testdir()"
   ]
  },
  {
   "cell_type": "code",
   "execution_count": 11,
   "metadata": {
    "scrolled": true
   },
   "outputs": [
    {
     "name": "stdout",
     "output_type": "stream",
     "text": [
      "dir\n",
      "Exposing sub tars...\n",
      "Sub tars exposed.\n",
      "dir\n",
      "dir\n",
      "dir\n",
      "Saving substrate to disk: mesh\n",
      "Saving var to disk: temperatureField\n",
      "Archiving...\n",
      "Archived.\n",
      "Archiving...\n",
      "Archived.\n",
      "dir\n",
      "Archiving...\n",
      "Archived.\n",
      "Archiving...\n",
      "Archived.\n",
      "Archiving...\n",
      "Archived.\n",
      "Tar found - unarchiving...\n",
      "Unarchived.\n",
      "Exposing sub tars...\n",
      "Tar found - unarchiving...\n",
      "Unarchived.\n",
      "Exposing sub tars...\n",
      "Sub tars exposed.\n",
      "Tar found - unarchiving...\n",
      "Unarchived.\n",
      "Exposing sub tars...\n",
      "Tar found - unarchiving...\n",
      "Unarchived.\n",
      "Exposing sub tars...\n",
      "Sub tars exposed.\n",
      "Sub tars exposed.\n",
      "Exposing sub tars...\n",
      "Tar found - unarchiving...\n",
      "Unarchived.\n",
      "Exposing sub tars...\n",
      "Sub tars exposed.\n",
      "Sub tars exposed.\n",
      "Exposing sub tars...\n",
      "Sub tars exposed.\n",
      "Sub tars exposed.\n",
      "Archiving...\n",
      "Re-tarring exposed sub tars...\n",
      "Archiving...\n",
      "Archived.\n",
      "Archiving...\n",
      "Archived.\n",
      "Archiving...\n",
      "Archived.\n",
      "Archiving...\n",
      "Archived.\n",
      "Re-tarred exposed sub tars.\n",
      "Archived.\n",
      "Tar found - unarchiving...\n",
      "Unarchived.\n",
      "Exposing sub tars...\n",
      "Tar found - unarchiving...\n",
      "Unarchived.\n",
      "Exposing sub tars...\n",
      "Sub tars exposed.\n",
      "Tar found - unarchiving...\n",
      "Unarchived.\n",
      "Exposing sub tars...\n",
      "Tar found - unarchiving...\n",
      "Unarchived.\n",
      "Exposing sub tars...\n",
      "Sub tars exposed.\n",
      "Sub tars exposed.\n",
      "Exposing sub tars...\n",
      "Tar found - unarchiving...\n",
      "Unarchived.\n",
      "Exposing sub tars...\n",
      "Sub tars exposed.\n",
      "Sub tars exposed.\n",
      "Exposing sub tars...\n",
      "Sub tars exposed.\n",
      "Sub tars exposed.\n",
      "dir\n",
      "dir\n",
      "dir\n",
      "dir\n",
      "dir\n",
      "Loading substrate from disk: mesh\n",
      "Loading var from disk: temperatureField\n",
      "Re-tarring exposed sub tars...\n",
      "Archiving...\n",
      "Archived.\n",
      "Archiving...\n",
      "Archived.\n",
      "Archiving...\n",
      "Archived.\n",
      "Archiving...\n",
      "Archived.\n",
      "Re-tarred exposed sub tars.\n",
      "Archiving...\n",
      "Archived.\n",
      "Tar found - unarchiving...\n",
      "Unarchived.\n",
      "Exposing sub tars...\n",
      "Tar found - unarchiving...\n",
      "Unarchived.\n",
      "Exposing sub tars...\n",
      "Sub tars exposed.\n",
      "Tar found - unarchiving...\n",
      "Unarchived.\n",
      "Exposing sub tars...\n",
      "Tar found - unarchiving...\n",
      "Unarchived.\n",
      "Exposing sub tars...\n",
      "Sub tars exposed.\n",
      "Sub tars exposed.\n",
      "Exposing sub tars...\n",
      "Tar found - unarchiving...\n",
      "Unarchived.\n",
      "Exposing sub tars...\n",
      "Sub tars exposed.\n",
      "Sub tars exposed.\n",
      "Exposing sub tars...\n",
      "Sub tars exposed.\n",
      "Exposing sub tars...\n",
      "Sub tars exposed.\n",
      "Exposing sub tars...\n",
      "Sub tars exposed.\n",
      "Sub tars exposed.\n",
      "dir\n",
      "Re-tarring exposed sub tars...\n",
      "Archiving...\n",
      "Archived.\n",
      "Archiving...\n",
      "Archived.\n",
      "Archiving...\n",
      "Archived.\n",
      "Archiving...\n",
      "Archived.\n",
      "Re-tarred exposed sub tars.\n",
      "Archiving...\n",
      "Archived.\n"
     ]
    }
   ],
   "source": [
    "with disk.expose('test', testPath, archive = True) as filemanager:\n",
    "    filemanager.save_module(system.script)\n",
    "    filemanager.save_json({'Hello': 'World'}, 'info')\n",
    "    filemanager.save_vars(system.varsOfState, 'vars')\n",
    "    filemanager.mkdir('testtar1')\n",
    "    disk.make_tar(os.path.join(filemanager.path, 'testtar1'))\n",
    "    filemanager.mkdir('testdir1')\n",
    "    filemanager.mkdir(os.path.join('testdir1', 'testtar2'))\n",
    "    disk.make_tar(os.path.join(os.path.join(filemanager.path, 'testdir1'), 'testtar2'))\n",
    "    filemanager.mkdir('testdir2')\n",
    "    filemanager.mkdir(os.path.join('testdir2', 'testtar3'))\n",
    "    filemanager.save_json({'Foo': 'Bar'}, 'subinfo', subPath = os.path.join('testdir2', 'testtar3'))\n",
    "    disk.make_tar(os.path.join(os.path.join(filemanager.path, 'testdir2'), 'testtar3'))\n",
    "    disk.make_tar(os.path.join(filemanager.path, 'testdir2'))\n",
    "\n",
    "with disk.expose('test', testPath) as filemanager:\n",
    "    mymodule = filemanager.load_module('arrhenius')\n",
    "    myjson = filemanager.load_json('info')\n",
    "    myjson2 = filemanager.load_json('subinfo', subPath = os.path.join('testdir2', 'testtar3'))\n",
    "    filemanager.mkdir('newdir')\n",
    "    myjson3 = filemanager.save_json([0, 1, 2, 3], 'newjson', subPath = os.path.join(filemanager.path, 'newdir'))\n",
    "    filemanager.load_vars(system.varsOfState, 'vars')\n",
    "\n",
    "with disk.expose('test', testPath) as filemanager:\n",
    "    filemanager.load_json('newjson', subPath = os.path.join(filemanager.path, 'newdir'))\n"
   ]
  },
  {
   "cell_type": "code",
   "execution_count": null,
   "metadata": {},
   "outputs": [],
   "source": [
    "testPath = planetengine.paths.delete_testdir()"
   ]
  },
  {
   "cell_type": "code",
   "execution_count": 16,
   "metadata": {},
   "outputs": [
    {
     "data": {
      "text/plain": [
       "'def'"
      ]
     },
     "execution_count": 16,
     "metadata": {},
     "output_type": "execute_result"
    }
   ],
   "source": [
    "os.path.basename('123/abc/def')"
   ]
  },
  {
   "cell_type": "code",
   "execution_count": 15,
   "metadata": {},
   "outputs": [
    {
     "data": {
      "text/plain": [
       "'123/abc'"
      ]
     },
     "execution_count": 15,
     "metadata": {},
     "output_type": "execute_result"
    }
   ],
   "source": [
    "os.path.dirname('123/abc/def')"
   ]
  },
  {
   "cell_type": "code",
   "execution_count": 18,
   "metadata": {},
   "outputs": [
    {
     "name": "stdout",
     "output_type": "stream",
     "text": [
      "Help on function copytree in module shutil:\n",
      "\n",
      "copytree(src, dst, symlinks=False, ignore=None, copy_function=<function copy2 at 0x7fd4310eaa60>, ignore_dangling_symlinks=False)\n",
      "    Recursively copy a directory tree.\n",
      "    \n",
      "    The destination directory must not already exist.\n",
      "    If exception(s) occur, an Error is raised with a list of reasons.\n",
      "    \n",
      "    If the optional symlinks flag is true, symbolic links in the\n",
      "    source tree result in symbolic links in the destination tree; if\n",
      "    it is false, the contents of the files pointed to by symbolic\n",
      "    links are copied. If the file pointed by the symlink doesn't\n",
      "    exist, an exception will be added in the list of errors raised in\n",
      "    an Error exception at the end of the copy process.\n",
      "    \n",
      "    You can set the optional ignore_dangling_symlinks flag to true if you\n",
      "    want to silence this exception. Notice that this has no effect on\n",
      "    platforms that don't support os.symlink.\n",
      "    \n",
      "    The optional ignore argument is a callable. If given, it\n",
      "    is called with the `src` parameter, which is the directory\n",
      "    being visited by copytree(), and `names` which is the list of\n",
      "    `src` contents, as returned by os.listdir():\n",
      "    \n",
      "        callable(src, names) -> ignored_names\n",
      "    \n",
      "    Since copytree() is called recursively, the callable will be\n",
      "    called once for each directory that is copied. It returns a\n",
      "    list of names relative to the `src` directory that should\n",
      "    not be copied.\n",
      "    \n",
      "    The optional copy_function argument is a callable that will be used\n",
      "    to copy each file. It will be called with the source path and the\n",
      "    destination path as arguments. By default, copy2() is used, but any\n",
      "    function that supports the same signature (like copy()) can be used.\n",
      "\n"
     ]
    }
   ],
   "source": [
    "import shutil\n",
    "help(shutil.copytree)"
   ]
  },
  {
   "cell_type": "code",
   "execution_count": null,
   "metadata": {},
   "outputs": [],
   "source": []
  }
 ],
 "metadata": {
  "kernelspec": {
   "display_name": "Python 3",
   "language": "python",
   "name": "python3"
  },
  "language_info": {
   "codemirror_mode": {
    "name": "ipython",
    "version": 3
   },
   "file_extension": ".py",
   "mimetype": "text/x-python",
   "name": "python",
   "nbconvert_exporter": "python",
   "pygments_lexer": "ipython3",
   "version": "3.5.3"
  }
 },
 "nbformat": 4,
 "nbformat_minor": 2
}
