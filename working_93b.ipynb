{
 "cells": [
  {
   "cell_type": "code",
   "execution_count": 1,
   "metadata": {},
   "outputs": [],
   "source": [
    "import sys\n",
    "import os\n",
    "workPath = os.path.abspath('..')\n",
    "if not workPath in sys.path:\n",
    "    sys.path.append(workPath)"
   ]
  },
  {
   "cell_type": "code",
   "execution_count": 2,
   "metadata": {},
   "outputs": [],
   "source": []
  },
  {
   "cell_type": "code",
   "execution_count": 3,
   "metadata": {},
   "outputs": [],
   "source": [
    "class Space:\n",
    "    def __init__(self):\n",
    "        pass"
   ]
  },
  {
   "cell_type": "code",
   "execution_count": 4,
   "metadata": {},
   "outputs": [],
   "source": []
  },
  {
   "cell_type": "code",
   "execution_count": 14,
   "metadata": {},
   "outputs": [],
   "source": [
    "myset = set([1, 2])"
   ]
  },
  {
   "cell_type": "code",
   "execution_count": 15,
   "metadata": {},
   "outputs": [
    {
     "data": {
      "text/plain": [
       "{2}"
      ]
     },
     "execution_count": 15,
     "metadata": {},
     "output_type": "execute_result"
    }
   ],
   "source": [
    "myset.intersection(set([2, 3]))"
   ]
  },
  {
   "cell_type": "code",
   "execution_count": null,
   "metadata": {},
   "outputs": [],
   "source": [
    "sorted(set([1, 2]))"
   ]
  },
  {
   "cell_type": "code",
   "execution_count": null,
   "metadata": {},
   "outputs": [],
   "source": [
    "#         if any([x is None for x in [system, avec, bvec]]):\n",
    "#             raise TypeError\n",
    "#         if avec.inputs == bvec.inputs:\n",
    "#             raise UnderdefinedError\n",
    "#         self.commonkeys = sorted(set(avec.keys).intersect(set(bvec.keys)))\n",
    "#         if len(self.commonkeys) < 1:\n",
    "#             raise UnderdefinedError\n",
    "\n",
    "#         uncommonkeys = []\n",
    "#         uncommonkeys.extend([key for key in avec.keys if not key in bvec.keys])\n",
    "#         uncommonkeys.extend([key for key in bvec.keys if not key in avec.keys])\n",
    "#         self.uncommonkeys = sorted(uncommonkeys)\n",
    "\n",
    "#         self.keys = sorted([*avec.keys, *bvec.keys])"
   ]
  },
  {
   "cell_type": "code",
   "execution_count": 23,
   "metadata": {},
   "outputs": [],
   "source": [
    "aset = set([1, 2, 3])\n",
    "aset.symmetric_difference"
   ]
  },
  {
   "cell_type": "code",
   "execution_count": 24,
   "metadata": {},
   "outputs": [
    {
     "data": {
      "text/plain": [
       "{1, 2, 4, 5}"
      ]
     },
     "execution_count": 24,
     "metadata": {},
     "output_type": "execute_result"
    }
   ],
   "source": [
    "set.symmetric_difference(set([1, 2, 3]), set([3, 4, 5]))"
   ]
  },
  {
   "cell_type": "code",
   "execution_count": null,
   "metadata": {},
   "outputs": [],
   "source": [
    "\n",
    "#         uncommonkeys = sorted(\n",
    "#             set.symmetric_difference(\n",
    "#                 set(avec.keys),\n",
    "#                 set(bvec.keys)\n",
    "#                 )\n",
    "#             )\n",
    "\n",
    "        \n",
    "        \n",
    "#         allkeys = set([*avec.keys, *bvec.keys])\n",
    "#         pins = [*system.defaultInps.keys, *[key for key in ]\n",
    "\n",
    "\n",
    "#         self.mins = {key: min(avec[key], bvec[key]) for key in self.commonkeys}\n",
    "#         self.mins = {\n",
    "#             **system.defaultInps,\n",
    "#             **{key: min(avec[key], bvec[key]) for key in self.commonkeys}\n",
    "#             }\n",
    "#         self.maxs = {\n",
    "#             **system.defaultInps,\n",
    "#             **{key: min(avec[key], bvec[key]) for key in self.commonkeys}\n",
    "#             }\n",
    "#         self.varying = []\n",
    "#         for key in avec.keys:\n",
    "#             if key in bvec.keys:\n",
    "#                 if not avec[key] == bvec[key]:\n",
    "#                     self.varying.append(key)\n",
    "#         self.data = np.vstack([avec.data, bvec.data])\n",
    "#         self.system, self.avec, self.bvec = system, avec, bvec\n",
    "#         super().__init__(**kwargs)\n",
    "#     def _slice_vector(self, inVec):\n",
    "#         dict1 = {**self.avec.inputs, **inVec.inputs}\n",
    "#         dict2 = {**self.bvec.inputs, **inVec.inputs}\n",
    "#         if dict1 == dict2:\n",
    "#             return _slice_full_vector(inVec)\n",
    "#         else:\n",
    "#             return _slice_partial_vector(dict1, dict2)\n",
    "#     def _slice_full_vector(self, inVec):\n",
    "#         if not all([\n",
    "#                 self.mins[key] <= inVec[key] <= self.maxs[key] \\\n",
    "#                      for key in inVec.keys\n",
    "#                 ]):\n",
    "#             raise OutOfSpaceError\n",
    "#         if self.avec <= inVec <= self.bvec:\n",
    "#             return system[inVec]\n",
    "            \n",
    "#     def _slice_partial_vector(self, dict1, dict2):\n",
    "#         return self.__class__(\n",
    "#             system = self.system,\n",
    "#             avec = vector.build(**dict1),\n",
    "#             bvec = vector.build(**dict2)\n",
    "#             ) # UPDATE THIS!!! BUILD\n",
    "#     def __getitem__(self, arg):\n",
    "#         if isinstance(arg, vector.CLASS):\n",
    "#             if arg.keys == self.keys:\n",
    "#                 return self._slice_vector(arg)"
   ]
  },
  {
   "cell_type": "code",
   "execution_count": 30,
   "metadata": {},
   "outputs": [],
   "source": [
    "def all_dict(*inDicts):\n",
    "    outDict = dict()\n",
    "    for inDict in inDicts:\n",
    "        for key, val in inDict.items():\n",
    "            if not key in outDict:\n",
    "                outDict[key] = []\n",
    "            outDict[key].append(val)\n",
    "    for key, val in outDict.items():\n",
    "        if len(val) == 1:\n",
    "            newVal = val[0]\n",
    "        else:\n",
    "            newVal = sorted(set(val))\n",
    "        outDict[key] = newVal\n",
    "    return outDict"
   ]
  },
  {
   "cell_type": "code",
   "execution_count": 31,
   "metadata": {},
   "outputs": [
    {
     "data": {
      "text/plain": [
       "{'a': 1, 'b': [2, 3], 'c': [3, 4]}"
      ]
     },
     "execution_count": 31,
     "metadata": {},
     "output_type": "execute_result"
    }
   ],
   "source": [
    "all_dict({'a': 1, 'b': 2}, {'b': 2, 'c': 3}, {'b': 3, 'c': 4})"
   ]
  },
  {
   "cell_type": "code",
   "execution_count": 32,
   "metadata": {},
   "outputs": [
    {
     "data": {
      "text/plain": [
       "[1, 2]"
      ]
     },
     "execution_count": 32,
     "metadata": {},
     "output_type": "execute_result"
    }
   ],
   "source": [
    "list([1, 2])"
   ]
  },
  {
   "cell_type": "code",
   "execution_count": null,
   "metadata": {},
   "outputs": [],
   "source": [
    "mins, maxs = list(map(list, zip(*[\n",
    "    min(list(vals)), max(list(vals)) \\\n",
    "        for key, vals in sorted(allDict.items())\n",
    "    ])))"
   ]
  },
  {
   "cell_type": "code",
   "execution_count": 37,
   "metadata": {},
   "outputs": [
    {
     "data": {
      "text/plain": [
       "[[1, 3], [2, 4]]"
      ]
     },
     "execution_count": 37,
     "metadata": {},
     "output_type": "execute_result"
    }
   ],
   "source": [
    "list(map(list, zip(*[[1, 2], [3, 4]])))"
   ]
  },
  {
   "cell_type": "code",
   "execution_count": 168,
   "metadata": {},
   "outputs": [],
   "source": [
    "class HyperCube(Space):\n",
    "\n",
    "    def __init__(\n",
    "            self,\n",
    "            avec = None,\n",
    "            bvec = None,\n",
    "            **kwargs\n",
    "            ):\n",
    "\n",
    "        self.avec, self.bvec = avec, bvec\n",
    "        self.keys = sorted([*avec.keys, *bvec.keys])\n",
    "\n",
    "    def _slice_vector(self, inVec):\n",
    "        allkeys = sorted(set([*inVec.keys, *self.keys]))\n",
    "        a, b, c = [], [], []\n",
    "        for key in allkeys:\n",
    "            for sublist, obj in zip((a, b, c), (self.avec, self.bvec, inVec)):\n",
    "                if key in obj:\n",
    "                    sublist.append(obj[key])\n",
    "                else:\n",
    "                    sublist.append(None)\n",
    "        out1 = [None for i in allkeys]\n",
    "        out2 = [None for i in allkeys]\n",
    "        for index in range(len(allkeys)):\n",
    "            aval, bval, cval = a[index], b[index], c[index]\n",
    "            if cval is None:\n",
    "                if (not aval is None) and (not bval is None):\n",
    "                    out1[index], out2[index] = aval, bval\n",
    "                elif not aval is None:\n",
    "                    out1[index] = out2[index] = aval\n",
    "                elif not bval is None:\n",
    "                    out1[index] = out2[index] = bval\n",
    "            elif (not aval is None) and (not bval is None):\n",
    "                if min(aval, bval) <= cval <= max(aval, bval):\n",
    "                    out1[index] = out2[index] = cval\n",
    "                else:\n",
    "                    raise OutOfSpaceError\n",
    "            elif not aval is None:\n",
    "                if cval == aval:\n",
    "                    out1[index] = out2[index] = aval\n",
    "                else:\n",
    "                    raise OutOfSpaceError\n",
    "            elif not bval is None:\n",
    "                if cval == bval:\n",
    "                    out1[index] = out2[index] = bval\n",
    "                else:\n",
    "                    raise OutOfSpaceError\n",
    "            else:\n",
    "                out1[index] = out2[index] = cval\n",
    "        buildVecFn = inVec.__class__.build\n",
    "        if out1 == out2:\n",
    "            return buildVecFn(**dict(zip(allkeys, out1)))\n",
    "        else:\n",
    "            return self.__class__(\n",
    "                buildVecFn(**dict(zip(allkeys, out1))),\n",
    "                buildVecFn(**dict(zip(allkeys, out2)))\n",
    "                )\n",
    "\n",
    "    def __getitem__(self, arg):\n",
    "        return self._slice_vector(arg)\n",
    "        \n",
    "#         checks = []\n",
    "#         for key, val in inVec.inputs.items():\n",
    "#             if key in self.keys:\n",
    "#                 minVal, maxVal = dict(zip(keys, (mins, maxs)))[key]\n",
    "#                 if minVal <= val <= maxVal:\n",
    "#                     checks.append(True)\n",
    "            "
   ]
  },
  {
   "cell_type": "code",
   "execution_count": 169,
   "metadata": {},
   "outputs": [
    {
     "data": {
      "text/plain": [
       "<everest.builts._vector.Vector at 0x7fb69a5f1978>"
      ]
     },
     "execution_count": 169,
     "metadata": {},
     "output_type": "execute_result"
    }
   ],
   "source": [
    "from everest.builts import vector\n",
    "a = vector.build(foo = 2., bar = 20., baz = 7.)\n",
    "b = vector.build(foo = 3., bar = 30., qux = 8.)\n",
    "cube = HyperCube(avec = a, bvec = b)\n",
    "c = vector.build(foo = 2.5, bar = 25., quux = 9.)\n",
    "out = cube[c]\n",
    "out"
   ]
  },
  {
   "cell_type": "code",
   "execution_count": 171,
   "metadata": {},
   "outputs": [
    {
     "data": {
      "text/plain": [
       "<__main__.HyperCube at 0x7fb69a2a3630>"
      ]
     },
     "execution_count": 171,
     "metadata": {},
     "output_type": "execute_result"
    }
   ],
   "source": [
    "a = vector.build(foo = 2., bar = 20., baz = 7.)\n",
    "b = vector.build(foo = 3., bar = 30., qux = 8.)\n",
    "cube = HyperCube(avec = a, bvec = b)\n",
    "c = vector.build(quux = 9.)\n",
    "out = cube[c]\n",
    "out"
   ]
  },
  {
   "cell_type": "code",
   "execution_count": 9,
   "metadata": {},
   "outputs": [],
   "source": [
    "# import random\n",
    "# class MyIterable:\n",
    "#     def __iter__(self):\n",
    "#         return MyIterator()\n",
    "# class MyIterator:\n",
    "#     myiter = iter(range(100))\n",
    "#     def __next__(self):\n",
    "#         return next(self.myiter)"
   ]
  }
 ],
 "metadata": {
  "kernelspec": {
   "display_name": "Python 3",
   "language": "python",
   "name": "python3"
  },
  "language_info": {
   "codemirror_mode": {
    "name": "ipython",
    "version": 3
   },
   "file_extension": ".py",
   "mimetype": "text/x-python",
   "name": "python",
   "nbconvert_exporter": "python",
   "pygments_lexer": "ipython3",
   "version": "3.5.3"
  }
 },
 "nbformat": 4,
 "nbformat_minor": 2
}
