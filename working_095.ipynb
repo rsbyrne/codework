{
 "cells": [
  {
   "cell_type": "code",
   "execution_count": 1,
   "metadata": {},
   "outputs": [],
   "source": [
    "import sys\n",
    "import os\n",
    "workPath = os.path.abspath('..')\n",
    "if not workPath in sys.path:\n",
    "    sys.path.append(workPath)"
   ]
  },
  {
   "cell_type": "code",
   "execution_count": 2,
   "metadata": {},
   "outputs": [],
   "source": [
    "name = 'test'\n",
    "outputPath = '..'\n",
    "from everest import mpi\n",
    "import os\n",
    "fullpath = os.path.join(os.path.abspath(outputPath), name) + '.frm'\n",
    "if mpi.rank == 0:\n",
    "    if os.path.exists(fullpath):\n",
    "        os.remove(fullpath)\n",
    "from everest.builts import set_global_anchor\n",
    "set_global_anchor(name, outputPath)"
   ]
  },
  {
   "cell_type": "code",
   "execution_count": 3,
   "metadata": {},
   "outputs": [],
   "source": [
    "from everest.builts.container import Container\n",
    "from everest.builts.vector import Vector"
   ]
  },
  {
   "cell_type": "code",
   "execution_count": 4,
   "metadata": {},
   "outputs": [],
   "source": [
    "mycontainer = Container([Vector(n = n) for n in range(10)])"
   ]
  },
  {
   "cell_type": "code",
   "execution_count": 5,
   "metadata": {
    "scrolled": true
   },
   "outputs": [
    {
     "data": {
      "text/plain": [
       "{'iterable': [<everest.builts._vector.Vector at 0x7fe4db734470>,\n",
       "  <everest.builts._vector.Vector at 0x7fe50845d2e8>,\n",
       "  <everest.builts._vector.Vector at 0x7fe4db734588>,\n",
       "  <everest.builts._vector.Vector at 0x7fe4db734898>,\n",
       "  <everest.builts._vector.Vector at 0x7fe4db734a20>,\n",
       "  <everest.builts._vector.Vector at 0x7fe4db734be0>,\n",
       "  <everest.builts._vector.Vector at 0x7fe4db734d68>,\n",
       "  <everest.builts._vector.Vector at 0x7fe4db734f28>,\n",
       "  <everest.builts._vector.Vector at 0x7fe4db74f128>,\n",
       "  <everest.builts._vector.Vector at 0x7fe4db74f320>]}"
      ]
     },
     "execution_count": 5,
     "metadata": {},
     "output_type": "execute_result"
    }
   ],
   "source": [
    "mycontainer.inputs"
   ]
  },
  {
   "cell_type": "code",
   "execution_count": 6,
   "metadata": {
    "scrolled": true
   },
   "outputs": [
    {
     "name": "stdout",
     "output_type": "stream",
     "text": [
      "----------\n",
      "Ticket: <truesliukrii-toedrspuesn;1581075254.4979663>\n",
      "Out: [<truesliukrii-toedrspuesn;1581075254.4979663>]\n",
      "Returned: [<truesliukrii-toedrspuesn;1581075254.4979663>]\n",
      "Complete: [<truesliukrii-toedrspuesn;1581075254.4979663>]\n",
      "----------\n",
      "Ticket: <diusiirhui-eiwraasnuupr;1581075254.6424882>\n",
      "Out: [<diusiirhui-eiwraasnuupr;1581075254.6424882>]\n",
      "Returned: [<diusiirhui-eiwraasnuupr;1581075254.6424882>]\n",
      "Complete: [<truesliukrii-toedrspuesn;1581075254.4979663>, <diusiirhui-eiwraasnuupr;1581075254.6424882>]\n",
      "----------\n",
      "Ticket: <drauftwaik-psoizhphiem;1581075254.7793534>\n",
      "Out: [<drauftwaik-psoizhphiem;1581075254.7793534>]\n",
      "Returned: [<drauftwaik-psoizhphiem;1581075254.7793534>]\n",
      "Complete: [<truesliukrii-toedrspuesn;1581075254.4979663>, <diusiirhui-eiwraasnuupr;1581075254.6424882>, <drauftwaik-psoizhphiem;1581075254.7793534>]\n",
      "----------\n",
      "Ticket: <aungeefix-slaubluaglou;1581075254.915489>\n",
      "Out: [<aungeefix-slaubluaglou;1581075254.915489>]\n",
      "Returned: [<aungeefix-slaubluaglou;1581075254.915489>]\n",
      "Complete: [<truesliukrii-toedrspuesn;1581075254.4979663>, <diusiirhui-eiwraasnuupr;1581075254.6424882>, <drauftwaik-psoizhphiem;1581075254.7793534>, <aungeefix-slaubluaglou;1581075254.915489>]\n",
      "----------\n",
      "Ticket: <ploufyuil-fliaghgruisp;1581075255.0553946>\n",
      "Out: [<ploufyuil-fliaghgruisp;1581075255.0553946>]\n",
      "Returned: [<ploufyuil-fliaghgruisp;1581075255.0553946>]\n",
      "Complete: [<truesliukrii-toedrspuesn;1581075254.4979663>, <diusiirhui-eiwraasnuupr;1581075254.6424882>, <drauftwaik-psoizhphiem;1581075254.7793534>, <aungeefix-slaubluaglou;1581075254.915489>, <ploufyuil-fliaghgruisp;1581075255.0553946>]\n",
      "----------\n",
      "Ticket: <wreuswuuskiu-loangfraeq;1581075255.1945174>\n",
      "Out: [<wreuswuuskiu-loangfraeq;1581075255.1945174>]\n",
      "Returned: [<wreuswuuskiu-loangfraeq;1581075255.1945174>]\n",
      "Complete: [<truesliukrii-toedrspuesn;1581075254.4979663>, <diusiirhui-eiwraasnuupr;1581075254.6424882>, <drauftwaik-psoizhphiem;1581075254.7793534>, <aungeefix-slaubluaglou;1581075254.915489>, <ploufyuil-fliaghgruisp;1581075255.0553946>, <wreuswuuskiu-loangfraeq;1581075255.1945174>]\n",
      "----------\n",
      "Ticket: <klouqeiwruu-biefleosmue;1581075255.337926>\n",
      "Out: [<klouqeiwruu-biefleosmue;1581075255.337926>]\n",
      "Returned: [<klouqeiwruu-biefleosmue;1581075255.337926>]\n",
      "Complete: [<truesliukrii-toedrspuesn;1581075254.4979663>, <diusiirhui-eiwraasnuupr;1581075254.6424882>, <drauftwaik-psoizhphiem;1581075254.7793534>, <aungeefix-slaubluaglou;1581075254.915489>, <ploufyuil-fliaghgruisp;1581075255.0553946>, <wreuswuuskiu-loangfraeq;1581075255.1945174>, <klouqeiwruu-biefleosmue;1581075255.337926>]\n",
      "----------\n",
      "Ticket: <zhuosfhueps-scoabrpsosk;1581075255.4825866>\n",
      "Out: [<zhuosfhueps-scoabrpsosk;1581075255.4825866>]\n",
      "Returned: [<zhuosfhueps-scoabrpsosk;1581075255.4825866>]\n",
      "Complete: [<truesliukrii-toedrspuesn;1581075254.4979663>, <diusiirhui-eiwraasnuupr;1581075254.6424882>, <drauftwaik-psoizhphiem;1581075254.7793534>, <aungeefix-slaubluaglou;1581075254.915489>, <ploufyuil-fliaghgruisp;1581075255.0553946>, <wreuswuuskiu-loangfraeq;1581075255.1945174>, <klouqeiwruu-biefleosmue;1581075255.337926>, <zhuosfhueps-scoabrpsosk;1581075255.4825866>]\n",
      "----------\n",
      "Ticket: <faasmaobi-daaphduuk;1581075255.6354525>\n",
      "Out: [<faasmaobi-daaphduuk;1581075255.6354525>]\n",
      "Returned: [<faasmaobi-daaphduuk;1581075255.6354525>]\n",
      "Complete: [<truesliukrii-toedrspuesn;1581075254.4979663>, <diusiirhui-eiwraasnuupr;1581075254.6424882>, <drauftwaik-psoizhphiem;1581075254.7793534>, <aungeefix-slaubluaglou;1581075254.915489>, <ploufyuil-fliaghgruisp;1581075255.0553946>, <wreuswuuskiu-loangfraeq;1581075255.1945174>, <klouqeiwruu-biefleosmue;1581075255.337926>, <zhuosfhueps-scoabrpsosk;1581075255.4825866>, <faasmaobi-daaphduuk;1581075255.6354525>]\n",
      "----------\n",
      "Ticket: <sheawpoosl-tojeostoa;1581075255.782561>\n",
      "Out: [<sheawpoosl-tojeostoa;1581075255.782561>]\n",
      "Returned: [<sheawpoosl-tojeostoa;1581075255.782561>]\n",
      "Complete: [<truesliukrii-toedrspuesn;1581075254.4979663>, <diusiirhui-eiwraasnuupr;1581075254.6424882>, <drauftwaik-psoizhphiem;1581075254.7793534>, <aungeefix-slaubluaglou;1581075254.915489>, <ploufyuil-fliaghgruisp;1581075255.0553946>, <wreuswuuskiu-loangfraeq;1581075255.1945174>, <klouqeiwruu-biefleosmue;1581075255.337926>, <zhuosfhueps-scoabrpsosk;1581075255.4825866>, <faasmaobi-daaphduuk;1581075255.6354525>, <sheawpoosl-tojeostoa;1581075255.782561>]\n"
     ]
    }
   ],
   "source": [
    "mycontainer.initialise()\n",
    "for ticket in mycontainer:\n",
    "    print('-' * 10)\n",
    "    print('Ticket:', ticket)\n",
    "    print('Out:', mycontainer.reader[mycontainer.hashID, 'checkedOut'])\n",
    "    mycontainer.checkBack(ticket)\n",
    "    print('Returned:', mycontainer.reader[mycontainer.hashID, 'checkedBack'])\n",
    "    mycontainer.complete(ticket)\n",
    "    print('Complete:', mycontainer.reader[mycontainer.hashID, 'checkedComplete'])"
   ]
  },
  {
   "cell_type": "code",
   "execution_count": 7,
   "metadata": {},
   "outputs": [
    {
     "data": {
      "text/plain": [
       "[<truesliukrii-toedrspuesn;1581075254.4979663>,\n",
       " <diusiirhui-eiwraasnuupr;1581075254.6424882>,\n",
       " <drauftwaik-psoizhphiem;1581075254.7793534>,\n",
       " <aungeefix-slaubluaglou;1581075254.915489>,\n",
       " <ploufyuil-fliaghgruisp;1581075255.0553946>,\n",
       " <wreuswuuskiu-loangfraeq;1581075255.1945174>,\n",
       " <klouqeiwruu-biefleosmue;1581075255.337926>,\n",
       " <zhuosfhueps-scoabrpsosk;1581075255.4825866>,\n",
       " <faasmaobi-daaphduuk;1581075255.6354525>,\n",
       " <sheawpoosl-tojeostoa;1581075255.782561>]"
      ]
     },
     "execution_count": 7,
     "metadata": {},
     "output_type": "execute_result"
    }
   ],
   "source": [
    "mycontainer.checkedComplete"
   ]
  },
  {
   "cell_type": "code",
   "execution_count": 8,
   "metadata": {},
   "outputs": [
    {
     "data": {
      "text/plain": [
       "[]"
      ]
     },
     "execution_count": 8,
     "metadata": {},
     "output_type": "execute_result"
    }
   ],
   "source": [
    "mycontainer.reader[mycontainer.hashID, 'checkedOut']"
   ]
  },
  {
   "cell_type": "code",
   "execution_count": 9,
   "metadata": {},
   "outputs": [
    {
     "ename": "ValueError",
     "evalue": "list.remove(x): x not in list",
     "output_type": "error",
     "traceback": [
      "\u001b[0;31m---------------------------------------------------------------------------\u001b[0m",
      "\u001b[0;31mValueError\u001b[0m                                Traceback (most recent call last)",
      "\u001b[0;32m<ipython-input-9-79ddd9f58cce>\u001b[0m in \u001b[0;36m<module>\u001b[0;34m\u001b[0m\n\u001b[1;32m      1\u001b[0m \u001b[0mmylist\u001b[0m \u001b[0;34m=\u001b[0m \u001b[0;34m[\u001b[0m\u001b[0;36m1\u001b[0m\u001b[0;34m,\u001b[0m \u001b[0;36m2\u001b[0m\u001b[0;34m,\u001b[0m \u001b[0;36m3\u001b[0m\u001b[0;34m]\u001b[0m\u001b[0;34m\u001b[0m\u001b[0m\n\u001b[0;32m----> 2\u001b[0;31m \u001b[0mmylist\u001b[0m\u001b[0;34m.\u001b[0m\u001b[0mremove\u001b[0m\u001b[0;34m(\u001b[0m\u001b[0;32mNone\u001b[0m\u001b[0;34m)\u001b[0m\u001b[0;34m\u001b[0m\u001b[0m\n\u001b[0m",
      "\u001b[0;31mValueError\u001b[0m: list.remove(x): x not in list"
     ]
    }
   ],
   "source": [
    "mylist = [1, 2, 3]\n",
    "mylist.remove(None)"
   ]
  },
  {
   "cell_type": "code",
   "execution_count": null,
   "metadata": {},
   "outputs": [],
   "source": [
    "mycontainer.reader['fooboo']"
   ]
  },
  {
   "cell_type": "code",
   "execution_count": null,
   "metadata": {},
   "outputs": [],
   "source": []
  }
 ],
 "metadata": {
  "kernelspec": {
   "display_name": "Python 3",
   "language": "python",
   "name": "python3"
  },
  "language_info": {
   "codemirror_mode": {
    "name": "ipython",
    "version": 3
   },
   "file_extension": ".py",
   "mimetype": "text/x-python",
   "name": "python",
   "nbconvert_exporter": "python",
   "pygments_lexer": "ipython3",
   "version": "3.5.3"
  }
 },
 "nbformat": 4,
 "nbformat_minor": 2
}
