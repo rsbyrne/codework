{
 "cells": [
  {
   "cell_type": "code",
   "execution_count": 1,
   "metadata": {},
   "outputs": [],
   "source": [
    "import underworld as uw"
   ]
  },
  {
   "cell_type": "code",
   "execution_count": 2,
   "metadata": {},
   "outputs": [],
   "source": [
    "mymesh = uw.mesh.FeMesh_Cartesian()"
   ]
  },
  {
   "cell_type": "code",
   "execution_count": 3,
   "metadata": {},
   "outputs": [
    {
     "data": {
      "text/plain": [
       "<underworld.utils._utils.SavedFileData at 0x7fc230104400>"
      ]
     },
     "execution_count": 3,
     "metadata": {},
     "output_type": "execute_result"
    }
   ],
   "source": [
    "mymesh.save('testvar.h5')"
   ]
  },
  {
   "cell_type": "code",
   "execution_count": 4,
   "metadata": {},
   "outputs": [],
   "source": [
    "import h5py"
   ]
  },
  {
   "cell_type": "code",
   "execution_count": 6,
   "metadata": {},
   "outputs": [],
   "source": [
    "myfile = h5py.File('testvar.h5')"
   ]
  },
  {
   "cell_type": "code",
   "execution_count": 7,
   "metadata": {},
   "outputs": [
    {
     "data": {
      "text/plain": [
       "<KeysViewHDF5 ['en_map', 'vertices']>"
      ]
     },
     "execution_count": 7,
     "metadata": {},
     "output_type": "execute_result"
    }
   ],
   "source": [
    "myfile.keys()"
   ]
  },
  {
   "cell_type": "code",
   "execution_count": 8,
   "metadata": {},
   "outputs": [
    {
     "data": {
      "text/plain": [
       "<KeysViewHDF5 ['dimensions', 'elementType', 'max', 'mesh resolution', 'min', 'regular']>"
      ]
     },
     "execution_count": 8,
     "metadata": {},
     "output_type": "execute_result"
    }
   ],
   "source": [
    "myfile.attrs.keys()"
   ]
  },
  {
   "cell_type": "code",
   "execution_count": 11,
   "metadata": {},
   "outputs": [
    {
     "data": {
      "text/plain": [
       "array([[ 0.  ,  0.  ],\n",
       "       [ 0.25,  0.  ],\n",
       "       [ 0.5 ,  0.  ],\n",
       "       [ 0.75,  0.  ],\n",
       "       [ 1.  ,  0.  ],\n",
       "       [ 0.  ,  0.25],\n",
       "       [ 0.25,  0.25],\n",
       "       [ 0.5 ,  0.25],\n",
       "       [ 0.75,  0.25],\n",
       "       [ 1.  ,  0.25],\n",
       "       [ 0.  ,  0.5 ],\n",
       "       [ 0.25,  0.5 ],\n",
       "       [ 0.5 ,  0.5 ],\n",
       "       [ 0.75,  0.5 ],\n",
       "       [ 1.  ,  0.5 ],\n",
       "       [ 0.  ,  0.75],\n",
       "       [ 0.25,  0.75],\n",
       "       [ 0.5 ,  0.75],\n",
       "       [ 0.75,  0.75],\n",
       "       [ 1.  ,  0.75],\n",
       "       [ 0.  ,  1.  ],\n",
       "       [ 0.25,  1.  ],\n",
       "       [ 0.5 ,  1.  ],\n",
       "       [ 0.75,  1.  ],\n",
       "       [ 1.  ,  1.  ]])"
      ]
     },
     "execution_count": 11,
     "metadata": {},
     "output_type": "execute_result"
    }
   ],
   "source": [
    "myfile['vertices'][...]"
   ]
  },
  {
   "cell_type": "code",
   "execution_count": 12,
   "metadata": {},
   "outputs": [],
   "source": [
    "meshVariable = mymesh.add_variable(1)"
   ]
  },
  {
   "cell_type": "code",
   "execution_count": 13,
   "metadata": {},
   "outputs": [],
   "source": [
    "meshVariable.data[:] = 0.9"
   ]
  },
  {
   "cell_type": "code",
   "execution_count": 14,
   "metadata": {},
   "outputs": [
    {
     "data": {
      "text/plain": [
       "<underworld.utils._utils.SavedFileData at 0x7fc22b107940>"
      ]
     },
     "execution_count": 14,
     "metadata": {},
     "output_type": "execute_result"
    }
   ],
   "source": [
    "meshVariable.save('myvar.h5')"
   ]
  },
  {
   "cell_type": "code",
   "execution_count": 15,
   "metadata": {},
   "outputs": [],
   "source": [
    "myfile = h5py.File('myvar.h5')"
   ]
  },
  {
   "cell_type": "code",
   "execution_count": 20,
   "metadata": {},
   "outputs": [
    {
     "data": {
      "text/plain": [
       "array([[ 0.9],\n",
       "       [ 0.9],\n",
       "       [ 0.9],\n",
       "       [ 0.9],\n",
       "       [ 0.9],\n",
       "       [ 0.9],\n",
       "       [ 0.9],\n",
       "       [ 0.9],\n",
       "       [ 0.9],\n",
       "       [ 0.9],\n",
       "       [ 0.9],\n",
       "       [ 0.9],\n",
       "       [ 0.9],\n",
       "       [ 0.9],\n",
       "       [ 0.9],\n",
       "       [ 0.9],\n",
       "       [ 0.9],\n",
       "       [ 0.9],\n",
       "       [ 0.9],\n",
       "       [ 0.9],\n",
       "       [ 0.9],\n",
       "       [ 0.9],\n",
       "       [ 0.9],\n",
       "       [ 0.9],\n",
       "       [ 0.9]])"
      ]
     },
     "execution_count": 20,
     "metadata": {},
     "output_type": "execute_result"
    }
   ],
   "source": [
    "myfile['data'][...]"
   ]
  },
  {
   "cell_type": "code",
   "execution_count": null,
   "metadata": {},
   "outputs": [],
   "source": []
  },
  {
   "cell_type": "code",
   "execution_count": null,
   "metadata": {},
   "outputs": [],
   "source": []
  },
  {
   "cell_type": "code",
   "execution_count": 9,
   "metadata": {},
   "outputs": [
    {
     "data": {
      "text/plain": [
       "['_SPR',\n",
       " '_Stg_Class_Delete',\n",
       " '_Stg_Class_Unlock',\n",
       " '__abstractmethods__',\n",
       " '__class__',\n",
       " '__del__',\n",
       " '__delattr__',\n",
       " '__dict__',\n",
       " '__dir__',\n",
       " '__doc__',\n",
       " '__eq__',\n",
       " '__format__',\n",
       " '__ge__',\n",
       " '__getattribute__',\n",
       " '__gt__',\n",
       " '__hash__',\n",
       " '__init__',\n",
       " '__le__',\n",
       " '__lt__',\n",
       " '__module__',\n",
       " '__ne__',\n",
       " '__new__',\n",
       " '__reduce__',\n",
       " '__reduce_ex__',\n",
       " '__repr__',\n",
       " '__setattr__',\n",
       " '__signature__',\n",
       " '__sizeof__',\n",
       " '__str__',\n",
       " '__subclasshook__',\n",
       " '__weakref__',\n",
       " '_abc_cache',\n",
       " '_abc_negative_cache',\n",
       " '_abc_negative_cache_version',\n",
       " '_abc_registry',\n",
       " '_add_to_stg_dict',\n",
       " '_arr',\n",
       " '_cself',\n",
       " '_delSelf',\n",
       " '_dim',\n",
       " '_elementRes',\n",
       " '_elementType',\n",
       " '_elementTypes',\n",
       " '_gen',\n",
       " '_generator',\n",
       " '_get_iterator',\n",
       " '_id',\n",
       " '_maxCoord',\n",
       " '_mesh',\n",
       " '_meshGenerator',\n",
       " '_minCoord',\n",
       " '_minDx',\n",
       " '_objectsDict',\n",
       " '_objpointerDict',\n",
       " '_partitioned',\n",
       " '_periodic',\n",
       " '_post_deform_functions',\n",
       " '_pre_deform_functions',\n",
       " '_reset',\n",
       " '_secondaryMesh',\n",
       " '_selfObjectName',\n",
       " '_setup',\n",
       " '_setupDone',\n",
       " '_shadowDepth',\n",
       " '_specialSets',\n",
       " '_supportedElementTypes',\n",
       " '_typicalDx',\n",
       " 'add_post_deform_function',\n",
       " 'add_pre_deform_function',\n",
       " 'add_variable',\n",
       " 'data',\n",
       " 'data_elementNodes',\n",
       " 'data_elgId',\n",
       " 'data_nodegId',\n",
       " 'deform_mesh',\n",
       " 'dim',\n",
       " 'elementRes',\n",
       " 'elementType',\n",
       " 'elementsDomain',\n",
       " 'elementsGlobal',\n",
       " 'elementsLocal',\n",
       " 'generator',\n",
       " 'gradient_recovery',\n",
       " 'integrate',\n",
       " 'integrate_surface',\n",
       " 'load',\n",
       " 'maxCoord',\n",
       " 'minCoord',\n",
       " 'nodesDomain',\n",
       " 'nodesGlobal',\n",
       " 'nodesLocal',\n",
       " 'periodic',\n",
       " 'pystgclass__gen',\n",
       " 'pystgclass__mesh',\n",
       " 'reset',\n",
       " 'save',\n",
       " 'specialSets',\n",
       " 'subMesh']"
      ]
     },
     "execution_count": 9,
     "metadata": {},
     "output_type": "execute_result"
    }
   ],
   "source": [
    "dir(mymesh)"
   ]
  },
  {
   "cell_type": "code",
   "execution_count": null,
   "metadata": {},
   "outputs": [],
   "source": []
  }
 ],
 "metadata": {
  "kernelspec": {
   "display_name": "Python 3",
   "language": "python",
   "name": "python3"
  },
  "language_info": {
   "codemirror_mode": {
    "name": "ipython",
    "version": 3
   },
   "file_extension": ".py",
   "mimetype": "text/x-python",
   "name": "python",
   "nbconvert_exporter": "python",
   "pygments_lexer": "ipython3",
   "version": "3.5.3"
  }
 },
 "nbformat": 4,
 "nbformat_minor": 2
}
