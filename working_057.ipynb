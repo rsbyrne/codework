{
 "cells": [
  {
   "cell_type": "code",
   "execution_count": 1,
   "metadata": {},
   "outputs": [],
   "source": [
    "import sys\n",
    "workPath = '/home/jovyan/workspace'\n",
    "if not workPath in sys.path:\n",
    "    sys.path.append(workPath)"
   ]
  },
  {
   "cell_type": "code",
   "execution_count": 2,
   "metadata": {},
   "outputs": [],
   "source": [
    "import planetengine\n",
    "from planetengine import functions as pfn"
   ]
  },
  {
   "cell_type": "code",
   "execution_count": 3,
   "metadata": {},
   "outputs": [
    {
     "name": "stdout",
     "output_type": "stream",
     "text": [
      "Fitted 1 variables to the figure.\n",
      "Operation_uwop=pow\n",
      "0.017\n",
      "Region\n",
      "0.949\n",
      "Operation_uwop=multiply\n",
      "0.018\n",
      "Component_component=rad\n",
      "0.017\n",
      "Operation_uwop=log\n",
      "0.017\n",
      "Component_component=mag\n",
      "0.147\n",
      "HandleNaN\n",
      "0.103\n",
      "Operation_uwop=add\n",
      "0.047\n",
      "Operation_uwop=multiply\n",
      "0.019\n",
      "Quantiles_ntiles=3\n",
      "0.334\n",
      "Substitute\n",
      "0.128\n",
      "Binarise\n",
      "0.121\n",
      "Operation_uwop=multiply\n",
      "0.034\n",
      "Merge\n",
      "0.341\n",
      "Component_component=rad\n",
      "0.02\n",
      "Component_component=ang\n",
      "0.12\n",
      "Normalise\n",
      "0.172\n",
      "Clip_both=null\n",
      "0.139\n",
      "HandleNaN\n",
      "0.094\n",
      "Filter\n",
      "0.103\n",
      "Region\n",
      "0.953\n",
      "HandleNaN\n",
      "0.103\n",
      "Binarise\n",
      "0.1\n",
      "All together: \n",
      "4.095\n",
      "Fitted 1 variables to the figure.\n",
      "Binarise{HandleNaN{Region{Filter{HandleNaN{Clip_both=null{Normalise{Component_component=ang{Gradient{Projection{Component_component=rad{Merge{Operation_uwop=multiply{Split_column=0{Operation_uwop=multiply{Binarise{Substitute{Quantiles_ntiles=3{Operation_uwop=multiply{Operation_uwop=add{HandleNaN{Component_component=mag{Gradient{Projection{Operation_uwop=log{Component_component=rad{Operation_uwop=multiply{Region{Operation_uwop=pow{Variable_varName=temperature{};Constant_val=arr{[ 2.]}{}};Shape_varName=anon{}};Variable_varName=velocity{}}}}}}};Constant_val=arr{[ 0.]}{}};Constant_val=arr{[ 1.]}{}};Variable_varName=viscosity{}}};Constant_val=arr{[ 2.]}{};Constant_val=arr{[ 0.]}{}}};Variable_varName=velocity{}}};Constant_val=arr{[-1.]}{}};Operation_uwop=multiply{Split_column=1{Operation_uwop=multiply{Binarise{Substitute{Quantiles_ntiles=3{Operation_uwop=multiply{Operation_uwop=add{HandleNaN{Component_component=mag{Gradient{Projection{Operation_uwop=log{Component_component=rad{Operation_uwop=multiply{Region{Operation_uwop=pow{Variable_varName=temperature{};Constant_val=arr{[ 2.]}{}};Shape_varName=anon{}};Variable_varName=velocity{}}}}}}};Constant_val=arr{[ 0.]}{}};Constant_val=arr{[ 1.]}{}};Variable_varName=viscosity{}}};Constant_val=arr{[ 2.]}{};Constant_val=arr{[ 0.]}{}}};Variable_varName=velocity{}}};Constant_val=arr{[-1.]}{}}}}}}};Constant_val=arr{[ 1.  2.]}{}};Constant_val=arr{[ 1.2  1.8]}{}};Constant_val=arr{[ 1.6]}{}};Constant_val=arr{[ 1.6]}{}};Shape_varName=anon{}};Constant_val=arr{[ 0.]}{}}}\n"
     ]
    },
    {
     "data": {
      "text/html": [
       "<img src='data:image/png;base64,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'>"
      ],
      "text/plain": [
       "<IPython.core.display.HTML object>"
      ]
     },
     "metadata": {},
     "output_type": "display_data"
    },
    {
     "name": "stdout",
     "output_type": "stream",
     "text": [
      "\n",
      "- Binarise: ............................................ 0.317746\n",
      "-- HandleNaN: .......................................... 0.326004\n",
      "--- Region: ............................................ 0.331359\n",
      "---- Filter: ........................................... 0.338339\n",
      "----- HandleNaN: ....................................... 0.324008\n",
      "------ Clip_both=null: ................................. 0.321206\n",
      "------- Normalise: ..................................... 0.322498\n",
      "-------- Component_component=ang: ...................... 0.333323\n",
      "--------- Gradient: .................................... 0.322274\n",
      "---------- Projection: ................................. 0.327154\n",
      "----------- Component_component=rad: ................... 0.21453\n",
      "------------ Merge: .................................... 0.229816\n",
      "------------- Operation_uwop=multiply: ................. 0.172106\n",
      "-------------- Split_column=0: ......................... 0.180165\n",
      "--------------- Operation_uwop=multiply: ............... 0.131462\n",
      "---------------- Binarise: ............................. 0.132482\n",
      "----------------- Substitute: .......................... 0.130075\n",
      "------------------ Quantiles_ntiles=3: ................. 0.130441\n",
      "------------------- Operation_uwop=multiply: ........... 0.130085\n",
      "-------------------- Operation_uwop=add: ............... 0.12413\n",
      "--------------------- HandleNaN: ....................... 0.129129\n",
      "---------------------- Component_component=mag: ........ 0.125193\n",
      "----------------------- Gradient: ...................... 0.125338\n",
      "------------------------ Projection: ................... 0.129945\n",
      "------------------------- Operation_uwop=log: .......... 0.00121\n",
      "-------------------------- Component_component=rad: .... 0.000802\n",
      "--------------------------- Operation_uwop=multiply: ... 0.000913\n",
      "---------------------------- Region: ................... 0.000568\n",
      "----------------------------- Operation_uwop=pow: ...... 0.000544\n",
      "------------------------------ Variable_varName=temperature:  0.000471\n",
      "------------------------------ Constant_val=arr{[ 2.]}:  4.8e-05\n",
      "----------------------------- Shape_varName=anon: ...... 4.5e-05\n",
      "---------------------------- Variable_varName=velocity:  0.000409\n",
      "---------------------- Constant_val=arr{[ 0.]}: ........ 2.8e-05\n",
      "--------------------- Constant_val=arr{[ 1.]}: ......... 6.7e-05\n",
      "-------------------- Variable_varName=viscosity: ....... 0.000443\n",
      "------------------ Constant_val=arr{[ 2.]}: ............ 5.5e-05\n",
      "------------------ Constant_val=arr{[ 0.]}: ............ 4.5e-05\n",
      "---------------- Variable_varName=velocity: ............ 0.00048\n",
      "-------------- Constant_val=arr{[-1.]}: ................ 6.5e-05\n",
      "------------- Operation_uwop=multiply: ................. 0.182503\n",
      "-------------- Split_column=1: ......................... 0.177447\n",
      "--------------- Operation_uwop=multiply: ............... 0.135796\n",
      "---------------- Binarise: ............................. 0.13803\n",
      "----------------- Substitute: .......................... 0.137643\n",
      "------------------ Quantiles_ntiles=3: ................. 0.133008\n",
      "------------------- Operation_uwop=multiply: ........... 0.130077\n",
      "-------------------- Operation_uwop=add: ............... 0.123507\n",
      "--------------------- HandleNaN: ....................... 0.124884\n",
      "---------------------- Component_component=mag: ........ 0.127022\n",
      "----------------------- Gradient: ...................... 0.123756\n",
      "------------------------ Projection: ................... 0.123542\n",
      "------------------------- Operation_uwop=log: .......... 0.000918\n",
      "-------------------------- Component_component=rad: .... 0.000922\n",
      "--------------------------- Operation_uwop=multiply: ... 0.00097\n",
      "---------------------------- Region: ................... 0.000573\n",
      "----------------------------- Operation_uwop=pow: ...... 0.000424\n",
      "------------------------------ Variable_varName=temperature:  0.000442\n",
      "------------------------------ Constant_val=arr{[ 2.]}:  5.5e-05\n",
      "----------------------------- Shape_varName=anon: ...... 5.3e-05\n",
      "---------------------------- Variable_varName=velocity:  0.000451\n",
      "---------------------- Constant_val=arr{[ 0.]}: ........ 4e-05\n",
      "--------------------- Constant_val=arr{[ 1.]}: ......... 3.7e-05\n",
      "-------------------- Variable_varName=viscosity: ....... 0.000395\n",
      "------------------ Constant_val=arr{[ 2.]}: ............ 3.6e-05\n",
      "------------------ Constant_val=arr{[ 0.]}: ............ 4.4e-05\n",
      "---------------- Variable_varName=velocity: ............ 0.000481\n",
      "-------------- Constant_val=arr{[-1.]}: ................ 4.5e-05\n",
      "-------- Constant_val=arr{[ 1.  2.]}: .................. 5.3e-05\n",
      "------- Constant_val=arr{[ 1.2  1.8]}: ................. 3.9e-05\n",
      "------ Constant_val=arr{[ 1.6]}: ....................... 2.9e-05\n",
      "----- Constant_val=arr{[ 1.6]}: ........................ 5.5e-05\n",
      "---- Shape_varName=anon: ............................... 4.8e-05\n",
      "--- Constant_val=arr{[ 0.]}: ........................... 4.8e-05\n",
      "[[ 0.24288463]]\n",
      "[[ 0.24288463]]\n",
      "[[ 0.22602828]]\n",
      "[[ 0.22602828]]\n",
      "(2.69975, 0.00094, 2872.07447)\n"
     ]
    }
   ],
   "source": [
    "planetengine.tests.functionstest.testfn()"
   ]
  },
  {
   "cell_type": "code",
   "execution_count": 4,
   "metadata": {},
   "outputs": [
    {
     "name": "stdout",
     "output_type": "stream",
     "text": [
      "Fitted 1 variables to the figure.\n"
     ]
    }
   ],
   "source": [
    "system = planetengine.tests.testsystems.get_system()"
   ]
  },
  {
   "cell_type": "code",
   "execution_count": 8,
   "metadata": {},
   "outputs": [
    {
     "name": "stdout",
     "output_type": "stream",
     "text": [
      "Building new object...\n"
     ]
    }
   ],
   "source": [
    "myvar = pfn._construct(pfn.Quantiles, system.temperatureField)"
   ]
  },
  {
   "cell_type": "code",
   "execution_count": 9,
   "metadata": {},
   "outputs": [
    {
     "name": "stdout",
     "output_type": "stream",
     "text": [
      "Old object found - reusing.\n"
     ]
    }
   ],
   "source": [
    "myvar = pfn._construct(pfn.Quantiles, system.temperatureField)"
   ]
  }
 ],
 "metadata": {
  "kernelspec": {
   "display_name": "Python 3",
   "language": "python",
   "name": "python3"
  },
  "language_info": {
   "codemirror_mode": {
    "name": "ipython",
    "version": 3
   },
   "file_extension": ".py",
   "mimetype": "text/x-python",
   "name": "python",
   "nbconvert_exporter": "python",
   "pygments_lexer": "ipython3",
   "version": "3.5.3"
  }
 },
 "nbformat": 4,
 "nbformat_minor": 2
}
