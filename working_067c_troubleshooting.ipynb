{
 "cells": [
  {
   "cell_type": "code",
   "execution_count": 1,
   "metadata": {},
   "outputs": [],
   "source": [
    "import sys\n",
    "workPath = '/home/jovyan/workspace'\n",
    "if not workPath in sys.path:\n",
    "    sys.path.append(workPath)"
   ]
  },
  {
   "cell_type": "code",
   "execution_count": 2,
   "metadata": {},
   "outputs": [],
   "source": [
    "import planetengine\n",
    "testsystems = planetengine.tests.testsystems\n",
    "pfn = planetengine.functions\n",
    "quickShow = planetengine.quickShow"
   ]
  },
  {
   "cell_type": "code",
   "execution_count": 3,
   "metadata": {
    "scrolled": false
   },
   "outputs": [
    {
     "name": "stdout",
     "output_type": "stream",
     "text": [
      "Operation_uwop=pow\n",
      "0.015\n",
      "Region\n",
      "0.149\n",
      "Operation_uwop=multiply\n",
      "0.022\n",
      "Component_component=rad\n",
      "0.016\n",
      "Operation_uwop=log\n",
      "0.016\n",
      "HandleNaN\n",
      "0.077\n",
      "Binarise\n",
      "0.08\n",
      "Operation_uwop=add\n",
      "0.037\n",
      "Operation_uwop=multiply\n",
      "0.033\n",
      "Quantiles_ntiles=3\n",
      "0.282\n",
      "Substitute\n",
      "0.124\n",
      "Operation_uwop=multiply\n",
      "0.021\n",
      "Merge\n",
      "0.238\n",
      "Component_component=rad\n",
      "0.05\n",
      "Normalise\n",
      "0.205\n",
      "Clip_both=null\n",
      "0.118\n",
      "HandleNaN\n",
      "0.101\n",
      "Filter\n",
      "0.102\n",
      "Region\n",
      "0.142\n",
      "HandleNaN\n",
      "0.088\n",
      "Binarise\n",
      "0.09\n",
      "All together: \n",
      "2.007\n",
      "Binarise{HandleNaN{Region{Filter{HandleNaN{Clip_both=null{Normalise{Component_component=rad{Merge{Operation_uwop=multiply{Split_column=0{Operation_uwop=multiply{Substitute{Quantiles_ntiles=3{Operation_uwop=multiply{Operation_uwop=add{Binarise{HandleNaN{Operation_uwop=log{Component_component=rad{Operation_uwop=multiply{Region{Operation_uwop=pow{Variable_varName=temperature{};Constant_val=arr{[ 2.]}{}};Shape_varName=anon{}};Variable_varName=velocity{}}}};Constant_val=arr{[ 0.]}{}}};Constant_val=arr{[ 1.]}{}};Variable_varName=viscosity{}}};Constant_val=arr{[ 2.]}{};Constant_val=arr{[ 0.]}{}};Variable_varName=velocity{}}};Constant_val=arr{[-1.]}{}};Operation_uwop=multiply{Split_column=1{Operation_uwop=multiply{Substitute{Quantiles_ntiles=3{Operation_uwop=multiply{Operation_uwop=add{Binarise{HandleNaN{Operation_uwop=log{Component_component=rad{Operation_uwop=multiply{Region{Operation_uwop=pow{Variable_varName=temperature{};Constant_val=arr{[ 2.]}{}};Shape_varName=anon{}};Variable_varName=velocity{}}}};Constant_val=arr{[ 0.]}{}}};Constant_val=arr{[ 1.]}{}};Variable_varName=viscosity{}}};Constant_val=arr{[ 2.]}{};Constant_val=arr{[ 0.]}{}};Variable_varName=velocity{}}};Constant_val=arr{[-1.]}{}}}};Constant_val=arr{[ 1.  2.]}{}};Constant_val=arr{[ 1.2  1.8]}{}};Constant_val=arr{[ 1.6]}{}};Constant_val=arr{[ 1.6]}{}};Shape_varName=anon{}};Constant_val=arr{[ 0.]}{}}}\n"
     ]
    },
    {
     "data": {
      "text/html": [
       "<img src='data:image/png;base64,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'>"
      ],
      "text/plain": [
       "<IPython.core.display.HTML object>"
      ]
     },
     "metadata": {},
     "output_type": "display_data"
    },
    {
     "name": "stdout",
     "output_type": "stream",
     "text": [
      "\n",
      "- Binarise: ............................................ 0.092473\n",
      "-- HandleNaN: .......................................... 0.090195\n",
      "--- Region: ............................................ 0.093388\n",
      "---- Filter: ........................................... 0.08671\n",
      "----- HandleNaN: ....................................... 0.086124\n",
      "------ Clip_both=null: ................................. 0.1015\n",
      "------- Normalise: ..................................... 0.087129\n",
      "-------- Component_component=rad: ...................... 0.087542\n",
      "--------- Merge: ....................................... 0.094392\n",
      "---------- Operation_uwop=multiply: .................... 0.035019\n",
      "----------- Split_column=0: ............................ 0.035399\n",
      "------------ Operation_uwop=multiply: .................. 0.017313\n",
      "------------- Substitute: .............................. 0.018846\n",
      "-------------- Quantiles_ntiles=3: ..................... 0.017739\n",
      "--------------- Operation_uwop=multiply: ............... 0.01876\n",
      "---------------- Operation_uwop=add: ................... 0.011869\n",
      "----------------- Binarise: ............................ 0.011984\n",
      "------------------ HandleNaN: .......................... 0.01247\n",
      "------------------- Operation_uwop=log: ................ 0.015176\n",
      "-------------------- Component_component=rad: .......... 0.015507\n",
      "--------------------- Operation_uwop=multiply: ......... 0.012319\n",
      "---------------------- Region: ......................... 0.004625\n",
      "----------------------- Operation_uwop=pow: ............ 0.004578\n",
      "------------------------ Variable_varName=temperature: . 0.00444\n",
      "------------------------ Constant_val=arr{[ 2.]}: ...... 2.1e-05\n",
      "----------------------- Shape_varName=anon: ............ 2.2e-05\n",
      "---------------------- Variable_varName=velocity: ...... 0.008471\n",
      "------------------- Constant_val=arr{[ 0.]}: ........... 2e-05\n",
      "----------------- Constant_val=arr{[ 1.]}: ............. 2.1e-05\n",
      "---------------- Variable_varName=viscosity: ........... 0.004252\n",
      "-------------- Constant_val=arr{[ 2.]}: ................ 1.7e-05\n",
      "-------------- Constant_val=arr{[ 0.]}: ................ 1.9e-05\n",
      "------------- Variable_varName=velocity: ............... 0.007606\n",
      "----------- Constant_val=arr{[-1.]}: ................... 1.9e-05\n",
      "---------- Operation_uwop=multiply: .................... 0.037884\n",
      "----------- Split_column=1: ............................ 0.038437\n",
      "------------ Operation_uwop=multiply: .................. 0.017034\n",
      "------------- Substitute: .............................. 0.017968\n",
      "-------------- Quantiles_ntiles=3: ..................... 0.018242\n",
      "--------------- Operation_uwop=multiply: ............... 0.018035\n",
      "---------------- Operation_uwop=add: ................... 0.012135\n",
      "----------------- Binarise: ............................ 0.012408\n",
      "------------------ HandleNaN: .......................... 0.012281\n",
      "------------------- Operation_uwop=log: ................ 0.012144\n",
      "-------------------- Component_component=rad: .......... 0.013193\n",
      "--------------------- Operation_uwop=multiply: ......... 0.013765\n",
      "---------------------- Region: ......................... 0.004603\n",
      "----------------------- Operation_uwop=pow: ............ 0.004503\n",
      "------------------------ Variable_varName=temperature: . 0.004523\n",
      "------------------------ Constant_val=arr{[ 2.]}: ...... 1.9e-05\n",
      "----------------------- Shape_varName=anon: ............ 3.6e-05\n",
      "---------------------- Variable_varName=velocity: ...... 0.007423\n",
      "------------------- Constant_val=arr{[ 0.]}: ........... 4.8e-05\n",
      "----------------- Constant_val=arr{[ 1.]}: ............. 3.7e-05\n",
      "---------------- Variable_varName=viscosity: ........... 0.004265\n",
      "-------------- Constant_val=arr{[ 2.]}: ................ 2e-05\n",
      "-------------- Constant_val=arr{[ 0.]}: ................ 3.5e-05\n",
      "------------- Variable_varName=velocity: ............... 0.007528\n",
      "----------- Constant_val=arr{[-1.]}: ................... 2.1e-05\n",
      "-------- Constant_val=arr{[ 1.  2.]}: .................. 2.3e-05\n",
      "------- Constant_val=arr{[ 1.2  1.8]}: ................. 2e-05\n",
      "------ Constant_val=arr{[ 1.6]}: ....................... 2.1e-05\n",
      "----- Constant_val=arr{[ 1.6]}: ........................ 2e-05\n",
      "---- Shape_varName=anon: ............................... 2.3e-05\n",
      "--- Constant_val=arr{[ 0.]}: ........................... 1.9e-05\n",
      "[[ 0.30620471]]\n",
      "[[ 0.30620471]]\n",
      "[[ 0.30770631]]\n",
      "[[ 0.30770631]]\n",
      "(0.19103, 0.01787, 10.68998)\n"
     ]
    }
   ],
   "source": [
    "planetengine.tests.functionstest.testfn()"
   ]
  },
  {
   "cell_type": "code",
   "execution_count": null,
   "metadata": {},
   "outputs": [],
   "source": [
    "pfn.gradient(system.viscosityFn) ==> some_underworld_function"
   ]
  },
  {
   "cell_type": "code",
   "execution_count": null,
   "metadata": {
    "scrolled": false
   },
   "outputs": [],
   "source": [
    "# system = planetengine.tests.testsystems.arrhenius(res = 16, Ra = 1e4)\n",
    "\n",
    "# variable1 = pfn.convert(system.velocityField, 'velocity')\n",
    "# variable2 = pfn.convert(system.temperatureField, 'temperature')\n",
    "# constant = pfn.convert(2.)\n",
    "# shape = pfn.convert(np.array([[0.2, 0.1], [0.9, 0.3], [0.8, 0.7], [0.4, 0.9]]))\n",
    "# vanilla = pfn.convert(system.viscosityFn, 'viscosity')\n",
    "\n",
    "# var = variable2\n",
    "# var = var ** constant\n",
    "# var = pfn.region.default(var, shape)\n",
    "# var = var * variable1\n",
    "# var = pfn.component.rad(var)\n",
    "# var = pfn.operations.log(var)\n",
    "# var = pfn.gradient.mag(var)\n",
    "# var = pfn.handlenan.zeroes(var)\n",
    "# var = pfn.binarise.default(var)\n",
    "# var = var * vanilla\n",
    "# var = pfn.quantiles.terciles(var)\n",
    "# var = pfn.substitute.default(var, 2., 0.)\n",
    "# var = var * variable1\n",
    "# var = pfn.merge.default(*[\n",
    "#         compVar * -1. \\\n",
    "#             for compVar in pfn.split.getall(var)\n",
    "#         ])\n",
    "# var = pfn.component.rad(var)\n",
    "# var = pfn.gradient.ang(var)\n",
    "# var = pfn.normalise.default(var, [1., 2.])\n",
    "# var = pfn.clip.torange(var, [1.2, 1.8])\n",
    "# var = pfn.handlenan.default(var, 1.6)\n",
    "# var = pfn.filter.default(var, 1.6)\n",
    "# var = pfn.region.default(var, shape)\n",
    "# var = pfn.handlenan.zeroes(var)\n",
    "# var = pfn.binarise.default(var)\n",
    "\n",
    "# quickShow(var)"
   ]
  }
 ],
 "metadata": {
  "kernelspec": {
   "display_name": "Python 3",
   "language": "python",
   "name": "python3"
  },
  "language_info": {
   "codemirror_mode": {
    "name": "ipython",
    "version": 3
   },
   "file_extension": ".py",
   "mimetype": "text/x-python",
   "name": "python",
   "nbconvert_exporter": "python",
   "pygments_lexer": "ipython3",
   "version": "3.5.3"
  }
 },
 "nbformat": 4,
 "nbformat_minor": 2
}
